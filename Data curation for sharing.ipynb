{
 "cells": [
  {
   "cell_type": "code",
   "execution_count": 1,
   "id": "69adbb2b",
   "metadata": {},
   "outputs": [
    {
     "ename": "ModuleNotFoundError",
     "evalue": "No module named 'numpy'",
     "output_type": "error",
     "traceback": [
      "\u001b[1;31m---------------------------------------------------------------------------\u001b[0m",
      "\u001b[1;31mModuleNotFoundError\u001b[0m                       Traceback (most recent call last)",
      "Cell \u001b[1;32mIn[1], line 5\u001b[0m\n\u001b[0;32m      2\u001b[0m \u001b[38;5;28;01mfrom\u001b[39;00m \u001b[38;5;21;01mglob\u001b[39;00m \u001b[38;5;28;01mimport\u001b[39;00m glob\n\u001b[0;32m      3\u001b[0m \u001b[38;5;28;01mfrom\u001b[39;00m \u001b[38;5;21;01mpathlib\u001b[39;00m \u001b[38;5;28;01mimport\u001b[39;00m Path\n\u001b[1;32m----> 5\u001b[0m \u001b[38;5;28;01mimport\u001b[39;00m \u001b[38;5;21;01mnumpy\u001b[39;00m \u001b[38;5;28;01mas\u001b[39;00m \u001b[38;5;21;01mnp\u001b[39;00m\n\u001b[0;32m      6\u001b[0m \u001b[38;5;28;01mimport\u001b[39;00m \u001b[38;5;21;01mpandas\u001b[39;00m \u001b[38;5;28;01mas\u001b[39;00m \u001b[38;5;21;01mpd\u001b[39;00m\n",
      "\u001b[1;31mModuleNotFoundError\u001b[0m: No module named 'numpy'"
     ]
    }
   ],
   "source": [
    "import os\n",
    "from glob import glob\n",
    "from pathlib import Path\n",
    "\n",
    "import numpy as np\n",
    "import pandas as pd"
   ]
  },
  {
   "cell_type": "code",
   "execution_count": 2,
   "id": "d50247b6-3548-4498-bace-105b9b875f12",
   "metadata": {},
   "outputs": [],
   "source": [
    "a = 1"
   ]
  },
  {
   "cell_type": "code",
   "execution_count": 4,
   "id": "0a51b35a",
   "metadata": {},
   "outputs": [],
   "source": [
    "mother_path = Path('D:/Multi-modal project/')"
   ]
  },
  {
   "cell_type": "markdown",
   "id": "a939480c",
   "metadata": {},
   "source": [
    "### Data curation for ephys behavioral data"
   ]
  },
  {
   "cell_type": "code",
   "execution_count": 26,
   "id": "7c093ac6",
   "metadata": {},
   "outputs": [],
   "source": [
    "data_path = mother_path / 'analysis' / 'matlab' / 'behavior' / 'unimodal session' / 'overall performance'\n",
    "VA = pd.read_excel(data_path / 'multimodal.xlsx')\n",
    "V = pd.read_excel(data_path / 'visual only.xlsx')\n",
    "A = pd.read_excel(data_path / 'auditory only.xlsx')\n",
    "C = pd.read_excel(data_path / 'elemental visual.xlsx')\n",
    "\n",
    "data = [VA, V, A, C]"
   ]
  },
  {
   "cell_type": "code",
   "execution_count": 27,
   "id": "023c33a6",
   "metadata": {
    "scrolled": true
   },
   "outputs": [
    {
     "data": {
      "text/html": [
       "<div>\n",
       "<style scoped>\n",
       "    .dataframe tbody tr th:only-of-type {\n",
       "        vertical-align: middle;\n",
       "    }\n",
       "\n",
       "    .dataframe tbody tr th {\n",
       "        vertical-align: top;\n",
       "    }\n",
       "\n",
       "    .dataframe thead th {\n",
       "        text-align: right;\n",
       "    }\n",
       "</style>\n",
       "<table border=\"1\" class=\"dataframe\">\n",
       "  <thead>\n",
       "    <tr style=\"text-align: right;\">\n",
       "      <th></th>\n",
       "      <th>Unnamed: 0</th>\n",
       "      <th>session 1</th>\n",
       "      <th>session 2</th>\n",
       "      <th>session 3</th>\n",
       "      <th>session 4</th>\n",
       "      <th>session 5</th>\n",
       "      <th>session 6</th>\n",
       "    </tr>\n",
       "  </thead>\n",
       "  <tbody>\n",
       "    <tr>\n",
       "      <th>0</th>\n",
       "      <td>LE600</td>\n",
       "      <td>85</td>\n",
       "      <td>93</td>\n",
       "      <td>92</td>\n",
       "      <td>82</td>\n",
       "      <td>90</td>\n",
       "      <td>NaN</td>\n",
       "    </tr>\n",
       "    <tr>\n",
       "      <th>1</th>\n",
       "      <td>LE602</td>\n",
       "      <td>89</td>\n",
       "      <td>88</td>\n",
       "      <td>87</td>\n",
       "      <td>94</td>\n",
       "      <td>91</td>\n",
       "      <td>NaN</td>\n",
       "    </tr>\n",
       "    <tr>\n",
       "      <th>2</th>\n",
       "      <td>LE633</td>\n",
       "      <td>78</td>\n",
       "      <td>87</td>\n",
       "      <td>83</td>\n",
       "      <td>79</td>\n",
       "      <td>81</td>\n",
       "      <td>86.0</td>\n",
       "    </tr>\n",
       "    <tr>\n",
       "      <th>3</th>\n",
       "      <td>LE640</td>\n",
       "      <td>77</td>\n",
       "      <td>88</td>\n",
       "      <td>91</td>\n",
       "      <td>81</td>\n",
       "      <td>86</td>\n",
       "      <td>NaN</td>\n",
       "    </tr>\n",
       "    <tr>\n",
       "      <th>4</th>\n",
       "      <td>LE647</td>\n",
       "      <td>80</td>\n",
       "      <td>80</td>\n",
       "      <td>81</td>\n",
       "      <td>66</td>\n",
       "      <td>80</td>\n",
       "      <td>82.0</td>\n",
       "    </tr>\n",
       "    <tr>\n",
       "      <th>5</th>\n",
       "      <td>LE654</td>\n",
       "      <td>75</td>\n",
       "      <td>87</td>\n",
       "      <td>80</td>\n",
       "      <td>86</td>\n",
       "      <td>77</td>\n",
       "      <td>84.0</td>\n",
       "    </tr>\n",
       "    <tr>\n",
       "      <th>6</th>\n",
       "      <td>LE679</td>\n",
       "      <td>75</td>\n",
       "      <td>86</td>\n",
       "      <td>90</td>\n",
       "      <td>86</td>\n",
       "      <td>95</td>\n",
       "      <td>94.0</td>\n",
       "    </tr>\n",
       "    <tr>\n",
       "      <th>7</th>\n",
       "      <td>LE699</td>\n",
       "      <td>95</td>\n",
       "      <td>97</td>\n",
       "      <td>89</td>\n",
       "      <td>94</td>\n",
       "      <td>99</td>\n",
       "      <td>98.0</td>\n",
       "    </tr>\n",
       "  </tbody>\n",
       "</table>\n",
       "</div>"
      ],
      "text/plain": [
       "  Unnamed: 0  session 1  session 2  session 3  session 4  session 5  session 6\n",
       "0      LE600         85         93         92         82         90        NaN\n",
       "1      LE602         89         88         87         94         91        NaN\n",
       "2      LE633         78         87         83         79         81       86.0\n",
       "3      LE640         77         88         91         81         86        NaN\n",
       "4      LE647         80         80         81         66         80       82.0\n",
       "5      LE654         75         87         80         86         77       84.0\n",
       "6      LE679         75         86         90         86         95       94.0\n",
       "7      LE699         95         97         89         94         99       98.0"
      ]
     },
     "execution_count": 27,
     "metadata": {},
     "output_type": "execute_result"
    }
   ],
   "source": [
    "data[0]"
   ]
  },
  {
   "cell_type": "code",
   "execution_count": 34,
   "id": "5d454694",
   "metadata": {},
   "outputs": [],
   "source": [
    "result = []\n",
    "cond = ['Multimodal', 'Visual', 'Auditory', 'Control']\n",
    "ss = [5, 5, 6, 5, 6, 6, 6, 6]\n",
    "\n",
    "for r in range(8):\n",
    "    for s in range(ss[r]):    \n",
    "        for c in range(4):\n",
    "            this_cond = data[c]\n",
    "            this_result = {'RatID': f'rat{r+7}',\n",
    "                           'Cond': cond[c],\n",
    "                           'Session': s+1,\n",
    "                           'Correctness': this_cond.iloc[r,s+1]/100\n",
    "                          }\n",
    "            result.append(this_result)"
   ]
  },
  {
   "cell_type": "code",
   "execution_count": 35,
   "id": "3f2cce0a",
   "metadata": {},
   "outputs": [],
   "source": [
    "result = pd.DataFrame(result)\n",
    "\n",
    "result.to_csv(mother_path / 'Behavioral data (E-phys).csv')"
   ]
  },
  {
   "cell_type": "markdown",
   "id": "9ecc77ab",
   "metadata": {},
   "source": [
    "---"
   ]
  },
  {
   "cell_type": "markdown",
   "id": "3e45c43b",
   "metadata": {},
   "source": [
    "### Data curation for ephys neural data"
   ]
  },
  {
   "cell_type": "code",
   "execution_count": 58,
   "id": "c644bcd6",
   "metadata": {},
   "outputs": [],
   "source": [
    "cell_path = mother_path / 'analysis' / 'result' / 'zFR export' / '13-Jun-2023'\n",
    "cell_list = os.listdir(cell_path)\n",
    "\n",
    "save_path = mother_path / 'analysis' / 'result' / 'zFR export' / 'for sharing'"
   ]
  },
  {
   "cell_type": "code",
   "execution_count": 75,
   "id": "b270f952",
   "metadata": {},
   "outputs": [],
   "source": [
    "rat_list = ['600', '602', '633', '640', '647', '654', '679', '699']\n",
    "\n",
    "a = []\n",
    "for cell_num, cell_name in enumerate(cell_list):\n",
    "    # get information about the cell\n",
    "    cell_info = cell_name.split('-')\n",
    "    cell_id, rat_id, session_id, region = cell_info[0], cell_info[1], cell_info[2], cell_info[5]\n",
    "    bg = float(cell_info[8].replace(' mm)',''))\n",
    "    \n",
    "    if region == 'PER':\n",
    "        df = pd.read_csv(cell_path/cell_name)\n",
    "        \n",
    "        df.rename(columns={'Type': 'Condition'}, inplace=True)\n",
    "        df.loc[df['Condition']=='Elemental', 'Condition'] = 'Control'\n",
    "        \n",
    "        for i in range(90):\n",
    "            df.rename(columns={f'Var{i+10}':f'FR_bin{i+1}'},inplace=True)\n",
    "        \n",
    "        save_name = f'{cell_id}_rat{rat_list.index(rat_id)+7}_session{int(session_id)}_PER.csv'\n",
    "        df.to_csv(save_path / save_name, index=False)"
   ]
  }
 ],
 "metadata": {
  "kernelspec": {
   "display_name": "Python 3 (ipykernel)",
   "language": "python",
   "name": "python3"
  },
  "language_info": {
   "codemirror_mode": {
    "name": "ipython",
    "version": 3
   },
   "file_extension": ".py",
   "mimetype": "text/x-python",
   "name": "python",
   "nbconvert_exporter": "python",
   "pygments_lexer": "ipython3",
   "version": "3.11.5"
  }
 },
 "nbformat": 4,
 "nbformat_minor": 5
}
