{
 "cells": [
  {
   "cell_type": "markdown",
   "id": "d92cfef9",
   "metadata": {},
   "source": [
    "### Nose-poke failure and correctness\n",
    "To examine if rats were more likely to make correct choice if they sampled the same stimulus again after they failed to maintain nose-poke (incomplete sampling)."
   ]
  },
  {
   "cell_type": "code",
   "execution_count": 1,
   "id": "d61e7c81",
   "metadata": {},
   "outputs": [],
   "source": [
    "import os\n",
    "from pathlib import Path\n",
    "from glob import glob\n",
    "\n",
    "import numpy as np\n",
    "import pandas as pd\n",
    "\n",
    "from scipy import stats\n",
    "\n",
    "import pingouin as pg\n",
    "\n",
    "import matplotlib as mpl\n",
    "import matplotlib.pyplot as plt"
   ]
  },
  {
   "cell_type": "code",
   "execution_count": 2,
   "id": "3a6bc5b7",
   "metadata": {},
   "outputs": [],
   "source": [
    "mother_path = Path('D:/Multi-modal project/')\n",
    "rat_list = ['LE874', 'LE876', 'LE903', 'LE904', 'LE905', 'LE907']\n",
    "#rat_list = ['LE600', 'LE602', 'LE633', 'LE640', 'LE647', 'LE654', 'LE679', 'LE699']"
   ]
  },
  {
   "cell_type": "code",
   "execution_count": 151,
   "id": "a59fd2f8",
   "metadata": {},
   "outputs": [],
   "source": [
    "result = np.zeros((len(rat_list),4))\n",
    "for i,r in enumerate(rat_list):\n",
    "    pre_path = mother_path / 'behavior' / 'inactivation' / r / 'presurgical'\n",
    "    post_path = mother_path / 'behavior' / 'inactivation' / r / 'postsurgical'\n",
    "    \n",
    "    # pre-surgical sessions with above-criterion-performance\n",
    "    pre_list = glob(str(pre_path / '*_2 Pairs*.csv'))\n",
    "    # post-surgical sessions with above-criterion-performance\n",
    "    post_list = glob(str(post_path / '*_2 Pairs*.csv'))\n",
    "    # pre + post\n",
    "    bev_list = pre_list[-2:]+post_list[-2:]\n",
    "\n",
    "    for b in bev_list:\n",
    "        df = pd.read_csv(b)\n",
    "        \n",
    "        # trials with nose-poke failure\n",
    "        df_fail = df[df['NosepokeLatency']==0]\n",
    "        fail_trial = df_fail['Trial'].unique()\n",
    "        \n",
    "        for t in fail_trial:\n",
    "            # last trial with nose-poke failure\n",
    "            fail = df_fail.loc[df_fail['Trial']==t,:].iloc[-1]\n",
    "            fail_stim = str(fail['Visual'])+str(fail['Auditory'])\n",
    "            \n",
    "            # successful nose-poke trial\n",
    "            success = df.loc[df['Trial']==t,:].iloc[-1]\n",
    "            success_stim = str(success['Visual'])+str(success['Auditory'])\n",
    "    \n",
    "            if fail_stim == success_stim:    # stimuli were the same between nose-poke failure and success\n",
    "                result[i,0] += 1\n",
    "                if success['Correctness']==1:\n",
    "                    result[i,1] += 1\n",
    "            else:    # stimuli were different between nose-poke failure and success\n",
    "                result[i,2] += 1\n",
    "                if success['Correctness']==1:\n",
    "                    result[i,3] += 1"
   ]
  },
  {
   "cell_type": "code",
   "execution_count": 167,
   "id": "68e9f431",
   "metadata": {},
   "outputs": [
    {
     "data": {
      "text/plain": [
       "Text(0, 0.5, 'Trials')"
      ]
     },
     "execution_count": 167,
     "metadata": {},
     "output_type": "execute_result"
    },
    {
     "data": {
      "image/png": "[encoded data removed]",
      "text/plain": [
       "<Figure size 288x216 with 1 Axes>"
      ]
     },
     "metadata": {
      "needs_background": "light"
     },
     "output_type": "display_data"
    }
   ],
   "source": [
    "trial_mean = np.mean(result,axis=0)[[0,2]]\n",
    "trial_sem = stats.sem(result,axis=0)[[0,2]]\n",
    "\n",
    "x = ['Same', 'Different']\n",
    "fig,ax = plt.subplots(figsize=(4,3))\n",
    "ax.bar(x, trial_mean, yerr=trial_sem, color=['gray','white'], edgecolor='black')\n",
    "ax.set_yticks(np.arange(0,130,40));\n",
    "ax.set_ylabel('Trials')"
   ]
  },
  {
   "cell_type": "code",
   "execution_count": null,
   "id": "6f158853",
   "metadata": {},
   "outputs": [],
   "source": [
    "same_corr = (result[:,1]/result[:,0])*100\n",
    "diff_corr = (result[:,3]/result[:,2])*100\n",
    "\n",
    "corr_mean = [np.mean(same_corr), np.mean(diff_corr)]\n",
    "corr_sem = [stats.sem(same_corr), stats.sem(diff_corr)]\n",
    "\n",
    "x = ['Same', 'Different']\n",
    "fig,ax = plt.subplots(figsize=(4,3))\n",
    "ax.bar(x, corr_mean, yerr=corr_sem, color=['gray','white'], edgecolor='black')\n",
    "ax.set_yticks(np.arange(0,110,50));\n",
    "ax.set_ylabel('Correct %')"
   ]
  }
 ],
 "metadata": {
  "kernelspec": {
   "display_name": "Python 3 (ipykernel)",
   "language": "python",
   "name": "python3"
  },
  "language_info": {
   "codemirror_mode": {
    "name": "ipython",
    "version": 3
   },
   "file_extension": ".py",
   "mimetype": "text/x-python",
   "name": "python",
   "nbconvert_exporter": "python",
   "pygments_lexer": "ipython3",
   "version": "3.9.7"
  }
 },
 "nbformat": 4,
 "nbformat_minor": 5
}
