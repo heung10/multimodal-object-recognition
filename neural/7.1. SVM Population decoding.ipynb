{
 "cells": [
  {
   "cell_type": "markdown",
   "id": "c2d4f156",
   "metadata": {},
   "source": [
    "## SVM Population decoding\n",
    "Population decoding of the object identity and modality condition based on support vector machine.\n",
    "The purpose of this analysis is to see how much decoding performance improves when temporal information is added sequentially."
   ]
  },
  {
   "cell_type": "code",
   "execution_count": 47,
   "id": "6ef091ff",
   "metadata": {},
   "outputs": [],
   "source": [
    "import os\n",
    "from pathlib import Path\n",
    "import numpy as np\n",
    "import pandas as pd\n",
    "\n",
    "from scipy import stats\n",
    "import statsmodels.api as sm\n",
    "\n",
    "import pingouin as pg\n",
    "\n",
    "import matplotlib as mpl\n",
    "import matplotlib.pyplot as plt  \n",
    "\n",
    "from datetime import date\n",
    "import time\n",
    "\n",
    "from joblib import Parallel, delayed\n",
    "\n",
    "import h5py"
   ]
  },
  {
   "cell_type": "code",
   "execution_count": 48,
   "id": "a2efd57f",
   "metadata": {},
   "outputs": [],
   "source": [
    "# no top and right spines in all plots\n",
    "mpl.rcParams['axes.spines.right'] = False\n",
    "mpl.rcParams['axes.spines.top'] = False"
   ]
  },
  {
   "cell_type": "code",
   "execution_count": 49,
   "id": "75d558bd",
   "metadata": {},
   "outputs": [],
   "source": [
    "mother_path = Path('D:/Multi-modal project/')\n",
    "\n",
    "save_path = mother_path / 'analysis' / 'result' / '7. Population decoding'\n",
    "os.makedirs(save_path,exist_ok=True)\n",
    "\n",
    "fig_path = mother_path / 'analysis' / 'result' / 'figures'\n",
    "os.makedirs(fig_path,exist_ok=True)"
   ]
  },
  {
   "cell_type": "markdown",
   "id": "c9d779bc",
   "metadata": {},
   "source": [
    "### Parameter setting"
   ]
  },
  {
   "cell_type": "code",
   "execution_count": 50,
   "id": "80036cec",
   "metadata": {},
   "outputs": [],
   "source": [
    "# colors for multimodal, vis-only, aud-only conditions\n",
    "color = ['tab:purple','tab:blue','tab:red','tab:green']\n",
    "color2 = ['cyan','magenta','gray']\n",
    "linestyle = ['-',':']\n",
    "\n",
    "today = str(date.today())"
   ]
  },
  {
   "cell_type": "markdown",
   "id": "74ff06dc",
   "metadata": {},
   "source": [
    "### Data preparation"
   ]
  },
  {
   "cell_type": "code",
   "execution_count": 51,
   "id": "e42dba14",
   "metadata": {},
   "outputs": [],
   "source": [
    "cell_path = mother_path/'analysis'/'result'/'zFR export'/'13-Jun-2023'\n",
    "cell_list = os.listdir(cell_path)\n",
    "\n",
    "# load hdf5 files containing shuffled results\n",
    "data_path = mother_path /'analysis'/'result'/'3. ANOVA'/'2023-07-10'\n",
    "data2_path = mother_path /'analysis'/'result'/'3.1 Multiple linear regression'/'2023-07-10'\n",
    "f = h5py.File(data_path/'2023-07-10_ANOVA_result.hdf5','r')\n",
    "f2 = h5py.File(data2_path/'2023-07-10_multiple_regression_result.hdf5','r')"
   ]
  },
  {
   "cell_type": "code",
   "execution_count": 52,
   "id": "f0d3e2ba",
   "metadata": {},
   "outputs": [],
   "source": [
    "def h5_to_df(f):\n",
    "    keys = list(f.keys())\n",
    "    attributes = {}\n",
    "    \n",
    "    for key in keys:\n",
    "        attributes[key] = dict(f[key].attrs.items())\n",
    "    \n",
    "    df = pd.DataFrame.from_dict(attributes, orient='index')\n",
    "    df.index.name = 'key'\n",
    "    df = df.reset_index()\n",
    "    \n",
    "    return df"
   ]
  },
  {
   "cell_type": "code",
   "execution_count": 53,
   "id": "906bba68",
   "metadata": {},
   "outputs": [],
   "source": [
    "df = h5_to_df(f)\n",
    "df = df[df['region']=='PER']\n",
    "df.reset_index(inplace=True, drop=True)\n",
    "\n",
    "for key in df['key']:\n",
    "    if df.loc[df['key']==key, 'object cell'].item() == 0:\n",
    "        df.loc[df['key']==key, 'category'] = 'none'\n",
    "    else:\n",
    "        if f2[key].attrs['response cell'] == 0:\n",
    "            df.loc[df['key']==key, 'category'] = 'object'\n",
    "        else:\n",
    "            df.loc[df['key']==key, 'category'] = 'response'"
   ]
  },
  {
   "cell_type": "code",
   "execution_count": 54,
   "id": "704d6ab9",
   "metadata": {},
   "outputs": [],
   "source": [
    "df2 = pd.read_csv(mother_path/'analysis'/'result'/'5. Modality-specific object selectivity'/'2023-07-25_modality_specific.csv')"
   ]
  },
  {
   "cell_type": "markdown",
   "id": "e1a56520",
   "metadata": {},
   "source": [
    "### Check the number of neurons available for population analysis"
   ]
  },
  {
   "cell_type": "code",
   "execution_count": 55,
   "id": "c6f6aeaf",
   "metadata": {},
   "outputs": [
    {
     "name": "stdout",
     "output_type": "stream",
     "text": [
      "['600' '602' '640' '647' '654' '679' '699']\n"
     ]
    }
   ],
   "source": [
    "rat_list = np.sort(df['rat'].unique())\n",
    "print(rat_list)"
   ]
  },
  {
   "cell_type": "code",
   "execution_count": 56,
   "id": "ca52d6d8",
   "metadata": {},
   "outputs": [
    {
     "name": "stdout",
     "output_type": "stream",
     "text": [
      "===== Object cells + None =====\n",
      "[[ 8. 11.  3. 11.  7.  0.  0.]\n",
      " [26. 19. 28. 16. 16.  0.  0.]\n",
      " [10. 13.  9.  4.  5.  0.  0.]\n",
      " [ 0.  0.  0. 15. 10.  8.  4.]\n",
      " [ 7.  4.  0.  0.  1.  0.  0.]\n",
      " [ 0.  2.  2.  3.  0.  1.  0.]\n",
      " [ 9.  9. 16. 15. 17.  7.  0.]]\n"
     ]
    }
   ],
   "source": [
    "# none cell + object cell (response cell excluded)\n",
    "cell_array = np.zeros((len(rat_list),int(df['session'].max())))\n",
    "for i in range(len(df)):\n",
    "    rat = df.loc[i, 'rat']\n",
    "    rat_id = np.where(rat_list==rat)[0][0]\n",
    "    ss = int(df.loc[i, 'session'])\n",
    "    \n",
    "    if df.loc[i,'category'] != 'response':\n",
    "        cell_array[rat_id, ss-1] += 1\n",
    "\n",
    "print('===== Object cells + None =====')        \n",
    "print(cell_array)"
   ]
  },
  {
   "cell_type": "code",
   "execution_count": 57,
   "id": "e22bb33a",
   "metadata": {},
   "outputs": [
    {
     "name": "stdout",
     "output_type": "stream",
     "text": [
      "====== Only object cells ======\n",
      "[[ 5.  6.  2.  4.  5.  0.  0.]\n",
      " [15.  6. 10.  5.  8.  0.  0.]\n",
      " [ 7.  9.  4.  3.  3.  0.  0.]\n",
      " [ 0.  0.  0. 10.  4.  4.  4.]\n",
      " [ 3.  2.  0.  0.  1.  0.  0.]\n",
      " [ 0.  1.  0.  1.  0.  0.  0.]\n",
      " [ 4.  3.  6.  3.  8.  3.  0.]]\n"
     ]
    }
   ],
   "source": [
    "# only object cell (response cell, none cell excluded)\n",
    "cell_array = np.zeros((len(rat_list),int(df['session'].max())))\n",
    "for i in range(len(df)):\n",
    "    rat = df.loc[i, 'rat']\n",
    "    rat_id = np.where(rat_list==rat)[0][0]\n",
    "    ss = int(df.loc[i, 'session'])\n",
    "    \n",
    "    if df.loc[i,'category'] == 'object':\n",
    "        cell_array[rat_id, ss-1] += 1\n",
    "\n",
    "print('====== Only object cells ======')\n",
    "print(cell_array)"
   ]
  },
  {
   "cell_type": "code",
   "execution_count": 58,
   "id": "f6a7997b",
   "metadata": {},
   "outputs": [
    {
     "name": "stdout",
     "output_type": "stream",
     "text": [
      "# of object cells in each rat\n",
      "-----------------------------\n",
      "LE600: 22\n",
      "LE602: 44\n",
      "LE640: 26\n",
      "LE647: 22\n",
      "LE654: 6\n",
      "LE679: 2\n",
      "LE699: 27\n"
     ]
    }
   ],
   "source": [
    "num_obj = np.sum(cell_array,axis=1)\n",
    "print('# of object cells in each rat')\n",
    "print('-----------------------------')\n",
    "for i in range(len(rat_list)):\n",
    "    print(f'LE{rat_list[i]}: {int(num_obj[i])}')"
   ]
  },
  {
   "cell_type": "code",
   "execution_count": 59,
   "id": "3b8103c2",
   "metadata": {},
   "outputs": [
    {
     "name": "stdout",
     "output_type": "stream",
     "text": [
      "# of visual / auditory / unbiased cells in each rat\n",
      "---------------------------------------------------\n",
      "LE600: 3 / 2 / 17\n",
      "LE602: 10 / 5 / 29\n",
      "LE640: 3 / 6 / 17\n",
      "LE647: 2 / 12 / 8\n",
      "LE654: 0 / 0 / 6\n",
      "LE679: 0 / 0 / 2\n",
      "LE699: 3 / 2 / 22\n"
     ]
    }
   ],
   "source": [
    "# visual / auditory / unbiased cell\n",
    "visual_array = np.zeros((len(rat_list),int(df['session'].max())))\n",
    "auditory_array = np.zeros((len(rat_list),int(df['session'].max())))\n",
    "unbiased_array = np.zeros((len(rat_list),int(df['session'].max())))\n",
    "\n",
    "for i in range(len(df2)):\n",
    "    rat = str(df2.loc[i, 'rat'])\n",
    "    rat_id = np.where(rat_list==rat)[0][0]\n",
    "    ss = int(df2.loc[i, 'session'])\n",
    "\n",
    "    if df2.loc[i,'Category'] == 'visual':\n",
    "        visual_array[rat_id, ss-1] += 1\n",
    "    elif df2.loc[i,'Category'] == 'auditory':\n",
    "        auditory_array[rat_id, ss-1] += 1\n",
    "    elif df2.loc[i,'Category'] == 'unbiased':\n",
    "        unbiased_array[rat_id, ss-1] += 1        \n",
    "\n",
    "num_visual = np.sum(visual_array,axis=1)\n",
    "num_auditory = np.sum(auditory_array,axis=1)\n",
    "num_unbiased = np.sum(unbiased_array,axis=1)\n",
    "print('# of visual / auditory / unbiased cells in each rat')\n",
    "print('---------------------------------------------------')\n",
    "for i in range(len(rat_list)):\n",
    "    print(f'LE{rat_list[i]}: {int(num_visual[i])} / {int(num_auditory[i])} / {int(num_unbiased[i])}')"
   ]
  },
  {
   "cell_type": "markdown",
   "id": "93d1dad1",
   "metadata": {},
   "source": [
    "---"
   ]
  },
  {
   "cell_type": "markdown",
   "id": "e201440f",
   "metadata": {},
   "source": [
    "## Population decoding"
   ]
  },
  {
   "cell_type": "code",
   "execution_count": 60,
   "id": "48433d57",
   "metadata": {},
   "outputs": [],
   "source": [
    "from sklearn import svm\n",
    "from sklearn import metrics\n",
    "from sklearn.model_selection import StratifiedKFold\n",
    "from sklearn.model_selection import cross_val_score, cross_validate\n",
    "from sklearn.preprocessing import MinMaxScaler\n",
    "from sklearn.preprocessing import StandardScaler\n",
    "from sklearn.pipeline import Pipeline\n",
    "from sklearn.model_selection import GridSearchCV"
   ]
  },
  {
   "cell_type": "markdown",
   "id": "302dfffa",
   "metadata": {},
   "source": [
    "### Object / modality decoding using all object cells\n",
    "Object and modality conditions (2 by 3) were classified using support vector machine.\n",
    "All object cells are used in this analysis.\n",
    "We verified if the decoding performance increased as the temporal information gradually added."
   ]
  },
  {
   "cell_type": "code",
   "execution_count": 61,
   "id": "5bf72879",
   "metadata": {},
   "outputs": [],
   "source": [
    "def subsample(df, rat, num_trial, bin_size, time_bin, shuffle):\n",
    "    scaler = StandardScaler()\n",
    "    \n",
    "    num_bin = int(90/bin_size)\n",
    "    object_cell_list = df.loc[(df['rat']==rat)&(df['category']=='object'),'key'].to_numpy()\n",
    "    \n",
    "    # M by N array of subsampled firing rates\n",
    "    # M = stimulus condition * number of subsampled trials\n",
    "    # N = number of cells * number of time bins\n",
    "    X = np.zeros((6*num_trial, len(object_cell_list)*time_bin))\n",
    "    \n",
    "    for i,cell_key in enumerate(object_cell_list):\n",
    "    \n",
    "        # load trial-by-trial firing rate data of a cell\n",
    "        key = cell_key.zfill(4)\n",
    "        cell_filename = list(cell_path.glob(f'{key}*.csv'))\n",
    "        df_cell = pd.read_csv(cell_filename[0])\n",
    "        df_cell.drop(df_cell[df_cell.Correctness==0].index,inplace=True)\n",
    "        df_cell.reset_index(inplace=True,drop=True)\n",
    "        \n",
    "        # goal location (left or right) of each object condition\n",
    "        boy_goal = df_cell.loc[df_cell['Visual']=='Boy','RWD_Loc'].values[0]\n",
    "        egg_goal = df_cell.loc[df_cell['Visual']=='Egg','RWD_Loc'].values[0]\n",
    "        \n",
    "        # shuffling stimulus condition for permutation test\n",
    "        if shuffle:\n",
    "            cond_array = df_cell[['Type','RWD_Loc']].to_numpy()\n",
    "            shuffled_cond_array = np.random.permutation(cond_array)\n",
    "            df_cell[['Type','RWD_Loc']] = shuffled_cond_array\n",
    "\n",
    "        # stimulus condition (identity x modality)\n",
    "        cond = [(df_cell['Type']=='Multimodal')&(df_cell['RWD_Loc']==boy_goal),\n",
    "                (df_cell['Type']=='Visual')&(df_cell['RWD_Loc']==boy_goal),\n",
    "                (df_cell['Type']=='Auditory')&(df_cell['RWD_Loc']==boy_goal),\n",
    "                (df_cell['Type']=='Multimodal')&(df_cell['RWD_Loc']==egg_goal),\n",
    "                (df_cell['Type']=='Visual')&(df_cell['RWD_Loc']==egg_goal),\n",
    "                (df_cell['Type']=='Auditory')&(df_cell['RWD_Loc']==egg_goal)]\n",
    "\n",
    "        fr_id = df_cell.columns.get_loc('Var10')  # get the index of the first firing rate column\n",
    "        FR = df_cell.iloc[:,fr_id:].to_numpy()    # convert firing rate data to numpy array\n",
    "    \n",
    "        # recalculate mean firing rates of each time bin\n",
    "        FR_bin = np.zeros((len(df_cell),time_bin))\n",
    "        for b in range(time_bin):\n",
    "            FR_bin[:,b] = FR[:,b*time_bin:(b+1)*time_bin].mean(axis=1)\n",
    "\n",
    "        for c in range(len(cond)):\n",
    "            # subsample n trials from each stimulus condition\n",
    "            subsampled_trial = df_cell[cond[c]].sample(num_trial).index\n",
    "            # firing rates of subsampled trials\n",
    "            FR_sub = FR_bin[subsampled_trial,:]\n",
    "            # add subsampled firing rate data to the result array\n",
    "            X[num_trial*c:num_trial*(c+1), time_bin*i:time_bin*(i+1)] = FR_sub\n",
    "    \n",
    "    X_norm = scaler.fit_transform(X)\n",
    "\n",
    "    return X_norm"
   ]
  },
  {
   "cell_type": "code",
   "execution_count": 62,
   "id": "fda282fe",
   "metadata": {},
   "outputs": [],
   "source": [
    "def subsample_cross_val_predict(df, model, rat, kfold, num_trial, bin_size, time_bin, shuffle):\n",
    "    result = np.zeros((6,6))\n",
    "       \n",
    "    X = subsample(df, rat, num_trial, bin_size, time_bin, shuffle)\n",
    "    Y = np.repeat(np.arange(6), 5)\n",
    "    \n",
    "    skf = StratifiedKFold(n_splits=kfold, shuffle=True)\n",
    "    for (train_index, test_index) in skf.split(X, Y):\n",
    "        model.fit(X[train_index,:],Y[train_index])\n",
    "        pred = model.predict(X[test_index,:])\n",
    "        for j in range(6):\n",
    "            result[j,pred[j]] += 1\n",
    "\n",
    "    return result"
   ]
  },
  {
   "cell_type": "markdown",
   "id": "c2a81b1f",
   "metadata": {},
   "source": [
    "#### Parameter setup"
   ]
  },
  {
   "cell_type": "code",
   "execution_count": 63,
   "id": "18650b18",
   "metadata": {},
   "outputs": [],
   "source": [
    "final_model = svm.SVC(kernel='linear', C=0.01)\n",
    "kfold = 5\n",
    "num_trial = 5\n",
    "bin_size = 10\n",
    "num_iter = 100\n",
    "rat_list = ['600', '602', '640', '647', '699']"
   ]
  },
  {
   "cell_type": "markdown",
   "id": "2629d62f",
   "metadata": {},
   "source": [
    "#### Real data"
   ]
  },
  {
   "cell_type": "code",
   "execution_count": 20,
   "id": "606316bc",
   "metadata": {},
   "outputs": [
    {
     "name": "stdout",
     "output_type": "stream",
     "text": [
      "LE600 completed /// Elapsed time: 0 min 12.11 sec\n",
      "LE602 completed /// Elapsed time: 0 min 3.84 sec\n",
      "LE640 completed /// Elapsed time: 0 min 2.40 sec\n",
      "LE647 completed /// Elapsed time: 0 min 2.09 sec\n",
      "LE699 completed /// Elapsed time: 0 min 2.36 sec\n",
      "---------------------------------------------------\n",
      "1 timebin completed / Elapsed time: 0 min 26.76 sec\n",
      "===================================================\n",
      "\n",
      "LE600 completed /// Elapsed time: 0 min 1.91 sec\n",
      "LE602 completed /// Elapsed time: 0 min 3.76 sec\n",
      "LE640 completed /// Elapsed time: 0 min 2.36 sec\n",
      "LE647 completed /// Elapsed time: 0 min 2.06 sec\n",
      "LE699 completed /// Elapsed time: 0 min 2.38 sec\n",
      "---------------------------------------------------\n",
      "2 timebin completed / Elapsed time: 0 min 12.48 sec\n",
      "===================================================\n",
      "\n",
      "LE600 completed /// Elapsed time: 0 min 1.88 sec\n",
      "LE602 completed /// Elapsed time: 0 min 3.84 sec\n",
      "LE640 completed /// Elapsed time: 0 min 2.37 sec\n",
      "LE647 completed /// Elapsed time: 0 min 2.06 sec\n",
      "LE699 completed /// Elapsed time: 0 min 2.38 sec\n",
      "---------------------------------------------------\n",
      "3 timebin completed / Elapsed time: 0 min 12.53 sec\n",
      "===================================================\n",
      "\n",
      "LE600 completed /// Elapsed time: 0 min 1.92 sec\n",
      "LE602 completed /// Elapsed time: 0 min 3.75 sec\n",
      "LE640 completed /// Elapsed time: 0 min 2.46 sec\n",
      "LE647 completed /// Elapsed time: 0 min 2.12 sec\n",
      "LE699 completed /// Elapsed time: 0 min 2.33 sec\n",
      "---------------------------------------------------\n",
      "4 timebin completed / Elapsed time: 0 min 12.59 sec\n",
      "===================================================\n",
      "\n",
      "LE600 completed /// Elapsed time: 0 min 1.86 sec\n",
      "LE602 completed /// Elapsed time: 0 min 3.72 sec\n",
      "LE640 completed /// Elapsed time: 0 min 2.34 sec\n",
      "LE647 completed /// Elapsed time: 0 min 2.09 sec\n",
      "LE699 completed /// Elapsed time: 0 min 2.44 sec\n",
      "---------------------------------------------------\n",
      "5 timebin completed / Elapsed time: 0 min 12.44 sec\n",
      "===================================================\n",
      "\n",
      "LE600 completed /// Elapsed time: 0 min 1.91 sec\n",
      "LE602 completed /// Elapsed time: 0 min 3.70 sec\n",
      "LE640 completed /// Elapsed time: 0 min 2.37 sec\n",
      "LE647 completed /// Elapsed time: 0 min 2.08 sec\n",
      "LE699 completed /// Elapsed time: 0 min 2.36 sec\n",
      "---------------------------------------------------\n",
      "6 timebin completed / Elapsed time: 0 min 12.44 sec\n",
      "===================================================\n",
      "\n",
      "LE600 completed /// Elapsed time: 0 min 1.93 sec\n",
      "LE602 completed /// Elapsed time: 0 min 3.81 sec\n",
      "LE640 completed /// Elapsed time: 0 min 2.34 sec\n",
      "LE647 completed /// Elapsed time: 0 min 2.06 sec\n",
      "LE699 completed /// Elapsed time: 0 min 2.35 sec\n",
      "---------------------------------------------------\n",
      "7 timebin completed / Elapsed time: 0 min 12.48 sec\n",
      "===================================================\n",
      "\n",
      "LE600 completed /// Elapsed time: 0 min 1.90 sec\n",
      "LE602 completed /// Elapsed time: 0 min 3.82 sec\n",
      "LE640 completed /// Elapsed time: 0 min 2.47 sec\n",
      "LE647 completed /// Elapsed time: 0 min 2.07 sec\n",
      "LE699 completed /// Elapsed time: 0 min 2.32 sec\n",
      "---------------------------------------------------\n",
      "8 timebin completed / Elapsed time: 0 min 12.58 sec\n",
      "===================================================\n",
      "\n",
      "LE600 completed /// Elapsed time: 0 min 1.87 sec\n",
      "LE602 completed /// Elapsed time: 0 min 3.73 sec\n",
      "LE640 completed /// Elapsed time: 0 min 2.42 sec\n",
      "LE647 completed /// Elapsed time: 0 min 2.15 sec\n",
      "LE699 completed /// Elapsed time: 0 min 2.42 sec\n",
      "---------------------------------------------------\n",
      "9 timebin completed / Elapsed time: 0 min 12.59 sec\n",
      "===================================================\n",
      "\n",
      "Wall time: 2min 6s\n"
     ]
    }
   ],
   "source": [
    "%%time\n",
    "for t in range(9):\n",
    "    bin_loop_start = time.time()\n",
    "\n",
    "    svm_real = np.zeros((len(rat_list),6,6))\n",
    "    for i,rat in enumerate(rat_list):\n",
    "        loop_start = time.time()\n",
    "\n",
    "        rat_result = Parallel(n_jobs=-1)(delayed(subsample_cross_val_predict)(df, final_model, rat, kfold, num_trial, bin_size, t+1, 0) for j in range(num_iter))   \n",
    "\n",
    "        svm_real[i,:,:] = np.sum(rat_result,axis=0)/(num_iter*kfold)\n",
    "\n",
    "        loop_end = time.time()\n",
    "        loop_time = divmod(loop_end-loop_start,60)\n",
    "        print(f'LE{rat} completed /// Elapsed time: {int(loop_time[0])} min {loop_time[1]:.2f} sec')\n",
    "\n",
    "    np.save(save_path / f'{today}_{bin_size*10}ms_{t+1}bins_{num_iter}iter_real.npy',svm_real)\n",
    "\n",
    "    bin_loop_end = time.time()\n",
    "    bin_loop_time = divmod(bin_loop_end-bin_loop_start,60)\n",
    "    print('---------------------------------------------------')\n",
    "    print(f'{t+1} timebin completed / Elapsed time: {int(bin_loop_time[0])} min {bin_loop_time[1]:.2f} sec')\n",
    "    print('===================================================')\n",
    "    print('')"
   ]
  },
  {
   "cell_type": "markdown",
   "id": "959efbf0",
   "metadata": {},
   "source": [
    "#### Shuffled data"
   ]
  },
  {
   "cell_type": "code",
   "execution_count": 18,
   "id": "f148c836",
   "metadata": {},
   "outputs": [
    {
     "name": "stdout",
     "output_type": "stream",
     "text": [
      "Shuffle run 100 completed /// Elapsed time: 22 min 2.33 sec\n",
      "Shuffle run 200 completed /// Elapsed time: 21 min 52.13 sec\n",
      "Shuffle run 300 completed /// Elapsed time: 21 min 49.22 sec\n",
      "Shuffle run 400 completed /// Elapsed time: 21 min 50.19 sec\n",
      "Shuffle run 500 completed /// Elapsed time: 21 min 49.91 sec\n",
      "Shuffle run 600 completed /// Elapsed time: 21 min 49.74 sec\n",
      "Shuffle run 700 completed /// Elapsed time: 21 min 49.62 sec\n",
      "Shuffle run 800 completed /// Elapsed time: 21 min 50.67 sec\n",
      "Shuffle run 900 completed /// Elapsed time: 21 min 51.73 sec\n",
      "Shuffle run 1000 completed /// Elapsed time: 21 min 52.11 sec\n",
      "---------------------------------------------------\n",
      "2 timebin completed / Elapsed time: 218 min 41.62 sec\n",
      "===================================================\n",
      "\n",
      "Shuffle run 100 completed /// Elapsed time: 21 min 54.17 sec\n",
      "Shuffle run 200 completed /// Elapsed time: 21 min 51.40 sec\n",
      "Shuffle run 300 completed /// Elapsed time: 21 min 53.46 sec\n",
      "Shuffle run 400 completed /// Elapsed time: 21 min 53.84 sec\n",
      "Shuffle run 500 completed /// Elapsed time: 21 min 53.17 sec\n",
      "Shuffle run 600 completed /// Elapsed time: 21 min 55.16 sec\n",
      "Shuffle run 700 completed /// Elapsed time: 21 min 53.21 sec\n",
      "Shuffle run 800 completed /// Elapsed time: 21 min 53.53 sec\n",
      "Shuffle run 900 completed /// Elapsed time: 21 min 54.91 sec\n",
      "Shuffle run 1000 completed /// Elapsed time: 21 min 53.07 sec\n",
      "---------------------------------------------------\n",
      "3 timebin completed / Elapsed time: 218 min 59.91 sec\n",
      "===================================================\n",
      "\n",
      "Shuffle run 100 completed /// Elapsed time: 21 min 55.18 sec\n",
      "Shuffle run 200 completed /// Elapsed time: 21 min 54.78 sec\n",
      "Shuffle run 300 completed /// Elapsed time: 21 min 53.46 sec\n",
      "Shuffle run 400 completed /// Elapsed time: 21 min 55.32 sec\n",
      "Shuffle run 500 completed /// Elapsed time: 21 min 55.05 sec\n",
      "Shuffle run 600 completed /// Elapsed time: 21 min 55.30 sec\n",
      "Shuffle run 700 completed /// Elapsed time: 21 min 56.32 sec\n",
      "Shuffle run 800 completed /// Elapsed time: 21 min 55.31 sec\n",
      "Shuffle run 900 completed /// Elapsed time: 21 min 56.14 sec\n",
      "Shuffle run 1000 completed /// Elapsed time: 21 min 55.37 sec\n",
      "---------------------------------------------------\n",
      "4 timebin completed / Elapsed time: 219 min 16.21 sec\n",
      "===================================================\n",
      "\n",
      "Shuffle run 100 completed /// Elapsed time: 21 min 56.35 sec\n",
      "Shuffle run 200 completed /// Elapsed time: 21 min 58.20 sec\n",
      "Shuffle run 300 completed /// Elapsed time: 21 min 57.68 sec\n",
      "Shuffle run 400 completed /// Elapsed time: 21 min 58.05 sec\n",
      "Shuffle run 500 completed /// Elapsed time: 22 min 0.58 sec\n",
      "Shuffle run 600 completed /// Elapsed time: 22 min 2.14 sec\n",
      "Shuffle run 700 completed /// Elapsed time: 21 min 59.27 sec\n",
      "Shuffle run 800 completed /// Elapsed time: 21 min 57.64 sec\n",
      "Shuffle run 900 completed /// Elapsed time: 21 min 58.60 sec\n",
      "Shuffle run 1000 completed /// Elapsed time: 21 min 57.91 sec\n",
      "---------------------------------------------------\n",
      "5 timebin completed / Elapsed time: 219 min 50.43 sec\n",
      "===================================================\n",
      "\n",
      "Shuffle run 100 completed /// Elapsed time: 21 min 59.68 sec\n",
      "Shuffle run 200 completed /// Elapsed time: 21 min 59.43 sec\n",
      "Shuffle run 300 completed /// Elapsed time: 22 min 0.58 sec\n",
      "Shuffle run 400 completed /// Elapsed time: 22 min 0.38 sec\n",
      "Shuffle run 500 completed /// Elapsed time: 22 min 0.74 sec\n",
      "Shuffle run 600 completed /// Elapsed time: 21 min 59.93 sec\n",
      "Shuffle run 700 completed /// Elapsed time: 21 min 59.16 sec\n",
      "Shuffle run 800 completed /// Elapsed time: 22 min 0.35 sec\n",
      "Shuffle run 900 completed /// Elapsed time: 21 min 59.82 sec\n",
      "Shuffle run 1000 completed /// Elapsed time: 22 min 0.10 sec\n",
      "---------------------------------------------------\n",
      "6 timebin completed / Elapsed time: 220 min 4.16 sec\n",
      "===================================================\n",
      "\n",
      "Shuffle run 100 completed /// Elapsed time: 22 min 5.08 sec\n",
      "Shuffle run 200 completed /// Elapsed time: 22 min 4.17 sec\n",
      "Shuffle run 300 completed /// Elapsed time: 22 min 3.06 sec\n",
      "Shuffle run 400 completed /// Elapsed time: 22 min 3.39 sec\n",
      "Shuffle run 500 completed /// Elapsed time: 22 min 2.77 sec\n",
      "Shuffle run 600 completed /// Elapsed time: 22 min 3.81 sec\n",
      "Shuffle run 700 completed /// Elapsed time: 22 min 2.80 sec\n",
      "Shuffle run 800 completed /// Elapsed time: 22 min 1.20 sec\n",
      "Shuffle run 900 completed /// Elapsed time: 22 min 3.60 sec\n",
      "Shuffle run 1000 completed /// Elapsed time: 22 min 4.30 sec\n",
      "---------------------------------------------------\n",
      "7 timebin completed / Elapsed time: 220 min 34.66 sec\n",
      "===================================================\n",
      "\n",
      "Shuffle run 100 completed /// Elapsed time: 22 min 4.77 sec\n",
      "Shuffle run 200 completed /// Elapsed time: 22 min 4.30 sec\n",
      "Shuffle run 300 completed /// Elapsed time: 22 min 3.50 sec\n",
      "Shuffle run 400 completed /// Elapsed time: 22 min 4.12 sec\n",
      "Shuffle run 500 completed /// Elapsed time: 22 min 3.82 sec\n",
      "Shuffle run 600 completed /// Elapsed time: 22 min 3.46 sec\n",
      "Shuffle run 700 completed /// Elapsed time: 22 min 5.18 sec\n",
      "Shuffle run 800 completed /// Elapsed time: 22 min 5.32 sec\n",
      "Shuffle run 900 completed /// Elapsed time: 22 min 3.99 sec\n",
      "Shuffle run 1000 completed /// Elapsed time: 22 min 4.98 sec\n",
      "---------------------------------------------------\n",
      "8 timebin completed / Elapsed time: 220 min 47.40 sec\n",
      "===================================================\n",
      "\n",
      "Shuffle run 100 completed /// Elapsed time: 22 min 6.02 sec\n",
      "Shuffle run 200 completed /// Elapsed time: 22 min 6.91 sec\n",
      "Shuffle run 300 completed /// Elapsed time: 22 min 5.56 sec\n",
      "Shuffle run 400 completed /// Elapsed time: 22 min 4.56 sec\n",
      "Shuffle run 500 completed /// Elapsed time: 22 min 6.57 sec\n",
      "Shuffle run 600 completed /// Elapsed time: 22 min 6.23 sec\n",
      "Shuffle run 700 completed /// Elapsed time: 22 min 6.35 sec\n",
      "Shuffle run 800 completed /// Elapsed time: 22 min 6.88 sec\n",
      "Shuffle run 900 completed /// Elapsed time: 22 min 6.34 sec\n",
      "Shuffle run 1000 completed /// Elapsed time: 22 min 7.04 sec\n",
      "---------------------------------------------------\n",
      "9 timebin completed / Elapsed time: 221 min 2.77 sec\n",
      "===================================================\n",
      "\n",
      "Wall time: 1d 5h 19min 17s\n"
     ]
    }
   ],
   "source": [
    "%%time\n",
    "num_shuffle = 1000\n",
    "\n",
    "for t in range(9):\n",
    "    bin_loop_start = time.time()\n",
    "    \n",
    "    svm_shuffle_result = np.zeros((num_shuffle,len(rat_list),6,6))\n",
    "    for shuffle_run in range(num_shuffle):\n",
    "        \n",
    "        # measure elapsed time for every 100 loops\n",
    "        if divmod(shuffle_run+1,100)[1] == 1:\n",
    "            loop_start = time.time()\n",
    "            \n",
    "        svm_result = np.zeros((len(rat_list),6,6))\n",
    "        for r,rat in enumerate(rat_list):\n",
    "            rat_result = Parallel(n_jobs=-1)(delayed(subsample_cross_val_predict)(df, final_model, rat, kfold, num_trial, bin_size, t+1, 1) for j in range(num_iter))   \n",
    "            svm_result[r,:,:] = np.sum(rat_result,axis=0)/(num_iter*kfold)\n",
    "\n",
    "        svm_shuffle_result[shuffle_run,:,:,:] = svm_result\n",
    "    \n",
    "        # measure elapsed time for every 100 loops\n",
    "        if divmod(shuffle_run+1,100)[1] == 0:\n",
    "            loop_end = time.time()\n",
    "            loop_time = divmod(loop_end-loop_start,60)\n",
    "            print(f'Shuffle run {shuffle_run+1} completed /// Elapsed time: {int(loop_time[0])} min {loop_time[1]:.2f} sec')\n",
    "\n",
    "    np.save(save_path / f'{today}_{bin_size*10}ms_{t+1}bins_{num_iter}iter_shuffle.npy',svm_shuffle_result)\n",
    "\n",
    "    bin_loop_end = time.time()\n",
    "    bin_loop_time = divmod(bin_loop_end-bin_loop_start,60)\n",
    "    print('---------------------------------------------------')\n",
    "    print(f'{t+1} timebin completed / Elapsed time: {int(bin_loop_time[0])} min {bin_loop_time[1]:.2f} sec')\n",
    "    print('===================================================')\n",
    "    print('')"
   ]
  },
  {
   "cell_type": "markdown",
   "id": "9964d0cf",
   "metadata": {},
   "source": [
    "#### Evaluating decoding results"
   ]
  },
  {
   "cell_type": "code",
   "execution_count": 64,
   "id": "fbe83054",
   "metadata": {},
   "outputs": [],
   "source": [
    "load_date = '2023-07-17'"
   ]
  },
  {
   "cell_type": "code",
   "execution_count": 65,
   "id": "54f9cc46",
   "metadata": {},
   "outputs": [],
   "source": [
    "real_data = np.load(save_path / f'{load_date}_{bin_size*10}ms_{9}bins_{num_iter}iter_real.npy')\n",
    "shuffle_data = np.load(save_path / f'{load_date}_{bin_size*10}ms_{9}bins_{num_iter}iter_shuffle.npy')\n",
    "\n",
    "real_mean = np.mean(real_data, axis=0)\n",
    "shuffle_mean = np.mean(shuffle_data, axis=1)"
   ]
  },
  {
   "cell_type": "code",
   "execution_count": 66,
   "id": "b5b563c8",
   "metadata": {},
   "outputs": [
    {
     "data": {
      "image/png": "[encoded data removed]",
      "text/plain": [
       "<Figure size 1080x864 with 36 Axes>"
      ]
     },
     "metadata": {
      "needs_background": "light"
     },
     "output_type": "display_data"
    }
   ],
   "source": [
    "# distributions of shuffled decoding performance\n",
    "fig,ax = plt.subplots(6,6, figsize=(15,12))\n",
    "for i in range(6):\n",
    "    for j in range(6):\n",
    "        m = np.round(np.mean(shuffle_mean[:,i,j]*100))/100\n",
    "        ax[i,j].hist(shuffle_mean[:,i,j], color='gray');\n",
    "plt.tight_layout()"
   ]
  },
  {
   "cell_type": "code",
   "execution_count": 99,
   "id": "2aaef8d4",
   "metadata": {},
   "outputs": [
    {
     "data": {
      "image/png": "[encoded data removed]",
      "text/plain": [
       "<Figure size 432x432 with 1 Axes>"
      ]
     },
     "metadata": {
      "needs_background": "light"
     },
     "output_type": "display_data"
    }
   ],
   "source": [
    "# contingency matrix for data using all time bins\n",
    "fig,ax = plt.subplots(figsize=(6,6))\n",
    "\n",
    "ax.imshow(real_mean, cmap=plt.cm.get_cmap('Blues'));\n",
    "ax.set_xlabel('True stimulus condition', fontsize=14)\n",
    "ax.set_ylabel('Predicted stimulus condition', fontsize=14)\n",
    "\n",
    "for m in range(6):\n",
    "    for l in range(6):        \n",
    "        ax.text(m,l,'{:.2f}'.format(real_mean[m,l]),ha='center')\n",
    "        \n",
    "        pval_crit = [np.percentile(shuffle_mean[:,m,l],95), np.percentile(shuffle_mean[:,m,l],99),\n",
    "                     np.percentile(shuffle_mean[:,m,l],99.9)]\n",
    "        if real_mean[m,l] > pval_crit[2]:\n",
    "            ax.text(m,l+0.2,'***', ha='center', color='white')\n",
    "        elif real_mean[m,l] > pval_crit[1]:\n",
    "            ax.text(m,l+0.2,'**', ha='center', color='white')\n",
    "        elif real_mean[m,l] > pval_crit[0]:\n",
    "            ax.text(m,l+0.2,'*', ha='center', color='white')\n",
    "\n",
    "ax.set_xticks(np.arange(0,6))\n",
    "ax.set_xticklabels(['Boy-M','Boy-V','Boy-A','Egg-M','Egg-V','Egg-A']);\n",
    "ax.set_yticks(np.arange(0,6))\n",
    "ax.set_yticklabels(['Boy-M','Boy-V','Boy-A','Egg-M','Egg-V','Egg-A']);\n",
    "\n",
    "plt.tight_layout()"
   ]
  },
  {
   "cell_type": "code",
   "execution_count": 67,
   "id": "b142f7cb",
   "metadata": {},
   "outputs": [
    {
     "data": {
      "image/png": "[encoded data removed]",
      "text/plain": [
       "<Figure size 432x288 with 1 Axes>"
      ]
     },
     "metadata": {
      "needs_background": "light"
     },
     "output_type": "display_data"
    }
   ],
   "source": [
    "# decoding performance of models using different time range\n",
    "\n",
    "result = np.zeros((3,5,9))    # modality * rat * timebin\n",
    "result_shuffle = np.zeros((3,5,9))    # modality * rat * timebin\n",
    "\n",
    "for t in range(9):\n",
    "    real_data = np.load(save_path / f'{load_date}_{bin_size*10}ms_{t+1}bins_{num_iter}iter_real.npy')\n",
    "    shuffle_data = np.load(save_path / f'{load_date}_{bin_size*10}ms_{t+1}bins_{num_iter}iter_shuffle.npy')\n",
    "    shuffle_mean = np.mean(shuffle_data, axis=0)\n",
    "\n",
    "    for i in range(3):\n",
    "        result[i,:,t] = (real_data[:,i,i]+real_data[:,i+3,i+3])/2\n",
    "        result_shuffle[i,:,t] = (shuffle_mean[:,i,i]+shuffle_mean[:,i+3,i+3])/2\n",
    "\n",
    "mean_real = np.mean(result, axis=1)\n",
    "sem_real = stats.sem(result, axis=1)\n",
    "mean_shuffle = np.mean(result_shuffle, axis=1)\n",
    "\n",
    "fig,ax = plt.subplots(figsize=(6,4))\n",
    "\n",
    "for i in range(3):\n",
    "    ax.errorbar(range(9),mean_real[i],yerr=sem_real[i], color=color[i], linewidth=3)\n",
    "    ax.plot(mean_shuffle[i], color=color[i], linestyle='--', linewidth=2)\n",
    "\n",
    "ax.set_xticks(range(9));\n",
    "ax.set_xticklabels(['~0.1s', '~0.2s', '~0.3s', '~0.4s', '~0.5s', '~0.6s', '~0.7s', '~0.8s', '~0.9s']);\n",
    "ax.set_yticks(np.arange(0.1,0.6,0.1));\n",
    "ax.set_xlabel('Temporal input', fontsize=13);\n",
    "ax.set_ylabel('Decoding accuracy', fontsize=13);"
   ]
  },
  {
   "cell_type": "markdown",
   "id": "ebf3e58a",
   "metadata": {},
   "source": [
    "---"
   ]
  },
  {
   "cell_type": "markdown",
   "id": "f96ba18c",
   "metadata": {},
   "source": [
    "### Object / modality decoding performance of different categories\n",
    "Here, we verified if different object cell categories (i.e., visual, auditory, unbiased) contributed differently to the decoding performance."
   ]
  },
  {
   "cell_type": "code",
   "execution_count": 120,
   "id": "27b50daf",
   "metadata": {},
   "outputs": [],
   "source": [
    "def subsample_category(df, rat, num_trial, bin_size, time_bin, modality, category):\n",
    "    scaler = StandardScaler()\n",
    "    \n",
    "    num_bin = int(90/bin_size)\n",
    "       \n",
    "    object_cell_list = df.loc[(df['rat'])==int(rat),'key'].to_numpy()\n",
    "    modality_cell_list = df.loc[(df['rat']==int(rat))&(df['Category']==modality),'key'].to_numpy()\n",
    "    unbiased_cell_list = df.loc[(df['rat']==int(rat))&(df['Category']=='unbiased'),'key'].to_numpy()\n",
    "    \n",
    "    if category == 1:    # target category = visual or auditory\n",
    "        target_cell_list = np.setdiff1d(object_cell_list, modality_cell_list)\n",
    "    else:    # target category = unbiased\n",
    "        random_unbiased = np.random.choice(unbiased_cell_list,len(modality_cell_list))\n",
    "        target_cell_list = np.setdiff1d(object_cell_list, random_unbiased)\n",
    "    \n",
    "    # M by N array of subsampled firing rates\n",
    "    # M = stimulus condition * number of subsampled trials\n",
    "    # N = number of cells * number of time bins\n",
    "    X = np.zeros((6*num_trial, len(target_cell_list)*time_bin))\n",
    "    \n",
    "    for i,cell_key in enumerate(target_cell_list):\n",
    "    \n",
    "        # load trial-by-trial firing rate data of a cell\n",
    "        key = str(cell_key).zfill(4)\n",
    "        cell_filename = list(cell_path.glob(f'{key}*.csv'))\n",
    "        df_cell = pd.read_csv(cell_filename[0])\n",
    "        df_cell.drop(df_cell[df_cell.Correctness==0].index,inplace=True)\n",
    "        df_cell.reset_index(inplace=True,drop=True)\n",
    "        \n",
    "        # goal location (left or right) of each object condition\n",
    "        boy_goal = df_cell.loc[df_cell['Visual']=='Boy','RWD_Loc'].values[0]\n",
    "        egg_goal = df_cell.loc[df_cell['Visual']=='Egg','RWD_Loc'].values[0]\n",
    "\n",
    "        # stimulus condition (identity x modality)\n",
    "        cond = [(df_cell['Type']=='Multimodal')&(df_cell['RWD_Loc']==boy_goal),\n",
    "                (df_cell['Type']=='Visual')&(df_cell['RWD_Loc']==boy_goal),\n",
    "                (df_cell['Type']=='Auditory')&(df_cell['RWD_Loc']==boy_goal),\n",
    "                (df_cell['Type']=='Multimodal')&(df_cell['RWD_Loc']==egg_goal),\n",
    "                (df_cell['Type']=='Visual')&(df_cell['RWD_Loc']==egg_goal),\n",
    "                (df_cell['Type']=='Auditory')&(df_cell['RWD_Loc']==egg_goal)]\n",
    "\n",
    "        fr_id = df_cell.columns.get_loc('Var10')  # get the index of the first firing rate column\n",
    "        FR = df_cell.iloc[:,fr_id:].to_numpy()    # convert firing rate data to numpy array\n",
    "    \n",
    "        # recalculate mean firing rates of each time bin\n",
    "        FR_bin = np.zeros((len(df_cell),time_bin))\n",
    "        for b in range(time_bin):\n",
    "            FR_bin[:,b] = FR[:,b*time_bin:(b+1)*time_bin].mean(axis=1)\n",
    "\n",
    "        for c in range(len(cond)):\n",
    "            # subsample n trials from each stimulus condition\n",
    "            subsampled_trial = df_cell[cond[c]].sample(num_trial).index\n",
    "            # firing rates of subsampled trials\n",
    "            FR_sub = FR_bin[subsampled_trial,:]\n",
    "            # add subsampled firing rate data to the result array\n",
    "            X[num_trial*c:num_trial*(c+1), time_bin*i:time_bin*(i+1)] = FR_sub\n",
    "    \n",
    "    X_norm = scaler.fit_transform(X)\n",
    "\n",
    "    return X_norm"
   ]
  },
  {
   "cell_type": "markdown",
   "id": "7dc0abc1",
   "metadata": {},
   "source": [
    "#### Parameter setup"
   ]
  },
  {
   "cell_type": "code",
   "execution_count": 68,
   "id": "8f162aa9",
   "metadata": {},
   "outputs": [],
   "source": [
    "final_model = svm.SVC(kernel='linear', C=0.01)\n",
    "kfold = 5\n",
    "num_trial = 5\n",
    "bin_size = 10\n",
    "num_iter = 100\n",
    "rat_list = ['600', '602', '640', '647', '699']"
   ]
  },
  {
   "cell_type": "markdown",
   "id": "ced79e79",
   "metadata": {},
   "source": [
    "---"
   ]
  },
  {
   "cell_type": "markdown",
   "id": "3c2507a8",
   "metadata": {},
   "source": [
    "### Cross-modal decoding\n",
    "Here, we verified if different object cell categories (i.e., visual, auditory, unbiased) contributed differently to the decoding performance."
   ]
  }
 ],
 "metadata": {
  "kernelspec": {
   "display_name": "Python 3 (ipykernel)",
   "language": "python",
   "name": "python3"
  },
  "language_info": {
   "codemirror_mode": {
    "name": "ipython",
    "version": 3
   },
   "file_extension": ".py",
   "mimetype": "text/x-python",
   "name": "python",
   "nbconvert_exporter": "python",
   "pygments_lexer": "ipython3",
   "version": "3.9.12"
  }
 },
 "nbformat": 4,
 "nbformat_minor": 5
}
