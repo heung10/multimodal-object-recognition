{
 "cells": [
  {
   "cell_type": "markdown",
   "id": "c2d4f156",
   "metadata": {},
   "source": [
    "## Population dynamics\n",
    "This code examines how population of neurons change their firing patterns across time using dimensionality reduction and network dynamics analysis"
   ]
  },
  {
   "cell_type": "code",
   "execution_count": 2,
   "id": "6ef091ff",
   "metadata": {},
   "outputs": [],
   "source": [
    "import os\n",
    "from pathlib import Path\n",
    "import numpy as np\n",
    "import pandas as pd\n",
    "\n",
    "from scipy import stats\n",
    "import statsmodels.api as sm\n",
    "\n",
    "import pingouin as pg\n",
    "\n",
    "import matplotlib as mpl\n",
    "import matplotlib.pyplot as plt  \n",
    "\n",
    "from datetime import date\n",
    "import time\n",
    "\n",
    "import h5py"
   ]
  },
  {
   "cell_type": "code",
   "execution_count": 3,
   "id": "a2efd57f",
   "metadata": {},
   "outputs": [],
   "source": [
    "# no top and right spines in all plots\n",
    "mpl.rcParams['axes.spines.right'] = False\n",
    "mpl.rcParams['axes.spines.top'] = False"
   ]
  },
  {
   "cell_type": "code",
   "execution_count": 4,
   "id": "75d558bd",
   "metadata": {},
   "outputs": [],
   "source": [
    "mother_path = Path('D:/Multi-modal project/')\n",
    "fig_path = mother_path / 'analysis' / 'result' / 'figures'"
   ]
  },
  {
   "cell_type": "markdown",
   "id": "c9d779bc",
   "metadata": {},
   "source": [
    "### Parameter setting"
   ]
  },
  {
   "cell_type": "code",
   "execution_count": 5,
   "id": "80036cec",
   "metadata": {},
   "outputs": [],
   "source": [
    "# colors for multimodal, vis-only, aud-only conditions\n",
    "color = ['tab:blue','tab:red','tab:gray']\n",
    "color2 = ['cyan','magenta','gray']\n",
    "linestyle = ['-',':']\n",
    "\n",
    "today = str(date.today())"
   ]
  },
  {
   "cell_type": "markdown",
   "id": "74ff06dc",
   "metadata": {},
   "source": [
    "### Data preparation"
   ]
  },
  {
   "cell_type": "code",
   "execution_count": 6,
   "id": "e42dba14",
   "metadata": {},
   "outputs": [],
   "source": [
    "# load hdf5 files containing shuffled results\n",
    "data_path = mother_path /'analysis'/'result'/'3. ANOVA'/'2023-06-26'\n",
    "data2_path = mother_path /'analysis'/'result'/'3.1 Multiple linear regression'/'2023-06-26'\n",
    "f = h5py.File(data_path/'2023-06-26_ANOVA_result.hdf5','r')\n",
    "f2 = h5py.File(data2_path/'2023-06-26_multiple_regression_result.hdf5','r')"
   ]
  },
  {
   "cell_type": "code",
   "execution_count": 7,
   "id": "f0d3e2ba",
   "metadata": {},
   "outputs": [],
   "source": [
    "def h5_to_df(f):\n",
    "    keys = list(f.keys())\n",
    "    attributes = {}\n",
    "    \n",
    "    for key in keys:\n",
    "        attributes[key] = dict(f[key].attrs.items())\n",
    "    \n",
    "    df = pd.DataFrame.from_dict(attributes, orient='index')\n",
    "    df.index.name = 'key'\n",
    "    df = df.reset_index()\n",
    "    \n",
    "    return df"
   ]
  },
  {
   "cell_type": "code",
   "execution_count": 8,
   "id": "31148c69",
   "metadata": {},
   "outputs": [],
   "source": [
    "df = h5_to_df(f2)\n",
    "df = df[(df['Region']=='PER')&(df['Response cell']==0)]\n",
    "df.reset_index(inplace=True,drop=True)\n",
    "\n",
    "for key in df['key']:  \n",
    "    \n",
    "    df.loc[df['key']==key,'pref_obj'] = f[key].attrs['Preferred object']\n",
    "    df.loc[df['key']==key,'peak_selectivity'] = np.max(f[f'{key}/anova_eta'])  \n",
    "    df.loc[df['key']==key,'peak_selectivity_time'] = np.argmax(f[f'{key}/anova_eta'])*10\n",
    "    df.loc[df['key']==key,'selectivity_duration'] = len(f[f'{key}/object_bin'])*10\n",
    "    df.loc[df['key']==key,'selectivity_onset'] = np.min(f[f'{key}/object_bin'])*10\n",
    "    df.loc[df['key']==key,'selectivity_index'] = f[key].attrs['Selectivity index']\n",
    "    \n",
    "    if f[key].attrs['Preferred object'] == 'Boy':\n",
    "        df.loc[df['key']==key,'coef_pref_image'] = f2[f'{key}/basic/beta_coef'][0]\n",
    "        df.loc[df['key']==key,'coef_pref_sound'] = f2[f'{key}/basic/beta_coef'][1]\n",
    "        df.loc[df['key']==key,'coef_pref_int'] = f2[f'{key}/basic/beta_coef'][2]\n",
    "        \n",
    "        df.loc[df['key']==key,'coef_nonpref_image'] = f2[f'{key}/basic/beta_coef'][3]\n",
    "        df.loc[df['key']==key,'coef_nonpref_sound'] = f2[f'{key}/basic/beta_coef'][4]\n",
    "        df.loc[df['key']==key,'coef_nonpref_int'] = f2[f'{key}/basic/beta_coef'][5]\n",
    "    else:\n",
    "        df.loc[df['key']==key,'coef_pref_image'] = f2[f'{key}/basic/beta_coef'][3]\n",
    "        df.loc[df['key']==key,'coef_pref_sound'] = f2[f'{key}/basic/beta_coef'][4]\n",
    "        df.loc[df['key']==key,'coef_pref_int'] = f2[f'{key}/basic/beta_coef'][5]\n",
    "        \n",
    "        df.loc[df['key']==key,'coef_nonpref_image'] = f2[f'{key}/basic/beta_coef'][0]\n",
    "        df.loc[df['key']==key,'coef_nonpref_sound'] = f2[f'{key}/basic/beta_coef'][1]\n",
    "        df.loc[df['key']==key,'coef_nonpref_int'] = f2[f'{key}/basic/beta_coef'][2]\n",
    "        \n",
    "df['peak_selectivity_time_range'] = (df['peak_selectivity_time'] // 100) + 1        "
   ]
  },
  {
   "cell_type": "code",
   "execution_count": 87,
   "id": "d4a51011",
   "metadata": {},
   "outputs": [],
   "source": [
    "for i in range(len(df)):\n",
    "    if df.loc[i,'peak_selectivity_time'] < 200:\n",
    "        df.loc[i,'peak_selectivity_time_range2'] = 0\n",
    "    elif 200 <= df.loc[i,'peak_selectivity_time'] < 400:\n",
    "        df.loc[i,'peak_selectivity_time_range2'] = 1\n",
    "    elif 400 <= df.loc[i,'peak_selectivity_time'] < 650:\n",
    "        df.loc[i,'peak_selectivity_time_range2'] = 2\n",
    "    elif 650 <= df.loc[i,'peak_selectivity_time'] < 900:\n",
    "        df.loc[i,'peak_selectivity_time_range2'] = 3"
   ]
  },
  {
   "cell_type": "markdown",
   "id": "e1a56520",
   "metadata": {},
   "source": [
    "### Classifying visual, auditory, and unbiased neurons"
   ]
  },
  {
   "cell_type": "code",
   "execution_count": 9,
   "id": "19c4a03a",
   "metadata": {},
   "outputs": [],
   "source": [
    "# classification based on permutation test (shuffling)\n",
    "for i in range(len(df)):\n",
    "    k = df.loc[i,'key']\n",
    "    beta_diff = df.loc[i,'coef_pref_image']-df.loc[i,'coef_pref_sound']\n",
    "    if df.loc[i,'pref_obj']=='Boy':\n",
    "        beta_diff_shuffle = np.subtract(f2[f'{key}/basic_shuffle/beta_coef'][:,0],\n",
    "                                        f2[f'{key}/basic_shuffle/beta_coef'][:,1])\n",
    "    else:\n",
    "        beta_diff_shuffle = np.subtract(f2[f'{key}/basic_shuffle/beta_coef'][:,3],\n",
    "                                        f2[f'{key}/basic_shuffle/beta_coef'][:,4])\n",
    "    visual_crit = np.percentile(beta_diff_shuffle,97.5)\n",
    "    auditory_crit = np.percentile(beta_diff_shuffle,2.5)\n",
    "    \n",
    "    if beta_diff > visual_crit:\n",
    "        df.loc[i,'Category'] = 'visual'\n",
    "    elif beta_diff < auditory_crit:\n",
    "        df.loc[i,'Category'] = 'auditory'\n",
    "    else:\n",
    "        df.loc[i,'Category'] = 'unbiased'"
   ]
  },
  {
   "cell_type": "markdown",
   "id": "a9fc4622",
   "metadata": {},
   "source": [
    "### Exploratory data analysis on the interaction term"
   ]
  },
  {
   "cell_type": "code",
   "execution_count": 91,
   "id": "0a0151e2",
   "metadata": {},
   "outputs": [
    {
     "data": {
      "image/png": "[encoded data removed]",
      "text/plain": [
       "<Figure size 324x288 with 1 Axes>"
      ]
     },
     "metadata": {
      "needs_background": "light"
     },
     "output_type": "display_data"
    }
   ],
   "source": [
    "fig,ax = plt.subplots(figsize=(4.5,4))\n",
    "\n",
    "ax.hist(df['coef_pref_int'], color = 'lightgray', ec='black')\n",
    "ax.set_xlabel('Multisensory modulation (\\u03B23)', fontsize=13);\n",
    "ax.set_ylabel('Count', fontsize=13);\n",
    "plt.savefig(fig_path / 'interaction_histogram.png', dpi=300,facecolor='white')"
   ]
  },
  {
   "cell_type": "markdown",
   "id": "b96ac097",
   "metadata": {},
   "source": [
    "### Classifying neurons based on multisensory modulation\n",
    "(not used)\n",
    "\n",
    "Multisensory inhibition / enhancement"
   ]
  },
  {
   "cell_type": "code",
   "execution_count": 75,
   "id": "a812176f",
   "metadata": {},
   "outputs": [],
   "source": [
    "crit = np.zeros((len(df),2))\n",
    "for i in range(len(df)):\n",
    "    key = df.loc[i,'key']\n",
    "    \n",
    "    if df.loc[i,'pref_obj'] == 'Boy':\n",
    "        shuffle_int = f2[f'{key}/basic_shuffle/beta_coef'][:,2]\n",
    "    else:\n",
    "        shuffle_int = f2[f'{key}/basic_shuffle/beta_coef'][:,5]\n",
    "    \n",
    "    crit[i,0] = np.percentile(shuffle_int,5)\n",
    "    crit[i,1] = np.percentile(shuffle_int,95)\n",
    "    \n",
    "    if df.loc[i,'coef_pref_int'] < crit[i,0]:\n",
    "        df.loc[i,'multi'] = 'inhibit'\n",
    "    elif df.loc[i,'coef_pref_int'] > crit[i,1]:\n",
    "        df.loc[i,'multi'] = 'enhance'\n",
    "    else:\n",
    "        df.loc[i,'multi'] = 'none'"
   ]
  },
  {
   "cell_type": "markdown",
   "id": "841436e2",
   "metadata": {},
   "source": [
    "### Comparing multisensory modulation between cell categories"
   ]
  },
  {
   "cell_type": "code",
   "execution_count": 76,
   "id": "4f071e3e",
   "metadata": {},
   "outputs": [
    {
     "data": {
      "image/png": "[encoded data removed]",
      "text/plain": [
       "<Figure size 288x216 with 1 Axes>"
      ]
     },
     "metadata": {
      "needs_background": "light"
     },
     "output_type": "display_data"
    }
   ],
   "source": [
    "fig,ax = plt.subplots(figsize=(4,3))\n",
    "\n",
    "x = ['visual','auditory','unbiased']\n",
    "y = [df.loc[df['Category']==c,'coef_pref_int'] for c in x]\n",
    "ax.boxplot(y);\n",
    "ax.set_xticklabels(x, fontsize=13);\n",
    "#ax.set_xticks([0, 400, 900]);\n",
    "#ax.set_xlabel('Peak selectivity time (ms)', fontsize=13)\n",
    "\n",
    "plt.tight_layout()\n",
    "#plt.savefig(fig_path / 'category_time_boxplot.png', dpi=300,facecolor='white')"
   ]
  },
  {
   "cell_type": "code",
   "execution_count": 77,
   "id": "2fa15612",
   "metadata": {},
   "outputs": [
    {
     "data": {
      "text/html": [
       "<div>\n",
       "<style scoped>\n",
       "    .dataframe tbody tr th:only-of-type {\n",
       "        vertical-align: middle;\n",
       "    }\n",
       "\n",
       "    .dataframe tbody tr th {\n",
       "        vertical-align: top;\n",
       "    }\n",
       "\n",
       "    .dataframe thead th {\n",
       "        text-align: right;\n",
       "    }\n",
       "</style>\n",
       "<table border=\"1\" class=\"dataframe\">\n",
       "  <thead>\n",
       "    <tr style=\"text-align: right;\">\n",
       "      <th></th>\n",
       "      <th>Source</th>\n",
       "      <th>ddof1</th>\n",
       "      <th>H</th>\n",
       "      <th>p-unc</th>\n",
       "    </tr>\n",
       "  </thead>\n",
       "  <tbody>\n",
       "    <tr>\n",
       "      <th>Kruskal</th>\n",
       "      <td>Category</td>\n",
       "      <td>2</td>\n",
       "      <td>6.261452</td>\n",
       "      <td>0.043686</td>\n",
       "    </tr>\n",
       "  </tbody>\n",
       "</table>\n",
       "</div>"
      ],
      "text/plain": [
       "           Source  ddof1         H     p-unc\n",
       "Kruskal  Category      2  6.261452  0.043686"
      ]
     },
     "execution_count": 77,
     "metadata": {},
     "output_type": "execute_result"
    }
   ],
   "source": [
    "pg.kruskal(data=df, dv='coef_pref_int', between='Category')"
   ]
  },
  {
   "cell_type": "code",
   "execution_count": 78,
   "id": "ea14ac07",
   "metadata": {},
   "outputs": [
    {
     "data": {
      "text/html": [
       "<div>\n",
       "<style scoped>\n",
       "    .dataframe tbody tr th:only-of-type {\n",
       "        vertical-align: middle;\n",
       "    }\n",
       "\n",
       "    .dataframe tbody tr th {\n",
       "        vertical-align: top;\n",
       "    }\n",
       "\n",
       "    .dataframe thead th {\n",
       "        text-align: right;\n",
       "    }\n",
       "</style>\n",
       "<table border=\"1\" class=\"dataframe\">\n",
       "  <thead>\n",
       "    <tr style=\"text-align: right;\">\n",
       "      <th></th>\n",
       "      <th>1</th>\n",
       "      <th>2</th>\n",
       "      <th>3</th>\n",
       "    </tr>\n",
       "  </thead>\n",
       "  <tbody>\n",
       "    <tr>\n",
       "      <th>1</th>\n",
       "      <td>1.000000</td>\n",
       "      <td>0.324764</td>\n",
       "      <td>0.044465</td>\n",
       "    </tr>\n",
       "    <tr>\n",
       "      <th>2</th>\n",
       "      <td>0.324764</td>\n",
       "      <td>1.000000</td>\n",
       "      <td>0.324764</td>\n",
       "    </tr>\n",
       "    <tr>\n",
       "      <th>3</th>\n",
       "      <td>0.044465</td>\n",
       "      <td>0.324764</td>\n",
       "      <td>1.000000</td>\n",
       "    </tr>\n",
       "  </tbody>\n",
       "</table>\n",
       "</div>"
      ],
      "text/plain": [
       "          1         2         3\n",
       "1  1.000000  0.324764  0.044465\n",
       "2  0.324764  1.000000  0.324764\n",
       "3  0.044465  0.324764  1.000000"
      ]
     },
     "execution_count": 78,
     "metadata": {},
     "output_type": "execute_result"
    }
   ],
   "source": [
    "import scikit_posthocs as sp\n",
    "\n",
    "data = [df.loc[df['Category']=='visual','coef_pref_int'],\n",
    "        df.loc[df['Category']=='auditory','coef_pref_int'],\n",
    "        df.loc[df['Category']=='unbiased', 'coef_pref_int']]\n",
    "kruskal_posthoc = sp.posthoc_dunn(data, p_adjust = 'simes-hochberg')\n",
    "kruskal_posthoc"
   ]
  },
  {
   "cell_type": "markdown",
   "id": "f1f55c50",
   "metadata": {},
   "source": [
    "### Relationship between multisensory modulation and modality bias"
   ]
  },
  {
   "cell_type": "code",
   "execution_count": 74,
   "id": "f8765b4f",
   "metadata": {},
   "outputs": [
    {
     "data": {
      "image/png": "[encoded data removed]",
      "text/plain": [
       "<Figure size 576x252 with 2 Axes>"
      ]
     },
     "metadata": {
      "needs_background": "light"
     },
     "output_type": "display_data"
    }
   ],
   "source": [
    "fig,ax = plt.subplots(1,2,figsize=(8,3.5))\n",
    "\n",
    "cat = ['visual','auditory','unbiased']\n",
    "for c in range(3):\n",
    "    x = df.loc[df['Category']==cat[c],'coef_pref_int']\n",
    "    y = df.loc[df['Category']==cat[c],'coef_pref_image']\n",
    "    y2 = df.loc[df['Category']==cat[c],'coef_pref_sound']\n",
    "    ax[0].scatter(x, y, facecolors=color[c], edgecolors='k', alpha=0.8, s=50)\n",
    "    ax[1].scatter(x, y2, facecolors=color[c], edgecolors='k', alpha=0.8, s=50)\n",
    "\n",
    "ylabel = ['Visual object response (\\u03B21)', 'Auditory object response (\\u03B22)']\n",
    "for i in range(2):\n",
    "    ax[i].set_xticks(np.arange(-0.6,0.6,0.2));\n",
    "    ax[i].set_xlabel('Multisensory modulation (\\u03B23)', fontsize=14);\n",
    "    ax[i].set_yticks(np.arange(-0.6,1.2,0.2));\n",
    "    ax[i].set_ylabel(ylabel[i], fontsize=14);\n",
    "\n",
    "plt.tight_layout()\n",
    "#plt.savefig(fig_path / 'coef_time_scatter.png', dpi=300,facecolor='white')"
   ]
  },
  {
   "cell_type": "markdown",
   "id": "280a6458",
   "metadata": {},
   "source": [
    "### Relationship between multisensory modulation and selectivity time"
   ]
  },
  {
   "cell_type": "code",
   "execution_count": 86,
   "id": "05908a0b",
   "metadata": {},
   "outputs": [
    {
     "data": {
      "image/png": "[encoded data removed]",
      "text/plain": [
       "<Figure size 288x252 with 1 Axes>"
      ]
     },
     "metadata": {
      "needs_background": "light"
     },
     "output_type": "display_data"
    }
   ],
   "source": [
    "fig,ax = plt.subplots(figsize=(4,3.5))\n",
    "\n",
    "cat = ['visual','auditory','unbiased']\n",
    "for c in range(3):\n",
    "    x = df.loc[df['Category']==cat[c],'peak_selectivity_time']\n",
    "    y = df.loc[df['Category']==cat[c],'coef_pref_int']\n",
    "    ax.scatter(x, y, facecolors=color[c], edgecolors='k', alpha=0.8, s=50)\n",
    "\n",
    "ax.set_yticks(np.arange(-0.6,0.6,0.2));\n",
    "ax.set_ylabel('Multisensory modulation (\\u03B23)', fontsize=14);\n",
    "ax.set_xticks([0, 400, 900]);\n",
    "ax.set_xlabel('Peak selectivity time (ms)', fontsize=14);\n",
    "\n",
    "plt.tight_layout()\n",
    "#plt.savefig(fig_path / 'coef_time_scatter.png', dpi=300,facecolor='white')"
   ]
  },
  {
   "cell_type": "code",
   "execution_count": 89,
   "id": "75db81d0",
   "metadata": {},
   "outputs": [
    {
     "name": "stdout",
     "output_type": "stream",
     "text": [
      "                         Source        SS   DF        MS         F     p-unc  \\\n",
      "0  peak_selectivity_time_range2  0.015098    3  0.005033  0.209175  0.889925   \n",
      "1                        Within  3.608901  150  0.024059       NaN       NaN   \n",
      "\n",
      "        np2  \n",
      "0  0.004166  \n",
      "1       NaN  \n"
     ]
    },
    {
     "data": {
      "image/png": "[encoded data removed]",
      "text/plain": [
       "<Figure size 360x288 with 1 Axes>"
      ]
     },
     "metadata": {
      "needs_background": "light"
     },
     "output_type": "display_data"
    }
   ],
   "source": [
    "fig,ax = plt.subplots(figsize=(5,4))\n",
    "\n",
    "x = range(4)\n",
    "y = df.groupby('peak_selectivity_time_range2').mean()['coef_pref_int']\n",
    "yerr = df.groupby('peak_selectivity_time_range2').sem()['coef_pref_int']\n",
    "\n",
    "ax.bar(x=x, height=y, color='tab:orange')\n",
    "ax.errorbar(x=x, y=y, yerr=yerr, fmt='none',color='black', linewidth=3)\n",
    "#ax.set_yticks(np.arange(0,210,50))\n",
    "ax.set_ylabel('Multisensory modulation (\\u03B23)',fontsize=14)\n",
    "ax.set_xlabel('Peak selectivity time (ms)',fontsize=14)\n",
    "ax.set_xticks(range(4))\n",
    "ax.set_xticklabels(['0-200','200-400','400-650','650-900'])\n",
    "ax.tick_params(axis='x',labelrotation=45);\n",
    "\n",
    "plt.tight_layout()\n",
    "#plt.show()\n",
    "#plt.savefig(fig_path / 'selectivity_duration_bar.png', dpi=300,facecolor='white')\n",
    "\n",
    "anova_result = pg.anova(data=df, dv='coef_pref_int', between='peak_selectivity_time_range2', detailed=True)\n",
    "print(anova_result)"
   ]
  }
 ],
 "metadata": {
  "kernelspec": {
   "display_name": "Python 3 (ipykernel)",
   "language": "python",
   "name": "python3"
  },
  "language_info": {
   "codemirror_mode": {
    "name": "ipython",
    "version": 3
   },
   "file_extension": ".py",
   "mimetype": "text/x-python",
   "name": "python",
   "nbconvert_exporter": "python",
   "pygments_lexer": "ipython3",
   "version": "3.9.12"
  }
 },
 "nbformat": 4,
 "nbformat_minor": 5
}
