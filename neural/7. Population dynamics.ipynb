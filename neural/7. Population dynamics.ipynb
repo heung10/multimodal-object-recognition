{
 "cells": [
  {
   "cell_type": "markdown",
   "id": "c2d4f156",
   "metadata": {},
   "source": [
    "## Population dynamics\n",
    "This code examines how population of neurons change their firing patterns across time using dimensionality reduction and network dynamics analysis"
   ]
  },
  {
   "cell_type": "code",
   "execution_count": 2,
   "id": "6ef091ff",
   "metadata": {},
   "outputs": [],
   "source": [
    "import os\n",
    "from pathlib import Path\n",
    "import numpy as np\n",
    "import pandas as pd\n",
    "\n",
    "from scipy import stats\n",
    "import statsmodels.api as sm\n",
    "\n",
    "import pingouin as pg\n",
    "\n",
    "import matplotlib as mpl\n",
    "import matplotlib.pyplot as plt  \n",
    "\n",
    "from datetime import date\n",
    "import time\n",
    "\n",
    "import h5py"
   ]
  },
  {
   "cell_type": "code",
   "execution_count": 3,
   "id": "a2efd57f",
   "metadata": {},
   "outputs": [],
   "source": [
    "# no top and right spines in all plots\n",
    "mpl.rcParams['axes.spines.right'] = False\n",
    "mpl.rcParams['axes.spines.top'] = False"
   ]
  },
  {
   "cell_type": "code",
   "execution_count": 4,
   "id": "75d558bd",
   "metadata": {},
   "outputs": [],
   "source": [
    "mother_path = Path('D:/Multi-modal project/')\n",
    "fig_path = mother_path / 'analysis' / 'result' / 'figures'"
   ]
  },
  {
   "cell_type": "markdown",
   "id": "c9d779bc",
   "metadata": {},
   "source": [
    "### Parameter setting"
   ]
  },
  {
   "cell_type": "code",
   "execution_count": 192,
   "id": "80036cec",
   "metadata": {},
   "outputs": [],
   "source": [
    "# colors for multimodal, vis-only, aud-only conditions\n",
    "color = ['tab:purple','tab:blue','tab:red','tab:green']\n",
    "color2 = ['cyan','magenta','gray']\n",
    "linestyle = ['-',':']\n",
    "\n",
    "today = str(date.today())"
   ]
  },
  {
   "cell_type": "markdown",
   "id": "74ff06dc",
   "metadata": {},
   "source": [
    "### Data preparation"
   ]
  },
  {
   "cell_type": "code",
   "execution_count": 7,
   "id": "e42dba14",
   "metadata": {},
   "outputs": [],
   "source": [
    "cell_path = mother_path/'analysis'/'result'/'zFR export'/'13-Jun-2023'\n",
    "cell_list = os.listdir(cell_path)\n",
    "\n",
    "# load hdf5 files containing shuffled results\n",
    "data_path = mother_path /'analysis'/'result'/'3. ANOVA'/'2023-07-05'\n",
    "data2_path = mother_path /'analysis'/'result'/'3.1 Multiple linear regression'/'2023-07-05'\n",
    "f = h5py.File(data_path/'2023-07-05_ANOVA_result.hdf5','r')\n",
    "f2 = h5py.File(data2_path/'2023-07-05_multiple_regression_result.hdf5','r')"
   ]
  },
  {
   "cell_type": "code",
   "execution_count": 8,
   "id": "f0d3e2ba",
   "metadata": {},
   "outputs": [],
   "source": [
    "def h5_to_df(f):\n",
    "    keys = list(f.keys())\n",
    "    attributes = {}\n",
    "    \n",
    "    for key in keys:\n",
    "        attributes[key] = dict(f[key].attrs.items())\n",
    "    \n",
    "    df = pd.DataFrame.from_dict(attributes, orient='index')\n",
    "    df.index.name = 'key'\n",
    "    df = df.reset_index()\n",
    "    \n",
    "    return df"
   ]
  },
  {
   "cell_type": "code",
   "execution_count": 9,
   "id": "906bba68",
   "metadata": {},
   "outputs": [],
   "source": [
    "df = h5_to_df(f)\n",
    "df = df[df['Region']=='PER']\n",
    "df.reset_index(inplace=True, drop=True)\n",
    "\n",
    "for key in df['key']:\n",
    "    if df.loc[df['key']==key, 'Object cell'].item() == 0:\n",
    "        df.loc[df['key']==key, 'Category'] = 'none'\n",
    "    else:\n",
    "        if f2[key].attrs['Response cell'] == 0:\n",
    "            df.loc[df['key']==key, 'Category'] = 'object'\n",
    "        else:\n",
    "            df.loc[df['key']==key, 'Category'] = 'response'"
   ]
  },
  {
   "cell_type": "markdown",
   "id": "e1a56520",
   "metadata": {},
   "source": [
    "### Examine the number of neurons available for population analysis"
   ]
  },
  {
   "cell_type": "code",
   "execution_count": 29,
   "id": "c6f6aeaf",
   "metadata": {},
   "outputs": [
    {
     "name": "stdout",
     "output_type": "stream",
     "text": [
      "['600' '602' '640' '647' '654' '679' '699']\n"
     ]
    }
   ],
   "source": [
    "rat_list = np.sort(df['Rat'].unique())\n",
    "print(rat_list)"
   ]
  },
  {
   "cell_type": "code",
   "execution_count": 44,
   "id": "ca52d6d8",
   "metadata": {},
   "outputs": [
    {
     "name": "stdout",
     "output_type": "stream",
     "text": [
      "===== Object cells + None =====\n",
      "[[ 9. 11.  3. 11.  7.  0.  0.]\n",
      " [26. 19. 28. 16. 16.  0.  0.]\n",
      " [10. 13.  9.  4.  5.  0.  0.]\n",
      " [ 0.  0.  0. 15. 10.  8.  4.]\n",
      " [ 7.  4.  0.  0.  1.  0.  0.]\n",
      " [ 0.  2.  2.  3.  0.  1.  0.]\n",
      " [ 9.  9. 16. 15. 17.  7.  0.]]\n"
     ]
    }
   ],
   "source": [
    "# none cell + object cell (response cell excluded)\n",
    "cell_array = np.zeros((len(rat_list),int(df['Session'].max())))\n",
    "for i in range(len(df)):\n",
    "    rat = df.loc[i, 'Rat']\n",
    "    rat_id = np.where(rat_list==rat)[0][0]\n",
    "    ss = int(df.loc[i, 'Session'])\n",
    "    \n",
    "    if df.loc[i,'Category'] != 'response':\n",
    "        cell_array[rat_id, ss-1] += 1\n",
    "\n",
    "print('===== Object cells + None =====')        \n",
    "print(cell_array)"
   ]
  },
  {
   "cell_type": "code",
   "execution_count": 45,
   "id": "e22bb33a",
   "metadata": {},
   "outputs": [
    {
     "name": "stdout",
     "output_type": "stream",
     "text": [
      "====== Only object cells ======\n",
      "[[ 6.  6.  2.  4.  5.  0.  0.]\n",
      " [15.  6. 10.  5.  8.  0.  0.]\n",
      " [ 7.  9.  4.  3.  3.  0.  0.]\n",
      " [ 0.  0.  0. 10.  4.  4.  4.]\n",
      " [ 3.  2.  0.  0.  1.  0.  0.]\n",
      " [ 0.  1.  0.  1.  0.  0.  0.]\n",
      " [ 4.  3.  6.  3.  8.  3.  0.]]\n"
     ]
    }
   ],
   "source": [
    "# only object cell (response cell, none cell excluded)\n",
    "cell_array = np.zeros((len(rat_list),int(df['Session'].max())))\n",
    "for i in range(len(df)):\n",
    "    rat = df.loc[i, 'Rat']\n",
    "    rat_id = np.where(rat_list==rat)[0][0]\n",
    "    ss = int(df.loc[i, 'Session'])\n",
    "    \n",
    "    if df.loc[i,'Category'] == 'object':\n",
    "        cell_array[rat_id, ss-1] += 1\n",
    "\n",
    "print('====== Only object cells ======')\n",
    "print(cell_array)"
   ]
  },
  {
   "cell_type": "code",
   "execution_count": 21,
   "id": "f6a7997b",
   "metadata": {},
   "outputs": [
    {
     "name": "stdout",
     "output_type": "stream",
     "text": [
      "LE600: 23\n",
      "LE602: 44\n",
      "LE640: 26\n",
      "LE647: 22\n",
      "LE654: 6\n",
      "LE679: 2\n",
      "LE699: 27\n"
     ]
    }
   ],
   "source": [
    "num_obj = np.sum(cell_array,axis=1)\n",
    "for i in range(len(rat_list)):\n",
    "    print(f'LE{rat_list[i]}: {int(num_obj[i])}')"
   ]
  },
  {
   "cell_type": "markdown",
   "id": "e201440f",
   "metadata": {},
   "source": [
    "### Neural population dynamics"
   ]
  },
  {
   "cell_type": "code",
   "execution_count": 51,
   "id": "edc860fd",
   "metadata": {},
   "outputs": [],
   "source": [
    "from sklearn.preprocessing import StandardScaler\n",
    "from sklearn.decomposition import PCA\n",
    "\n",
    "rat_list2 = rat_list[[0,1,2,3,6]]    # pick rats with enough samples\n",
    "rat = rat_list2[1]"
   ]
  },
  {
   "cell_type": "code",
   "execution_count": 258,
   "id": "030fda77",
   "metadata": {},
   "outputs": [],
   "source": [
    "def neural_state_PCA(rat, bin_size, num_PC):\n",
    "    \n",
    "    scaler = StandardScaler()   \n",
    "\n",
    "    object_cell_list = df.loc[(df['Category']=='object')&(df['Rat']==rat),'key']\n",
    "    num_bin = int(90/bin_size)\n",
    "    \n",
    "    pop_mat = np.zeros((int(8*num_bin),len(object_cell_list)))\n",
    "    for i, key in enumerate(object_cell_list):\n",
    "        key = key.zfill(4)\n",
    "        cell_filename = list(cell_path.glob(f'{key}*.csv'))\n",
    "        df_cell = pd.read_csv(cell_filename[0])\n",
    "        df_cell.drop(df_cell[df_cell.Correctness==0].index,inplace=True)\n",
    "        df_cell.reset_index(inplace=True,drop=True)\n",
    "        \n",
    "        boy_goal = df_cell.loc[df_cell['Visual']=='Boy','RWD_Loc'].values[0]\n",
    "        egg_goal = df_cell.loc[df_cell['Visual']=='Egg','RWD_Loc'].values[0]\n",
    "\n",
    "        cond = [(df_cell.Type=='Multimodal')&(df_cell.RWD_Loc==boy_goal),\n",
    "                (df_cell.Type=='Visual')&(df_cell.RWD_Loc==boy_goal),\n",
    "                (df_cell.Type=='Auditory')&(df_cell.RWD_Loc==boy_goal),\n",
    "                (df_cell.Type=='Multimodal')&(df_cell.RWD_Loc==egg_goal),\n",
    "                (df_cell.Type=='Visual')&(df_cell.RWD_Loc==egg_goal),\n",
    "                (df_cell.Type=='Auditory')&(df_cell.RWD_Loc==egg_goal),\n",
    "                (df_cell.Type=='Elemental')&(df_cell.RWD_Loc==boy_goal),\n",
    "                (df_cell.Type=='Elemental')&(df_cell.RWD_Loc==boy_goal)]\n",
    "        \n",
    "        fr_id = df_cell.columns.get_loc('Var10')  # get the index of the first firing rate column\n",
    "        \n",
    "        for c in range(len(cond)):\n",
    "            bin_FR = np.zeros(bin_size)\n",
    "            cond_FR = df_cell[cond[c]].iloc[:,fr_id:fr_id+90].to_numpy()\n",
    "            for b in range(num_bin):\n",
    "                pop_mat[num_bin*c+b,i] = np.mean(cond_FR[:,bin_size*b:bin_size*(b+1)])\n",
    "                \n",
    "        #pop_mat[:,i] = scaler.fit_transform([pop_mat[:,i]])\n",
    "          \n",
    "    pop_mat = scaler.fit_transform(pop_mat)\n",
    "    \n",
    "    pca = PCA(n_components=num_PC)\n",
    "    pca.fit(pop_mat)\n",
    "    PCA_result = pca.transform(pop_mat)\n",
    "        \n",
    "    return PCA_result"
   ]
  },
  {
   "cell_type": "code",
   "execution_count": 273,
   "id": "b606c9a5",
   "metadata": {},
   "outputs": [
    {
     "name": "stdout",
     "output_type": "stream",
     "text": [
      "(72, 2)\n"
     ]
    }
   ],
   "source": [
    "bin_size = 10\n",
    "num_bin = int(90/bin_size)\n",
    "PCA_result = neural_state_PCA('602', bin_size, 2)\n",
    "print(np.shape(PCA_result))"
   ]
  },
  {
   "cell_type": "code",
   "execution_count": 274,
   "id": "8a2c6d63",
   "metadata": {},
   "outputs": [
    {
     "data": {
      "image/png": "[encoded data removed]",
      "text/plain": [
       "<Figure size 432x288 with 1 Axes>"
      ]
     },
     "metadata": {
      "needs_background": "light"
     },
     "output_type": "display_data"
    }
   ],
   "source": [
    "# Plot the transformed data in 2D\n",
    "for i in range(3):\n",
    "    plt.scatter(PCA_result[num_bin*i:num_bin*(i+1),0],\n",
    "                PCA_result[num_bin*i:num_bin*(i+1),1], color=color[i], marker='s')\n",
    "for i in [3,4,5]:\n",
    "    plt.scatter(PCA_result[num_bin*i:num_bin*(i+1),0],\n",
    "                PCA_result[num_bin*i:num_bin*(i+1),1], color=color[i-3], marker='^')"
   ]
  },
  {
   "cell_type": "code",
   "execution_count": null,
   "id": "1d5f0123",
   "metadata": {},
   "outputs": [],
   "source": [
    "fig,ax = plt.subplots()"
   ]
  }
 ],
 "metadata": {
  "kernelspec": {
   "display_name": "Python 3 (ipykernel)",
   "language": "python",
   "name": "python3"
  },
  "language_info": {
   "codemirror_mode": {
    "name": "ipython",
    "version": 3
   },
   "file_extension": ".py",
   "mimetype": "text/x-python",
   "name": "python",
   "nbconvert_exporter": "python",
   "pygments_lexer": "ipython3",
   "version": "3.9.12"
  }
 },
 "nbformat": 4,
 "nbformat_minor": 5
}
