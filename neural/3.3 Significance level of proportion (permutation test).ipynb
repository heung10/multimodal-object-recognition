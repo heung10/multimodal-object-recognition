{
 "cells": [
  {
   "cell_type": "code",
   "execution_count": 1,
   "id": "6ef091ff",
   "metadata": {},
   "outputs": [],
   "source": [
    "import os\n",
    "import numpy as np\n",
    "import pandas as pd\n",
    "\n",
    "from scipy import stats\n",
    "from scipy.ndimage import gaussian_filter\n",
    "from scipy.signal import find_peaks\n",
    "\n",
    "import pingouin\n",
    "\n",
    "import matplotlib as mpl\n",
    "import matplotlib.pyplot as plt  \n",
    "import seaborn as sns\n",
    "\n",
    "from datetime import date\n",
    "\n",
    "import random"
   ]
  },
  {
   "cell_type": "code",
   "execution_count": 2,
   "id": "a2efd57f",
   "metadata": {},
   "outputs": [],
   "source": [
    "# no top and right spines in all plots\n",
    "mpl.rcParams['axes.spines.right'] = False\n",
    "mpl.rcParams['axes.spines.top'] = False"
   ]
  },
  {
   "cell_type": "code",
   "execution_count": 3,
   "id": "75d558bd",
   "metadata": {},
   "outputs": [],
   "source": [
    "mother_path = 'D:/Multi-modal project/'"
   ]
  },
  {
   "cell_type": "markdown",
   "id": "c9d779bc",
   "metadata": {},
   "source": [
    "# Parameter setting"
   ]
  },
  {
   "cell_type": "code",
   "execution_count": 4,
   "id": "80036cec",
   "metadata": {},
   "outputs": [],
   "source": [
    "sig_alpha = 0.01\n",
    "sig_cohend = 0.4\n",
    "cons_bin_crit = 5\n",
    "\n",
    "only_PER = True   # analyze only PER neurons?\n",
    "\n",
    " # colors for multimodal, vis-only, aud-only conditions\n",
    "colorpalette = ['purple','blue','red','gray']\n",
    "\n",
    "cat = ['M','V','A','MV','MA','VA','MVA']\n",
    "\n",
    "today = str(date.today())"
   ]
  },
  {
   "cell_type": "markdown",
   "id": "74ff06dc",
   "metadata": {},
   "source": [
    "# Data preparation"
   ]
  },
  {
   "cell_type": "code",
   "execution_count": 5,
   "id": "e42dba14",
   "metadata": {},
   "outputs": [],
   "source": [
    "unit_summary = pd.read_table(mother_path+'/analysis/result'+\n",
    "                             '/1. Cluster summary/clusterSummary.csv',sep=',')\n",
    "save_path = mother_path+'analysis/result/3. Item-selectivity/'\n",
    "data_path = mother_path+'analysis/result/zFR export/13-Apr-2022 (5 trials)/'\n",
    "os.chdir(data_path)"
   ]
  },
  {
   "cell_type": "code",
   "execution_count": 6,
   "id": "522e8ee6",
   "metadata": {},
   "outputs": [],
   "source": [
    "# empty list for result csv file\n",
    "result=[]"
   ]
  },
  {
   "cell_type": "code",
   "execution_count": 7,
   "id": "e9bd828a",
   "metadata": {},
   "outputs": [],
   "source": [
    "cell_list = os.listdir(os.curdir)"
   ]
  },
  {
   "cell_type": "markdown",
   "id": "e0fbe3cd",
   "metadata": {},
   "source": [
    "# Data analysis"
   ]
  },
  {
   "cell_type": "code",
   "execution_count": 8,
   "id": "3597e78f",
   "metadata": {},
   "outputs": [],
   "source": [
    "def find_sig_field(sig_bin,cohend):\n",
    "    cohend = np.abs(cohend)\n",
    "    field_bin = []\n",
    "    for i in sig_bin:\n",
    "        sig_chunk = []\n",
    "        now_bin = i\n",
    "        goback = True\n",
    "        while goback is True:\n",
    "            if now_bin < 0:\n",
    "                goback = False\n",
    "            elif cohend[now_bin] > sig_cohend:\n",
    "                sig_chunk = np.append(sig_chunk,now_bin)\n",
    "                now_bin -= 1\n",
    "            else:\n",
    "                goback = False\n",
    "                \n",
    "        now_bin = i\n",
    "        goforward = True\n",
    "        while goforward is True:\n",
    "            if now_bin > 94:\n",
    "                goforward = False\n",
    "            elif cohend[now_bin] > sig_cohend:\n",
    "                sig_chunk = np.append(sig_chunk,now_bin)\n",
    "                now_bin += 1\n",
    "            else:\n",
    "                goforward = False\n",
    "        if (np.max(sig_chunk)-np.min(sig_chunk))<(cons_bin_crit-1):\n",
    "            sig_chunk = []\n",
    "        field_bin = np.append(field_bin,sig_chunk)\n",
    "    result = np.array(list(set(field_bin)))\n",
    "    return result.astype(int)"
   ]
  },
  {
   "cell_type": "code",
   "execution_count": 9,
   "id": "b9c1110b",
   "metadata": {},
   "outputs": [],
   "source": [
    "def shuffle_proportion(num_shuffle):\n",
    "    \n",
    "    # M,V,A,MV,MA,VA,MVA\n",
    "    shuffle_result = np.zeros((num_shuffle,len(cat)))\n",
    "    \n",
    "    for shuffle_run in range(num_shuffle):\n",
    "        \n",
    "        cat_count = np.zeros((1,len(cat)))\n",
    "                \n",
    "        for cell_run in cell_list:\n",
    "            \n",
    "            cell_info = cell_run.split('-')\n",
    "            region = cell_info[5]\n",
    "            if only_PER:\n",
    "                if region!='PER':\n",
    "                    continue;\n",
    "            \n",
    "            data = pd.read_csv(cell_run)\n",
    "    \n",
    "            data.drop(data[data.Correctness==0].index,inplace=True)                \n",
    "            data.iloc[:,9:] = round(data.iloc[:,9:]*10000)/10000 \n",
    "            data['ShuffledChoice'] = np.random.permutation(data['Choice'])            \n",
    "\n",
    "            cond = [(data.Type=='Multimodal')&(data.ShuffledChoice=='Left'),\n",
    "                    (data.Type=='Multimodal')&(data.ShuffledChoice=='Right'),\n",
    "                    (data.Type=='Visual')&(data.ShuffledChoice=='Left'),\n",
    "                    (data.Type=='Visual')&(data.ShuffledChoice=='Right'),\n",
    "                    (data.Type=='Auditory')&(data.ShuffledChoice=='Left'),\n",
    "                    (data.Type=='Auditory')&(data.ShuffledChoice=='Right')]    \n",
    "            \n",
    "            mean_by_cond = np.zeros((6,95))\n",
    "            sem_by_cond = np.zeros((6,95))\n",
    "            for i in range(6):\n",
    "                mean_by_cond[i,:]=data[cond[i]].iloc[:,9:-1].to_numpy().mean(axis=0)\n",
    "                sem_by_cond[i,:]=stats.sem(data[cond[i]].iloc[:,9:-1].to_numpy())    \n",
    "                \n",
    "            pval_map = np.zeros((3,95))\n",
    "            sig_bin = np.zeros((3,95))\n",
    "    \n",
    "            cohend_by_cond = np.zeros((3,95))\n",
    "            sig_field = dict()\n",
    "    \n",
    "            for i in range(3):\n",
    "                for j in range(95):\n",
    "                    comp_data = data[cond[i*2]|cond[i*2+1]].iloc[:,9+j]\n",
    "                    if all(x==comp_data.iloc[0] for x in comp_data):\n",
    "                        pval_map[i,j] = 1\n",
    "                        cohend_by_cond[i,j] = 0\n",
    "                    else:\n",
    "                        pval_map[i,j] = stats.ttest_ind(data[cond[i*2]].iloc[:,9+j],data[cond[i*2+1]].iloc[:,9+j])[1]\n",
    "                        cohend_by_cond[i,j] = (mean_by_cond[i*2,j]-mean_by_cond[i*2+1,j])/(data[cond[i*2]|cond[i*2+1]].iloc[:,9+j]).std()\n",
    "                    sig_bin[i,j] = (pval_map[i,j] < sig_alpha)*np.sign(data[cond[i*2]].iloc[:,9+j].mean()-data[cond[i*2+1]].iloc[:,9+j].mean())    \n",
    "\n",
    "            pval_map[np.isinf(pval_map)] = 1\n",
    "            pval_map[np.isnan(pval_map)] = 1\n",
    "            cohend_by_cond[np.isinf(cohend_by_cond)] = 0        \n",
    "            cohend_by_cond[np.isnan(cohend_by_cond)] = 0     \n",
    "                \n",
    "            sig_field_count = np.zeros((6,1))\n",
    "            SI = np.zeros((6,1))\n",
    "            peaktime = np.zeros((3,1))\n",
    "            binary = np.zeros((3,95))\n",
    "            for i in range(3):\n",
    "                sig_field[i] = find_sig_field(np.nonzero(sig_bin[i,:])[0],cohend_by_cond[i,:])\n",
    "                if sig_field[i].any():\n",
    "                    peaktime[i] = sig_field[i][np.argmax(np.abs(cohend_by_cond[i,sig_field[i]]))]\n",
    "                    for j in sig_field[i]:\n",
    "                        if cohend_by_cond[i,j] > 0:\n",
    "                            sig_field_count[2*i] += 1\n",
    "                            SI[2*i] += cohend_by_cond[i,j]\n",
    "                            binary[i,j] = 1\n",
    "                        elif cohend_by_cond[i,j] < 0:\n",
    "                            sig_field_count[2*i+1] += 1        \n",
    "                            SI[2*i+1] += np.abs(cohend_by_cond[i,j])\n",
    "                            binary[i,j] = -1       \n",
    "                                \n",
    "            M_sig = int((sig_field_count[0]!=0)|(sig_field_count[1]!=0))\n",
    "            V_sig = int((sig_field_count[2]!=0)|(sig_field_count[3]!=0))\n",
    "            A_sig = int((sig_field_count[4]!=0)|(sig_field_count[5]!=0))\n",
    "            \n",
    "            cat_info = ''\n",
    "            if M_sig == 1:\n",
    "                cat_info += 'M'\n",
    "            if V_sig == 1:\n",
    "                cat_info += 'V'\n",
    "            if A_sig == 1:\n",
    "                cat_info += 'A'\n",
    "                \n",
    "            for i,c in enumerate(cat):\n",
    "                if cat_info==c:\n",
    "                    cat_count[0,i]+=1\n",
    "        \n",
    "        shuffle_result[shuffle_run,:] = cat_count\n",
    "    return shuffle_result"
   ]
  },
  {
   "cell_type": "code",
   "execution_count": 10,
   "id": "fff59a00",
   "metadata": {},
   "outputs": [
    {
     "name": "stdout",
     "output_type": "stream",
     "text": [
      "CPU times: total: 3min 53s\n",
      "Wall time: 4min 19s\n"
     ]
    }
   ],
   "source": [
    "%%time\n",
    "shuffle_result = shuffle_proportion(1)"
   ]
  }
 ],
 "metadata": {
  "kernelspec": {
   "display_name": "Python 3 (ipykernel)",
   "language": "python",
   "name": "python3"
  },
  "language_info": {
   "codemirror_mode": {
    "name": "ipython",
    "version": 3
   },
   "file_extension": ".py",
   "mimetype": "text/x-python",
   "name": "python",
   "nbconvert_exporter": "python",
   "pygments_lexer": "ipython3",
   "version": "3.9.12"
  }
 },
 "nbformat": 4,
 "nbformat_minor": 5
}
