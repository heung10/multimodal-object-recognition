{
 "cells": [
  {
   "cell_type": "code",
   "execution_count": 360,
   "id": "6ef091ff",
   "metadata": {},
   "outputs": [],
   "source": [
    "import os\n",
    "import numpy as np\n",
    "import pandas as pd\n",
    "\n",
    "from scipy import stats\n",
    "from scipy.ndimage import gaussian_filter\n",
    "import statsmodels.api as sm\n",
    "\n",
    "import pingouin\n",
    "\n",
    "import matplotlib as mpl\n",
    "import matplotlib.pyplot as plt  \n",
    "import matplotlib.colors as colors\n",
    "from matplotlib.patches import Rectangle\n",
    "import seaborn as sns\n",
    "\n",
    "from datetime import date\n",
    "import random"
   ]
  },
  {
   "cell_type": "code",
   "execution_count": 2,
   "id": "a2efd57f",
   "metadata": {},
   "outputs": [],
   "source": [
    "# no top and right spines in all plots\n",
    "mpl.rcParams['axes.spines.right'] = False\n",
    "mpl.rcParams['axes.spines.top'] = False"
   ]
  },
  {
   "cell_type": "code",
   "execution_count": 23,
   "id": "75d558bd",
   "metadata": {},
   "outputs": [],
   "source": [
    "mother_path = 'D:/Multi-modal project/analysis/'\n",
    "save_path = mother_path+'result/5. Unimodal object coding/'\n",
    "fig_path = mother_path+'result/figures/'"
   ]
  },
  {
   "cell_type": "markdown",
   "id": "c9d779bc",
   "metadata": {},
   "source": [
    "### Parameter setting"
   ]
  },
  {
   "cell_type": "code",
   "execution_count": 4,
   "id": "80036cec",
   "metadata": {},
   "outputs": [],
   "source": [
    "sig_alpha = 0.01\n",
    "sig_cohend = 0.4\n",
    "cons_bin_crit = 5\n",
    "\n",
    "gauss_sigma = 2\n",
    "gauss_on = True\n",
    "\n",
    "only_PER = True   # analyze only PER neurons?\n",
    "\n",
    "condition = ['Multimodal','Visual','Auditory','Control']\n",
    "cat = ['M','V','A','MV','MA','VA','MVA','None']\n",
    "\n",
    "# colors for multimodal, vis-only, aud-only conditions\n",
    "colorpalette = ['mediumorchid','cornflowerblue','lightcoral','gray']\n",
    "\n",
    "today = str(date.today())"
   ]
  },
  {
   "cell_type": "markdown",
   "id": "74ff06dc",
   "metadata": {},
   "source": [
    "### Data preparation"
   ]
  },
  {
   "cell_type": "code",
   "execution_count": 5,
   "id": "e42dba14",
   "metadata": {},
   "outputs": [],
   "source": [
    "cell_path = mother_path+'result/zFR export/13-Apr-2022 (5 trials)/'\n",
    "\n",
    "data_path = mother_path+'result/3. Item-selectivity/2023-01-09/'\n",
    "df = pd.read_csv(data_path+'2023-01-09_item-selectivity.csv')\n",
    "\n",
    "# analyze only PER neurons\n",
    "if only_PER == True:\n",
    "    df = df[df['Region']=='PER']\n",
    "    df.reset_index(inplace=True,drop=True)\n",
    "df.insert(4,'Cat','')\n",
    "\n",
    "for i in range(len(df)):\n",
    "    cat_info = ''\n",
    "    if df.loc[i,'M_sig'] == 1:\n",
    "        cat_info += 'M'\n",
    "    if df.loc[i,'V_sig'] == 1:\n",
    "        cat_info += 'V'\n",
    "    if df.loc[i,'A_sig'] == 1:\n",
    "        cat_info += 'A'\n",
    "    if cat_info=='':\n",
    "        df.loc[i,'Cat'] = 'None'\n",
    "    else:\n",
    "        df.loc[i,'Cat'] = cat_info"
   ]
  },
  {
   "cell_type": "code",
   "execution_count": 7,
   "id": "e7206f61",
   "metadata": {},
   "outputs": [],
   "source": [
    "# load selectivity data\n",
    "Binary_M = pd.read_csv(data_path+'Binary_M.csv')\n",
    "Binary_V = pd.read_csv(data_path+'Binary_V.csv')\n",
    "Binary_A = pd.read_csv(data_path+'Binary_A.csv')\n",
    "Binary_C = pd.read_csv(data_path+'Binary_C.csv')\n",
    "\n",
    "Cohend_M = pd.read_csv(data_path+'Cohend_M.csv')\n",
    "Cohend_V = pd.read_csv(data_path+'Cohend_V.csv')\n",
    "Cohend_A = pd.read_csv(data_path+'Cohend_A.csv')\n",
    "Cohend_C = pd.read_csv(data_path+'Cohend_C.csv')\n",
    "\n",
    "# load surrogate correlation\n",
    "surr_corr = pd.read_csv(mother_path+'result/4.1. Surrogate correlations/2023-03-29/surrogate_correlations.csv')\n",
    "\n",
    "# load correlation\n",
    "# pearson's r\n",
    "corr = pd.read_csv(mother_path+'result/4. Selectivity correlations/2023-03-18/2023-03-18_selectivity_corr.csv')\n",
    "\n",
    "# kendall's tau\n",
    "#corr = pd.read_csv(mother_path+'result/4. Selectivity correlations/2023-03-28 (kendall)/2023-03-28_selectivity_corr.csv')\n",
    "\n",
    "corr = corr[corr.Region=='PER']\n",
    "corr.reset_index(inplace=True,drop=True)\n",
    "\n",
    "# add selectivity correlation data to the data frame\n",
    "df['MV_corr'] = corr['MV corr']\n",
    "df['MA_corr'] = corr['MA corr']\n",
    "df['VA_corr'] = corr['VA corr']"
   ]
  },
  {
   "cell_type": "code",
   "execution_count": 8,
   "id": "522e8ee6",
   "metadata": {},
   "outputs": [],
   "source": [
    "# empty list for result csv file\n",
    "result=[]"
   ]
  },
  {
   "cell_type": "markdown",
   "id": "5bfaaa43",
   "metadata": {},
   "source": [
    "### M-V, M-A correlation histogram"
   ]
  },
  {
   "cell_type": "code",
   "execution_count": 54,
   "id": "84ddc5fe",
   "metadata": {},
   "outputs": [
    {
     "name": "stdout",
     "output_type": "stream",
     "text": [
      "% of cells having sig M-V correlation: 31.94 %\n",
      "% of cells having sig M-A correlation: 44.21 %\n"
     ]
    }
   ],
   "source": [
    "corr_crit = [np.percentile(surr_corr['M-V corr'],95),\n",
    "             np.percentile(surr_corr['M-A corr'],95),\n",
    "             np.percentile(surr_corr['V-A corr'],95)]\n",
    "\n",
    "V = df[(df.Cat=='MV')|(df.Cat=='MVA')]\n",
    "V.reset_index(inplace=True,drop=True)\n",
    "MV_sig_count = sum(V['MV_corr']>corr_crit[0])\n",
    "\n",
    "A = df[(df.Cat=='MA')|(df.Cat=='MVA')]\n",
    "A.reset_index(inplace=True,drop=True)\n",
    "MA_sig_count = sum(A['MA_corr']>corr_crit[1])\n",
    "\n",
    "print('% of cells having sig M-V correlation:', f'{MV_sig_count/len(V)*100:.2f}','%')\n",
    "print('% of cells having sig M-A correlation:', f'{MA_sig_count/len(A)*100:.2f}','%')"
   ]
  },
  {
   "cell_type": "code",
   "execution_count": 63,
   "id": "4f114ca5",
   "metadata": {},
   "outputs": [
    {
     "name": "stdout",
     "output_type": "stream",
     "text": [
      "%%% Chi-square results %%%\n",
      "Test statistic: 2.1019\n",
      "P-value: 0.1471\n",
      "Degrees of freedom: 1\n"
     ]
    }
   ],
   "source": [
    "prop = np.array([[len(V)-MV_sig_count,MV_sig_count],[len(A)-MA_sig_count,MA_sig_count]])\n",
    "stat, p, dof, expected = stats.chi2_contingency(prop)\n",
    "\n",
    "print('%%% Chi-square results %%%')\n",
    "print(f\"Test statistic: {stat:.4f}\")\n",
    "print(f\"P-value: {p:.4f}\")\n",
    "print(f\"Degrees of freedom: {dof}\")"
   ]
  },
  {
   "cell_type": "code",
   "execution_count": 374,
   "id": "cf9d7d66",
   "metadata": {},
   "outputs": [
    {
     "name": "stdout",
     "output_type": "stream",
     "text": [
      "**** Proportion z-test with 50% ****\n",
      "For visual\n",
      "zstat: 3.286\n",
      "pvalue: 0.001\n",
      "===================\n",
      "For auditory\n",
      "zstat: 1.136\n",
      "pvalue: 0.256\n",
      "===================\n"
     ]
    }
   ],
   "source": [
    "z1,p1 = sm.stats.proportions_ztest(count = prop[0,0],nobs = prop[0,:].sum(),\n",
    "                                 value = 0.5,alternative = 'two-sided')\n",
    "z2,p2 = sm.stats.proportions_ztest(count = prop[1,0],nobs = prop[1,:].sum(),\n",
    "                                 value = 0.5,alternative = 'two-sided')\n",
    "\n",
    "print('**** Proportion z-test with 50% ****')\n",
    "print('For visual')\n",
    "print(f'zstat: {z1:.3f}')\n",
    "print(f'pvalue: {p1:.3f}')\n",
    "print('===================')\n",
    "print('For auditory')\n",
    "print(f'zstat: {z2:.3f}')\n",
    "print(f'pvalue: {p2:.3f}')\n",
    "print('===================')"
   ]
  },
  {
   "cell_type": "markdown",
   "id": "c506888a",
   "metadata": {},
   "source": [
    "### MV_sig_count"
   ]
  },
  {
   "cell_type": "code",
   "execution_count": 53,
   "id": "768391c6",
   "metadata": {},
   "outputs": [
    {
     "data": {
      "image/png": "[encoded data removed]",
      "text/plain": [
       "<Figure size 576x288 with 2 Axes>"
      ]
     },
     "metadata": {
      "needs_background": "light"
     },
     "output_type": "display_data"
    }
   ],
   "source": [
    "fig,ax = plt.subplots(1,2,figsize=(8,4))\n",
    "\n",
    "x = [V['MV_corr'],A['MA_corr']]\n",
    "t = ['M-V correlation','M-A correlation']\n",
    "x2 = [V.loc[V['MV_corr']>corr_crit[0],'MV_corr'],A.loc[A['MA_corr']>corr_crit[1],'MA_corr']]\n",
    "\n",
    "for i in range(2):\n",
    "    ax[i].hist(x[i],color='black',fill=False,\n",
    "               bins=np.arange(-1,1,0.1),histtype='step')\n",
    "    ax[i].hist(x2[i],color='black',\n",
    "               bins=np.arange(-1,1,0.1),histtype='stepfilled')\n",
    "    ax[i].set_title(t[i],fontsize=20)\n",
    "    ax[i].set_ylabel('Counts',fontsize=15)\n",
    "    ax[i].set_ylim([0,14])\n",
    "    ax[i].set_yticks(range(0,16,2))\n",
    "    ax[i].set_xlabel('Corr Coef',fontsize=15)\n",
    "    ax[i].set_xlim([-1,1])\n",
    "    ax[i].tick_params(axis='both',which='major',labelsize=13)\n",
    "\n",
    "fig.tight_layout()\n",
    "plt.savefig(fig_path+'unimodal_corr_hist.svg')\n",
    "plt.savefig(fig_path+'unimodal_corr_hist.png',dpi=200,facecolor='white')"
   ]
  },
  {
   "cell_type": "markdown",
   "id": "730694ea",
   "metadata": {},
   "source": [
    "### Comparing selectivity between modalities\n",
    "1. Selectivity duration\n",
    "2. Sum of Cohen's d (within significant selectivity)\n",
    "3. Selectivity peak"
   ]
  },
  {
   "cell_type": "code",
   "execution_count": null,
   "id": "4b4acb29",
   "metadata": {},
   "outputs": [],
   "source": []
  },
  {
   "cell_type": "markdown",
   "id": "afa16f66",
   "metadata": {},
   "source": [
    "### Visualizing temporal overlap (non-overlap) of object-selectivity"
   ]
  },
  {
   "cell_type": "code",
   "execution_count": 33,
   "id": "df7070d5",
   "metadata": {},
   "outputs": [],
   "source": [
    "def check_continuous(binary):\n",
    "    nonzeros = np.nonzero(binary)[0]\n",
    "    if len(nonzeros) == 0:\n",
    "        return np.zeros((1, 1))\n",
    "    diffs = np.diff(nonzeros)\n",
    "    boundaries = np.concatenate(([0], np.where(diffs != 1)[0] + 1, [len(nonzeros)]))\n",
    "    result = np.zeros((len(boundaries) - 1, 2))\n",
    "    for i in range(len(result)):\n",
    "        result[i, 0] = nonzeros[boundaries[i]]\n",
    "        result[i, 1] = nonzeros[boundaries[i+1]-1]\n",
    "    return result"
   ]
  },
  {
   "cell_type": "code",
   "execution_count": 48,
   "id": "a9b6e941",
   "metadata": {},
   "outputs": [],
   "source": [
    "def plot_overlap(ax,mod,color):\n",
    "    if mod == 'visual':\n",
    "        df = V\n",
    "        df_sort = V_sorted\n",
    "        binary = Binary_V\n",
    "        t = 'M-V overlap'\n",
    "    else:\n",
    "        df = A\n",
    "        df_sort = A_sorted\n",
    "        binary = Binary_A        \n",
    "        t = 'M-A overlap'\n",
    "        \n",
    "    for cell_order,i in enumerate(df_sort):\n",
    "        key = df.loc[i,'Key']\n",
    "        M = Binary_M[Binary_M.iloc[:,0]==key].iloc[:,1:].values[0]\n",
    "        nM = binary[binary.iloc[:,0]==key].iloc[:,1:].values[0]\n",
    "        \n",
    "        M_cont = check_continuous(M)\n",
    "        nM_cont = check_continuous(nM)\n",
    "        \n",
    "        overlap = np.zeros((95,))\n",
    "        for j in range(95):\n",
    "            if (M[j]==nM[j])*(M[j]!=0):\n",
    "                overlap[j] = 1\n",
    "        overlap_cont = check_continuous(overlap)\n",
    "        \n",
    "        for j in range(M_cont.shape[0]):\n",
    "            ax.hlines(cell_order+1,M_cont[j,0],M_cont[j,1],colors='purple',linewidth=6,alpha=0.5)\n",
    "        for j in range(nM_cont.shape[0]):\n",
    "            ax.hlines(cell_order+1,nM_cont[j,0],nM_cont[j,1],colors=color,linewidth=6,alpha=0.5)\n",
    "            \n",
    "        if overlap_cont.sum()!=0:\n",
    "            for j in range(overlap_cont.shape[0]):\n",
    "                rec = Rectangle((overlap_cont[j,0],cell_order+0.5),\n",
    "                                overlap_cont[j,1]-overlap_cont[j,0],1,\n",
    "                                fill=False,color='black',linewidth=3)\n",
    "                ax.add_patch(rec)\n",
    "    \n",
    "    ax.set_xlim([0,95])\n",
    "    ax.set_ylabel('Cell ID')\n",
    "    ax.set_ylim([0,len(df_sort)])    \n",
    "    ax.set_yticks([1,10,20,30,40,len(df_sort)])\n",
    "    ax.set_xlabel('Time (ms)')\n",
    "    ax.set_xticks([0,40,95])\n",
    "    ax.set_xticklabels([0,400,950])    \n",
    "    ax.set_title(t,fontsize=20)"
   ]
  },
  {
   "cell_type": "code",
   "execution_count": 35,
   "id": "25335013",
   "metadata": {},
   "outputs": [],
   "source": [
    "V = df[(df.Cat=='MV')|(df.Cat=='MVA')]\n",
    "V.reset_index(inplace=True,drop=True)\n",
    "\n",
    "A = df[(df.Cat=='MA')|(df.Cat=='MVA')]\n",
    "A.reset_index(inplace=True,drop=True)\n",
    "\n",
    "V = V[V['MV_corr']<corr_crit[0]]\n",
    "V.reset_index(inplace=True,drop=True)\n",
    "\n",
    "A = A[A['MA_corr']<corr_crit[1]]\n",
    "A.reset_index(inplace=True,drop=True)\n",
    "\n",
    "# sort cells based on peak selectivity time in multimodal condition\n",
    "V_sorted = sorted(range(len(V.Key)),key=lambda k:V.loc[k,'M_peaktime'])\n",
    "A_sorted = sorted(range(len(A.Key)),key=lambda k:A.loc[k,'M_peaktime'])"
   ]
  },
  {
   "cell_type": "code",
   "execution_count": 50,
   "id": "45e5c41c",
   "metadata": {},
   "outputs": [
    {
     "data": {
      "image/png": "[encoded data removed]",
      "text/plain": [
       "<Figure size 720x576 with 2 Axes>"
      ]
     },
     "metadata": {
      "needs_background": "light"
     },
     "output_type": "display_data"
    }
   ],
   "source": [
    "fig,ax = plt.subplots(1,2,figsize=(10,8))\n",
    "plot_overlap(ax[0],'visual','blue')\n",
    "plot_overlap(ax[1],'auditory','red')\n",
    "\n",
    "plt.savefig(fig_path+'unimodal_overlap.svg')\n",
    "plt.savefig(fig_path+'unimodal_overlap.png',dpi=200,facecolor='white')"
   ]
  },
  {
   "cell_type": "markdown",
   "id": "3816f2d0",
   "metadata": {},
   "source": [
    "### Temporal spanning of selectivity signals\n",
    "to show that temporally heterogeneous object-selective signals spanned equally across all task epoch."
   ]
  },
  {
   "cell_type": "code",
   "execution_count": 109,
   "id": "b9703837",
   "metadata": {},
   "outputs": [],
   "source": [
    "V = df[(df.Cat=='MV')|(df.Cat=='MVA')]\n",
    "V.reset_index(inplace=True,drop=True)\n",
    "\n",
    "A = df[(df.Cat=='MA')|(df.Cat=='MVA')]\n",
    "A.reset_index(inplace=True,drop=True)\n",
    "\n",
    "V = V[V['MV_corr']<corr_crit[0]]\n",
    "V.reset_index(inplace=True,drop=True)\n",
    "\n",
    "A = A[A['MA_corr']<corr_crit[1]]\n",
    "A.reset_index(inplace=True,drop=True)"
   ]
  },
  {
   "cell_type": "code",
   "execution_count": 110,
   "id": "a74505d9",
   "metadata": {},
   "outputs": [],
   "source": [
    "result_MinV = np.empty((0,95))\n",
    "result_VinV = np.empty((0,95))\n",
    "\n",
    "for v in V.Key:\n",
    "    MinV = np.abs(Binary_M[Binary_M.iloc[:,0]==v].iloc[:,1:96].values[0])\n",
    "    VinV = np.abs(Binary_V[Binary_V.iloc[:,0]==v].iloc[:,1:96].values[0])\n",
    "    \n",
    "    result_MinV = np.append(result_MinV,[MinV],axis=0)\n",
    "    result_VinV = np.append(result_VinV,[VinV],axis=0)\n",
    "    \n",
    "    \n",
    "result_MinA = np.empty((0,95))\n",
    "result_AinA = np.empty((0,95))\n",
    "\n",
    "for a in A.Key:\n",
    "    MinA = np.abs(Binary_M[Binary_M.iloc[:,0]==a].iloc[:,1:96].values[0])\n",
    "    AinA = np.abs(Binary_A[Binary_A.iloc[:,0]==a].iloc[:,1:96].values[0])\n",
    "    \n",
    "    result_MinA = np.append(result_MinA,[MinA],axis=0)\n",
    "    result_AinA = np.append(result_AinA,[AinA],axis=0)"
   ]
  },
  {
   "cell_type": "code",
   "execution_count": 181,
   "id": "df8aff82",
   "metadata": {},
   "outputs": [],
   "source": [
    "# smoothing\n",
    "bin_size = 5\n",
    "num_bin = int(95/bin_size)\n",
    "\n",
    "result_smooth = np.zeros((4,num_bin))\n",
    "\n",
    "for i in range(num_bin):    \n",
    "    result_smooth[0,i] = np.sum(np.any(result_MinV[:,i*bin_size:(i+1)*bin_size]==1,axis=1))\n",
    "    result_smooth[1,i] = np.sum(np.any(result_VinV[:,i*bin_size:(i+1)*bin_size]==1,axis=1))\n",
    "    result_smooth[2,i] = np.sum(np.any(result_MinA[:,i*bin_size:(i+1)*bin_size]==1,axis=1))\n",
    "    result_smooth[3,i] = np.sum(np.any(result_AinA[:,i*bin_size:(i+1)*bin_size]==1,axis=1))\n",
    "\n",
    "result_smooth[0:2,:] = result_smooth[0:2,:]/len(V)\n",
    "result_smooth[2:4,:] = result_smooth[2:4,:]/len(A)"
   ]
  },
  {
   "cell_type": "code",
   "execution_count": 183,
   "id": "80197559",
   "metadata": {},
   "outputs": [
    {
     "data": {
      "image/png": "[encoded data removed]",
      "text/plain": [
       "<Figure size 864x288 with 2 Axes>"
      ]
     },
     "metadata": {
      "needs_background": "light"
     },
     "output_type": "display_data"
    }
   ],
   "source": [
    "fig,ax = plt.subplots(1,2,figsize=(12,4))\n",
    "\n",
    "t = ['M-V','M-A']\n",
    "for i in range(2):\n",
    "    ax[i].plot(result_smooth[2*i,:],color=colorpalette[0],linewidth=2)\n",
    "    ax[i].plot(result_smooth[2*i+1,:],color=colorpalette[i+1],linewidth=2)\n",
    "    ax[i].set_ylim([0,0.4])\n",
    "    ax[i].set_yticks([0,0.1,0.2,0.3,0.4])\n",
    "    ax[i].set_xticks([0,40/bin_size,95/bin_size])\n",
    "    ax[i].set_xticklabels([0,400,950]);\n",
    "    ax[i].set_title(t[i],fontsize=15)\n",
    "    ax[i].set_ylabel('Norm. proportion',fontsize=13)\n",
    "    ax[i].set_xlabel('Time (ms)',fontsize=13)"
   ]
  },
  {
   "cell_type": "code",
   "execution_count": 218,
   "id": "58cad152",
   "metadata": {},
   "outputs": [
    {
     "data": {
      "image/png": "[encoded data removed]",
      "text/plain": [
       "<Figure size 864x360 with 2 Axes>"
      ]
     },
     "metadata": {
      "needs_background": "light"
     },
     "output_type": "display_data"
    }
   ],
   "source": [
    "fig,ax = plt.subplots(1,2,figsize=(12,5))\n",
    "\n",
    "hist_result = [V.M_peaktime,V.V_peaktime,A.M_peaktime,A.A_peaktime]\n",
    "\n",
    "t = ['M-V','M-A']\n",
    "for i in range(2):\n",
    "    ax[i].hist(hist_result[2*i],color=colorpalette[0],bins=range(0,1000,50),\n",
    "               cumulative=True,density=True,histtype='step',linewidth=2)\n",
    "    ax[i].hist(hist_result[2*i+1],color=colorpalette[i+1],bins=range(0,1000,50),\n",
    "               cumulative=True,density=True,histtype='step',linewidth=2)\n",
    "    ax[i].set_xlim([0,950])\n",
    "    ax[i].set_title(t[i],fontsize=15)\n",
    "    ax[i].set_ylabel('Norm. proportion',fontsize=13)\n",
    "    ax[i].set_xlabel('Selectivity peak time (ms)',fontsize=13)"
   ]
  },
  {
   "cell_type": "code",
   "execution_count": 235,
   "id": "340fa0f6",
   "metadata": {},
   "outputs": [
    {
     "name": "stdout",
     "output_type": "stream",
     "text": [
      "KS statistic: 0.0897959183673469\n",
      "P-value: 0.7912294658557493\n",
      "==================================\n",
      "KS statistic: 0.2038668098818475\n",
      "P-value: 0.029105262374789498\n",
      "==================================\n",
      "KS statistic: 0.21132075471698114\n",
      "P-value: 0.014834988512267278\n",
      "==================================\n",
      "KS statistic: 0.2164846077457795\n",
      "P-value: 0.011650246884429949\n",
      "==================================\n"
     ]
    }
   ],
   "source": [
    "for i in range(4):\n",
    "    s,p = stats.kstest(hist_result[i], stats.uniform(loc=0, scale=950).cdf)\n",
    "    print(f\"KS statistic: {s}\")\n",
    "    print(f\"P-value: {p}\")\n",
    "    print('==================================')"
   ]
  },
  {
   "cell_type": "markdown",
   "id": "4f6b9e57",
   "metadata": {},
   "source": [
    "### Temporal cross-correlation of object-selectivity"
   ]
  },
  {
   "cell_type": "code",
   "execution_count": 339,
   "id": "aa25dc85",
   "metadata": {},
   "outputs": [],
   "source": [
    "V_max_corr = np.array([])\n",
    "for v in V.Key:\n",
    "    M_cohen = np.abs(Cohend_M[Cohend_M.iloc[:,0]==v].iloc[:,1:96].values[0])\n",
    "    M_binary = Binary_M[Binary_M.iloc[:,0]==v].iloc[:,1:96].values[0]\n",
    "    \n",
    "    V_cohen = np.abs(Cohend_V[Cohend_V.iloc[:,0]==v].iloc[:,1:96].values[0])\n",
    "    V_binary = Binary_V[Binary_V.iloc[:,0]==v].iloc[:,1:96].values[0]\n",
    "\n",
    "    M_cohen[M_binary==0] = 0    \n",
    "    V_cohen[V_binary==0] = 0\n",
    "\n",
    "    crosscorr = np.correlate(M_cohen,V_cohen,mode='full')    \n",
    "    V_max_corr = np.append(V_max_corr,np.argmax(crosscorr))\n",
    "    \n",
    "A_max_corr = np.array([])\n",
    "for a in A.Key:\n",
    "    M_cohen = np.abs(Cohend_M[Cohend_M.iloc[:,0]==a].iloc[:,1:96].values[0])\n",
    "    M_binary = Binary_M[Binary_M.iloc[:,0]==a].iloc[:,1:96].values[0]\n",
    "    \n",
    "    A_cohen = np.abs(Cohend_A[Cohend_A.iloc[:,0]==a].iloc[:,1:96].values[0])\n",
    "    A_binary = Binary_A[Binary_A.iloc[:,0]==a].iloc[:,1:96].values[0]\n",
    "\n",
    "    M_cohen[M_binary==0] = 0    \n",
    "    A_cohen[A_binary==0] = 0\n",
    "\n",
    "    crosscorr = np.correlate(M_cohen,A_cohen,mode='full')    \n",
    "    A_max_corr = np.append(A_max_corr,np.argmax(crosscorr))"
   ]
  },
  {
   "cell_type": "code",
   "execution_count": 349,
   "id": "5889f2a8",
   "metadata": {},
   "outputs": [
    {
     "data": {
      "text/plain": [
       "189"
      ]
     },
     "execution_count": 349,
     "metadata": {},
     "output_type": "execute_result"
    }
   ],
   "source": [
    "len(crosscorr)"
   ]
  },
  {
   "cell_type": "code",
   "execution_count": 381,
   "id": "8e932fb7",
   "metadata": {},
   "outputs": [
    {
     "data": {
      "image/png": "[encoded data removed]",
      "text/plain": [
       "<Figure size 864x360 with 2 Axes>"
      ]
     },
     "metadata": {
      "needs_background": "light"
     },
     "output_type": "display_data"
    }
   ],
   "source": [
    "fig,ax = plt.subplots(1,2,figsize=(12,5))\n",
    "\n",
    "ax[0].hist(V_max_corr,bins=range(4,200,20),color='blue',alpha=0.8)\n",
    "ax[0].axvline(x=94,color='black')\n",
    "ax[0].set_xticks(range(4,185,20));\n",
    "ax[0].set_xticklabels(range(-90,91,20));\n",
    "ax[0].set_yticks(range(0,14,4))\n",
    "\n",
    "ax[1].hist(A_max_corr,bins=range(4,200,20),color='red',alpha=0.8)\n",
    "ax[1].axvline(x=94,color='black')\n",
    "ax[1].set_xticks(range(4,185,20));\n",
    "ax[1].set_xticklabels(range(-90,91,20));\n",
    "ax[1].set_yticks(range(0,20,5))\n",
    "\n",
    "plt.savefig(fig_path+'unimodal_crosscorr.svg')"
   ]
  },
  {
   "cell_type": "code",
   "execution_count": 395,
   "id": "ae22dbd8",
   "metadata": {},
   "outputs": [
    {
     "name": "stdout",
     "output_type": "stream",
     "text": [
      "V>M: 55.10% (27) / V<M: 44.90% (22)\n",
      "A>M: 58.49% (31) / A<M: 41.51% (22)\n"
     ]
    }
   ],
   "source": [
    "prop = [sum(V_max_corr<94),sum(V_max_corr>94)]\n",
    "prop2 = [sum(A_max_corr<94),sum(A_max_corr>94)]\n",
    "\n",
    "print(f'V>M: {prop[0]/len(V_max_corr)*100:.2f}% ({prop[0]}) / V<M: {prop[1]/len(V_max_corr)*100:.2f}% ({prop[1]})')\n",
    "print(f'A>M: {prop2[0]/len(A_max_corr)*100:.2f}% ({prop2[0]}) / A<M: {prop2[1]/len(A_max_corr)*100:.2f}% ({prop2[1]})')"
   ]
  },
  {
   "cell_type": "code",
   "execution_count": 376,
   "id": "89a8eaf1",
   "metadata": {},
   "outputs": [
    {
     "name": "stdout",
     "output_type": "stream",
     "text": [
      "**** Proportion z-test with 50% ****\n",
      "For visual\n",
      "zstat: 0.7180336973794401\n",
      "pvalue: 0.4727365096493438\n",
      "==========================\n",
      "For auditory\n",
      "zstat: 1.254464169239663\n",
      "pvalue: 0.20967334139176408\n",
      "==========================\n"
     ]
    }
   ],
   "source": [
    "z1,p1 = sm.stats.proportions_ztest(count = sum(V_max_corr<94),nobs = len(V_max_corr),\n",
    "                                 value = 0.5,alternative = 'two-sided')\n",
    "z2,p2 = sm.stats.proportions_ztest(count = sum(A_max_corr<94),nobs = len(A_max_corr),\n",
    "                                 value = 0.5,alternative = 'two-sided')\n",
    "\n",
    "print('**** Proportion z-test with 50% ****')\n",
    "print('For visual')\n",
    "print(f'zstat: {z1}')\n",
    "print(f'pvalue: {p1}')\n",
    "print('==========================')\n",
    "print('For auditory')\n",
    "print(f'zstat: {z2}')\n",
    "print(f'pvalue: {p2}')\n",
    "print('==========================')"
   ]
  }
 ],
 "metadata": {
  "kernelspec": {
   "display_name": "Python 3 (ipykernel)",
   "language": "python",
   "name": "python3"
  },
  "language_info": {
   "codemirror_mode": {
    "name": "ipython",
    "version": 3
   },
   "file_extension": ".py",
   "mimetype": "text/x-python",
   "name": "python",
   "nbconvert_exporter": "python",
   "pygments_lexer": "ipython3",
   "version": "3.9.12"
  }
 },
 "nbformat": 4,
 "nbformat_minor": 5
}
