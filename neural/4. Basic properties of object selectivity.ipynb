{
 "cells": [
  {
   "cell_type": "markdown",
   "id": "c2d4f156",
   "metadata": {},
   "source": [
    "## Basic properties of object selectivity\n",
    "This code analyzes basic properties of object selectivity"
   ]
  },
  {
   "cell_type": "code",
   "execution_count": 1,
   "id": "6ef091ff",
   "metadata": {},
   "outputs": [],
   "source": [
    "import os\n",
    "from pathlib import Path\n",
    "import numpy as np\n",
    "import pandas as pd\n",
    "\n",
    "from scipy import stats\n",
    "import statsmodels.api as sm\n",
    "\n",
    "import pingouin as pg\n",
    "\n",
    "import matplotlib as mpl\n",
    "import matplotlib.pyplot as plt\n",
    "\n",
    "from datetime import date\n",
    "import time\n",
    "\n",
    "import h5py"
   ]
  },
  {
   "cell_type": "code",
   "execution_count": 2,
   "id": "a2efd57f",
   "metadata": {},
   "outputs": [],
   "source": [
    "# no top and right spines in all plots\n",
    "mpl.rcParams['axes.spines.right'] = False\n",
    "mpl.rcParams['axes.spines.top'] = False"
   ]
  },
  {
   "cell_type": "code",
   "execution_count": 3,
   "id": "75d558bd",
   "metadata": {},
   "outputs": [],
   "source": [
    "mother_path = Path('D:/Multi-modal project/')\n",
    "fig_path = mother_path / 'analysis' / 'result' / 'figures'"
   ]
  },
  {
   "cell_type": "markdown",
   "id": "c9d779bc",
   "metadata": {},
   "source": [
    "### Parameter setting"
   ]
  },
  {
   "cell_type": "code",
   "execution_count": 4,
   "id": "80036cec",
   "metadata": {},
   "outputs": [],
   "source": [
    "gauss_sigma = 2\n",
    "\n",
    "# colors for multimodal, vis-only, aud-only conditions\n",
    "color = ['mediumorchid','cornflowerblue','lightcoral','gray']\n",
    "color2 = ['cyan','magenta','gray']\n",
    "linestyle = ['-',':']\n",
    "\n",
    "today = str(date.today())"
   ]
  },
  {
   "cell_type": "markdown",
   "id": "74ff06dc",
   "metadata": {},
   "source": [
    "### Data preparation"
   ]
  },
  {
   "cell_type": "code",
   "execution_count": 5,
   "id": "e42dba14",
   "metadata": {},
   "outputs": [],
   "source": [
    "# load hdf5 files containing shuffled results\n",
    "data_path = mother_path /'analysis'/'result'/'3. ANOVA'/'2023-07-10'\n",
    "data2_path = mother_path /'analysis'/'result'/'3.1 Multiple linear regression'/'2023-07-10'\n",
    "f = h5py.File(data_path/'2023-07-10_ANOVA_result.hdf5','r')\n",
    "f2 = h5py.File(data2_path/'2023-07-10_multiple_regression_result.hdf5','r')"
   ]
  },
  {
   "cell_type": "code",
   "execution_count": 6,
   "id": "f0d3e2ba",
   "metadata": {},
   "outputs": [],
   "source": [
    "def h5_to_df(f):\n",
    "    keys = list(f.keys())\n",
    "    attributes = {}\n",
    "    \n",
    "    for key in keys:\n",
    "        attributes[key] = dict(f[key].attrs.items())\n",
    "    \n",
    "    df = pd.DataFrame.from_dict(attributes, orient='index')\n",
    "    df.index.name = 'key'\n",
    "    df = df.reset_index()\n",
    "    \n",
    "    return df"
   ]
  },
  {
   "cell_type": "code",
   "execution_count": null,
   "id": "ff4de689",
   "metadata": {},
   "outputs": [],
   "source": [
    "df"
   ]
  },
  {
   "cell_type": "code",
   "execution_count": 10,
   "id": "31148c69",
   "metadata": {},
   "outputs": [
    {
     "ename": "KeyError",
     "evalue": "'Region'",
     "output_type": "error",
     "traceback": [
      "\u001b[1;31m---------------------------------------------------------------------------\u001b[0m",
      "\u001b[1;31mKeyError\u001b[0m                                  Traceback (most recent call last)",
      "File \u001b[1;32m~\\anaconda3\\lib\\site-packages\\pandas\\core\\indexes\\base.py:3621\u001b[0m, in \u001b[0;36mIndex.get_loc\u001b[1;34m(self, key, method, tolerance)\u001b[0m\n\u001b[0;32m   3620\u001b[0m \u001b[38;5;28;01mtry\u001b[39;00m:\n\u001b[1;32m-> 3621\u001b[0m     \u001b[38;5;28;01mreturn\u001b[39;00m \u001b[38;5;28;43mself\u001b[39;49m\u001b[38;5;241;43m.\u001b[39;49m\u001b[43m_engine\u001b[49m\u001b[38;5;241;43m.\u001b[39;49m\u001b[43mget_loc\u001b[49m\u001b[43m(\u001b[49m\u001b[43mcasted_key\u001b[49m\u001b[43m)\u001b[49m\n\u001b[0;32m   3622\u001b[0m \u001b[38;5;28;01mexcept\u001b[39;00m \u001b[38;5;167;01mKeyError\u001b[39;00m \u001b[38;5;28;01mas\u001b[39;00m err:\n",
      "File \u001b[1;32m~\\anaconda3\\lib\\site-packages\\pandas\\_libs\\index.pyx:136\u001b[0m, in \u001b[0;36mpandas._libs.index.IndexEngine.get_loc\u001b[1;34m()\u001b[0m\n",
      "File \u001b[1;32m~\\anaconda3\\lib\\site-packages\\pandas\\_libs\\index.pyx:163\u001b[0m, in \u001b[0;36mpandas._libs.index.IndexEngine.get_loc\u001b[1;34m()\u001b[0m\n",
      "File \u001b[1;32mpandas\\_libs\\hashtable_class_helper.pxi:5198\u001b[0m, in \u001b[0;36mpandas._libs.hashtable.PyObjectHashTable.get_item\u001b[1;34m()\u001b[0m\n",
      "File \u001b[1;32mpandas\\_libs\\hashtable_class_helper.pxi:5206\u001b[0m, in \u001b[0;36mpandas._libs.hashtable.PyObjectHashTable.get_item\u001b[1;34m()\u001b[0m\n",
      "\u001b[1;31mKeyError\u001b[0m: 'Region'",
      "\nThe above exception was the direct cause of the following exception:\n",
      "\u001b[1;31mKeyError\u001b[0m                                  Traceback (most recent call last)",
      "Input \u001b[1;32mIn [10]\u001b[0m, in \u001b[0;36m<cell line: 2>\u001b[1;34m()\u001b[0m\n\u001b[0;32m      1\u001b[0m df \u001b[38;5;241m=\u001b[39m h5_to_df(f)\n\u001b[1;32m----> 2\u001b[0m df \u001b[38;5;241m=\u001b[39m df[(\u001b[43mdf\u001b[49m\u001b[43m[\u001b[49m\u001b[38;5;124;43m'\u001b[39;49m\u001b[38;5;124;43mRegion\u001b[39;49m\u001b[38;5;124;43m'\u001b[39;49m\u001b[43m]\u001b[49m\u001b[38;5;241m==\u001b[39m\u001b[38;5;124m'\u001b[39m\u001b[38;5;124mPER\u001b[39m\u001b[38;5;124m'\u001b[39m)\u001b[38;5;241m&\u001b[39m(df[\u001b[38;5;124m'\u001b[39m\u001b[38;5;124mResponse cell\u001b[39m\u001b[38;5;124m'\u001b[39m]\u001b[38;5;241m==\u001b[39m\u001b[38;5;241m0\u001b[39m)]\n\u001b[0;32m      3\u001b[0m df\u001b[38;5;241m.\u001b[39mreset_index(inplace\u001b[38;5;241m=\u001b[39m\u001b[38;5;28;01mTrue\u001b[39;00m,drop\u001b[38;5;241m=\u001b[39m\u001b[38;5;28;01mTrue\u001b[39;00m)\n\u001b[0;32m      5\u001b[0m object_bin_all \u001b[38;5;241m=\u001b[39m np\u001b[38;5;241m.\u001b[39mzeros((\u001b[38;5;241m0\u001b[39m,\u001b[38;5;241m90\u001b[39m))\n",
      "File \u001b[1;32m~\\anaconda3\\lib\\site-packages\\pandas\\core\\frame.py:3505\u001b[0m, in \u001b[0;36mDataFrame.__getitem__\u001b[1;34m(self, key)\u001b[0m\n\u001b[0;32m   3503\u001b[0m \u001b[38;5;28;01mif\u001b[39;00m \u001b[38;5;28mself\u001b[39m\u001b[38;5;241m.\u001b[39mcolumns\u001b[38;5;241m.\u001b[39mnlevels \u001b[38;5;241m>\u001b[39m \u001b[38;5;241m1\u001b[39m:\n\u001b[0;32m   3504\u001b[0m     \u001b[38;5;28;01mreturn\u001b[39;00m \u001b[38;5;28mself\u001b[39m\u001b[38;5;241m.\u001b[39m_getitem_multilevel(key)\n\u001b[1;32m-> 3505\u001b[0m indexer \u001b[38;5;241m=\u001b[39m \u001b[38;5;28;43mself\u001b[39;49m\u001b[38;5;241;43m.\u001b[39;49m\u001b[43mcolumns\u001b[49m\u001b[38;5;241;43m.\u001b[39;49m\u001b[43mget_loc\u001b[49m\u001b[43m(\u001b[49m\u001b[43mkey\u001b[49m\u001b[43m)\u001b[49m\n\u001b[0;32m   3506\u001b[0m \u001b[38;5;28;01mif\u001b[39;00m is_integer(indexer):\n\u001b[0;32m   3507\u001b[0m     indexer \u001b[38;5;241m=\u001b[39m [indexer]\n",
      "File \u001b[1;32m~\\anaconda3\\lib\\site-packages\\pandas\\core\\indexes\\base.py:3623\u001b[0m, in \u001b[0;36mIndex.get_loc\u001b[1;34m(self, key, method, tolerance)\u001b[0m\n\u001b[0;32m   3621\u001b[0m     \u001b[38;5;28;01mreturn\u001b[39;00m \u001b[38;5;28mself\u001b[39m\u001b[38;5;241m.\u001b[39m_engine\u001b[38;5;241m.\u001b[39mget_loc(casted_key)\n\u001b[0;32m   3622\u001b[0m \u001b[38;5;28;01mexcept\u001b[39;00m \u001b[38;5;167;01mKeyError\u001b[39;00m \u001b[38;5;28;01mas\u001b[39;00m err:\n\u001b[1;32m-> 3623\u001b[0m     \u001b[38;5;28;01mraise\u001b[39;00m \u001b[38;5;167;01mKeyError\u001b[39;00m(key) \u001b[38;5;28;01mfrom\u001b[39;00m \u001b[38;5;21;01merr\u001b[39;00m\n\u001b[0;32m   3624\u001b[0m \u001b[38;5;28;01mexcept\u001b[39;00m \u001b[38;5;167;01mTypeError\u001b[39;00m:\n\u001b[0;32m   3625\u001b[0m     \u001b[38;5;66;03m# If we have a listlike key, _check_indexing_error will raise\u001b[39;00m\n\u001b[0;32m   3626\u001b[0m     \u001b[38;5;66;03m#  InvalidIndexError. Otherwise we fall through and re-raise\u001b[39;00m\n\u001b[0;32m   3627\u001b[0m     \u001b[38;5;66;03m#  the TypeError.\u001b[39;00m\n\u001b[0;32m   3628\u001b[0m     \u001b[38;5;28mself\u001b[39m\u001b[38;5;241m.\u001b[39m_check_indexing_error(key)\n",
      "\u001b[1;31mKeyError\u001b[0m: 'Region'"
     ]
    }
   ],
   "source": [
    "df = h5_to_df(f)\n",
    "df = df[(df['Region']=='PER')&(df['Response cell']==0)]\n",
    "df.reset_index(inplace=True,drop=True)\n",
    "\n",
    "object_bin_all = np.zeros((0,90))\n",
    "\n",
    "for key in df['key']:    \n",
    "    df.loc[df['key']==key,'pref_obj'] = f[key].attrs['preferred object']\n",
    "    df.loc[df['key']==key,'peak_selectivity'] = np.max(f[f'{key}/anova_eta'])  \n",
    "    df.loc[df['key']==key,'peak_selectivity_time'] = f[key].attrs['peak selectivity time']\n",
    "    df.loc[df['key']==key,'selectivity_duration'] = len(f[f'{key}/object_bin'])*10\n",
    "    df.loc[df['key']==key,'selectivity_onset'] = np.min(f[f'{key}/object_bin'])*10\n",
    "    df.loc[df['key']==key,'selectivity_index'] = np.abs(f[key].attrs['selectivity index'])\n",
    "    \n",
    "    object_bin = np.zeros((1,90))\n",
    "    object_bin[0,f[f'{key}/object_bin']] = 1\n",
    "    object_bin_all = np.append(object_bin_all, [object_bin[0]], axis=0)   \n",
    "    \n",
    "df['peak_selectivity_time_range'] = (df['peak_selectivity_time'] // 100) + 1\n",
    "df['selectivity_onset_range'] = (df['peak_selectivity_time'] // 100) + 1\n",
    "    \n",
    "bin_sorted_peak = object_bin_all[np.argsort(df['peak_selectivity_time']),:]\n",
    "bin_sorted_onset = object_bin_all[np.argsort(df['selectivity_onset']),:]"
   ]
  },
  {
   "cell_type": "code",
   "execution_count": null,
   "id": "6c1a7d44",
   "metadata": {},
   "outputs": [],
   "source": [
    "for i in range(len(df)):\n",
    "    if df.loc[i,'peak_selectivity_time'] < 200:\n",
    "        df.loc[i,'peak_selectivity_time_range2'] = 0\n",
    "    elif 200 <= df.loc[i,'peak_selectivity_time'] < 400:\n",
    "        df.loc[i,'peak_selectivity_time_range2'] = 1\n",
    "    elif 400 <= df.loc[i,'peak_selectivity_time'] < 650:\n",
    "        df.loc[i,'peak_selectivity_time_range2'] = 2\n",
    "    elif 650 <= df.loc[i,'peak_selectivity_time'] < 900:\n",
    "        df.loc[i,'peak_selectivity_time_range2'] = 3"
   ]
  },
  {
   "cell_type": "markdown",
   "id": "a9fc4622",
   "metadata": {},
   "source": [
    "### Temporal patterns of object selectivity"
   ]
  },
  {
   "cell_type": "code",
   "execution_count": null,
   "id": "7fa961c8",
   "metadata": {},
   "outputs": [],
   "source": [
    "fig,ax = plt.subplots(1,2,figsize=(8,6))\n",
    "\n",
    "ax[0].pcolor(bin_sorted_peak,cmap='binary')\n",
    "ax[0].set_xticks([0,40,90])\n",
    "ax[0].set_xticklabels([0,400,900])\n",
    "ax[0].set_xlabel('Time (ms)',fontsize=13)\n",
    "ax[0].set_ylabel('Cell #',fontsize=13)\n",
    "\n",
    "ax[1].pcolor(bin_sorted_onset,cmap='binary')\n",
    "ax[1].set_xticks([0,40,90])\n",
    "ax[1].set_xticklabels([0,400,900])\n",
    "ax[1].set_xlabel('Time (ms)',fontsize=13)\n",
    "ax[1].set_ylabel('Cell #',fontsize=13)\n",
    "\n",
    "plt.tight_layout()\n",
    "#plt.savefig(fig_path / 'population_selectivity.png', dpi=300,facecolor='white')"
   ]
  },
  {
   "cell_type": "code",
   "execution_count": null,
   "id": "303644ff",
   "metadata": {},
   "outputs": [],
   "source": [
    "fig,ax = plt.subplots(figsize=(4,4))\n",
    "\n",
    "ax.hist(df['peak_selectivity_time'], range=(0,900), bins=50, cumulative=1, histtype='step', density=True);\n",
    "\n",
    "ax.set_ylim([0,1])\n",
    "ax.set_xticks([0,400,900])\n",
    "ax.set_xlim([0,900])\n",
    "ax.set_ylabel('Normalized proportion',fontsize=12);\n",
    "ax.set_xlabel('Time (ms)',fontsize=12);\n",
    "ax.set_title('CDF of peak selectivity time',fontsize=14);\n",
    "\n",
    "s,p = stats.kstest(df['peak_selectivity_time'], stats.uniform(loc=0, scale=890).cdf)\n",
    "print('========================================================')\n",
    "print(\"K-S test with uniform distribution\")\n",
    "print(f\"KS statistic: {s}\")\n",
    "print(f\"P-value: {p}\")\n",
    "print('========================================================')"
   ]
  },
  {
   "cell_type": "code",
   "execution_count": null,
   "id": "5de62c9e",
   "metadata": {},
   "outputs": [],
   "source": [
    "fig,ax = plt.subplots(figsize=(4,4))\n",
    "\n",
    "ax.hist(df['selectivity_onset'], range=(0,900), bins=50, cumulative=1, histtype='step', density=True);\n",
    "\n",
    "ax.set_ylim([0,1])\n",
    "ax.set_xticks([0,400,900])\n",
    "ax.set_xlim([0,900])\n",
    "ax.set_ylabel('Normalized proportion',fontsize=12);\n",
    "ax.set_xlabel('Time (ms)',fontsize=12);\n",
    "ax.set_title('CDF of selectivity onset',fontsize=14);\n",
    "\n",
    "s,p = stats.kstest(df['selectivity_onset'], stats.uniform(loc=10, scale=850).cdf)\n",
    "print('========================================================')\n",
    "print(\"K-S test with uniform distribution\")\n",
    "print(f\"KS statistic: {s}\")\n",
    "print(f\"P-value: {p}\")\n",
    "print('========================================================')"
   ]
  },
  {
   "cell_type": "code",
   "execution_count": 8,
   "id": "4b8b36c0",
   "metadata": {},
   "outputs": [
    {
     "ename": "KeyError",
     "evalue": "'selectivity_duration'",
     "output_type": "error",
     "traceback": [
      "\u001b[1;31m---------------------------------------------------------------------------\u001b[0m",
      "\u001b[1;31mKeyError\u001b[0m                                  Traceback (most recent call last)",
      "File \u001b[1;32m~\\anaconda3\\lib\\site-packages\\pandas\\core\\indexes\\base.py:3621\u001b[0m, in \u001b[0;36mIndex.get_loc\u001b[1;34m(self, key, method, tolerance)\u001b[0m\n\u001b[0;32m   3620\u001b[0m \u001b[38;5;28;01mtry\u001b[39;00m:\n\u001b[1;32m-> 3621\u001b[0m     \u001b[38;5;28;01mreturn\u001b[39;00m \u001b[38;5;28;43mself\u001b[39;49m\u001b[38;5;241;43m.\u001b[39;49m\u001b[43m_engine\u001b[49m\u001b[38;5;241;43m.\u001b[39;49m\u001b[43mget_loc\u001b[49m\u001b[43m(\u001b[49m\u001b[43mcasted_key\u001b[49m\u001b[43m)\u001b[49m\n\u001b[0;32m   3622\u001b[0m \u001b[38;5;28;01mexcept\u001b[39;00m \u001b[38;5;167;01mKeyError\u001b[39;00m \u001b[38;5;28;01mas\u001b[39;00m err:\n",
      "File \u001b[1;32m~\\anaconda3\\lib\\site-packages\\pandas\\_libs\\index.pyx:136\u001b[0m, in \u001b[0;36mpandas._libs.index.IndexEngine.get_loc\u001b[1;34m()\u001b[0m\n",
      "File \u001b[1;32m~\\anaconda3\\lib\\site-packages\\pandas\\_libs\\index.pyx:163\u001b[0m, in \u001b[0;36mpandas._libs.index.IndexEngine.get_loc\u001b[1;34m()\u001b[0m\n",
      "File \u001b[1;32mpandas\\_libs\\hashtable_class_helper.pxi:5198\u001b[0m, in \u001b[0;36mpandas._libs.hashtable.PyObjectHashTable.get_item\u001b[1;34m()\u001b[0m\n",
      "File \u001b[1;32mpandas\\_libs\\hashtable_class_helper.pxi:5206\u001b[0m, in \u001b[0;36mpandas._libs.hashtable.PyObjectHashTable.get_item\u001b[1;34m()\u001b[0m\n",
      "\u001b[1;31mKeyError\u001b[0m: 'selectivity_duration'",
      "\nThe above exception was the direct cause of the following exception:\n",
      "\u001b[1;31mKeyError\u001b[0m                                  Traceback (most recent call last)",
      "Input \u001b[1;32mIn [8]\u001b[0m, in \u001b[0;36m<cell line: 3>\u001b[1;34m()\u001b[0m\n\u001b[0;32m      1\u001b[0m fig,ax \u001b[38;5;241m=\u001b[39m plt\u001b[38;5;241m.\u001b[39msubplots(figsize\u001b[38;5;241m=\u001b[39m(\u001b[38;5;241m5\u001b[39m,\u001b[38;5;241m4\u001b[39m))\n\u001b[1;32m----> 3\u001b[0m ax\u001b[38;5;241m.\u001b[39mhist(\u001b[43mdf\u001b[49m\u001b[43m[\u001b[49m\u001b[38;5;124;43m'\u001b[39;49m\u001b[38;5;124;43mselectivity_duration\u001b[39;49m\u001b[38;5;124;43m'\u001b[39;49m\u001b[43m]\u001b[49m, bins\u001b[38;5;241m=\u001b[39mnp\u001b[38;5;241m.\u001b[39marange(\u001b[38;5;241m0\u001b[39m,\u001b[38;5;241m500\u001b[39m,\u001b[38;5;241m50\u001b[39m), color\u001b[38;5;241m=\u001b[39m\u001b[38;5;124m'\u001b[39m\u001b[38;5;124mdimgray\u001b[39m\u001b[38;5;124m'\u001b[39m, ec\u001b[38;5;241m=\u001b[39m\u001b[38;5;124m'\u001b[39m\u001b[38;5;124mwhite\u001b[39m\u001b[38;5;124m'\u001b[39m);\n\u001b[0;32m      4\u001b[0m ax\u001b[38;5;241m.\u001b[39mset_xlabel(\u001b[38;5;124m'\u001b[39m\u001b[38;5;124mSelectivity duration (ms)\u001b[39m\u001b[38;5;124m'\u001b[39m,fontsize\u001b[38;5;241m=\u001b[39m\u001b[38;5;241m15\u001b[39m);\n\u001b[0;32m      5\u001b[0m ax\u001b[38;5;241m.\u001b[39mset_xticks(np\u001b[38;5;241m.\u001b[39marange(\u001b[38;5;241m0\u001b[39m,\u001b[38;5;241m600\u001b[39m,\u001b[38;5;241m100\u001b[39m))\n",
      "File \u001b[1;32m~\\anaconda3\\lib\\site-packages\\pandas\\core\\frame.py:3505\u001b[0m, in \u001b[0;36mDataFrame.__getitem__\u001b[1;34m(self, key)\u001b[0m\n\u001b[0;32m   3503\u001b[0m \u001b[38;5;28;01mif\u001b[39;00m \u001b[38;5;28mself\u001b[39m\u001b[38;5;241m.\u001b[39mcolumns\u001b[38;5;241m.\u001b[39mnlevels \u001b[38;5;241m>\u001b[39m \u001b[38;5;241m1\u001b[39m:\n\u001b[0;32m   3504\u001b[0m     \u001b[38;5;28;01mreturn\u001b[39;00m \u001b[38;5;28mself\u001b[39m\u001b[38;5;241m.\u001b[39m_getitem_multilevel(key)\n\u001b[1;32m-> 3505\u001b[0m indexer \u001b[38;5;241m=\u001b[39m \u001b[38;5;28;43mself\u001b[39;49m\u001b[38;5;241;43m.\u001b[39;49m\u001b[43mcolumns\u001b[49m\u001b[38;5;241;43m.\u001b[39;49m\u001b[43mget_loc\u001b[49m\u001b[43m(\u001b[49m\u001b[43mkey\u001b[49m\u001b[43m)\u001b[49m\n\u001b[0;32m   3506\u001b[0m \u001b[38;5;28;01mif\u001b[39;00m is_integer(indexer):\n\u001b[0;32m   3507\u001b[0m     indexer \u001b[38;5;241m=\u001b[39m [indexer]\n",
      "File \u001b[1;32m~\\anaconda3\\lib\\site-packages\\pandas\\core\\indexes\\base.py:3623\u001b[0m, in \u001b[0;36mIndex.get_loc\u001b[1;34m(self, key, method, tolerance)\u001b[0m\n\u001b[0;32m   3621\u001b[0m     \u001b[38;5;28;01mreturn\u001b[39;00m \u001b[38;5;28mself\u001b[39m\u001b[38;5;241m.\u001b[39m_engine\u001b[38;5;241m.\u001b[39mget_loc(casted_key)\n\u001b[0;32m   3622\u001b[0m \u001b[38;5;28;01mexcept\u001b[39;00m \u001b[38;5;167;01mKeyError\u001b[39;00m \u001b[38;5;28;01mas\u001b[39;00m err:\n\u001b[1;32m-> 3623\u001b[0m     \u001b[38;5;28;01mraise\u001b[39;00m \u001b[38;5;167;01mKeyError\u001b[39;00m(key) \u001b[38;5;28;01mfrom\u001b[39;00m \u001b[38;5;21;01merr\u001b[39;00m\n\u001b[0;32m   3624\u001b[0m \u001b[38;5;28;01mexcept\u001b[39;00m \u001b[38;5;167;01mTypeError\u001b[39;00m:\n\u001b[0;32m   3625\u001b[0m     \u001b[38;5;66;03m# If we have a listlike key, _check_indexing_error will raise\u001b[39;00m\n\u001b[0;32m   3626\u001b[0m     \u001b[38;5;66;03m#  InvalidIndexError. Otherwise we fall through and re-raise\u001b[39;00m\n\u001b[0;32m   3627\u001b[0m     \u001b[38;5;66;03m#  the TypeError.\u001b[39;00m\n\u001b[0;32m   3628\u001b[0m     \u001b[38;5;28mself\u001b[39m\u001b[38;5;241m.\u001b[39m_check_indexing_error(key)\n",
      "\u001b[1;31mKeyError\u001b[0m: 'selectivity_duration'"
     ]
    },
    {
     "data": {
      "image/png": "[encoded data removed]",
      "text/plain": [
       "<Figure size 360x288 with 1 Axes>"
      ]
     },
     "metadata": {
      "needs_background": "light"
     },
     "output_type": "display_data"
    }
   ],
   "source": [
    "fig,ax = plt.subplots(figsize=(5,4))\n",
    "\n",
    "ax.hist(df['selectivity_duration'], bins=np.arange(0,500,50), color='dimgray', ec='white');\n",
    "ax.set_xlabel('Selectivity duration (ms)',fontsize=15);\n",
    "ax.set_xticks(np.arange(0,600,100))\n",
    "ax.set_xlim([0, 500])\n",
    "ax.set_ylabel('Count',fontsize=15);\n",
    "ax.set_yticks(np.arange(0,120,20))\n",
    "\n",
    "plt.tight_layout()\n",
    "#plt.savefig(fig_path / 'selectivity_duration_hist.png', dpi=300,facecolor='white')\n",
    "plt.savefig(fig_path / 'svg' / 'selectivity_duration_hist.svg')"
   ]
  },
  {
   "cell_type": "markdown",
   "id": "a9dee378",
   "metadata": {},
   "source": [
    "### Peak time vs. Selectivity duration: Model fitting"
   ]
  },
  {
   "cell_type": "code",
   "execution_count": 15,
   "id": "20d54c68",
   "metadata": {},
   "outputs": [],
   "source": [
    "from scipy.optimize import curve_fit\n",
    "\n",
    "def ln(x,a,b):\n",
    "    return a*x+b\n",
    "\n",
    "def poly(x,a,b,c):\n",
    "    return a*(x**2)+b*x+c\n",
    "\n",
    "def sigmoid(x,a,b,c,d):\n",
    "    return d+(c-d)/(1+np.e**(-a*(x-b)))\n",
    "\n",
    "ln_result, _ = curve_fit(ln,df['peak_selectivity_time'],df['selectivity_duration'])\n",
    "poly_result, _ = curve_fit(poly,df['peak_selectivity_time'],df['selectivity_duration'])\n",
    "sigmoid_result, _ = curve_fit(sigmoid,df['peak_selectivity_time'],df['selectivity_duration'])"
   ]
  },
  {
   "cell_type": "code",
   "execution_count": 16,
   "id": "1a4f084d",
   "metadata": {},
   "outputs": [
    {
     "data": {
      "image/png": "[encoded data removed]",
      "text/plain": [
       "<Figure size 324x288 with 1 Axes>"
      ]
     },
     "metadata": {
      "needs_background": "light"
     },
     "output_type": "display_data"
    }
   ],
   "source": [
    "fig,ax = plt.subplots(figsize=(4.5,4))\n",
    "\n",
    "ax.scatter(df['peak_selectivity_time'],df['selectivity_duration'],\n",
    "           edgecolors='k',facecolors='tab:gray', s=50, alpha=0.8)\n",
    "ax.set_ylabel('Selectivity duration (ms)',fontsize=15)\n",
    "ax.set_yticks(np.arange(0,700,100));\n",
    "ax.set_ylim([0,600])\n",
    "ax.set_xlabel('Peak selectivity time (ms)',fontsize=15)\n",
    "ax.set_xticks(np.arange(0,1000,100));\n",
    "\n",
    "xline = np.arange(0,900,1)\n",
    "#ax.plot(xline,ln(xline,ln_result[0],ln_result[1]),color='tab:red',linestyle='-', linewidth=2)\n",
    "ax.plot(xline,poly(xline,poly_result[0],poly_result[1],poly_result[2]),\n",
    "       color='tab:red',linestyle='-.', linewidth=2)\n",
    "#ax.plot(xline,sigmoid(xline,sigmoid_result[0],sigmoid_result[1],sigmoid_result[2],sigmoid_result[3]),\n",
    "#        color='tab:red',linestyle='--', linewidth=2)\n",
    "\n",
    "plt.tight_layout()\n",
    "#plt.savefig(fig_path / 'peaktime_duration_scatter.png', dpi=300,facecolor='white')"
   ]
  },
  {
   "cell_type": "code",
   "execution_count": 17,
   "id": "cfe0480b",
   "metadata": {},
   "outputs": [
    {
     "data": {
      "image/png": "[encoded data removed]",
      "text/plain": [
       "<Figure size 432x288 with 1 Axes>"
      ]
     },
     "metadata": {
      "needs_background": "light"
     },
     "output_type": "display_data"
    },
    {
     "name": "stdout",
     "output_type": "stream",
     "text": [
      "                        Source            SS   DF           MS         F  \\\n",
      "0  peak_selectivity_time_range  3.862107e+04    8  4827.633705  0.636573   \n",
      "1                       Within  1.054146e+06  139  7583.787755       NaN   \n",
      "\n",
      "      p-unc       np2  \n",
      "0  0.745919  0.035342  \n",
      "1       NaN       NaN  \n"
     ]
    }
   ],
   "source": [
    "fig,ax = plt.subplots(figsize=(6,4))\n",
    "\n",
    "x = range(9)\n",
    "y = df.groupby('peak_selectivity_time_range').mean()['selectivity_duration']\n",
    "yerr = df.groupby('peak_selectivity_time_range').sem()['selectivity_duration']\n",
    "\n",
    "ax.bar(x=x, height=y, color='tab:orange')\n",
    "ax.errorbar(x=x, y=y, yerr=yerr, fmt='none',color='black', linewidth=3)\n",
    "ax.set_yticks(np.arange(0,210,50))\n",
    "ax.set_ylabel('Selectivity duration (ms)',fontsize=14)\n",
    "ax.set_xlabel('Peak selectivity time (ms)',fontsize=14)\n",
    "ax.set_xticks(range(9))\n",
    "ax.set_xticklabels(['0-100','100-200','200-300','300-400','400-500','500-600','600-700','700-800','800-900'])\n",
    "ax.tick_params(axis='x',labelrotation=45);\n",
    "\n",
    "plt.tight_layout()\n",
    "plt.show()\n",
    "#plt.savefig(fig_path / 'selectivity_duration_bar.png', dpi=300,facecolor='white')\n",
    "\n",
    "anova_result = pg.anova(data=df, dv='selectivity_duration', between='peak_selectivity_time_range', detailed=True)\n",
    "print(anova_result)"
   ]
  },
  {
   "cell_type": "code",
   "execution_count": 18,
   "id": "d1966640",
   "metadata": {},
   "outputs": [
    {
     "name": "stdout",
     "output_type": "stream",
     "text": [
      "                         Source            SS   DF           MS        F  \\\n",
      "0  peak_selectivity_time_range2  4.205256e+03    3  1401.751895  0.18543   \n",
      "1                        Within  1.088562e+06  144  7559.460499      NaN   \n",
      "\n",
      "     p-unc       np2  \n",
      "0  0.90617  0.003848  \n",
      "1      NaN       NaN  \n"
     ]
    },
    {
     "data": {
      "image/png": "[encoded data removed]",
      "text/plain": [
       "<Figure size 360x288 with 1 Axes>"
      ]
     },
     "metadata": {
      "needs_background": "light"
     },
     "output_type": "display_data"
    }
   ],
   "source": [
    "fig,ax = plt.subplots(figsize=(5,4))\n",
    "\n",
    "x = range(4)\n",
    "y = df.groupby('peak_selectivity_time_range2').mean()['selectivity_duration']\n",
    "yerr = df.groupby('peak_selectivity_time_range2').sem()['selectivity_duration']\n",
    "\n",
    "ax.bar(x=x, height=y, color='tab:orange')\n",
    "ax.errorbar(x=x, y=y, yerr=yerr, fmt='none',color='black', linewidth=3)\n",
    "#ax.set_yticks(np.arange(0,210,50))\n",
    "ax.set_ylabel('Selectivity duration (ms)',fontsize=14)\n",
    "ax.set_xlabel('Peak selectivity time (ms)',fontsize=14)\n",
    "ax.set_xticks(range(4))\n",
    "ax.set_xticklabels(['0-200','200-400','400-650','650-900'])\n",
    "ax.tick_params(axis='x',labelrotation=45);\n",
    "\n",
    "plt.tight_layout()\n",
    "#plt.show()\n",
    "#plt.savefig(fig_path / 'selectivity_duration_bar.png', dpi=300,facecolor='white')\n",
    "\n",
    "anova_result = pg.anova(data=df, dv='selectivity_duration', between='peak_selectivity_time_range2', detailed=True)\n",
    "print(anova_result)"
   ]
  },
  {
   "cell_type": "code",
   "execution_count": 19,
   "id": "283502c8",
   "metadata": {},
   "outputs": [
    {
     "data": {
      "text/html": [
       "<div>\n",
       "<style scoped>\n",
       "    .dataframe tbody tr th:only-of-type {\n",
       "        vertical-align: middle;\n",
       "    }\n",
       "\n",
       "    .dataframe tbody tr th {\n",
       "        vertical-align: top;\n",
       "    }\n",
       "\n",
       "    .dataframe thead th {\n",
       "        text-align: right;\n",
       "    }\n",
       "</style>\n",
       "<table border=\"1\" class=\"dataframe\">\n",
       "  <thead>\n",
       "    <tr style=\"text-align: right;\">\n",
       "      <th></th>\n",
       "      <th>Source</th>\n",
       "      <th>SS</th>\n",
       "      <th>DF</th>\n",
       "      <th>MS</th>\n",
       "      <th>F</th>\n",
       "      <th>p-unc</th>\n",
       "      <th>np2</th>\n",
       "    </tr>\n",
       "  </thead>\n",
       "  <tbody>\n",
       "    <tr>\n",
       "      <th>0</th>\n",
       "      <td>peak_selectivity_time_range2</td>\n",
       "      <td>4.205256e+03</td>\n",
       "      <td>3</td>\n",
       "      <td>1401.751895</td>\n",
       "      <td>0.18543</td>\n",
       "      <td>0.90617</td>\n",
       "      <td>0.003848</td>\n",
       "    </tr>\n",
       "    <tr>\n",
       "      <th>1</th>\n",
       "      <td>Within</td>\n",
       "      <td>1.088562e+06</td>\n",
       "      <td>144</td>\n",
       "      <td>7559.460499</td>\n",
       "      <td>NaN</td>\n",
       "      <td>NaN</td>\n",
       "      <td>NaN</td>\n",
       "    </tr>\n",
       "  </tbody>\n",
       "</table>\n",
       "</div>"
      ],
      "text/plain": [
       "                         Source            SS   DF           MS        F  \\\n",
       "0  peak_selectivity_time_range2  4.205256e+03    3  1401.751895  0.18543   \n",
       "1                        Within  1.088562e+06  144  7559.460499      NaN   \n",
       "\n",
       "     p-unc       np2  \n",
       "0  0.90617  0.003848  \n",
       "1      NaN       NaN  "
      ]
     },
     "execution_count": 19,
     "metadata": {},
     "output_type": "execute_result"
    }
   ],
   "source": [
    "pg.anova(data=df, dv='selectivity_duration', between='peak_selectivity_time_range2', detailed=True)"
   ]
  },
  {
   "cell_type": "markdown",
   "id": "b5e0eaa2",
   "metadata": {},
   "source": [
    "### Peak time vs. Selectivity index: Model fitting"
   ]
  },
  {
   "cell_type": "code",
   "execution_count": 20,
   "id": "cc986abe",
   "metadata": {},
   "outputs": [
    {
     "data": {
      "image/png": "[encoded data removed]",
      "text/plain": [
       "<Figure size 432x216 with 2 Axes>"
      ]
     },
     "metadata": {
      "needs_background": "light"
     },
     "output_type": "display_data"
    }
   ],
   "source": [
    "fig,ax = plt.subplots(1,2,figsize=(6,3))\n",
    "ax[0].scatter(df['selectivity_duration'],df['selectivity_index'],\n",
    "             edgecolors='k', facecolors='darkgreen',alpha=0.6, s=50)\n",
    "ax[0].set_xlabel('Selectivity duration (ms)', fontsize=13)\n",
    "ax[0].set_xticks(np.arange(0,700,100))\n",
    "ax[0].set_ylabel('Selectivity index',fontsize=13)\n",
    "ax[0].set_yticks(np.arange(0,40,10))\n",
    "ax[0].set_ylim([0,30])\n",
    "\n",
    "ax[1].scatter(df['selectivity_duration'],df['selectivity_index'],\n",
    "             edgecolors='k', facecolors='darkgreen',alpha=0.6, s=50)\n",
    "ax[1].set_xlabel('Selectivity duration (ms)', fontsize=13)\n",
    "ax[1].set_xticks(np.arange(0,300,50))\n",
    "ax[1].set_xlim([0,250])\n",
    "ax[1].set_ylabel('Selectivity index',fontsize=13)\n",
    "ax[1].set_yticks(np.arange(0,20,5))\n",
    "ax[1].set_ylim([0,15])\n",
    "\n",
    "plt.tight_layout()\n",
    "#plt.savefig(fig_path / 'SI_duration_scatter.png', dpi=300,facecolor='white')"
   ]
  },
  {
   "cell_type": "code",
   "execution_count": 21,
   "id": "0c074d4c",
   "metadata": {},
   "outputs": [],
   "source": [
    "ln_result, _ = curve_fit(ln,df['peak_selectivity_time'],df['selectivity_index'])\n",
    "poly_result, _ = curve_fit(poly,df['peak_selectivity_time'],df['selectivity_index'])\n",
    "sigmoid_result, _ = curve_fit(sigmoid,df['peak_selectivity_time'],df['selectivity_index'])"
   ]
  },
  {
   "cell_type": "code",
   "execution_count": 22,
   "id": "8de4e8e7",
   "metadata": {},
   "outputs": [
    {
     "data": {
      "image/png": "[encoded data removed]",
      "text/plain": [
       "<Figure size 360x288 with 1 Axes>"
      ]
     },
     "metadata": {
      "needs_background": "light"
     },
     "output_type": "display_data"
    }
   ],
   "source": [
    "fig,ax = plt.subplots(figsize=(5,4))\n",
    "\n",
    "ax.scatter(df['peak_selectivity_time'],df['selectivity_index'],edgecolors='k',facecolors='seagreen')\n",
    "ax.set_ylabel('Selectivity index',fontsize=15)\n",
    "ax.set_yticks(np.arange(0,35,10));\n",
    "ax.set_ylim([0,30])\n",
    "ax.set_xlabel('Peak selectivity time (ms)',fontsize=15)\n",
    "ax.set_xticks(np.arange(0,1000,100));\n",
    "\n",
    "xline = np.arange(0,900,1)\n",
    "#ax.plot(xline,ln(xline,ln_result[0],ln_result[1]),color='tab:red',linestyle=':')\n",
    "ax.plot(xline,poly(xline,poly_result[0],poly_result[1],poly_result[2]),color='tab:red',linestyle='-.')\n",
    "#ax.plot(xline,sigmoid(xline,sigmoid_result[0],sigmoid_result[1],\n",
    "#                      sigmoid_result[2],sigmoid_result[3]),color='tab:red',linestyle='--')\n",
    "\n",
    "plt.tight_layout()\n",
    "#plt.savefig(fig_path / 'time_duration_scatter.png', dpi=300,facecolor='white')"
   ]
  },
  {
   "cell_type": "code",
   "execution_count": 23,
   "id": "7a4e0c9f",
   "metadata": {},
   "outputs": [
    {
     "data": {
      "image/png": "[encoded data removed]",
      "text/plain": [
       "<Figure size 432x288 with 1 Axes>"
      ]
     },
     "metadata": {
      "needs_background": "light"
     },
     "output_type": "display_data"
    },
    {
     "name": "stdout",
     "output_type": "stream",
     "text": [
      "                        Source            SS   DF           MS         F  \\\n",
      "0  peak_selectivity_time_range  3.862107e+04    8  4827.633705  0.636573   \n",
      "1                       Within  1.054146e+06  139  7583.787755       NaN   \n",
      "\n",
      "      p-unc       np2  \n",
      "0  0.745919  0.035342  \n",
      "1       NaN       NaN  \n"
     ]
    }
   ],
   "source": [
    "fig,ax = plt.subplots(figsize=(6,4))\n",
    "\n",
    "x = range(9)\n",
    "y = df.groupby('peak_selectivity_time_range').mean()['selectivity_index']\n",
    "yerr = df.groupby('peak_selectivity_time_range').sem()['selectivity_index']\n",
    "\n",
    "ax.bar(x=x, height=y, color='tab:orange')\n",
    "ax.errorbar(x=x, y=y, yerr=yerr, fmt='none',color='black', linewidth=3)\n",
    "#ax.set_yticks(np.arange(0,210,50))\n",
    "ax.set_ylabel('Selectivity index',fontsize=14)\n",
    "ax.set_xlabel('Peak selectivity time (ms)',fontsize=14)\n",
    "ax.set_xticks(range(9))\n",
    "ax.set_xticklabels(['0-100','100-200','200-300','300-400','400-500','500-600','600-700','700-800','800-900'])\n",
    "ax.tick_params(axis='x',labelrotation=45);\n",
    "\n",
    "plt.tight_layout()\n",
    "plt.show()\n",
    "#plt.savefig(fig_path / 'selectivity_duration_bar.png', dpi=300,facecolor='white')\n",
    "\n",
    "\n",
    "anova_result = pg.anova(data=df, dv='selectivity_duration', between='peak_selectivity_time_range', detailed=True)\n",
    "print(anova_result)"
   ]
  },
  {
   "cell_type": "code",
   "execution_count": 24,
   "id": "5cf5509b",
   "metadata": {},
   "outputs": [
    {
     "data": {
      "image/png": "[encoded data removed]",
      "text/plain": [
       "<Figure size 360x288 with 1 Axes>"
      ]
     },
     "metadata": {
      "needs_background": "light"
     },
     "output_type": "display_data"
    },
    {
     "name": "stdout",
     "output_type": "stream",
     "text": [
      "                         Source           SS   DF         MS        F  \\\n",
      "0  peak_selectivity_time_range2     5.740533    3   1.913511  0.07689   \n",
      "1                        Within  3583.620928  144  24.886256      NaN   \n",
      "\n",
      "      p-unc       np2  \n",
      "0  0.972388  0.001599  \n",
      "1       NaN       NaN  \n"
     ]
    }
   ],
   "source": [
    "fig,ax = plt.subplots(figsize=(5,4))\n",
    "\n",
    "x = range(4)\n",
    "y = df.groupby('peak_selectivity_time_range2').mean()['selectivity_index']\n",
    "yerr = df.groupby('peak_selectivity_time_range2').sem()['selectivity_index']\n",
    "\n",
    "ax.bar(x=x, height=y, color='tab:orange')\n",
    "ax.errorbar(x=x, y=y, yerr=yerr, fmt='none',color='black', linewidth=3)\n",
    "#ax.set_yticks(np.arange(0,210,50))\n",
    "ax.set_ylabel('Selectivity index',fontsize=14)\n",
    "ax.set_xlabel('Peak selectivity time (ms)',fontsize=14)\n",
    "ax.set_xticks(range(4))\n",
    "ax.set_xticklabels(['0-200','200-400','400-650','650-900'])\n",
    "ax.tick_params(axis='x',labelrotation=45);\n",
    "\n",
    "plt.tight_layout()\n",
    "plt.show()\n",
    "#plt.savefig(fig_path / 'selectivity_duration_bar.png', dpi=300,facecolor='white')\n",
    "\n",
    "\n",
    "anova_result = pg.anova(data=df, dv='selectivity_index', between='peak_selectivity_time_range2', detailed=True)\n",
    "print(anova_result)"
   ]
  },
  {
   "cell_type": "code",
   "execution_count": null,
   "id": "6d0de390",
   "metadata": {},
   "outputs": [],
   "source": []
  }
 ],
 "metadata": {
  "kernelspec": {
   "display_name": "Python 3 (ipykernel)",
   "language": "python",
   "name": "python3"
  },
  "language_info": {
   "codemirror_mode": {
    "name": "ipython",
    "version": 3
   },
   "file_extension": ".py",
   "mimetype": "text/x-python",
   "name": "python",
   "nbconvert_exporter": "python",
   "pygments_lexer": "ipython3",
   "version": "3.9.12"
  }
 },
 "nbformat": 4,
 "nbformat_minor": 5
}
