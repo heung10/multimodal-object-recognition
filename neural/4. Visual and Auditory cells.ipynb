{
 "cells": [
  {
   "cell_type": "code",
   "execution_count": 1,
   "id": "6ef091ff",
   "metadata": {},
   "outputs": [],
   "source": [
    "import os\n",
    "import numpy as np\n",
    "import pandas as pd\n",
    "\n",
    "from scipy import stats\n",
    "from scipy.ndimage import gaussian_filter\n",
    "import statsmodels.api as sm\n",
    "\n",
    "import pingouin as pg\n",
    "\n",
    "import matplotlib as mpl\n",
    "import matplotlib.pyplot as plt  \n",
    "import matplotlib.colors as colors\n",
    "from matplotlib.patches import Rectangle\n",
    "import seaborn as sns\n",
    "\n",
    "from datetime import date\n",
    "import random"
   ]
  },
  {
   "cell_type": "code",
   "execution_count": 2,
   "id": "a2efd57f",
   "metadata": {},
   "outputs": [],
   "source": [
    "# no top and right spines in all plots\n",
    "mpl.rcParams['axes.spines.right'] = False\n",
    "mpl.rcParams['axes.spines.top'] = False"
   ]
  },
  {
   "cell_type": "code",
   "execution_count": 3,
   "id": "75d558bd",
   "metadata": {},
   "outputs": [],
   "source": [
    "mother_path = 'D:/Multi-modal project/analysis/'\n",
    "save_path = mother_path+'result/5. Single condition selectivity/'\n",
    "fig_path = mother_path+'result/figures/'"
   ]
  },
  {
   "cell_type": "markdown",
   "id": "c9d779bc",
   "metadata": {},
   "source": [
    "### Parameter setting"
   ]
  },
  {
   "cell_type": "code",
   "execution_count": 4,
   "id": "80036cec",
   "metadata": {},
   "outputs": [],
   "source": [
    "sig_alpha = 0.01\n",
    "sig_cohend = 0.4\n",
    "cons_bin_crit = 5\n",
    "\n",
    "gauss_sigma = 2\n",
    "gauss_on = True\n",
    "\n",
    "only_PER = True   # analyze only PER neurons?\n",
    "\n",
    "condition = ['Multimodal','Visual','Auditory','Control']\n",
    "cat = ['M','V','A','MV','MA','VA','MVA','None']\n",
    "\n",
    "# colors for multimodal, vis-only, aud-only conditions\n",
    "#colorpalette = ['mediumorchid','cornflowerblue','lightcoral','gray']\n",
    "colorpalette = ['purple','blue','red','gray']\n",
    "\n",
    "today = str(date.today())"
   ]
  },
  {
   "cell_type": "markdown",
   "id": "74ff06dc",
   "metadata": {},
   "source": [
    "### Data preparation"
   ]
  },
  {
   "cell_type": "code",
   "execution_count": 81,
   "id": "e42dba14",
   "metadata": {},
   "outputs": [],
   "source": [
    "cell_path = mother_path+'result/zFR export/13-Apr-2022 (5 trials)/'\n",
    "\n",
    "data_path = mother_path+'result/3. Item-selectivity/2023-01-09/'\n",
    "df = pd.read_csv(data_path+'2023-01-09_item-selectivity.csv')\n",
    "\n",
    "# analyze only PER neurons\n",
    "if only_PER == True:\n",
    "    df = df[df['Region']=='PER']\n",
    "    df.reset_index(inplace=True,drop=True)\n",
    "df.insert(4,'Cat','')\n",
    "\n",
    "for i in range(len(df)):\n",
    "    cat_info = ''\n",
    "    if df.loc[i,'M_sig'] == 1:\n",
    "        cat_info += 'M'\n",
    "    if df.loc[i,'V_sig'] == 1:\n",
    "        cat_info += 'V'\n",
    "    if df.loc[i,'A_sig'] == 1:\n",
    "        cat_info += 'A'\n",
    "    if cat_info=='':\n",
    "        df.loc[i,'Cat'] = 'None'\n",
    "    else:\n",
    "        df.loc[i,'Cat'] = cat_info\n",
    "df = df[(df['Cat']=='M')|(df['Cat']=='V')|(df['Cat']=='A')].reset_index(drop=True)"
   ]
  },
  {
   "cell_type": "code",
   "execution_count": 82,
   "id": "e7206f61",
   "metadata": {},
   "outputs": [],
   "source": [
    "# load selectivity data\n",
    "Binary_M = pd.read_csv(data_path+'Binary_M.csv')\n",
    "Binary_V = pd.read_csv(data_path+'Binary_V.csv')\n",
    "Binary_A = pd.read_csv(data_path+'Binary_A.csv')\n",
    "Binary_C = pd.read_csv(data_path+'Binary_C.csv')\n",
    "\n",
    "Cohend_M = pd.read_csv(data_path+'Cohend_M.csv')\n",
    "Cohend_V = pd.read_csv(data_path+'Cohend_V.csv')\n",
    "Cohend_A = pd.read_csv(data_path+'Cohend_A.csv')\n",
    "Cohend_C = pd.read_csv(data_path+'Cohend_C.csv')"
   ]
  },
  {
   "cell_type": "code",
   "execution_count": 83,
   "id": "522e8ee6",
   "metadata": {},
   "outputs": [],
   "source": [
    "# empty list for result csv file\n",
    "result=[]"
   ]
  },
  {
   "cell_type": "markdown",
   "id": "57976438",
   "metadata": {},
   "source": [
    "### Comparing cell proportions between M, V, A cells"
   ]
  },
  {
   "cell_type": "code",
   "execution_count": 84,
   "id": "1c3877bd",
   "metadata": {},
   "outputs": [
    {
     "name": "stdout",
     "output_type": "stream",
     "text": [
      "# of M cells = 66 (26.51%)\n",
      "# of V cells = 37 (14.86%)\n",
      "# of A cells = 30 (12.05%)\n"
     ]
    },
    {
     "data": {
      "image/png": "[encoded data removed]",
      "text/plain": [
       "<Figure size 288x288 with 1 Axes>"
      ]
     },
     "metadata": {
      "needs_background": "light"
     },
     "output_type": "display_data"
    }
   ],
   "source": [
    "n = 249    # number of object-selective neurons\n",
    "\n",
    "num_M = sum(df['Cat']=='M')\n",
    "num_V = sum(df['Cat']=='V')\n",
    "num_A = sum(df['Cat']=='A')\n",
    "print(f'# of M cells = {num_M} ({num_M/249*100:.2f}%)')\n",
    "print(f'# of V cells = {num_V} ({num_V/249*100:.2f}%)')\n",
    "print(f'# of A cells = {num_A} ({num_A/249*100:.2f}%)')\n",
    "\n",
    "fig,ax = plt.subplots(figsize=(4,4))\n",
    "y = np.array([sum(df['Cat']=='M'),sum(df['Cat']=='V'),sum(df['Cat']=='A')])/n\n",
    "ax.bar(x=['M','V','A'],height=y,color=colorpalette[0:3])\n",
    "\n",
    "ax.set_ylim([0,1])\n",
    "ax.set_yticks(np.arange(0,1.2,0.2));"
   ]
  },
  {
   "cell_type": "code",
   "execution_count": 120,
   "id": "a8f28673",
   "metadata": {},
   "outputs": [
    {
     "data": {
      "image/png": "[encoded data removed]",
      "text/plain": [
       "<Figure size 288x288 with 1 Axes>"
      ]
     },
     "metadata": {},
     "output_type": "display_data"
    }
   ],
   "source": [
    "fig,ax = plt.subplots(figsize=(4,4))\n",
    "ax.pie([num_M,(249-num_M-num_V-num_A),num_A,num_V],autopct='%.1f%%');\n",
    "ax.legend(['M','others','A','V'])\n",
    "plt.savefig(fig_path+'single_proportion.svg')"
   ]
  },
  {
   "cell_type": "code",
   "execution_count": 121,
   "id": "b1fffb27",
   "metadata": {},
   "outputs": [
    {
     "data": {
      "text/plain": [
       "116"
      ]
     },
     "execution_count": 121,
     "metadata": {},
     "output_type": "execute_result"
    }
   ],
   "source": [
    "(249-num_M-num_V-num_A)"
   ]
  },
  {
   "cell_type": "markdown",
   "id": "730694ea",
   "metadata": {},
   "source": [
    "### Comparing selectivity between M, V, A cells"
   ]
  },
  {
   "cell_type": "code",
   "execution_count": 100,
   "id": "4b1af48d",
   "metadata": {},
   "outputs": [],
   "source": [
    "df['SI'] = 0\n",
    "\n",
    "df.loc[df['Cat']=='M','SI'] = df.loc[df['Cat']=='M','M_L_field_size']+df.loc[df['Cat']=='M','M_R_field_size']\n",
    "df.loc[df['Cat']=='V','SI'] = df.loc[df['Cat']=='V','V_L_field_size']+df.loc[df['Cat']=='V','V_R_field_size']\n",
    "df.loc[df['Cat']=='A','SI'] = df.loc[df['Cat']=='A','A_L_field_size']+df.loc[df['Cat']=='A','A_R_field_size']"
   ]
  },
  {
   "cell_type": "code",
   "execution_count": 101,
   "id": "4b4acb29",
   "metadata": {},
   "outputs": [
    {
     "data": {
      "image/png": "[encoded data removed]",
      "text/plain": [
       "<Figure size 288x216 with 1 Axes>"
      ]
     },
     "metadata": {
      "needs_background": "light"
     },
     "output_type": "display_data"
    }
   ],
   "source": [
    "fig,ax = plt.subplots(figsize=(4,3))\n",
    "\n",
    "x = ['M','V','A']\n",
    "y = df.groupby('Cat').mean()['SI'].reindex(['M','V','A'])\n",
    "yerr =df.groupby('Cat').sem()['SI'].reindex(['M','V','A'])\n",
    "\n",
    "ax.bar(x=x,height=y,color=colorpalette[0:3])\n",
    "ax.errorbar(x=x,y=y,yerr=yerr,fmt='none',color='black',linewidth=2)\n",
    "ax.set_ylabel('Selectivity index',fontsize=14)\n",
    "ax.set_yticks(range(0,22,4))\n",
    "ax.set_ylim([0,20])\n",
    "ax.set_xlabel('Cell category',fontsize=14);\n",
    "\n",
    "#plt.savefig(fig_path+'single_SI.svg')\n",
    "#plt.savefig(fig_path+'single_SI.png',dpi=200,facecolor='white')"
   ]
  },
  {
   "cell_type": "code",
   "execution_count": 102,
   "id": "07ea252a",
   "metadata": {},
   "outputs": [
    {
     "data": {
      "text/html": [
       "<div>\n",
       "<style scoped>\n",
       "    .dataframe tbody tr th:only-of-type {\n",
       "        vertical-align: middle;\n",
       "    }\n",
       "\n",
       "    .dataframe tbody tr th {\n",
       "        vertical-align: top;\n",
       "    }\n",
       "\n",
       "    .dataframe thead th {\n",
       "        text-align: right;\n",
       "    }\n",
       "</style>\n",
       "<table border=\"1\" class=\"dataframe\">\n",
       "  <thead>\n",
       "    <tr style=\"text-align: right;\">\n",
       "      <th></th>\n",
       "      <th>Source</th>\n",
       "      <th>SS</th>\n",
       "      <th>DF</th>\n",
       "      <th>MS</th>\n",
       "      <th>F</th>\n",
       "      <th>p-unc</th>\n",
       "      <th>np2</th>\n",
       "    </tr>\n",
       "  </thead>\n",
       "  <tbody>\n",
       "    <tr>\n",
       "      <th>0</th>\n",
       "      <td>Cat</td>\n",
       "      <td>299.683814</td>\n",
       "      <td>2</td>\n",
       "      <td>149.841907</td>\n",
       "      <td>2.260514</td>\n",
       "      <td>0.108382</td>\n",
       "      <td>0.033608</td>\n",
       "    </tr>\n",
       "    <tr>\n",
       "      <th>1</th>\n",
       "      <td>Within</td>\n",
       "      <td>8617.263554</td>\n",
       "      <td>130</td>\n",
       "      <td>66.286643</td>\n",
       "      <td>NaN</td>\n",
       "      <td>NaN</td>\n",
       "      <td>NaN</td>\n",
       "    </tr>\n",
       "  </tbody>\n",
       "</table>\n",
       "</div>"
      ],
      "text/plain": [
       "   Source           SS   DF          MS         F     p-unc       np2\n",
       "0     Cat   299.683814    2  149.841907  2.260514  0.108382  0.033608\n",
       "1  Within  8617.263554  130   66.286643       NaN       NaN       NaN"
      ]
     },
     "execution_count": 102,
     "metadata": {},
     "output_type": "execute_result"
    }
   ],
   "source": [
    "pg.anova(data=df, dv='SI',between='Cat',detailed=True)"
   ]
  },
  {
   "cell_type": "code",
   "execution_count": 103,
   "id": "510da8cf",
   "metadata": {},
   "outputs": [
    {
     "data": {
      "image/png": "[encoded data removed]",
      "text/plain": [
       "<Figure size 360x288 with 1 Axes>"
      ]
     },
     "metadata": {
      "needs_background": "light"
     },
     "output_type": "display_data"
    }
   ],
   "source": [
    "fig,ax = plt.subplots(figsize=(5,4))\n",
    "\n",
    "ax.boxplot([df.loc[df['Cat']=='M','SI'],\n",
    "            df.loc[df['Cat']=='V','SI'],\n",
    "            df.loc[df['Cat']=='A','SI']]);\n",
    "ax.set_ylim([0,60])\n",
    "ax.set_yticks(range(0,70,10));\n",
    "ax.set_yticklabels(range(0,700,100));\n",
    "ax.set_ylabel('Selectivity index (ms)',fontsize=14);\n",
    "ax.set_xticklabels(['M','V','A'],fontsize=14);\n",
    "ax.set_xlabel('Cell category',fontsize=14);"
   ]
  },
  {
   "cell_type": "code",
   "execution_count": 106,
   "id": "9422e50c",
   "metadata": {},
   "outputs": [
    {
     "data": {
      "text/html": [
       "<div>\n",
       "<style scoped>\n",
       "    .dataframe tbody tr th:only-of-type {\n",
       "        vertical-align: middle;\n",
       "    }\n",
       "\n",
       "    .dataframe tbody tr th {\n",
       "        vertical-align: top;\n",
       "    }\n",
       "\n",
       "    .dataframe thead th {\n",
       "        text-align: right;\n",
       "    }\n",
       "</style>\n",
       "<table border=\"1\" class=\"dataframe\">\n",
       "  <thead>\n",
       "    <tr style=\"text-align: right;\">\n",
       "      <th></th>\n",
       "      <th>Source</th>\n",
       "      <th>ddof1</th>\n",
       "      <th>H</th>\n",
       "      <th>p-unc</th>\n",
       "    </tr>\n",
       "  </thead>\n",
       "  <tbody>\n",
       "    <tr>\n",
       "      <th>Kruskal</th>\n",
       "      <td>Cat</td>\n",
       "      <td>2</td>\n",
       "      <td>6.698264</td>\n",
       "      <td>0.035115</td>\n",
       "    </tr>\n",
       "  </tbody>\n",
       "</table>\n",
       "</div>"
      ],
      "text/plain": [
       "        Source  ddof1         H     p-unc\n",
       "Kruskal    Cat      2  6.698264  0.035115"
      ]
     },
     "execution_count": 106,
     "metadata": {},
     "output_type": "execute_result"
    }
   ],
   "source": [
    "pg.kruskal(data=df, dv='SI',between='Cat')"
   ]
  },
  {
   "cell_type": "markdown",
   "id": "b78ef14a",
   "metadata": {},
   "source": [
    "### Temporal patterns of object-selectivity"
   ]
  },
  {
   "cell_type": "code",
   "execution_count": 91,
   "id": "b1bb188a",
   "metadata": {},
   "outputs": [],
   "source": [
    "M = np.empty((0,95))\n",
    "V = np.empty((0,95))\n",
    "A = np.empty((0,95))\n",
    "\n",
    "for cell_run in df.Key:\n",
    "    c = df.loc[df['Key']==cell_run,'Cat'].values[0]\n",
    "    if c=='M':\n",
    "        binary = np.abs(Binary_M[Binary_M.iloc[:,0]==cell_run].iloc[:,1:96].values[0])\n",
    "        M = np.append(M,[binary],axis=0)\n",
    "    elif c=='V':\n",
    "        binary = np.abs(Binary_V[Binary_V.iloc[:,0]==cell_run].iloc[:,1:96].values[0])\n",
    "        V = np.append(V,[binary],axis=0)\n",
    "    elif c=='A':\n",
    "        binary = np.abs(Binary_A[Binary_A.iloc[:,0]==cell_run].iloc[:,1:96].values[0])\n",
    "        A = np.append(A,[binary],axis=0)"
   ]
  },
  {
   "cell_type": "code",
   "execution_count": 92,
   "id": "934c328e",
   "metadata": {},
   "outputs": [
    {
     "data": {
      "image/png": "[encoded data removed]",
      "text/plain": [
       "<Figure size 720x360 with 3 Axes>"
      ]
     },
     "metadata": {
      "needs_background": "light"
     },
     "output_type": "display_data"
    }
   ],
   "source": [
    "df['peaktime'] = 0\n",
    "\n",
    "df.loc[df['Cat']=='M','peaktime'] = df.loc[df['Cat']=='M','M_peaktime']\n",
    "df.loc[df['Cat']=='V','peaktime'] = df.loc[df['Cat']=='V','V_peaktime']\n",
    "df.loc[df['Cat']=='A','peaktime'] = df.loc[df['Cat']=='A','A_peaktime']\n",
    "\n",
    "fig,ax = plt.subplots(1,3,figsize=(10,5))\n",
    "binary = [M,V,A]\n",
    "\n",
    "for i in range(3):\n",
    "    a = df[df['Cat']==cat[i]].reset_index()\n",
    "    sort_index = sorted(range(len(a['peaktime'])),key=lambda k:a.loc[k,'peaktime'])\n",
    "    smap = [binary[i][j,:] for j in sort_index]\n",
    "    ax[i].pcolor(smap,cmap='binary')\n",
    "    ax[i].set_title(cat[i]+' cells',fontsize=15)\n",
    "    ax[i].set_xticks([0,40,95])\n",
    "    ax[i].set_xticklabels([0,400,950]);\n",
    "    ax[i].set_xlabel('Time (ms)')    \n",
    "    ax[i].set_ylabel('Cell')\n",
    "    \n",
    "fig.tight_layout()\n",
    "#plt.savefig(fig_path+'single_population_map.svg')\n",
    "#plt.savefig(fig_path+'single_population_map.png',dpi=200,facecolor='white')"
   ]
  },
  {
   "cell_type": "code",
   "execution_count": 203,
   "id": "1ca4f00d",
   "metadata": {},
   "outputs": [
    {
     "data": {
      "image/png": "[encoded data removed]",
      "text/plain": [
       "<Figure size 864x216 with 3 Axes>"
      ]
     },
     "metadata": {
      "needs_background": "light"
     },
     "output_type": "display_data"
    }
   ],
   "source": [
    "# smoothing\n",
    "bin_size = 5\n",
    "num_bin = int(95/bin_size)\n",
    "\n",
    "result_smooth = np.zeros((3,num_bin))\n",
    "\n",
    "for i in range(num_bin):    \n",
    "    result_smooth[0,i] = np.sum(np.any(M[:,i*bin_size:(i+1)*bin_size]==1,axis=1))\n",
    "    result_smooth[1,i] = np.sum(np.any(V[:,i*bin_size:(i+1)*bin_size]==1,axis=1))\n",
    "    result_smooth[2,i] = np.sum(np.any(A[:,i*bin_size:(i+1)*bin_size]==1,axis=1))\n",
    "\n",
    "result_smooth[0,:] = result_smooth[0,:]/np.shape(M)[0]\n",
    "result_smooth[1,:] = result_smooth[1,:]/np.shape(V)[0]\n",
    "result_smooth[2,:] = result_smooth[2,:]/np.shape(A)[0]\n",
    "\n",
    "fig,ax = plt.subplots(1,3,figsize=(12,3))\n",
    "\n",
    "t = ['M','V','A']\n",
    "for i in range(3):\n",
    "    ax[i].plot(result_smooth[i,:],color=colorpalette[i],linewidth=2)\n",
    "    ax[i].set_ylim([0,0.5])\n",
    "    ax[i].set_yticks(np.arange(0,0.6,0.1))\n",
    "    ax[i].set_xticks([0,40/bin_size,95/bin_size])\n",
    "    ax[i].set_xticklabels([0,400,950]);\n",
    "    ax[i].set_title(t[i],fontsize=15)\n",
    "    ax[i].set_ylabel('Norm. proportion',fontsize=13)\n",
    "    ax[i].set_xlabel('Time (ms)',fontsize=13)\n",
    "plt.tight_layout()"
   ]
  },
  {
   "cell_type": "code",
   "execution_count": 36,
   "id": "58cad152",
   "metadata": {},
   "outputs": [
    {
     "data": {
      "image/png": "[encoded data removed]",
      "text/plain": [
       "<Figure size 576x216 with 3 Axes>"
      ]
     },
     "metadata": {
      "needs_background": "light"
     },
     "output_type": "display_data"
    }
   ],
   "source": [
    "fig,ax = plt.subplots(1,3,figsize=(8,3))\n",
    "t = ['M cells','V cells','A cells']\n",
    "\n",
    "hist_result = [df.loc[df['Cat']=='M','peaktime'],\n",
    "               df.loc[df['Cat']=='V','peaktime'],\n",
    "               df.loc[df['Cat']=='A','peaktime']]\n",
    "\n",
    "for i in range(3):\n",
    "    ax[i].hist(hist_result[i],color=colorpalette[i],bins=range(0,1000,50),\n",
    "               cumulative=True,density=True,histtype='step',linewidth=2)\n",
    "    ax[i].set_xlim([0,950])\n",
    "    ax[i].set_title(t[i],fontsize=15)\n",
    "    ax[i].set_ylabel('Norm. proportion',fontsize=13)\n",
    "    ax[i].set_xlabel('Selectivity peak time (ms)',fontsize=13)\n",
    "    ax[i].set_xticks([0,400,950])\n",
    "    \n",
    "plt.tight_layout()\n",
    "plt.savefig(fig_path+'single_peak_cumul.svg')\n",
    "plt.savefig(fig_path+'single_peak_cumul.png',dpi=200,facecolor='white')"
   ]
  },
  {
   "cell_type": "code",
   "execution_count": 186,
   "id": "340fa0f6",
   "metadata": {},
   "outputs": [
    {
     "name": "stdout",
     "output_type": "stream",
     "text": [
      "M cells K-S test with uniform distribution\n",
      "KS statistic: 0.10669856459330146\n",
      "P-value: 0.411393869522251\n",
      "=============================================\n",
      "V cells K-S test with uniform distribution\n",
      "KS statistic: 0.32062588904694167\n",
      "P-value: 0.0006963199377983953\n",
      "=============================================\n",
      "A cells K-S test with uniform distribution\n",
      "KS statistic: 0.18070175438596495\n",
      "P-value: 0.24942033060940794\n",
      "=============================================\n"
     ]
    }
   ],
   "source": [
    "for i in range(3):\n",
    "    s,p = stats.kstest(hist_result[i], stats.uniform(loc=0, scale=950).cdf)\n",
    "    print(f\"{t[i]} K-S test with uniform distribution\")\n",
    "    print(f\"KS statistic: {s}\")\n",
    "    print(f\"P-value: {p}\")\n",
    "    print('=============================================')"
   ]
  },
  {
   "cell_type": "code",
   "execution_count": 51,
   "id": "0536d627",
   "metadata": {},
   "outputs": [
    {
     "data": {
      "image/png": "[encoded data removed]",
      "text/plain": [
       "<Figure size 360x288 with 1 Axes>"
      ]
     },
     "metadata": {
      "needs_background": "light"
     },
     "output_type": "display_data"
    }
   ],
   "source": [
    "fig,ax = plt.subplots(figsize=(5,4))\n",
    "ax.boxplot([df.loc[df['Cat']=='M','peaktime'],\n",
    "            df.loc[df['Cat']=='V','peaktime'],\n",
    "            df.loc[df['Cat']=='A','peaktime']]);\n",
    "ax.set_ylim([0,950])\n",
    "ax.set_yticks([0,200,400,600,800,950]);\n",
    "ax.set_ylabel('Selectivity peka time (ms)',fontsize=14);\n",
    "ax.set_xticklabels(['M','V','A'],fontsize=14);\n",
    "ax.set_xlabel('Cell category',fontsize=14);"
   ]
  },
  {
   "cell_type": "code",
   "execution_count": 65,
   "id": "34ea5f84",
   "metadata": {},
   "outputs": [
    {
     "data": {
      "text/html": [
       "<div>\n",
       "<style scoped>\n",
       "    .dataframe tbody tr th:only-of-type {\n",
       "        vertical-align: middle;\n",
       "    }\n",
       "\n",
       "    .dataframe tbody tr th {\n",
       "        vertical-align: top;\n",
       "    }\n",
       "\n",
       "    .dataframe thead th {\n",
       "        text-align: right;\n",
       "    }\n",
       "</style>\n",
       "<table border=\"1\" class=\"dataframe\">\n",
       "  <thead>\n",
       "    <tr style=\"text-align: right;\">\n",
       "      <th></th>\n",
       "      <th>Source</th>\n",
       "      <th>ddof1</th>\n",
       "      <th>H</th>\n",
       "      <th>p-unc</th>\n",
       "    </tr>\n",
       "  </thead>\n",
       "  <tbody>\n",
       "    <tr>\n",
       "      <th>Kruskal</th>\n",
       "      <td>Cat</td>\n",
       "      <td>2</td>\n",
       "      <td>4.953778</td>\n",
       "      <td>0.084004</td>\n",
       "    </tr>\n",
       "  </tbody>\n",
       "</table>\n",
       "</div>"
      ],
      "text/plain": [
       "        Source  ddof1         H     p-unc\n",
       "Kruskal    Cat      2  4.953778  0.084004"
      ]
     },
     "execution_count": 65,
     "metadata": {},
     "output_type": "execute_result"
    }
   ],
   "source": [
    "pg.kruskal(data=df, dv='peaktime',between='Cat',detailed=True)"
   ]
  }
 ],
 "metadata": {
  "kernelspec": {
   "display_name": "Python 3 (ipykernel)",
   "language": "python",
   "name": "python3"
  },
  "language_info": {
   "codemirror_mode": {
    "name": "ipython",
    "version": 3
   },
   "file_extension": ".py",
   "mimetype": "text/x-python",
   "name": "python",
   "nbconvert_exporter": "python",
   "pygments_lexer": "ipython3",
   "version": "3.9.12"
  }
 },
 "nbformat": 4,
 "nbformat_minor": 5
}
