{
 "cells": [
  {
   "cell_type": "markdown",
   "id": "c2d4f156",
   "metadata": {},
   "source": [
    "## Response-selective patterns\n",
    "This code examines basic properties of response-selective neurons"
   ]
  },
  {
   "cell_type": "code",
   "execution_count": 1,
   "id": "6ef091ff",
   "metadata": {},
   "outputs": [],
   "source": [
    "import os\n",
    "from pathlib import Path\n",
    "import numpy as np\n",
    "import pandas as pd\n",
    "\n",
    "from scipy import stats\n",
    "import statsmodels.api as sm\n",
    "\n",
    "import pingouin as pg\n",
    "\n",
    "import matplotlib as mpl\n",
    "import matplotlib.pyplot as plt\n",
    "\n",
    "from datetime import date\n",
    "import time\n",
    "\n",
    "import h5py"
   ]
  },
  {
   "cell_type": "code",
   "execution_count": 2,
   "id": "a2efd57f",
   "metadata": {},
   "outputs": [],
   "source": [
    "# no top and right spines in all plots\n",
    "mpl.rcParams['axes.spines.right'] = False\n",
    "mpl.rcParams['axes.spines.top'] = False"
   ]
  },
  {
   "cell_type": "code",
   "execution_count": 3,
   "id": "75d558bd",
   "metadata": {},
   "outputs": [],
   "source": [
    "mother_path = Path('D:/Multi-modal project/')\n",
    "fig_path = mother_path / 'analysis' / 'result' / 'figures'"
   ]
  },
  {
   "cell_type": "markdown",
   "id": "c9d779bc",
   "metadata": {},
   "source": [
    "### Parameter setting"
   ]
  },
  {
   "cell_type": "code",
   "execution_count": 4,
   "id": "80036cec",
   "metadata": {},
   "outputs": [],
   "source": [
    "gauss_sigma = 2\n",
    "\n",
    "# colors for multimodal, vis-only, aud-only conditions\n",
    "color = ['mediumorchid','cornflowerblue','lightcoral','gray']\n",
    "color2 = ['cyan','magenta','gray']\n",
    "linestyle = ['-',':']\n",
    "\n",
    "today = str(date.today())"
   ]
  },
  {
   "cell_type": "markdown",
   "id": "74ff06dc",
   "metadata": {},
   "source": [
    "### Data preparation"
   ]
  },
  {
   "cell_type": "code",
   "execution_count": 5,
   "id": "e42dba14",
   "metadata": {},
   "outputs": [],
   "source": [
    "# load hdf5 files containing shuffled results\n",
    "data_path = mother_path /'analysis'/'result'/'3. ANOVA'/'2023-07-10'\n",
    "data2_path = mother_path /'analysis'/'result'/'3.1 Multiple linear regression'/'2023-07-10'\n",
    "f = h5py.File(data_path/'2023-07-10_ANOVA_result.hdf5','r')\n",
    "f2 = h5py.File(data2_path/'2023-07-10_multiple_regression_result.hdf5','r')"
   ]
  },
  {
   "cell_type": "code",
   "execution_count": 6,
   "id": "f0d3e2ba",
   "metadata": {},
   "outputs": [],
   "source": [
    "def h5_to_df(f):\n",
    "    keys = list(f.keys())\n",
    "    attributes = {}\n",
    "    \n",
    "    for key in keys:\n",
    "        attributes[key] = dict(f[key].attrs.items())\n",
    "    \n",
    "    df = pd.DataFrame.from_dict(attributes, orient='index')\n",
    "    df.index.name = 'key'\n",
    "    df = df.reset_index()\n",
    "    \n",
    "    return df"
   ]
  },
  {
   "cell_type": "code",
   "execution_count": 7,
   "id": "6c1a7d44",
   "metadata": {},
   "outputs": [],
   "source": [
    "df = h5_to_df(f2)\n",
    "df = df[df['region']=='PER']\n",
    "df.reset_index(inplace=True,drop=True)\n",
    "\n",
    "object_bin_all = np.zeros((0,90))\n",
    "object_peak = []\n",
    "\n",
    "response_bin_all = np.zeros((0,90))\n",
    "response_peak = []\n",
    "\n",
    "for key in df['key']:    \n",
    "    df.loc[df['key']==key,'pref_obj'] = f[key].attrs['preferred object']\n",
    "    df.loc[df['key']==key,'peak_selectivity'] = np.max(f[f'{key}/anova_eta'])  \n",
    "    df.loc[df['key']==key,'peak_selectivity_time'] = f[key].attrs['peak selectivity time']\n",
    "    df.loc[df['key']==key,'selectivity_duration'] = len(f[f'{key}/object_bin'])*10\n",
    "    df.loc[df['key']==key,'selectivity_onset'] = np.min(f[f'{key}/object_bin'])*10\n",
    "    df.loc[df['key']==key,'selectivity_index'] = np.abs(f[key].attrs['selectivity index'])\n",
    "    \n",
    "    selective_bin = np.zeros(90)\n",
    "    selective_bin[f[f'{key}/object_bin']] = 1\n",
    "    \n",
    "    if df.loc[df['key']==key,'response cell'].item() == 0:    # object-selective neuron\n",
    "        object_bin_all = np.append(object_bin_all, [selective_bin], axis=0)\n",
    "        object_peak.append(df.loc[df['key']==key,'peak_selectivity_time'].item())\n",
    "    else:    # response-selective neuron\n",
    "        response_bin_all = np.append(response_bin_all, [selective_bin], axis=0)\n",
    "        response_peak.append(df.loc[df['key']==key,'peak_selectivity_time'].item())\n",
    "        \n",
    "df['peak_selectivity_time_range'] = (df['peak_selectivity_time'] // 100) + 1\n",
    "df['selectivity_onset_range'] = (df['peak_selectivity_time'] // 100) + 1\n",
    "\n",
    "for i in range(len(df)):\n",
    "    if df.loc[i,'peak_selectivity_time'] < 200:\n",
    "        df.loc[i,'peak_selectivity_time_range2'] = 0\n",
    "    elif 200 <= df.loc[i,'peak_selectivity_time'] < 400:\n",
    "        df.loc[i,'peak_selectivity_time_range2'] = 1\n",
    "    elif 400 <= df.loc[i,'peak_selectivity_time'] < 650:\n",
    "        df.loc[i,'peak_selectivity_time_range2'] = 2\n",
    "    elif 650 <= df.loc[i,'peak_selectivity_time'] < 900:\n",
    "        df.loc[i,'peak_selectivity_time_range2'] = 3"
   ]
  },
  {
   "cell_type": "markdown",
   "id": "5c628b90",
   "metadata": {},
   "source": [
    "### Proportions of cell cateogires"
   ]
  },
  {
   "cell_type": "code",
   "execution_count": 8,
   "id": "30ce2958",
   "metadata": {},
   "outputs": [],
   "source": [
    "df1 = h5_to_df(f)\n",
    "df1 = df1[df1['region']=='PER']\n",
    "df1.reset_index(inplace=True,drop=True)"
   ]
  },
  {
   "cell_type": "code",
   "execution_count": 9,
   "id": "36b580ca",
   "metadata": {},
   "outputs": [
    {
     "name": "stdout",
     "output_type": "stream",
     "text": [
      "None cell = 167 (0.48)\n",
      "Object cell = 149 (0.43)\n",
      "Response cell = 32 (0.09)\n"
     ]
    },
    {
     "data": {
      "image/png": "[encoded data removed]",
      "text/plain": [
       "<Figure size 432x216 with 2 Axes>"
      ]
     },
     "metadata": {
      "needs_background": "light"
     },
     "output_type": "display_data"
    }
   ],
   "source": [
    "none_cell = df1.groupby('object cell').size()[0]\n",
    "object_cell = df.groupby('response cell').size()[0]\n",
    "response_cell = df.groupby('response cell').size()[1]\n",
    "\n",
    "x = [none_cell, response_cell, object_cell]\n",
    "color = ['white','gray','black']\n",
    "\n",
    "fig,ax = plt.subplots(1,2,figsize=(6,3))\n",
    "fig.suptitle('Cell category', fontsize=18)\n",
    "ax[0].pie(x,colors=color,autopct='%.1f',textprops={'fontsize':14})\n",
    "ax[1].axis('off')\n",
    "prev_data = 0\n",
    "for i in range(3):\n",
    "    ax[1].bar(1, height = x[i], bottom=prev_data, color=color[i])\n",
    "    prev_data += x[i]\n",
    "    \n",
    "print(f'None cell = {none_cell} ({none_cell/len(df1):.2f})')\n",
    "print(f'Object cell = {object_cell} ({object_cell/len(df1):.2f})')\n",
    "print(f'Response cell = {response_cell} ({response_cell/len(df1):.2f})')\n",
    "\n",
    "#plt.savefig(fig_path / 'proportion.png', dpi=300,facecolor='white')\n",
    "plt.savefig(fig_path / 'svg' / 'proportion.svg')"
   ]
  },
  {
   "cell_type": "markdown",
   "id": "a9fc4622",
   "metadata": {},
   "source": [
    "### Temporal patterns of response-selective neurons"
   ]
  },
  {
   "cell_type": "code",
   "execution_count": 11,
   "id": "dca6087a",
   "metadata": {},
   "outputs": [
    {
     "data": {
      "image/png": "[encoded data removed]",
      "text/plain": [
       "<Figure size 576x432 with 2 Axes>"
      ]
     },
     "metadata": {
      "needs_background": "light"
     },
     "output_type": "display_data"
    }
   ],
   "source": [
    "object_sorted = object_bin_all[np.argsort(object_peak)]\n",
    "response_sorted = response_bin_all[np.argsort(response_peak)]\n",
    "\n",
    "fig,ax = plt.subplots(1,2,figsize=(8,6))\n",
    "\n",
    "for i in range(len(object_sorted)):\n",
    "    s_start = np.min(np.where(object_sorted[i,:]))\n",
    "    s_end = np.max(np.where(object_sorted[i,:]))\n",
    "    ax[0].hlines(y=i, xmin = s_start, xmax = s_end)\n",
    "    \n",
    "ax[0].set_xticks([0,40,90])\n",
    "ax[0].set_xticklabels([0,400,900])\n",
    "ax[0].set_xlabel('Time (ms)',fontsize=13)\n",
    "ax[0].set_yticks([0, 19, 39, 59, 79, 99, 119, 139, object_cell-1])\n",
    "ax[0].set_yticklabels([1, 20, 40, 60, 80, 100, 120, 140, object_cell])\n",
    "ax[0].set_ylabel('Cell #',fontsize=13)\n",
    "ax[0].set_title('Object cell', fontsize=16)\n",
    "\n",
    "for i in range(len(response_sorted)):\n",
    "    s_start = np.min(np.where(response_sorted[i,:]))\n",
    "    s_end = np.max(np.where(response_sorted[i,:]))\n",
    "    ax[1].hlines(y=i, xmin = s_start, xmax = s_end)\n",
    "ax[1].set_xticks([0,40,90])\n",
    "ax[1].set_xticklabels([0,400,900])\n",
    "ax[1].set_xlabel('Time (ms)',fontsize=13)\n",
    "ax[1].set_yticks([0, 9, 19, 29, response_cell-1])\n",
    "ax[1].set_yticklabels([1, 10, 20, 30, response_cell])\n",
    "ax[1].set_ylabel('Cell #',fontsize=13)\n",
    "ax[1].set_title('Response cell', fontsize=16)\n",
    "\n",
    "\n",
    "plt.tight_layout()\n",
    "#plt.savefig(fig_path / 'population_selectivity_object_response.png', dpi=300,facecolor='white')\n",
    "#plt.savefig(fig_path / 'svg' /'population_selectivity_object_response.svg')"
   ]
  },
  {
   "cell_type": "code",
   "execution_count": 22,
   "id": "303644ff",
   "metadata": {},
   "outputs": [
    {
     "name": "stdout",
     "output_type": "stream",
     "text": [
      "================================================\n",
      "K-S test\n",
      "KS statistic: 0.46098993288590606\n",
      "P-value: 1.3269795216541702e-05\n",
      "================================================\n"
     ]
    },
    {
     "data": {
      "image/png": "[encoded data removed]",
      "text/plain": [
       "<Figure size 288x288 with 1 Axes>"
      ]
     },
     "metadata": {
      "needs_background": "light"
     },
     "output_type": "display_data"
    }
   ],
   "source": [
    "fig,ax = plt.subplots(figsize=(4,4))\n",
    "\n",
    "ax.hist(response_peak, range=(0,900), bins=50, cumulative=1, histtype='step', density=True, \n",
    "        edgecolor='black', linestyle=':', linewidth=2);\n",
    "ax.hist(object_peak, range=(0,900), bins=50, cumulative=1, histtype='step', density=True,\n",
    "        edgecolor='black', linewidth=2);\n",
    "\n",
    "\n",
    "ax.set_ylim([0,1])\n",
    "ax.set_xticks([0,400,900])\n",
    "ax.set_xlim([0,900])\n",
    "ax.set_ylabel('Normalized proportion',fontsize=12);\n",
    "ax.set_xlabel('Time (ms)',fontsize=12);\n",
    "ax.set_title('CDF of peak selectivity time',fontsize=14);\n",
    "\n",
    "s,p = stats.kstest(response_peak, object_peak)\n",
    "print('================================================')\n",
    "print(\"K-S test\")\n",
    "print(f\"KS statistic: {s}\")\n",
    "print(f\"P-value: {p}\")\n",
    "print('================================================')\n",
    "\n",
    "#plt.savefig(fig_path / 'peak_time_object_response.png', dpi=300,facecolor='white')\n",
    "plt.savefig(fig_path / 'svg' / 'peak_time_object_response.svg')"
   ]
  },
  {
   "cell_type": "code",
   "execution_count": 15,
   "id": "46af4b03",
   "metadata": {},
   "outputs": [
    {
     "data": {
      "image/png": "[encoded data removed]",
      "text/plain": [
       "<Figure size 288x180 with 1 Axes>"
      ]
     },
     "metadata": {
      "needs_background": "light"
     },
     "output_type": "display_data"
    }
   ],
   "source": [
    "fig,ax = plt.subplots(figsize=(4,2.5))\n",
    "\n",
    "x = ['Object', 'Response']\n",
    "y = [object_peak, response_peak]\n",
    "ax.boxplot(y, vert=False);\n",
    "ax.set_yticklabels(x, fontsize=13);\n",
    "ax.set_xticks([0, 400, 900]);\n",
    "ax.set_xlabel('Peak selectivity time (ms)', fontsize=13)\n",
    "\n",
    "plt.tight_layout()\n",
    "#plt.savefig(fig_path / 'category_time_boxplot.png', dpi=300,facecolor='white')"
   ]
  },
  {
   "cell_type": "code",
   "execution_count": 16,
   "id": "456f35c0",
   "metadata": {},
   "outputs": [
    {
     "data": {
      "text/html": [
       "<div>\n",
       "<style scoped>\n",
       "    .dataframe tbody tr th:only-of-type {\n",
       "        vertical-align: middle;\n",
       "    }\n",
       "\n",
       "    .dataframe tbody tr th {\n",
       "        vertical-align: top;\n",
       "    }\n",
       "\n",
       "    .dataframe thead th {\n",
       "        text-align: right;\n",
       "    }\n",
       "</style>\n",
       "<table border=\"1\" class=\"dataframe\">\n",
       "  <thead>\n",
       "    <tr style=\"text-align: right;\">\n",
       "      <th></th>\n",
       "      <th>U-val</th>\n",
       "      <th>alternative</th>\n",
       "      <th>p-val</th>\n",
       "      <th>RBC</th>\n",
       "      <th>CLES</th>\n",
       "    </tr>\n",
       "  </thead>\n",
       "  <tbody>\n",
       "    <tr>\n",
       "      <th>MWU</th>\n",
       "      <td>1455.0</td>\n",
       "      <td>two-sided</td>\n",
       "      <td>0.000553</td>\n",
       "      <td>0.389681</td>\n",
       "      <td>0.305159</td>\n",
       "    </tr>\n",
       "  </tbody>\n",
       "</table>\n",
       "</div>"
      ],
      "text/plain": [
       "      U-val alternative     p-val       RBC      CLES\n",
       "MWU  1455.0   two-sided  0.000553  0.389681  0.305159"
      ]
     },
     "execution_count": 16,
     "metadata": {},
     "output_type": "execute_result"
    }
   ],
   "source": [
    "pg.mwu(object_peak, response_peak)"
   ]
  },
  {
   "cell_type": "markdown",
   "id": "bcc010d0",
   "metadata": {},
   "source": [
    "### Comparing selectivity between object and response cells"
   ]
  },
  {
   "cell_type": "code",
   "execution_count": 19,
   "id": "4b8b36c0",
   "metadata": {},
   "outputs": [
    {
     "data": {
      "image/png": "[encoded data removed]",
      "text/plain": [
       "<Figure size 576x216 with 2 Axes>"
      ]
     },
     "metadata": {
      "needs_background": "light"
     },
     "output_type": "display_data"
    }
   ],
   "source": [
    "fig,ax = plt.subplots(1,2,figsize=(8,3))\n",
    "\n",
    "ax[0].hist(df.loc[df['response cell']==0,'selectivity_duration'], \n",
    "           bins=np.arange(0,500,50), color='dimgray', ec='white', density=True);\n",
    "\n",
    "\n",
    "ax[1].hist(df.loc[df['response cell']==1,'selectivity_duration'], \n",
    "           bins=np.arange(0,500,50), color='dimgray', ec='white', density=True);\n",
    "\n",
    "t = ['Object cell', 'Response cell']\n",
    "for i in range(2):\n",
    "    ax[i].set_xlabel('Selectivity duration (ms)',fontsize=13);\n",
    "    ax[i].set_xticks(np.arange(0,600,100))\n",
    "    ax[i].set_xlim([0, 500])\n",
    "    ax[i].set_ylabel('Normalized frequency',fontsize=13);\n",
    "    ax[i].set_yticks(np.arange(0,0.016,0.005))\n",
    "    ax[i].set_ylim([0,0.015])\n",
    "    ax[i].set_title(t[i], fontsize=14)\n",
    "\n",
    "plt.tight_layout()\n",
    "#plt.savefig(fig_path / 'selectivity_duration_hist_object_response.png', dpi=300,facecolor='white')\n",
    "plt.savefig(fig_path / 'svg' / 'selectivity_duration_hist_object_response.svg')"
   ]
  },
  {
   "cell_type": "code",
   "execution_count": null,
   "id": "5f242b25",
   "metadata": {},
   "outputs": [],
   "source": [
    "fig,ax = plt.subplots(1,2,figsize=(8,3))\n",
    "\n",
    "ax[0].hist(df.loc[df['response cell']==0,'selectivity_duration'], \n",
    "           bins=np.arange(0,500,50), color='dimgray', ec='white', density=True);\n",
    "\n",
    "\n",
    "ax[1].hist(df.loc[df['response cell']==1,'selectivity_duration'], \n",
    "           bins=np.arange(0,500,50), color='dimgray', ec='white', density=True);\n",
    "\n",
    "t = ['Object cell', 'Response cell']\n",
    "for i in range(2):\n",
    "    ax[i].set_xlabel('Selectivity duration (ms)',fontsize=13);\n",
    "    ax[i].set_xticks(np.arange(0,600,100))\n",
    "    ax[i].set_xlim([0, 500])\n",
    "    ax[i].set_ylabel('Normalized frequency',fontsize=13);\n",
    "    ax[i].set_yticks(np.arange(0,0.016,0.005))\n",
    "    ax[i].set_ylim([0,0.015])\n",
    "    ax[i].set_title(t[i], fontsize=14)\n",
    "\n",
    "plt.tight_layout()\n",
    "#plt.savefig(fig_path / 'selectivity_duration_hist_object_response.png', dpi=300,facecolor='white')\n",
    "plt.savefig(fig_path / 'svg' / 'selectivity_duration_hist_object_response.svg')z"
   ]
  },
  {
   "cell_type": "code",
   "execution_count": 26,
   "id": "9accf163",
   "metadata": {},
   "outputs": [
    {
     "data": {
      "image/png": "[encoded data removed]",
      "text/plain": [
       "<Figure size 216x180 with 1 Axes>"
      ]
     },
     "metadata": {
      "needs_background": "light"
     },
     "output_type": "display_data"
    }
   ],
   "source": [
    "fig,ax = plt.subplots(figsize=(3,2.5))\n",
    "\n",
    "x = ['Object', 'Response']\n",
    "y = [df.loc[df['response cell']==0,'selectivity_duration'],\n",
    "     df.loc[df['response cell']==1,'selectivity_duration']]\n",
    "ax.boxplot(y);\n",
    "ax.set_xticklabels(x, fontsize=13);\n",
    "ax.set_yticks(np.arange(0,900,200));\n",
    "ax.set_ylabel('Selectivity duration (ms)', fontsize=13)\n",
    "\n",
    "plt.tight_layout()\n",
    "#plt.savefig(fig_path / 'duration_box_object_response.png', dpi=300,facecolor='white')\n",
    "plt.savefig(fig_path / 'svg' / 'duration_box_object_response.svg')"
   ]
  },
  {
   "cell_type": "code",
   "execution_count": 22,
   "id": "4459466a",
   "metadata": {},
   "outputs": [
    {
     "data": {
      "text/html": [
       "<div>\n",
       "<style scoped>\n",
       "    .dataframe tbody tr th:only-of-type {\n",
       "        vertical-align: middle;\n",
       "    }\n",
       "\n",
       "    .dataframe tbody tr th {\n",
       "        vertical-align: top;\n",
       "    }\n",
       "\n",
       "    .dataframe thead th {\n",
       "        text-align: right;\n",
       "    }\n",
       "</style>\n",
       "<table border=\"1\" class=\"dataframe\">\n",
       "  <thead>\n",
       "    <tr style=\"text-align: right;\">\n",
       "      <th></th>\n",
       "      <th>U-val</th>\n",
       "      <th>alternative</th>\n",
       "      <th>p-val</th>\n",
       "      <th>RBC</th>\n",
       "      <th>CLES</th>\n",
       "    </tr>\n",
       "  </thead>\n",
       "  <tbody>\n",
       "    <tr>\n",
       "      <th>MWU</th>\n",
       "      <td>832.0</td>\n",
       "      <td>two-sided</td>\n",
       "      <td>6.847353e-09</td>\n",
       "      <td>0.651007</td>\n",
       "      <td>0.174497</td>\n",
       "    </tr>\n",
       "  </tbody>\n",
       "</table>\n",
       "</div>"
      ],
      "text/plain": [
       "     U-val alternative         p-val       RBC      CLES\n",
       "MWU  832.0   two-sided  6.847353e-09  0.651007  0.174497"
      ]
     },
     "execution_count": 22,
     "metadata": {},
     "output_type": "execute_result"
    }
   ],
   "source": [
    "pg.mwu(df.loc[df['response cell']==0,'selectivity_duration'],\n",
    "     df.loc[df['response cell']==1,'selectivity_duration'])"
   ]
  },
  {
   "cell_type": "markdown",
   "id": "bb6b20a6",
   "metadata": {},
   "source": [
    "----"
   ]
  },
  {
   "cell_type": "code",
   "execution_count": 23,
   "id": "45426edd",
   "metadata": {},
   "outputs": [
    {
     "data": {
      "image/png": "[encoded data removed]",
      "text/plain": [
       "<Figure size 576x216 with 2 Axes>"
      ]
     },
     "metadata": {
      "needs_background": "light"
     },
     "output_type": "display_data"
    }
   ],
   "source": [
    "fig,ax = plt.subplots(1,2,figsize=(8,3))\n",
    "\n",
    "ax[0].hist(df.loc[df['response cell']==0,'selectivity_index'], \n",
    "           bins=np.arange(0,40,5), color='dimgray', ec='white', density=True);\n",
    "\n",
    "\n",
    "ax[1].hist(df.loc[df['response cell']==1,'selectivity_index'], \n",
    "           bins=np.arange(0,40,5), color='dimgray', ec='white', density=True);\n",
    "\n",
    "t = ['Object cell', 'Response cell']\n",
    "for i in range(2):\n",
    "    ax[i].set_xlabel('Selectivity index',fontsize=13);\n",
    "    ax[i].set_xticks(np.arange(0,45,5))\n",
    "    ax[i].set_xlim([0, 40])\n",
    "    ax[i].set_ylabel('Normalized frequency',fontsize=13);\n",
    "    ax[i].set_yticks(np.arange(0,0.16,0.05))\n",
    "    ax[i].set_ylim([0,0.15])\n",
    "    ax[i].set_title(t[i], fontsize=14)\n",
    "\n",
    "plt.tight_layout()\n",
    "#plt.savefig(fig_path / 'selectivity_duration_hist.png', dpi=300,facecolor='white')"
   ]
  },
  {
   "cell_type": "code",
   "execution_count": 25,
   "id": "0f7fd097",
   "metadata": {},
   "outputs": [
    {
     "data": {
      "image/png": "[encoded data removed]",
      "text/plain": [
       "<Figure size 216x180 with 1 Axes>"
      ]
     },
     "metadata": {
      "needs_background": "light"
     },
     "output_type": "display_data"
    }
   ],
   "source": [
    "fig,ax = plt.subplots(figsize=(3,2.5))\n",
    "\n",
    "x = ['Object', 'Response']\n",
    "y = [df.loc[df['response cell']==0,'selectivity_index'],\n",
    "     df.loc[df['response cell']==1,'selectivity_index']]\n",
    "ax.boxplot(y);\n",
    "ax.set_xticklabels(x, fontsize=13);\n",
    "ax.set_yticks(np.arange(0,50,10));\n",
    "ax.set_ylabel('Selectivity index', fontsize=13)\n",
    "\n",
    "plt.tight_layout()\n",
    "#plt.savefig(fig_path / 'category_time_boxplot.png', dpi=300,facecolor='white')"
   ]
  },
  {
   "cell_type": "code",
   "execution_count": 27,
   "id": "943f3068",
   "metadata": {},
   "outputs": [
    {
     "data": {
      "text/html": [
       "<div>\n",
       "<style scoped>\n",
       "    .dataframe tbody tr th:only-of-type {\n",
       "        vertical-align: middle;\n",
       "    }\n",
       "\n",
       "    .dataframe tbody tr th {\n",
       "        vertical-align: top;\n",
       "    }\n",
       "\n",
       "    .dataframe thead th {\n",
       "        text-align: right;\n",
       "    }\n",
       "</style>\n",
       "<table border=\"1\" class=\"dataframe\">\n",
       "  <thead>\n",
       "    <tr style=\"text-align: right;\">\n",
       "      <th></th>\n",
       "      <th>U-val</th>\n",
       "      <th>alternative</th>\n",
       "      <th>p-val</th>\n",
       "      <th>RBC</th>\n",
       "      <th>CLES</th>\n",
       "    </tr>\n",
       "  </thead>\n",
       "  <tbody>\n",
       "    <tr>\n",
       "      <th>MWU</th>\n",
       "      <td>638.0</td>\n",
       "      <td>two-sided</td>\n",
       "      <td>8.531037e-11</td>\n",
       "      <td>0.732383</td>\n",
       "      <td>0.133809</td>\n",
       "    </tr>\n",
       "  </tbody>\n",
       "</table>\n",
       "</div>"
      ],
      "text/plain": [
       "     U-val alternative         p-val       RBC      CLES\n",
       "MWU  638.0   two-sided  8.531037e-11  0.732383  0.133809"
      ]
     },
     "execution_count": 27,
     "metadata": {},
     "output_type": "execute_result"
    }
   ],
   "source": [
    "pg.mwu(df.loc[df['response cell']==0,'selectivity_index'],\n",
    "     df.loc[df['response cell']==1,'selectivity_index'])"
   ]
  },
  {
   "cell_type": "code",
   "execution_count": null,
   "id": "fd2c2abf",
   "metadata": {},
   "outputs": [],
   "source": []
  }
 ],
 "metadata": {
  "kernelspec": {
   "display_name": "Python 3 (ipykernel)",
   "language": "python",
   "name": "python3"
  },
  "language_info": {
   "codemirror_mode": {
    "name": "ipython",
    "version": 3
   },
   "file_extension": ".py",
   "mimetype": "text/x-python",
   "name": "python",
   "nbconvert_exporter": "python",
   "pygments_lexer": "ipython3",
   "version": "3.9.12"
  }
 },
 "nbformat": 4,
 "nbformat_minor": 5
}
