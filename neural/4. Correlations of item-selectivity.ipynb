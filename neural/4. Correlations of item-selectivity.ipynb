{
 "cells": [
  {
   "cell_type": "code",
   "execution_count": 1,
   "id": "6ef091ff",
   "metadata": {},
   "outputs": [],
   "source": [
    "import os\n",
    "import numpy as np\n",
    "import pandas as pd\n",
    "\n",
    "from scipy import stats\n",
    "from scipy.ndimage import gaussian_filter\n",
    "from scipy.signal import find_peaks\n",
    "\n",
    "import pingouin\n",
    "\n",
    "import matplotlib as mpl\n",
    "import matplotlib.pyplot as plt  \n",
    "import seaborn as sns\n",
    "\n",
    "from datetime import date\n",
    "import random\n",
    "import warnings"
   ]
  },
  {
   "cell_type": "code",
   "execution_count": 2,
   "id": "74abe7d1",
   "metadata": {},
   "outputs": [],
   "source": [
    "warnings.filterwarnings(\"ignore\", category=UserWarning)"
   ]
  },
  {
   "cell_type": "code",
   "execution_count": 3,
   "id": "a2efd57f",
   "metadata": {},
   "outputs": [],
   "source": [
    "# no top and right spines in all plots\n",
    "mpl.rcParams['axes.spines.right'] = False\n",
    "mpl.rcParams['axes.spines.top'] = False"
   ]
  },
  {
   "cell_type": "code",
   "execution_count": 4,
   "id": "75d558bd",
   "metadata": {},
   "outputs": [],
   "source": [
    "mother_path = 'D:/Multi-modal project/'"
   ]
  },
  {
   "cell_type": "markdown",
   "id": "c9d779bc",
   "metadata": {},
   "source": [
    "# Parameter setting"
   ]
  },
  {
   "cell_type": "code",
   "execution_count": 5,
   "id": "80036cec",
   "metadata": {},
   "outputs": [],
   "source": [
    "sig_alpha = 0.01\n",
    "sig_cohend = 0.4\n",
    "cons_bin_crit = 5\n",
    "\n",
    "gauss_sigma = 2\n",
    "gauss_on = True\n",
    "\n",
    "only_PER = False   # analyze only PER neurons?\n",
    "\n",
    "condition = ['Multimodal','Visual','Auditory','Control']\n",
    " # colors for multimodal, vis-only, aud-only conditions\n",
    "colorpalette = ['mediumorchid','cornflowerblue','lightcoral','gray']\n",
    "\n",
    "cmap = 'PiYG'\n",
    "\n",
    "today = str(date.today())"
   ]
  },
  {
   "cell_type": "markdown",
   "id": "74ff06dc",
   "metadata": {},
   "source": [
    "# Data preparation"
   ]
  },
  {
   "cell_type": "code",
   "execution_count": 6,
   "id": "e42dba14",
   "metadata": {},
   "outputs": [],
   "source": [
    "unit_summary = pd.read_table(mother_path+'/analysis/result'+\n",
    "                             '/1. Cluster summary/clusterSummary.csv',sep=',')\n",
    "save_path = mother_path+'analysis/result/4. Selectivity correlations/'\n",
    "data_path = mother_path+'analysis/result/zFR export/13-Apr-2022 (5 trials)/'\n",
    "os.chdir(data_path)"
   ]
  },
  {
   "cell_type": "code",
   "execution_count": 7,
   "id": "522e8ee6",
   "metadata": {},
   "outputs": [],
   "source": [
    "# empty list for result csv file\n",
    "result=[]"
   ]
  },
  {
   "cell_type": "code",
   "execution_count": 8,
   "id": "e9bd828a",
   "metadata": {},
   "outputs": [],
   "source": [
    "cell_list = os.listdir(os.curdir)"
   ]
  },
  {
   "cell_type": "markdown",
   "id": "e0fbe3cd",
   "metadata": {},
   "source": [
    "# Data analysis"
   ]
  },
  {
   "cell_type": "code",
   "execution_count": 9,
   "id": "55f9d3d9",
   "metadata": {},
   "outputs": [],
   "source": [
    "def SDF_plot(cond,ax,colorpalette,linewidth,shade_on):\n",
    "    x = np.arange(95)*10\n",
    "    ax.axvline(x=400,color='black',linewidth=1,linestyle=':')\n",
    "    for i in cond:\n",
    "        if (i==0)|(i==1):\n",
    "            cond, current_color = 0, colorpalette[0]\n",
    "        elif (i==2)|(i==3):\n",
    "            cond, current_color = 1, colorpalette[1]\n",
    "        elif (i==4)|(i==5):\n",
    "            cond, current_color = 2, colorpalette[2]\n",
    "        elif (i==6)|(i==7):\n",
    "            cond, current_color = 3, colorpalette[3]\n",
    "            \n",
    "        if np.mod(i,2)==0:\n",
    "            current_style='-'\n",
    "        else:\n",
    "            current_style=':'\n",
    "            \n",
    "        ax.plot(x,mean_by_cond[i,:],color=current_color,\n",
    "                linewidth=linewidth,linestyle=current_style)\n",
    "        if shade_on:\n",
    "            ax.fill_between(x, mean_by_cond[i,:]-sem_by_cond[i,:],\n",
    "                             mean_by_cond[i,:]+sem_by_cond[i,:],\n",
    "                             color=current_color, alpha=0.2)\n",
    "        else:\n",
    "            ax.errorbar(x, mean_by_cond[i,:],yerr=sem_by_cond[i,:],xerr=sem_by_cond[i,:],\n",
    "                        ecolor=current_color,elinewidth=1,fmt='None',alpha=0.5)\n",
    "    if is_sig[cond]!=0:\n",
    "        ax.axvline(x=peaktime[cond]*10,ymax=0.1,color='black',linewidth=3)    \n",
    "    ax.set_xlim([0,950])\n",
    "    ax.tick_params(axis='y',which='both',direction='in')    \n",
    "    ax.tick_params(axis='x',which='both',bottom=False,top=False,labelbottom=False)    \n",
    "    ax.set_yticks(np.arange(y_min,(y_max+1)))\n",
    "    ax.set_ylim([y_min,y_max])\n",
    "    ax.set_ylabel('z-scored FR')\n",
    "    ax.scatter(sig_field[cond]*10,np.tile(y_max-0.2,(len(sig_field[cond]),1)),\n",
    "            s=10,marker='_',c='black',linewidth=2)    "
   ]
  },
  {
   "cell_type": "code",
   "execution_count": 10,
   "id": "5254fd64",
   "metadata": {},
   "outputs": [],
   "source": [
    "def find_sig_field(sig_bin, cohend):\n",
    "    cohend = np.abs(cohend)\n",
    "    field_bin = []\n",
    "    for i in sig_bin:\n",
    "        sig_chunk = []\n",
    "        for j in range(i-1, -1, -1):\n",
    "            if cohend[j] > sig_cohend:\n",
    "                sig_chunk.append(j)\n",
    "            else:\n",
    "                break\n",
    "        for j in range(i, 95):\n",
    "            if cohend[j] > sig_cohend:\n",
    "                sig_chunk.append(j)\n",
    "            else:\n",
    "                break\n",
    "        if len(sig_chunk) >= cons_bin_crit:\n",
    "            field_bin.extend(sig_chunk)\n",
    "    result = np.unique(field_bin)\n",
    "    return result.astype(int)"
   ]
  },
  {
   "cell_type": "code",
   "execution_count": 11,
   "id": "8239446b",
   "metadata": {},
   "outputs": [],
   "source": [
    "def selectivity_map(cond,ax):\n",
    "    this_map = cohend_sig[cond,:]\n",
    "    new_map = this_map[np.newaxis,:]\n",
    "    ax.imshow(new_map,aspect=\"auto\",cmap=cmap,vmin=-1,vmax=1);\n",
    "    ax.tick_params(axis='y',which='both',left=False,labelleft=False)\n",
    "    ax.set_xticks([0,20,40,60,80,95])\n",
    "    ax.set_xticklabels([0,200,400,600,800,950])\n",
    "    ax.set_xlabel('Time (ms)')"
   ]
  },
  {
   "cell_type": "markdown",
   "id": "5c8e4388",
   "metadata": {},
   "source": [
    "### Main analysis\n",
    "Plot object-selectivity map along with SDF and record correlations of selectivity map between modality conditions"
   ]
  },
  {
   "cell_type": "code",
   "execution_count": 12,
   "id": "7a800433",
   "metadata": {},
   "outputs": [],
   "source": [
    "for cell_run in cell_list:\n",
    "    os.chdir(data_path)\n",
    "    data = pd.read_csv(cell_run)\n",
    "    # we only use correct trials in the current analysis\n",
    "    data.drop(data[data.Correctness==0].index,inplace=True)\n",
    "    data.iloc[:,9:] = round(data.iloc[:,9:]*10000)/10000\n",
    "\n",
    "    # get information about the cell\n",
    "    cell_info = cell_run.split('-')\n",
    "    cell_id = int(cell_info[0])\n",
    "    rat_id = cell_info[1]\n",
    "    session_id = cell_info[2]\n",
    "    region = cell_info[5]\n",
    "\n",
    "    cond = [(data.Type=='Multimodal')&(data.RWD_Loc=='Left'),\n",
    "            (data.Type=='Multimodal')&(data.RWD_Loc=='Right'),\n",
    "            (data.Type=='Visual')&(data.RWD_Loc=='Left'),\n",
    "            (data.Type=='Visual')&(data.RWD_Loc=='Right'),\n",
    "            (data.Type=='Auditory')&(data.RWD_Loc=='Left'),\n",
    "            (data.Type=='Auditory')&(data.RWD_Loc=='Right'),\n",
    "            (data.Type=='Elemental')&(data.RWD_Loc=='Left'),\n",
    "            (data.Type=='Elemental')&(data.RWD_Loc=='Right')]      \n",
    "            \n",
    "    mean_by_cond = np.zeros((8,95))\n",
    "    sem_by_cond = np.zeros((8,95))\n",
    "    for i in range(8):\n",
    "        mean_by_cond[i,:]=data[cond[i]].iloc[:,9:].to_numpy().mean(axis=0)\n",
    "        sem_by_cond[i,:]=stats.sem(data[cond[i]].iloc[:,9:].to_numpy())    \n",
    "    \n",
    "    pval_map = np.zeros((4,95))\n",
    "    sig_bin = np.zeros((4,95))\n",
    "    \n",
    "    cohend_by_cond = np.zeros((4,95))\n",
    "    sig_field = dict()\n",
    "    \n",
    "    for i in range(4):\n",
    "        for j in range(95):\n",
    "            comp_data = data[cond[i*2]|cond[i*2+1]].iloc[:,9+j]\n",
    "            if all(x==comp_data.iloc[0] for x in comp_data):\n",
    "                pval_map[i,j] = 1\n",
    "                cohend_by_cond[i,j] = 0\n",
    "            else:\n",
    "                pval_map[i,j] = stats.ttest_ind(data[cond[i*2]].iloc[:,9+j],data[cond[i*2+1]].iloc[:,9+j])[1]\n",
    "                cohend_by_cond[i,j] = (mean_by_cond[i*2,j]-mean_by_cond[i*2+1,j])/(data[cond[i*2]|cond[i*2+1]].iloc[:,9+j]).std()\n",
    "            sig_bin[i,j] = (pval_map[i,j] < sig_alpha)*np.sign(data[cond[i*2]].iloc[:,9+j].mean()-data[cond[i*2+1]].iloc[:,9+j].mean())    \n",
    "\n",
    "    pval_map[np.isinf(pval_map)] = 1\n",
    "    pval_map[np.isnan(pval_map)] = 1\n",
    "    cohend_by_cond[np.isinf(cohend_by_cond)] = 0        \n",
    "    cohend_by_cond[np.isnan(cohend_by_cond)] = 0     \n",
    "       \n",
    "    sig_field_count = np.zeros((8,1))\n",
    "    SI = np.zeros((8,1))\n",
    "    peaktime = np.zeros((4,1))\n",
    "    binary = np.zeros((4,95))\n",
    "    for i in range(4):\n",
    "        sig_field[i] = find_sig_field(np.nonzero(sig_bin[i,:])[0],cohend_by_cond[i,:])\n",
    "        if sig_field[i].any():\n",
    "            peaktime[i] = sig_field[i][np.argmax(np.abs(cohend_by_cond[i,sig_field[i]]))]\n",
    "            for j in sig_field[i]:\n",
    "                if cohend_by_cond[i,j] > 0:\n",
    "                    sig_field_count[2*i] += 1\n",
    "                    SI[2*i] += cohend_by_cond[i,j]\n",
    "                    binary[i,j] = 1\n",
    "                elif cohend_by_cond[i,j] < 0:\n",
    "                    sig_field_count[2*i+1] += 1        \n",
    "                    SI[2*i+1] += np.abs(cohend_by_cond[i,j])\n",
    "                    binary[i,j] = -1                    \n",
    "    \n",
    "    is_sig = np.zeros((4,1))\n",
    "    for i in range(4):\n",
    "        is_sig[i] = int((sig_field_count[2*i]!=0)|(sig_field_count[2*i+1]!=0))\n",
    "    \n",
    "    # Selectivity map that has Cohen's d values only in significant time bins.\n",
    "    cohend_sig = np.zeros((4,95))\n",
    "    for i in range(4):\n",
    "        for j in range(95):\n",
    "            if binary[i,j]!=0:\n",
    "                cohend_sig[i,j] = cohend_by_cond[i,j]    \n",
    "    \n",
    "    # Calculate correlations between selectivity map\n",
    "    #MV_corr = stats.pearsonr(cohend_sig[0,:],cohend_sig[1,:])[0]\n",
    "    #MA_corr = stats.pearsonr(cohend_sig[0,:],cohend_sig[2,:])[0]\n",
    "    #VA_corr = stats.pearsonr(cohend_sig[1,:],cohend_sig[2,:])[0]\n",
    "    \n",
    "    MV_corr = stats.kendalltau(cohend_sig[0,:],cohend_sig[1,:])[0]\n",
    "    MA_corr = stats.kendalltau(cohend_sig[0,:],cohend_sig[2,:])[0]\n",
    "    VA_corr = stats.kendalltau(cohend_sig[1,:],cohend_sig[2,:])[0]    \n",
    "    \n",
    "    # gaussian smoothing\n",
    "    if gauss_on:\n",
    "        for i in range(8):\n",
    "            mean_by_cond[i,:] = gaussian_filter(mean_by_cond[i,:],sigma=gauss_sigma)\n",
    "            sem_by_cond[i,:] = gaussian_filter(sem_by_cond[i,:],sigma=gauss_sigma)          \n",
    "    \n",
    "    y_max = np.round(mean_by_cond.max()+sem_by_cond.max())\n",
    "    y_min = np.round(mean_by_cond.min()-sem_by_cond.max())        \n",
    "        \n",
    "    #fig = plt.figure(figsize=(12,6))\n",
    "    fig = plt.figure(figsize=(4,12))\n",
    "    plt.suptitle(cell_run.strip('.csv'),fontsize=9)\n",
    "    gs = mpl.gridspec.GridSpec(4,1,height_ratios=[1,1,1,0.5],hspace=0.5)\n",
    "    #gs = mpl.gridspec.GridSpec(nrows=3,ncols=3,height_ratios=[4,1,2])\n",
    "    \n",
    "    for i in range(3):\n",
    "        inner = mpl.gridspec.GridSpecFromSubplotSpec(2,1,subplot_spec=gs[i],height_ratios=[3,1],\n",
    "                                                    hspace=0.1)\n",
    "        ax = plt.Subplot(fig,inner[0])\n",
    "        SDF_plot([i*2,i*2+1],ax,colorpalette,2,True)\n",
    "        ax.set_title(condition[i],fontsize=14)\n",
    "        fig.add_subplot(ax)\n",
    "                \n",
    "        ax2 = plt.Subplot(fig,inner[1])\n",
    "        selectivity_map(i,ax2) \n",
    "        fig.add_subplot(ax2)\n",
    "\n",
    "    ax3 = plt.subplot(gs[3,0])\n",
    "    ax3.axis('off')\n",
    "    ax3.text(0,0.8,f'M-V correlation: {MV_corr:.2f}',fontsize=14)\n",
    "    ax3.text(0,0.5,f'M-A correlation: {MA_corr:.2f}',fontsize=14)\n",
    "    ax3.text(0,0.2,f'V-A correlation: {VA_corr:.2f}',fontsize=14)\n",
    "    \n",
    "    fig.subplots_adjust(top=0.92)\n",
    "    fig.tight_layout()\n",
    "    \n",
    "    if os.path.exists(save_path+str(date.today())+'/'+region) is False:\n",
    "        os.makedirs(save_path+str(date.today())+'/'+region)    \n",
    "    os.chdir(save_path+str(date.today())+'/'+region)\n",
    "    #plt.savefig(cell_run.strip('.csv')+'.png',dpi=150,facecolor='white')\n",
    "    plt.savefig(cell_run.strip('.csv')+'.svg')\n",
    "    plt.close()\n",
    "    \n",
    "    # make csv output\n",
    "    cell_result = {'Key':cell_id,\n",
    "                   'RatID':rat_id,\n",
    "                   'Session':session_id,\n",
    "                   'Region':region,\n",
    "                   'MV corr': MV_corr,\n",
    "                   'MA corr': MA_corr,\n",
    "                   'VA corr': VA_corr}\n",
    "\n",
    "    result.append(cell_result)    "
   ]
  },
  {
   "cell_type": "markdown",
   "id": "3af82a4f",
   "metadata": {},
   "source": [
    "### Export CSV file"
   ]
  },
  {
   "cell_type": "code",
   "execution_count": 13,
   "id": "f313e153",
   "metadata": {},
   "outputs": [],
   "source": [
    "result = pd.DataFrame(result)\n",
    "\n",
    "save_path+str(date.today())+'/'+region\n",
    "os.chdir(save_path+str(date.today()))\n",
    "\n",
    "result.to_csv(str(date.today())+'_selectivity_corr.csv',index=False)"
   ]
  },
  {
   "cell_type": "code",
   "execution_count": 14,
   "id": "3f17ccda",
   "metadata": {},
   "outputs": [
    {
     "name": "stdout",
     "output_type": "stream",
     "text": [
      "END\n"
     ]
    }
   ],
   "source": [
    "print('END')"
   ]
  }
 ],
 "metadata": {
  "kernelspec": {
   "display_name": "Python 3 (ipykernel)",
   "language": "python",
   "name": "python3"
  },
  "language_info": {
   "codemirror_mode": {
    "name": "ipython",
    "version": 3
   },
   "file_extension": ".py",
   "mimetype": "text/x-python",
   "name": "python",
   "nbconvert_exporter": "python",
   "pygments_lexer": "ipython3",
   "version": "3.9.12"
  }
 },
 "nbformat": 4,
 "nbformat_minor": 5
}
