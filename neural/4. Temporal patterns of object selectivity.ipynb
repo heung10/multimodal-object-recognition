{
 "cells": [
  {
   "cell_type": "markdown",
   "id": "c2d4f156",
   "metadata": {},
   "source": [
    "# Temporal patterns of object selectivity"
   ]
  },
  {
   "cell_type": "code",
   "execution_count": 1,
   "id": "6ef091ff",
   "metadata": {},
   "outputs": [],
   "source": [
    "import os\n",
    "from pathlib import Path\n",
    "import numpy as np\n",
    "import pandas as pd\n",
    "\n",
    "from scipy import stats\n",
    "from scipy.ndimage import gaussian_filter\n",
    "\n",
    "import pingouin as pg\n",
    "\n",
    "import matplotlib as mpl\n",
    "import matplotlib.pyplot as plt  \n",
    "from matplotlib_venn import venn2, venn2_circles\n",
    "\n",
    "from datetime import date\n",
    "import time\n",
    "\n",
    "from joblib import Parallel, delayed\n",
    "\n",
    "import h5py"
   ]
  },
  {
   "cell_type": "code",
   "execution_count": 2,
   "id": "a2efd57f",
   "metadata": {},
   "outputs": [],
   "source": [
    "# no top and right spines in all plots\n",
    "mpl.rcParams['axes.spines.right'] = False\n",
    "mpl.rcParams['axes.spines.top'] = False"
   ]
  },
  {
   "cell_type": "code",
   "execution_count": 3,
   "id": "75d558bd",
   "metadata": {},
   "outputs": [],
   "source": [
    "mother_path = Path('D:/Multi-modal project/')"
   ]
  },
  {
   "cell_type": "markdown",
   "id": "c9d779bc",
   "metadata": {},
   "source": [
    "## Parameter setting"
   ]
  },
  {
   "cell_type": "code",
   "execution_count": 4,
   "id": "80036cec",
   "metadata": {},
   "outputs": [],
   "source": [
    "gauss_sigma = 2\n",
    "\n",
    "# colors for multimodal, vis-only, aud-only conditions\n",
    "color = ['mediumorchid','cornflowerblue','lightcoral','gray']\n",
    "color2 = ['cyan','magenta','gray']\n",
    "linestyle = ['-',':']\n",
    "\n",
    "today = str(date.today())"
   ]
  },
  {
   "cell_type": "markdown",
   "id": "74ff06dc",
   "metadata": {},
   "source": [
    "## Data preparation"
   ]
  },
  {
   "cell_type": "code",
   "execution_count": 5,
   "id": "e42dba14",
   "metadata": {},
   "outputs": [],
   "source": [
    "save_path = mother_path /'analysis'/'result'/'4. Temporal patterns of object selectivity'/today\n",
    "\n",
    "cell_path = mother_path/'analysis'/'result'/'zFR export'/'13-Apr-2022 (5 trials)'\n",
    "cell_list = os.listdir(cell_path)\n",
    "\n",
    "# load hdf5 files containing shuffled results\n",
    "data_path = mother_path /'analysis'/'result'/'3. ANOVA'/'2023-05-30'\n",
    "data2_path = mother_path /'analysis'/'result'/'3.1 Multiple linear regression'/'2023-06-07'\n",
    "f = h5py.File(data_path/'2023-05-30_ANOVA_result.hdf5','r')\n",
    "f2 = h5py.File(data2_path/'2023-06-07_multiple_regression_result.hdf5','r')"
   ]
  },
  {
   "cell_type": "code",
   "execution_count": 6,
   "id": "f0d3e2ba",
   "metadata": {},
   "outputs": [],
   "source": [
    "def h5_to_df(f):\n",
    "    keys = list(f.keys())\n",
    "    attributes = {}\n",
    "    \n",
    "    for key in keys:\n",
    "        attributes[key] = dict(f[key].attrs.items())\n",
    "    \n",
    "    df = pd.DataFrame.from_dict(attributes, orient='index')\n",
    "    df.index.name = 'key'\n",
    "    df = df.reset_index()\n",
    "    \n",
    "    return df"
   ]
  },
  {
   "cell_type": "code",
   "execution_count": 11,
   "id": "31148c69",
   "metadata": {},
   "outputs": [],
   "source": [
    "df = h5_to_df(f2)"
   ]
  },
  {
   "cell_type": "markdown",
   "id": "a9fc4622",
   "metadata": {},
   "source": [
    "## Temporal patterns of object selectivity"
   ]
  },
  {
   "cell_type": "code",
   "execution_count": 129,
   "id": "e89a8784",
   "metadata": {},
   "outputs": [],
   "source": [
    "sig_bin_all = np.zeros((0,95))\n",
    "peak_bin_all = []\n",
    "\n",
    "for key in df['key']:    \n",
    "    \n",
    "    this_region = df.loc[df['key']==key,'Region'].values[0]\n",
    "    this_response = df.loc[df['key']==key,'Response cell'].values[0]\n",
    "    \n",
    "    if this_region!='PER' or this_response==1:\n",
    "        continue\n",
    "            \n",
    "    peak_bin = np.argmax(f[f'{key}/anova_eta'])    \n",
    "    if peak_bin > 89:\n",
    "        continue\n",
    "    peak_bin_all.append(peak_bin) \n",
    "    \n",
    "    sig_bin = np.zeros((1,95))\n",
    "    sig_bin[0,f[f'{key}/object_bin']] = 1\n",
    "    sig_bin_all = np.append(sig_bin_all, [sig_bin[0]], axis=0)   \n",
    "    \n",
    "bin_sorted = sig_bin_all[np.argsort(peak_bin_all),:]"
   ]
  },
  {
   "cell_type": "code",
   "execution_count": 149,
   "id": "7fa961c8",
   "metadata": {},
   "outputs": [
    {
     "data": {
      "text/plain": [
       "Text(0, 0.5, 'Cell #')"
      ]
     },
     "execution_count": 149,
     "metadata": {},
     "output_type": "execute_result"
    },
    {
     "data": {
      "image/png": "[encoded data removed]",
      "text/plain": [
       "<Figure size 288x432 with 1 Axes>"
      ]
     },
     "metadata": {
      "needs_background": "light"
     },
     "output_type": "display_data"
    }
   ],
   "source": [
    "fig,ax = plt.subplots(figsize=(4,6))\n",
    "\n",
    "ax.pcolor(bin_sorted,cmap='binary')\n",
    "ax.set_xticks([0,40,95])\n",
    "ax.set_xticklabels([0,400,950])\n",
    "ax.set_xlabel('Time (ms)',fontsize=13)\n",
    "ax.set_ylabel('Cell #',fontsize=13)"
   ]
  },
  {
   "cell_type": "code",
   "execution_count": 132,
   "id": "303644ff",
   "metadata": {},
   "outputs": [
    {
     "data": {
      "text/plain": [
       "Text(0.5, 1.0, 'CDF of peak object-selectivity')"
      ]
     },
     "execution_count": 132,
     "metadata": {},
     "output_type": "execute_result"
    },
    {
     "data": {
      "image/png": "[encoded data removed]",
      "text/plain": [
       "<Figure size 360x288 with 1 Axes>"
      ]
     },
     "metadata": {
      "needs_background": "light"
     },
     "output_type": "display_data"
    }
   ],
   "source": [
    "fig,ax = plt.subplots(figsize=(5,4))\n",
    "\n",
    "ax.hist(np.array(peak_bin_all)*10, range=(0,900), bins=50, cumulative=1, histtype='step', density=True);\n",
    "ax.set_ylim([0,1])\n",
    "ax.set_xticks([0,400,900])\n",
    "ax.set_xlim([0,900])\n",
    "ax.set_ylabel('Normalized proportion',fontsize=12)\n",
    "ax.set_xlabel('Time (ms)',fontsize=12)\n",
    "ax.set_title('CDF of peak object-selectivity',fontsize=14)"
   ]
  },
  {
   "cell_type": "code",
   "execution_count": 150,
   "id": "5de62c9e",
   "metadata": {},
   "outputs": [
    {
     "name": "stdout",
     "output_type": "stream",
     "text": [
      "========================================================\n",
      "K-S test with uniform distribution\n",
      "KS statistic: 0.09665770265078755\n",
      "P-value: 0.1447346843466385\n",
      "========================================================\n"
     ]
    }
   ],
   "source": [
    "s,p = stats.kstest(np.array(peak_bin_all)*10, stats.uniform(loc=0, scale=950).cdf)\n",
    "print('========================================================')\n",
    "print(\"K-S test with uniform distribution\")\n",
    "print(f\"KS statistic: {s}\")\n",
    "print(f\"P-value: {p}\")\n",
    "print('========================================================')"
   ]
  },
  {
   "cell_type": "code",
   "execution_count": null,
   "id": "16b40c3e",
   "metadata": {},
   "outputs": [],
   "source": [
    "fig,ax = plt.subplots(figsize=(5,4))\n",
    "\n",
    "ax.scatter()"
   ]
  },
  {
   "cell_type": "code",
   "execution_count": null,
   "id": "bf443ae8",
   "metadata": {},
   "outputs": [],
   "source": []
  }
 ],
 "metadata": {
  "kernelspec": {
   "display_name": "Python 3 (ipykernel)",
   "language": "python",
   "name": "python3"
  },
  "language_info": {
   "codemirror_mode": {
    "name": "ipython",
    "version": 3
   },
   "file_extension": ".py",
   "mimetype": "text/x-python",
   "name": "python",
   "nbconvert_exporter": "python",
   "pygments_lexer": "ipython3",
   "version": "3.9.12"
  }
 },
 "nbformat": 4,
 "nbformat_minor": 5
}
