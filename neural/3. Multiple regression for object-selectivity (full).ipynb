{
 "cells": [
  {
   "cell_type": "markdown",
   "id": "c2d4f156",
   "metadata": {},
   "source": [
    "## Multiple regression for object-selectivity (full)\n",
    "This code runs a full multiple linear regression using 6 regressors (i.e., Boy, Egg, 5kHz, 10kHz and interactions) to all 8 different stimulus conditions (i.e., BOY-M, BOY-V, BOY-A, EGG-M, EGG-V, EGG-A, Control-L, Control-R) in each neuron.\n",
    "\n",
    "To accomodate different number of trials in each stimulus condition, subsampling of trials was used to build a regression model (5 trials for each condition, 1000 repetition).\n",
    "\n",
    "The purpose of this analysis is to define object-selectivity using beta coefficients of each regressor and also detach choice-response coding from object coding.\n"
   ]
  },
  {
   "cell_type": "code",
   "execution_count": 6,
   "id": "6ef091ff",
   "metadata": {},
   "outputs": [],
   "source": [
    "import os\n",
    "import numpy as np\n",
    "import pandas as pd\n",
    "\n",
    "from scipy import stats\n",
    "from scipy.ndimage import gaussian_filter\n",
    "\n",
    "from sklearn.linear_model import LinearRegression\n",
    "\n",
    "import matplotlib as mpl\n",
    "import matplotlib.pyplot as plt  \n",
    "import seaborn as sns\n",
    "\n",
    "from datetime import date\n",
    "import time\n",
    "\n",
    "import random"
   ]
  },
  {
   "cell_type": "code",
   "execution_count": 7,
   "id": "a2efd57f",
   "metadata": {},
   "outputs": [],
   "source": [
    "# no top and right spines in all plots\n",
    "mpl.rcParams['axes.spines.right'] = False\n",
    "mpl.rcParams['axes.spines.top'] = False"
   ]
  },
  {
   "cell_type": "code",
   "execution_count": 8,
   "id": "75d558bd",
   "metadata": {},
   "outputs": [],
   "source": [
    "mother_path = 'D:/Multi-modal project/'"
   ]
  },
  {
   "cell_type": "markdown",
   "id": "c9d779bc",
   "metadata": {},
   "source": [
    "### Parameter setting"
   ]
  },
  {
   "cell_type": "code",
   "execution_count": 9,
   "id": "80036cec",
   "metadata": {},
   "outputs": [],
   "source": [
    "num_shuffle = 1000\n",
    "\n",
    "gauss_sigma = 2\n",
    "\n",
    "# colors for multimodal, vis-only, aud-only conditions\n",
    "color = ['mediumorchid','cornflowerblue','lightcoral','gray']\n",
    "color2 = ['cyan','magenta','brown']\n",
    "linestyle = ['-',':']\n",
    "\n",
    "today = str(date.today())"
   ]
  },
  {
   "cell_type": "markdown",
   "id": "74ff06dc",
   "metadata": {},
   "source": [
    "### Data preparation"
   ]
  },
  {
   "cell_type": "code",
   "execution_count": 10,
   "id": "e42dba14",
   "metadata": {},
   "outputs": [],
   "source": [
    "unit_summary = pd.read_table(mother_path+'/analysis/result'+\n",
    "                             '/1. Cluster summary/clusterSummary.csv',sep=',')\n",
    "save_path = mother_path+'analysis/result/3. Multiple regression for object-selectivity (full)/'\n",
    "data_path = mother_path+'analysis/result/zFR export/13-Apr-2022 (5 trials)/'\n",
    "os.chdir(data_path)"
   ]
  },
  {
   "cell_type": "code",
   "execution_count": 11,
   "id": "522e8ee6",
   "metadata": {},
   "outputs": [],
   "source": [
    "# empty list for result csv file\n",
    "result=[]"
   ]
  },
  {
   "cell_type": "code",
   "execution_count": 12,
   "id": "e9bd828a",
   "metadata": {},
   "outputs": [],
   "source": [
    "cell_list = os.listdir(os.curdir)"
   ]
  },
  {
   "cell_type": "markdown",
   "id": "e0fbe3cd",
   "metadata": {},
   "source": [
    "# Data analysis"
   ]
  },
  {
   "cell_type": "code",
   "execution_count": 13,
   "id": "56f1f215",
   "metadata": {},
   "outputs": [],
   "source": [
    "beta_visual_result = np.empty((0,96))\n",
    "beta_auditory_result = np.empty((0,96))\n",
    "beta_interaction_result = np.empty((0,96))"
   ]
  },
  {
   "cell_type": "code",
   "execution_count": 146,
   "id": "2931bed1",
   "metadata": {},
   "outputs": [],
   "source": [
    "def plot_SDF_beta(df,linewidth,smooth,save,save_format):\n",
    "    cond = [(df.Type=='Multimodal')&(df.RWD_Loc==boy_goal),\n",
    "            (df.Type=='Multimodal')&(df.RWD_Loc==egg_goal),\n",
    "            (df.Type=='Visual')&(df.RWD_Loc==boy_goal),\n",
    "            (df.Type=='Visual')&(df.RWD_Loc==egg_goal),\n",
    "            (df.Type=='Auditory')&(df.RWD_Loc==boy_goal),\n",
    "            (df.Type=='Auditory')&(df.RWD_Loc==egg_goal),\n",
    "            (df.Type=='Elemental')&(df.RWD_Loc==boy_goal),\n",
    "            (df.Type=='Elemental')&(df.RWD_Loc==egg_goal)]\n",
    "    \n",
    "    fr_mean = np.zeros((len(cond),95))\n",
    "    fr_sem = np.zeros((len(cond),95))\n",
    "    for i in range(len(cond)):\n",
    "        fr_mean[i,:] = df[cond[i]].iloc[:,fr_id:fr_id+95].to_numpy().mean(axis=0)\n",
    "        fr_sem[i,:] = stats.sem(df[cond[i]].iloc[:,fr_id:fr_id+95].to_numpy())\n",
    "    \n",
    "    if smooth:\n",
    "        for i in range(len(cond)):\n",
    "            fr_mean[i,:] = gaussian_filter(fr_mean[i,:],sigma=gauss_sigma)\n",
    "            fr_sem[i,:] = gaussian_filter(fr_sem[i,:],sigma=gauss_sigma)\n",
    "            \n",
    "    y_max = np.ceil(np.max(fr_mean+fr_sem))\n",
    "    y_min = np.ceil(np.abs(np.min(fr_mean-fr_sem)))*-1\n",
    "    \n",
    "    fig,ax = plt.subplots(3,3,figsize=(15,10))\n",
    "    plt.suptitle(cell_name.strip('.csv'),fontsize=15);\n",
    "    x = np.arange(95)*10\n",
    "    \n",
    "    for i in range(len(cond)):\n",
    "        if i%2==0:\n",
    "            ls = linestyle[0]\n",
    "        else:\n",
    "            ls = linestyle[1]            \n",
    "        ax[0,0].plot(x,fr_mean[i,:],color=color[int(np.floor(i/2))],linewidth=linewidth,linestyle=ls)\n",
    "        ax[0,0].fill_between(x,fr_mean[i,:]-fr_sem[i,:],fr_mean[i,:]+fr_sem[i,:],color=color[int(np.floor(i/2))],alpha=0.2)\n",
    "        \n",
    "        ax[i%2+1,0].plot(x,fr_mean[i,:],color=color[int(np.floor(i/2))],linewidth=linewidth,linestyle=ls)\n",
    "        ax[i%2+1,0].fill_between(x,fr_mean[i,:]-fr_sem[i,:],fr_mean[i,:]+fr_sem[i,:],color=color[int(np.floor(i/2))],alpha=0.2)\n",
    "        \n",
    "        if i<6:\n",
    "            ax[int(np.floor(i/2)),1].plot(x,fr_mean[i,:],color=color[int(np.floor(i/2))],linewidth=linewidth,linestyle=ls)\n",
    "            ax[int(np.floor(i/2)),1].fill_between(x,fr_mean[i,:]-fr_sem[i,:],fr_mean[i,:]+fr_sem[i,:],color=color[int(np.floor(i/2))],alpha=0.2)\n",
    "            \n",
    "    for i in range(6):\n",
    "        ax[i%3,int(np.floor(i/3))].set_yticks(np.arange(y_min,y_max+0.1,1))\n",
    "        ax[i%3,int(np.floor(i/3))].set_ylabel('z-scored FR',fontsize=13)\n",
    "        ax[i%3,int(np.floor(i/3))].set_xlabel('Time (ms)',fontsize=13)  \n",
    "        ax[i%3,int(np.floor(i/3))].set_xticks([0,400,950])\n",
    "        ax[i%3,int(np.floor(i/3))].set_xlim([0,950])\n",
    "    \n",
    "    #if smooth:\n",
    "        for i in range(6):\n",
    "            beta_mean[i,:] = gaussian_filter(beta_mean[i,:],sigma=gauss_sigma)\n",
    "            beta_std[i,:] = gaussian_filter(beta_std[i,:],sigma=gauss_sigma)\n",
    "    \n",
    "    t2 = ['Visual term','Auditory term','Interaction term']\n",
    "    c2 = ['blue','red','green']\n",
    "    for i in range(3):\n",
    "        ax[i,2].plot(x,beta_mean[i,:],color=c2[i],linestyle='-')\n",
    "        ax[i,2].fill_between(x,beta_mean[i,:]-beta_std[i,:],beta_mean[i,:]+beta_std[i,:],color=c2[i],alpha=0.1)\n",
    "        \n",
    "        ax[i,2].plot(x,beta_mean[i+3,:],color=c2[i],linestyle=':')\n",
    "        ax[i,2].fill_between(x,beta_mean[i+3,:]-beta_std[i+3,:],beta_mean[i+3,:]+beta_std[i+3,:],color=c2[i],alpha=0.1)\n",
    "        \n",
    "        ax[i,2].set_title(t2[i],fontsize=13)\n",
    "        ax[i,2].set_yticks(np.arange(-1,1.1,0.5))    \n",
    "        ax[i,2].set_ylabel('Beta coefficient',fontsize=13)\n",
    "        ax[i,2].set_xlabel('Time (ms)',fontsize=13)    \n",
    "        ax[i,2].set_xticks([0,400,950])\n",
    "        ax[i,2].set_xlim([0,950])\n",
    "\n",
    "    plt.tight_layout()\n",
    "    \n",
    "    if save:          \n",
    "        fig_path = save_path+today+'/'+region+'/'\n",
    "        if os.path.exists(fig_path) is False:\n",
    "            os.makedirs(fig_path)    \n",
    "        if save_format=='png':\n",
    "            plt.savefig(fig_path+cell_name.strip('.csv')+'.png',dpi=100,facecolor='white')\n",
    "        elif save_format=='svg':\n",
    "            plt.savefig(fig_path+cell_name.strip('.csv')+'.svg')\n",
    "        plt.close()"
   ]
  },
  {
   "cell_type": "code",
   "execution_count": 147,
   "id": "7a800433",
   "metadata": {},
   "outputs": [
    {
     "name": "stdout",
     "output_type": "stream",
     "text": [
      "0003-600-1-1-Crossmodal-TeV-deep-(-7.32 mm)-TT4.1 ////// 1/888 completed  //////  2 min 21.33 sec\n"
     ]
    },
    {
     "ename": "KeyboardInterrupt",
     "evalue": "",
     "output_type": "error",
     "traceback": [
      "\u001b[1;31m---------------------------------------------------------------------------\u001b[0m",
      "\u001b[1;31mKeyboardInterrupt\u001b[0m                         Traceback (most recent call last)",
      "File \u001b[1;32m<timed exec>:42\u001b[0m, in \u001b[0;36m<module>\u001b[1;34m\u001b[0m\n",
      "File \u001b[1;32m~\\anaconda3\\lib\\site-packages\\sklearn\\linear_model\\_base.py:669\u001b[0m, in \u001b[0;36mLinearRegression.fit\u001b[1;34m(self, X, y, sample_weight)\u001b[0m\n\u001b[0;32m    666\u001b[0m \u001b[38;5;28;01mif\u001b[39;00m sample_weight \u001b[38;5;129;01mis\u001b[39;00m \u001b[38;5;129;01mnot\u001b[39;00m \u001b[38;5;28;01mNone\u001b[39;00m:\n\u001b[0;32m    667\u001b[0m     sample_weight \u001b[38;5;241m=\u001b[39m _check_sample_weight(sample_weight, X, dtype\u001b[38;5;241m=\u001b[39mX\u001b[38;5;241m.\u001b[39mdtype)\n\u001b[1;32m--> 669\u001b[0m X, y, X_offset, y_offset, X_scale \u001b[38;5;241m=\u001b[39m \u001b[38;5;28;43mself\u001b[39;49m\u001b[38;5;241;43m.\u001b[39;49m\u001b[43m_preprocess_data\u001b[49m\u001b[43m(\u001b[49m\n\u001b[0;32m    670\u001b[0m \u001b[43m    \u001b[49m\u001b[43mX\u001b[49m\u001b[43m,\u001b[49m\n\u001b[0;32m    671\u001b[0m \u001b[43m    \u001b[49m\u001b[43my\u001b[49m\u001b[43m,\u001b[49m\n\u001b[0;32m    672\u001b[0m \u001b[43m    \u001b[49m\u001b[43mfit_intercept\u001b[49m\u001b[38;5;241;43m=\u001b[39;49m\u001b[38;5;28;43mself\u001b[39;49m\u001b[38;5;241;43m.\u001b[39;49m\u001b[43mfit_intercept\u001b[49m\u001b[43m,\u001b[49m\n\u001b[0;32m    673\u001b[0m \u001b[43m    \u001b[49m\u001b[43mnormalize\u001b[49m\u001b[38;5;241;43m=\u001b[39;49m\u001b[43m_normalize\u001b[49m\u001b[43m,\u001b[49m\n\u001b[0;32m    674\u001b[0m \u001b[43m    \u001b[49m\u001b[43mcopy\u001b[49m\u001b[38;5;241;43m=\u001b[39;49m\u001b[38;5;28;43mself\u001b[39;49m\u001b[38;5;241;43m.\u001b[39;49m\u001b[43mcopy_X\u001b[49m\u001b[43m,\u001b[49m\n\u001b[0;32m    675\u001b[0m \u001b[43m    \u001b[49m\u001b[43msample_weight\u001b[49m\u001b[38;5;241;43m=\u001b[39;49m\u001b[43msample_weight\u001b[49m\u001b[43m,\u001b[49m\n\u001b[0;32m    676\u001b[0m \u001b[43m    \u001b[49m\u001b[43mreturn_mean\u001b[49m\u001b[38;5;241;43m=\u001b[39;49m\u001b[38;5;28;43;01mTrue\u001b[39;49;00m\u001b[43m,\u001b[49m\n\u001b[0;32m    677\u001b[0m \u001b[43m\u001b[49m\u001b[43m)\u001b[49m\n\u001b[0;32m    679\u001b[0m \u001b[38;5;28;01mif\u001b[39;00m sample_weight \u001b[38;5;129;01mis\u001b[39;00m \u001b[38;5;129;01mnot\u001b[39;00m \u001b[38;5;28;01mNone\u001b[39;00m:\n\u001b[0;32m    680\u001b[0m     \u001b[38;5;66;03m# Sample weight can be implemented via a simple rescaling.\u001b[39;00m\n\u001b[0;32m    681\u001b[0m     X, y \u001b[38;5;241m=\u001b[39m _rescale_data(X, y, sample_weight)\n",
      "File \u001b[1;32m~\\anaconda3\\lib\\site-packages\\sklearn\\linear_model\\_base.py:247\u001b[0m, in \u001b[0;36m_preprocess_data\u001b[1;34m(X, y, fit_intercept, normalize, copy, sample_weight, return_mean, check_input)\u001b[0m\n\u001b[0;32m    244\u001b[0m     sample_weight \u001b[38;5;241m=\u001b[39m np\u001b[38;5;241m.\u001b[39masarray(sample_weight)\n\u001b[0;32m    246\u001b[0m \u001b[38;5;28;01mif\u001b[39;00m check_input:\n\u001b[1;32m--> 247\u001b[0m     X \u001b[38;5;241m=\u001b[39m \u001b[43mcheck_array\u001b[49m\u001b[43m(\u001b[49m\u001b[43mX\u001b[49m\u001b[43m,\u001b[49m\u001b[43m \u001b[49m\u001b[43mcopy\u001b[49m\u001b[38;5;241;43m=\u001b[39;49m\u001b[43mcopy\u001b[49m\u001b[43m,\u001b[49m\u001b[43m \u001b[49m\u001b[43maccept_sparse\u001b[49m\u001b[38;5;241;43m=\u001b[39;49m\u001b[43m[\u001b[49m\u001b[38;5;124;43m\"\u001b[39;49m\u001b[38;5;124;43mcsr\u001b[39;49m\u001b[38;5;124;43m\"\u001b[39;49m\u001b[43m,\u001b[49m\u001b[43m \u001b[49m\u001b[38;5;124;43m\"\u001b[39;49m\u001b[38;5;124;43mcsc\u001b[39;49m\u001b[38;5;124;43m\"\u001b[39;49m\u001b[43m]\u001b[49m\u001b[43m,\u001b[49m\u001b[43m \u001b[49m\u001b[43mdtype\u001b[49m\u001b[38;5;241;43m=\u001b[39;49m\u001b[43mFLOAT_DTYPES\u001b[49m\u001b[43m)\u001b[49m\n\u001b[0;32m    248\u001b[0m \u001b[38;5;28;01melif\u001b[39;00m copy:\n\u001b[0;32m    249\u001b[0m     \u001b[38;5;28;01mif\u001b[39;00m sp\u001b[38;5;241m.\u001b[39missparse(X):\n",
      "File \u001b[1;32m~\\anaconda3\\lib\\site-packages\\sklearn\\utils\\validation.py:746\u001b[0m, in \u001b[0;36mcheck_array\u001b[1;34m(array, accept_sparse, accept_large_sparse, dtype, order, copy, force_all_finite, ensure_2d, allow_nd, ensure_min_samples, ensure_min_features, estimator)\u001b[0m\n\u001b[0;32m    744\u001b[0m         array \u001b[38;5;241m=\u001b[39m array\u001b[38;5;241m.\u001b[39mastype(dtype, casting\u001b[38;5;241m=\u001b[39m\u001b[38;5;124m\"\u001b[39m\u001b[38;5;124munsafe\u001b[39m\u001b[38;5;124m\"\u001b[39m, copy\u001b[38;5;241m=\u001b[39m\u001b[38;5;28;01mFalse\u001b[39;00m)\n\u001b[0;32m    745\u001b[0m     \u001b[38;5;28;01melse\u001b[39;00m:\n\u001b[1;32m--> 746\u001b[0m         array \u001b[38;5;241m=\u001b[39m \u001b[43mnp\u001b[49m\u001b[38;5;241;43m.\u001b[39;49m\u001b[43masarray\u001b[49m\u001b[43m(\u001b[49m\u001b[43marray\u001b[49m\u001b[43m,\u001b[49m\u001b[43m \u001b[49m\u001b[43morder\u001b[49m\u001b[38;5;241;43m=\u001b[39;49m\u001b[43morder\u001b[49m\u001b[43m,\u001b[49m\u001b[43m \u001b[49m\u001b[43mdtype\u001b[49m\u001b[38;5;241;43m=\u001b[39;49m\u001b[43mdtype\u001b[49m\u001b[43m)\u001b[49m\n\u001b[0;32m    747\u001b[0m \u001b[38;5;28;01mexcept\u001b[39;00m ComplexWarning \u001b[38;5;28;01mas\u001b[39;00m complex_warning:\n\u001b[0;32m    748\u001b[0m     \u001b[38;5;28;01mraise\u001b[39;00m \u001b[38;5;167;01mValueError\u001b[39;00m(\n\u001b[0;32m    749\u001b[0m         \u001b[38;5;124m\"\u001b[39m\u001b[38;5;124mComplex data not supported\u001b[39m\u001b[38;5;130;01m\\n\u001b[39;00m\u001b[38;5;132;01m{}\u001b[39;00m\u001b[38;5;130;01m\\n\u001b[39;00m\u001b[38;5;124m\"\u001b[39m\u001b[38;5;241m.\u001b[39mformat(array)\n\u001b[0;32m    750\u001b[0m     ) \u001b[38;5;28;01mfrom\u001b[39;00m \u001b[38;5;21;01mcomplex_warning\u001b[39;00m\n",
      "\u001b[1;31mKeyboardInterrupt\u001b[0m: "
     ]
    }
   ],
   "source": [
    "%%time\n",
    "for cell_run,cell_name in enumerate(cell_list):\n",
    "    loop_start = time.time()\n",
    "    # get information about the cell\n",
    "    cell_info = cell_name.split('-')\n",
    "    cell_id = int(cell_info[0])\n",
    "    rat_id = cell_info[1]\n",
    "    session_id = cell_info[2]\n",
    "    region = cell_info[5]    \n",
    "    \n",
    "    df = pd.read_csv(data_path+cell_name)\n",
    "    df.drop(df[df.Correctness==0].index,inplace=True)\n",
    "    df.reset_index(inplace=True,drop=True)\n",
    "    df[['Visual','Auditory']] = df[['Visual','Auditory']].fillna('no')\n",
    "    \n",
    "    boy_goal = df.loc[df['Visual']=='Boy','RWD_Loc'].values[0]\n",
    "    boy_aud = df.loc[df['RWD_Loc']==boy_goal,'Auditory'].values[0]\n",
    "    \n",
    "    egg_goal = df.loc[df['Visual']=='Egg','RWD_Loc'].values[0]\n",
    "    egg_aud = df.loc[df['RWD_Loc']==egg_goal,'Auditory'].values[0]  \n",
    "    \n",
    "    df['Boy-V'] = (df['Visual'] == 'Boy').astype(int)\n",
    "    df['Boy-A'] = (df['Auditory'] == boy_aud).astype(int)\n",
    "    df['Egg-V'] = (df['Visual'] == 'Egg').astype(int)\n",
    "    df['Egg-A'] = (df['Auditory'] == egg_aud).astype(int)\n",
    "    \n",
    "    df['Boy-int'] = df['Boy-V']*df['Boy-A']\n",
    "    df['Egg-int'] = df['Egg-V']*df['Egg-A']\n",
    "    \n",
    "    # subsampling\n",
    "    beta_coef = np.zeros((num_shuffle,6,95))\n",
    "    for i in range(num_shuffle):\n",
    "        # subsample 5 trials from each stimulus condition\n",
    "        gb = df.groupby(['Visual', 'Auditory']).apply(lambda x: x.iloc[np.random.choice(len(x), size=5, replace=True)])\n",
    "        subsample = gb.index.get_level_values(2)\n",
    "    \n",
    "        # regressors for subsample trials\n",
    "        x = df.loc[subsample,['Boy-V','Boy-A','Boy-int','Egg-V','Egg-A','Egg-int']]    \n",
    "        fr_id = df.columns.get_loc('Var10')  # get the index of the first firing rate column\n",
    "        for t in range(95):\n",
    "            y = df.iloc[subsample,fr_id+t]    # firing rate data for subsampled trials\n",
    "            lr = LinearRegression()\n",
    "            lr.fit(x,y)\n",
    "            beta_coef[i,:,t] = lr.coef_    \n",
    "    \n",
    "    beta_mean = np.mean(beta_coef,axis=0)\n",
    "    beta_std = np.std(beta_coef,axis=0)    \n",
    "    \n",
    "    plot_SDF_beta(df,2,1,1,'png')\n",
    "            \n",
    "    loop_end = time.time()\n",
    "    loop_time = divmod(loop_end-loop_start,60)\n",
    "    print(cell_name.strip('.csv'), f'////// {cell_run+1}/{len(cell_list)} completed  //////  {int(loop_time[0])} min {loop_time[1]:.2f} sec')"
   ]
  },
  {
   "cell_type": "markdown",
   "id": "3af82a4f",
   "metadata": {},
   "source": [
    "### Export CSV file"
   ]
  },
  {
   "cell_type": "code",
   "execution_count": 16,
   "id": "3f17ccda",
   "metadata": {},
   "outputs": [
    {
     "name": "stdout",
     "output_type": "stream",
     "text": [
      "END\n"
     ]
    }
   ],
   "source": [
    "print('END')"
   ]
  }
 ],
 "metadata": {
  "kernelspec": {
   "display_name": "Python 3 (ipykernel)",
   "language": "python",
   "name": "python3"
  },
  "language_info": {
   "codemirror_mode": {
    "name": "ipython",
    "version": 3
   },
   "file_extension": ".py",
   "mimetype": "text/x-python",
   "name": "python",
   "nbconvert_exporter": "python",
   "pygments_lexer": "ipython3",
   "version": "3.9.12"
  }
 },
 "nbformat": 4,
 "nbformat_minor": 5
}
