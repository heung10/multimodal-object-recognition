{
 "cells": [
  {
   "cell_type": "markdown",
   "id": "c4484b37",
   "metadata": {},
   "source": [
    "# I want these cells"
   ]
  },
  {
   "cell_type": "code",
   "execution_count": 1,
   "id": "4d75ddb3",
   "metadata": {},
   "outputs": [],
   "source": [
    "import os\n",
    "import numpy as np\n",
    "import pandas as pd\n",
    "from glob import glob\n",
    "import shutil"
   ]
  },
  {
   "cell_type": "code",
   "execution_count": 2,
   "id": "882bbb13",
   "metadata": {},
   "outputs": [],
   "source": [
    "mother_root = 'D:/Multi-modal project/analysis/result/'"
   ]
  },
  {
   "cell_type": "code",
   "execution_count": 7,
   "id": "cfa57077",
   "metadata": {},
   "outputs": [],
   "source": [
    "# directory where individual cell images are\n",
    "cell_path = mother_root+'3. Item-selectivity/2023-01-09/PER'"
   ]
  },
  {
   "cell_type": "code",
   "execution_count": 8,
   "id": "f33ab081",
   "metadata": {},
   "outputs": [],
   "source": [
    "# directory where filtered sheets (or images) will be collected\n",
    "save_path = 'C:/Users/Lim HY/Desktop/Cell I wanted/'\n",
    "if os.path.exists(save_path) is False:\n",
    "    os.makedirs(save_path)\n",
    "else:    # delete the folder and remake\n",
    "    shutil.rmtree(save_path)\n",
    "    os.makedirs(save_path)"
   ]
  },
  {
   "cell_type": "code",
   "execution_count": 9,
   "id": "8a0cb45a",
   "metadata": {},
   "outputs": [],
   "source": [
    "if len(os.listdir(save_path))!=0:\n",
    "    os.remove(save_path)"
   ]
  },
  {
   "cell_type": "markdown",
   "id": "9f901a35",
   "metadata": {},
   "source": [
    "Copy cells' indices you want and then run the cells below"
   ]
  },
  {
   "cell_type": "code",
   "execution_count": 12,
   "id": "d64a8efd",
   "metadata": {},
   "outputs": [],
   "source": [
    "cell_list = pd.read_clipboard(header=None)\n",
    "cell_list.columns = ['cell_index']"
   ]
  },
  {
   "cell_type": "code",
   "execution_count": 13,
   "id": "ee460e4b",
   "metadata": {},
   "outputs": [
    {
     "name": "stdout",
     "output_type": "stream",
     "text": [
      "Completed!\n"
     ]
    }
   ],
   "source": [
    "os.chdir(cell_path)\n",
    "cell_all_list = os.listdir(os.curdir)\n",
    "for cell_run in cell_list.cell_index:\n",
    "    if cell_run < 10:\n",
    "        cell_num = '000'+str(cell_run)\n",
    "    elif cell_run < 100:\n",
    "        cell_num = '00'+str(cell_run)\n",
    "    elif cell_run < 1000:\n",
    "        cell_num = '0'+str(cell_run)\n",
    "    else:\n",
    "        cell_num = str(cell_run)\n",
    "        \n",
    "    cell_full_name = glob(cell_num+'*')\n",
    "    shutil.copyfile(cell_full_name[0],save_path+cell_full_name[0])\n",
    "    \n",
    "print('Completed!')"
   ]
  },
  {
   "cell_type": "code",
   "execution_count": null,
   "id": "70b9278d",
   "metadata": {},
   "outputs": [],
   "source": []
  }
 ],
 "metadata": {
  "kernelspec": {
   "display_name": "Python 3 (ipykernel)",
   "language": "python",
   "name": "python3"
  },
  "language_info": {
   "codemirror_mode": {
    "name": "ipython",
    "version": 3
   },
   "file_extension": ".py",
   "mimetype": "text/x-python",
   "name": "python",
   "nbconvert_exporter": "python",
   "pygments_lexer": "ipython3",
   "version": "3.9.12"
  }
 },
 "nbformat": 4,
 "nbformat_minor": 5
}
