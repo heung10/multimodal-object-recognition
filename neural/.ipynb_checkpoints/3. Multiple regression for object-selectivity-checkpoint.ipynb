{
 "cells": [
  {
   "cell_type": "code",
   "execution_count": 88,
   "id": "6ef091ff",
   "metadata": {},
   "outputs": [],
   "source": [
    "import os\n",
    "import numpy as np\n",
    "import pandas as pd\n",
    "\n",
    "from scipy import stats\n",
    "from scipy.ndimage import gaussian_filter\n",
    "from scipy.signal import find_peaks\n",
    "\n",
    "from sklearn.linear_model import LinearRegression\n",
    "\n",
    "import matplotlib as mpl\n",
    "import matplotlib.pyplot as plt  \n",
    "import seaborn as sns\n",
    "\n",
    "from datetime import date\n",
    "import time\n",
    "\n",
    "import random"
   ]
  },
  {
   "cell_type": "code",
   "execution_count": 2,
   "id": "a2efd57f",
   "metadata": {},
   "outputs": [],
   "source": [
    "# no top and right spines in all plots\n",
    "mpl.rcParams['axes.spines.right'] = False\n",
    "mpl.rcParams['axes.spines.top'] = False"
   ]
  },
  {
   "cell_type": "code",
   "execution_count": 3,
   "id": "75d558bd",
   "metadata": {},
   "outputs": [],
   "source": [
    "mother_path = 'D:/Multi-modal project/'"
   ]
  },
  {
   "cell_type": "markdown",
   "id": "c9d779bc",
   "metadata": {},
   "source": [
    "# Parameter setting"
   ]
  },
  {
   "cell_type": "code",
   "execution_count": 117,
   "id": "80036cec",
   "metadata": {},
   "outputs": [],
   "source": [
    "sig_alpha = 0.01\n",
    "sig_cohend = 0.4\n",
    "cons_bin_crit = 5\n",
    "\n",
    "num_shuffle = 1000\n",
    "\n",
    "gauss_sigma = 2\n",
    "gauss_on = True\n",
    "\n",
    "only_PER = False   # analyze only PER neurons?\n",
    "\n",
    " # colors for multimodal, vis-only, aud-only conditions\n",
    "color = ['mediumorchid','cornflowerblue','lightcoral','gray']\n",
    "color2 = ['cyan','magenta','brown']\n",
    "linestyle = ['-',':']\n",
    "\n",
    "today = str(date.today())"
   ]
  },
  {
   "cell_type": "markdown",
   "id": "74ff06dc",
   "metadata": {},
   "source": [
    "# Data preparation"
   ]
  },
  {
   "cell_type": "code",
   "execution_count": 76,
   "id": "e42dba14",
   "metadata": {},
   "outputs": [],
   "source": [
    "unit_summary = pd.read_table(mother_path+'/analysis/result'+\n",
    "                             '/1. Cluster summary/clusterSummary.csv',sep=',')\n",
    "save_path = mother_path+'analysis/result/3. Multiple regression for object-selectivity/'\n",
    "data_path = mother_path+'analysis/result/zFR export/13-Apr-2022 (5 trials)/'\n",
    "os.chdir(data_path)"
   ]
  },
  {
   "cell_type": "code",
   "execution_count": 6,
   "id": "522e8ee6",
   "metadata": {},
   "outputs": [],
   "source": [
    "# empty list for result csv file\n",
    "result=[]"
   ]
  },
  {
   "cell_type": "code",
   "execution_count": 7,
   "id": "e9bd828a",
   "metadata": {},
   "outputs": [],
   "source": [
    "cell_list = os.listdir(os.curdir)"
   ]
  },
  {
   "cell_type": "markdown",
   "id": "e0fbe3cd",
   "metadata": {},
   "source": [
    "# Data analysis"
   ]
  },
  {
   "cell_type": "code",
   "execution_count": 110,
   "id": "55f9d3d9",
   "metadata": {},
   "outputs": [],
   "source": [
    "def SDF_MLR_plot(save_ok):\n",
    "    fig,ax = plt.subplots(3,2,figsize=(10,10))\n",
    "    plt.suptitle(cell_name.strip('.csv'),fontsize=17);\n",
    "    \n",
    "    # plot mean firing rate patterns for each object condition\n",
    "    for i in range(len(cond)):\n",
    "        ax[0,0].plot(np.arange(95)*10,mean_by_cond[i,:],color=color[int(np.floor(i/2))],linestyle=linestyle[divmod(i,2)[1]])\n",
    "        ax[0,0].fill_between(np.arange(95)*10,mean_by_cond[i,:]-sem_by_cond[i,:],\n",
    "                             mean_by_cond[i,:]+sem_by_cond[i,:],color=color[int(np.floor(i/2))],alpha=0.2)\n",
    "        if divmod(i,2)[1]==0:\n",
    "            ax[1,0].plot(np.arange(95)*10,mean_by_cond[i,:],color=color[int(np.floor(i/2))])\n",
    "            ax[1,0].fill_between(np.arange(95)*10,mean_by_cond[i,:]-sem_by_cond[i,:],\n",
    "                                 mean_by_cond[i,:]+sem_by_cond[i,:],color=color[int(np.floor(i/2))],alpha=0.2)\n",
    "        else:\n",
    "            ax[2,0].plot(np.arange(95)*10,mean_by_cond[i,:],color=color[int(np.floor(i/2))])\n",
    "            ax[2,0].fill_between(np.arange(95)*10,mean_by_cond[i,:]-sem_by_cond[i,:],\n",
    "                                 mean_by_cond[i,:]+sem_by_cond[i,:],color=color[int(np.floor(i/2))],alpha=0.2)        \n",
    "            \n",
    "    ax[0,0].set_title('Firing patterns for all conditions',fontsize=15)\n",
    "    ax[0,0].set_yticks(np.arange(fr_min,fr_max+0.1,1))\n",
    "    ax[0,0].set_ylabel('z-scored FR',fontsize=13)\n",
    "    ax[0,0].set_xlabel('Time (ms)',fontsize=13)\n",
    "    ax[0,0].set_xticks([0,400,950])\n",
    "    ax[0,0].set_xlim([0,950])\n",
    "    \n",
    "    ax[1,0].set_title('Firing patterns for BOY',fontsize=15);\n",
    "    ax[1,0].set_yticks(np.arange(fr_min,fr_max+0.1,1))    \n",
    "    ax[1,0].set_ylabel('z-scored FR',fontsize=13)\n",
    "    ax[1,0].set_xlabel('Time (ms)',fontsize=13)    \n",
    "    ax[1,0].set_xticks([0,400,950])\n",
    "    ax[1,0].set_xlim([0,950])    \n",
    "    \n",
    "    ax[2,0].set_title('Firing patterns for EGG',fontsize=15);\n",
    "    ax[2,0].set_yticks(np.arange(fr_min,fr_max+0.1,1))    \n",
    "    ax[2,0].set_ylabel('z-scored FR',fontsize=13)\n",
    "    ax[2,0].set_xlabel('Time (ms)',fontsize=13)    \n",
    "    ax[2,0].set_xticks([0,400,950])\n",
    "    ax[2,0].set_xlim([0,950])     \n",
    "    \n",
    "    # plot beta coefficients of visual / auditory / interaction terms in Mutiple Regression\n",
    "    for i in range(3):\n",
    "        ax[i,1].plot(np.arange(95)*10,beta[i,:],color=color2[i])\n",
    "        ax[i,1].axhline(y=0,color='black',linestyle='-',linewidth=1)\n",
    "        ax[i,1].axhline(y=beta_sig_crit[i,0],color='red',linestyle=':')\n",
    "        ax[i,1].axhline(y=beta_sig_crit[i,1],color='red',linestyle=':')\n",
    "        ax[i,1].set_ylim([-0.6,0.6])\n",
    "        ax[i,1].set_yticks(np.arange(-0.6,0.7,0.2))\n",
    "        ax[i,1].set_ylabel('Beta Coefficients',fontsize=13)\n",
    "        ax[i,1].set_xticks([0,400,950])\n",
    "        ax[i,1].set_xlim([0,950])\n",
    "        ax[i,1].set_xlabel('Time (ms)',fontsize=13)\n",
    "        ax[i,1].set_title(t_beta[i],fontsize=15)\n",
    "        ax[i,1].text(850,beta_sig_crit[i,0]-0.07,f'{beta_sig_crit[i,0]:.2f}')\n",
    "        ax[i,1].text(850,beta_sig_crit[i,1]+0.04,f'{beta_sig_crit[i,1]:.2f}')\n",
    "        ax[i,1].scatter(beta_sig_time[i][0]*10,np.tile(0.5,(len(beta_sig_time[i][0]),1)),\n",
    "                        s=10,marker='_',c='black',linewidth=2)\n",
    "\n",
    "    plt.tight_layout()\n",
    "    \n",
    "    if save_ok:\n",
    "        if os.path.exists(save_path+str(date.today())+'/'+region) is False:\n",
    "            os.makedirs(save_path+str(date.today())+'/'+region)    \n",
    "            os.chdir(save_path+str(date.today())+'/'+region)\n",
    "        plt.savefig(cell_name.strip('.csv')+'.png',dpi=100,facecolor='white')\n",
    "        #plt.savefig(cell_name.strip('.csv')+'.svg')\n",
    "    plt.close()"
   ]
  },
  {
   "cell_type": "code",
   "execution_count": 79,
   "id": "56f1f215",
   "metadata": {},
   "outputs": [],
   "source": [
    "beta_visual_result = np.empty((0,96))\n",
    "beta_auditory_result = np.empty((0,96))\n",
    "beta_interaction_result = np.empty((0,96))"
   ]
  },
  {
   "cell_type": "code",
   "execution_count": 118,
   "id": "7a800433",
   "metadata": {},
   "outputs": [
    {
     "name": "stdout",
     "output_type": "stream",
     "text": [
      "0003-600-1-1-Crossmodal-TeV-deep-(-7.32 mm)-TT4.1 ////// 0/888 completed  //////  0 min 48.70 sec\n",
      "0004-600-1-1-Crossmodal-TeV-deep-(-7.32 mm)-TT4.2 ////// 1/888 completed  //////  0 min 48.73 sec\n",
      "0005-600-1-1-Crossmodal-TeV-deep-(-7.32 mm)-TT4.3 ////// 2/888 completed  //////  0 min 47.52 sec\n",
      "0006-600-1-1-Crossmodal-PER-superficial-(-7.2 mm)-TT5.1 ////// 3/888 completed  //////  0 min 47.46 sec\n",
      "0007-600-1-1-Crossmodal-PER-superficial-(-7.2 mm)-TT5.2 ////// 4/888 completed  //////  0 min 49.95 sec\n",
      "0008-600-1-1-Crossmodal-PER-superficial-(-7.2 mm)-TT5.3 ////// 5/888 completed  //////  0 min 52.48 sec\n",
      "0010-600-1-1-Crossmodal-TeV-deep-(-6.96 mm)-TT6.2 ////// 6/888 completed  //////  0 min 47.86 sec\n",
      "0011-600-1-1-Crossmodal-PER-superficial-(-6.48 mm)-TT7.1 ////// 7/888 completed  //////  0 min 47.85 sec\n",
      "0013-600-1-1-Crossmodal-PER-deep-(-6.48 mm)-TT8.2 ////// 8/888 completed  //////  0 min 48.27 sec\n",
      "0014-600-1-1-Crossmodal-PER-deep-(-6.48 mm)-TT8.3 ////// 9/888 completed  //////  0 min 48.62 sec\n",
      "0015-600-1-1-Crossmodal-TeV-deep-(-6.36 mm)-TT9.1 ////// 10/888 completed  //////  0 min 47.76 sec\n"
     ]
    },
    {
     "ename": "KeyboardInterrupt",
     "evalue": "",
     "output_type": "error",
     "traceback": [
      "\u001b[1;31m---------------------------------------------------------------------------\u001b[0m",
      "\u001b[1;31mKeyboardInterrupt\u001b[0m                         Traceback (most recent call last)",
      "Input \u001b[1;32mIn [118]\u001b[0m, in \u001b[0;36m<cell line: 1>\u001b[1;34m()\u001b[0m\n\u001b[0;32m     52\u001b[0m         y \u001b[38;5;241m=\u001b[39m df\u001b[38;5;241m.\u001b[39miloc[:,fr_id\u001b[38;5;241m+\u001b[39mt_s]\n\u001b[0;32m     53\u001b[0m         lr \u001b[38;5;241m=\u001b[39m LinearRegression()\n\u001b[1;32m---> 54\u001b[0m         \u001b[43mlr\u001b[49m\u001b[38;5;241;43m.\u001b[39;49m\u001b[43mfit\u001b[49m\u001b[43m(\u001b[49m\u001b[43mx_shuffle\u001b[49m\u001b[43m,\u001b[49m\u001b[43my\u001b[49m\u001b[43m)\u001b[49m\n\u001b[0;32m     55\u001b[0m         shuffled_beta[:,t_s,s] \u001b[38;5;241m=\u001b[39m lr\u001b[38;5;241m.\u001b[39mcoef_        \n\u001b[0;32m     57\u001b[0m cond \u001b[38;5;241m=\u001b[39m [(df\u001b[38;5;241m.\u001b[39mType\u001b[38;5;241m==\u001b[39m\u001b[38;5;124m'\u001b[39m\u001b[38;5;124mMultimodal\u001b[39m\u001b[38;5;124m'\u001b[39m)\u001b[38;5;241m&\u001b[39m(df\u001b[38;5;241m.\u001b[39mRWD_Loc\u001b[38;5;241m==\u001b[39mboy_goal),\n\u001b[0;32m     58\u001b[0m         (df\u001b[38;5;241m.\u001b[39mType\u001b[38;5;241m==\u001b[39m\u001b[38;5;124m'\u001b[39m\u001b[38;5;124mMultimodal\u001b[39m\u001b[38;5;124m'\u001b[39m)\u001b[38;5;241m&\u001b[39m(df\u001b[38;5;241m.\u001b[39mRWD_Loc\u001b[38;5;241m==\u001b[39megg_goal),\n\u001b[0;32m     59\u001b[0m         (df\u001b[38;5;241m.\u001b[39mType\u001b[38;5;241m==\u001b[39m\u001b[38;5;124m'\u001b[39m\u001b[38;5;124mVisual\u001b[39m\u001b[38;5;124m'\u001b[39m)\u001b[38;5;241m&\u001b[39m(df\u001b[38;5;241m.\u001b[39mRWD_Loc\u001b[38;5;241m==\u001b[39mboy_goal),\n\u001b[0;32m     60\u001b[0m         (df\u001b[38;5;241m.\u001b[39mType\u001b[38;5;241m==\u001b[39m\u001b[38;5;124m'\u001b[39m\u001b[38;5;124mVisual\u001b[39m\u001b[38;5;124m'\u001b[39m)\u001b[38;5;241m&\u001b[39m(df\u001b[38;5;241m.\u001b[39mRWD_Loc\u001b[38;5;241m==\u001b[39megg_goal),\n\u001b[0;32m     61\u001b[0m         (df\u001b[38;5;241m.\u001b[39mType\u001b[38;5;241m==\u001b[39m\u001b[38;5;124m'\u001b[39m\u001b[38;5;124mAuditory\u001b[39m\u001b[38;5;124m'\u001b[39m)\u001b[38;5;241m&\u001b[39m(df\u001b[38;5;241m.\u001b[39mRWD_Loc\u001b[38;5;241m==\u001b[39mboy_goal),\n\u001b[0;32m     62\u001b[0m         (df\u001b[38;5;241m.\u001b[39mType\u001b[38;5;241m==\u001b[39m\u001b[38;5;124m'\u001b[39m\u001b[38;5;124mAuditory\u001b[39m\u001b[38;5;124m'\u001b[39m)\u001b[38;5;241m&\u001b[39m(df\u001b[38;5;241m.\u001b[39mRWD_Loc\u001b[38;5;241m==\u001b[39megg_goal)]    \n",
      "File \u001b[1;32m~\\anaconda3\\lib\\site-packages\\sklearn\\linear_model\\_base.py:662\u001b[0m, in \u001b[0;36mLinearRegression.fit\u001b[1;34m(self, X, y, sample_weight)\u001b[0m\n\u001b[0;32m    658\u001b[0m n_jobs_ \u001b[38;5;241m=\u001b[39m \u001b[38;5;28mself\u001b[39m\u001b[38;5;241m.\u001b[39mn_jobs\n\u001b[0;32m    660\u001b[0m accept_sparse \u001b[38;5;241m=\u001b[39m \u001b[38;5;28;01mFalse\u001b[39;00m \u001b[38;5;28;01mif\u001b[39;00m \u001b[38;5;28mself\u001b[39m\u001b[38;5;241m.\u001b[39mpositive \u001b[38;5;28;01melse\u001b[39;00m [\u001b[38;5;124m\"\u001b[39m\u001b[38;5;124mcsr\u001b[39m\u001b[38;5;124m\"\u001b[39m, \u001b[38;5;124m\"\u001b[39m\u001b[38;5;124mcsc\u001b[39m\u001b[38;5;124m\"\u001b[39m, \u001b[38;5;124m\"\u001b[39m\u001b[38;5;124mcoo\u001b[39m\u001b[38;5;124m\"\u001b[39m]\n\u001b[1;32m--> 662\u001b[0m X, y \u001b[38;5;241m=\u001b[39m \u001b[38;5;28;43mself\u001b[39;49m\u001b[38;5;241;43m.\u001b[39;49m\u001b[43m_validate_data\u001b[49m\u001b[43m(\u001b[49m\n\u001b[0;32m    663\u001b[0m \u001b[43m    \u001b[49m\u001b[43mX\u001b[49m\u001b[43m,\u001b[49m\u001b[43m \u001b[49m\u001b[43my\u001b[49m\u001b[43m,\u001b[49m\u001b[43m \u001b[49m\u001b[43maccept_sparse\u001b[49m\u001b[38;5;241;43m=\u001b[39;49m\u001b[43maccept_sparse\u001b[49m\u001b[43m,\u001b[49m\u001b[43m \u001b[49m\u001b[43my_numeric\u001b[49m\u001b[38;5;241;43m=\u001b[39;49m\u001b[38;5;28;43;01mTrue\u001b[39;49;00m\u001b[43m,\u001b[49m\u001b[43m \u001b[49m\u001b[43mmulti_output\u001b[49m\u001b[38;5;241;43m=\u001b[39;49m\u001b[38;5;28;43;01mTrue\u001b[39;49;00m\n\u001b[0;32m    664\u001b[0m \u001b[43m\u001b[49m\u001b[43m)\u001b[49m\n\u001b[0;32m    666\u001b[0m \u001b[38;5;28;01mif\u001b[39;00m sample_weight \u001b[38;5;129;01mis\u001b[39;00m \u001b[38;5;129;01mnot\u001b[39;00m \u001b[38;5;28;01mNone\u001b[39;00m:\n\u001b[0;32m    667\u001b[0m     sample_weight \u001b[38;5;241m=\u001b[39m _check_sample_weight(sample_weight, X, dtype\u001b[38;5;241m=\u001b[39mX\u001b[38;5;241m.\u001b[39mdtype)\n",
      "File \u001b[1;32m~\\anaconda3\\lib\\site-packages\\sklearn\\base.py:581\u001b[0m, in \u001b[0;36mBaseEstimator._validate_data\u001b[1;34m(self, X, y, reset, validate_separately, **check_params)\u001b[0m\n\u001b[0;32m    579\u001b[0m         y \u001b[38;5;241m=\u001b[39m check_array(y, \u001b[38;5;241m*\u001b[39m\u001b[38;5;241m*\u001b[39mcheck_y_params)\n\u001b[0;32m    580\u001b[0m     \u001b[38;5;28;01melse\u001b[39;00m:\n\u001b[1;32m--> 581\u001b[0m         X, y \u001b[38;5;241m=\u001b[39m check_X_y(X, y, \u001b[38;5;241m*\u001b[39m\u001b[38;5;241m*\u001b[39mcheck_params)\n\u001b[0;32m    582\u001b[0m     out \u001b[38;5;241m=\u001b[39m X, y\n\u001b[0;32m    584\u001b[0m \u001b[38;5;28;01mif\u001b[39;00m \u001b[38;5;129;01mnot\u001b[39;00m no_val_X \u001b[38;5;129;01mand\u001b[39;00m check_params\u001b[38;5;241m.\u001b[39mget(\u001b[38;5;124m\"\u001b[39m\u001b[38;5;124mensure_2d\u001b[39m\u001b[38;5;124m\"\u001b[39m, \u001b[38;5;28;01mTrue\u001b[39;00m):\n",
      "File \u001b[1;32m~\\anaconda3\\lib\\site-packages\\sklearn\\utils\\validation.py:981\u001b[0m, in \u001b[0;36mcheck_X_y\u001b[1;34m(X, y, accept_sparse, accept_large_sparse, dtype, order, copy, force_all_finite, ensure_2d, allow_nd, multi_output, ensure_min_samples, ensure_min_features, y_numeric, estimator)\u001b[0m\n\u001b[0;32m    964\u001b[0m X \u001b[38;5;241m=\u001b[39m check_array(\n\u001b[0;32m    965\u001b[0m     X,\n\u001b[0;32m    966\u001b[0m     accept_sparse\u001b[38;5;241m=\u001b[39maccept_sparse,\n\u001b[1;32m   (...)\u001b[0m\n\u001b[0;32m    976\u001b[0m     estimator\u001b[38;5;241m=\u001b[39mestimator,\n\u001b[0;32m    977\u001b[0m )\n\u001b[0;32m    979\u001b[0m y \u001b[38;5;241m=\u001b[39m _check_y(y, multi_output\u001b[38;5;241m=\u001b[39mmulti_output, y_numeric\u001b[38;5;241m=\u001b[39my_numeric)\n\u001b[1;32m--> 981\u001b[0m \u001b[43mcheck_consistent_length\u001b[49m\u001b[43m(\u001b[49m\u001b[43mX\u001b[49m\u001b[43m,\u001b[49m\u001b[43m \u001b[49m\u001b[43my\u001b[49m\u001b[43m)\u001b[49m\n\u001b[0;32m    983\u001b[0m \u001b[38;5;28;01mreturn\u001b[39;00m X, y\n",
      "File \u001b[1;32m~\\anaconda3\\lib\\site-packages\\sklearn\\utils\\validation.py:330\u001b[0m, in \u001b[0;36mcheck_consistent_length\u001b[1;34m(*arrays)\u001b[0m\n\u001b[0;32m    319\u001b[0m \u001b[38;5;124;03m\"\"\"Check that all arrays have consistent first dimensions.\u001b[39;00m\n\u001b[0;32m    320\u001b[0m \n\u001b[0;32m    321\u001b[0m \u001b[38;5;124;03mChecks whether all objects in arrays have the same shape or length.\u001b[39;00m\n\u001b[1;32m   (...)\u001b[0m\n\u001b[0;32m    326\u001b[0m \u001b[38;5;124;03m    Objects that will be checked for consistent length.\u001b[39;00m\n\u001b[0;32m    327\u001b[0m \u001b[38;5;124;03m\"\"\"\u001b[39;00m\n\u001b[0;32m    329\u001b[0m lengths \u001b[38;5;241m=\u001b[39m [_num_samples(X) \u001b[38;5;28;01mfor\u001b[39;00m X \u001b[38;5;129;01min\u001b[39;00m arrays \u001b[38;5;28;01mif\u001b[39;00m X \u001b[38;5;129;01mis\u001b[39;00m \u001b[38;5;129;01mnot\u001b[39;00m \u001b[38;5;28;01mNone\u001b[39;00m]\n\u001b[1;32m--> 330\u001b[0m uniques \u001b[38;5;241m=\u001b[39m \u001b[43mnp\u001b[49m\u001b[38;5;241;43m.\u001b[39;49m\u001b[43munique\u001b[49m\u001b[43m(\u001b[49m\u001b[43mlengths\u001b[49m\u001b[43m)\u001b[49m\n\u001b[0;32m    331\u001b[0m \u001b[38;5;28;01mif\u001b[39;00m \u001b[38;5;28mlen\u001b[39m(uniques) \u001b[38;5;241m>\u001b[39m \u001b[38;5;241m1\u001b[39m:\n\u001b[0;32m    332\u001b[0m     \u001b[38;5;28;01mraise\u001b[39;00m \u001b[38;5;167;01mValueError\u001b[39;00m(\n\u001b[0;32m    333\u001b[0m         \u001b[38;5;124m\"\u001b[39m\u001b[38;5;124mFound input variables with inconsistent numbers of samples: \u001b[39m\u001b[38;5;132;01m%r\u001b[39;00m\u001b[38;5;124m\"\u001b[39m\n\u001b[0;32m    334\u001b[0m         \u001b[38;5;241m%\u001b[39m [\u001b[38;5;28mint\u001b[39m(l) \u001b[38;5;28;01mfor\u001b[39;00m l \u001b[38;5;129;01min\u001b[39;00m lengths]\n\u001b[0;32m    335\u001b[0m     )\n",
      "File \u001b[1;32m<__array_function__ internals>:5\u001b[0m, in \u001b[0;36munique\u001b[1;34m(*args, **kwargs)\u001b[0m\n",
      "File \u001b[1;32m~\\anaconda3\\lib\\site-packages\\numpy\\lib\\arraysetops.py:272\u001b[0m, in \u001b[0;36munique\u001b[1;34m(ar, return_index, return_inverse, return_counts, axis)\u001b[0m\n\u001b[0;32m    270\u001b[0m ar \u001b[38;5;241m=\u001b[39m np\u001b[38;5;241m.\u001b[39masanyarray(ar)\n\u001b[0;32m    271\u001b[0m \u001b[38;5;28;01mif\u001b[39;00m axis \u001b[38;5;129;01mis\u001b[39;00m \u001b[38;5;28;01mNone\u001b[39;00m:\n\u001b[1;32m--> 272\u001b[0m     ret \u001b[38;5;241m=\u001b[39m \u001b[43m_unique1d\u001b[49m\u001b[43m(\u001b[49m\u001b[43mar\u001b[49m\u001b[43m,\u001b[49m\u001b[43m \u001b[49m\u001b[43mreturn_index\u001b[49m\u001b[43m,\u001b[49m\u001b[43m \u001b[49m\u001b[43mreturn_inverse\u001b[49m\u001b[43m,\u001b[49m\u001b[43m \u001b[49m\u001b[43mreturn_counts\u001b[49m\u001b[43m)\u001b[49m\n\u001b[0;32m    273\u001b[0m     \u001b[38;5;28;01mreturn\u001b[39;00m _unpack_tuple(ret)\n\u001b[0;32m    275\u001b[0m \u001b[38;5;66;03m# axis was specified and not None\u001b[39;00m\n",
      "File \u001b[1;32m~\\anaconda3\\lib\\site-packages\\numpy\\lib\\arraysetops.py:333\u001b[0m, in \u001b[0;36m_unique1d\u001b[1;34m(ar, return_index, return_inverse, return_counts)\u001b[0m\n\u001b[0;32m    331\u001b[0m     aux \u001b[38;5;241m=\u001b[39m ar[perm]\n\u001b[0;32m    332\u001b[0m \u001b[38;5;28;01melse\u001b[39;00m:\n\u001b[1;32m--> 333\u001b[0m     \u001b[43mar\u001b[49m\u001b[38;5;241;43m.\u001b[39;49m\u001b[43msort\u001b[49m\u001b[43m(\u001b[49m\u001b[43m)\u001b[49m\n\u001b[0;32m    334\u001b[0m     aux \u001b[38;5;241m=\u001b[39m ar\n\u001b[0;32m    335\u001b[0m mask \u001b[38;5;241m=\u001b[39m np\u001b[38;5;241m.\u001b[39mempty(aux\u001b[38;5;241m.\u001b[39mshape, dtype\u001b[38;5;241m=\u001b[39mnp\u001b[38;5;241m.\u001b[39mbool_)\n",
      "\u001b[1;31mKeyboardInterrupt\u001b[0m: "
     ]
    }
   ],
   "source": [
    "for cell_run,cell_name in enumerate(cell_list):\n",
    "    loop_start = time.time()\n",
    "    # get information about the cell\n",
    "    cell_info = cell_name.split('-')\n",
    "    cell_id = int(cell_info[0])\n",
    "    rat_id = cell_info[1]\n",
    "    session_id = cell_info[2]\n",
    "    region = cell_info[5]    \n",
    "    \n",
    "    df = pd.read_csv(data_path+cell_name)\n",
    "    df.drop(df[df.Correctness==0].index,inplace=True)   \n",
    "    df.drop(df[df.Type=='Elemental'].index,inplace=True)\n",
    "    df.reset_index(inplace=True,drop=True)\n",
    "\n",
    "    boy_goal = df.loc[df['Visual']=='Boy','RWD_Loc'].values[0]\n",
    "    boy_aud = df.loc[df['RWD_Loc']==boy_goal,'Auditory'].values[0]\n",
    "    \n",
    "    egg_goal = df.loc[df['Visual']=='Egg','RWD_Loc'].values[0]\n",
    "    egg_aud = df.loc[df['RWD_Loc']==egg_goal,'Auditory'].values[0]\n",
    "\n",
    "    # set visual regressor\n",
    "    df.loc[df['Visual']=='Boy','Visual'] = 1\n",
    "    df.loc[df['Visual']=='Egg','Visual'] = -1\n",
    "    df.loc[df['Visual'].isnull(),'Visual'] = 0\n",
    "    \n",
    "    # set auditory regressor\n",
    "    df.loc[df['Auditory']==boy_aud,'Auditory'] = 1\n",
    "    df.loc[df['Auditory']==egg_aud,'Auditory'] = -1\n",
    "    df.loc[df['Auditory'].isnull(),'Auditory'] = 0\n",
    "\n",
    "    # set interaction regressor\n",
    "    df['Interaction'] = df['Visual']*df['Auditory']\n",
    "    \n",
    "    # set all regressor for Multiple regression\n",
    "    x = df[['Visual','Auditory','Interaction']]\n",
    "    \n",
    "    # get beta coefficient of each timepoint using Multiple Regression\n",
    "    fr_id = df.columns.get_loc('Var10')  # get the index of the first firing rate column\n",
    "    beta = np.zeros((3,95))\n",
    "    for t in range(95):\n",
    "        y = df.iloc[:,fr_id+t]    # firing rates in time bin t\n",
    "        lr = LinearRegression()\n",
    "        lr.fit(x,y)\n",
    "        beta[:,t] = lr.coef_ \n",
    "        \n",
    "    # get shuffled beta coefficient of each timepoint using Multiple Regression\n",
    "    fr_id = df.columns.get_loc('Var10')  # get the index of the first firing rate column\n",
    "    shuffled_beta = np.zeros((3,95,num_shuffle))\n",
    "    for s in range(num_shuffle):\n",
    "        x_shuffle = np.random.permutation(x)\n",
    "        for t_s in range(95):\n",
    "            y = df.iloc[:,fr_id+t_s]\n",
    "            lr = LinearRegression()\n",
    "            lr.fit(x_shuffle,y)\n",
    "            shuffled_beta[:,t_s,s] = lr.coef_        \n",
    "            \n",
    "    cond = [(df.Type=='Multimodal')&(df.RWD_Loc==boy_goal),\n",
    "            (df.Type=='Multimodal')&(df.RWD_Loc==egg_goal),\n",
    "            (df.Type=='Visual')&(df.RWD_Loc==boy_goal),\n",
    "            (df.Type=='Visual')&(df.RWD_Loc==egg_goal),\n",
    "            (df.Type=='Auditory')&(df.RWD_Loc==boy_goal),\n",
    "            (df.Type=='Auditory')&(df.RWD_Loc==egg_goal)]    \n",
    "                \n",
    "    mean_by_cond = np.zeros(((len(cond),95)))\n",
    "    sem_by_cond = np.zeros(((len(cond),95)))\n",
    "    for i in range(len(cond)):\n",
    "        mean_by_cond[i,:]=df[cond[i]].iloc[:,range(fr_id,fr_id+95)].to_numpy().mean(axis=0)\n",
    "        sem_by_cond[i,:]=stats.sem(df[cond[i]].iloc[:,range(fr_id,fr_id+95)].to_numpy()) \n",
    "    \n",
    "    # find the time bins with significantly high or low beta coefficient\n",
    "    beta_sig_crit = np.zeros((3,2))\n",
    "    for b in range(3):\n",
    "        beta_sig_crit[b,:] = [np.percentile(np.ravel(shuffled_beta[b,:,:]),2.5),np.percentile(np.ravel(shuffled_beta[b,:,:]),97.5)]\n",
    "        \n",
    "    beta_visual_sig_time = np.where((beta[0,:]<beta_sig_crit[0,0])|(beta[0,:]>beta_sig_crit[0,1]))\n",
    "    beta_auditory_sig_time = np.where((beta[1,:]<beta_sig_crit[1,0])|(beta[1,:]>beta_sig_crit[1,1]))\n",
    "    beta_interaction_sig_time = np.where((beta[2,:]<beta_sig_crit[2,0])|(beta[2,:]>beta_sig_crit[2,1]))\n",
    "\n",
    "    beta_sig_time = [beta_visual_sig_time,beta_auditory_sig_time,beta_interaction_sig_time]\n",
    "    \n",
    "    # get max / min values to set y-axis when plotting\n",
    "    fr_max = np.ceil(np.max(mean_by_cond)+np.max(sem_by_cond))\n",
    "    fr_min = np.ceil(abs(np.min(mean_by_cond)-np.max(sem_by_cond)))*-1\n",
    "\n",
    "    beta_max = np.ceil(np.max(mean_by_cond)+np.max(sem_by_cond))\n",
    "    beta_min = np.ceil(abs(np.min(mean_by_cond)-np.max(sem_by_cond)))*-1    \n",
    "    \n",
    "    # title information for beta coefficient plot\n",
    "    t_beta = ['Visual term','Auditory term','Interaction term']\n",
    "    \n",
    "    # plot mean firing rate (SDF) and beta coefficients (MLR)\n",
    "    SDF_MLR_plot(1)     \n",
    "\n",
    "    loop_end = time.time()\n",
    "    loop_time = divmod(loop_end-loop_start,60)\n",
    "    print(cell_name.strip('.csv'), f'////// {cell_run}/{len(cell_list)} completed  //////  {int(loop_time[0])} min {loop_time[1]:.2f} sec')"
   ]
  },
  {
   "cell_type": "markdown",
   "id": "3af82a4f",
   "metadata": {},
   "source": [
    "# Export CSV file"
   ]
  },
  {
   "cell_type": "code",
   "execution_count": 14,
   "id": "2c300664",
   "metadata": {},
   "outputs": [],
   "source": [
    "cd_M = pd.DataFrame(cohend_result_M)\n",
    "cd_V = pd.DataFrame(cohend_result_V)\n",
    "cd_A = pd.DataFrame(cohend_result_A)\n",
    "cd_C = pd.DataFrame(cohend_result_C)\n",
    "\n",
    "sb_M = pd.DataFrame(sig_bin_result_M)\n",
    "sb_V = pd.DataFrame(sig_bin_result_V)\n",
    "sb_A = pd.DataFrame(sig_bin_result_A)\n",
    "sb_C = pd.DataFrame(sig_bin_result_C)\n",
    "\n",
    "result = pd.DataFrame(result)"
   ]
  },
  {
   "cell_type": "code",
   "execution_count": 15,
   "id": "f313e153",
   "metadata": {},
   "outputs": [],
   "source": [
    "save_path+str(date.today())+'/'+region\n",
    "os.chdir(save_path+str(date.today()))\n",
    "\n",
    "result.to_csv(str(date.today())+'_item-selectivity.csv',index=False)\n",
    "\n",
    "cd_M.to_csv('Cohend_M.csv',index=False)\n",
    "cd_V.to_csv('Cohend_V.csv',index=False)\n",
    "cd_A.to_csv('Cohend_A.csv',index=False)\n",
    "cd_C.to_csv('Cohend_C.csv',index=False)\n",
    "\n",
    "sb_M.to_csv('Binary_M.csv',index=False)\n",
    "sb_V.to_csv('Binary_V.csv',index=False)\n",
    "sb_A.to_csv('Binary_A.csv',index=False)\n",
    "sb_C.to_csv('Binary_C.csv',index=False)"
   ]
  },
  {
   "cell_type": "code",
   "execution_count": 16,
   "id": "3f17ccda",
   "metadata": {},
   "outputs": [
    {
     "name": "stdout",
     "output_type": "stream",
     "text": [
      "END\n"
     ]
    }
   ],
   "source": [
    "print('END')"
   ]
  }
 ],
 "metadata": {
  "kernelspec": {
   "display_name": "Python 3 (ipykernel)",
   "language": "python",
   "name": "python3"
  },
  "language_info": {
   "codemirror_mode": {
    "name": "ipython",
    "version": 3
   },
   "file_extension": ".py",
   "mimetype": "text/x-python",
   "name": "python",
   "nbconvert_exporter": "python",
   "pygments_lexer": "ipython3",
   "version": "3.9.12"
  }
 },
 "nbformat": 4,
 "nbformat_minor": 5
}
