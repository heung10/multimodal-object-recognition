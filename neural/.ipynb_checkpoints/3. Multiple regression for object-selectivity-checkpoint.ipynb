{
 "cells": [
  {
   "cell_type": "markdown",
   "id": "c2d4f156",
   "metadata": {},
   "source": [
    "## Multiple regression for object-selectivity\n",
    "This code runs two nested multiple linear regression: one with object-related regressors and the \n",
    "other with both object and choice regressors.\n",
    "\n",
    "R-squared valuese of the two models are compared and if choice regressors improve the model a lot, the neuron is considered to have significant choice information, rather than object identity.\n"
   ]
  },
  {
   "cell_type": "code",
   "execution_count": 8,
   "id": "6ef091ff",
   "metadata": {},
   "outputs": [],
   "source": [
    "import os\n",
    "from pathlib import Path\n",
    "import numpy as np\n",
    "import pandas as pd\n",
    "\n",
    "from scipy import stats\n",
    "from scipy.ndimage import gaussian_filter\n",
    "from sklearn.linear_model import LinearRegression\n",
    "from statsmodels.regression.linear_model import OLS\n",
    "from statsmodels.tools import add_constant\n",
    "\n",
    "import matplotlib as mpl\n",
    "import matplotlib.pyplot as plt  \n",
    "\n",
    "from datetime import date\n",
    "import time\n",
    "\n",
    "import random\n",
    "\n",
    "from joblib import Parallel, delayed\n",
    "\n",
    "import h5py"
   ]
  },
  {
   "cell_type": "code",
   "execution_count": 3,
   "id": "a2efd57f",
   "metadata": {},
   "outputs": [],
   "source": [
    "# no top and right spines in all plots\n",
    "mpl.rcParams['axes.spines.right'] = False\n",
    "mpl.rcParams['axes.spines.top'] = False"
   ]
  },
  {
   "cell_type": "code",
   "execution_count": 4,
   "id": "75d558bd",
   "metadata": {},
   "outputs": [],
   "source": [
    "mother_path = Path('D:/Multi-modal project/')"
   ]
  },
  {
   "cell_type": "markdown",
   "id": "c9d779bc",
   "metadata": {},
   "source": [
    "### Parameter setting"
   ]
  },
  {
   "cell_type": "code",
   "execution_count": 5,
   "id": "80036cec",
   "metadata": {},
   "outputs": [],
   "source": [
    "num_iter = 10\n",
    "\n",
    "gauss_sigma = 1\n",
    "\n",
    "# colors for multimodal, vis-only, aud-only conditions\n",
    "color = ['mediumorchid','cornflowerblue','lightcoral','gray']\n",
    "color2 = ['cyan','magenta','brown']\n",
    "linestyle = ['-',':']\n",
    "\n",
    "today = str(date.today())"
   ]
  },
  {
   "cell_type": "markdown",
   "id": "74ff06dc",
   "metadata": {},
   "source": [
    "### Data preparation"
   ]
  },
  {
   "cell_type": "code",
   "execution_count": 61,
   "id": "e42dba14",
   "metadata": {},
   "outputs": [],
   "source": [
    "save_path = mother_path /'analysis'/'result'/'3. Multiple regression for object-selectivity'/today\n",
    "cell_path = mother_path/'analysis'/'result'/'zFR export'/'13-Apr-2022 (5 trials)'\n",
    "\n",
    "os.makedirs(save_path,exist_ok=True)\n",
    "f = h5py.File(save_path/f'{today}_multiple_regression_result.hdf5','w')\n",
    "\n",
    "cell_list = os.listdir(cell_path)"
   ]
  },
  {
   "cell_type": "markdown",
   "id": "e0fbe3cd",
   "metadata": {},
   "source": [
    "# Data analysis"
   ]
  },
  {
   "cell_type": "code",
   "execution_count": 9,
   "id": "c764b955",
   "metadata": {},
   "outputs": [],
   "source": [
    "def groupby_index(df):\n",
    "    \"\"\"\n",
    "    This function is to extract trial indices of each stimulus condition.\n",
    "    Those indices are used to subsample using another function.\n",
    "    \"\"\"\n",
    "    gb = df.groupby(['Visual', 'Auditory'])\n",
    "\n",
    "    Boy_M_id = gb.get_group(('Boy', boy_aud)).index.to_numpy()\n",
    "    Boy_V_id = gb.get_group(('Boy', 'no')).index.to_numpy()\n",
    "    Boy_A_id = gb.get_group(('no', boy_aud)).index.to_numpy()\n",
    "    \n",
    "    Egg_M_id = gb.get_group(('Egg', egg_aud)).index.to_numpy()\n",
    "    Egg_V_id = gb.get_group(('Egg', 'no')).index.to_numpy()\n",
    "    Egg_A_id = gb.get_group(('no', egg_aud)).index.to_numpy()\n",
    "    \n",
    "    C_L_id = gb.get_group(('Left', 'no')).index.to_numpy()\n",
    "    C_R_id = gb.get_group(('Right', 'no')).index.to_numpy()\n",
    "\n",
    "    cond_id = [Boy_M_id, Boy_V_id, Boy_A_id, Egg_M_id, Egg_V_id, Egg_A_id, C_L_id, C_R_id]  \n",
    "    \n",
    "    return cond_id"
   ]
  },
  {
   "cell_type": "code",
   "execution_count": 58,
   "id": "2931bed1",
   "metadata": {},
   "outputs": [],
   "source": [
    "def plot_SDF_beta(df,linewidth,smooth,save,save_format):\n",
    "    \"\"\"\n",
    "    This function plots mean firing rate patterns of each stimulus condition\n",
    "    and beta coefficients for visual and auditory regressors in multiple linear regression.\n",
    "    \"\"\"\n",
    "    cond = [(df.Type=='Multimodal')&(df.RWD_Loc==boy_goal),\n",
    "            (df.Type=='Multimodal')&(df.RWD_Loc==egg_goal),\n",
    "            (df.Type=='Visual')&(df.RWD_Loc==boy_goal),\n",
    "            (df.Type=='Visual')&(df.RWD_Loc==egg_goal),\n",
    "            (df.Type=='Auditory')&(df.RWD_Loc==boy_goal),\n",
    "            (df.Type=='Auditory')&(df.RWD_Loc==egg_goal),\n",
    "            (df.Type=='Elemental')&(df.RWD_Loc==boy_goal),\n",
    "            (df.Type=='Elemental')&(df.RWD_Loc==egg_goal)]\n",
    "    \n",
    "    cell_full_name = cell_name.strip('.csv')\n",
    "    \n",
    "    fr_mean = np.zeros((len(cond),95))\n",
    "    fr_sem = np.zeros((len(cond),95))\n",
    "    for i in range(len(cond)):\n",
    "        fr_mean[i,:] = df[cond[i]].iloc[:,fr_id:fr_id+95].to_numpy().mean(axis=0)\n",
    "        fr_sem[i,:] = stats.sem(df[cond[i]].iloc[:,fr_id:fr_id+95].to_numpy())\n",
    "    \n",
    "    if smooth:\n",
    "        for i in range(len(cond)):\n",
    "            fr_mean[i,:] = gaussian_filter(fr_mean[i,:],sigma=gauss_sigma)\n",
    "            fr_sem[i,:] = gaussian_filter(fr_sem[i,:],sigma=gauss_sigma)\n",
    "            \n",
    "    y_max = np.ceil(np.max(fr_mean+fr_sem))\n",
    "    y_min = np.ceil(np.abs(np.min(fr_mean-fr_sem)))*-1\n",
    "    \n",
    "    fig,ax = plt.subplots(3,3,figsize=(15,10))\n",
    "    plt.suptitle(cell_full_name,fontsize=15);\n",
    "    x = np.arange(95)*10\n",
    "    \n",
    "    for i in range(len(cond)):\n",
    "        if i%2==0:\n",
    "            ls = linestyle[0]\n",
    "        else:\n",
    "            ls = linestyle[1]            \n",
    "        ax[0,0].plot(x,fr_mean[i,:],color=color[int(np.floor(i/2))],linewidth=linewidth,linestyle=ls)\n",
    "        ax[0,0].fill_between(x,fr_mean[i,:]-fr_sem[i,:],fr_mean[i,:]+fr_sem[i,:],color=color[int(np.floor(i/2))],alpha=0.2)\n",
    "        \n",
    "        ax[i%2+1,0].plot(x,fr_mean[i,:],color=color[int(np.floor(i/2))],linewidth=linewidth,linestyle=ls)\n",
    "        ax[i%2+1,0].fill_between(x,fr_mean[i,:]-fr_sem[i,:],fr_mean[i,:]+fr_sem[i,:],color=color[int(np.floor(i/2))],alpha=0.2)\n",
    "        \n",
    "        if i<6:\n",
    "            ax[int(np.floor(i/2)),1].plot(x,fr_mean[i,:],color=color[int(np.floor(i/2))],linewidth=linewidth,linestyle=ls)\n",
    "            ax[int(np.floor(i/2)),1].fill_between(x,fr_mean[i,:]-fr_sem[i,:],fr_mean[i,:]+fr_sem[i,:],color=color[int(np.floor(i/2))],alpha=0.2)\n",
    "    \n",
    "    # control stimulus SDF\n",
    "    for i in range(3):\n",
    "        ax[i,1].plot(x,fr_mean[6,:],color=color[3])\n",
    "        ax[i,1].plot(x,fr_mean[7,:],color=color[3],linestyle=':')\n",
    "            \n",
    "    for i in range(6):\n",
    "        ax[i%3,int(np.floor(i/3))].set_yticks(np.arange(y_min,y_max+0.1,1))\n",
    "        ax[i%3,int(np.floor(i/3))].set_ylabel('z-scored FR',fontsize=13)\n",
    "        ax[i%3,int(np.floor(i/3))].set_xlabel('Time (ms)',fontsize=13)  \n",
    "        ax[i%3,int(np.floor(i/3))].set_xticks([0,400,950])\n",
    "        ax[i%3,int(np.floor(i/3))].set_xlim([0,950])    \n",
    "    \n",
    "    # beta coefficient plot\n",
    "    t2 = ['Visual term','Auditory term','Interaction term']\n",
    "    c2 = ['blue','red','green']\n",
    "    for i in range(3):\n",
    "        ax[i,2].plot(x,beta_mean[:,i],color=c2[i],linestyle='-',linewidth=linewidth)\n",
    "        ax[i,2].plot(x,beta_mean[:,i+3],color=c2[i],linestyle=':',linewidth=linewidth)\n",
    "        \n",
    "        ax_r = ax[i,2].twinx()\n",
    "        ax_r.plot(x,r_diff,color='lightgray',linewidth=1)\n",
    "        ax_r.set_ylabel('R-squared difference')   \n",
    "        #ax_r.set_yticks(np.arange(0,0.21,0.04))       \n",
    "            \n",
    "        ax[i,2].set_title(t2[i],fontsize=13)\n",
    "        ax[i,2].set_yticks(np.arange(-1,1.1,0.5))    \n",
    "        ax[i,2].set_ylabel('Beta coefficient',fontsize=13)\n",
    "        ax[i,2].set_xlabel('Time (ms)',fontsize=13)    \n",
    "        ax[i,2].set_xticks([0,400,950])\n",
    "        ax[i,2].set_xlim([0,950])\n",
    "    \n",
    "    # mark time bins with significant difference in beta coefficients\n",
    "    ax[0,2].scatter(vis_sig_bin[0]*10,np.tile(0.8,(len(vis_sig_bin[0]),1)),marker='*',color='black')\n",
    "    ax[1,2].scatter(aud_sig_bin[0]*10,np.tile(0.8,(len(aud_sig_bin[0]),1)),marker='*',color='black')\n",
    "    plt.tight_layout()\n",
    "    \n",
    "    if save:          \n",
    "        fig_path = save_path/region\n",
    "        if os.path.exists(fig_path) is False:\n",
    "            os.makedirs(fig_path)    \n",
    "        if save_format=='png':\n",
    "            plt.savefig(fig_path/f'{cell_full_name}.png',dpi=100,facecolor='white')\n",
    "        elif save_format=='svg':\n",
    "            plt.savefig(fig_path/f'{cell_full_name}.svg')\n",
    "        plt.close()"
   ]
  },
  {
   "cell_type": "code",
   "execution_count": 44,
   "id": "db3e8f0e",
   "metadata": {},
   "outputs": [],
   "source": [
    "def subsample_and_MLR(df,num_trials):\n",
    "    \"\"\"\n",
    "    This function subsamples trials from each stimulus condition\n",
    "    and calculate beta coefficients and r-squared values of multiple linear regression.\n",
    "    \"\"\"\n",
    "    subsample = np.array([])\n",
    "    # subsample 5 trials from each stimulus condition\n",
    "    for c in cond_id:\n",
    "        subsample = np.append(subsample,np.random.choice(c,num_trials,replace=True))        \n",
    "        subsample = np.asarray(subsample,dtype=int)\n",
    "    \n",
    "    # set regressors for the reduced and full model\n",
    "    x1 = df.loc[subsample,['Boy-V','Boy-A','Boy-int','Egg-V','Egg-A','Egg-int','constant']]\n",
    "    x2 = df.loc[subsample,['Boy-V','Boy-A','Boy-int','Egg-V','Egg-A','Egg-int','Choice','constant']]    \n",
    "            \n",
    "    # shuffle trial conditions to get null distribution\n",
    "    state = np.random.get_state()\n",
    "    x1_shuffle = np.random.permutation(x1)\n",
    "    np.random.set_state(state)\n",
    "    x2_shuffle = np.random.permutation(x2)\n",
    "    \n",
    "    beta_coef, beta_coef_choice, beta_coef_shuffle, beta_coef_choice_shuffle = [],[],[],[]\n",
    "    rsquared, rsquared_choice, rsquared_shuffle, rsquared_choice_shuffle = [],[],[],[]\n",
    "    BIC, BIC_choice, BIC_shuffle, BIC_choice_shuffle = [],[],[],[]\n",
    "    AIC, AIC_choice, AIC_shuffle, AIC_choice_shuffle = [],[],[],[]\n",
    "    \n",
    "    # calculate beta coefficients and r-squared values in each time bin\n",
    "    for t in range(95):\n",
    "        y = fr[subsample,t]\n",
    "            \n",
    "        lr1 = OLS(y,add_constant(x1)).fit()\n",
    "        lr2 = OLS(y,add_constant(x2)).fit()\n",
    "    \n",
    "        lr1_shuffle = OLS(y,add_constant(x1_shuffle)).fit()\n",
    "        lr2_shuffle = OLS(y,add_constant(x2_shuffle)).fit()\n",
    "            \n",
    "        beta_coef.append(lr1.params[0:-1])\n",
    "        beta_coef_choice.append(lr2.params[0:-1])\n",
    "        beta_coef_shuffle.append(lr1_shuffle.params[0:-1])\n",
    "        beta_coef_choice_shuffle.append(lr2_shuffle.params[0:-1])\n",
    "        \n",
    "        rsquared.append(lr1.rsquared)\n",
    "        rsquared_choice.append(lr2.rsquared)\n",
    "        rsquared_shuffle.append(lr1_shuffle.rsquared)\n",
    "        rsquared_choice_shuffle.append(lr2_shuffle.rsquared)\n",
    "        \n",
    "        BIC.append(lr1.bic)\n",
    "        BIC_choice.append(lr2.bic)\n",
    "        BIC_shuffle.append(lr1_shuffle.bic)\n",
    "        BIC_choice_shuffle.append(lr2_shuffle.bic)\n",
    "        \n",
    "        AIC.append(lr1.aic)\n",
    "        AIC_choice.append(lr2.aic)\n",
    "        AIC_shuffle.append(lr1_shuffle.aic)\n",
    "        AIC_choice_shuffle.append(lr2_shuffle.aic)\n",
    "        \n",
    "    return beta_coef, beta_coef_choice, beta_coef_shuffle, beta_coef_choice_shuffle,\\\n",
    "            rsquared, rsquared_choice, rsquared_shuffle, rsquared_choice_shuffle,\\\n",
    "            BIC, BIC_choice, BIC_shuffle, BIC_choice_shuffle,\\\n",
    "            AIC, AIC_choice, AIC_shuffle, AIC_choice_shuffle"
   ]
  },
  {
   "cell_type": "code",
   "execution_count": 50,
   "id": "126c58c9",
   "metadata": {},
   "outputs": [],
   "source": [
    "def save_result(f):\n",
    "    \"\"\"\n",
    "    This function saves data into HDF5 format.\n",
    "    \"\"\"\n",
    "    cell_group = f.create_group(str(cell_id))\n",
    "    beta_group = f.create_group(f'{cell_id}/beta_coef')\n",
    "    rs_group = f.create_group(f'{cell_id}/rsquared')\n",
    "    BIC_group = f.create_group(f'{cell_id}/BIC')\n",
    "    AIC_group = f.create_group(f'{cell_id}/AIC')\n",
    "    \n",
    "    beta_group.create_dataset('basic',data=beta_coef)\n",
    "    beta_group.create_dataset('extended',data=beta_coef_choice)\n",
    "    beta_group.create_dataset('basic_shuffle',data=beta_coef_shuffle)\n",
    "    beta_group.create_dataset('extended_shuffle',data=beta_coef_choice_shuffle)\n",
    "    \n",
    "    rs_group.create_dataset('basic',data=rsquare)\n",
    "    rs_group.create_dataset('extended',data=rsquare_choice)\n",
    "    rs_group.create_dataset('basic_shuffle',data=rsquare_shuffle)\n",
    "    rs_group.create_dataset('extended_shuffle',data=rsquare_choice_shuffle)\n",
    "    \n",
    "    BIC_group.create_dataset('basic',data=BIC)\n",
    "    BIC_group.create_dataset('extended',data=BIC_choice)\n",
    "    BIC_group.create_dataset('basic_shuffle',data=BIC_shuffle)\n",
    "    BIC_group.create_dataset('extended_shuffle',data=BIC_choice_shuffle)    \n",
    "    \n",
    "    AIC_group.create_dataset('basic',data=BIC)\n",
    "    AIC_group.create_dataset('extended',data=BIC_choice)\n",
    "    AIC_group.create_dataset('basic_shuffle',data=BIC_shuffle)\n",
    "    AIC_group.create_dataset('extended_shuffle',data=BIC_choice_shuffle)           \n",
    "    \n",
    "    cell_group.attrs['Rat'] = rat_id\n",
    "    cell_group.attrs['Region'] = region\n",
    "    cell_group.attrs['Session'] = session_id\n",
    "    \n",
    "    cell_group.attrs['Visual'] = int(len(vis_sig_bin[0])!=0)\n",
    "    cell_group.attrs['Auditory'] = int(len(aud_sig_bin[0])!=0)"
   ]
  },
  {
   "cell_type": "code",
   "execution_count": 62,
   "id": "7a800433",
   "metadata": {},
   "outputs": [
    {
     "name": "stdout",
     "output_type": "stream",
     "text": [
      "0003-600-1-1-Crossmodal-TeV-deep-(-7.32 mm)-TT4.1 ////// 1/888 completed  //////  0 min 3.81 sec\n",
      "0004-600-1-1-Crossmodal-TeV-deep-(-7.32 mm)-TT4.2 ////// 2/888 completed  //////  0 min 4.17 sec\n",
      "0005-600-1-1-Crossmodal-TeV-deep-(-7.32 mm)-TT4.3 ////// 3/888 completed  //////  0 min 4.26 sec\n",
      "0006-600-1-1-Crossmodal-PER-superficial-(-7.2 mm)-TT5.1 ////// 4/888 completed  //////  0 min 3.75 sec\n",
      "0007-600-1-1-Crossmodal-PER-superficial-(-7.2 mm)-TT5.2 ////// 5/888 completed  //////  0 min 4.46 sec\n",
      "0008-600-1-1-Crossmodal-PER-superficial-(-7.2 mm)-TT5.3 ////// 6/888 completed  //////  0 min 4.28 sec\n"
     ]
    },
    {
     "name": "stderr",
     "output_type": "stream",
     "text": [
      "<timed exec>:63: RuntimeWarning: invalid value encountered in subtract\n"
     ]
    },
    {
     "name": "stdout",
     "output_type": "stream",
     "text": [
      "0010-600-1-1-Crossmodal-TeV-deep-(-6.96 mm)-TT6.2 ////// 7/888 completed  //////  0 min 5.29 sec\n"
     ]
    },
    {
     "name": "stderr",
     "output_type": "stream",
     "text": [
      "<timed exec>:63: RuntimeWarning: invalid value encountered in subtract\n"
     ]
    },
    {
     "name": "stdout",
     "output_type": "stream",
     "text": [
      "0011-600-1-1-Crossmodal-PER-superficial-(-6.48 mm)-TT7.1 ////// 8/888 completed  //////  0 min 5.51 sec\n",
      "0013-600-1-1-Crossmodal-PER-deep-(-6.48 mm)-TT8.2 ////// 9/888 completed  //////  0 min 5.92 sec\n"
     ]
    },
    {
     "name": "stderr",
     "output_type": "stream",
     "text": [
      "<timed exec>:63: RuntimeWarning: invalid value encountered in subtract\n"
     ]
    },
    {
     "name": "stdout",
     "output_type": "stream",
     "text": [
      "0014-600-1-1-Crossmodal-PER-deep-(-6.48 mm)-TT8.3 ////// 10/888 completed  //////  0 min 6.60 sec\n",
      "0015-600-1-1-Crossmodal-TeV-deep-(-6.36 mm)-TT9.1 ////// 11/888 completed  //////  0 min 4.14 sec\n",
      "0016-600-1-1-Crossmodal-PER-deep-(-6.24 mm)-TT10.1 ////// 12/888 completed  //////  0 min 3.93 sec\n",
      "0017-600-1-1-Crossmodal-PER-deep-(-6.24 mm)-TT10.2 ////// 13/888 completed  //////  0 min 4.20 sec\n",
      "0018-600-1-1-Crossmodal-PER-superficial-(-6.24 mm)-TT13.1 ////// 14/888 completed  //////  0 min 4.01 sec\n"
     ]
    },
    {
     "name": "stderr",
     "output_type": "stream",
     "text": [
      "<timed exec>:63: RuntimeWarning: invalid value encountered in subtract\n"
     ]
    },
    {
     "name": "stdout",
     "output_type": "stream",
     "text": [
      "0021-600-1-1-Crossmodal-TeV-superficial-(-6.96 mm)-TT17.1 ////// 15/888 completed  //////  0 min 4.87 sec\n",
      "0022-600-1-1-Crossmodal-TeV-superficial-(-6.96 mm)-TT17.2 ////// 16/888 completed  //////  0 min 6.42 sec\n",
      "0023-600-1-1-Crossmodal-POR-deep-(-7.56 mm)-TT24.1 ////// 17/888 completed  //////  0 min 4.45 sec\n",
      "0024-600-1-1-Crossmodal-POR-deep-(-7.56 mm)-TT24.2 ////// 18/888 completed  //////  0 min 5.20 sec\n"
     ]
    },
    {
     "name": "stderr",
     "output_type": "stream",
     "text": [
      "<timed exec>:63: RuntimeWarning: invalid value encountered in subtract\n"
     ]
    },
    {
     "name": "stdout",
     "output_type": "stream",
     "text": [
      "0025-600-1-1-Crossmodal-POR-deep-(-7.56 mm)-TT24.3 ////// 19/888 completed  //////  0 min 4.29 sec\n",
      "0026-600-2-2-Crossmodal-TeV-deep-(-7.32 mm)-TT4.1 ////// 20/888 completed  //////  0 min 4.27 sec\n",
      "0027-600-2-2-Crossmodal-PER-superficial-(-7.2 mm)-TT5.1 ////// 21/888 completed  //////  0 min 4.72 sec\n",
      "0028-600-2-2-Crossmodal-PER-superficial-(-7.2 mm)-TT5.2 ////// 22/888 completed  //////  0 min 3.62 sec\n",
      "0029-600-2-2-Crossmodal-PER-superficial-(-7.2 mm)-TT5.3 ////// 23/888 completed  //////  0 min 4.19 sec\n",
      "0030-600-2-2-Crossmodal-PER-superficial-(-7.2 mm)-TT5.4 ////// 24/888 completed  //////  0 min 4.78 sec\n"
     ]
    },
    {
     "name": "stderr",
     "output_type": "stream",
     "text": [
      "<timed exec>:63: RuntimeWarning: invalid value encountered in subtract\n"
     ]
    },
    {
     "name": "stdout",
     "output_type": "stream",
     "text": [
      "0031-600-2-2-Crossmodal-TeV-deep-(-6.96 mm)-TT6.1 ////// 25/888 completed  //////  0 min 3.73 sec\n",
      "0032-600-2-2-Crossmodal-TeV-deep-(-6.96 mm)-TT6.2 ////// 26/888 completed  //////  0 min 3.64 sec\n",
      "0033-600-2-2-Crossmodal-PER-superficial-(-6.48 mm)-TT7.1 ////// 27/888 completed  //////  0 min 4.34 sec\n"
     ]
    },
    {
     "name": "stderr",
     "output_type": "stream",
     "text": [
      "<timed exec>:63: RuntimeWarning: invalid value encountered in subtract\n"
     ]
    },
    {
     "name": "stdout",
     "output_type": "stream",
     "text": [
      "0035-600-2-2-Crossmodal-PER-superficial-(-6.48 mm)-TT7.3 ////// 28/888 completed  //////  0 min 3.82 sec\n",
      "0036-600-2-2-Crossmodal-PER-superficial-(-6.48 mm)-TT7.4 ////// 29/888 completed  //////  0 min 3.45 sec\n",
      "0037-600-2-2-Crossmodal-PER-deep-(-6.48 mm)-TT8.1 ////// 30/888 completed  //////  0 min 3.49 sec\n",
      "0038-600-2-2-Crossmodal-PER-deep-(-6.48 mm)-TT8.2 ////// 31/888 completed  //////  0 min 3.69 sec\n",
      "0039-600-2-2-Crossmodal-PER-deep-(-6.24 mm)-TT10.1 ////// 32/888 completed  //////  0 min 4.03 sec\n",
      "0040-600-2-2-Crossmodal-PER-superficial-(-7.24 mm)-TT13.1 ////// 33/888 completed  //////  0 min 4.23 sec\n"
     ]
    },
    {
     "name": "stderr",
     "output_type": "stream",
     "text": [
      "<timed exec>:63: RuntimeWarning: invalid value encountered in subtract\n"
     ]
    },
    {
     "name": "stdout",
     "output_type": "stream",
     "text": [
      "0041-600-2-2-Crossmodal-PER-superficial-(-6.36 mm)-TT15.1 ////// 34/888 completed  //////  0 min 3.47 sec\n",
      "0042-600-2-2-Crossmodal-TeV-superficial-(-6.96 mm)-TT17.1 ////// 35/888 completed  //////  0 min 3.69 sec\n",
      "0043-600-2-2-Crossmodal-TeV-superficial-(-6.96 mm)-TT17.2 ////// 36/888 completed  //////  0 min 4.20 sec\n",
      "0044-600-2-2-Crossmodal-TeV-superficial-(-6.96 mm)-TT17.3 ////// 37/888 completed  //////  0 min 3.55 sec\n",
      "0045-600-2-2-Crossmodal-TeV-deep-(-6.96 mm)-TT19.1 ////// 38/888 completed  //////  0 min 3.56 sec\n",
      "0046-600-2-2-Crossmodal-POR-deep-(-7.56 mm)-TT24.1 ////// 39/888 completed  //////  0 min 3.67 sec\n",
      "0047-600-2-2-Crossmodal-POR-deep-(-7.56 mm)-TT24.2 ////// 40/888 completed  //////  0 min 4.69 sec\n",
      "0048-600-2-2-Crossmodal-POR-deep-(-7.56 mm)-TT24.3 ////// 41/888 completed  //////  0 min 3.71 sec\n",
      "0049-600-3-3-Crossmodal-PER-superficial-(-7.2 mm)-TT5.1 ////// 42/888 completed  //////  0 min 3.78 sec\n",
      "0050-600-3-3-Crossmodal-PER-superficial-(-7.2 mm)-TT5.2 ////// 43/888 completed  //////  0 min 3.59 sec\n",
      "0051-600-3-3-Crossmodal-PER-superficial-(-7.2 mm)-TT5.3 ////// 44/888 completed  //////  0 min 4.42 sec\n",
      "0052-600-3-3-Crossmodal-PER-superficial-(-6.48 mm)-TT7.1 ////// 45/888 completed  //////  0 min 3.49 sec\n",
      "0053-600-3-3-Crossmodal-PER-superficial-(-6.48 mm)-TT7.2 ////// 46/888 completed  //////  0 min 4.40 sec\n",
      "0056-600-3-3-Crossmodal-TeV-superficial-(-6.96 mm)-TT17.1 ////// 47/888 completed  //////  0 min 3.43 sec\n",
      "0057-600-3-3-Crossmodal-TeV-superficial-(-6.96 mm)-TT17.2 ////// 48/888 completed  //////  0 min 4.14 sec\n",
      "0058-600-3-3-Crossmodal-TeV-superficial-(-6.96 mm)-TT17.3 ////// 49/888 completed  //////  0 min 3.55 sec\n",
      "0059-600-3-3-Crossmodal-POR-deep-(-7.56 mm)-TT24.1 ////// 50/888 completed  //////  0 min 3.45 sec\n",
      "0060-600-3-3-Crossmodal-POR-deep-(-7.56 mm)-TT24.2 ////// 51/888 completed  //////  0 min 3.51 sec\n",
      "0061-600-4-4-Crossmodal-PER-superficial-(-7.2 mm)-TT5.1 ////// 52/888 completed  //////  0 min 3.81 sec\n",
      "0062-600-4-4-Crossmodal-PER-superficial-(-7.2 mm)-TT5.2 ////// 53/888 completed  //////  0 min 4.09 sec\n"
     ]
    },
    {
     "name": "stderr",
     "output_type": "stream",
     "text": [
      "<timed exec>:63: RuntimeWarning: invalid value encountered in subtract\n"
     ]
    },
    {
     "name": "stdout",
     "output_type": "stream",
     "text": [
      "0063-600-4-4-Crossmodal-PER-deep-(-6.96 mm)-TT6.1 ////// 54/888 completed  //////  0 min 5.21 sec\n",
      "0065-600-4-4-Crossmodal-PER-superficial-(-6.48 mm)-TT7.1 ////// 55/888 completed  //////  0 min 3.74 sec\n",
      "0066-600-4-4-Crossmodal-PER-superficial-(-6.48 mm)-TT7.2 ////// 56/888 completed  //////  0 min 4.27 sec\n"
     ]
    },
    {
     "ename": "KeyboardInterrupt",
     "evalue": "",
     "output_type": "error",
     "traceback": [
      "\u001b[1;31m---------------------------------------------------------------------------\u001b[0m",
      "\u001b[1;31mKeyboardInterrupt\u001b[0m                         Traceback (most recent call last)",
      "File \u001b[1;32m<timed exec>:36\u001b[0m, in \u001b[0;36m<module>\u001b[1;34m\u001b[0m\n",
      "File \u001b[1;32m~\\anaconda3\\lib\\site-packages\\joblib\\parallel.py:1056\u001b[0m, in \u001b[0;36mParallel.__call__\u001b[1;34m(self, iterable)\u001b[0m\n\u001b[0;32m   1053\u001b[0m     \u001b[38;5;28mself\u001b[39m\u001b[38;5;241m.\u001b[39m_iterating \u001b[38;5;241m=\u001b[39m \u001b[38;5;28;01mFalse\u001b[39;00m\n\u001b[0;32m   1055\u001b[0m \u001b[38;5;28;01mwith\u001b[39;00m \u001b[38;5;28mself\u001b[39m\u001b[38;5;241m.\u001b[39m_backend\u001b[38;5;241m.\u001b[39mretrieval_context():\n\u001b[1;32m-> 1056\u001b[0m     \u001b[38;5;28;43mself\u001b[39;49m\u001b[38;5;241;43m.\u001b[39;49m\u001b[43mretrieve\u001b[49m\u001b[43m(\u001b[49m\u001b[43m)\u001b[49m\n\u001b[0;32m   1057\u001b[0m \u001b[38;5;66;03m# Make sure that we get a last message telling us we are done\u001b[39;00m\n\u001b[0;32m   1058\u001b[0m elapsed_time \u001b[38;5;241m=\u001b[39m time\u001b[38;5;241m.\u001b[39mtime() \u001b[38;5;241m-\u001b[39m \u001b[38;5;28mself\u001b[39m\u001b[38;5;241m.\u001b[39m_start_time\n",
      "File \u001b[1;32m~\\anaconda3\\lib\\site-packages\\joblib\\parallel.py:935\u001b[0m, in \u001b[0;36mParallel.retrieve\u001b[1;34m(self)\u001b[0m\n\u001b[0;32m    933\u001b[0m \u001b[38;5;28;01mtry\u001b[39;00m:\n\u001b[0;32m    934\u001b[0m     \u001b[38;5;28;01mif\u001b[39;00m \u001b[38;5;28mgetattr\u001b[39m(\u001b[38;5;28mself\u001b[39m\u001b[38;5;241m.\u001b[39m_backend, \u001b[38;5;124m'\u001b[39m\u001b[38;5;124msupports_timeout\u001b[39m\u001b[38;5;124m'\u001b[39m, \u001b[38;5;28;01mFalse\u001b[39;00m):\n\u001b[1;32m--> 935\u001b[0m         \u001b[38;5;28mself\u001b[39m\u001b[38;5;241m.\u001b[39m_output\u001b[38;5;241m.\u001b[39mextend(\u001b[43mjob\u001b[49m\u001b[38;5;241;43m.\u001b[39;49m\u001b[43mget\u001b[49m\u001b[43m(\u001b[49m\u001b[43mtimeout\u001b[49m\u001b[38;5;241;43m=\u001b[39;49m\u001b[38;5;28;43mself\u001b[39;49m\u001b[38;5;241;43m.\u001b[39;49m\u001b[43mtimeout\u001b[49m\u001b[43m)\u001b[49m)\n\u001b[0;32m    936\u001b[0m     \u001b[38;5;28;01melse\u001b[39;00m:\n\u001b[0;32m    937\u001b[0m         \u001b[38;5;28mself\u001b[39m\u001b[38;5;241m.\u001b[39m_output\u001b[38;5;241m.\u001b[39mextend(job\u001b[38;5;241m.\u001b[39mget())\n",
      "File \u001b[1;32m~\\anaconda3\\lib\\site-packages\\joblib\\_parallel_backends.py:542\u001b[0m, in \u001b[0;36mLokyBackend.wrap_future_result\u001b[1;34m(future, timeout)\u001b[0m\n\u001b[0;32m    539\u001b[0m \u001b[38;5;124;03m\"\"\"Wrapper for Future.result to implement the same behaviour as\u001b[39;00m\n\u001b[0;32m    540\u001b[0m \u001b[38;5;124;03mAsyncResults.get from multiprocessing.\"\"\"\u001b[39;00m\n\u001b[0;32m    541\u001b[0m \u001b[38;5;28;01mtry\u001b[39;00m:\n\u001b[1;32m--> 542\u001b[0m     \u001b[38;5;28;01mreturn\u001b[39;00m \u001b[43mfuture\u001b[49m\u001b[38;5;241;43m.\u001b[39;49m\u001b[43mresult\u001b[49m\u001b[43m(\u001b[49m\u001b[43mtimeout\u001b[49m\u001b[38;5;241;43m=\u001b[39;49m\u001b[43mtimeout\u001b[49m\u001b[43m)\u001b[49m\n\u001b[0;32m    543\u001b[0m \u001b[38;5;28;01mexcept\u001b[39;00m CfTimeoutError \u001b[38;5;28;01mas\u001b[39;00m e:\n\u001b[0;32m    544\u001b[0m     \u001b[38;5;28;01mraise\u001b[39;00m \u001b[38;5;167;01mTimeoutError\u001b[39;00m \u001b[38;5;28;01mfrom\u001b[39;00m \u001b[38;5;21;01me\u001b[39;00m\n",
      "File \u001b[1;32m~\\anaconda3\\lib\\concurrent\\futures\\_base.py:441\u001b[0m, in \u001b[0;36mFuture.result\u001b[1;34m(self, timeout)\u001b[0m\n\u001b[0;32m    438\u001b[0m \u001b[38;5;28;01melif\u001b[39;00m \u001b[38;5;28mself\u001b[39m\u001b[38;5;241m.\u001b[39m_state \u001b[38;5;241m==\u001b[39m FINISHED:\n\u001b[0;32m    439\u001b[0m     \u001b[38;5;28;01mreturn\u001b[39;00m \u001b[38;5;28mself\u001b[39m\u001b[38;5;241m.\u001b[39m__get_result()\n\u001b[1;32m--> 441\u001b[0m \u001b[38;5;28;43mself\u001b[39;49m\u001b[38;5;241;43m.\u001b[39;49m\u001b[43m_condition\u001b[49m\u001b[38;5;241;43m.\u001b[39;49m\u001b[43mwait\u001b[49m\u001b[43m(\u001b[49m\u001b[43mtimeout\u001b[49m\u001b[43m)\u001b[49m\n\u001b[0;32m    443\u001b[0m \u001b[38;5;28;01mif\u001b[39;00m \u001b[38;5;28mself\u001b[39m\u001b[38;5;241m.\u001b[39m_state \u001b[38;5;129;01min\u001b[39;00m [CANCELLED, CANCELLED_AND_NOTIFIED]:\n\u001b[0;32m    444\u001b[0m     \u001b[38;5;28;01mraise\u001b[39;00m CancelledError()\n",
      "File \u001b[1;32m~\\anaconda3\\lib\\threading.py:312\u001b[0m, in \u001b[0;36mCondition.wait\u001b[1;34m(self, timeout)\u001b[0m\n\u001b[0;32m    310\u001b[0m \u001b[38;5;28;01mtry\u001b[39;00m:    \u001b[38;5;66;03m# restore state no matter what (e.g., KeyboardInterrupt)\u001b[39;00m\n\u001b[0;32m    311\u001b[0m     \u001b[38;5;28;01mif\u001b[39;00m timeout \u001b[38;5;129;01mis\u001b[39;00m \u001b[38;5;28;01mNone\u001b[39;00m:\n\u001b[1;32m--> 312\u001b[0m         \u001b[43mwaiter\u001b[49m\u001b[38;5;241;43m.\u001b[39;49m\u001b[43macquire\u001b[49m\u001b[43m(\u001b[49m\u001b[43m)\u001b[49m\n\u001b[0;32m    313\u001b[0m         gotit \u001b[38;5;241m=\u001b[39m \u001b[38;5;28;01mTrue\u001b[39;00m\n\u001b[0;32m    314\u001b[0m     \u001b[38;5;28;01melse\u001b[39;00m:\n",
      "\u001b[1;31mKeyboardInterrupt\u001b[0m: "
     ]
    }
   ],
   "source": [
    "%%time\n",
    "for cell_run,cell_name in enumerate(cell_list):\n",
    "    loop_start = time.time()\n",
    "    # get information about the cell\n",
    "    cell_info = cell_name.split('-')\n",
    "    cell_id, rat_id, session_id, region = int(cell_info[0]), cell_info[1], cell_info[2], cell_info[5]\n",
    "    \n",
    "    if (rat_id=='654')&(session_id=='4'):\n",
    "        continue\n",
    "    \n",
    "    # load cell data\n",
    "    df = pd.read_csv(cell_path/cell_name)\n",
    "    df.drop(df[df.Correctness==0].index,inplace=True)\n",
    "    df.reset_index(inplace=True,drop=True)\n",
    "    df[['Visual','Auditory']] = df[['Visual','Auditory']].fillna('no')\n",
    "    \n",
    "    boy_goal = df.loc[df['Visual']=='Boy','RWD_Loc'].values[0]\n",
    "    boy_aud = df.loc[df['RWD_Loc']==boy_goal,'Auditory'].values[0]\n",
    "    \n",
    "    egg_goal = df.loc[df['Visual']=='Egg','RWD_Loc'].values[0]\n",
    "    egg_aud = df.loc[df['RWD_Loc']==egg_goal,'Auditory'].values[0]  \n",
    "    \n",
    "    df['Boy-V'] = (df['Visual'] == 'Boy').astype(int)\n",
    "    df['Boy-A'] = (df['Auditory'] == boy_aud).astype(int)\n",
    "    df['Egg-V'] = (df['Visual'] == 'Egg').astype(int)\n",
    "    df['Egg-A'] = (df['Auditory'] == egg_aud).astype(int)\n",
    "    \n",
    "    df['Boy-int'] = df['Boy-V']*df['Boy-A']\n",
    "    df['Egg-int'] = df['Egg-V']*df['Egg-A']\n",
    "    \n",
    "    df['Choice'] = (df['RWD_Loc']==boy_goal).astype(int) \n",
    "    df['constant'] = 1\n",
    "    \n",
    "    fr_id = df.columns.get_loc('Var10')  # get the index of the first firing rate column\n",
    "    fr = df.iloc[:,fr_id:fr_id+95].to_numpy()    # get firing rate data into array\n",
    "    \n",
    "    # get trial indices of each stimulus condition\n",
    "    cond_id = groupby_index(df)    \n",
    "        \n",
    "    # subsample and run multiple linear regression for n times\n",
    "    results = Parallel(n_jobs=-1)(delayed(subsample_and_MLR)(df,5) for i in range(num_iter))\n",
    "    \n",
    "    beta_coef = np.array([r[0] for r in results])\n",
    "    beta_coef_choice = np.array([r[1] for r in results])\n",
    "    beta_coef_shuffle = np.array([r[2] for r in results])\n",
    "    beta_coef_choice_shuffle = np.array([r[3] for r in results])\n",
    "    \n",
    "    rsquare = np.array([r[4] for r in results])\n",
    "    rsquare_choice = np.array([r[5] for r in results])\n",
    "    rsquare_shuffle = np.array([r[6] for r in results])\n",
    "    rsquare_choice_shuffle = np.array([r[7] for r in results])\n",
    "    \n",
    "    BIC = np.array([r[8] for r in results])\n",
    "    BIC_choice = np.array([r[9] for r in results])\n",
    "    BIC_shuffle = np.array([r[10] for r in results])\n",
    "    BIC_choice_shuffle = np.array([r[11] for r in results])\n",
    "    \n",
    "    AIC = np.array([r[12] for r in results])\n",
    "    AIC_choice = np.array([r[13] for r in results])\n",
    "    AIC_shuffle = np.array([r[14] for r in results])\n",
    "    AIC_choice_shuffle = np.array([r[15] for r in results])    \n",
    "\n",
    "    # get mean beta coefficient from subsampled population\n",
    "    beta_mean = np.mean(beta_coef,axis=0)\n",
    "    beta_std = np.std(beta_coef,axis=0)    \n",
    "    \n",
    "    # r-squared difference between full model and reduced model to quantify choice-related signals\n",
    "    rsquare[np.where(rsquare==np.inf*-1)] = np.nan\n",
    "    rsquare_choice[np.where(rsquare_choice==np.inf*-1)] = np.nan\n",
    "    r_diff = np.nanmean(rsquare_choice,axis=0)-np.nanmean(rsquare,axis=0)\n",
    "    \n",
    "    # find bins with significant differences in beta coefficients between two objects\n",
    "    vis_diff = beta_coef_shuffle[:,:,0] - beta_coef_shuffle[:,:,3]\n",
    "    aud_diff = beta_coef_shuffle[:,:,1] - beta_coef_shuffle[:,:,4]\n",
    "    vis_crit = np.percentile(np.ravel(vis_diff), [2.5, 97.5])\n",
    "    aud_crit = np.percentile(aud_diff, [2.5, 97.5])        \n",
    "    vis_sig_bin = np.where(((beta_mean[:,0]-beta_mean[:,3])>vis_crit[1])|((beta_mean[:,0]-beta_mean[:,3])<vis_crit[0]))\n",
    "    aud_sig_bin = np.where(((beta_mean[:,1]-beta_mean[:,4])>aud_crit[1])|((beta_mean[:,1]-beta_mean[:,4])<aud_crit[0]))        \n",
    "\n",
    "    plot_SDF_beta(df,2,1,1,'png')\n",
    "    \n",
    "    # save results into HDF5 format\n",
    "    save_result(f)\n",
    "            \n",
    "    loop_end = time.time()\n",
    "    loop_time = divmod(loop_end-loop_start,60)\n",
    "    print(cell_name.strip('.csv'), f'////// {cell_run+1}/{len(cell_list)} completed  //////  {int(loop_time[0])} min {loop_time[1]:.2f} sec')"
   ]
  },
  {
   "cell_type": "code",
   "execution_count": 60,
   "id": "3f17ccda",
   "metadata": {},
   "outputs": [
    {
     "name": "stdout",
     "output_type": "stream",
     "text": [
      "END\n"
     ]
    }
   ],
   "source": [
    "f.close()\n",
    "print('END')"
   ]
  }
 ],
 "metadata": {
  "kernelspec": {
   "display_name": "Python 3 (ipykernel)",
   "language": "python",
   "name": "python3"
  },
  "language_info": {
   "codemirror_mode": {
    "name": "ipython",
    "version": 3
   },
   "file_extension": ".py",
   "mimetype": "text/x-python",
   "name": "python",
   "nbconvert_exporter": "python",
   "pygments_lexer": "ipython3",
   "version": "3.9.12"
  }
 },
 "nbformat": 4,
 "nbformat_minor": 5
}
