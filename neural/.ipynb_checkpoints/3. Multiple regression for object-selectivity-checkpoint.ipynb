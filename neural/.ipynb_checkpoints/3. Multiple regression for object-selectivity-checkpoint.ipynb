{
 "cells": [
  {
   "cell_type": "markdown",
   "id": "c2d4f156",
   "metadata": {},
   "source": [
    "## Multiple regression for object-selectivity\n",
    "\n",
    "This code runs two nested multiple linear regression: one with object-related regressors and the \n",
    "other with both object and choice regressors.\n",
    "\n",
    "This code does not use subsampling method."
   ]
  },
  {
   "cell_type": "code",
   "execution_count": 1,
   "id": "6ef091ff",
   "metadata": {},
   "outputs": [],
   "source": [
    "import os\n",
    "from pathlib import Path\n",
    "import numpy as np\n",
    "import pandas as pd\n",
    "\n",
    "from scipy import stats\n",
    "from scipy.ndimage import gaussian_filter\n",
    "from statsmodels.regression.linear_model import OLS\n",
    "from statsmodels.tools import add_constant\n",
    "\n",
    "import matplotlib as mpl\n",
    "import matplotlib.pyplot as plt  \n",
    "\n",
    "from datetime import date\n",
    "import time\n",
    "\n",
    "import random\n",
    "\n",
    "from joblib import Parallel, delayed\n",
    "\n",
    "import h5py"
   ]
  },
  {
   "cell_type": "code",
   "execution_count": 2,
   "id": "a2efd57f",
   "metadata": {},
   "outputs": [],
   "source": [
    "# no top and right spines in all plots\n",
    "mpl.rcParams['axes.spines.right'] = False\n",
    "mpl.rcParams['axes.spines.top'] = False"
   ]
  },
  {
   "cell_type": "code",
   "execution_count": 3,
   "id": "75d558bd",
   "metadata": {},
   "outputs": [],
   "source": [
    "mother_path = Path('D:/Multi-modal project/')"
   ]
  },
  {
   "cell_type": "markdown",
   "id": "c9d779bc",
   "metadata": {},
   "source": [
    "### Parameter setting"
   ]
  },
  {
   "cell_type": "code",
   "execution_count": 6,
   "id": "80036cec",
   "metadata": {},
   "outputs": [],
   "source": [
    "num_iter = 10\n",
    "\n",
    "gauss_sigma = 2\n",
    "\n",
    "# colors for multimodal, vis-only, aud-only conditions\n",
    "color = ['mediumorchid','cornflowerblue','lightcoral','gray']\n",
    "color2 = ['cyan','magenta','brown']\n",
    "linestyle = ['-',':']\n",
    "\n",
    "today = str(date.today())"
   ]
  },
  {
   "cell_type": "markdown",
   "id": "74ff06dc",
   "metadata": {},
   "source": [
    "### Data preparation"
   ]
  },
  {
   "cell_type": "code",
   "execution_count": 7,
   "id": "e42dba14",
   "metadata": {},
   "outputs": [],
   "source": [
    "save_path = mother_path /'analysis'/'result'/'3. Multiple regression for object-selectivity'/today\n",
    "cell_path = mother_path/'analysis'/'result'/'zFR export'/'13-Apr-2022 (5 trials)'\n",
    "\n",
    "os.makedirs(save_path,exist_ok=True)\n",
    "f = h5py.File(save_path/f'{today}_multiple_regression_result.hdf5','w')\n",
    "\n",
    "cell_list = os.listdir(cell_path)"
   ]
  },
  {
   "cell_type": "markdown",
   "id": "e0fbe3cd",
   "metadata": {},
   "source": [
    "# Data analysis"
   ]
  },
  {
   "cell_type": "code",
   "execution_count": 94,
   "id": "db3e8f0e",
   "metadata": {},
   "outputs": [],
   "source": [
    "def MLR(fr,x1,x2,shuffle):\n",
    "    \"\"\"\n",
    "    This function does multiple linear regression to estimate firing rates of each time bin\n",
    "    using stimulus conditions.\n",
    "    \"\"\"\n",
    "    # trial condition shuffling\n",
    "    if shuffle:\n",
    "        state = np.random.get_state()\n",
    "        x1 = np.random.permutation(x1)\n",
    "        np.random.set_state(state)\n",
    "        x2 = np.random.permutation(x2)\n",
    "    \n",
    "    lr1 = OLS(fr,add_constant(x1)).fit()\n",
    "    lr2 = OLS(fr,add_constant(x2)).fit()\n",
    "    \n",
    "    beta_coef, beta_coef_choice = lr1.params[1:,:], lr2.params[1:,:]\n",
    "    AIC, AIC_choice = lr1.aic, lr2.aic\n",
    "    BIC, BIC_choice = lr1.bic, lr2.bic\n",
    "        \n",
    "    return beta_coef, beta_coef_choice, AIC, AIC_choice, BIC, BIC_choice"
   ]
  },
  {
   "cell_type": "code",
   "execution_count": 9,
   "id": "2931bed1",
   "metadata": {},
   "outputs": [],
   "source": [
    "def plot_SDF_beta(df,linewidth,smooth,save,save_format):\n",
    "    \"\"\"\n",
    "    This function plots mean firing rate patterns of each stimulus condition\n",
    "    and beta coefficients for visual and auditory regressors in multiple linear regression.\n",
    "    \"\"\"\n",
    "    cond = [(df.Type=='Multimodal')&(df.RWD_Loc==boy_goal),\n",
    "            (df.Type=='Multimodal')&(df.RWD_Loc==egg_goal),\n",
    "            (df.Type=='Visual')&(df.RWD_Loc==boy_goal),\n",
    "            (df.Type=='Visual')&(df.RWD_Loc==egg_goal),\n",
    "            (df.Type=='Auditory')&(df.RWD_Loc==boy_goal),\n",
    "            (df.Type=='Auditory')&(df.RWD_Loc==egg_goal),\n",
    "            (df.Type=='Elemental')&(df.RWD_Loc==boy_goal),\n",
    "            (df.Type=='Elemental')&(df.RWD_Loc==egg_goal)]\n",
    "    \n",
    "    cell_full_name = cell_name.strip('.csv')\n",
    "    \n",
    "    fr_mean = np.zeros((len(cond),95))\n",
    "    fr_sem = np.zeros((len(cond),95))\n",
    "    for i in range(len(cond)):\n",
    "        fr_mean[i,:] = df[cond[i]].iloc[:,fr_id:fr_id+95].to_numpy().mean(axis=0)\n",
    "        fr_sem[i,:] = stats.sem(df[cond[i]].iloc[:,fr_id:fr_id+95].to_numpy())\n",
    "    \n",
    "    if smooth:\n",
    "        for i in range(len(cond)):\n",
    "            fr_mean[i,:] = gaussian_filter(fr_mean[i,:],sigma=gauss_sigma)\n",
    "            fr_sem[i,:] = gaussian_filter(fr_sem[i,:],sigma=gauss_sigma)\n",
    "            \n",
    "    y_max = np.ceil(np.max(fr_mean+fr_sem))\n",
    "    y_min = np.ceil(np.abs(np.min(fr_mean-fr_sem)))*-1\n",
    "    \n",
    "    fig,ax = plt.subplots(3,3,figsize=(15,10))\n",
    "    plt.suptitle(cell_full_name,fontsize=15);\n",
    "    x = np.arange(95)*10\n",
    "    \n",
    "    for i in range(len(cond)):\n",
    "        if i%2==0:\n",
    "            ls = linestyle[0]\n",
    "        else:\n",
    "            ls = linestyle[1]            \n",
    "        ax[0,0].plot(x,fr_mean[i,:],color=color[int(np.floor(i/2))],linewidth=linewidth,linestyle=ls)\n",
    "        ax[0,0].fill_between(x,fr_mean[i,:]-fr_sem[i,:],fr_mean[i,:]+fr_sem[i,:],color=color[int(np.floor(i/2))],alpha=0.2)\n",
    "        \n",
    "        ax[i%2+1,0].plot(x,fr_mean[i,:],color=color[int(np.floor(i/2))],linewidth=linewidth,linestyle=ls)\n",
    "        ax[i%2+1,0].fill_between(x,fr_mean[i,:]-fr_sem[i,:],fr_mean[i,:]+fr_sem[i,:],color=color[int(np.floor(i/2))],alpha=0.2)\n",
    "        \n",
    "        if i<6:\n",
    "            ax[int(np.floor(i/2)),1].plot(x,fr_mean[i,:],color=color[int(np.floor(i/2))],linewidth=linewidth,linestyle=ls)\n",
    "            ax[int(np.floor(i/2)),1].fill_between(x,fr_mean[i,:]-fr_sem[i,:],fr_mean[i,:]+fr_sem[i,:],color=color[int(np.floor(i/2))],alpha=0.2)\n",
    "    \n",
    "    # control stimulus SDF\n",
    "    for i in range(3):\n",
    "        ax[i,1].plot(x,fr_mean[6,:],color=color[3])\n",
    "        ax[i,1].plot(x,fr_mean[7,:],color=color[3],linestyle=':')\n",
    "            \n",
    "    for i in range(6):\n",
    "        ax[i%3,int(np.floor(i/3))].set_yticks(np.arange(y_min,y_max+0.1,1))\n",
    "        ax[i%3,int(np.floor(i/3))].set_ylabel('z-scored FR',fontsize=13)\n",
    "        ax[i%3,int(np.floor(i/3))].set_xlabel('Time (ms)',fontsize=13)  \n",
    "        ax[i%3,int(np.floor(i/3))].set_xticks([0,400,950])\n",
    "        ax[i%3,int(np.floor(i/3))].set_xlim([0,950])    \n",
    "    \n",
    "    # beta coefficient plot\n",
    "    t2 = ['Visual term','Auditory term','Interaction term']\n",
    "    c2 = ['blue','red','green']\n",
    "    for i in range(3):\n",
    "        ax[i,2].plot(x,beta_coef[:,i],color=c2[i],linestyle='-',linewidth=linewidth)\n",
    "        ax[i,2].plot(x,beta_coef[:,i+3],color=c2[i],linestyle=':',linewidth=linewidth)    \n",
    "            \n",
    "        ax[i,2].set_title(t2[i],fontsize=13)\n",
    "        ax[i,2].set_yticks(np.arange(-1,1.1,0.5))    \n",
    "        ax[i,2].set_ylabel('Beta coefficient',fontsize=13)\n",
    "        ax[i,2].set_xlabel('Time (ms)',fontsize=13)    \n",
    "        ax[i,2].set_xticks([0,400,950])\n",
    "        ax[i,2].set_xlim([0,950])\n",
    "    \n",
    "    plt.tight_layout()\n",
    "    \n",
    "    if save:          \n",
    "        fig_path = save_path/region\n",
    "        if os.path.exists(fig_path) is False:\n",
    "            os.makedirs(fig_path)    \n",
    "        if save_format=='png':\n",
    "            plt.savefig(fig_path/f'{cell_full_name}.png',dpi=100,facecolor='white')\n",
    "        elif save_format=='svg':\n",
    "            plt.savefig(fig_path/f'{cell_full_name}.svg')\n",
    "        plt.close()"
   ]
  },
  {
   "cell_type": "code",
   "execution_count": 10,
   "id": "126c58c9",
   "metadata": {},
   "outputs": [],
   "source": [
    "def save_result(f):\n",
    "    \"\"\"\n",
    "    This function saves data into HDF5 format.\n",
    "    \"\"\"\n",
    "    cell_group = f.create_group(str(cell_id))\n",
    "    beta_group = f.create_group(f'{cell_id}/beta_coef')\n",
    "    rs_group = f.create_group(f'{cell_id}/rsquared')\n",
    "    BIC_group = f.create_group(f'{cell_id}/BIC')\n",
    "    AIC_group = f.create_group(f'{cell_id}/AIC')\n",
    "    \n",
    "    beta_group.create_dataset('basic',data=beta_coef)\n",
    "    beta_group.create_dataset('extended',data=beta_coef_choice)\n",
    "    beta_group.create_dataset('basic_shuffle',data=beta_coef_shuffle)\n",
    "    beta_group.create_dataset('extended_shuffle',data=beta_coef_choice_shuffle)\n",
    "    \n",
    "    rs_group.create_dataset('basic',data=rsquare)\n",
    "    rs_group.create_dataset('extended',data=rsquare_choice)\n",
    "    rs_group.create_dataset('basic_shuffle',data=rsquare_shuffle)\n",
    "    rs_group.create_dataset('extended_shuffle',data=rsquare_choice_shuffle)\n",
    "    \n",
    "    BIC_group.create_dataset('basic',data=BIC)\n",
    "    BIC_group.create_dataset('extended',data=BIC_choice)\n",
    "    BIC_group.create_dataset('basic_shuffle',data=BIC_shuffle)\n",
    "    BIC_group.create_dataset('extended_shuffle',data=BIC_choice_shuffle)    \n",
    "    \n",
    "    AIC_group.create_dataset('basic',data=AIC)\n",
    "    AIC_group.create_dataset('extended',data=AIC_choice)\n",
    "    AIC_group.create_dataset('basic_shuffle',data=AIC_shuffle)\n",
    "    AIC_group.create_dataset('extended_shuffle',data=AIC_choice_shuffle)           \n",
    "    \n",
    "    cell_group.attrs['Rat'] = rat_id\n",
    "    cell_group.attrs['Region'] = region\n",
    "    cell_group.attrs['Session'] = session_id"
   ]
  },
  {
   "cell_type": "code",
   "execution_count": 11,
   "id": "e14b1238",
   "metadata": {},
   "outputs": [
    {
     "data": {
      "text/plain": [
       "'1030-640-2-2-Crossmodal-PER-superficial-(-4.56 mm)-TT13.6.csv'"
      ]
     },
     "execution_count": 11,
     "metadata": {},
     "output_type": "execute_result"
    }
   ],
   "source": [
    "cell_name = cell_list[249]\n",
    "cell_name"
   ]
  },
  {
   "cell_type": "code",
   "execution_count": 80,
   "id": "eb0cd98e",
   "metadata": {},
   "outputs": [],
   "source": [
    "    # get information about the cell\n",
    "    cell_info = cell_name.split('-')\n",
    "    cell_id, rat_id, session_id, region = int(cell_info[0]), cell_info[1], cell_info[2], cell_info[5]\n",
    "\n",
    "    # load cell data\n",
    "    df = pd.read_csv(cell_path/cell_name)\n",
    "    df.drop(df[df.Correctness==0].index,inplace=True)\n",
    "    df.reset_index(inplace=True,drop=True)\n",
    "    df[['Visual','Auditory']] = df[['Visual','Auditory']].fillna('no')\n",
    "    \n",
    "    boy_goal = df.loc[df['Visual']=='Boy','RWD_Loc'].values[0]\n",
    "    boy_aud = df.loc[df['RWD_Loc']==boy_goal,'Auditory'].values[0]\n",
    "    \n",
    "    egg_goal = df.loc[df['Visual']=='Egg','RWD_Loc'].values[0]\n",
    "    egg_aud = df.loc[df['RWD_Loc']==egg_goal,'Auditory'].values[0]  \n",
    "    \n",
    "    df['Boy-V'] = (df['Visual'] == 'Boy').astype(int)\n",
    "    df['Boy-A'] = (df['Auditory'] == boy_aud).astype(int)\n",
    "    df['Egg-V'] = (df['Visual'] == 'Egg').astype(int)\n",
    "    df['Egg-A'] = (df['Auditory'] == egg_aud).astype(int)\n",
    "    \n",
    "    df['Boy-int'] = df['Boy-V']*df['Boy-A']\n",
    "    df['Egg-int'] = df['Egg-V']*df['Egg-A']\n",
    "    \n",
    "    df['Choice'] = (df['RWD_Loc']==boy_goal).astype(int) \n",
    "    \n",
    "    fr_id = df.columns.get_loc('Var10')  # get the index of the first firing rate column\n",
    "    fr = df.iloc[:,fr_id:fr_id+95].to_numpy()    # get firing rate data into array\n",
    "    \n",
    "    x1 = df[['Boy-V','Boy-A','Boy-int','Egg-V','Egg-A','Egg-int']].to_numpy()\n",
    "    x2 = df[['Boy-V','Boy-A','Boy-int','Egg-V','Egg-A','Egg-int','Choice']].to_numpy()"
   ]
  },
  {
   "cell_type": "code",
   "execution_count": 95,
   "id": "df48096a",
   "metadata": {},
   "outputs": [],
   "source": [
    "result = MLR(fr,x1,x2,0)"
   ]
  },
  {
   "cell_type": "code",
   "execution_count": 89,
   "id": "69f92f16",
   "metadata": {},
   "outputs": [],
   "source": [
    "shuffle_result = Parallel(n_jobs=-1)(delayed(MLR)(fr,x1,x2,1) for i in range(num_iter))"
   ]
  },
  {
   "cell_type": "code",
   "execution_count": 92,
   "id": "9a84eb01",
   "metadata": {},
   "outputs": [],
   "source": [
    "    beta_coef_shuffle = np.array([r[0] for r in shuffle_result])\n",
    "    beta_coef_choice_shuffle = np.array([r[1] for r in shuffle_result])\n",
    "    \n",
    "    AIC_shuffle = np.array([r[2] for r in shuffle_result])\n",
    "    AIC_choice_shuffle = np.array([r[3] for r in shuffle_result])  \n",
    "    \n",
    "    BIC_shuffle = np.array([r[4] for r in shuffle_result])\n",
    "    BIC_choice_shuffle = np.array([r[5] for r in shuffle_result])"
   ]
  },
  {
   "cell_type": "code",
   "execution_count": 118,
   "id": "1af5ec46",
   "metadata": {},
   "outputs": [],
   "source": [
    "lr1 = OLS(fr[:,0],add_constant(x1)).fit()"
   ]
  },
  {
   "cell_type": "code",
   "execution_count": 120,
   "id": "5f57ef61",
   "metadata": {},
   "outputs": [
    {
     "data": {
      "text/plain": [
       "array([0.01151055, 0.37030125, 0.12144183, 0.40654456, 0.61361029,\n",
       "       0.48813019, 0.57275344])"
      ]
     },
     "execution_count": 120,
     "metadata": {},
     "output_type": "execute_result"
    }
   ],
   "source": [
    "lr1.pvalues"
   ]
  },
  {
   "cell_type": "code",
   "execution_count": 107,
   "id": "50ac3ce0",
   "metadata": {},
   "outputs": [
    {
     "data": {
      "text/plain": [
       "(189, 6)"
      ]
     },
     "execution_count": 107,
     "metadata": {},
     "output_type": "execute_result"
    }
   ],
   "source": [
    "np.shape(x1)"
   ]
  },
  {
   "cell_type": "code",
   "execution_count": 106,
   "id": "914a106c",
   "metadata": {},
   "outputs": [
    {
     "ename": "ValueError",
     "evalue": "shapes (189,95) and (189,95) not aligned: 95 (dim 1) != 189 (dim 0)",
     "output_type": "error",
     "traceback": [
      "\u001b[1;31m---------------------------------------------------------------------------\u001b[0m",
      "\u001b[1;31mValueError\u001b[0m                                Traceback (most recent call last)",
      "Input \u001b[1;32mIn [106]\u001b[0m, in \u001b[0;36m<cell line: 1>\u001b[1;34m()\u001b[0m\n\u001b[1;32m----> 1\u001b[0m \u001b[43mlr1\u001b[49m\u001b[38;5;241;43m.\u001b[39;49m\u001b[43msummary\u001b[49m\u001b[43m(\u001b[49m\u001b[43m)\u001b[49m\n",
      "File \u001b[1;32m~\\anaconda3\\lib\\site-packages\\statsmodels\\regression\\linear_model.py:2723\u001b[0m, in \u001b[0;36mRegressionResults.summary\u001b[1;34m(self, yname, xname, title, alpha, slim)\u001b[0m\n\u001b[0;32m   2719\u001b[0m     top_left\u001b[38;5;241m.\u001b[39mappend((\u001b[38;5;124m'\u001b[39m\u001b[38;5;124mCovariance Type:\u001b[39m\u001b[38;5;124m'\u001b[39m, [\u001b[38;5;28mself\u001b[39m\u001b[38;5;241m.\u001b[39mcov_type]))\n\u001b[0;32m   2721\u001b[0m rsquared_type \u001b[38;5;241m=\u001b[39m \u001b[38;5;124m'\u001b[39m\u001b[38;5;124m'\u001b[39m \u001b[38;5;28;01mif\u001b[39;00m \u001b[38;5;28mself\u001b[39m\u001b[38;5;241m.\u001b[39mk_constant \u001b[38;5;28;01melse\u001b[39;00m \u001b[38;5;124m'\u001b[39m\u001b[38;5;124m (uncentered)\u001b[39m\u001b[38;5;124m'\u001b[39m\n\u001b[0;32m   2722\u001b[0m top_right \u001b[38;5;241m=\u001b[39m [(\u001b[38;5;124m'\u001b[39m\u001b[38;5;124mR-squared\u001b[39m\u001b[38;5;124m'\u001b[39m \u001b[38;5;241m+\u001b[39m rsquared_type \u001b[38;5;241m+\u001b[39m \u001b[38;5;124m'\u001b[39m\u001b[38;5;124m:\u001b[39m\u001b[38;5;124m'\u001b[39m,\n\u001b[1;32m-> 2723\u001b[0m               [\u001b[38;5;124m\"\u001b[39m\u001b[38;5;132;01m%#8.3f\u001b[39;00m\u001b[38;5;124m\"\u001b[39m \u001b[38;5;241m%\u001b[39m \u001b[38;5;28;43mself\u001b[39;49m\u001b[38;5;241;43m.\u001b[39;49m\u001b[43mrsquared\u001b[49m]),\n\u001b[0;32m   2724\u001b[0m              (\u001b[38;5;124m'\u001b[39m\u001b[38;5;124mAdj. R-squared\u001b[39m\u001b[38;5;124m'\u001b[39m \u001b[38;5;241m+\u001b[39m rsquared_type \u001b[38;5;241m+\u001b[39m \u001b[38;5;124m'\u001b[39m\u001b[38;5;124m:\u001b[39m\u001b[38;5;124m'\u001b[39m,\n\u001b[0;32m   2725\u001b[0m               [\u001b[38;5;124m\"\u001b[39m\u001b[38;5;132;01m%#8.3f\u001b[39;00m\u001b[38;5;124m\"\u001b[39m \u001b[38;5;241m%\u001b[39m \u001b[38;5;28mself\u001b[39m\u001b[38;5;241m.\u001b[39mrsquared_adj]),\n\u001b[0;32m   2726\u001b[0m              (\u001b[38;5;124m'\u001b[39m\u001b[38;5;124mF-statistic:\u001b[39m\u001b[38;5;124m'\u001b[39m, [\u001b[38;5;124m\"\u001b[39m\u001b[38;5;132;01m%#8.4g\u001b[39;00m\u001b[38;5;124m\"\u001b[39m \u001b[38;5;241m%\u001b[39m \u001b[38;5;28mself\u001b[39m\u001b[38;5;241m.\u001b[39mfvalue]),\n\u001b[0;32m   2727\u001b[0m              (\u001b[38;5;124m'\u001b[39m\u001b[38;5;124mProb (F-statistic):\u001b[39m\u001b[38;5;124m'\u001b[39m, [\u001b[38;5;124m\"\u001b[39m\u001b[38;5;132;01m%#6.3g\u001b[39;00m\u001b[38;5;124m\"\u001b[39m \u001b[38;5;241m%\u001b[39m \u001b[38;5;28mself\u001b[39m\u001b[38;5;241m.\u001b[39mf_pvalue]),\n\u001b[0;32m   2728\u001b[0m              (\u001b[38;5;124m'\u001b[39m\u001b[38;5;124mLog-Likelihood:\u001b[39m\u001b[38;5;124m'\u001b[39m, \u001b[38;5;28;01mNone\u001b[39;00m),\n\u001b[0;32m   2729\u001b[0m              (\u001b[38;5;124m'\u001b[39m\u001b[38;5;124mAIC:\u001b[39m\u001b[38;5;124m'\u001b[39m, [\u001b[38;5;124m\"\u001b[39m\u001b[38;5;132;01m%#8.4g\u001b[39;00m\u001b[38;5;124m\"\u001b[39m \u001b[38;5;241m%\u001b[39m \u001b[38;5;28mself\u001b[39m\u001b[38;5;241m.\u001b[39maic]),\n\u001b[0;32m   2730\u001b[0m              (\u001b[38;5;124m'\u001b[39m\u001b[38;5;124mBIC:\u001b[39m\u001b[38;5;124m'\u001b[39m, [\u001b[38;5;124m\"\u001b[39m\u001b[38;5;132;01m%#8.4g\u001b[39;00m\u001b[38;5;124m\"\u001b[39m \u001b[38;5;241m%\u001b[39m \u001b[38;5;28mself\u001b[39m\u001b[38;5;241m.\u001b[39mbic])\n\u001b[0;32m   2731\u001b[0m              ]\n\u001b[0;32m   2733\u001b[0m \u001b[38;5;28;01mif\u001b[39;00m slim:\n\u001b[0;32m   2734\u001b[0m     slimlist \u001b[38;5;241m=\u001b[39m [\u001b[38;5;124m'\u001b[39m\u001b[38;5;124mDep. Variable:\u001b[39m\u001b[38;5;124m'\u001b[39m, \u001b[38;5;124m'\u001b[39m\u001b[38;5;124mModel:\u001b[39m\u001b[38;5;124m'\u001b[39m, \u001b[38;5;124m'\u001b[39m\u001b[38;5;124mNo. Observations:\u001b[39m\u001b[38;5;124m'\u001b[39m,\n\u001b[0;32m   2735\u001b[0m                 \u001b[38;5;124m'\u001b[39m\u001b[38;5;124mCovariance Type:\u001b[39m\u001b[38;5;124m'\u001b[39m, \u001b[38;5;124m'\u001b[39m\u001b[38;5;124mR-squared:\u001b[39m\u001b[38;5;124m'\u001b[39m, \u001b[38;5;124m'\u001b[39m\u001b[38;5;124mAdj. R-squared:\u001b[39m\u001b[38;5;124m'\u001b[39m,\n\u001b[0;32m   2736\u001b[0m                 \u001b[38;5;124m'\u001b[39m\u001b[38;5;124mF-statistic:\u001b[39m\u001b[38;5;124m'\u001b[39m, \u001b[38;5;124m'\u001b[39m\u001b[38;5;124mProb (F-statistic):\u001b[39m\u001b[38;5;124m'\u001b[39m]\n",
      "File \u001b[1;32m~\\anaconda3\\lib\\site-packages\\pandas\\_libs\\properties.pyx:37\u001b[0m, in \u001b[0;36mpandas._libs.properties.CachedProperty.__get__\u001b[1;34m()\u001b[0m\n",
      "File \u001b[1;32m~\\anaconda3\\lib\\site-packages\\statsmodels\\regression\\linear_model.py:1736\u001b[0m, in \u001b[0;36mRegressionResults.rsquared\u001b[1;34m(self)\u001b[0m\n\u001b[0;32m   1728\u001b[0m \u001b[38;5;124;03m\"\"\"\u001b[39;00m\n\u001b[0;32m   1729\u001b[0m \u001b[38;5;124;03mR-squared of the model.\u001b[39;00m\n\u001b[0;32m   1730\u001b[0m \n\u001b[1;32m   (...)\u001b[0m\n\u001b[0;32m   1733\u001b[0m \u001b[38;5;124;03momitted.\u001b[39;00m\n\u001b[0;32m   1734\u001b[0m \u001b[38;5;124;03m\"\"\"\u001b[39;00m\n\u001b[0;32m   1735\u001b[0m \u001b[38;5;28;01mif\u001b[39;00m \u001b[38;5;28mself\u001b[39m\u001b[38;5;241m.\u001b[39mk_constant:\n\u001b[1;32m-> 1736\u001b[0m     \u001b[38;5;28;01mreturn\u001b[39;00m \u001b[38;5;241m1\u001b[39m \u001b[38;5;241m-\u001b[39m \u001b[38;5;28;43mself\u001b[39;49m\u001b[38;5;241;43m.\u001b[39;49m\u001b[43mssr\u001b[49m\u001b[38;5;241m/\u001b[39m\u001b[38;5;28mself\u001b[39m\u001b[38;5;241m.\u001b[39mcentered_tss\n\u001b[0;32m   1737\u001b[0m \u001b[38;5;28;01melse\u001b[39;00m:\n\u001b[0;32m   1738\u001b[0m     \u001b[38;5;28;01mreturn\u001b[39;00m \u001b[38;5;241m1\u001b[39m \u001b[38;5;241m-\u001b[39m \u001b[38;5;28mself\u001b[39m\u001b[38;5;241m.\u001b[39mssr\u001b[38;5;241m/\u001b[39m\u001b[38;5;28mself\u001b[39m\u001b[38;5;241m.\u001b[39muncentered_tss\n",
      "File \u001b[1;32m~\\anaconda3\\lib\\site-packages\\pandas\\_libs\\properties.pyx:37\u001b[0m, in \u001b[0;36mpandas._libs.properties.CachedProperty.__get__\u001b[1;34m()\u001b[0m\n",
      "File \u001b[1;32m~\\anaconda3\\lib\\site-packages\\statsmodels\\regression\\linear_model.py:1677\u001b[0m, in \u001b[0;36mRegressionResults.ssr\u001b[1;34m(self)\u001b[0m\n\u001b[0;32m   1675\u001b[0m \u001b[38;5;124;03m\"\"\"Sum of squared (whitened) residuals.\"\"\"\u001b[39;00m\n\u001b[0;32m   1676\u001b[0m wresid \u001b[38;5;241m=\u001b[39m \u001b[38;5;28mself\u001b[39m\u001b[38;5;241m.\u001b[39mwresid\n\u001b[1;32m-> 1677\u001b[0m \u001b[38;5;28;01mreturn\u001b[39;00m \u001b[43mnp\u001b[49m\u001b[38;5;241;43m.\u001b[39;49m\u001b[43mdot\u001b[49m\u001b[43m(\u001b[49m\u001b[43mwresid\u001b[49m\u001b[43m,\u001b[49m\u001b[43m \u001b[49m\u001b[43mwresid\u001b[49m\u001b[43m)\u001b[49m\n",
      "File \u001b[1;32m<__array_function__ internals>:5\u001b[0m, in \u001b[0;36mdot\u001b[1;34m(*args, **kwargs)\u001b[0m\n",
      "\u001b[1;31mValueError\u001b[0m: shapes (189,95) and (189,95) not aligned: 95 (dim 1) != 189 (dim 0)"
     ]
    }
   ],
   "source": [
    "lr1.summary()"
   ]
  },
  {
   "cell_type": "code",
   "execution_count": 104,
   "id": "7a800433",
   "metadata": {},
   "outputs": [
    {
     "name": "stdout",
     "output_type": "stream",
     "text": [
      "0003-600-1-1-Crossmodal-TeV-deep-(-7.32 mm)-TT4.1 ////// 1/888 completed  //////  0 min 4.65 sec\n",
      "0004-600-1-1-Crossmodal-TeV-deep-(-7.32 mm)-TT4.2 ////// 2/888 completed  //////  0 min 4.90 sec\n",
      "0005-600-1-1-Crossmodal-TeV-deep-(-7.32 mm)-TT4.3 ////// 3/888 completed  //////  0 min 4.74 sec\n",
      "0006-600-1-1-Crossmodal-PER-superficial-(-7.2 mm)-TT5.1 ////// 4/888 completed  //////  0 min 4.66 sec\n",
      "0007-600-1-1-Crossmodal-PER-superficial-(-7.2 mm)-TT5.2 ////// 5/888 completed  //////  0 min 4.54 sec\n",
      "0008-600-1-1-Crossmodal-PER-superficial-(-7.2 mm)-TT5.3 ////// 6/888 completed  //////  0 min 5.30 sec\n"
     ]
    },
    {
     "ename": "KeyboardInterrupt",
     "evalue": "",
     "output_type": "error",
     "traceback": [
      "\u001b[1;31m---------------------------------------------------------------------------\u001b[0m",
      "\u001b[1;31mKeyboardInterrupt\u001b[0m                         Traceback (most recent call last)",
      "File \u001b[1;32m<timed exec>:62\u001b[0m, in \u001b[0;36m<module>\u001b[1;34m\u001b[0m\n",
      "File \u001b[1;32m~\\anaconda3\\lib\\site-packages\\joblib\\parallel.py:1056\u001b[0m, in \u001b[0;36mParallel.__call__\u001b[1;34m(self, iterable)\u001b[0m\n\u001b[0;32m   1053\u001b[0m     \u001b[38;5;28mself\u001b[39m\u001b[38;5;241m.\u001b[39m_iterating \u001b[38;5;241m=\u001b[39m \u001b[38;5;28;01mFalse\u001b[39;00m\n\u001b[0;32m   1055\u001b[0m \u001b[38;5;28;01mwith\u001b[39;00m \u001b[38;5;28mself\u001b[39m\u001b[38;5;241m.\u001b[39m_backend\u001b[38;5;241m.\u001b[39mretrieval_context():\n\u001b[1;32m-> 1056\u001b[0m     \u001b[38;5;28;43mself\u001b[39;49m\u001b[38;5;241;43m.\u001b[39;49m\u001b[43mretrieve\u001b[49m\u001b[43m(\u001b[49m\u001b[43m)\u001b[49m\n\u001b[0;32m   1057\u001b[0m \u001b[38;5;66;03m# Make sure that we get a last message telling us we are done\u001b[39;00m\n\u001b[0;32m   1058\u001b[0m elapsed_time \u001b[38;5;241m=\u001b[39m time\u001b[38;5;241m.\u001b[39mtime() \u001b[38;5;241m-\u001b[39m \u001b[38;5;28mself\u001b[39m\u001b[38;5;241m.\u001b[39m_start_time\n",
      "File \u001b[1;32m~\\anaconda3\\lib\\site-packages\\joblib\\parallel.py:935\u001b[0m, in \u001b[0;36mParallel.retrieve\u001b[1;34m(self)\u001b[0m\n\u001b[0;32m    933\u001b[0m \u001b[38;5;28;01mtry\u001b[39;00m:\n\u001b[0;32m    934\u001b[0m     \u001b[38;5;28;01mif\u001b[39;00m \u001b[38;5;28mgetattr\u001b[39m(\u001b[38;5;28mself\u001b[39m\u001b[38;5;241m.\u001b[39m_backend, \u001b[38;5;124m'\u001b[39m\u001b[38;5;124msupports_timeout\u001b[39m\u001b[38;5;124m'\u001b[39m, \u001b[38;5;28;01mFalse\u001b[39;00m):\n\u001b[1;32m--> 935\u001b[0m         \u001b[38;5;28mself\u001b[39m\u001b[38;5;241m.\u001b[39m_output\u001b[38;5;241m.\u001b[39mextend(\u001b[43mjob\u001b[49m\u001b[38;5;241;43m.\u001b[39;49m\u001b[43mget\u001b[49m\u001b[43m(\u001b[49m\u001b[43mtimeout\u001b[49m\u001b[38;5;241;43m=\u001b[39;49m\u001b[38;5;28;43mself\u001b[39;49m\u001b[38;5;241;43m.\u001b[39;49m\u001b[43mtimeout\u001b[49m\u001b[43m)\u001b[49m)\n\u001b[0;32m    936\u001b[0m     \u001b[38;5;28;01melse\u001b[39;00m:\n\u001b[0;32m    937\u001b[0m         \u001b[38;5;28mself\u001b[39m\u001b[38;5;241m.\u001b[39m_output\u001b[38;5;241m.\u001b[39mextend(job\u001b[38;5;241m.\u001b[39mget())\n",
      "File \u001b[1;32m~\\anaconda3\\lib\\site-packages\\joblib\\_parallel_backends.py:542\u001b[0m, in \u001b[0;36mLokyBackend.wrap_future_result\u001b[1;34m(future, timeout)\u001b[0m\n\u001b[0;32m    539\u001b[0m \u001b[38;5;124;03m\"\"\"Wrapper for Future.result to implement the same behaviour as\u001b[39;00m\n\u001b[0;32m    540\u001b[0m \u001b[38;5;124;03mAsyncResults.get from multiprocessing.\"\"\"\u001b[39;00m\n\u001b[0;32m    541\u001b[0m \u001b[38;5;28;01mtry\u001b[39;00m:\n\u001b[1;32m--> 542\u001b[0m     \u001b[38;5;28;01mreturn\u001b[39;00m \u001b[43mfuture\u001b[49m\u001b[38;5;241;43m.\u001b[39;49m\u001b[43mresult\u001b[49m\u001b[43m(\u001b[49m\u001b[43mtimeout\u001b[49m\u001b[38;5;241;43m=\u001b[39;49m\u001b[43mtimeout\u001b[49m\u001b[43m)\u001b[49m\n\u001b[0;32m    543\u001b[0m \u001b[38;5;28;01mexcept\u001b[39;00m CfTimeoutError \u001b[38;5;28;01mas\u001b[39;00m e:\n\u001b[0;32m    544\u001b[0m     \u001b[38;5;28;01mraise\u001b[39;00m \u001b[38;5;167;01mTimeoutError\u001b[39;00m \u001b[38;5;28;01mfrom\u001b[39;00m \u001b[38;5;21;01me\u001b[39;00m\n",
      "File \u001b[1;32m~\\anaconda3\\lib\\concurrent\\futures\\_base.py:441\u001b[0m, in \u001b[0;36mFuture.result\u001b[1;34m(self, timeout)\u001b[0m\n\u001b[0;32m    438\u001b[0m \u001b[38;5;28;01melif\u001b[39;00m \u001b[38;5;28mself\u001b[39m\u001b[38;5;241m.\u001b[39m_state \u001b[38;5;241m==\u001b[39m FINISHED:\n\u001b[0;32m    439\u001b[0m     \u001b[38;5;28;01mreturn\u001b[39;00m \u001b[38;5;28mself\u001b[39m\u001b[38;5;241m.\u001b[39m__get_result()\n\u001b[1;32m--> 441\u001b[0m \u001b[38;5;28;43mself\u001b[39;49m\u001b[38;5;241;43m.\u001b[39;49m\u001b[43m_condition\u001b[49m\u001b[38;5;241;43m.\u001b[39;49m\u001b[43mwait\u001b[49m\u001b[43m(\u001b[49m\u001b[43mtimeout\u001b[49m\u001b[43m)\u001b[49m\n\u001b[0;32m    443\u001b[0m \u001b[38;5;28;01mif\u001b[39;00m \u001b[38;5;28mself\u001b[39m\u001b[38;5;241m.\u001b[39m_state \u001b[38;5;129;01min\u001b[39;00m [CANCELLED, CANCELLED_AND_NOTIFIED]:\n\u001b[0;32m    444\u001b[0m     \u001b[38;5;28;01mraise\u001b[39;00m CancelledError()\n",
      "File \u001b[1;32m~\\anaconda3\\lib\\threading.py:312\u001b[0m, in \u001b[0;36mCondition.wait\u001b[1;34m(self, timeout)\u001b[0m\n\u001b[0;32m    310\u001b[0m \u001b[38;5;28;01mtry\u001b[39;00m:    \u001b[38;5;66;03m# restore state no matter what (e.g., KeyboardInterrupt)\u001b[39;00m\n\u001b[0;32m    311\u001b[0m     \u001b[38;5;28;01mif\u001b[39;00m timeout \u001b[38;5;129;01mis\u001b[39;00m \u001b[38;5;28;01mNone\u001b[39;00m:\n\u001b[1;32m--> 312\u001b[0m         \u001b[43mwaiter\u001b[49m\u001b[38;5;241;43m.\u001b[39;49m\u001b[43macquire\u001b[49m\u001b[43m(\u001b[49m\u001b[43m)\u001b[49m\n\u001b[0;32m    313\u001b[0m         gotit \u001b[38;5;241m=\u001b[39m \u001b[38;5;28;01mTrue\u001b[39;00m\n\u001b[0;32m    314\u001b[0m     \u001b[38;5;28;01melse\u001b[39;00m:\n",
      "\u001b[1;31mKeyboardInterrupt\u001b[0m: "
     ]
    }
   ],
   "source": [
    "%%time\n",
    "for cell_run,cell_name in enumerate(cell_list):\n",
    "    loop_start = time.time()\n",
    "    # get information about the cell\n",
    "    cell_info = cell_name.split('-')\n",
    "    cell_id, rat_id, session_id, region = int(cell_info[0]), cell_info[1], cell_info[2], cell_info[5]\n",
    "    \n",
    "    if (rat_id=='654')&(session_id=='4'):\n",
    "        continue\n",
    "    \n",
    "    # load cell data\n",
    "    df = pd.read_csv(cell_path/cell_name)\n",
    "    df.drop(df[df.Correctness==0].index,inplace=True)\n",
    "    df.reset_index(inplace=True,drop=True)\n",
    "    df[['Visual','Auditory']] = df[['Visual','Auditory']].fillna('no')\n",
    "    \n",
    "    boy_goal = df.loc[df['Visual']=='Boy','RWD_Loc'].values[0]\n",
    "    boy_aud = df.loc[df['RWD_Loc']==boy_goal,'Auditory'].values[0]\n",
    "    \n",
    "    egg_goal = df.loc[df['Visual']=='Egg','RWD_Loc'].values[0]\n",
    "    egg_aud = df.loc[df['RWD_Loc']==egg_goal,'Auditory'].values[0]  \n",
    "    \n",
    "    df['Boy-V'] = (df['Visual'] == 'Boy').astype(int)\n",
    "    df['Boy-A'] = (df['Auditory'] == boy_aud).astype(int)\n",
    "    df['Egg-V'] = (df['Visual'] == 'Egg').astype(int)\n",
    "    df['Egg-A'] = (df['Auditory'] == egg_aud).astype(int)\n",
    "    \n",
    "    df['Boy-int'] = df['Boy-V']*df['Boy-A']\n",
    "    df['Egg-int'] = df['Egg-V']*df['Egg-A']\n",
    "    \n",
    "    df['Choice'] = (df['RWD_Loc']==boy_goal).astype(int) \n",
    "    \n",
    "    fr_id = df.columns.get_loc('Var10')  # get the index of the first firing rate column\n",
    "    fr = df.iloc[:,fr_id:fr_id+95].to_numpy()    # get firing rate data into array\n",
    "    \n",
    "    x1 = df[['Boy-V','Boy-A','Boy-int','Egg-V','Egg-A','Egg-int']].to_numpy()\n",
    "    x2 = df[['Boy-V','Boy-A','Boy-int','Egg-V','Egg-A','Egg-int','Choice']].to_numpy()\n",
    "\n",
    "    # multiple linear regression\n",
    "    result = MLR(fr,x1,x2,0)    \n",
    "    shuffle_result = Parallel(n_jobs=-1)(delayed(shuffle_and_MLR)(df) for i in range(num_iter))\n",
    "\n",
    "    # organize shuffle result\n",
    "    beta_coef_shuffle = np.array([r[0] for r in shuffle_result])\n",
    "    beta_coef_choice_shuffle = np.array([r[1] for r in shuffle_result])\n",
    "    \n",
    "    AIC_shuffle = np.array([r[2] for r in shuffle_result])\n",
    "    AIC_choice_shuffle = np.array([r[3] for r in shuffle_result])  \n",
    "    \n",
    "    BIC_shuffle = np.array([r[4] for r in shuffle_result])\n",
    "    BIC_choice_shuffle = np.array([r[5] for r in shuffle_result]) \n",
    "\n",
    "    plot_SDF_beta(df,2,1,1,'png')\n",
    "    \n",
    "    # save results into HDF5 format\n",
    "    save_result(f)\n",
    "            \n",
    "    loop_end = time.time()\n",
    "    loop_time = divmod(loop_end-loop_start,60)\n",
    "    print(cell_name.strip('.csv'), f'////// {cell_run+1}/{len(cell_list)} completed  //////  {int(loop_time[0])} min {loop_time[1]:.2f} sec')"
   ]
  },
  {
   "cell_type": "code",
   "execution_count": 105,
   "id": "3f17ccda",
   "metadata": {},
   "outputs": [
    {
     "name": "stdout",
     "output_type": "stream",
     "text": [
      "END\n"
     ]
    }
   ],
   "source": [
    "f.close()\n",
    "print('END')"
   ]
  }
 ],
 "metadata": {
  "kernelspec": {
   "display_name": "Python 3 (ipykernel)",
   "language": "python",
   "name": "python3"
  },
  "language_info": {
   "codemirror_mode": {
    "name": "ipython",
    "version": 3
   },
   "file_extension": ".py",
   "mimetype": "text/x-python",
   "name": "python",
   "nbconvert_exporter": "python",
   "pygments_lexer": "ipython3",
   "version": "3.9.12"
  }
 },
 "nbformat": 4,
 "nbformat_minor": 5
}
