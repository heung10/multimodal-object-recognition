{
 "cells": [
  {
   "cell_type": "markdown",
   "id": "c2d4f156",
   "metadata": {},
   "source": [
    "## SVM hyperparameter optimization\n",
    "Hyperparameter (C) optimization for linear support vector machine"
   ]
  },
  {
   "cell_type": "code",
   "execution_count": 1,
   "id": "6ef091ff",
   "metadata": {},
   "outputs": [],
   "source": [
    "import os\n",
    "from pathlib import Path\n",
    "import numpy as np\n",
    "import pandas as pd\n",
    "\n",
    "from scipy import stats\n",
    "import statsmodels.api as sm\n",
    "\n",
    "import pingouin as pg\n",
    "\n",
    "import matplotlib as mpl\n",
    "import matplotlib.pyplot as plt  \n",
    "\n",
    "from datetime import date\n",
    "import time\n",
    "\n",
    "from joblib import Parallel, delayed\n",
    "\n",
    "import h5py"
   ]
  },
  {
   "cell_type": "code",
   "execution_count": 2,
   "id": "a2efd57f",
   "metadata": {},
   "outputs": [],
   "source": [
    "# no top and right spines in all plots\n",
    "mpl.rcParams['axes.spines.right'] = False\n",
    "mpl.rcParams['axes.spines.top'] = False"
   ]
  },
  {
   "cell_type": "code",
   "execution_count": 3,
   "id": "75d558bd",
   "metadata": {},
   "outputs": [],
   "source": [
    "mother_path = Path('D:/Multi-modal project/')\n",
    "save_path = mother_path / 'analysis' / 'result' / '7. Population decoding'\n",
    "os.makedirs(save_path,exist_ok=True)\n",
    "\n",
    "fig_path = mother_path / 'analysis' / 'result' / 'figures'"
   ]
  },
  {
   "cell_type": "markdown",
   "id": "c9d779bc",
   "metadata": {},
   "source": [
    "### Parameter setting"
   ]
  },
  {
   "cell_type": "code",
   "execution_count": 4,
   "id": "80036cec",
   "metadata": {},
   "outputs": [],
   "source": [
    "# colors for multimodal, vis-only, aud-only conditions\n",
    "color = ['tab:purple','tab:blue','tab:red','tab:green']\n",
    "color2 = ['cyan','magenta','gray']\n",
    "linestyle = ['-',':']\n",
    "\n",
    "today = str(date.today())"
   ]
  },
  {
   "cell_type": "markdown",
   "id": "74ff06dc",
   "metadata": {},
   "source": [
    "### Data preparation"
   ]
  },
  {
   "cell_type": "code",
   "execution_count": 5,
   "id": "e42dba14",
   "metadata": {},
   "outputs": [],
   "source": [
    "cell_path = mother_path/'analysis'/'result'/'zFR export'/'13-Jun-2023'\n",
    "cell_list = os.listdir(cell_path)\n",
    "\n",
    "# load hdf5 files containing shuffled results\n",
    "data_path = mother_path /'analysis'/'result'/'3. ANOVA'/'2023-07-10'\n",
    "data2_path = mother_path /'analysis'/'result'/'3.1 Multiple linear regression'/'2023-07-10'\n",
    "f = h5py.File(data_path/'2023-07-10_ANOVA_result.hdf5','r')\n",
    "f2 = h5py.File(data2_path/'2023-07-10_multiple_regression_result.hdf5','r')"
   ]
  },
  {
   "cell_type": "code",
   "execution_count": 6,
   "id": "f0d3e2ba",
   "metadata": {},
   "outputs": [],
   "source": [
    "def h5_to_df(f):\n",
    "    keys = list(f.keys())\n",
    "    attributes = {}\n",
    "    \n",
    "    for key in keys:\n",
    "        attributes[key] = dict(f[key].attrs.items())\n",
    "    \n",
    "    df = pd.DataFrame.from_dict(attributes, orient='index')\n",
    "    df.index.name = 'key'\n",
    "    df = df.reset_index()\n",
    "    \n",
    "    return df"
   ]
  },
  {
   "cell_type": "code",
   "execution_count": 7,
   "id": "906bba68",
   "metadata": {},
   "outputs": [],
   "source": [
    "df = h5_to_df(f)\n",
    "df = df[df['region']=='PER']\n",
    "df.reset_index(inplace=True, drop=True)\n",
    "\n",
    "for key in df['key']:\n",
    "    if df.loc[df['key']==key, 'object cell'].item() == 0:\n",
    "        df.loc[df['key']==key, 'category'] = 'none'\n",
    "    else:\n",
    "        if f2[key].attrs['response cell'] == 0:\n",
    "            df.loc[df['key']==key, 'category'] = 'object'\n",
    "        else:\n",
    "            df.loc[df['key']==key, 'category'] = 'response'"
   ]
  },
  {
   "cell_type": "markdown",
   "id": "e1a56520",
   "metadata": {},
   "source": [
    "### Check the number of neurons available for population analysis"
   ]
  },
  {
   "cell_type": "code",
   "execution_count": 8,
   "id": "c6f6aeaf",
   "metadata": {},
   "outputs": [
    {
     "name": "stdout",
     "output_type": "stream",
     "text": [
      "['600' '602' '640' '647' '654' '679' '699']\n"
     ]
    }
   ],
   "source": [
    "rat_list = np.sort(df['rat'].unique())\n",
    "print(rat_list)"
   ]
  },
  {
   "cell_type": "code",
   "execution_count": 9,
   "id": "ca52d6d8",
   "metadata": {},
   "outputs": [
    {
     "name": "stdout",
     "output_type": "stream",
     "text": [
      "===== Object cells + None =====\n",
      "[[ 8. 11.  3. 11.  7.  0.  0.]\n",
      " [26. 19. 28. 16. 16.  0.  0.]\n",
      " [10. 13.  9.  4.  5.  0.  0.]\n",
      " [ 0.  0.  0. 15. 10.  8.  4.]\n",
      " [ 7.  4.  0.  0.  1.  0.  0.]\n",
      " [ 0.  2.  2.  3.  0.  1.  0.]\n",
      " [ 9.  9. 16. 15. 17.  7.  0.]]\n"
     ]
    }
   ],
   "source": [
    "# none cell + object cell (response cell excluded)\n",
    "cell_array = np.zeros((len(rat_list),int(df['session'].max())))\n",
    "for i in range(len(df)):\n",
    "    rat = df.loc[i, 'rat']\n",
    "    rat_id = np.where(rat_list==rat)[0][0]\n",
    "    ss = int(df.loc[i, 'session'])\n",
    "\n",
    "    if df.loc[i,'category'] != 'response':\n",
    "        cell_array[rat_id, ss-1] += 1\n",
    "\n",
    "print('===== Object cells + None =====')\n",
    "print(cell_array)"
   ]
  },
  {
   "cell_type": "code",
   "execution_count": 10,
   "id": "e22bb33a",
   "metadata": {},
   "outputs": [
    {
     "name": "stdout",
     "output_type": "stream",
     "text": [
      "====== Only object cells ======\n",
      "[[ 5.  6.  2.  4.  5.  0.  0.]\n",
      " [15.  6. 10.  5.  8.  0.  0.]\n",
      " [ 7.  9.  4.  3.  3.  0.  0.]\n",
      " [ 0.  0.  0. 10.  4.  4.  4.]\n",
      " [ 3.  2.  0.  0.  1.  0.  0.]\n",
      " [ 0.  1.  0.  1.  0.  0.  0.]\n",
      " [ 4.  3.  6.  3.  8.  3.  0.]]\n"
     ]
    }
   ],
   "source": [
    "# only object cell (response cell, none cell excluded)\n",
    "cell_array = np.zeros((len(rat_list),int(df['session'].max())))\n",
    "for i in range(len(df)):\n",
    "    rat = df.loc[i, 'rat']\n",
    "    rat_id = np.where(rat_list==rat)[0][0]\n",
    "    ss = int(df.loc[i, 'session'])\n",
    "    \n",
    "    if df.loc[i,'category'] == 'object':\n",
    "        cell_array[rat_id, ss-1] += 1\n",
    "\n",
    "print('====== Only object cells ======')\n",
    "print(cell_array)"
   ]
  },
  {
   "cell_type": "code",
   "execution_count": 11,
   "id": "f6a7997b",
   "metadata": {},
   "outputs": [
    {
     "name": "stdout",
     "output_type": "stream",
     "text": [
      "LE600: 22\n",
      "LE602: 44\n",
      "LE640: 26\n",
      "LE647: 22\n",
      "LE654: 6\n",
      "LE679: 2\n",
      "LE699: 27\n"
     ]
    }
   ],
   "source": [
    "num_obj = np.sum(cell_array,axis=1)\n",
    "for i in range(len(rat_list)):\n",
    "    print(f'LE{rat_list[i]}: {int(num_obj[i])}')"
   ]
  },
  {
   "cell_type": "markdown",
   "id": "93d1dad1",
   "metadata": {},
   "source": [
    "---"
   ]
  },
  {
   "cell_type": "markdown",
   "id": "e201440f",
   "metadata": {},
   "source": [
    "## Support vector machine"
   ]
  },
  {
   "cell_type": "code",
   "execution_count": 12,
   "id": "48433d57",
   "metadata": {},
   "outputs": [],
   "source": [
    "from sklearn import svm\n",
    "from sklearn import metrics\n",
    "from sklearn.model_selection import StratifiedKFold\n",
    "from sklearn.model_selection import cross_val_score, cross_validate\n",
    "from sklearn.preprocessing import MinMaxScaler\n",
    "from sklearn.preprocessing import StandardScaler\n",
    "from sklearn.pipeline import Pipeline\n",
    "from sklearn.model_selection import GridSearchCV"
   ]
  },
  {
   "cell_type": "code",
   "execution_count": 50,
   "id": "5bf72879",
   "metadata": {},
   "outputs": [],
   "source": [
    "def subsample(df, rat, num_trial, bin_size, shuffle):\n",
    "    scaler = StandardScaler()\n",
    "    \n",
    "    num_bin = int(90/bin_size)\n",
    "    object_cell_list = df.loc[(df['rat']==rat)&(df['category']=='object'),'key'].to_numpy()\n",
    "    \n",
    "    # M by N array of subsampled firing rates\n",
    "    # M = stimulus condition * number of subsampled trials\n",
    "    # N = number of cells * number of time bins\n",
    "    X = np.zeros((6*num_trial, len(object_cell_list)*num_bin))\n",
    "    \n",
    "    for i,cell_key in enumerate(object_cell_list):\n",
    "    \n",
    "        # load trial-by-trial firing rate data of a cell\n",
    "        key = cell_key.zfill(4)\n",
    "        cell_filename = list(cell_path.glob(f'{key}*.csv'))\n",
    "        df_cell = pd.read_csv(cell_filename[0])\n",
    "        df_cell.drop(df_cell[df_cell.Correctness==0].index,inplace=True)\n",
    "        df_cell.reset_index(inplace=True,drop=True)\n",
    "        \n",
    "        # shuffling stimulus condition for permutation test\n",
    "        if shuffle:\n",
    "            cond_array = df_cell[['Type','RWD_Loc']].to_numpy()\n",
    "            shuffled_cond_array = np.random.permutation(cond_array)\n",
    "            df_cell[['Type','RWD_Loc']] = shuffled_cond_array\n",
    "        \n",
    "        # goal location (left or right) of each object condition\n",
    "        boy_goal = df_cell.loc[df_cell['Visual']=='Boy','RWD_Loc'].values[0]\n",
    "        egg_goal = df_cell.loc[df_cell['Visual']=='Egg','RWD_Loc'].values[0]\n",
    "\n",
    "        # stimulus condition (identity x modality)\n",
    "        cond = [(df_cell['Type']=='Multimodal')&(df_cell['RWD_Loc']==boy_goal),\n",
    "                (df_cell['Type']=='Visual')&(df_cell['RWD_Loc']==boy_goal),\n",
    "                (df_cell['Type']=='Auditory')&(df_cell['RWD_Loc']==boy_goal),\n",
    "                (df_cell['Type']=='Multimodal')&(df_cell['RWD_Loc']==egg_goal),\n",
    "                (df_cell['Type']=='Visual')&(df_cell['RWD_Loc']==egg_goal),\n",
    "                (df_cell['Type']=='Auditory')&(df_cell['RWD_Loc']==egg_goal)]\n",
    "    \n",
    "        fr_id = df_cell.columns.get_loc('Var10')  # get the index of the first firing rate column\n",
    "        FR = df_cell.iloc[:,fr_id:].to_numpy()    # convert firing rate data to numpy array\n",
    "    \n",
    "        # recalculate mean firing rates of each time bin\n",
    "        FR_bin = np.zeros((len(df_cell),num_bin))\n",
    "        for b in range(num_bin):\n",
    "            FR_bin[:,b] = FR[:,b*bin_size:(b+1)*bin_size].mean(axis=1)\n",
    "        \n",
    "        for c in range(len(cond)):\n",
    "            # subsample n trials from each stimulus condition\n",
    "            subsampled_trial = df_cell[cond[c]].sample(num_trial).index\n",
    "            # firing rates of subsampled trials\n",
    "            FR_sub = FR_bin[subsampled_trial,:]\n",
    "            # add subsampled firing rate data to the result array\n",
    "            X[num_trial*c:num_trial*(c+1), num_bin*i:num_bin*(i+1)] = FR_sub\n",
    "    \n",
    "    X_norm = scaler.fit_transform(X)\n",
    "        \n",
    "    return X_norm"
   ]
  },
  {
   "cell_type": "markdown",
   "id": "0a546e0e",
   "metadata": {},
   "source": [
    "### Hyperparameter optimization\n",
    "Using GridSearchCV, find the best C parameter in linear support vector machine"
   ]
  },
  {
   "cell_type": "code",
   "execution_count": 15,
   "id": "a6819f9d",
   "metadata": {},
   "outputs": [],
   "source": [
    "# pre-determined hyperparameter parameter list\n",
    "#params_grid = [{'kernel': ['rbf'], 'gamma': [1e-3, 1e-4],'C': [1, 10, 100, 1000]},\n",
    "#               {'kernel': ['linear'], 'C': [1e-5,1e-4,10e-3,10e-2,10e-1,1,10,100,1000,10000]}]\n",
    "params_grid = [{'kernel': ['linear'], 'C': [1e-8,1e-7,1e-6,1e-5,1e-4,10e-3,10e-2,10e-1,1]}]\n",
    "grid_search = GridSearchCV(svm.SVC(),params_grid,cv=5,scoring='accuracy')"
   ]
  },
  {
   "cell_type": "code",
   "execution_count": 16,
   "id": "3d0fb99f",
   "metadata": {},
   "outputs": [
    {
     "name": "stdout",
     "output_type": "stream",
     "text": [
      "LE600 completed /// Elapsed time: 5 min 4.32 sec\n",
      "LE602 completed /// Elapsed time: 9 min 13.74 sec\n",
      "LE640 completed /// Elapsed time: 6 min 51.70 sec\n",
      "LE647 completed /// Elapsed time: 6 min 7.45 sec\n",
      "LE699 completed /// Elapsed time: 6 min 44.82 sec\n",
      "Wall time: 34min 2s\n"
     ]
    }
   ],
   "source": [
    "%%time\n",
    "\n",
    "rat_list = ['600', '602', '640', '647', '699']\n",
    "\n",
    "num_iter = 1000\n",
    "Y = np.repeat(np.arange(6), 5)\n",
    "\n",
    "best_c = np.zeros((num_iter, len(rat_list)))\n",
    "best_score = np.zeros((num_iter, len(rat_list)))\n",
    "\n",
    "for i,rat in enumerate(rat_list):\n",
    "    loop_start = time.time()\n",
    "    for iter_run in range(num_iter):\n",
    "        X = subsample(df, rat, 5, 10)\n",
    "        grid_search.fit(X, Y)\n",
    "        best_c[iter_run,i] = grid_search.best_estimator_.C\n",
    "        best_score[iter_run,i] = grid_search.best_score_\n",
    "    loop_end = time.time()\n",
    "    loop_time = divmod(loop_end-loop_start,60)\n",
    "    print(f'LE{rat} completed /// Elapsed time: {int(loop_time[0])} min {loop_time[1]:.2f} sec')"
   ]
  },
  {
   "cell_type": "code",
   "execution_count": 33,
   "id": "bb267b75",
   "metadata": {},
   "outputs": [
    {
     "name": "stdout",
     "output_type": "stream",
     "text": [
      "----- LE600 result -----\n",
      "C=1e-08: 520\n",
      "C=1e-07: 0\n",
      "C=1e-06: 0\n",
      "C=1e-05: 0\n",
      "C=0.0001: 0\n",
      "C=0.01: 478\n",
      "C=0.1: 2\n",
      "C=1.0: 0\n",
      "C=1: 0\n",
      "===========================\n",
      "----- LE602 result -----\n",
      "C=1e-08: 440\n",
      "C=1e-07: 0\n",
      "C=1e-06: 0\n",
      "C=1e-05: 0\n",
      "C=0.0001: 0\n",
      "C=0.01: 560\n",
      "C=0.1: 0\n",
      "C=1.0: 0\n",
      "C=1: 0\n",
      "===========================\n",
      "----- LE640 result -----\n",
      "C=1e-08: 435\n",
      "C=1e-07: 0\n",
      "C=1e-06: 0\n",
      "C=1e-05: 0\n",
      "C=0.0001: 0\n",
      "C=0.01: 564\n",
      "C=0.1: 1\n",
      "C=1.0: 0\n",
      "C=1: 0\n",
      "===========================\n",
      "----- LE647 result -----\n",
      "C=1e-08: 459\n",
      "C=1e-07: 0\n",
      "C=1e-06: 0\n",
      "C=1e-05: 0\n",
      "C=0.0001: 0\n",
      "C=0.01: 507\n",
      "C=0.1: 34\n",
      "C=1.0: 0\n",
      "C=1: 0\n",
      "===========================\n",
      "----- LE699 result -----\n",
      "C=1e-08: 497\n",
      "C=1e-07: 0\n",
      "C=1e-06: 0\n",
      "C=1e-05: 0\n",
      "C=0.0001: 0\n",
      "C=0.01: 503\n",
      "C=0.1: 0\n",
      "C=1.0: 0\n",
      "C=1: 0\n",
      "===========================\n"
     ]
    }
   ],
   "source": [
    "for i in range(len(rat_list)):\n",
    "    print(f'----- LE{rat_list[i]} result -----')\n",
    "    for j in params_grid[0]['C']:\n",
    "        n = sum(best_c[:,i]==j)\n",
    "        print(f'C={j}: {n}')\n",
    "    print('===========================')"
   ]
  }
 ],
 "metadata": {
  "kernelspec": {
   "display_name": "Python 3 (ipykernel)",
   "language": "python",
   "name": "python3"
  },
  "language_info": {
   "codemirror_mode": {
    "name": "ipython",
    "version": 3
   },
   "file_extension": ".py",
   "mimetype": "text/x-python",
   "name": "python",
   "nbconvert_exporter": "python",
   "pygments_lexer": "ipython3",
   "version": "3.9.12"
  }
 },
 "nbformat": 4,
 "nbformat_minor": 5
}
