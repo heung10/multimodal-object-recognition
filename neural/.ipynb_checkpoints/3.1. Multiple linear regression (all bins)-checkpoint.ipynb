{
 "cells": [
  {
   "cell_type": "markdown",
   "id": "c2d4f156",
   "metadata": {},
   "source": [
    "## Multiple linear regression (all bins)\n",
    "This code runs multiple linear regression within object-selective epoch defined based on ANOVA result. \n",
    "\n",
    "Response-selective neurons were filtered out by nested regression."
   ]
  },
  {
   "cell_type": "code",
   "execution_count": 1,
   "id": "6ef091ff",
   "metadata": {},
   "outputs": [],
   "source": [
    "import os\n",
    "from pathlib import Path\n",
    "import numpy as np\n",
    "import pandas as pd\n",
    "\n",
    "from scipy import stats\n",
    "from scipy.stats.mstats import zscore\n",
    "\n",
    "from scipy.ndimage import gaussian_filter\n",
    "from statsmodels.regression.linear_model import OLS\n",
    "from statsmodels.tools import add_constant\n",
    "\n",
    "import matplotlib as mpl\n",
    "import matplotlib.pyplot as plt  \n",
    "\n",
    "from datetime import date\n",
    "import time\n",
    "\n",
    "import random\n",
    "\n",
    "from joblib import Parallel, delayed\n",
    "\n",
    "import h5py"
   ]
  },
  {
   "cell_type": "code",
   "execution_count": 2,
   "id": "a2efd57f",
   "metadata": {},
   "outputs": [],
   "source": [
    "# no top and right spines in all plots\n",
    "mpl.rcParams['axes.spines.right'] = False\n",
    "mpl.rcParams['axes.spines.top'] = False"
   ]
  },
  {
   "cell_type": "code",
   "execution_count": 3,
   "id": "75d558bd",
   "metadata": {},
   "outputs": [],
   "source": [
    "mother_path = Path('D:/Multi-modal project/')"
   ]
  },
  {
   "cell_type": "markdown",
   "id": "c9d779bc",
   "metadata": {},
   "source": [
    "### Parameter setting"
   ]
  },
  {
   "cell_type": "code",
   "execution_count": 4,
   "id": "80036cec",
   "metadata": {},
   "outputs": [],
   "source": [
    "num_iter = 1000\n",
    "\n",
    "gauss_sigma = 2\n",
    "\n",
    "# colors for multimodal, vis-only, aud-only conditions\n",
    "color = ['tab:purple','tab:blue','tab:red','tab:green']\n",
    "color2 = ['tab:cyan', 'tab:pink', 'tab:gray']\n",
    "linestyle = ['-',':']\n",
    "\n",
    "today = str(date.today())"
   ]
  },
  {
   "cell_type": "markdown",
   "id": "74ff06dc",
   "metadata": {},
   "source": [
    "### Data preparation"
   ]
  },
  {
   "cell_type": "code",
   "execution_count": 5,
   "id": "ee283c52",
   "metadata": {},
   "outputs": [],
   "source": [
    "save_path = mother_path /'analysis'/'result'/'3.1 Multiple linear regression'/today\n",
    "cell_path = mother_path/'analysis'/'result'/'zFR export'/'13-Jun-2023'\n",
    "data_path = mother_path /'analysis'/'result'/'3. ANOVA'\n",
    "\n",
    "cell_list = os.listdir(cell_path)\n",
    "\n",
    "# load hdf5 files containing ANOVA results\n",
    "f = h5py.File(data_path/'2023-07-10'/'2023-07-10_ANOVA_result.hdf5','r')\n",
    "\n",
    "# make hdf5 save file\n",
    "os.makedirs(save_path,exist_ok=True)\n",
    "s = h5py.File(save_path/f'{today}_multiple_regression_allbins_subsample.hdf5','w')"
   ]
  },
  {
   "cell_type": "markdown",
   "id": "e0fbe3cd",
   "metadata": {},
   "source": [
    "### Data analysis"
   ]
  },
  {
   "cell_type": "code",
   "execution_count": 6,
   "id": "f8dfc21d",
   "metadata": {},
   "outputs": [],
   "source": [
    "def groupby_index(df):\n",
    "    \"\"\"\n",
    "    This function is to extract trial indices of each stimulus condition.\n",
    "    Those indices are used to subsample using another function.\n",
    "    \"\"\"\n",
    "    gb = df.groupby(['Visual', 'Auditory'])\n",
    "\n",
    "    Boy_M_id = gb.get_group(('Boy', boy_aud)).index.to_numpy()\n",
    "    Boy_V_id = gb.get_group(('Boy', 'no')).index.to_numpy()\n",
    "    Boy_A_id = gb.get_group(('no', boy_aud)).index.to_numpy()\n",
    "    \n",
    "    Egg_M_id = gb.get_group(('Egg', egg_aud)).index.to_numpy()\n",
    "    Egg_V_id = gb.get_group(('Egg', 'no')).index.to_numpy()\n",
    "    Egg_A_id = gb.get_group(('no', egg_aud)).index.to_numpy()\n",
    "    \n",
    "    C_L_id = gb.get_group(('Left', 'no')).index.to_numpy()\n",
    "    C_R_id = gb.get_group(('Right', 'no')).index.to_numpy()\n",
    "\n",
    "    cond_id = [Boy_M_id, Boy_V_id, Boy_A_id, Egg_M_id, Egg_V_id, Egg_A_id, C_L_id, C_R_id]  \n",
    "    \n",
    "    return cond_id"
   ]
  },
  {
   "cell_type": "code",
   "execution_count": 7,
   "id": "eee0387e",
   "metadata": {},
   "outputs": [],
   "source": [
    "def subsample_and_MLR(df,num_trials,subsample):\n",
    "    \"\"\"\n",
    "    Multiple linear regression is applied to subsampled or all trials to validate the reliability\n",
    "    of coefficients.\n",
    "    \"\"\"\n",
    "    \n",
    "    if subsample == 1:\n",
    "        subsample = np.array([])\n",
    "        # subsample 5 trials from each stimulus condition\n",
    "        for c in cond_id:\n",
    "            subsample = np.append(subsample,np.random.choice(c,num_trials,replace=True))        \n",
    "        subsample = np.asarray(subsample,dtype=int)\n",
    "        X = x[subsample,:]\n",
    "        Y = fr[subsample,:]\n",
    "    else:\n",
    "        X = x\n",
    "        Y = fr\n",
    "        \n",
    "    beta_coef = np.zeros((4,90))\n",
    "    # calculate beta coefficients and r-squared values in each time bin\n",
    "    for t in range(90):\n",
    "        lr = OLS(zscore(Y[:,t]),add_constant(zscore(X))).fit()            \n",
    "        beta_coef[:,t] = lr.params[1:]\n",
    "        \n",
    "    return beta_coef"
   ]
  },
  {
   "cell_type": "code",
   "execution_count": 8,
   "id": "2931bed1",
   "metadata": {},
   "outputs": [],
   "source": [
    "def plot_SDF_beta(df,linewidth,smooth,save,save_format):\n",
    "    \"\"\"\n",
    "    This function plots mean firing rate patterns of each stimulus condition\n",
    "    and beta coefficients for visual and auditory terms in multiple linear regression.\n",
    "    \"\"\"\n",
    "    cond = [(df.Type=='Multimodal')&(df.RWD_Loc==boy_goal),\n",
    "            (df.Type=='Multimodal')&(df.RWD_Loc==egg_goal),            \n",
    "            (df.Type=='Visual')&(df.RWD_Loc==boy_goal),\n",
    "            (df.Type=='Visual')&(df.RWD_Loc==egg_goal),\n",
    "            (df.Type=='Auditory')&(df.RWD_Loc==boy_goal),            \n",
    "            (df.Type=='Auditory')&(df.RWD_Loc==egg_goal)]\n",
    "    \n",
    "    cell_full_name = cell_name.strip('.csv')\n",
    "    \n",
    "    fr_mean = np.zeros((10,90))\n",
    "    fr_sem = np.zeros((10,90))\n",
    "    for i in range(6):\n",
    "        fr_mean[i,:] = df[cond[i]].iloc[:,fr_id:fr_id+90].to_numpy().mean(axis=0)\n",
    "        fr_sem[i,:] = stats.sem(df[cond[i]].iloc[:,fr_id:fr_id+90].to_numpy())\n",
    "    \n",
    "    if smooth:\n",
    "        for i in range(6):\n",
    "            fr_mean[i,:] = gaussian_filter(fr_mean[i,:],sigma=gauss_sigma)\n",
    "            fr_sem[i,:] = gaussian_filter(fr_sem[i,:],sigma=gauss_sigma)\n",
    "            \n",
    "    y_max = np.ceil(np.max(fr_mean+fr_sem))\n",
    "    y_min = 0\n",
    "    \n",
    "    fig,ax = plt.subplots(3,3,figsize=(10.5,7.5))\n",
    "    plt.suptitle(cell_full_name,fontsize=15);\n",
    "    x = np.arange(90)*10\n",
    "    \n",
    "    for i in range(6):\n",
    "        ax[0,0].plot(x,fr_mean[i,:],color=color[divmod(i,2)[0]],linestyle=linestyle[divmod(i,2)[1]])\n",
    "        ax[0,0].fill_between(x,fr_mean[i,:]-fr_sem[i,:],fr_mean[i,:]+fr_sem[i,:],\n",
    "                             color=color[divmod(i,2)[0]],alpha=0.2)\n",
    "    ax[0,0].set_yticks([0, y_max])\n",
    "    ax[0,0].set_ylim([0, y_max])\n",
    "    ax[0,0].set_ylabel('Firing rates (Hz)', fontsize=13)\n",
    "    ax[0,0].set_xticks([0,400,900])\n",
    "    ax[0,0].set_xlim([0,900])\n",
    "    ax[0,0].set_xlabel('Time (ms)', fontsize=13)\n",
    "    \n",
    "    for i in range(4):\n",
    "        ax[1,0].plot(x, beta_coef[i,:], color=color2[divmod(i,2)[1]], linestyle=linestyle[divmod(i,2)[0]])\n",
    "        ax[divmod(i,2)[1],divmod(i,2)[0]+1].plot(x, beta_coef[i,:], color=color2[divmod(i,2)[1]])\n",
    "        ax[divmod(i,2)[1],divmod(i,2)[0]+1].plot(x, beta_coef_ss[i,:], color=color2[2])\n",
    "    \n",
    "    axs = [(1,0), (0,1), (1,1), (0,2), (1,2)]\n",
    "    title = ['All coefficients', 'Boy-image', 'Boy-sound', 'Egg-image', 'Egg-sound']\n",
    "    for a, t in zip(axs, title):\n",
    "        ax[a].set_yticks(np.arange(-0.5,1.1,0.5))\n",
    "        ax[a].set_ylim([-0.5, 1])\n",
    "        ax[a].set_ylabel('Coefficient', fontsize=13)\n",
    "        ax[a].set_xticks([0,400,900])\n",
    "        ax[a].set_xlim([0,900])\n",
    "        ax[a].set_xlabel('Time (ms)', fontsize=13)\n",
    "        ax[a].set_title(t, fontsize=13)\n",
    "        \n",
    "    label = ['Boy-M', 'Boy-V', 'Boy-A', 'Egg-M', 'Egg-V', 'Egg-A', 'C-L', 'C-R']\n",
    "    for i in range(len(label)):\n",
    "        ax[2,0].text(0,1-0.12*i,f'{label[i]}: {len(cond_id[i])}', fontsize=11)\n",
    "    ax[2,0].axis('off')\n",
    "    ax[2,1].axis('off')\n",
    "    ax[2,2].axis('off')\n",
    "        \n",
    "    plt.tight_layout()\n",
    "    \n",
    "    if save:\n",
    "        fig_path = save_path / region\n",
    "        os.makedirs(fig_path, exist_ok=True)\n",
    "\n",
    "        if save_format == 'png':\n",
    "            plt.savefig(fig_path / f'{cell_full_name}.png', dpi=100, facecolor='white')\n",
    "        elif save_format == 'svg':\n",
    "            plt.savefig(fig_path / f'{cell_full_name}.svg')\n",
    "        elif save_format == 'both':\n",
    "            plt.savefig(fig_path / f'{cell_full_name}.png', dpi=100, facecolor='white')\n",
    "            os.makedirs(fig_path / 'svg', exist_ok=True)\n",
    "            plt.savefig(fig_path / 'svg' / f'{cell_full_name}.svg')\n",
    "\n",
    "        plt.close()"
   ]
  },
  {
   "cell_type": "code",
   "execution_count": 9,
   "id": "126c58c9",
   "metadata": {},
   "outputs": [],
   "source": [
    "def save_result(f):\n",
    "    \"\"\"\n",
    "    This function saves regression results into HDF5 format.\n",
    "    \"\"\"\n",
    "    cell_group = f.create_group(str(cell_id))\n",
    "    \n",
    "    cell_group.create_dataset('beta_coef', data=beta_coef)\n",
    "    cell_group.create_dataset('beta_coef_subsample', data=beta_coef_subsample)\n",
    "    \n",
    "    cell_group.attrs['rat'] = rat_id\n",
    "    cell_group.attrs['region'] = region\n",
    "    cell_group.attrs['session'] = session_id"
   ]
  },
  {
   "cell_type": "code",
   "execution_count": 10,
   "id": "7a800433",
   "metadata": {},
   "outputs": [
    {
     "name": "stdout",
     "output_type": "stream",
     "text": [
      "0004-600-1-1-Crossmodal-TeV-deep-(-7.32 mm)-TT4.2 ////// 2/888 completed  //////  0 min 8.92 sec\n",
      "0006-600-1-1-Crossmodal-PER-superficial-(-7.2 mm)-TT5.1 ////// 4/888 completed  //////  0 min 2.69 sec\n",
      "0008-600-1-1-Crossmodal-PER-superficial-(-7.2 mm)-TT5.3 ////// 6/888 completed  //////  0 min 2.44 sec\n",
      "0013-600-1-1-Crossmodal-PER-deep-(-6.48 mm)-TT8.2 ////// 9/888 completed  //////  0 min 2.38 sec\n",
      "0015-600-1-1-Crossmodal-TeV-deep-(-6.36 mm)-TT9.1 ////// 11/888 completed  //////  0 min 2.51 sec\n",
      "0016-600-1-1-Crossmodal-PER-deep-(-6.24 mm)-TT10.1 ////// 12/888 completed  //////  0 min 3.08 sec\n",
      "0017-600-1-1-Crossmodal-PER-deep-(-6.24 mm)-TT10.2 ////// 13/888 completed  //////  0 min 3.62 sec\n",
      "0018-600-1-1-Crossmodal-PER-superficial-(-6.24 mm)-TT13.1 ////// 14/888 completed  //////  0 min 3.93 sec\n",
      "0021-600-1-1-Crossmodal-TeV-superficial-(-6.96 mm)-TT17.1 ////// 15/888 completed  //////  0 min 2.69 sec\n",
      "0024-600-1-1-Crossmodal-POR-deep-(-7.56 mm)-TT24.2 ////// 18/888 completed  //////  0 min 2.56 sec\n",
      "0027-600-2-2-Crossmodal-PER-superficial-(-7.2 mm)-TT5.1 ////// 21/888 completed  //////  0 min 3.24 sec\n",
      "0028-600-2-2-Crossmodal-PER-superficial-(-7.2 mm)-TT5.2 ////// 22/888 completed  //////  0 min 3.19 sec\n",
      "0030-600-2-2-Crossmodal-PER-superficial-(-7.2 mm)-TT5.4 ////// 24/888 completed  //////  0 min 2.46 sec\n",
      "0031-600-2-2-Crossmodal-TeV-deep-(-6.96 mm)-TT6.1 ////// 25/888 completed  //////  0 min 2.92 sec\n",
      "0032-600-2-2-Crossmodal-TeV-deep-(-6.96 mm)-TT6.2 ////// 26/888 completed  //////  0 min 2.81 sec\n"
     ]
    },
    {
     "ename": "KeyboardInterrupt",
     "evalue": "",
     "output_type": "error",
     "traceback": [
      "\u001b[1;31m---------------------------------------------------------------------------\u001b[0m",
      "\u001b[1;31mKeyboardInterrupt\u001b[0m                         Traceback (most recent call last)",
      "File \u001b[1;32m<timed exec>:36\u001b[0m, in \u001b[0;36m<module>\u001b[1;34m\u001b[0m\n",
      "File \u001b[1;32m~\\anaconda3\\lib\\site-packages\\joblib\\parallel.py:1056\u001b[0m, in \u001b[0;36mParallel.__call__\u001b[1;34m(self, iterable)\u001b[0m\n\u001b[0;32m   1053\u001b[0m     \u001b[38;5;28mself\u001b[39m\u001b[38;5;241m.\u001b[39m_iterating \u001b[38;5;241m=\u001b[39m \u001b[38;5;28;01mFalse\u001b[39;00m\n\u001b[0;32m   1055\u001b[0m \u001b[38;5;28;01mwith\u001b[39;00m \u001b[38;5;28mself\u001b[39m\u001b[38;5;241m.\u001b[39m_backend\u001b[38;5;241m.\u001b[39mretrieval_context():\n\u001b[1;32m-> 1056\u001b[0m     \u001b[38;5;28;43mself\u001b[39;49m\u001b[38;5;241;43m.\u001b[39;49m\u001b[43mretrieve\u001b[49m\u001b[43m(\u001b[49m\u001b[43m)\u001b[49m\n\u001b[0;32m   1057\u001b[0m \u001b[38;5;66;03m# Make sure that we get a last message telling us we are done\u001b[39;00m\n\u001b[0;32m   1058\u001b[0m elapsed_time \u001b[38;5;241m=\u001b[39m time\u001b[38;5;241m.\u001b[39mtime() \u001b[38;5;241m-\u001b[39m \u001b[38;5;28mself\u001b[39m\u001b[38;5;241m.\u001b[39m_start_time\n",
      "File \u001b[1;32m~\\anaconda3\\lib\\site-packages\\joblib\\parallel.py:935\u001b[0m, in \u001b[0;36mParallel.retrieve\u001b[1;34m(self)\u001b[0m\n\u001b[0;32m    933\u001b[0m \u001b[38;5;28;01mtry\u001b[39;00m:\n\u001b[0;32m    934\u001b[0m     \u001b[38;5;28;01mif\u001b[39;00m \u001b[38;5;28mgetattr\u001b[39m(\u001b[38;5;28mself\u001b[39m\u001b[38;5;241m.\u001b[39m_backend, \u001b[38;5;124m'\u001b[39m\u001b[38;5;124msupports_timeout\u001b[39m\u001b[38;5;124m'\u001b[39m, \u001b[38;5;28;01mFalse\u001b[39;00m):\n\u001b[1;32m--> 935\u001b[0m         \u001b[38;5;28mself\u001b[39m\u001b[38;5;241m.\u001b[39m_output\u001b[38;5;241m.\u001b[39mextend(\u001b[43mjob\u001b[49m\u001b[38;5;241;43m.\u001b[39;49m\u001b[43mget\u001b[49m\u001b[43m(\u001b[49m\u001b[43mtimeout\u001b[49m\u001b[38;5;241;43m=\u001b[39;49m\u001b[38;5;28;43mself\u001b[39;49m\u001b[38;5;241;43m.\u001b[39;49m\u001b[43mtimeout\u001b[49m\u001b[43m)\u001b[49m)\n\u001b[0;32m    936\u001b[0m     \u001b[38;5;28;01melse\u001b[39;00m:\n\u001b[0;32m    937\u001b[0m         \u001b[38;5;28mself\u001b[39m\u001b[38;5;241m.\u001b[39m_output\u001b[38;5;241m.\u001b[39mextend(job\u001b[38;5;241m.\u001b[39mget())\n",
      "File \u001b[1;32m~\\anaconda3\\lib\\site-packages\\joblib\\_parallel_backends.py:542\u001b[0m, in \u001b[0;36mLokyBackend.wrap_future_result\u001b[1;34m(future, timeout)\u001b[0m\n\u001b[0;32m    539\u001b[0m \u001b[38;5;124;03m\"\"\"Wrapper for Future.result to implement the same behaviour as\u001b[39;00m\n\u001b[0;32m    540\u001b[0m \u001b[38;5;124;03mAsyncResults.get from multiprocessing.\"\"\"\u001b[39;00m\n\u001b[0;32m    541\u001b[0m \u001b[38;5;28;01mtry\u001b[39;00m:\n\u001b[1;32m--> 542\u001b[0m     \u001b[38;5;28;01mreturn\u001b[39;00m \u001b[43mfuture\u001b[49m\u001b[38;5;241;43m.\u001b[39;49m\u001b[43mresult\u001b[49m\u001b[43m(\u001b[49m\u001b[43mtimeout\u001b[49m\u001b[38;5;241;43m=\u001b[39;49m\u001b[43mtimeout\u001b[49m\u001b[43m)\u001b[49m\n\u001b[0;32m    543\u001b[0m \u001b[38;5;28;01mexcept\u001b[39;00m CfTimeoutError \u001b[38;5;28;01mas\u001b[39;00m e:\n\u001b[0;32m    544\u001b[0m     \u001b[38;5;28;01mraise\u001b[39;00m \u001b[38;5;167;01mTimeoutError\u001b[39;00m \u001b[38;5;28;01mfrom\u001b[39;00m \u001b[38;5;21;01me\u001b[39;00m\n",
      "File \u001b[1;32m~\\anaconda3\\lib\\concurrent\\futures\\_base.py:441\u001b[0m, in \u001b[0;36mFuture.result\u001b[1;34m(self, timeout)\u001b[0m\n\u001b[0;32m    438\u001b[0m \u001b[38;5;28;01melif\u001b[39;00m \u001b[38;5;28mself\u001b[39m\u001b[38;5;241m.\u001b[39m_state \u001b[38;5;241m==\u001b[39m FINISHED:\n\u001b[0;32m    439\u001b[0m     \u001b[38;5;28;01mreturn\u001b[39;00m \u001b[38;5;28mself\u001b[39m\u001b[38;5;241m.\u001b[39m__get_result()\n\u001b[1;32m--> 441\u001b[0m \u001b[38;5;28;43mself\u001b[39;49m\u001b[38;5;241;43m.\u001b[39;49m\u001b[43m_condition\u001b[49m\u001b[38;5;241;43m.\u001b[39;49m\u001b[43mwait\u001b[49m\u001b[43m(\u001b[49m\u001b[43mtimeout\u001b[49m\u001b[43m)\u001b[49m\n\u001b[0;32m    443\u001b[0m \u001b[38;5;28;01mif\u001b[39;00m \u001b[38;5;28mself\u001b[39m\u001b[38;5;241m.\u001b[39m_state \u001b[38;5;129;01min\u001b[39;00m [CANCELLED, CANCELLED_AND_NOTIFIED]:\n\u001b[0;32m    444\u001b[0m     \u001b[38;5;28;01mraise\u001b[39;00m CancelledError()\n",
      "File \u001b[1;32m~\\anaconda3\\lib\\threading.py:312\u001b[0m, in \u001b[0;36mCondition.wait\u001b[1;34m(self, timeout)\u001b[0m\n\u001b[0;32m    310\u001b[0m \u001b[38;5;28;01mtry\u001b[39;00m:    \u001b[38;5;66;03m# restore state no matter what (e.g., KeyboardInterrupt)\u001b[39;00m\n\u001b[0;32m    311\u001b[0m     \u001b[38;5;28;01mif\u001b[39;00m timeout \u001b[38;5;129;01mis\u001b[39;00m \u001b[38;5;28;01mNone\u001b[39;00m:\n\u001b[1;32m--> 312\u001b[0m         \u001b[43mwaiter\u001b[49m\u001b[38;5;241;43m.\u001b[39;49m\u001b[43macquire\u001b[49m\u001b[43m(\u001b[49m\u001b[43m)\u001b[49m\n\u001b[0;32m    313\u001b[0m         gotit \u001b[38;5;241m=\u001b[39m \u001b[38;5;28;01mTrue\u001b[39;00m\n\u001b[0;32m    314\u001b[0m     \u001b[38;5;28;01melse\u001b[39;00m:\n",
      "\u001b[1;31mKeyboardInterrupt\u001b[0m: "
     ]
    }
   ],
   "source": [
    "%%time\n",
    "for cell_run,cell_name in enumerate(cell_list):\n",
    "    loop_start = time.time()\n",
    "    # get information about the cell\n",
    "    cell_info = cell_name.split('-')\n",
    "    cell_id, rat_id, session_id, region = int(cell_info[0]), cell_info[1], cell_info[2], cell_info[5]\n",
    "        \n",
    "    # skip non object-selective cells\n",
    "    if f[str(cell_id)].attrs['object cell'] == 0:\n",
    "        continue\n",
    "\n",
    "    # load cell data\n",
    "    df = pd.read_csv(cell_path/cell_name)\n",
    "    df.drop(df[df.Correctness==0].index,inplace=True)\n",
    "    df.reset_index(inplace=True,drop=True)\n",
    "    df[['Visual','Auditory']] = df[['Visual','Auditory']].fillna('no')\n",
    "    \n",
    "    boy_goal = df.loc[df['Visual']=='Boy','RWD_Loc'].values[0]\n",
    "    boy_aud = df.loc[df['RWD_Loc']==boy_goal,'Auditory'].values[0]\n",
    "    \n",
    "    egg_goal = df.loc[df['Visual']=='Egg','RWD_Loc'].values[0]\n",
    "    egg_aud = df.loc[df['RWD_Loc']==egg_goal,'Auditory'].values[0]  \n",
    "    \n",
    "    df['Boy-V'] = (df['Visual'] == 'Boy').astype(int)\n",
    "    df['Boy-A'] = (df['Auditory'] == boy_aud).astype(int)\n",
    "    df['Egg-V'] = (df['Visual'] == 'Egg').astype(int)\n",
    "    df['Egg-A'] = (df['Auditory'] == egg_aud).astype(int)\n",
    "    \n",
    "    fr_id = df.columns.get_loc('Var10')    # get the index of the first firing rate column\n",
    "    fr = df.iloc[:,fr_id:fr_id+90].to_numpy()    # get firing rate data into array\n",
    "    \n",
    "    cond_id = groupby_index(df)\n",
    "    \n",
    "    x = df[['Boy-V','Boy-A','Egg-V','Egg-A']].to_numpy()    \n",
    "    \n",
    "    beta_coef = subsample_and_MLR(df,5,0)\n",
    "    beta_coef_subsample = Parallel(n_jobs=-1)(delayed(subsample_and_MLR)(df,5,1) for i in range(num_iter))\n",
    "    beta_coef_ss = np.mean(beta_coef_subsample,axis=0)\n",
    "\n",
    "    plot_SDF_beta(df,2,1,1,'both')    \n",
    "    \n",
    "    # save results into HDF5 format\n",
    "    save_result(s)\n",
    "            \n",
    "    loop_end = time.time()\n",
    "    loop_time = divmod(loop_end-loop_start,60)\n",
    "    print(cell_name.strip('.csv'), f'////// {cell_run+1}/{len(cell_list)} completed  //////  {int(loop_time[0])} min {loop_time[1]:.2f} sec')"
   ]
  },
  {
   "cell_type": "code",
   "execution_count": 11,
   "id": "3f17ccda",
   "metadata": {},
   "outputs": [
    {
     "name": "stdout",
     "output_type": "stream",
     "text": [
      "END\n"
     ]
    }
   ],
   "source": [
    "f.close()\n",
    "s.close()\n",
    "print('END')"
   ]
  }
 ],
 "metadata": {
  "kernelspec": {
   "display_name": "Python 3 (ipykernel)",
   "language": "python",
   "name": "python3"
  },
  "language_info": {
   "codemirror_mode": {
    "name": "ipython",
    "version": 3
   },
   "file_extension": ".py",
   "mimetype": "text/x-python",
   "name": "python",
   "nbconvert_exporter": "python",
   "pygments_lexer": "ipython3",
   "version": "3.9.12"
  }
 },
 "nbformat": 4,
 "nbformat_minor": 5
}
