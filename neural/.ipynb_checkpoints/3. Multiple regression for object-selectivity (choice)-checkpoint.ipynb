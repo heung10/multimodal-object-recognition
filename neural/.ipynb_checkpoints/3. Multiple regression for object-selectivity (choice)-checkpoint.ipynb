{
 "cells": [
  {
   "cell_type": "markdown",
   "id": "c2d4f156",
   "metadata": {},
   "source": [
    "## Multiple regression for object-selectivity\n",
    "This code runs two nested multiple linear regression: one with object-related regressors and the \n",
    "other with both object and choice regressors.\n",
    "\n",
    "R-squared valuese of the two models are compared and if choice regressors improve the model a lot, the neuron is considered to have significant choice information, rather than object identity.\n"
   ]
  },
  {
   "cell_type": "code",
   "execution_count": 1,
   "id": "6ef091ff",
   "metadata": {},
   "outputs": [],
   "source": [
    "import os\n",
    "import numpy as np\n",
    "import pandas as pd\n",
    "\n",
    "from scipy import stats\n",
    "from scipy.ndimage import gaussian_filter\n",
    "\n",
    "from sklearn.linear_model import LinearRegression\n",
    "from sklearn.metrics import r2_score\n",
    "\n",
    "import matplotlib as mpl\n",
    "import matplotlib.pyplot as plt  \n",
    "import seaborn as sns\n",
    "\n",
    "from datetime import date\n",
    "import time\n",
    "\n",
    "import random"
   ]
  },
  {
   "cell_type": "code",
   "execution_count": 2,
   "id": "a2efd57f",
   "metadata": {},
   "outputs": [],
   "source": [
    "# no top and right spines in all plots\n",
    "mpl.rcParams['axes.spines.right'] = False\n",
    "mpl.rcParams['axes.spines.top'] = False"
   ]
  },
  {
   "cell_type": "code",
   "execution_count": 3,
   "id": "75d558bd",
   "metadata": {},
   "outputs": [],
   "source": [
    "mother_path = 'D:/Multi-modal project/'"
   ]
  },
  {
   "cell_type": "markdown",
   "id": "c9d779bc",
   "metadata": {},
   "source": [
    "### Parameter setting"
   ]
  },
  {
   "cell_type": "code",
   "execution_count": 5,
   "id": "80036cec",
   "metadata": {},
   "outputs": [],
   "source": [
    "num_shuffle = 10\n",
    "\n",
    "gauss_sigma = 1\n",
    "\n",
    "# colors for multimodal, vis-only, aud-only conditions\n",
    "color = ['mediumorchid','cornflowerblue','lightcoral','gray']\n",
    "color2 = ['cyan','magenta','brown']\n",
    "linestyle = ['-',':']\n",
    "\n",
    "today = str(date.today())"
   ]
  },
  {
   "cell_type": "markdown",
   "id": "74ff06dc",
   "metadata": {},
   "source": [
    "### Data preparation"
   ]
  },
  {
   "cell_type": "code",
   "execution_count": 6,
   "id": "e42dba14",
   "metadata": {},
   "outputs": [],
   "source": [
    "unit_summary = pd.read_table(mother_path+'/analysis/result'+\n",
    "                             '/1. Cluster summary/clusterSummary.csv',sep=',')\n",
    "save_path = mother_path+'analysis/result/3. Multiple regression for object-selectivity (full)/'\n",
    "data_path = mother_path+'analysis/result/zFR export/13-Apr-2022 (5 trials)/'\n",
    "os.chdir(data_path)"
   ]
  },
  {
   "cell_type": "code",
   "execution_count": 7,
   "id": "522e8ee6",
   "metadata": {},
   "outputs": [],
   "source": [
    "# empty list for result csv file\n",
    "result=[]"
   ]
  },
  {
   "cell_type": "code",
   "execution_count": 8,
   "id": "e9bd828a",
   "metadata": {},
   "outputs": [],
   "source": [
    "cell_list = os.listdir(os.curdir)"
   ]
  },
  {
   "cell_type": "markdown",
   "id": "e0fbe3cd",
   "metadata": {},
   "source": [
    "# Data analysis"
   ]
  },
  {
   "cell_type": "code",
   "execution_count": 9,
   "id": "2931bed1",
   "metadata": {},
   "outputs": [],
   "source": [
    "def plot_SDF_beta(df,linewidth,smooth,save,save_format):\n",
    "    cond = [(df.Type=='Multimodal')&(df.RWD_Loc==boy_goal),\n",
    "            (df.Type=='Multimodal')&(df.RWD_Loc==egg_goal),\n",
    "            (df.Type=='Visual')&(df.RWD_Loc==boy_goal),\n",
    "            (df.Type=='Visual')&(df.RWD_Loc==egg_goal),\n",
    "            (df.Type=='Auditory')&(df.RWD_Loc==boy_goal),\n",
    "            (df.Type=='Auditory')&(df.RWD_Loc==egg_goal),\n",
    "            (df.Type=='Elemental')&(df.RWD_Loc==boy_goal),\n",
    "            (df.Type=='Elemental')&(df.RWD_Loc==egg_goal)]\n",
    "    \n",
    "    fr_mean = np.zeros((len(cond),95))\n",
    "    fr_sem = np.zeros((len(cond),95))\n",
    "    for i in range(len(cond)):\n",
    "        fr_mean[i,:] = df[cond[i]].iloc[:,fr_id:fr_id+95].to_numpy().mean(axis=0)\n",
    "        fr_sem[i,:] = stats.sem(df[cond[i]].iloc[:,fr_id:fr_id+95].to_numpy())\n",
    "    \n",
    "    if smooth:\n",
    "        for i in range(len(cond)):\n",
    "            fr_mean[i,:] = gaussian_filter(fr_mean[i,:],sigma=gauss_sigma)\n",
    "            fr_sem[i,:] = gaussian_filter(fr_sem[i,:],sigma=gauss_sigma)\n",
    "            \n",
    "    y_max = np.ceil(np.max(fr_mean+fr_sem))\n",
    "    y_min = np.ceil(np.abs(np.min(fr_mean-fr_sem)))*-1\n",
    "    \n",
    "    fig,ax = plt.subplots(3,3,figsize=(15,10))\n",
    "    plt.suptitle(cell_name.strip('.csv'),fontsize=15);\n",
    "    x = np.arange(95)*10\n",
    "    \n",
    "    for i in range(len(cond)):\n",
    "        if i%2==0:\n",
    "            ls = linestyle[0]\n",
    "        else:\n",
    "            ls = linestyle[1]            \n",
    "        ax[0,0].plot(x,fr_mean[i,:],color=color[int(np.floor(i/2))],linewidth=linewidth,linestyle=ls)\n",
    "        ax[0,0].fill_between(x,fr_mean[i,:]-fr_sem[i,:],fr_mean[i,:]+fr_sem[i,:],color=color[int(np.floor(i/2))],alpha=0.2)\n",
    "        \n",
    "        ax[i%2+1,0].plot(x,fr_mean[i,:],color=color[int(np.floor(i/2))],linewidth=linewidth,linestyle=ls)\n",
    "        ax[i%2+1,0].fill_between(x,fr_mean[i,:]-fr_sem[i,:],fr_mean[i,:]+fr_sem[i,:],color=color[int(np.floor(i/2))],alpha=0.2)\n",
    "        \n",
    "        if i<6:\n",
    "            ax[int(np.floor(i/2)),1].plot(x,fr_mean[i,:],color=color[int(np.floor(i/2))],linewidth=linewidth,linestyle=ls)\n",
    "            ax[int(np.floor(i/2)),1].fill_between(x,fr_mean[i,:]-fr_sem[i,:],fr_mean[i,:]+fr_sem[i,:],color=color[int(np.floor(i/2))],alpha=0.2)\n",
    "    \n",
    "    # control stimulus SDF\n",
    "    for i in range(3):\n",
    "        ax[i,1].plot(x,fr_mean[6,:],color=color[3])\n",
    "        ax[i,1].plot(x,fr_mean[7,:],color=color[3],linestyle=':')\n",
    "            \n",
    "    for i in range(6):\n",
    "        ax[i%3,int(np.floor(i/3))].set_yticks(np.arange(y_min,y_max+0.1,1))\n",
    "        ax[i%3,int(np.floor(i/3))].set_ylabel('z-scored FR',fontsize=13)\n",
    "        ax[i%3,int(np.floor(i/3))].set_xlabel('Time (ms)',fontsize=13)  \n",
    "        ax[i%3,int(np.floor(i/3))].set_xticks([0,400,950])\n",
    "        ax[i%3,int(np.floor(i/3))].set_xlim([0,950])    \n",
    "    \n",
    "    # beta coefficient plot\n",
    "    t2 = ['Visual term','Auditory term','Interaction term']\n",
    "    c2 = ['blue','red','green']\n",
    "    for i in range(3):\n",
    "        ax[i,2].plot(x,beta_mean[i,:],color=c2[i],linestyle='-',linewidth=linewidth)\n",
    "        #ax[i,2].fill_between(x,beta_mean[i,:]-beta_std[i,:],beta_mean[i,:]+beta_std[i,:],color=c2[i],alpha=0.1)\n",
    "        \n",
    "        ax[i,2].plot(x,beta_mean[i+3,:],color=c2[i],linestyle=':',linewidth=linewidth)\n",
    "        #ax[i,2].fill_between(x,beta_mean[i+3,:]-beta_std[i+3,:],beta_mean[i+3,:]+beta_std[i+3,:],color=c2[i],alpha=0.1)\n",
    "        \n",
    "        ax_r = ax[i,2].twinx()\n",
    "        ax_r.plot(x,r_diff,color='lightgray',linewidth=1)\n",
    "        ax_r.set_ylabel('R-squared difference')   \n",
    "        #ax_r.set_yticks(np.arange(0,0.21,0.04))       \n",
    "            \n",
    "        ax[i,2].set_title(t2[i],fontsize=13)\n",
    "        ax[i,2].set_yticks(np.arange(-1,1.1,0.5))    \n",
    "        ax[i,2].set_ylabel('Beta coefficient',fontsize=13)\n",
    "        ax[i,2].set_xlabel('Time (ms)',fontsize=13)    \n",
    "        ax[i,2].set_xticks([0,400,950])\n",
    "        ax[i,2].set_xlim([0,950])\n",
    "    \n",
    "    # mark time bins with significant difference in beta coefficients\n",
    "    ax[0,2].scatter(vis_sig_bin[0]*10,np.tile(0.8,(len(vis_sig_bin[0]),1)),marker='*',color='black')\n",
    "    ax[1,2].scatter(aud_sig_bin[0]*10,np.tile(0.8,(len(aud_sig_bin[0]),1)),marker='*',color='black')\n",
    "    plt.tight_layout()\n",
    "    \n",
    "    if save:          \n",
    "        fig_path = save_path+today+'/'+save_format+'/'+region+'/'\n",
    "        if os.path.exists(fig_path) is False:\n",
    "            os.makedirs(fig_path)    \n",
    "        if save_format=='png':\n",
    "            plt.savefig(fig_path+cell_name.strip('.csv')+'.png',dpi=100,facecolor='white')\n",
    "        elif save_format=='svg':\n",
    "            plt.savefig(fig_path+cell_name.strip('.csv')+'.svg')\n",
    "        plt.close()"
   ]
  },
  {
   "cell_type": "code",
   "execution_count": 10,
   "id": "aaca6516",
   "metadata": {},
   "outputs": [],
   "source": [
    "def save_shuffled_result(num_shuffle,save_path):\n",
    "    s = save_path+today+'/'\n",
    "    path = ['beta','beta_full','beta_shuffle']\n",
    "\n",
    "    for p in path:\n",
    "        os.makedirs(s+p+'/'+region+'/'+cell_name.strip('*.csv'),exist_ok=True)\n",
    "\n",
    "    for i in range(num_shuffle):\n",
    "        pd.DataFrame(beta_coef1[i,:,:]).to_csv(s+path[0]+'/'+region+'/'+cell_name.strip('*.csv')+'/'+str(i+1)+'.csv',index=False)\n",
    "        pd.DataFrame(beta_coef2[i,:,:]).to_csv(s+path[1]+'/'+region+'/'+cell_name.strip('*.csv')+'/'+str(i+1)+'.csv',index=False)\n",
    "        pd.DataFrame(beta_coef_shuffle[i,:,:]).to_csv(s+path[2]+'/'+region+'/'+cell_name.strip('*.csv')+'/'+str(i+1)+'.csv',index=False)\n",
    "\n",
    "    os.makedirs(s+'r_square/'+region,exist_ok=True)\n",
    "    os.makedirs(s+'r_square_full/'+region,exist_ok=True)\n",
    "    pd.DataFrame(rsquare1).to_csv(s+'r_square/'+region+'/'+cell_name,index=False)\n",
    "    pd.DataFrame(rsquare2).to_csv(s+'r_square_full/'+region+'/'+cell_name,index=False)"
   ]
  },
  {
   "cell_type": "code",
   "execution_count": null,
   "id": "7a800433",
   "metadata": {},
   "outputs": [
    {
     "name": "stdout",
     "output_type": "stream",
     "text": [
      "0003-600-1-1-Crossmodal-TeV-deep-(-7.32 mm)-TT4.1 ////// 1/888 completed  //////  8 min 53.85 sec\n"
     ]
    }
   ],
   "source": [
    "%%time\n",
    "for cell_run,cell_name in enumerate(cell_list):\n",
    "    loop_start = time.time()\n",
    "    # get information about the cell\n",
    "    cell_info = cell_name.split('-')\n",
    "    cell_id = int(cell_info[0])\n",
    "    rat_id = cell_info[1]\n",
    "    session_id = cell_info[2]\n",
    "    region = cell_info[5]    \n",
    "    \n",
    "    df = pd.read_csv(data_path+cell_name)\n",
    "    df.drop(df[df.Correctness==0].index,inplace=True)\n",
    "    df.reset_index(inplace=True,drop=True)\n",
    "    df[['Visual','Auditory']] = df[['Visual','Auditory']].fillna('no')\n",
    "    \n",
    "    boy_goal = df.loc[df['Visual']=='Boy','RWD_Loc'].values[0]\n",
    "    boy_aud = df.loc[df['RWD_Loc']==boy_goal,'Auditory'].values[0]\n",
    "    \n",
    "    egg_goal = df.loc[df['Visual']=='Egg','RWD_Loc'].values[0]\n",
    "    egg_aud = df.loc[df['RWD_Loc']==egg_goal,'Auditory'].values[0]  \n",
    "    \n",
    "    df['Boy-V'] = (df['Visual'] == 'Boy').astype(int)\n",
    "    df['Boy-A'] = (df['Auditory'] == boy_aud).astype(int)\n",
    "    df['Egg-V'] = (df['Visual'] == 'Egg').astype(int)\n",
    "    df['Egg-A'] = (df['Auditory'] == egg_aud).astype(int)\n",
    "    \n",
    "    df['Boy-int'] = df['Boy-V']*df['Boy-A']\n",
    "    df['Egg-int'] = df['Egg-V']*df['Egg-A']\n",
    "    \n",
    "    df['Choice'] = (df['RWD_Loc']==boy_goal).astype(int)        \n",
    "    \n",
    "    beta_coef1 = np.zeros((num_shuffle,6,95))\n",
    "    beta_coef2 = np.zeros((num_shuffle,7,95))\n",
    "    \n",
    "    beta_coef_shuffle = np.zeros((num_shuffle,6,95))\n",
    "    \n",
    "    rsquare1 = np.zeros((num_shuffle,95))\n",
    "    rsquare2 = np.zeros((num_shuffle,95))\n",
    "        \n",
    "    # subsampling   \n",
    "    for i in range(num_shuffle):\n",
    "        # subsample 5 trials from each stimulus condition\n",
    "        gb = df.groupby(['Visual', 'Auditory']).apply(lambda x: x.iloc[np.random.choice(len(x), size=5, replace=True)])\n",
    "        subsample = gb.index.get_level_values(2)\n",
    "    \n",
    "        # regressors for subsample trials\n",
    "        x1 = df.loc[subsample,['Boy-V','Boy-A','Boy-int','Egg-V','Egg-A','Egg-int']]            \n",
    "        x2 = df.loc[subsample,['Boy-V','Boy-A','Boy-int','Egg-V','Egg-A','Egg-int','Choice']]    \n",
    "        \n",
    "        x_shuffle = np.random.permutation(x1)\n",
    "        \n",
    "        fr_id = df.columns.get_loc('Var10')  # get the index of the first firing rate column\n",
    "        for t in range(95):\n",
    "            y = df.iloc[subsample,fr_id+t]    # firing rate data for subsampled trials\n",
    "            lr1 = LinearRegression().fit(x1,y)\n",
    "            lr2 = LinearRegression().fit(x2,y)\n",
    "            \n",
    "            lr_shuffle = LinearRegression().fit(x_shuffle,y)\n",
    "            \n",
    "            beta_coef1[i,:,t] = lr1.coef_    \n",
    "            beta_coef2[i,:,t] = lr2.coef_\n",
    "            \n",
    "            beta_coef_shuffle[i,:,t] = lr_shuffle.coef_\n",
    "            \n",
    "            rsquare1[i,t] = lr1.score(x1,y)\n",
    "            rsquare2[i,t] = lr2.score(x2,y)\n",
    "    \n",
    "    beta_mean = np.mean(beta_coef1,axis=0)\n",
    "    beta_std = np.std(beta_coef1,axis=0)    \n",
    "    \n",
    "    r_diff = np.mean(rsquare2,axis=0)-np.mean(rsquare1,axis=0)\n",
    "    \n",
    "    vis_diff = beta_coef_shuffle[:,0,:] - beta_coef_shuffle[:,3,:]\n",
    "    aud_diff = beta_coef_shuffle[:,1,:] - beta_coef_shuffle[:,4,:]\n",
    "    vis_crit = np.percentile(np.ravel(vis_diff), [2.5, 97.5])\n",
    "    aud_crit = np.percentile(aud_diff, [2.5, 97.5])    \n",
    "    \n",
    "    vis_sig_bin = np.where(((beta_mean[0,:]-beta_mean[3,:])>vis_crit[1])|((beta_mean[0,:]-beta_mean[3,:])<vis_crit[0]))\n",
    "    aud_sig_bin = np.where(((beta_mean[1,:]-beta_mean[4,:])>aud_crit[1])|((beta_mean[1,:]-beta_mean[4,:])<aud_crit[0]))\n",
    "    \n",
    "    plot_SDF_beta(df,2,1,1,'png')\n",
    "    \n",
    "    save_shuffled_result(num_shuffle,save_path)\n",
    "            \n",
    "    loop_end = time.time()\n",
    "    loop_time = divmod(loop_end-loop_start,60)\n",
    "    print(cell_name.strip('.csv'), f'////// {cell_run+1}/{len(cell_list)} completed  //////  {int(loop_time[0])} min {loop_time[1]:.2f} sec')"
   ]
  },
  {
   "cell_type": "markdown",
   "id": "3af82a4f",
   "metadata": {},
   "source": [
    "### Export CSV file"
   ]
  },
  {
   "cell_type": "code",
   "execution_count": 16,
   "id": "3f17ccda",
   "metadata": {},
   "outputs": [
    {
     "name": "stdout",
     "output_type": "stream",
     "text": [
      "END\n"
     ]
    }
   ],
   "source": [
    "print('END')"
   ]
  }
 ],
 "metadata": {
  "kernelspec": {
   "display_name": "Python 3 (ipykernel)",
   "language": "python",
   "name": "python3"
  },
  "language_info": {
   "codemirror_mode": {
    "name": "ipython",
    "version": 3
   },
   "file_extension": ".py",
   "mimetype": "text/x-python",
   "name": "python",
   "nbconvert_exporter": "python",
   "pygments_lexer": "ipython3",
   "version": "3.9.12"
  }
 },
 "nbformat": 4,
 "nbformat_minor": 5
}
