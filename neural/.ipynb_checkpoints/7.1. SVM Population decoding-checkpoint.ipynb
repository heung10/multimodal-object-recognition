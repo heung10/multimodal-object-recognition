{
 "cells": [
  {
   "cell_type": "markdown",
   "id": "c2d4f156",
   "metadata": {},
   "source": [
    "## SVM Population decoding\n",
    "Population decoding of the object identity and modality condition based on support vector machine.\n",
    "The purpose of this analysis is to see how much decoding performance improves when temporal information is added sequentially."
   ]
  },
  {
   "cell_type": "code",
   "execution_count": 1,
   "id": "6ef091ff",
   "metadata": {},
   "outputs": [],
   "source": [
    "import os\n",
    "from pathlib import Path\n",
    "import numpy as np\n",
    "import pandas as pd\n",
    "import random\n",
    "\n",
    "from scipy import stats\n",
    "import statsmodels.api as sm\n",
    "\n",
    "import pingouin as pg\n",
    "\n",
    "import matplotlib as mpl\n",
    "import matplotlib.pyplot as plt  \n",
    "import seaborn as sns\n",
    "\n",
    "from datetime import date\n",
    "import time\n",
    "\n",
    "from joblib import Parallel, delayed\n",
    "\n",
    "import h5py"
   ]
  },
  {
   "cell_type": "code",
   "execution_count": 2,
   "id": "a2efd57f",
   "metadata": {},
   "outputs": [],
   "source": [
    "# no top and right spines in all plots\n",
    "mpl.rcParams['axes.spines.right'] = False\n",
    "mpl.rcParams['axes.spines.top'] = False"
   ]
  },
  {
   "cell_type": "code",
   "execution_count": 3,
   "id": "75d558bd",
   "metadata": {},
   "outputs": [],
   "source": [
    "mother_path = Path('D:/Multi-modal project/')\n",
    "\n",
    "save_path = mother_path / 'analysis' / 'result' / '7. Population decoding'\n",
    "os.makedirs(save_path,exist_ok=True)\n",
    "\n",
    "fig_path = mother_path / 'analysis' / 'result' / 'figures'\n",
    "os.makedirs(fig_path,exist_ok=True)"
   ]
  },
  {
   "cell_type": "markdown",
   "id": "c9d779bc",
   "metadata": {},
   "source": [
    "### Parameter setting"
   ]
  },
  {
   "cell_type": "code",
   "execution_count": 4,
   "id": "80036cec",
   "metadata": {},
   "outputs": [],
   "source": [
    "# colors for multimodal, vis-only, aud-only conditions\n",
    "color = ['tab:purple','tab:blue','tab:red','tab:green']\n",
    "color2 = ['cyan','magenta','gray']\n",
    "linestyle = ['-',':']\n",
    "\n",
    "today = str(date.today())"
   ]
  },
  {
   "cell_type": "markdown",
   "id": "74ff06dc",
   "metadata": {},
   "source": [
    "### Data preparation"
   ]
  },
  {
   "cell_type": "code",
   "execution_count": 5,
   "id": "e42dba14",
   "metadata": {},
   "outputs": [],
   "source": [
    "cell_path = mother_path/'analysis'/'result'/'zFR export'/'13-Jun-2023'\n",
    "cell_list = os.listdir(cell_path)\n",
    "\n",
    "# load hdf5 files containing shuffled results\n",
    "data_path = mother_path /'analysis'/'result'/'3. ANOVA'/'2023-07-10'\n",
    "data2_path = mother_path /'analysis'/'result'/'3.1 Multiple linear regression'/'2023-07-10'\n",
    "f = h5py.File(data_path/'2023-07-10_ANOVA_result.hdf5','r')\n",
    "f2 = h5py.File(data2_path/'2023-07-10_multiple_regression_result.hdf5','r')"
   ]
  },
  {
   "cell_type": "code",
   "execution_count": 6,
   "id": "f0d3e2ba",
   "metadata": {},
   "outputs": [],
   "source": [
    "def h5_to_df(f):\n",
    "    keys = list(f.keys())\n",
    "    attributes = {}\n",
    "    \n",
    "    for key in keys:\n",
    "        attributes[key] = dict(f[key].attrs.items())\n",
    "    \n",
    "    df = pd.DataFrame.from_dict(attributes, orient='index')\n",
    "    df.index.name = 'key'\n",
    "    df = df.reset_index()\n",
    "    \n",
    "    return df"
   ]
  },
  {
   "cell_type": "code",
   "execution_count": 7,
   "id": "906bba68",
   "metadata": {},
   "outputs": [],
   "source": [
    "df = h5_to_df(f)\n",
    "df = df[df['region']=='PER']\n",
    "df.reset_index(inplace=True, drop=True)\n",
    "\n",
    "for key in df['key']:\n",
    "    if df.loc[df['key']==key, 'object cell'].item() == 0:\n",
    "        df.loc[df['key']==key, 'category'] = 'none'\n",
    "    else:\n",
    "        if f2[key].attrs['response cell'] == 0:\n",
    "            df.loc[df['key']==key, 'category'] = 'object'\n",
    "        else:\n",
    "            df.loc[df['key']==key, 'category'] = 'response'"
   ]
  },
  {
   "cell_type": "code",
   "execution_count": 8,
   "id": "2cb186ec",
   "metadata": {},
   "outputs": [],
   "source": [
    "df2 = pd.read_csv(mother_path/'analysis'/'result'/'5. Modality-specific object selectivity'/'2023-07-25_modality_specific.csv')"
   ]
  },
  {
   "cell_type": "markdown",
   "id": "e1a56520",
   "metadata": {},
   "source": [
    "### Check the number of neurons available for population analysis"
   ]
  },
  {
   "cell_type": "code",
   "execution_count": 146,
   "id": "c6f6aeaf",
   "metadata": {},
   "outputs": [
    {
     "name": "stdout",
     "output_type": "stream",
     "text": [
      "['600' '602' '640' '647' '654' '679' '699']\n"
     ]
    }
   ],
   "source": [
    "rat_list = np.sort(df['rat'].unique())\n",
    "print(rat_list)"
   ]
  },
  {
   "cell_type": "code",
   "execution_count": 147,
   "id": "ca52d6d8",
   "metadata": {},
   "outputs": [
    {
     "name": "stdout",
     "output_type": "stream",
     "text": [
      "===== Object cells + None =====\n",
      "[[ 8. 11.  3. 11.  7.  0.  0.]\n",
      " [26. 19. 28. 16. 16.  0.  0.]\n",
      " [10. 13.  9.  4.  5.  0.  0.]\n",
      " [ 0.  0.  0. 15. 10.  8.  4.]\n",
      " [ 7.  4.  0.  0.  1.  0.  0.]\n",
      " [ 0.  2.  2.  3.  0.  1.  0.]\n",
      " [ 9.  9. 16. 15. 17.  7.  0.]]\n"
     ]
    }
   ],
   "source": [
    "# none cell + object cell (response cell excluded)\n",
    "cell_array = np.zeros((len(rat_list),int(df['session'].max())))\n",
    "for i in range(len(df)):\n",
    "    rat = df.loc[i, 'rat']\n",
    "    rat_id = np.where(rat_list==rat)[0][0]\n",
    "    ss = int(df.loc[i, 'session'])\n",
    "    \n",
    "    if df.loc[i,'category'] != 'response':\n",
    "        cell_array[rat_id, ss-1] += 1\n",
    "\n",
    "print('===== Object cells + None =====')        \n",
    "print(cell_array)"
   ]
  },
  {
   "cell_type": "code",
   "execution_count": 148,
   "id": "e22bb33a",
   "metadata": {},
   "outputs": [
    {
     "name": "stdout",
     "output_type": "stream",
     "text": [
      "====== Only object cells ======\n",
      "[[ 5.  6.  2.  4.  5.  0.  0.]\n",
      " [15.  6. 10.  5.  8.  0.  0.]\n",
      " [ 7.  9.  4.  3.  3.  0.  0.]\n",
      " [ 0.  0.  0. 10.  4.  4.  4.]\n",
      " [ 3.  2.  0.  0.  1.  0.  0.]\n",
      " [ 0.  1.  0.  1.  0.  0.  0.]\n",
      " [ 4.  3.  6.  3.  8.  3.  0.]]\n"
     ]
    }
   ],
   "source": [
    "# only object cell (response cell, none cell excluded)\n",
    "cell_array = np.zeros((len(rat_list),int(df['session'].max())))\n",
    "for i in range(len(df)):\n",
    "    rat = df.loc[i, 'rat']\n",
    "    rat_id = np.where(rat_list==rat)[0][0]\n",
    "    ss = int(df.loc[i, 'session'])\n",
    "    \n",
    "    if df.loc[i,'category'] == 'object':\n",
    "        cell_array[rat_id, ss-1] += 1\n",
    "\n",
    "print('====== Only object cells ======')\n",
    "print(cell_array)"
   ]
  },
  {
   "cell_type": "code",
   "execution_count": 149,
   "id": "f6a7997b",
   "metadata": {},
   "outputs": [
    {
     "name": "stdout",
     "output_type": "stream",
     "text": [
      "# of object cells in each rat\n",
      "-----------------------------\n",
      "LE600: 22\n",
      "LE602: 44\n",
      "LE640: 26\n",
      "LE647: 22\n",
      "LE654: 6\n",
      "LE679: 2\n",
      "LE699: 27\n"
     ]
    }
   ],
   "source": [
    "num_obj = np.sum(cell_array,axis=1)\n",
    "print('# of object cells in each rat')\n",
    "print('-----------------------------')\n",
    "for i in range(len(rat_list)):\n",
    "    print(f'LE{rat_list[i]}: {int(num_obj[i])}')"
   ]
  },
  {
   "cell_type": "code",
   "execution_count": 150,
   "id": "3b8103c2",
   "metadata": {},
   "outputs": [
    {
     "name": "stdout",
     "output_type": "stream",
     "text": [
      "# of visual / auditory / unbiased cells in each rat\n",
      "---------------------------------------------------\n",
      "LE600: 3 / 2 / 17\n",
      "LE602: 10 / 5 / 29\n",
      "LE640: 3 / 6 / 17\n",
      "LE647: 2 / 12 / 8\n",
      "LE654: 0 / 0 / 6\n",
      "LE679: 0 / 0 / 2\n",
      "LE699: 3 / 2 / 22\n"
     ]
    }
   ],
   "source": [
    "# visual / auditory / unbiased cell\n",
    "visual_array = np.zeros((len(rat_list),int(df['session'].max())))\n",
    "auditory_array = np.zeros((len(rat_list),int(df['session'].max())))\n",
    "unbiased_array = np.zeros((len(rat_list),int(df['session'].max())))\n",
    "\n",
    "for i in range(len(df2)):\n",
    "    rat = str(df2.loc[i, 'rat'])\n",
    "    rat_id = np.where(rat_list==rat)[0][0]\n",
    "    ss = int(df2.loc[i, 'session'])\n",
    "\n",
    "    if df2.loc[i,'Category'] == 'visual':\n",
    "        visual_array[rat_id, ss-1] += 1\n",
    "    elif df2.loc[i,'Category'] == 'auditory':\n",
    "        auditory_array[rat_id, ss-1] += 1\n",
    "    elif df2.loc[i,'Category'] == 'unbiased':\n",
    "        unbiased_array[rat_id, ss-1] += 1        \n",
    "\n",
    "num_visual = np.sum(visual_array,axis=1)\n",
    "num_auditory = np.sum(auditory_array,axis=1)\n",
    "num_unbiased = np.sum(unbiased_array,axis=1)\n",
    "print('# of visual / auditory / unbiased cells in each rat')\n",
    "print('---------------------------------------------------')\n",
    "for i in range(len(rat_list)):\n",
    "    print(f'LE{rat_list[i]}: {int(num_visual[i])} / {int(num_auditory[i])} / {int(num_unbiased[i])}')"
   ]
  },
  {
   "cell_type": "markdown",
   "id": "93d1dad1",
   "metadata": {},
   "source": [
    "---"
   ]
  },
  {
   "cell_type": "markdown",
   "id": "e201440f",
   "metadata": {},
   "source": [
    "## Population decoding"
   ]
  },
  {
   "cell_type": "code",
   "execution_count": 9,
   "id": "48433d57",
   "metadata": {},
   "outputs": [],
   "source": [
    "from sklearn import svm\n",
    "from sklearn import metrics\n",
    "from sklearn.model_selection import StratifiedKFold\n",
    "from sklearn.preprocessing import MinMaxScaler\n",
    "from sklearn.preprocessing import StandardScaler"
   ]
  },
  {
   "cell_type": "markdown",
   "id": "aeac2177",
   "metadata": {},
   "source": [
    "### Object * modality decoding using all object cells\n",
    "Object and modality conditions (2 by 3) were classified using linear support vector machine.\n",
    "All object cells are used in this analysis.\n",
    "We verified if the decoding performance increased as the temporal information is gradually added."
   ]
  },
  {
   "cell_type": "code",
   "execution_count": 10,
   "id": "5bf72879",
   "metadata": {},
   "outputs": [],
   "source": [
    "def subsample(df, rat, num_trial, bin_size, time_bin, shuffle):\n",
    "    scaler = StandardScaler()\n",
    "\n",
    "    num_bin = int(90/bin_size)\n",
    "    object_cell_list = df.loc[(df['rat']==rat)&(df['category']=='object'),'key'].to_numpy()\n",
    "\n",
    "    # M by N array of subsampled firing rates\n",
    "    # M = stimulus condition * number of subsampled trials\n",
    "    # N = number of cells * number of time bins\n",
    "    X = np.zeros((6*num_trial, len(object_cell_list)*time_bin))\n",
    "\n",
    "    for i,cell_key in enumerate(object_cell_list):\n",
    "\n",
    "        # load trial-by-trial firing rate data of a cell\n",
    "        key = cell_key.zfill(4)\n",
    "        cell_filename = list(cell_path.glob(f'{key}*.csv'))\n",
    "        df_cell = pd.read_csv(cell_filename[0])\n",
    "        df_cell.drop(df_cell[df_cell.Correctness==0].index,inplace=True)\n",
    "        df_cell.reset_index(inplace=True,drop=True)\n",
    "\n",
    "        # goal location (left or right) of each object condition\n",
    "        boy_goal = df_cell.loc[df_cell['Visual']=='Boy','RWD_Loc'].values[0]\n",
    "        egg_goal = df_cell.loc[df_cell['Visual']=='Egg','RWD_Loc'].values[0]\n",
    "\n",
    "        # shuffling stimulus condition for permutation test\n",
    "        if shuffle:\n",
    "            cond_array = df_cell[['Type','RWD_Loc']].to_numpy()\n",
    "            shuffled_cond_array = np.random.permutation(cond_array)\n",
    "            df_cell[['Type','RWD_Loc']] = shuffled_cond_array\n",
    "\n",
    "        # stimulus condition (identity x modality)\n",
    "        cond = [(df_cell['Type']=='Multimodal')&(df_cell['RWD_Loc']==boy_goal),\n",
    "                (df_cell['Type']=='Visual')&(df_cell['RWD_Loc']==boy_goal),\n",
    "                (df_cell['Type']=='Auditory')&(df_cell['RWD_Loc']==boy_goal),\n",
    "                (df_cell['Type']=='Multimodal')&(df_cell['RWD_Loc']==egg_goal),\n",
    "                (df_cell['Type']=='Visual')&(df_cell['RWD_Loc']==egg_goal),\n",
    "                (df_cell['Type']=='Auditory')&(df_cell['RWD_Loc']==egg_goal)]\n",
    "\n",
    "        fr_id = df_cell.columns.get_loc('Var10')  # get the index of the first firing rate column\n",
    "        FR = df_cell.iloc[:,fr_id:].to_numpy()    # convert firing rate data to numpy array\n",
    "    \n",
    "        # recalculate mean firing rates of each time bin\n",
    "        FR_bin = np.zeros((len(df_cell),time_bin))\n",
    "        for b in range(time_bin):\n",
    "            FR_bin[:,b] = FR[:,b*time_bin:(b+1)*time_bin].mean(axis=1)\n",
    "\n",
    "        for c in range(len(cond)):\n",
    "            # subsample n trials from each stimulus condition\n",
    "            subsampled_trial = df_cell[cond[c]].sample(num_trial).index\n",
    "            # firing rates of subsampled trials\n",
    "            FR_sub = FR_bin[subsampled_trial,:]\n",
    "            # add subsampled firing rate data to the result array\n",
    "            X[num_trial*c:num_trial*(c+1), time_bin*i:time_bin*(i+1)] = FR_sub\n",
    "    \n",
    "    X_norm = scaler.fit_transform(X)\n",
    "\n",
    "    return X_norm"
   ]
  },
  {
   "cell_type": "code",
   "execution_count": 11,
   "id": "fda282fe",
   "metadata": {},
   "outputs": [],
   "source": [
    "def subsample_cross_val_predict(df, model, rat, kfold, num_trial, bin_size, time_bin, shuffle):\n",
    "    result = np.zeros((6,6))\n",
    "\n",
    "    X = subsample(df, rat, num_trial, bin_size, time_bin, shuffle)\n",
    "    Y = np.repeat(np.arange(6), 5)\n",
    "\n",
    "    skf = StratifiedKFold(n_splits=kfold, shuffle=True)\n",
    "    for (train_index, test_index) in skf.split(X, Y):\n",
    "        model.fit(X[train_index,:],Y[train_index])\n",
    "        pred = model.predict(X[test_index,:])\n",
    "        for j in range(6):\n",
    "            result[j,pred[j]] += 1\n",
    "\n",
    "    return result"
   ]
  },
  {
   "cell_type": "markdown",
   "id": "c2a81b1f",
   "metadata": {},
   "source": [
    "#### SVM parameter"
   ]
  },
  {
   "cell_type": "code",
   "execution_count": 10,
   "id": "18650b18",
   "metadata": {},
   "outputs": [],
   "source": [
    "final_model = svm.SVC(kernel='linear', C=0.01)\n",
    "kfold = 5\n",
    "num_trial = 5\n",
    "bin_size = 10\n",
    "num_iter = 100\n",
    "rat_list = ['600', '602', '640', '647', '699']"
   ]
  },
  {
   "cell_type": "markdown",
   "id": "2629d62f",
   "metadata": {},
   "source": [
    "#### Real data"
   ]
  },
  {
   "cell_type": "code",
   "execution_count": 75,
   "id": "606316bc",
   "metadata": {
    "collapsed": true
   },
   "outputs": [
    {
     "name": "stdout",
     "output_type": "stream",
     "text": [
      "LE600 completed /// Elapsed time: 0 min 19.45 sec\n",
      "LE602 completed /// Elapsed time: 0 min 24.42 sec\n",
      "LE640 completed /// Elapsed time: 0 min 16.57 sec\n",
      "LE647 completed /// Elapsed time: 0 min 16.46 sec\n",
      "LE699 completed /// Elapsed time: 0 min 16.66 sec\n",
      "---------------------------------------------------\n",
      "1 timebin completed / Elapsed time: 1 min 33.57 sec\n",
      "===================================================\n",
      "\n",
      "LE600 completed /// Elapsed time: 0 min 14.00 sec\n",
      "LE602 completed /// Elapsed time: 0 min 35.04 sec\n",
      "LE640 completed /// Elapsed time: 0 min 22.22 sec\n",
      "LE647 completed /// Elapsed time: 0 min 15.04 sec\n",
      "LE699 completed /// Elapsed time: 0 min 15.93 sec\n",
      "---------------------------------------------------\n",
      "2 timebin completed / Elapsed time: 1 min 42.23 sec\n",
      "===================================================\n",
      "\n",
      "LE600 completed /// Elapsed time: 0 min 20.60 sec\n",
      "LE602 completed /// Elapsed time: 0 min 29.83 sec\n",
      "LE640 completed /// Elapsed time: 0 min 18.98 sec\n",
      "LE647 completed /// Elapsed time: 0 min 15.25 sec\n",
      "LE699 completed /// Elapsed time: 0 min 17.00 sec\n",
      "---------------------------------------------------\n",
      "3 timebin completed / Elapsed time: 1 min 41.66 sec\n",
      "===================================================\n",
      "\n",
      "LE600 completed /// Elapsed time: 0 min 13.54 sec\n",
      "LE602 completed /// Elapsed time: 0 min 25.60 sec\n",
      "LE640 completed /// Elapsed time: 0 min 15.22 sec\n",
      "LE647 completed /// Elapsed time: 0 min 12.29 sec\n",
      "LE699 completed /// Elapsed time: 0 min 15.17 sec\n",
      "---------------------------------------------------\n",
      "4 timebin completed / Elapsed time: 1 min 21.83 sec\n",
      "===================================================\n",
      "\n",
      "LE600 completed /// Elapsed time: 0 min 13.02 sec\n",
      "LE602 completed /// Elapsed time: 0 min 23.62 sec\n",
      "LE640 completed /// Elapsed time: 0 min 14.46 sec\n",
      "LE647 completed /// Elapsed time: 0 min 12.62 sec\n",
      "LE699 completed /// Elapsed time: 0 min 14.98 sec\n",
      "---------------------------------------------------\n",
      "5 timebin completed / Elapsed time: 1 min 18.71 sec\n",
      "===================================================\n",
      "\n",
      "LE600 completed /// Elapsed time: 0 min 13.54 sec\n",
      "LE602 completed /// Elapsed time: 0 min 28.50 sec\n",
      "LE640 completed /// Elapsed time: 0 min 16.17 sec\n",
      "LE647 completed /// Elapsed time: 0 min 14.84 sec\n",
      "LE699 completed /// Elapsed time: 0 min 16.22 sec\n",
      "---------------------------------------------------\n",
      "6 timebin completed / Elapsed time: 1 min 29.27 sec\n",
      "===================================================\n",
      "\n",
      "LE600 completed /// Elapsed time: 0 min 13.50 sec\n",
      "LE602 completed /// Elapsed time: 0 min 25.30 sec\n",
      "LE640 completed /// Elapsed time: 0 min 18.32 sec\n",
      "LE647 completed /// Elapsed time: 0 min 15.58 sec\n",
      "LE699 completed /// Elapsed time: 0 min 15.72 sec\n",
      "---------------------------------------------------\n",
      "7 timebin completed / Elapsed time: 1 min 28.42 sec\n",
      "===================================================\n",
      "\n",
      "LE600 completed /// Elapsed time: 0 min 13.35 sec\n",
      "LE602 completed /// Elapsed time: 0 min 28.42 sec\n",
      "LE640 completed /// Elapsed time: 0 min 18.62 sec\n",
      "LE647 completed /// Elapsed time: 0 min 14.41 sec\n",
      "LE699 completed /// Elapsed time: 0 min 18.15 sec\n",
      "---------------------------------------------------\n",
      "8 timebin completed / Elapsed time: 1 min 32.94 sec\n",
      "===================================================\n",
      "\n",
      "LE600 completed /// Elapsed time: 0 min 13.83 sec\n",
      "LE602 completed /// Elapsed time: 0 min 25.29 sec\n",
      "LE640 completed /// Elapsed time: 0 min 18.20 sec\n",
      "LE647 completed /// Elapsed time: 0 min 14.48 sec\n",
      "LE699 completed /// Elapsed time: 0 min 15.59 sec\n",
      "---------------------------------------------------\n",
      "9 timebin completed / Elapsed time: 1 min 27.39 sec\n",
      "===================================================\n",
      "\n",
      "CPU times: total: 22.5 s\n",
      "Wall time: 13min 36s\n"
     ]
    }
   ],
   "source": [
    "%%time\n",
    "for t in range(9):\n",
    "    bin_loop_start = time.time()\n",
    "\n",
    "    svm_real = np.zeros((len(rat_list),6,6))\n",
    "    for i,rat in enumerate(rat_list):\n",
    "        loop_start = time.time()\n",
    "\n",
    "        rat_result = Parallel(n_jobs=-1)(delayed(subsample_cross_val_predict)(df, final_model, rat, kfold, num_trial, bin_size, t+1, 0) for j in range(num_iter))   \n",
    "\n",
    "        svm_real[i,:,:] = np.sum(rat_result,axis=0)/(num_iter*kfold)\n",
    "\n",
    "        loop_end = time.time()\n",
    "        loop_time = divmod(loop_end-loop_start,60)\n",
    "        print(f'LE{rat} completed /// Elapsed time: {int(loop_time[0])} min {loop_time[1]:.2f} sec')\n",
    "\n",
    "    np.save(save_path / f'{today}_{bin_size*10}ms_{t+1}bins_{num_iter}iter_real.npy',svm_real)\n",
    "\n",
    "    bin_loop_end = time.time()\n",
    "    bin_loop_time = divmod(bin_loop_end-bin_loop_start,60)\n",
    "    print('---------------------------------------------------')\n",
    "    print(f'{t+1} timebin completed / Elapsed time: {int(bin_loop_time[0])} min {bin_loop_time[1]:.2f} sec')\n",
    "    print('===================================================')\n",
    "    print('')"
   ]
  },
  {
   "cell_type": "markdown",
   "id": "959efbf0",
   "metadata": {},
   "source": [
    "#### Shuffled data"
   ]
  },
  {
   "cell_type": "code",
   "execution_count": 35,
   "id": "f148c836",
   "metadata": {
    "collapsed": true
   },
   "outputs": [
    {
     "ename": "KeyboardInterrupt",
     "evalue": "",
     "output_type": "error",
     "traceback": [
      "\u001b[1;31m---------------------------------------------------------------------------\u001b[0m",
      "\u001b[1;31mKeyboardInterrupt\u001b[0m                         Traceback (most recent call last)",
      "File \u001b[1;32m<timed exec>:15\u001b[0m, in \u001b[0;36m<module>\u001b[1;34m\u001b[0m\n",
      "File \u001b[1;32m~\\anaconda3\\lib\\site-packages\\joblib\\parallel.py:1056\u001b[0m, in \u001b[0;36mParallel.__call__\u001b[1;34m(self, iterable)\u001b[0m\n\u001b[0;32m   1053\u001b[0m     \u001b[38;5;28mself\u001b[39m\u001b[38;5;241m.\u001b[39m_iterating \u001b[38;5;241m=\u001b[39m \u001b[38;5;28;01mFalse\u001b[39;00m\n\u001b[0;32m   1055\u001b[0m \u001b[38;5;28;01mwith\u001b[39;00m \u001b[38;5;28mself\u001b[39m\u001b[38;5;241m.\u001b[39m_backend\u001b[38;5;241m.\u001b[39mretrieval_context():\n\u001b[1;32m-> 1056\u001b[0m     \u001b[38;5;28;43mself\u001b[39;49m\u001b[38;5;241;43m.\u001b[39;49m\u001b[43mretrieve\u001b[49m\u001b[43m(\u001b[49m\u001b[43m)\u001b[49m\n\u001b[0;32m   1057\u001b[0m \u001b[38;5;66;03m# Make sure that we get a last message telling us we are done\u001b[39;00m\n\u001b[0;32m   1058\u001b[0m elapsed_time \u001b[38;5;241m=\u001b[39m time\u001b[38;5;241m.\u001b[39mtime() \u001b[38;5;241m-\u001b[39m \u001b[38;5;28mself\u001b[39m\u001b[38;5;241m.\u001b[39m_start_time\n",
      "File \u001b[1;32m~\\anaconda3\\lib\\site-packages\\joblib\\parallel.py:935\u001b[0m, in \u001b[0;36mParallel.retrieve\u001b[1;34m(self)\u001b[0m\n\u001b[0;32m    933\u001b[0m \u001b[38;5;28;01mtry\u001b[39;00m:\n\u001b[0;32m    934\u001b[0m     \u001b[38;5;28;01mif\u001b[39;00m \u001b[38;5;28mgetattr\u001b[39m(\u001b[38;5;28mself\u001b[39m\u001b[38;5;241m.\u001b[39m_backend, \u001b[38;5;124m'\u001b[39m\u001b[38;5;124msupports_timeout\u001b[39m\u001b[38;5;124m'\u001b[39m, \u001b[38;5;28;01mFalse\u001b[39;00m):\n\u001b[1;32m--> 935\u001b[0m         \u001b[38;5;28mself\u001b[39m\u001b[38;5;241m.\u001b[39m_output\u001b[38;5;241m.\u001b[39mextend(\u001b[43mjob\u001b[49m\u001b[38;5;241;43m.\u001b[39;49m\u001b[43mget\u001b[49m\u001b[43m(\u001b[49m\u001b[43mtimeout\u001b[49m\u001b[38;5;241;43m=\u001b[39;49m\u001b[38;5;28;43mself\u001b[39;49m\u001b[38;5;241;43m.\u001b[39;49m\u001b[43mtimeout\u001b[49m\u001b[43m)\u001b[49m)\n\u001b[0;32m    936\u001b[0m     \u001b[38;5;28;01melse\u001b[39;00m:\n\u001b[0;32m    937\u001b[0m         \u001b[38;5;28mself\u001b[39m\u001b[38;5;241m.\u001b[39m_output\u001b[38;5;241m.\u001b[39mextend(job\u001b[38;5;241m.\u001b[39mget())\n",
      "File \u001b[1;32m~\\anaconda3\\lib\\site-packages\\joblib\\_parallel_backends.py:542\u001b[0m, in \u001b[0;36mLokyBackend.wrap_future_result\u001b[1;34m(future, timeout)\u001b[0m\n\u001b[0;32m    539\u001b[0m \u001b[38;5;124;03m\"\"\"Wrapper for Future.result to implement the same behaviour as\u001b[39;00m\n\u001b[0;32m    540\u001b[0m \u001b[38;5;124;03mAsyncResults.get from multiprocessing.\"\"\"\u001b[39;00m\n\u001b[0;32m    541\u001b[0m \u001b[38;5;28;01mtry\u001b[39;00m:\n\u001b[1;32m--> 542\u001b[0m     \u001b[38;5;28;01mreturn\u001b[39;00m \u001b[43mfuture\u001b[49m\u001b[38;5;241;43m.\u001b[39;49m\u001b[43mresult\u001b[49m\u001b[43m(\u001b[49m\u001b[43mtimeout\u001b[49m\u001b[38;5;241;43m=\u001b[39;49m\u001b[43mtimeout\u001b[49m\u001b[43m)\u001b[49m\n\u001b[0;32m    543\u001b[0m \u001b[38;5;28;01mexcept\u001b[39;00m CfTimeoutError \u001b[38;5;28;01mas\u001b[39;00m e:\n\u001b[0;32m    544\u001b[0m     \u001b[38;5;28;01mraise\u001b[39;00m \u001b[38;5;167;01mTimeoutError\u001b[39;00m \u001b[38;5;28;01mfrom\u001b[39;00m \u001b[38;5;21;01me\u001b[39;00m\n",
      "File \u001b[1;32m~\\anaconda3\\lib\\concurrent\\futures\\_base.py:441\u001b[0m, in \u001b[0;36mFuture.result\u001b[1;34m(self, timeout)\u001b[0m\n\u001b[0;32m    438\u001b[0m \u001b[38;5;28;01melif\u001b[39;00m \u001b[38;5;28mself\u001b[39m\u001b[38;5;241m.\u001b[39m_state \u001b[38;5;241m==\u001b[39m FINISHED:\n\u001b[0;32m    439\u001b[0m     \u001b[38;5;28;01mreturn\u001b[39;00m \u001b[38;5;28mself\u001b[39m\u001b[38;5;241m.\u001b[39m__get_result()\n\u001b[1;32m--> 441\u001b[0m \u001b[38;5;28;43mself\u001b[39;49m\u001b[38;5;241;43m.\u001b[39;49m\u001b[43m_condition\u001b[49m\u001b[38;5;241;43m.\u001b[39;49m\u001b[43mwait\u001b[49m\u001b[43m(\u001b[49m\u001b[43mtimeout\u001b[49m\u001b[43m)\u001b[49m\n\u001b[0;32m    443\u001b[0m \u001b[38;5;28;01mif\u001b[39;00m \u001b[38;5;28mself\u001b[39m\u001b[38;5;241m.\u001b[39m_state \u001b[38;5;129;01min\u001b[39;00m [CANCELLED, CANCELLED_AND_NOTIFIED]:\n\u001b[0;32m    444\u001b[0m     \u001b[38;5;28;01mraise\u001b[39;00m CancelledError()\n",
      "File \u001b[1;32m~\\anaconda3\\lib\\threading.py:312\u001b[0m, in \u001b[0;36mCondition.wait\u001b[1;34m(self, timeout)\u001b[0m\n\u001b[0;32m    310\u001b[0m \u001b[38;5;28;01mtry\u001b[39;00m:    \u001b[38;5;66;03m# restore state no matter what (e.g., KeyboardInterrupt)\u001b[39;00m\n\u001b[0;32m    311\u001b[0m     \u001b[38;5;28;01mif\u001b[39;00m timeout \u001b[38;5;129;01mis\u001b[39;00m \u001b[38;5;28;01mNone\u001b[39;00m:\n\u001b[1;32m--> 312\u001b[0m         \u001b[43mwaiter\u001b[49m\u001b[38;5;241;43m.\u001b[39;49m\u001b[43macquire\u001b[49m\u001b[43m(\u001b[49m\u001b[43m)\u001b[49m\n\u001b[0;32m    313\u001b[0m         gotit \u001b[38;5;241m=\u001b[39m \u001b[38;5;28;01mTrue\u001b[39;00m\n\u001b[0;32m    314\u001b[0m     \u001b[38;5;28;01melse\u001b[39;00m:\n",
      "\u001b[1;31mKeyboardInterrupt\u001b[0m: "
     ]
    }
   ],
   "source": [
    "%%time\n",
    "num_shuffle = 1000\n",
    "\n",
    "for t in range(9):\n",
    "    bin_loop_start = time.time()\n",
    "    \n",
    "    svm_shuffle_result = np.zeros((num_shuffle,len(rat_list),6,6))\n",
    "    for shuffle_run in range(num_shuffle):\n",
    "        \n",
    "        # measure elapsed time for every 100 loops\n",
    "        if divmod(shuffle_run+1,100)[1] == 1:\n",
    "            loop_start = time.time()\n",
    "            \n",
    "        svm_result = np.zeros((len(rat_list),6,6))\n",
    "        for r,rat in enumerate(rat_list):\n",
    "            rat_result = Parallel(n_jobs=-1)(delayed(subsample_cross_val_predict)(df, final_model, rat, kfold, num_trial, bin_size, t+1, 1) for j in range(num_iter))   \n",
    "            svm_result[r,:,:] = np.sum(rat_result,axis=0)/(num_iter*kfold*2)\n",
    "\n",
    "        svm_shuffle_result[shuffle_run,:,:,:] = svm_result\n",
    "    \n",
    "        # measure elapsed time for every 100 loops\n",
    "        if divmod(shuffle_run+1,100)[1] == 0:\n",
    "            loop_end = time.time()\n",
    "            loop_time = divmod(loop_end-loop_start,60)\n",
    "            print(f'Shuffle run {shuffle_run+1} completed /// Elapsed time: {int(loop_time[0])} min {loop_time[1]:.2f} sec')\n",
    "\n",
    "    np.save(save_path / f'{today}_{bin_size*10}ms_{t+1}bins_{num_iter}iter_shuffle.npy',svm_shuffle_result)\n",
    "\n",
    "    bin_loop_end = time.time()\n",
    "    bin_loop_time = divmod(bin_loop_end-bin_loop_start,60)\n",
    "    print('---------------------------------------------------')\n",
    "    print(f'{t+1} timebin completed / Elapsed time: {int(bin_loop_time[0])} min {bin_loop_time[1]:.2f} sec')\n",
    "    print('===================================================')\n",
    "    print('')"
   ]
  },
  {
   "cell_type": "markdown",
   "id": "9964d0cf",
   "metadata": {},
   "source": [
    "#### Evaluating decoding results"
   ]
  },
  {
   "cell_type": "code",
   "execution_count": 13,
   "id": "fbe83054",
   "metadata": {},
   "outputs": [],
   "source": [
    "load_date = '2023-07-28'\n",
    "np_path = save_path / 'all conditions'\n",
    "\n",
    "real_data = np.load(np_path / f'{load_date}_{bin_size*10}ms_{9}bins_{num_iter}iter_real.npy')\n",
    "shuffle_data = np.load(np_path / f'{load_date}_{bin_size*10}ms_{9}bins_{num_iter}iter_shuffle.npy')\n",
    "\n",
    "real_mean = np.mean(real_data, axis=0)/6\n",
    "shuffle_mean = np.mean(shuffle_data, axis=1)/3"
   ]
  },
  {
   "cell_type": "code",
   "execution_count": 14,
   "id": "b5b563c8",
   "metadata": {
    "collapsed": true
   },
   "outputs": [
    {
     "data": {
      "image/png": "[encoded data removed]",
      "text/plain": [
       "<Figure size 1080x864 with 36 Axes>"
      ]
     },
     "metadata": {
      "needs_background": "light"
     },
     "output_type": "display_data"
    }
   ],
   "source": [
    "# distributions of shuffled decoding performance\n",
    "fig,ax = plt.subplots(6,6, figsize=(15,12))\n",
    "for i in range(6):\n",
    "    for j in range(6):\n",
    "        m = np.round(np.mean(shuffle_mean[:,i,j]*100))/100\n",
    "        ax[i,j].hist(shuffle_mean[:,i,j], color='gray');\n",
    "plt.tight_layout()"
   ]
  },
  {
   "cell_type": "code",
   "execution_count": 138,
   "id": "2aaef8d4",
   "metadata": {},
   "outputs": [
    {
     "data": {
      "image/png": "[encoded data removed]",
      "text/plain": [
       "<Figure size 432x432 with 1 Axes>"
      ]
     },
     "metadata": {
      "needs_background": "light"
     },
     "output_type": "display_data"
    }
   ],
   "source": [
    "# contingency matrix for data using all time bins\n",
    "fig,ax = plt.subplots(figsize=(6,6))\n",
    "#cax = fig.add_axes([0,0.3,0.05,0.5])\n",
    "\n",
    "im = ax.imshow(real_mean, cmap=plt.cm.get_cmap('Blues'));\n",
    "ax.set_xlabel('Predcited condition', fontsize=14)\n",
    "ax.set_ylabel('Actual condition', fontsize=14)\n",
    "\n",
    "for m in range(6):\n",
    "    for l in range(6):        \n",
    "        ax.text(m,l,'{:.3f}'.format(real_mean[l,m]),ha='center')\n",
    "        \n",
    "        pval_crit = [np.percentile(shuffle_mean[:,m,l],95), np.percentile(shuffle_mean[:,m,l],99),\n",
    "                     np.percentile(shuffle_mean[:,m,l],99.9), np.percentile(shuffle_mean[:,m,l],99.99)]\n",
    "        if real_mean[l,m] > pval_crit[3]:\n",
    "            ax.text(m,l+0.2,'****', ha='center', color='white')\n",
    "        elif real_mean[l,m] > pval_crit[2]:\n",
    "            ax.text(m,l+0.2,'***', ha='center', color='white')\n",
    "        elif real_mean[l,m] > pval_crit[1]:\n",
    "            ax.text(m,l+0.2,'**', ha='center', color='white')\n",
    "        elif real_mean[l,m] > pval_crit[0]:\n",
    "            ax.text(m,l+0.2,'*', ha='center', color='white')\n",
    "\n",
    "ax.set_xticks(np.arange(0,6))\n",
    "ax.set_xticklabels(['Boy-M','Boy-V','Boy-A','Egg-M','Egg-V','Egg-A']);\n",
    "ax.set_yticks(np.arange(0,6))\n",
    "ax.set_yticklabels(['Boy-M','Boy-V','Boy-A','Egg-M','Egg-V','Egg-A']);\n",
    "\n",
    "#fig.colorbar(im, cax = cax, orientation='vertical')\n",
    "#plt.savefig(fig_path / 'svg' / 'confusion_all_conditions.svg')\n",
    "#plt.tight_layout()"
   ]
  },
  {
   "cell_type": "code",
   "execution_count": 15,
   "id": "b142f7cb",
   "metadata": {},
   "outputs": [
    {
     "data": {
      "image/png": "[encoded data removed]",
      "text/plain": [
       "<Figure size 432x288 with 1 Axes>"
      ]
     },
     "metadata": {
      "needs_background": "light"
     },
     "output_type": "display_data"
    }
   ],
   "source": [
    "# decoding performance of models using different time range\n",
    "\n",
    "result = np.zeros((3,5,9))    # modality * rat * timebin\n",
    "result_shuffle = np.zeros((3,5,9))    # modality * rat * timebin\n",
    "\n",
    "for t in range(9):\n",
    "    real_data = np.load(np_path / f'{load_date}_{bin_size*10}ms_{t+1}bins_{num_iter}iter_real.npy')\n",
    "    shuffle_data = np.load(np_path / f'{load_date}_{bin_size*10}ms_{t+1}bins_{num_iter}iter_shuffle.npy')\n",
    "    shuffle_mean = np.mean(shuffle_data, axis=0)\n",
    "    \n",
    "    for i in range(3):\n",
    "        result[i,:,t] = (real_data[:,i,i]+real_data[:,i+3,i+3])/6\n",
    "        result_shuffle[i,:,t] = (shuffle_mean[:,i,i]+shuffle_mean[:,i+3,i+3])/3\n",
    "\n",
    "mean_real = np.mean(result, axis=1)\n",
    "sem_real = stats.sem(result, axis=1)\n",
    "mean_shuffle = np.mean(result_shuffle, axis=1)\n",
    "\n",
    "fig,ax = plt.subplots(figsize=(6,4))\n",
    "\n",
    "for i in range(3):\n",
    "    ax.errorbar(range(9),mean_real[i],yerr=sem_real[i], color=color[i], linewidth=3)\n",
    "    ax.plot(mean_shuffle[i], color=color[i], linestyle='--', linewidth=2)\n",
    "\n",
    "ax.set_xticks(range(9));\n",
    "ax.set_xticklabels(['~0.1s', '~0.2s', '~0.3s', '~0.4s', '~0.5s', '~0.6s', '~0.7s', '~0.8s', '~0.9s']);\n",
    "ax.set_yticks(np.arange(0.04,0.18,0.02));\n",
    "ax.set_ylim([0.04,0.16])\n",
    "ax.set_xlabel('Temporal input', fontsize=13);\n",
    "ax.set_ylabel('Decoding accuracy', fontsize=13);\n",
    "\n",
    "#plt.savefig(fig_path / 'svg' / 'decoding_accuracy_across_time.svg')"
   ]
  },
  {
   "cell_type": "code",
   "execution_count": 16,
   "id": "f46e3638",
   "metadata": {},
   "outputs": [
    {
     "name": "stderr",
     "output_type": "stream",
     "text": [
      "C:\\Users\\Lim HY\\anaconda3\\lib\\site-packages\\pingouin\\distribution.py:515: UserWarning: Epsilon values might be innaccurate in two-way repeated measures design where each  factor has more than 2 levels. Please  double-check your results.\n",
      "  warnings.warn(\n"
     ]
    },
    {
     "data": {
      "text/html": [
       "<div>\n",
       "<style scoped>\n",
       "    .dataframe tbody tr th:only-of-type {\n",
       "        vertical-align: middle;\n",
       "    }\n",
       "\n",
       "    .dataframe tbody tr th {\n",
       "        vertical-align: top;\n",
       "    }\n",
       "\n",
       "    .dataframe thead th {\n",
       "        text-align: right;\n",
       "    }\n",
       "</style>\n",
       "<table border=\"1\" class=\"dataframe\">\n",
       "  <thead>\n",
       "    <tr style=\"text-align: right;\">\n",
       "      <th></th>\n",
       "      <th>Source</th>\n",
       "      <th>SS</th>\n",
       "      <th>ddof1</th>\n",
       "      <th>ddof2</th>\n",
       "      <th>MS</th>\n",
       "      <th>F</th>\n",
       "      <th>p-unc</th>\n",
       "      <th>p-GG-corr</th>\n",
       "      <th>np2</th>\n",
       "      <th>eps</th>\n",
       "    </tr>\n",
       "  </thead>\n",
       "  <tbody>\n",
       "    <tr>\n",
       "      <th>0</th>\n",
       "      <td>mod</td>\n",
       "      <td>0.004755</td>\n",
       "      <td>2</td>\n",
       "      <td>8</td>\n",
       "      <td>0.002378</td>\n",
       "      <td>3.809807</td>\n",
       "      <td>6.881430e-02</td>\n",
       "      <td>0.095030</td>\n",
       "      <td>0.487823</td>\n",
       "      <td>0.718120</td>\n",
       "    </tr>\n",
       "    <tr>\n",
       "      <th>1</th>\n",
       "      <td>time</td>\n",
       "      <td>0.071988</td>\n",
       "      <td>8</td>\n",
       "      <td>32</td>\n",
       "      <td>0.008998</td>\n",
       "      <td>35.779221</td>\n",
       "      <td>7.857724e-14</td>\n",
       "      <td>0.000708</td>\n",
       "      <td>0.899445</td>\n",
       "      <td>0.183161</td>\n",
       "    </tr>\n",
       "    <tr>\n",
       "      <th>2</th>\n",
       "      <td>mod * time</td>\n",
       "      <td>0.000729</td>\n",
       "      <td>16</td>\n",
       "      <td>64</td>\n",
       "      <td>0.000046</td>\n",
       "      <td>0.362626</td>\n",
       "      <td>9.864627e-01</td>\n",
       "      <td>0.672380</td>\n",
       "      <td>0.083121</td>\n",
       "      <td>0.103901</td>\n",
       "    </tr>\n",
       "  </tbody>\n",
       "</table>\n",
       "</div>"
      ],
      "text/plain": [
       "       Source        SS  ddof1  ddof2        MS          F         p-unc  \\\n",
       "0         mod  0.004755      2      8  0.002378   3.809807  6.881430e-02   \n",
       "1        time  0.071988      8     32  0.008998  35.779221  7.857724e-14   \n",
       "2  mod * time  0.000729     16     64  0.000046   0.362626  9.864627e-01   \n",
       "\n",
       "   p-GG-corr       np2       eps  \n",
       "0   0.095030  0.487823  0.718120  \n",
       "1   0.000708  0.899445  0.183161  \n",
       "2   0.672380  0.083121  0.103901  "
      ]
     },
     "execution_count": 16,
     "metadata": {},
     "output_type": "execute_result"
    }
   ],
   "source": [
    "a = []\n",
    "\n",
    "mod = ['M','V','A']\n",
    "rat= ['600', '602', '640', '647', '699']\n",
    "\n",
    "for m in range(3):\n",
    "    for r in range(5):\n",
    "        for t in range(9):\n",
    "            new_row = {'rat':rat[r], 'mod':mod[m], 'time':str(t+1), 'accuracy':result[m,r,t]}\n",
    "            a.append(new_row)\n",
    "a = pd.DataFrame(a)\n",
    "\n",
    "pg.rm_anova(dv='accuracy', within=['mod','time'],\n",
    "                  subject='rat', data=a, detailed=True, effsize=\"np2\")"
   ]
  },
  {
   "cell_type": "markdown",
   "id": "4323c2b8",
   "metadata": {},
   "source": [
    "---"
   ]
  },
  {
   "cell_type": "markdown",
   "id": "705b1f09",
   "metadata": {},
   "source": [
    "detailed temporal analysis (ongoing)"
   ]
  },
  {
   "cell_type": "code",
   "execution_count": null,
   "id": "da01e897",
   "metadata": {},
   "outputs": [],
   "source": [
    "def subsample(df, rat, num_trial, bin_size, time_bin, shuffle):\n",
    "    scaler = StandardScaler()\n",
    "\n",
    "    num_bin = int(90/bin_size)\n",
    "    object_cell_list = df.loc[(df['rat']==rat)&(df['category']=='object'),'key'].to_numpy()\n",
    "\n",
    "    # M by N array of subsampled firing rates\n",
    "    # M = stimulus condition * number of subsampled trials\n",
    "    # N = number of cells * number of time bins\n",
    "    X = np.zeros((6*num_trial, len(object_cell_list)*time_bin))\n",
    "\n",
    "    for i,cell_key in enumerate(object_cell_list):\n",
    "\n",
    "        # load trial-by-trial firing rate data of a cell\n",
    "        key = cell_key.zfill(4)\n",
    "        cell_filename = list(cell_path.glob(f'{key}*.csv'))\n",
    "        df_cell = pd.read_csv(cell_filename[0])\n",
    "        df_cell.drop(df_cell[df_cell.Correctness==0].index,inplace=True)\n",
    "        df_cell.reset_index(inplace=True,drop=True)\n",
    "\n",
    "        # goal location (left or right) of each object condition\n",
    "        boy_goal = df_cell.loc[df_cell['Visual']=='Boy','RWD_Loc'].values[0]\n",
    "        egg_goal = df_cell.loc[df_cell['Visual']=='Egg','RWD_Loc'].values[0]\n",
    "\n",
    "        # shuffling stimulus condition for permutation test\n",
    "        if shuffle:\n",
    "            cond_array = df_cell[['Type','RWD_Loc']].to_numpy()\n",
    "            shuffled_cond_array = np.random.permutation(cond_array)\n",
    "            df_cell[['Type','RWD_Loc']] = shuffled_cond_array\n",
    "\n",
    "        # stimulus condition (identity x modality)\n",
    "        cond = [(df_cell['Type']=='Multimodal')&(df_cell['RWD_Loc']==boy_goal),\n",
    "                (df_cell['Type']=='Visual')&(df_cell['RWD_Loc']==boy_goal),\n",
    "                (df_cell['Type']=='Auditory')&(df_cell['RWD_Loc']==boy_goal),\n",
    "                (df_cell['Type']=='Multimodal')&(df_cell['RWD_Loc']==egg_goal),\n",
    "                (df_cell['Type']=='Visual')&(df_cell['RWD_Loc']==egg_goal),\n",
    "                (df_cell['Type']=='Auditory')&(df_cell['RWD_Loc']==egg_goal)]\n",
    "\n",
    "        fr_id = df_cell.columns.get_loc('Var10')  # get the index of the first firing rate column\n",
    "        FR = df_cell.iloc[:,fr_id:].to_numpy()    # convert firing rate data to numpy array\n",
    "    \n",
    "        # recalculate mean firing rates of each time bin\n",
    "        FR_bin = np.zeros((len(df_cell),time_bin))\n",
    "        for b in range(time_bin):\n",
    "            FR_bin[:,b] = FR[:,b*time_bin:(b+1)*time_bin].mean(axis=1)\n",
    "\n",
    "        for c in range(len(cond)):\n",
    "            # subsample n trials from each stimulus condition\n",
    "            subsampled_trial = df_cell[cond[c]].sample(num_trial).index\n",
    "            # firing rates of subsampled trials\n",
    "            FR_sub = FR_bin[subsampled_trial,:]\n",
    "            # add subsampled firing rate data to the result array\n",
    "            X[num_trial*c:num_trial*(c+1), time_bin*i:time_bin*(i+1)] = FR_sub\n",
    "    \n",
    "    X_norm = scaler.fit_transform(X)\n",
    "\n",
    "    return X_norm"
   ]
  },
  {
   "cell_type": "code",
   "execution_count": null,
   "id": "07dea494",
   "metadata": {},
   "outputs": [],
   "source": [
    "def subsample_cross_val_predict(df, model, rat, kfold, num_trial, bin_size, time_bin, shuffle):\n",
    "    result = np.zeros((6,6))\n",
    "\n",
    "    X = subsample(df, rat, num_trial, bin_size, time_bin, shuffle)\n",
    "    Y = np.repeat(np.arange(6), 5)\n",
    "\n",
    "    skf = StratifiedKFold(n_splits=kfold, shuffle=True)\n",
    "    for (train_index, test_index) in skf.split(X, Y):\n",
    "        model.fit(X[train_index,:],Y[train_index])\n",
    "        pred = model.predict(X[test_index,:])\n",
    "        for j in range(6):\n",
    "            result[j,pred[j]] += 1\n",
    "\n",
    "    return result"
   ]
  },
  {
   "cell_type": "markdown",
   "id": "f6b2f4be",
   "metadata": {},
   "source": [
    "___"
   ]
  },
  {
   "cell_type": "markdown",
   "id": "9744f6eb",
   "metadata": {},
   "source": [
    "### Permutation feature importance"
   ]
  },
  {
   "cell_type": "code",
   "execution_count": 13,
   "id": "c697cd8b",
   "metadata": {},
   "outputs": [],
   "source": [
    "def subsample_category(df, rat, num_trial, bin_size, time_bin):\n",
    "    scaler = StandardScaler()\n",
    "    \n",
    "    num_bin = int(90/bin_size)\n",
    "    \n",
    "    object_cell_list = df.loc[df['rat']==int(rat),'key'].to_numpy()\n",
    "\n",
    "    unbiased_cell_list = df.loc[(df['rat']==int(rat))&(df['Category']=='unbiased'),'key'].to_numpy()\n",
    "    visual_cell_list = df.loc[(df['rat']==int(rat))&(df['Category']=='visual'),'key'].to_numpy()\n",
    "    auditory_cell_list = df.loc[(df['rat']==int(rat))&(df['Category']=='auditory'),'key'].to_numpy()\n",
    "\n",
    "    X_visual = np.zeros((6*num_trial, len(visual_cell_list)*time_bin))\n",
    "    X_auditory = np.zeros((6*num_trial, len(auditory_cell_list)*time_bin))\n",
    "    X_unbiased = np.zeros((6*num_trial, len(unbiased_cell_list)*time_bin))\n",
    "\n",
    "    v, a, u = 0, 0, 0\n",
    "    \n",
    "    for i,cell_key in enumerate(object_cell_list):\n",
    "    \n",
    "        # load trial-by-trial firing rate data of a cell\n",
    "        key = str(cell_key).zfill(4)\n",
    "        cell_filename = list(cell_path.glob(f'{key}*.csv'))\n",
    "        df_cell = pd.read_csv(cell_filename[0])\n",
    "        df_cell.drop(df_cell[df_cell.Correctness==0].index,inplace=True)\n",
    "        df_cell.reset_index(inplace=True,drop=True)\n",
    "        \n",
    "        category = df.loc[df.key==cell_key,'Category'].values[0]\n",
    "        \n",
    "        # goal location (left or right) of each object condition\n",
    "        boy_goal = df_cell.loc[df_cell['Visual']=='Boy','RWD_Loc'].values[0]\n",
    "        egg_goal = df_cell.loc[df_cell['Visual']=='Egg','RWD_Loc'].values[0]\n",
    "\n",
    "        # stimulus condition (identity x modality)\n",
    "        cond = [(df_cell['Type']=='Multimodal')&(df_cell['RWD_Loc']==boy_goal),\n",
    "                (df_cell['Type']=='Visual')&(df_cell['RWD_Loc']==boy_goal),\n",
    "                (df_cell['Type']=='Auditory')&(df_cell['RWD_Loc']==boy_goal),\n",
    "                (df_cell['Type']=='Multimodal')&(df_cell['RWD_Loc']==egg_goal),\n",
    "                (df_cell['Type']=='Visual')&(df_cell['RWD_Loc']==egg_goal),\n",
    "                (df_cell['Type']=='Auditory')&(df_cell['RWD_Loc']==egg_goal)]\n",
    "\n",
    "        fr_id = df_cell.columns.get_loc('Var10')  # get the index of the first firing rate column\n",
    "        FR = df_cell.iloc[:,fr_id:].to_numpy()    # convert firing rate data to numpy array\n",
    "    \n",
    "        # recalculate mean firing rates of each time bin\n",
    "        FR_bin = np.zeros((len(df_cell),time_bin))\n",
    "        for b in range(time_bin):\n",
    "            FR_bin[:,b] = FR[:,b*time_bin:(b+1)*time_bin].mean(axis=1)\n",
    "\n",
    "        for c in range(len(cond)):\n",
    "            # subsample n trials from each stimulus condition\n",
    "            subsampled_trial = df_cell[cond[c]].sample(num_trial).index\n",
    "            # firing rates of subsampled trials\n",
    "            FR_sub = FR_bin[subsampled_trial,:]\n",
    "    \n",
    "            if category == 'visual':\n",
    "                X_visual[num_trial*c:num_trial*(c+1), time_bin*v:time_bin*(v+1)] = FR_sub\n",
    "            elif category == 'auditory':\n",
    "                X_auditory[num_trial*c:num_trial*(c+1), time_bin*a:time_bin*(a+1)] = FR_sub\n",
    "            elif category == 'unbiased':\n",
    "                X_unbiased[num_trial*c:num_trial*(c+1), time_bin*u:time_bin*(u+1)] = FR_sub\n",
    "        \n",
    "        if category == 'visual':\n",
    "            v += 1\n",
    "        elif category == 'auditory':\n",
    "            a += 1\n",
    "        elif category == 'unbiased':\n",
    "            u += 1\n",
    "            \n",
    "    X_visual_norm = scaler.fit_transform(X_visual)\n",
    "    X_auditory_norm = scaler.fit_transform(X_auditory)\n",
    "    X_unbiased_norm = scaler.fit_transform(X_unbiased)\n",
    "\n",
    "    return X_visual_norm, X_auditory_norm, X_unbiased_norm"
   ]
  },
  {
   "cell_type": "code",
   "execution_count": 14,
   "id": "31b53ed2",
   "metadata": {},
   "outputs": [],
   "source": [
    "def permutation_feature_importance(df, model, rat, kfold, num_trial, bin_size, time_bin, same_num_cell):\n",
    "    result = np.zeros((2,6,6))\n",
    "    \n",
    "    X_visual, X_auditory, X_unbiased = subsample_category(df, rat, num_trial, bin_size, time_bin)\n",
    "    \n",
    "    v_count = int(np.shape(X_visual)[1]/9)\n",
    "    a_count = int(np.shape(X_auditory)[1]/9)\n",
    "    u_count = int(np.shape(X_unbiased)[1]/9)\n",
    "    # the number of cells to be permutated\n",
    "    num_cell = min([v_count+a_count, u_count])\n",
    "    \n",
    "    X = np.hstack((X_visual, X_auditory, X_unbiased))\n",
    "    Y = np.repeat(np.arange(6), 5)\n",
    "\n",
    "    skf = StratifiedKFold(n_splits=kfold, shuffle=True)\n",
    "    for (train_index, test_index) in skf.split(X, Y):\n",
    "        model.fit(X[train_index,:],Y[train_index])\n",
    "        \n",
    "        # permutation on visual & auditory cells\n",
    "        X_VA = np.hstack((X_visual[test_index,:], X_auditory[test_index,:]))\n",
    "        if same_num_cell:\n",
    "            selected_VA = np.random.choice(int(np.shape(X_VA)[1]/9), num_cell, replace=False)\n",
    "            for c in selected_VA:    # permutation on visual + auditory cells\n",
    "                X_VA[:, 9*c:9*(c+1)] = np.random.permutation(X_VA[:, 9*c:9*(c+1)])\n",
    "        else:\n",
    "            X_VA = np.random.permutation(X_VA)\n",
    "        X_VA_perm = np.hstack((X_VA, X_unbiased[test_index,:]))\n",
    "        pred_VA = model.predict(X_VA_perm)\n",
    "\n",
    "        # permutation on unbiased cells\n",
    "        if same_num_cell:    # permutation on the same number of unbiased cells with visual + auditory\n",
    "            selected_unbiased = np.random.choice(int(np.shape(X_unbiased)[1]/9), num_cell, replace=False)\n",
    "            for c in selected_unbiased:\n",
    "                X_unbiased[:, 9*c:9*(c+1)] = np.random.permutation(X_unbiased[:, 9*c:9*(c+1)])\n",
    "        else:    # permuation on all unbiased cells\n",
    "            X_unbiased = np.random.permutation(X_unbiased)\n",
    "        X_unbiased_perm = np.hstack((X_visual[test_index,:], X_auditory[test_index,:], X_unbiased[test_index,:]))\n",
    "        pred_unbiased = model.predict(X_unbiased_perm)\n",
    "        \n",
    "        Y_test = Y[test_index]\n",
    "        \n",
    "        for j in range(len(pred_VA)):\n",
    "            result[0,Y_test[j],int(pred_VA[j])] += 1\n",
    "            result[1,Y_test[j],int(pred_unbiased[j])] += 1\n",
    "\n",
    "    return result"
   ]
  },
  {
   "cell_type": "code",
   "execution_count": 164,
   "id": "57def76e",
   "metadata": {},
   "outputs": [],
   "source": [
    "%%time\n",
    "\n",
    "perm_same = np.zeros((2,len(rat_list),6,6))\n",
    "perm_all = np.zeros((2,len(rat_list),6,6))\n",
    "\n",
    "for r,rat in enumerate(rat_list):\n",
    "    loop_start = time.time()\n",
    "\n",
    "    perm_same_rat = Parallel(n_jobs=-1)(delayed(permutation_feature_importance)(df2, final_model, rat, kfold, num_trial, bin_size, 9, 1) for j in range(num_iter))   \n",
    "    perm_all_rat = Parallel(n_jobs=-1)(delayed(permutation_feature_importance)(df2, final_model, rat, kfold, num_trial, bin_size, 9, 0) for j in range(num_iter))   \n",
    "\n",
    "    perm_same[:,r,:,:] = np.sum(perm_same_rat,axis=0)/(num_iter*kfold*6)\n",
    "    perm_all[:,r,:,:] = np.sum(perm_all_rat,axis=0)/(num_iter*kfold*6)\n",
    "\n",
    "    loop_end = time.time()\n",
    "    loop_time = divmod(loop_end-loop_start,60)\n",
    "    print(f'LE{rat} completed /// Elapsed time: {int(loop_time[0])} min {loop_time[1]:.2f} sec')\n",
    "\n",
    "np_save_path = save_path / 'all conditions' / 'permutation feature importance'\n",
    "os.makedirs(np_save_path, exist_ok=True)\n",
    "np.save(np_save_path / f'{today}_{bin_size*10}ms_{9}bins_{num_iter}iter_same.npy',perm_same)\n",
    "np.save(np_save_path / f'{today}_{bin_size*10}ms_{9}bins_{num_iter}iter_all.npy',perm_all)"
   ]
  },
  {
   "cell_type": "markdown",
   "id": "09794c17",
   "metadata": {},
   "source": [
    "---"
   ]
  },
  {
   "cell_type": "code",
   "execution_count": 71,
   "id": "0d2e014c",
   "metadata": {},
   "outputs": [
    {
     "data": {
      "image/png": "[encoded data removed]",
      "text/plain": [
       "<Figure size 576x288 with 2 Axes>"
      ]
     },
     "metadata": {
      "needs_background": "light"
     },
     "output_type": "display_data"
    },
    {
     "name": "stdout",
     "output_type": "stream",
     "text": [
      "============== Paired t-test (all neurons) ==============\n",
      "               T  dof alternative     p-val         CI95%  cohen-d   BF10  \\\n",
      "T-test  3.698926    4   two-sided  0.020855  [0.01, 0.04]  1.85171  4.149   \n",
      "\n",
      "           power  \n",
      "T-test  0.865532  \n",
      "\n",
      "========= Paired t-test (same number of neurons) =========\n",
      "              T  dof alternative     p-val          CI95%   cohen-d   BF10  \\\n",
      "T-test  1.33214    4   two-sided  0.253645  [-0.24, 0.69]  0.488945  0.729   \n",
      "\n",
      "           power  \n",
      "T-test  0.136521  \n"
     ]
    }
   ],
   "source": [
    "np_path = save_path / 'all conditions' / 'permutation feature importance'\n",
    "load_date = '2023-08-01'\n",
    "\n",
    "perm_all = np.load(np_path / f'{load_date}_{bin_size*10}ms_{9}bins_{num_iter}iter_all.npy')\n",
    "real = np.load(save_path / 'all conditions' / '2023-07-28_100ms_9bins_100iter_real.npy')\n",
    "real = real/6\n",
    "\n",
    "num_cell = np.zeros((5,2))\n",
    "perm_all_result = np.zeros((5, 2))\n",
    "\n",
    "prop_weight = [32, 68]\n",
    "\n",
    "for i in range(5):\n",
    "    num_cell[i,0] = df2.groupby(['rat', 'Category']).size()[int(rat_list[i])]['auditory']+\\\n",
    "    df2.groupby(['rat', 'Category']).size()[int(rat_list[i])]['visual']\n",
    "    num_cell[i,1] = df2.groupby(['rat', 'Category']).size()[int(rat_list[i])]['unbiased']\n",
    "    \n",
    "    real_result = np.trace(real[i,:,:])\n",
    "    perm_all_result[i,0] = (real_result-np.trace(perm_all[0,i,:,:]))/(real_result+np.trace(perm_all[0,i,:,:]))\n",
    "    perm_all_result[i,1] = (real_result-np.trace(perm_all[1,i,:,:]))/(real_result+np.trace(perm_all[1,i,:,:]))\n",
    "\n",
    "fig, ax = plt.subplots(1,2, figsize=(8,4))\n",
    "\n",
    "x = ['Visual + Auditory','Unbiased']\n",
    "\n",
    "y1 = perm_all_result/num_cell\n",
    "y2 = (perm_all_result/num_cell)*prop_weight\n",
    "\n",
    "ax[0].bar(x,np.mean(y1, axis=0), color=['tab:purple', 'tab:gray'])\n",
    "ax[0].errorbar(x, np.mean(y1, axis=0), yerr=stats.sem(y1, axis=0), fmt='none', color='black', linewidth=2)\n",
    "for i in range(5):\n",
    "    ax[0].plot([y1[i,0], y1[i,1]], color='black', alpha=0.5)\n",
    "\n",
    "ax[1].bar(x,np.mean(y2, axis=0), color=['tab:purple', 'tab:gray'])\n",
    "ax[1].errorbar(x, np.mean(y2, axis=0), yerr=stats.sem(y2, axis=0), fmt='none', color='black', linewidth=2)\n",
    "for i in range(5):\n",
    "    ax[1].plot([y2[i,0], y2[i,1]], color='black', alpha=0.5)\n",
    "\n",
    "t = ['Single cell', 'Ratio reflected']\n",
    "for i in range(2):\n",
    "    ax[i].set_title(t[i], fontsize=14)\n",
    "    ax[i].set_xlabel('Cell category', fontsize=14)\n",
    "    ax[i].set_ylabel('Contribution to decoding', fontsize=14)\n",
    "ax[0].set_yticks(np.arange(0, 0.09, 0.02))\n",
    "ax[0].set_ylim([0, 0.08])\n",
    "ax[1].set_yticks(np.arange(0, 2.6, 0.5))\n",
    "ax[1].set_ylim([0, 2.5])\n",
    "\n",
    "plt.tight_layout()\n",
    "plt.savefig(fig_path / 'svg' / 'perm_importance_bar.svg')\n",
    "plt.show()\n",
    "\n",
    "ttest_all = pg.ttest(y1[:,0], y1[:,1], paired=True)\n",
    "print('============== Paired t-test (all neurons) ==============')\n",
    "print(ttest_all)\n",
    "print('')\n",
    "\n",
    "ttest_same = pg.ttest(y2[:,0], y2[:,1], paired=True)\n",
    "print('========= Paired t-test (same number of neurons) =========')\n",
    "print(ttest_same)"
   ]
  },
  {
   "cell_type": "markdown",
   "id": "699478c8",
   "metadata": {},
   "source": [
    "---"
   ]
  },
  {
   "cell_type": "raw",
   "id": "8b892c0e",
   "metadata": {},
   "source": [
    "def permutation_feature_importance_time(df, model, rat, kfold, num_trial, bin_size, time_bin):\n",
    "    result = np.zeros((10,6,6))\n",
    "    \n",
    "    X = subsample(df, rat, num_trial, bin_size, time_bin, 0)\n",
    "    Y = np.repeat(np.arange(6), 5)\n",
    "\n",
    "    num_cell = int(np.shape(X)[1]/9)\n",
    "    \n",
    "    skf = StratifiedKFold(n_splits=kfold, shuffle=True)\n",
    "    for (train_index, test_index) in skf.split(X, Y):\n",
    "        model.fit(X[train_index,:],Y[train_index])\n",
    "        pred = model.predict(X[test_index,:])\n",
    "        for j in range(6):\n",
    "            result[0,j,pred[j]] += 1\n",
    "\n",
    "        for t in range(9):\n",
    "            X_time = X[test_index,:]\n",
    "            for c in range(num_cell):\n",
    "                X_time[:,9*c+t] = np.random.permutation(X_time[:,9*c+t])\n",
    "            pred_time = model.predict(X_time)\n",
    "            for k in range(6):\n",
    "                result[t+1,k,pred_time[k]] += 1\n",
    "\n",
    "    return result"
   ]
  },
  {
   "cell_type": "raw",
   "id": "54bb429c",
   "metadata": {},
   "source": [
    "%%time\n",
    "\n",
    "svm_real = np.zeros((10,len(rat_list),6,6))\n",
    "\n",
    "for i,rat in enumerate(rat_list):\n",
    "    loop_start = time.time()\n",
    "    \n",
    "    rat_result= Parallel(n_jobs=-1)(delayed(permutation_feature_importance_time)(df, final_model, rat, kfold, num_trial, bin_size, 9) for j in range(num_iter))   \n",
    "    rat_result_mean = np.sum(rat_result,axis=0)/(num_iter*kfold)\n",
    "    \n",
    "    for j in range(10):\n",
    "        svm_real[j,i,:,:] = rat_result_mean[j,:,:]\n",
    "        \n",
    "    loop_end = time.time()\n",
    "    loop_time = divmod(loop_end-loop_start,60)\n",
    "    print(f'LE{rat} completed /// Elapsed time: {int(loop_time[0])} min {loop_time[1]:.2f} sec')"
   ]
  },
  {
   "cell_type": "raw",
   "id": "119cce63",
   "metadata": {},
   "source": [
    "real_mean = np.mean(svm_real, axis=1)\n",
    "\n",
    "# contingency matrix for data using all time bins\n",
    "fig,ax = plt.subplots(1,2,figsize=(12,6))\n",
    "\n",
    "ax[0].imshow(real_mean[0,:,:], cmap=plt.cm.get_cmap('Blues'));\n",
    "ax[1].imshow(real_mean[7,:,:], cmap=plt.cm.get_cmap('Blues'));\n",
    "\n",
    "for i in range(2):\n",
    "    ax[i].set_xlabel('True stimulus condition', fontsize=14)\n",
    "    ax[i].set_ylabel('Predicted stimulus condition', fontsize=14)\n",
    "    ax[i].set_xticks(np.arange(0,6))\n",
    "    ax[i].set_xticklabels(['Boy-M','Boy-V','Boy-A','Egg-M','Egg-V','Egg-A']);\n",
    "    ax[i].set_yticks(np.arange(0,6))\n",
    "    ax[i].set_yticklabels(['Boy-M','Boy-V','Boy-A','Egg-M','Egg-V','Egg-A']);\n",
    "\n",
    "for m in range(6):\n",
    "    for l in range(6):        \n",
    "        ax[0].text(m,l,'{:.2f}'.format(real_mean[0,m,l]),ha='center')\n",
    "\n",
    "for m in range(6):\n",
    "    for l in range(6):        \n",
    "        ax[1].text(m,l,'{:.2f}'.format(real_mean[7,m,l]),ha='center')      \n",
    "\n",
    "plt.tight_layout()"
   ]
  },
  {
   "cell_type": "markdown",
   "id": "8db398a9",
   "metadata": {},
   "source": [
    "---"
   ]
  },
  {
   "cell_type": "markdown",
   "id": "daa54839",
   "metadata": {},
   "source": [
    "### Object / modality decoding performance of different categories\n",
    "Here, we verified if different object cell categories (i.e., visual, auditory, unbiased) contributed differently to the decoding performance."
   ]
  },
  {
   "cell_type": "raw",
   "id": "ef7250b1",
   "metadata": {},
   "source": [
    "def subsample_category(df, rat, num_trial, bin_size, time_bin, modality, category):\n",
    "    scaler = StandardScaler()\n",
    "    \n",
    "    num_bin = int(90/bin_size)\n",
    "       \n",
    "    object_cell_list = df.loc[(df['rat'])==int(rat),'key'].to_numpy()\n",
    "    modality_cell_list = df.loc[(df['rat']==int(rat))&(df['Category']==modality),'key'].to_numpy()\n",
    "    unbiased_cell_list = df.loc[(df['rat']==int(rat))&(df['Category']=='unbiased'),'key'].to_numpy()\n",
    "    \n",
    "    if category == 1:    # target category = visual or auditory\n",
    "        target_cell_list = np.setdiff1d(object_cell_list, modality_cell_list)\n",
    "    else:    # target category = unbiased\n",
    "        random_unbiased = np.random.choice(unbiased_cell_list,len(modality_cell_list))\n",
    "        target_cell_list = np.setdiff1d(object_cell_list, random_unbiased)\n",
    "    \n",
    "    # M by N array of subsampled firing rates\n",
    "    # M = stimulus condition * number of subsampled trials\n",
    "    # N = number of cells * number of time bins\n",
    "    X = np.zeros((6*num_trial, len(target_cell_list)*time_bin))\n",
    "    \n",
    "    for i,cell_key in enumerate(target_cell_list):\n",
    "    \n",
    "        # load trial-by-trial firing rate data of a cell\n",
    "        key = str(cell_key).zfill(4)\n",
    "        cell_filename = list(cell_path.glob(f'{key}*.csv'))\n",
    "        df_cell = pd.read_csv(cell_filename[0])\n",
    "        df_cell.drop(df_cell[df_cell.Correctness==0].index,inplace=True)\n",
    "        df_cell.reset_index(inplace=True,drop=True)\n",
    "        \n",
    "        # goal location (left or right) of each object condition\n",
    "        boy_goal = df_cell.loc[df_cell['Visual']=='Boy','RWD_Loc'].values[0]\n",
    "        egg_goal = df_cell.loc[df_cell['Visual']=='Egg','RWD_Loc'].values[0]\n",
    "\n",
    "        # stimulus condition (identity x modality)\n",
    "        cond = [(df_cell['Type']=='Multimodal')&(df_cell['RWD_Loc']==boy_goal),\n",
    "                (df_cell['Type']=='Visual')&(df_cell['RWD_Loc']==boy_goal),\n",
    "                (df_cell['Type']=='Auditory')&(df_cell['RWD_Loc']==boy_goal),\n",
    "                (df_cell['Type']=='Multimodal')&(df_cell['RWD_Loc']==egg_goal),\n",
    "                (df_cell['Type']=='Visual')&(df_cell['RWD_Loc']==egg_goal),\n",
    "                (df_cell['Type']=='Auditory')&(df_cell['RWD_Loc']==egg_goal)]\n",
    "\n",
    "        fr_id = df_cell.columns.get_loc('Var10')  # get the index of the first firing rate column\n",
    "        FR = df_cell.iloc[:,fr_id:].to_numpy()    # convert firing rate data to numpy array\n",
    "    \n",
    "        # recalculate mean firing rates of each time bin\n",
    "        FR_bin = np.zeros((len(df_cell),time_bin))\n",
    "        for b in range(time_bin):\n",
    "            FR_bin[:,b] = FR[:,b*time_bin:(b+1)*time_bin].mean(axis=1)\n",
    "\n",
    "        for c in range(len(cond)):\n",
    "            # subsample n trials from each stimulus condition\n",
    "            subsampled_trial = df_cell[cond[c]].sample(num_trial).index\n",
    "            # firing rates of subsampled trials\n",
    "            FR_sub = FR_bin[subsampled_trial,:]\n",
    "            # add subsampled firing rate data to the result array\n",
    "            X[num_trial*c:num_trial*(c+1), time_bin*i:time_bin*(i+1)] = FR_sub\n",
    "    \n",
    "    X_norm = scaler.fit_transform(X)\n",
    "\n",
    "    return X_norm"
   ]
  },
  {
   "cell_type": "raw",
   "id": "dc62741f",
   "metadata": {},
   "source": [
    "def subsample_cross_val_predict_category(df, model, rat, kfold, num_trial, bin_size, time_bin, modality, category):\n",
    "    result = np.zeros((6,6))\n",
    "       \n",
    "    X = subsample_category(df, rat, num_trial, bin_size, time_bin, modality, category)\n",
    "    Y = np.repeat(np.arange(6), 5)\n",
    "    \n",
    "    skf = StratifiedKFold(n_splits=kfold, shuffle=True)\n",
    "    for (train_index, test_index) in skf.split(X, Y):\n",
    "        model.fit(X[train_index,:],Y[train_index])\n",
    "        pred = model.predict(X[test_index,:])\n",
    "        for j in range(6):\n",
    "            result[j,pred[j]] += 1\n",
    "\n",
    "    return result"
   ]
  },
  {
   "cell_type": "markdown",
   "id": "87c36b66",
   "metadata": {},
   "source": [
    "#### Parameter setup"
   ]
  },
  {
   "cell_type": "raw",
   "id": "ecdb61d9",
   "metadata": {},
   "source": [
    "final_model = svm.SVC(kernel='linear', C=0.01)\n",
    "kfold = 5\n",
    "num_trial = 5\n",
    "bin_size = 10\n",
    "num_iter = 1000\n",
    "rat_list = ['600', '602', '640', '647', '699']"
   ]
  },
  {
   "cell_type": "markdown",
   "id": "be1271e8",
   "metadata": {},
   "source": [
    "#### Real data"
   ]
  },
  {
   "cell_type": "raw",
   "id": "0abcddc8",
   "metadata": {},
   "source": [
    "%%time\n",
    "svm_visual = np.zeros((len(rat_list),6,6))\n",
    "svm_unbiased1 = np.zeros((len(rat_list),6,6))\n",
    "\n",
    "svm_auditory = np.zeros((len(rat_list),6,6))\n",
    "svm_unbiased2 = np.zeros((len(rat_list),6,6))\n",
    "\n",
    "for i, rat in enumerate(rat_list):\n",
    "    loop_start = time.time()\n",
    "    \n",
    "    rat_visual = Parallel(n_jobs=-1)(delayed(subsample_cross_val_predict_category)(df2, final_model, rat, kfold, num_trial, bin_size, 9, 'visual', 1) for j in range(num_iter))   \n",
    "    rat_unbiased1 = Parallel(n_jobs=-1)(delayed(subsample_cross_val_predict_category)(df2, final_model, rat, kfold, num_trial, bin_size, 9, 'visual', 0) for j in range(num_iter))   \n",
    "    rat_auditory = Parallel(n_jobs=-1)(delayed(subsample_cross_val_predict_category)(df2, final_model, rat, kfold, num_trial, bin_size, 9, 'auditory', 1) for j in range(num_iter))   \n",
    "    rat_unbiased2 = Parallel(n_jobs=-1)(delayed(subsample_cross_val_predict_category)(df2, final_model, rat, kfold, num_trial, bin_size, 9, 'auditory', 0) for j in range(num_iter))   \n",
    "    \n",
    "    svm_visual[i,:,:] = np.sum(rat_visual,axis=0)/(num_iter*kfold)\n",
    "    svm_unbiased1[i,:,:] = np.sum(rat_unbiased1,axis=0)/(num_iter*kfold)\n",
    "    svm_auditory[i,:,:] = np.sum(rat_auditory,axis=0)/(num_iter*kfold)\n",
    "    svm_unbiased2[i,:,:] = np.sum(rat_unbiased2,axis=0)/(num_iter*kfold)\n",
    "\n",
    "    loop_end = time.time()\n",
    "    loop_time = divmod(loop_end-loop_start,60)\n",
    "    print(f'LE{rat} completed /// Elapsed time: {int(loop_time[0])} min {loop_time[1]:.2f} sec')\n",
    "\n",
    "os.makedirs(save_path / 'category',exist_ok=True)\n",
    "np.save(save_path / 'category' / f'{today}_{bin_size*10}ms_9bins_{num_iter}iter_visual_.npy',svm_visual)\n",
    "np.save(save_path / 'category' / f'{today}_{bin_size*10}ms_9bins_{num_iter}iter_unbiased1_.npy',svm_unbiased1)\n",
    "np.save(save_path / 'category' / f'{today}_{bin_size*10}ms_9bins_{num_iter}iter_auditory_.npy',svm_auditory)\n",
    "np.save(save_path / 'category' / f'{today}_{bin_size*10}ms_9bins_{num_iter}iter_unbiased2_.npy',svm_unbiased2)"
   ]
  },
  {
   "cell_type": "raw",
   "id": "5aaa68bb",
   "metadata": {},
   "source": [
    "real_mean = np.mean(svm_unbiased2, axis=0)\n",
    "\n",
    "fig,ax = plt.subplots(figsize=(6,6))\n",
    "\n",
    "ax.imshow(real_mean, cmap=plt.cm.get_cmap('Blues'));\n",
    "ax.set_xlabel('True stimulus condition', fontsize=14)\n",
    "ax.set_ylabel('Predicted stimulus condition', fontsize=14)\n",
    "\n",
    "for m in range(6):\n",
    "    for l in range(6):        \n",
    "        ax.text(m,l,'{:.2f}'.format(real_mean[m,l]),ha='center')\n",
    "        \n",
    "        #pval_crit = [np.percentile(shuffle_mean[:,m,l],95), np.percentile(shuffle_mean[:,m,l],99),\n",
    "        #             np.percentile(shuffle_mean[:,m,l],99.9)]\n",
    "        #if real_mean[m,l] > pval_crit[2]:\n",
    "        #    ax.text(m,l+0.2,'***', ha='center', color='white')\n",
    "        #elif real_mean[m,l] > pval_crit[1]:\n",
    "        #    ax.text(m,l+0.2,'**', ha='center', color='white')\n",
    "        #elif real_mean[m,l] > pval_crit[0]:\n",
    "        #    ax.text(m,l+0.2,'*', ha='center', color='white')\n",
    "\n",
    "ax.set_xticks(np.arange(0,6))\n",
    "ax.set_xticklabels(['Boy-M','Boy-V','Boy-A','Egg-M','Egg-V','Egg-A']);\n",
    "ax.set_yticks(np.arange(0,6))\n",
    "ax.set_yticklabels(['Boy-M','Boy-V','Boy-A','Egg-M','Egg-V','Egg-A']);\n",
    "\n",
    "plt.tight_layout()"
   ]
  },
  {
   "cell_type": "markdown",
   "id": "fb2966a5",
   "metadata": {},
   "source": [
    "---"
   ]
  }
 ],
 "metadata": {
  "kernelspec": {
   "display_name": "Python 3 (ipykernel)",
   "language": "python",
   "name": "python3"
  },
  "language_info": {
   "codemirror_mode": {
    "name": "ipython",
    "version": 3
   },
   "file_extension": ".py",
   "mimetype": "text/x-python",
   "name": "python",
   "nbconvert_exporter": "python",
   "pygments_lexer": "ipython3",
   "version": "3.9.12"
  }
 },
 "nbformat": 4,
 "nbformat_minor": 5
}
