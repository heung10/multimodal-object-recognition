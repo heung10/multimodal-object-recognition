{
 "cells": [
  {
   "cell_type": "markdown",
   "id": "c2d4f156",
   "metadata": {},
   "source": [
    "## Population decoding\n",
    "Population decoding of the object identity and modality condition based on support vector machine.\n",
    "The purpose of this analysis is to see how much decoding performance improves when temporal information is added sequentially."
   ]
  },
  {
   "cell_type": "code",
   "execution_count": 1,
   "id": "6ef091ff",
   "metadata": {},
   "outputs": [],
   "source": [
    "import os\n",
    "from pathlib import Path\n",
    "import numpy as np\n",
    "import pandas as pd\n",
    "\n",
    "from scipy import stats\n",
    "import statsmodels.api as sm\n",
    "\n",
    "import pingouin as pg\n",
    "\n",
    "import matplotlib as mpl\n",
    "import matplotlib.pyplot as plt  \n",
    "\n",
    "from datetime import date\n",
    "import time\n",
    "\n",
    "from joblib import Parallel, delayed\n",
    "\n",
    "import h5py"
   ]
  },
  {
   "cell_type": "code",
   "execution_count": 2,
   "id": "a2efd57f",
   "metadata": {},
   "outputs": [],
   "source": [
    "# no top and right spines in all plots\n",
    "mpl.rcParams['axes.spines.right'] = False\n",
    "mpl.rcParams['axes.spines.top'] = False"
   ]
  },
  {
   "cell_type": "code",
   "execution_count": 3,
   "id": "75d558bd",
   "metadata": {},
   "outputs": [],
   "source": [
    "mother_path = Path('D:/Multi-modal project/')\n",
    "save_path = mother_path / 'analysis' / 'result' / '7. Population decoding'\n",
    "os.makedirs(save_path,exist_ok=True)\n",
    "\n",
    "fig_path = mother_path / 'analysis' / 'result' / 'figures'"
   ]
  },
  {
   "cell_type": "markdown",
   "id": "c9d779bc",
   "metadata": {},
   "source": [
    "### Parameter setting"
   ]
  },
  {
   "cell_type": "code",
   "execution_count": 4,
   "id": "80036cec",
   "metadata": {},
   "outputs": [],
   "source": [
    "# colors for multimodal, vis-only, aud-only conditions\n",
    "color = ['tab:purple','tab:blue','tab:red','tab:green']\n",
    "color2 = ['cyan','magenta','gray']\n",
    "linestyle = ['-',':']\n",
    "\n",
    "today = str(date.today())"
   ]
  },
  {
   "cell_type": "markdown",
   "id": "74ff06dc",
   "metadata": {},
   "source": [
    "### Data preparation"
   ]
  },
  {
   "cell_type": "code",
   "execution_count": 5,
   "id": "e42dba14",
   "metadata": {},
   "outputs": [],
   "source": [
    "cell_path = mother_path/'analysis'/'result'/'zFR export'/'13-Jun-2023'\n",
    "cell_list = os.listdir(cell_path)\n",
    "\n",
    "# load hdf5 files containing shuffled results\n",
    "data_path = mother_path /'analysis'/'result'/'3. ANOVA'/'2023-07-10'\n",
    "data2_path = mother_path /'analysis'/'result'/'3.1 Multiple linear regression'/'2023-07-10'\n",
    "f = h5py.File(data_path/'2023-07-10_ANOVA_result.hdf5','r')\n",
    "f2 = h5py.File(data2_path/'2023-07-10_multiple_regression_result.hdf5','r')"
   ]
  },
  {
   "cell_type": "code",
   "execution_count": 6,
   "id": "f0d3e2ba",
   "metadata": {},
   "outputs": [],
   "source": [
    "def h5_to_df(f):\n",
    "    keys = list(f.keys())\n",
    "    attributes = {}\n",
    "    \n",
    "    for key in keys:\n",
    "        attributes[key] = dict(f[key].attrs.items())\n",
    "    \n",
    "    df = pd.DataFrame.from_dict(attributes, orient='index')\n",
    "    df.index.name = 'key'\n",
    "    df = df.reset_index()\n",
    "    \n",
    "    return df"
   ]
  },
  {
   "cell_type": "code",
   "execution_count": 7,
   "id": "906bba68",
   "metadata": {},
   "outputs": [],
   "source": [
    "df = h5_to_df(f)\n",
    "df = df[df['region']=='PER']\n",
    "df.reset_index(inplace=True, drop=True)\n",
    "\n",
    "for key in df['key']:\n",
    "    if df.loc[df['key']==key, 'object cell'].item() == 0:\n",
    "        df.loc[df['key']==key, 'category'] = 'none'\n",
    "    else:\n",
    "        if f2[key].attrs['response cell'] == 0:\n",
    "            df.loc[df['key']==key, 'category'] = 'object'\n",
    "        else:\n",
    "            df.loc[df['key']==key, 'category'] = 'response'"
   ]
  },
  {
   "cell_type": "markdown",
   "id": "e1a56520",
   "metadata": {},
   "source": [
    "### Check the number of neurons available for population analysis"
   ]
  },
  {
   "cell_type": "code",
   "execution_count": 8,
   "id": "c6f6aeaf",
   "metadata": {},
   "outputs": [
    {
     "name": "stdout",
     "output_type": "stream",
     "text": [
      "['600' '602' '640' '647' '654' '679' '699']\n"
     ]
    }
   ],
   "source": [
    "rat_list = np.sort(df['rat'].unique())\n",
    "print(rat_list)"
   ]
  },
  {
   "cell_type": "code",
   "execution_count": 9,
   "id": "ca52d6d8",
   "metadata": {},
   "outputs": [
    {
     "name": "stdout",
     "output_type": "stream",
     "text": [
      "===== Object cells + None =====\n",
      "[[ 8. 11.  3. 11.  7.  0.  0.]\n",
      " [26. 19. 28. 16. 16.  0.  0.]\n",
      " [10. 13.  9.  4.  5.  0.  0.]\n",
      " [ 0.  0.  0. 15. 10.  8.  4.]\n",
      " [ 7.  4.  0.  0.  1.  0.  0.]\n",
      " [ 0.  2.  2.  3.  0.  1.  0.]\n",
      " [ 9.  9. 16. 15. 17.  7.  0.]]\n"
     ]
    }
   ],
   "source": [
    "# none cell + object cell (response cell excluded)\n",
    "cell_array = np.zeros((len(rat_list),int(df['session'].max())))\n",
    "for i in range(len(df)):\n",
    "    rat = df.loc[i, 'rat']\n",
    "    rat_id = np.where(rat_list==rat)[0][0]\n",
    "    ss = int(df.loc[i, 'session'])\n",
    "    \n",
    "    if df.loc[i,'category'] != 'response':\n",
    "        cell_array[rat_id, ss-1] += 1\n",
    "\n",
    "print('===== Object cells + None =====')        \n",
    "print(cell_array)"
   ]
  },
  {
   "cell_type": "code",
   "execution_count": 10,
   "id": "e22bb33a",
   "metadata": {},
   "outputs": [
    {
     "name": "stdout",
     "output_type": "stream",
     "text": [
      "====== Only object cells ======\n",
      "[[ 5.  6.  2.  4.  5.  0.  0.]\n",
      " [15.  6. 10.  5.  8.  0.  0.]\n",
      " [ 7.  9.  4.  3.  3.  0.  0.]\n",
      " [ 0.  0.  0. 10.  4.  4.  4.]\n",
      " [ 3.  2.  0.  0.  1.  0.  0.]\n",
      " [ 0.  1.  0.  1.  0.  0.  0.]\n",
      " [ 4.  3.  6.  3.  8.  3.  0.]]\n"
     ]
    }
   ],
   "source": [
    "# only object cell (response cell, none cell excluded)\n",
    "cell_array = np.zeros((len(rat_list),int(df['session'].max())))\n",
    "for i in range(len(df)):\n",
    "    rat = df.loc[i, 'rat']\n",
    "    rat_id = np.where(rat_list==rat)[0][0]\n",
    "    ss = int(df.loc[i, 'session'])\n",
    "    \n",
    "    if df.loc[i,'category'] == 'object':\n",
    "        cell_array[rat_id, ss-1] += 1\n",
    "\n",
    "print('====== Only object cells ======')\n",
    "print(cell_array)"
   ]
  },
  {
   "cell_type": "code",
   "execution_count": 11,
   "id": "f6a7997b",
   "metadata": {},
   "outputs": [
    {
     "name": "stdout",
     "output_type": "stream",
     "text": [
      "LE600: 22\n",
      "LE602: 44\n",
      "LE640: 26\n",
      "LE647: 22\n",
      "LE654: 6\n",
      "LE679: 2\n",
      "LE699: 27\n"
     ]
    }
   ],
   "source": [
    "num_obj = np.sum(cell_array,axis=1)\n",
    "for i in range(len(rat_list)):\n",
    "    print(f'LE{rat_list[i]}: {int(num_obj[i])}')"
   ]
  },
  {
   "cell_type": "markdown",
   "id": "93d1dad1",
   "metadata": {},
   "source": [
    "---"
   ]
  },
  {
   "cell_type": "markdown",
   "id": "e201440f",
   "metadata": {},
   "source": [
    "## Support vector machine"
   ]
  },
  {
   "cell_type": "code",
   "execution_count": 8,
   "id": "48433d57",
   "metadata": {},
   "outputs": [],
   "source": [
    "from sklearn import svm\n",
    "from sklearn import metrics\n",
    "from sklearn.model_selection import StratifiedKFold\n",
    "from sklearn.model_selection import cross_val_score, cross_validate\n",
    "from sklearn.preprocessing import MinMaxScaler\n",
    "from sklearn.preprocessing import StandardScaler\n",
    "from sklearn.pipeline import Pipeline\n",
    "from sklearn.model_selection import GridSearchCV"
   ]
  },
  {
   "cell_type": "code",
   "execution_count": 9,
   "id": "5bf72879",
   "metadata": {},
   "outputs": [],
   "source": [
    "def subsample(df, rat, num_trial, bin_size, time_bin, shuffle):\n",
    "    scaler = StandardScaler()\n",
    "    \n",
    "    num_bin = int(90/bin_size)\n",
    "    object_cell_list = df.loc[(df['rat']==rat)&(df['category']=='object'),'key'].to_numpy()\n",
    "    \n",
    "    # M by N array of subsampled firing rates\n",
    "    # M = stimulus condition * number of subsampled trials\n",
    "    # N = number of cells * number of time bins\n",
    "    X = np.zeros((6*num_trial, len(object_cell_list)*time_bin))\n",
    "    \n",
    "    for i,cell_key in enumerate(object_cell_list):\n",
    "    \n",
    "        # load trial-by-trial firing rate data of a cell\n",
    "        key = cell_key.zfill(4)\n",
    "        cell_filename = list(cell_path.glob(f'{key}*.csv'))\n",
    "        df_cell = pd.read_csv(cell_filename[0])\n",
    "        df_cell.drop(df_cell[df_cell.Correctness==0].index,inplace=True)\n",
    "        df_cell.reset_index(inplace=True,drop=True)\n",
    "        \n",
    "        # shuffling stimulus condition for permutation test\n",
    "        if shuffle:\n",
    "            cond_array = df_cell[['Type','RWD_Loc']].to_numpy()\n",
    "            shuffled_cond_array = np.random.permutation(cond_array)\n",
    "            df_cell[['Type','RWD_Loc']] = shuffled_cond_array\n",
    "        \n",
    "        # goal location (left or right) of each object condition\n",
    "        boy_goal = df_cell.loc[df_cell['Visual']=='Boy','RWD_Loc'].values[0]\n",
    "        egg_goal = df_cell.loc[df_cell['Visual']=='Egg','RWD_Loc'].values[0]\n",
    "\n",
    "        # stimulus condition (identity x modality)\n",
    "        cond = [(df_cell['Type']=='Multimodal')&(df_cell['RWD_Loc']==boy_goal),\n",
    "                (df_cell['Type']=='Visual')&(df_cell['RWD_Loc']==boy_goal),\n",
    "                (df_cell['Type']=='Auditory')&(df_cell['RWD_Loc']==boy_goal),\n",
    "                (df_cell['Type']=='Multimodal')&(df_cell['RWD_Loc']==egg_goal),\n",
    "                (df_cell['Type']=='Visual')&(df_cell['RWD_Loc']==egg_goal),\n",
    "                (df_cell['Type']=='Auditory')&(df_cell['RWD_Loc']==egg_goal)]\n",
    "    \n",
    "        fr_id = df_cell.columns.get_loc('Var10')  # get the index of the first firing rate column\n",
    "        FR = df_cell.iloc[:,fr_id:].to_numpy()    # convert firing rate data to numpy array\n",
    "    \n",
    "        # recalculate mean firing rates of each time bin\n",
    "        FR_bin = np.zeros((len(df_cell),time_bin))\n",
    "        for b in range(time_bin):\n",
    "            FR_bin[:,b] = FR[:,b*time_bin:(b+1)*time_bin].mean(axis=1)\n",
    "\n",
    "        for c in range(len(cond)):\n",
    "            # subsample n trials from each stimulus condition\n",
    "            subsampled_trial = df_cell[cond[c]].sample(num_trial).index\n",
    "            # firing rates of subsampled trials\n",
    "            FR_sub = FR_bin[subsampled_trial,:]\n",
    "            # add subsampled firing rate data to the result array\n",
    "            X[num_trial*c:num_trial*(c+1), time_bin*i:time_bin*(i+1)] = FR_sub\n",
    "    \n",
    "    X_norm = scaler.fit_transform(X)\n",
    "\n",
    "    return X_norm"
   ]
  },
  {
   "cell_type": "code",
   "execution_count": 10,
   "id": "fda282fe",
   "metadata": {},
   "outputs": [],
   "source": [
    "def subsample_cross_val_predict(df, model, rat, kfold, num_trial, bin_size, time_bin, shuffle):\n",
    "    result = np.zeros((6,6))\n",
    "       \n",
    "    X = subsample(df, rat, num_trial, bin_size, time_bin, shuffle)\n",
    "    Y = np.repeat(np.arange(6), 5)\n",
    "    \n",
    "    skf = StratifiedKFold(n_splits=kfold, shuffle=True)\n",
    "    for (train_index, test_index) in skf.split(X, Y):\n",
    "        model.fit(X[train_index,:],Y[train_index])\n",
    "        pred = model.predict(X[test_index,:])\n",
    "        for j in range(6):\n",
    "            result[j,pred[j]] += 1\n",
    "\n",
    "    return result"
   ]
  },
  {
   "cell_type": "markdown",
   "id": "c2a81b1f",
   "metadata": {},
   "source": [
    "#### Parameter setup"
   ]
  },
  {
   "cell_type": "code",
   "execution_count": 11,
   "id": "18650b18",
   "metadata": {},
   "outputs": [],
   "source": [
    "final_model = svm.SVC(kernel='linear', C=0.01)\n",
    "kfold = 5\n",
    "num_trial = 5\n",
    "bin_size = 10\n",
    "num_iter = 100\n",
    "rat_list = ['600', '602', '640', '647', '699']"
   ]
  },
  {
   "cell_type": "markdown",
   "id": "2629d62f",
   "metadata": {},
   "source": [
    "#### Real data"
   ]
  },
  {
   "cell_type": "code",
   "execution_count": 72,
   "id": "606316bc",
   "metadata": {},
   "outputs": [
    {
     "name": "stdout",
     "output_type": "stream",
     "text": [
      "LE600 completed /// Elapsed time: 0 min 11.69 sec\n",
      "LE602 completed /// Elapsed time: 0 min 3.80 sec\n",
      "LE640 completed /// Elapsed time: 0 min 2.44 sec\n",
      "LE647 completed /// Elapsed time: 0 min 2.13 sec\n",
      "LE699 completed /// Elapsed time: 0 min 2.37 sec\n",
      "---------------------------------------------------\n",
      "1 timebin completed / Elapsed time: 0 min 22.43 sec\n",
      "===================================================\n",
      "\n",
      "LE600 completed /// Elapsed time: 0 min 1.87 sec\n",
      "LE602 completed /// Elapsed time: 0 min 3.76 sec\n",
      "LE640 completed /// Elapsed time: 0 min 2.41 sec\n",
      "LE647 completed /// Elapsed time: 0 min 2.16 sec\n",
      "LE699 completed /// Elapsed time: 0 min 2.45 sec\n",
      "---------------------------------------------------\n",
      "2 timebin completed / Elapsed time: 0 min 12.64 sec\n",
      "===================================================\n",
      "\n",
      "LE600 completed /// Elapsed time: 0 min 1.86 sec\n",
      "LE602 completed /// Elapsed time: 0 min 3.72 sec\n",
      "LE640 completed /// Elapsed time: 0 min 2.41 sec\n",
      "LE647 completed /// Elapsed time: 0 min 2.14 sec\n",
      "LE699 completed /// Elapsed time: 0 min 2.46 sec\n",
      "---------------------------------------------------\n",
      "3 timebin completed / Elapsed time: 0 min 12.61 sec\n",
      "===================================================\n",
      "\n",
      "LE600 completed /// Elapsed time: 0 min 1.93 sec\n",
      "LE602 completed /// Elapsed time: 0 min 3.84 sec\n",
      "LE640 completed /// Elapsed time: 0 min 2.40 sec\n",
      "LE647 completed /// Elapsed time: 0 min 2.09 sec\n",
      "LE699 completed /// Elapsed time: 0 min 2.40 sec\n",
      "---------------------------------------------------\n",
      "4 timebin completed / Elapsed time: 0 min 12.65 sec\n",
      "===================================================\n",
      "\n",
      "LE600 completed /// Elapsed time: 0 min 1.89 sec\n",
      "LE602 completed /// Elapsed time: 0 min 3.89 sec\n",
      "LE640 completed /// Elapsed time: 0 min 2.37 sec\n",
      "LE647 completed /// Elapsed time: 0 min 2.08 sec\n",
      "LE699 completed /// Elapsed time: 0 min 2.37 sec\n",
      "---------------------------------------------------\n",
      "5 timebin completed / Elapsed time: 0 min 12.61 sec\n",
      "===================================================\n",
      "\n",
      "LE600 completed /// Elapsed time: 0 min 1.88 sec\n",
      "LE602 completed /// Elapsed time: 0 min 3.79 sec\n",
      "LE640 completed /// Elapsed time: 0 min 2.47 sec\n",
      "LE647 completed /// Elapsed time: 0 min 2.14 sec\n",
      "LE699 completed /// Elapsed time: 0 min 2.39 sec\n",
      "---------------------------------------------------\n",
      "6 timebin completed / Elapsed time: 0 min 12.67 sec\n",
      "===================================================\n",
      "\n",
      "LE600 completed /// Elapsed time: 0 min 1.87 sec\n",
      "LE602 completed /// Elapsed time: 0 min 3.79 sec\n",
      "LE640 completed /// Elapsed time: 0 min 2.42 sec\n",
      "LE647 completed /// Elapsed time: 0 min 2.18 sec\n",
      "LE699 completed /// Elapsed time: 0 min 2.43 sec\n",
      "---------------------------------------------------\n",
      "7 timebin completed / Elapsed time: 0 min 12.69 sec\n",
      "===================================================\n",
      "\n",
      "LE600 completed /// Elapsed time: 0 min 1.90 sec\n",
      "LE602 completed /// Elapsed time: 0 min 3.80 sec\n",
      "LE640 completed /// Elapsed time: 0 min 2.41 sec\n",
      "LE647 completed /// Elapsed time: 0 min 2.12 sec\n",
      "LE699 completed /// Elapsed time: 0 min 2.48 sec\n",
      "---------------------------------------------------\n",
      "8 timebin completed / Elapsed time: 0 min 12.71 sec\n",
      "===================================================\n",
      "\n",
      "LE600 completed /// Elapsed time: 0 min 1.97 sec\n",
      "LE602 completed /// Elapsed time: 0 min 3.81 sec\n",
      "LE640 completed /// Elapsed time: 0 min 2.43 sec\n",
      "LE647 completed /// Elapsed time: 0 min 2.11 sec\n",
      "LE699 completed /// Elapsed time: 0 min 2.36 sec\n",
      "---------------------------------------------------\n",
      "9 timebin completed / Elapsed time: 0 min 12.69 sec\n",
      "===================================================\n",
      "\n",
      "Wall time: 2min 3s\n"
     ]
    }
   ],
   "source": [
    "%%time\n",
    "for t in range(9):\n",
    "    bin_loop_start = time.time()\n",
    "\n",
    "    svm_real = np.zeros((len(rat_list),6,6))\n",
    "    for i,rat in enumerate(rat_list):\n",
    "        loop_start = time.time()\n",
    "\n",
    "        rat_result = Parallel(n_jobs=-1)(delayed(subsample_cross_val_predict)(df, final_model, rat, kfold, num_trial, bin_size, t+1, 0) for j in range(num_iter))   \n",
    "\n",
    "        svm_real[i,:,:] = np.sum(rat_result,axis=0)/(num_iter*kfold)\n",
    "\n",
    "        loop_end = time.time()\n",
    "        loop_time = divmod(loop_end-loop_start,60)\n",
    "        print(f'LE{rat} completed /// Elapsed time: {int(loop_time[0])} min {loop_time[1]:.2f} sec')\n",
    "\n",
    "    np.save(save_path / f'{today}_{bin_size*10}ms_{t+1}bins_{num_iter}iter_real.npy',svm_real)\n",
    "\n",
    "    bin_loop_end = time.time()\n",
    "    bin_loop_time = divmod(bin_loop_end-bin_loop_start,60)\n",
    "    print('---------------------------------------------------')\n",
    "    print(f'{t+1} timebin completed / Elapsed time: {int(bin_loop_time[0])} min {bin_loop_time[1]:.2f} sec')\n",
    "    print('===================================================')\n",
    "    print('')"
   ]
  },
  {
   "cell_type": "code",
   "execution_count": 70,
   "id": "2aaef8d4",
   "metadata": {},
   "outputs": [
    {
     "data": {
      "image/png": "[encoded data removed]",
      "text/plain": [
       "<Figure size 1200x600 with 2 Axes>"
      ]
     },
     "metadata": {},
     "output_type": "display_data"
    }
   ],
   "source": [
    "# load a specific numpy array and examine the confusion matrix\n",
    "fig,ax = plt.subplots(1,2,figsize=(12,6))\n",
    "\n",
    "iteration = [100,500]\n",
    "for i in range(2):\n",
    "    svm_real = np.load(save_path / f'{today}_{bin_size*10}ms_{6}bins_{iteration[i]}iter_real.npy')\n",
    "    svm_real_mean = np.mean(svm_real,axis=0)\n",
    "\n",
    "    ax[i].imshow(svm_real_mean, cmap=plt.cm.get_cmap('Blues'));\n",
    "    ax[i].set_xlabel('True stimulus condition', fontsize=14)\n",
    "    ax[i].set_ylabel('Predicted stimulus condition', fontsize=14)\n",
    "\n",
    "    for m in range(6):\n",
    "        for l in range(6):\n",
    "            ax[i].text(m,l,'{:.2f}'.format(svm_real_mean[m,l]),ha='center')\n",
    "\n",
    "    ax[i].set_xticks(np.arange(0,6))\n",
    "    ax[i].set_xticklabels(['Boy-M','Boy-V','Boy-A','Egg-M','Egg-V','Egg-A']);\n",
    "    ax[i].set_yticks(np.arange(0,6))\n",
    "    ax[i].set_yticklabels(['Boy-M','Boy-V','Boy-A','Egg-M','Egg-V','Egg-A']);\n",
    "plt.tight_layout()"
   ]
  },
  {
   "cell_type": "markdown",
   "id": "959efbf0",
   "metadata": {},
   "source": [
    "#### Shuffled data"
   ]
  },
  {
   "cell_type": "code",
   "execution_count": 12,
   "id": "f148c836",
   "metadata": {},
   "outputs": [
    {
     "name": "stdout",
     "output_type": "stream",
     "text": [
      "Shuffle run 100 completed /// Elapsed time: 22 min 28.07 sec\n",
      "Shuffle run 200 completed /// Elapsed time: 22 min 2.31 sec\n",
      "Shuffle run 300 completed /// Elapsed time: 22 min 1.91 sec\n",
      "Shuffle run 400 completed /// Elapsed time: 22 min 1.59 sec\n",
      "Shuffle run 500 completed /// Elapsed time: 22 min 1.14 sec\n",
      "Shuffle run 600 completed /// Elapsed time: 22 min 1.18 sec\n",
      "Shuffle run 700 completed /// Elapsed time: 22 min 1.06 sec\n",
      "Shuffle run 800 completed /// Elapsed time: 22 min 3.02 sec\n",
      "Shuffle run 900 completed /// Elapsed time: 22 min 3.12 sec\n",
      "Shuffle run 1000 completed /// Elapsed time: 21 min 58.21 sec\n"
     ]
    },
    {
     "ename": "NameError",
     "evalue": "name 'svm_real' is not defined",
     "output_type": "error",
     "traceback": [
      "\u001b[1;31m---------------------------------------------------------------------------\u001b[0m",
      "\u001b[1;31mNameError\u001b[0m                                 Traceback (most recent call last)",
      "\u001b[1;32m<timed exec>\u001b[0m in \u001b[0;36m<module>\u001b[1;34m\u001b[0m\n",
      "\u001b[1;31mNameError\u001b[0m: name 'svm_real' is not defined"
     ]
    }
   ],
   "source": [
    "%%time\n",
    "num_shuffle = 1000\n",
    "for t in range(9):\n",
    "    bin_loop_start = time.time()\n",
    "\n",
    "    svm_shuffle_result = np.zeros((num_shuffle,len(rat_list),6,6))\n",
    "    for shuffle_run in range(num_shuffle):\n",
    "        \n",
    "        # measure elapsed time for every 100 loops\n",
    "        if divmod(shuffle_run+1,100)[1] == 1:\n",
    "            loop_start = time.time()\n",
    "            \n",
    "        svm_result = np.zeros((len(rat_list),6,6))\n",
    "        for r,rat in enumerate(rat_list):\n",
    "            rat_result = Parallel(n_jobs=-1)(delayed(subsample_cross_val_predict)(df, final_model, rat, kfold, num_trial, bin_size, t+1, 1) for j in range(num_iter))   \n",
    "            svm_result[r,:,:] = np.sum(rat_result,axis=0)/(num_iter*kfold)\n",
    "\n",
    "        svm_shuffle_result[shuffle_run,:,:,:] = svm_result\n",
    "    \n",
    "        # measure elapsed time for every 100 loops\n",
    "        if divmod(shuffle_run+1,100)[1] == 0:\n",
    "            loop_end = time.time()\n",
    "            loop_time = divmod(loop_end-loop_start,60)\n",
    "            print(f'Shuffle run {shuffle_run+1} completed /// Elapsed time: {int(loop_time[0])} min {loop_time[1]:.2f} sec')\n",
    "\n",
    "    np.save(save_path / f'{today}_{bin_size*10}ms_{t+1}bins_{num_iter}iter_shuffle.npy',svm_shuffle)\n",
    "\n",
    "    bin_loop_end = time.time()\n",
    "    bin_loop_time = divmod(bin_loop_end-bin_loop_start,60)\n",
    "    print('---------------------------------------------------')\n",
    "    print(f'{t+1} timebin completed / Elapsed time: {int(bin_loop_time[0])} min {bin_loop_time[1]:.2f} sec')\n",
    "    print('===================================================')\n",
    "    print('')"
   ]
  },
  {
   "cell_type": "code",
   "execution_count": null,
   "id": "d20534d2",
   "metadata": {},
   "outputs": [],
   "source": []
  }
 ],
 "metadata": {
  "kernelspec": {
   "display_name": "Python 3 (ipykernel)",
   "language": "python",
   "name": "python3"
  },
  "language_info": {
   "codemirror_mode": {
    "name": "ipython",
    "version": 3
   },
   "file_extension": ".py",
   "mimetype": "text/x-python",
   "name": "python",
   "nbconvert_exporter": "python",
   "pygments_lexer": "ipython3",
   "version": "3.9.13"
  }
 },
 "nbformat": 4,
 "nbformat_minor": 5
}
