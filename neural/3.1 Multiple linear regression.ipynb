{
 "cells": [
  {
   "cell_type": "markdown",
   "id": "c2d4f156",
   "metadata": {},
   "source": [
    "## Multiple linear regression\n",
    "This code runs multiple linear regression within object-selective epoch defined based on ANOVA result. \n",
    "\n",
    "Response-selective neurons were filtered out by nested regression."
   ]
  },
  {
   "cell_type": "code",
   "execution_count": 1,
   "id": "6ef091ff",
   "metadata": {},
   "outputs": [],
   "source": [
    "import os\n",
    "from pathlib import Path\n",
    "import numpy as np\n",
    "import pandas as pd\n",
    "\n",
    "from scipy import stats\n",
    "from scipy.ndimage import gaussian_filter\n",
    "from statsmodels.regression.linear_model import OLS\n",
    "from statsmodels.tools import add_constant\n",
    "\n",
    "import matplotlib as mpl\n",
    "import matplotlib.pyplot as plt  \n",
    "\n",
    "from datetime import date\n",
    "import time\n",
    "\n",
    "import random\n",
    "\n",
    "from joblib import Parallel, delayed\n",
    "\n",
    "import h5py"
   ]
  },
  {
   "cell_type": "code",
   "execution_count": 2,
   "id": "a2efd57f",
   "metadata": {},
   "outputs": [],
   "source": [
    "# no top and right spines in all plots\n",
    "mpl.rcParams['axes.spines.right'] = False\n",
    "mpl.rcParams['axes.spines.top'] = False"
   ]
  },
  {
   "cell_type": "code",
   "execution_count": 3,
   "id": "75d558bd",
   "metadata": {},
   "outputs": [],
   "source": [
    "mother_path = Path('D:/Multi-modal project/')"
   ]
  },
  {
   "cell_type": "markdown",
   "id": "c9d779bc",
   "metadata": {},
   "source": [
    "### Parameter setting"
   ]
  },
  {
   "cell_type": "code",
   "execution_count": 4,
   "id": "80036cec",
   "metadata": {},
   "outputs": [],
   "source": [
    "num_iter = 1000\n",
    "\n",
    "gauss_sigma = 2\n",
    "\n",
    "# colors for multimodal, vis-only, aud-only conditions\n",
    "color = ['mediumorchid','cornflowerblue','lightcoral','gray']\n",
    "color2 = ['cyan','magenta','brown']\n",
    "linestyle = ['-',':']\n",
    "\n",
    "today = str(date.today())"
   ]
  },
  {
   "cell_type": "markdown",
   "id": "74ff06dc",
   "metadata": {},
   "source": [
    "### Data preparation"
   ]
  },
  {
   "cell_type": "code",
   "execution_count": 5,
   "id": "ee283c52",
   "metadata": {},
   "outputs": [],
   "source": [
    "save_path = mother_path /'analysis'/'result'/'3.1 Multiple linear regression'/today\n",
    "cell_path = mother_path/'analysis'/'result'/'zFR export'/'13-Apr-2022 (5 trials)'\n",
    "data_path = mother_path /'analysis'/'result'/'3. ANOVA'\n",
    "\n",
    "cell_list = os.listdir(cell_path)\n",
    "\n",
    "# load hdf5 files containing shuffled results\n",
    "f = h5py.File(data_path/'2023-05-30'/'2023-05-30_ANOVA_result.hdf5','r')\n",
    "\n",
    "# make hdf5 save file\n",
    "os.makedirs(save_path,exist_ok=True)\n",
    "s = h5py.File(save_path/f'{today}_multiple_regression_result.hdf5','w')"
   ]
  },
  {
   "cell_type": "markdown",
   "id": "e0fbe3cd",
   "metadata": {},
   "source": [
    "# Data analysis"
   ]
  },
  {
   "cell_type": "code",
   "execution_count": 6,
   "id": "db3e8f0e",
   "metadata": {},
   "outputs": [],
   "source": [
    "def MLR(fr,x1,x2,shuffle):\n",
    "    \"\"\"\n",
    "    This function performs multiple linear regression to estimate firing rates within\n",
    "    object-selective epoch\n",
    "    \"\"\"\n",
    "    # trial condition shuffling\n",
    "    if shuffle:\n",
    "        state = np.random.get_state()\n",
    "        x1 = np.random.permutation(x1)\n",
    "        np.random.set_state(state)\n",
    "        x2 = np.random.permutation(x2)\n",
    "    \n",
    "    lr1 = OLS(fr,add_constant(x1)).fit()\n",
    "    lr2 = OLS(fr,add_constant(x2)).fit()\n",
    "    \n",
    "    beta_coef, beta_coef_choice = lr1.params[1:], lr2.params[1:]\n",
    "\n",
    "    AIC, AIC_choice = lr1.aic, lr2.aic\n",
    "    BIC, BIC_choice = lr1.bic, lr2.bic\n",
    "    \n",
    "    if shuffle==0:\n",
    "        pval, pval_choice = lr1.pvalues[1:], lr2.pvalues[1:]    \n",
    "    else:\n",
    "        pval, pval_choice = 0, 0\n",
    "        \n",
    "    return beta_coef, beta_coef_choice, pval, pval_choice, AIC, AIC_choice, BIC, BIC_choice"
   ]
  },
  {
   "cell_type": "code",
   "execution_count": 7,
   "id": "2931bed1",
   "metadata": {},
   "outputs": [],
   "source": [
    "def plot_SDF_beta(df,linewidth,smooth,save,save_format):\n",
    "    \"\"\"\n",
    "    This function plots mean firing rate patterns of each stimulus condition\n",
    "    and beta coefficients for visual and auditory terms in multiple linear regression.\n",
    "    \"\"\"\n",
    "    cond = [(df.Type=='Multimodal')&(df.RWD_Loc==boy_goal),\n",
    "            (df.Type=='Multimodal')&(df.RWD_Loc==egg_goal),\n",
    "            (df.Type=='Visual')&(df.RWD_Loc==boy_goal),\n",
    "            (df.Type=='Visual')&(df.RWD_Loc==egg_goal),\n",
    "            (df.Type=='Auditory')&(df.RWD_Loc==boy_goal),\n",
    "            (df.Type=='Auditory')&(df.RWD_Loc==egg_goal),\n",
    "            (df.Type=='Elementary')&(df.RWD_Loc==boy_goal),\n",
    "            (df.Type=='Elementary')&(df.RWD_Loc==egg_goal)]\n",
    "    \n",
    "    cell_full_name = cell_name.strip('.csv')\n",
    "    \n",
    "    fr_mean = np.zeros((8,95))\n",
    "    fr_sem = np.zeros((8,95))\n",
    "    for i in range(6):\n",
    "        fr_mean[i,:] = df[cond[i]].iloc[:,fr_id:fr_id+95].to_numpy().mean(axis=0)\n",
    "        fr_sem[i,:] = stats.sem(df[cond[i]].iloc[:,fr_id:fr_id+95].to_numpy())\n",
    "    \n",
    "    fr_mean[6,:] = (fr_mean[0,:]+fr_mean[2,:]+fr_mean[4,:])/3    # mean firing rates for BOY\n",
    "    fr_mean[7,:] = (fr_mean[1,:]+fr_mean[3,:]+fr_mean[5,:])/3    # mean firing rates for EGG\n",
    "    \n",
    "    fr_sem[6,:] = (fr_sem[0,:]+fr_sem[2,:]+fr_sem[4,:])/3    # SEM for BOY\n",
    "    fr_sem[7,:] = (fr_sem[1,:]+fr_sem[3,:]+fr_sem[5,:])/3    # SEM for EGG\n",
    "    \n",
    "    if smooth:\n",
    "        for i in range(8):\n",
    "            fr_mean[i,:] = gaussian_filter(fr_mean[i,:],sigma=gauss_sigma)\n",
    "            fr_sem[i,:] = gaussian_filter(fr_sem[i,:],sigma=gauss_sigma)\n",
    "            \n",
    "    y_max = np.ceil(np.max(fr_mean+fr_sem))\n",
    "    y_min = np.ceil(np.abs(np.min(fr_mean-fr_sem)))*-1\n",
    "    \n",
    "    fig,ax = plt.subplots(2,2,figsize=(7,5))\n",
    "    plt.suptitle(cell_full_name,fontsize=15);\n",
    "    x = np.arange(95)*10\n",
    "    \n",
    "    # Mean firing rates of each object\n",
    "    object_max = np.ceil(np.max(fr_mean[6:7,:]+fr_sem[6:7,:]))\n",
    "    object_min = np.ceil(np.abs(np.max(fr_mean[6:7,:]-fr_sem[6:7,:])))*-1\n",
    "    \n",
    "    ax[0,0].plot(x,fr_mean[6,:],color='black',linewidth=linewidth)\n",
    "    ax[0,0].fill_between(x,fr_mean[6,:]-fr_sem[6,:],fr_mean[6,:]+fr_sem[6,:],color='black',alpha=0.2)\n",
    "    ax[0,0].plot(x,fr_mean[7,:],color='black',linewidth=linewidth,linestyle=':')\n",
    "    ax[0,0].fill_between(x,fr_mean[7,:]-fr_sem[7,:],fr_mean[7,:]+fr_sem[7,:],color='black',alpha=0.2)        \n",
    "    ax[0,0].scatter(object_bin*10,np.tile(object_max-0.1,(len(object_bin),1)),color='black',marker='*',s=7)\n",
    "    ax[0,0].set_title('Objects',fontsize=14)    \n",
    "    ax[0,0].set_yticks(np.arange(object_min,object_max+0.1,1))\n",
    "    ax[0,0].set_ylim([object_min,object_max])\n",
    "    ax[0,0].set_ylabel('z-scored FR',fontsize=13)\n",
    "    ax[0,0].set_xlabel('Time (ms)',fontsize=13)  \n",
    "    ax[0,0].set_xticks([0,400,950])\n",
    "    ax[0,0].set_xlim([0,950])\n",
    "    \n",
    "    # Mean firing rates of all conditions\n",
    "\n",
    "    for i in range(6):\n",
    "        if i%2==0:\n",
    "            ls = linestyle[0]\n",
    "        else:\n",
    "            ls = linestyle[1]          \n",
    "        ax[1,0].plot(x,fr_mean[i,:],color=color[divmod(i,2)[0]],linewidth=linewidth,linestyle=ls)\n",
    "        ax[1,0].fill_between(x,fr_mean[i,:]-fr_sem[i,:],fr_mean[i,:]+fr_sem[i,:],color=color[divmod(i,2)[0]],alpha=0.2)\n",
    "    ax[1,0].scatter(object_bin*10,np.tile(y_max-0.1,(len(object_bin),1)),color='black',marker='*',s=7)\n",
    "    ax[1,0].set_yticks(np.arange(y_min,y_max+0.1,1))\n",
    "    ax[1,0].set_ylim([y_min,y_max])\n",
    "    ax[1,0].set_ylabel('z-scored FR',fontsize=13)\n",
    "    ax[1,0].set_xlabel('Time (ms)',fontsize=13)  \n",
    "    ax[1,0].set_xticks([0,400,950])\n",
    "    ax[1,0].set_xlim([0,950])\n",
    "    \n",
    "    #\n",
    "    x = ['Boy-M','Boy-V','Boy-A','Egg-M','Egg-V','Egg-A']\n",
    "    ax[0,1].bar(x,cond_mFR,xerr=cond_sem,yerr=cond_sem,\n",
    "                color=['purple','blue','red','purple','blue','red'])\n",
    "    ax[0,1].set_ylabel('mean FR',fontsize=13)\n",
    "    ax[0,1].set_xticklabels(x, rotation=45, ha='right');\n",
    "    ax[0,1].set_yticks(np.arange(y_min,y_max+0.1,1))\n",
    "    ax[0,1].set_ylim([y_min,y_max])\n",
    "    \n",
    "    x = ['Boy-image','Boy-sound','Boy-int','Egg-image','Egg-sound','Egg-int']\n",
    "    sig = pval<0.05\n",
    "    ax[1,1].bar(x,beta_coef,\n",
    "                    color=['tab:cyan','tab:pink','tab:brown','tab:cyan','tab:pink','tab:brown'])\n",
    "    ax[1,1].scatter(np.where(sig)[0],np.tile(0.1,(sum(sig),1)),marker='*',color='black')\n",
    "    ax[1,1].set_ylabel('beta coefficient',fontsize=13)\n",
    "    ax[1,1].set_xticklabels(x, rotation=45, ha='right');\n",
    "    \n",
    "    plt.tight_layout()\n",
    "    \n",
    "    if save:\n",
    "        fig_path = save_path / region / ('response' if response else '')\n",
    "        os.makedirs(fig_path, exist_ok=True)\n",
    "\n",
    "        if save_format == 'png':\n",
    "            plt.savefig(fig_path / f'{cell_full_name}.png', dpi=100, facecolor='white')\n",
    "        elif save_format == 'svg':\n",
    "            plt.savefig(fig_path / f'{cell_full_name}.svg')\n",
    "        plt.close()"
   ]
  },
  {
   "cell_type": "code",
   "execution_count": 8,
   "id": "126c58c9",
   "metadata": {},
   "outputs": [],
   "source": [
    "def save_result(f):\n",
    "    \"\"\"\n",
    "    This function saves regression results into HDF5 format.\n",
    "    \"\"\"\n",
    "    cell_group = f.create_group(str(cell_id))\n",
    "    basic_group = f.create_group(f'{cell_id}/basic')\n",
    "    extended_group = f.create_group(f'{cell_id}/extended')\n",
    "    basic_shuffle_group = f.create_group(f'{cell_id}/basic_shuffle')\n",
    "    extended_shuffle_group = f.create_group(f'{cell_id}/extended_shuffle')\n",
    "    \n",
    "    basic_group.create_dataset('beta_coef',data=beta_coef)\n",
    "    basic_group.create_dataset('pval',data=pval)\n",
    "    basic_group.create_dataset('AIC',data=AIC)\n",
    "    basic_group.create_dataset('BIC',data=BIC)\n",
    "\n",
    "    extended_group.create_dataset('beta_coef',data=beta_coef_choice)\n",
    "    extended_group.create_dataset('pval',data=pval_choice)    \n",
    "    extended_group.create_dataset('AIC',data=AIC_choice)\n",
    "    extended_group.create_dataset('BIC',data=BIC_choice)    \n",
    "    \n",
    "    basic_shuffle_group.create_dataset('beta_coef',data=beta_coef_shuffle)\n",
    "    basic_shuffle_group.create_dataset('AIC',data=AIC_shuffle)\n",
    "    basic_shuffle_group.create_dataset('BIC',data=BIC_shuffle)\n",
    "\n",
    "    extended_shuffle_group.create_dataset('beta_coef',data=beta_coef_choice_shuffle)\n",
    "    extended_shuffle_group.create_dataset('AIC',data=AIC_choice_shuffle)\n",
    "    extended_shuffle_group.create_dataset('BIC',data=BIC_choice_shuffle)           \n",
    "    \n",
    "    cell_group.attrs['Rat'] = rat_id\n",
    "    cell_group.attrs['Region'] = region\n",
    "    cell_group.attrs['Session'] = session_id\n",
    "    cell_group.attrs['Response cell'] = response"
   ]
  },
  {
   "cell_type": "code",
   "execution_count": 9,
   "id": "7a800433",
   "metadata": {},
   "outputs": [
    {
     "name": "stderr",
     "output_type": "stream",
     "text": [
      "C:\\Users\\Public\\Documents\\ESTsoft\\CreatorTemp\\ipykernel_33588\\3917152087.py:80: UserWarning: FixedFormatter should only be used together with FixedLocator\n",
      "  ax[0,1].set_xticklabels(x, rotation=45, ha='right');\n",
      "C:\\Users\\Public\\Documents\\ESTsoft\\CreatorTemp\\ipykernel_33588\\3917152087.py:88: MatplotlibDeprecationWarning: Support for passing numbers through unit converters is deprecated since 3.5 and support will be removed two minor releases later; use Axis.convert_units instead.\n",
      "  ax[1,1].scatter(np.where(sig)[0],np.tile(0.1,(sum(sig),1)),marker='*',color='black')\n",
      "C:\\Users\\Public\\Documents\\ESTsoft\\CreatorTemp\\ipykernel_33588\\3917152087.py:90: UserWarning: FixedFormatter should only be used together with FixedLocator\n",
      "  ax[1,1].set_xticklabels(x, rotation=45, ha='right');\n"
     ]
    },
    {
     "name": "stdout",
     "output_type": "stream",
     "text": [
      "0004-600-1-1-Crossmodal-TeV-deep-(-7.32 mm)-TT4.2 ////// 2/878 completed  //////  0 min 6.44 sec\n"
     ]
    },
    {
     "name": "stderr",
     "output_type": "stream",
     "text": [
      "C:\\Users\\Public\\Documents\\ESTsoft\\CreatorTemp\\ipykernel_33588\\3917152087.py:80: UserWarning: FixedFormatter should only be used together with FixedLocator\n",
      "  ax[0,1].set_xticklabels(x, rotation=45, ha='right');\n",
      "C:\\Users\\Public\\Documents\\ESTsoft\\CreatorTemp\\ipykernel_33588\\3917152087.py:90: UserWarning: FixedFormatter should only be used together with FixedLocator\n",
      "  ax[1,1].set_xticklabels(x, rotation=45, ha='right');\n"
     ]
    },
    {
     "name": "stdout",
     "output_type": "stream",
     "text": [
      "0006-600-1-1-Crossmodal-PER-superficial-(-7.2 mm)-TT5.1 ////// 4/878 completed  //////  0 min 1.17 sec\n"
     ]
    },
    {
     "name": "stderr",
     "output_type": "stream",
     "text": [
      "C:\\Users\\Public\\Documents\\ESTsoft\\CreatorTemp\\ipykernel_33588\\3917152087.py:80: UserWarning: FixedFormatter should only be used together with FixedLocator\n",
      "  ax[0,1].set_xticklabels(x, rotation=45, ha='right');\n",
      "C:\\Users\\Public\\Documents\\ESTsoft\\CreatorTemp\\ipykernel_33588\\3917152087.py:88: MatplotlibDeprecationWarning: Support for passing numbers through unit converters is deprecated since 3.5 and support will be removed two minor releases later; use Axis.convert_units instead.\n",
      "  ax[1,1].scatter(np.where(sig)[0],np.tile(0.1,(sum(sig),1)),marker='*',color='black')\n",
      "C:\\Users\\Public\\Documents\\ESTsoft\\CreatorTemp\\ipykernel_33588\\3917152087.py:90: UserWarning: FixedFormatter should only be used together with FixedLocator\n",
      "  ax[1,1].set_xticklabels(x, rotation=45, ha='right');\n"
     ]
    },
    {
     "name": "stdout",
     "output_type": "stream",
     "text": [
      "0008-600-1-1-Crossmodal-PER-superficial-(-7.2 mm)-TT5.3 ////// 6/878 completed  //////  0 min 1.14 sec\n"
     ]
    },
    {
     "name": "stderr",
     "output_type": "stream",
     "text": [
      "C:\\Users\\Public\\Documents\\ESTsoft\\CreatorTemp\\ipykernel_33588\\3917152087.py:80: UserWarning: FixedFormatter should only be used together with FixedLocator\n",
      "  ax[0,1].set_xticklabels(x, rotation=45, ha='right');\n",
      "C:\\Users\\Public\\Documents\\ESTsoft\\CreatorTemp\\ipykernel_33588\\3917152087.py:90: UserWarning: FixedFormatter should only be used together with FixedLocator\n",
      "  ax[1,1].set_xticklabels(x, rotation=45, ha='right');\n"
     ]
    },
    {
     "name": "stdout",
     "output_type": "stream",
     "text": [
      "0013-600-1-1-Crossmodal-PER-deep-(-6.48 mm)-TT8.2 ////// 9/878 completed  //////  0 min 0.97 sec\n"
     ]
    },
    {
     "name": "stderr",
     "output_type": "stream",
     "text": [
      "C:\\Users\\Public\\Documents\\ESTsoft\\CreatorTemp\\ipykernel_33588\\3917152087.py:80: UserWarning: FixedFormatter should only be used together with FixedLocator\n",
      "  ax[0,1].set_xticklabels(x, rotation=45, ha='right');\n",
      "C:\\Users\\Public\\Documents\\ESTsoft\\CreatorTemp\\ipykernel_33588\\3917152087.py:88: MatplotlibDeprecationWarning: Support for passing numbers through unit converters is deprecated since 3.5 and support will be removed two minor releases later; use Axis.convert_units instead.\n",
      "  ax[1,1].scatter(np.where(sig)[0],np.tile(0.1,(sum(sig),1)),marker='*',color='black')\n",
      "C:\\Users\\Public\\Documents\\ESTsoft\\CreatorTemp\\ipykernel_33588\\3917152087.py:90: UserWarning: FixedFormatter should only be used together with FixedLocator\n",
      "  ax[1,1].set_xticklabels(x, rotation=45, ha='right');\n"
     ]
    },
    {
     "name": "stdout",
     "output_type": "stream",
     "text": [
      "0015-600-1-1-Crossmodal-TeV-deep-(-6.36 mm)-TT9.1 ////// 11/878 completed  //////  0 min 1.01 sec\n"
     ]
    },
    {
     "name": "stderr",
     "output_type": "stream",
     "text": [
      "C:\\Users\\Public\\Documents\\ESTsoft\\CreatorTemp\\ipykernel_33588\\3917152087.py:80: UserWarning: FixedFormatter should only be used together with FixedLocator\n",
      "  ax[0,1].set_xticklabels(x, rotation=45, ha='right');\n",
      "C:\\Users\\Public\\Documents\\ESTsoft\\CreatorTemp\\ipykernel_33588\\3917152087.py:88: MatplotlibDeprecationWarning: Support for passing numbers through unit converters is deprecated since 3.5 and support will be removed two minor releases later; use Axis.convert_units instead.\n",
      "  ax[1,1].scatter(np.where(sig)[0],np.tile(0.1,(sum(sig),1)),marker='*',color='black')\n",
      "C:\\Users\\Public\\Documents\\ESTsoft\\CreatorTemp\\ipykernel_33588\\3917152087.py:90: UserWarning: FixedFormatter should only be used together with FixedLocator\n",
      "  ax[1,1].set_xticklabels(x, rotation=45, ha='right');\n"
     ]
    },
    {
     "name": "stdout",
     "output_type": "stream",
     "text": [
      "0016-600-1-1-Crossmodal-PER-deep-(-6.24 mm)-TT10.1 ////// 12/878 completed  //////  0 min 0.83 sec\n"
     ]
    },
    {
     "name": "stderr",
     "output_type": "stream",
     "text": [
      "C:\\Users\\Public\\Documents\\ESTsoft\\CreatorTemp\\ipykernel_33588\\3917152087.py:80: UserWarning: FixedFormatter should only be used together with FixedLocator\n",
      "  ax[0,1].set_xticklabels(x, rotation=45, ha='right');\n",
      "C:\\Users\\Public\\Documents\\ESTsoft\\CreatorTemp\\ipykernel_33588\\3917152087.py:90: UserWarning: FixedFormatter should only be used together with FixedLocator\n",
      "  ax[1,1].set_xticklabels(x, rotation=45, ha='right');\n"
     ]
    },
    {
     "name": "stdout",
     "output_type": "stream",
     "text": [
      "0017-600-1-1-Crossmodal-PER-deep-(-6.24 mm)-TT10.2 ////// 13/878 completed  //////  0 min 0.89 sec\n"
     ]
    },
    {
     "name": "stderr",
     "output_type": "stream",
     "text": [
      "C:\\Users\\Public\\Documents\\ESTsoft\\CreatorTemp\\ipykernel_33588\\3917152087.py:80: UserWarning: FixedFormatter should only be used together with FixedLocator\n",
      "  ax[0,1].set_xticklabels(x, rotation=45, ha='right');\n",
      "C:\\Users\\Public\\Documents\\ESTsoft\\CreatorTemp\\ipykernel_33588\\3917152087.py:88: MatplotlibDeprecationWarning: Support for passing numbers through unit converters is deprecated since 3.5 and support will be removed two minor releases later; use Axis.convert_units instead.\n",
      "  ax[1,1].scatter(np.where(sig)[0],np.tile(0.1,(sum(sig),1)),marker='*',color='black')\n",
      "C:\\Users\\Public\\Documents\\ESTsoft\\CreatorTemp\\ipykernel_33588\\3917152087.py:90: UserWarning: FixedFormatter should only be used together with FixedLocator\n",
      "  ax[1,1].set_xticklabels(x, rotation=45, ha='right');\n"
     ]
    },
    {
     "name": "stdout",
     "output_type": "stream",
     "text": [
      "0018-600-1-1-Crossmodal-PER-superficial-(-6.24 mm)-TT13.1 ////// 14/878 completed  //////  0 min 1.09 sec\n"
     ]
    },
    {
     "name": "stderr",
     "output_type": "stream",
     "text": [
      "C:\\Users\\Public\\Documents\\ESTsoft\\CreatorTemp\\ipykernel_33588\\3917152087.py:80: UserWarning: FixedFormatter should only be used together with FixedLocator\n",
      "  ax[0,1].set_xticklabels(x, rotation=45, ha='right');\n",
      "C:\\Users\\Public\\Documents\\ESTsoft\\CreatorTemp\\ipykernel_33588\\3917152087.py:90: UserWarning: FixedFormatter should only be used together with FixedLocator\n",
      "  ax[1,1].set_xticklabels(x, rotation=45, ha='right');\n"
     ]
    },
    {
     "name": "stdout",
     "output_type": "stream",
     "text": [
      "0021-600-1-1-Crossmodal-TeV-superficial-(-6.96 mm)-TT17.1 ////// 15/878 completed  //////  0 min 1.18 sec\n"
     ]
    },
    {
     "name": "stderr",
     "output_type": "stream",
     "text": [
      "C:\\Users\\Public\\Documents\\ESTsoft\\CreatorTemp\\ipykernel_33588\\3917152087.py:80: UserWarning: FixedFormatter should only be used together with FixedLocator\n",
      "  ax[0,1].set_xticklabels(x, rotation=45, ha='right');\n",
      "C:\\Users\\Public\\Documents\\ESTsoft\\CreatorTemp\\ipykernel_33588\\3917152087.py:90: UserWarning: FixedFormatter should only be used together with FixedLocator\n",
      "  ax[1,1].set_xticklabels(x, rotation=45, ha='right');\n"
     ]
    },
    {
     "name": "stdout",
     "output_type": "stream",
     "text": [
      "0024-600-1-1-Crossmodal-POR-deep-(-7.56 mm)-TT24.2 ////// 18/878 completed  //////  0 min 0.84 sec\n"
     ]
    },
    {
     "name": "stderr",
     "output_type": "stream",
     "text": [
      "C:\\Users\\Public\\Documents\\ESTsoft\\CreatorTemp\\ipykernel_33588\\3917152087.py:80: UserWarning: FixedFormatter should only be used together with FixedLocator\n",
      "  ax[0,1].set_xticklabels(x, rotation=45, ha='right');\n",
      "C:\\Users\\Public\\Documents\\ESTsoft\\CreatorTemp\\ipykernel_33588\\3917152087.py:90: UserWarning: FixedFormatter should only be used together with FixedLocator\n",
      "  ax[1,1].set_xticklabels(x, rotation=45, ha='right');\n"
     ]
    },
    {
     "name": "stdout",
     "output_type": "stream",
     "text": [
      "0027-600-2-2-Crossmodal-PER-superficial-(-7.2 mm)-TT5.1 ////// 21/878 completed  //////  0 min 0.91 sec\n"
     ]
    },
    {
     "name": "stderr",
     "output_type": "stream",
     "text": [
      "C:\\Users\\Public\\Documents\\ESTsoft\\CreatorTemp\\ipykernel_33588\\3917152087.py:80: UserWarning: FixedFormatter should only be used together with FixedLocator\n",
      "  ax[0,1].set_xticklabels(x, rotation=45, ha='right');\n",
      "C:\\Users\\Public\\Documents\\ESTsoft\\CreatorTemp\\ipykernel_33588\\3917152087.py:90: UserWarning: FixedFormatter should only be used together with FixedLocator\n",
      "  ax[1,1].set_xticklabels(x, rotation=45, ha='right');\n"
     ]
    },
    {
     "name": "stdout",
     "output_type": "stream",
     "text": [
      "0028-600-2-2-Crossmodal-PER-superficial-(-7.2 mm)-TT5.2 ////// 22/878 completed  //////  0 min 1.29 sec\n"
     ]
    },
    {
     "name": "stderr",
     "output_type": "stream",
     "text": [
      "C:\\Users\\Public\\Documents\\ESTsoft\\CreatorTemp\\ipykernel_33588\\3917152087.py:80: UserWarning: FixedFormatter should only be used together with FixedLocator\n",
      "  ax[0,1].set_xticklabels(x, rotation=45, ha='right');\n",
      "C:\\Users\\Public\\Documents\\ESTsoft\\CreatorTemp\\ipykernel_33588\\3917152087.py:90: UserWarning: FixedFormatter should only be used together with FixedLocator\n",
      "  ax[1,1].set_xticklabels(x, rotation=45, ha='right');\n"
     ]
    },
    {
     "name": "stdout",
     "output_type": "stream",
     "text": [
      "0030-600-2-2-Crossmodal-PER-superficial-(-7.2 mm)-TT5.4 ////// 24/878 completed  //////  0 min 1.26 sec\n"
     ]
    },
    {
     "name": "stderr",
     "output_type": "stream",
     "text": [
      "C:\\Users\\Public\\Documents\\ESTsoft\\CreatorTemp\\ipykernel_33588\\3917152087.py:80: UserWarning: FixedFormatter should only be used together with FixedLocator\n",
      "  ax[0,1].set_xticklabels(x, rotation=45, ha='right');\n",
      "C:\\Users\\Public\\Documents\\ESTsoft\\CreatorTemp\\ipykernel_33588\\3917152087.py:90: UserWarning: FixedFormatter should only be used together with FixedLocator\n",
      "  ax[1,1].set_xticklabels(x, rotation=45, ha='right');\n"
     ]
    },
    {
     "name": "stdout",
     "output_type": "stream",
     "text": [
      "0031-600-2-2-Crossmodal-TeV-deep-(-6.96 mm)-TT6.1 ////// 25/878 completed  //////  0 min 1.87 sec\n"
     ]
    },
    {
     "name": "stderr",
     "output_type": "stream",
     "text": [
      "C:\\Users\\Public\\Documents\\ESTsoft\\CreatorTemp\\ipykernel_33588\\3917152087.py:80: UserWarning: FixedFormatter should only be used together with FixedLocator\n",
      "  ax[0,1].set_xticklabels(x, rotation=45, ha='right');\n",
      "C:\\Users\\Public\\Documents\\ESTsoft\\CreatorTemp\\ipykernel_33588\\3917152087.py:88: MatplotlibDeprecationWarning: Support for passing numbers through unit converters is deprecated since 3.5 and support will be removed two minor releases later; use Axis.convert_units instead.\n",
      "  ax[1,1].scatter(np.where(sig)[0],np.tile(0.1,(sum(sig),1)),marker='*',color='black')\n",
      "C:\\Users\\Public\\Documents\\ESTsoft\\CreatorTemp\\ipykernel_33588\\3917152087.py:90: UserWarning: FixedFormatter should only be used together with FixedLocator\n",
      "  ax[1,1].set_xticklabels(x, rotation=45, ha='right');\n"
     ]
    },
    {
     "name": "stdout",
     "output_type": "stream",
     "text": [
      "0032-600-2-2-Crossmodal-TeV-deep-(-6.96 mm)-TT6.2 ////// 26/878 completed  //////  0 min 1.49 sec\n"
     ]
    },
    {
     "name": "stderr",
     "output_type": "stream",
     "text": [
      "C:\\Users\\Public\\Documents\\ESTsoft\\CreatorTemp\\ipykernel_33588\\3917152087.py:80: UserWarning: FixedFormatter should only be used together with FixedLocator\n",
      "  ax[0,1].set_xticklabels(x, rotation=45, ha='right');\n",
      "C:\\Users\\Public\\Documents\\ESTsoft\\CreatorTemp\\ipykernel_33588\\3917152087.py:90: UserWarning: FixedFormatter should only be used together with FixedLocator\n",
      "  ax[1,1].set_xticklabels(x, rotation=45, ha='right');\n"
     ]
    },
    {
     "name": "stdout",
     "output_type": "stream",
     "text": [
      "0033-600-2-2-Crossmodal-PER-superficial-(-6.48 mm)-TT7.1 ////// 27/878 completed  //////  0 min 1.12 sec\n"
     ]
    },
    {
     "name": "stderr",
     "output_type": "stream",
     "text": [
      "C:\\Users\\Public\\Documents\\ESTsoft\\CreatorTemp\\ipykernel_33588\\3917152087.py:80: UserWarning: FixedFormatter should only be used together with FixedLocator\n",
      "  ax[0,1].set_xticklabels(x, rotation=45, ha='right');\n",
      "C:\\Users\\Public\\Documents\\ESTsoft\\CreatorTemp\\ipykernel_33588\\3917152087.py:88: MatplotlibDeprecationWarning: Support for passing numbers through unit converters is deprecated since 3.5 and support will be removed two minor releases later; use Axis.convert_units instead.\n",
      "  ax[1,1].scatter(np.where(sig)[0],np.tile(0.1,(sum(sig),1)),marker='*',color='black')\n",
      "C:\\Users\\Public\\Documents\\ESTsoft\\CreatorTemp\\ipykernel_33588\\3917152087.py:90: UserWarning: FixedFormatter should only be used together with FixedLocator\n",
      "  ax[1,1].set_xticklabels(x, rotation=45, ha='right');\n"
     ]
    },
    {
     "name": "stdout",
     "output_type": "stream",
     "text": [
      "0035-600-2-2-Crossmodal-PER-superficial-(-6.48 mm)-TT7.3 ////// 28/878 completed  //////  0 min 1.08 sec\n"
     ]
    },
    {
     "name": "stderr",
     "output_type": "stream",
     "text": [
      "C:\\Users\\Public\\Documents\\ESTsoft\\CreatorTemp\\ipykernel_33588\\3917152087.py:80: UserWarning: FixedFormatter should only be used together with FixedLocator\n",
      "  ax[0,1].set_xticklabels(x, rotation=45, ha='right');\n",
      "C:\\Users\\Public\\Documents\\ESTsoft\\CreatorTemp\\ipykernel_33588\\3917152087.py:90: UserWarning: FixedFormatter should only be used together with FixedLocator\n",
      "  ax[1,1].set_xticklabels(x, rotation=45, ha='right');\n"
     ]
    },
    {
     "name": "stdout",
     "output_type": "stream",
     "text": [
      "0036-600-2-2-Crossmodal-PER-superficial-(-6.48 mm)-TT7.4 ////// 29/878 completed  //////  0 min 1.18 sec\n"
     ]
    },
    {
     "name": "stderr",
     "output_type": "stream",
     "text": [
      "C:\\Users\\Public\\Documents\\ESTsoft\\CreatorTemp\\ipykernel_33588\\3917152087.py:80: UserWarning: FixedFormatter should only be used together with FixedLocator\n",
      "  ax[0,1].set_xticklabels(x, rotation=45, ha='right');\n",
      "C:\\Users\\Public\\Documents\\ESTsoft\\CreatorTemp\\ipykernel_33588\\3917152087.py:88: MatplotlibDeprecationWarning: Support for passing numbers through unit converters is deprecated since 3.5 and support will be removed two minor releases later; use Axis.convert_units instead.\n",
      "  ax[1,1].scatter(np.where(sig)[0],np.tile(0.1,(sum(sig),1)),marker='*',color='black')\n",
      "C:\\Users\\Public\\Documents\\ESTsoft\\CreatorTemp\\ipykernel_33588\\3917152087.py:90: UserWarning: FixedFormatter should only be used together with FixedLocator\n",
      "  ax[1,1].set_xticklabels(x, rotation=45, ha='right');\n"
     ]
    },
    {
     "name": "stdout",
     "output_type": "stream",
     "text": [
      "0040-600-2-2-Crossmodal-PER-superficial-(-7.24 mm)-TT13.1 ////// 33/878 completed  //////  0 min 1.20 sec\n"
     ]
    },
    {
     "name": "stderr",
     "output_type": "stream",
     "text": [
      "C:\\Users\\Public\\Documents\\ESTsoft\\CreatorTemp\\ipykernel_33588\\3917152087.py:80: UserWarning: FixedFormatter should only be used together with FixedLocator\n",
      "  ax[0,1].set_xticklabels(x, rotation=45, ha='right');\n",
      "C:\\Users\\Public\\Documents\\ESTsoft\\CreatorTemp\\ipykernel_33588\\3917152087.py:90: UserWarning: FixedFormatter should only be used together with FixedLocator\n",
      "  ax[1,1].set_xticklabels(x, rotation=45, ha='right');\n"
     ]
    },
    {
     "name": "stdout",
     "output_type": "stream",
     "text": [
      "0043-600-2-2-Crossmodal-TeV-superficial-(-6.96 mm)-TT17.2 ////// 36/878 completed  //////  0 min 1.17 sec\n"
     ]
    },
    {
     "name": "stderr",
     "output_type": "stream",
     "text": [
      "C:\\Users\\Public\\Documents\\ESTsoft\\CreatorTemp\\ipykernel_33588\\3917152087.py:80: UserWarning: FixedFormatter should only be used together with FixedLocator\n",
      "  ax[0,1].set_xticklabels(x, rotation=45, ha='right');\n",
      "C:\\Users\\Public\\Documents\\ESTsoft\\CreatorTemp\\ipykernel_33588\\3917152087.py:88: MatplotlibDeprecationWarning: Support for passing numbers through unit converters is deprecated since 3.5 and support will be removed two minor releases later; use Axis.convert_units instead.\n",
      "  ax[1,1].scatter(np.where(sig)[0],np.tile(0.1,(sum(sig),1)),marker='*',color='black')\n",
      "C:\\Users\\Public\\Documents\\ESTsoft\\CreatorTemp\\ipykernel_33588\\3917152087.py:90: UserWarning: FixedFormatter should only be used together with FixedLocator\n",
      "  ax[1,1].set_xticklabels(x, rotation=45, ha='right');\n"
     ]
    },
    {
     "name": "stdout",
     "output_type": "stream",
     "text": [
      "0044-600-2-2-Crossmodal-TeV-superficial-(-6.96 mm)-TT17.3 ////// 37/878 completed  //////  0 min 1.02 sec\n"
     ]
    },
    {
     "name": "stderr",
     "output_type": "stream",
     "text": [
      "C:\\Users\\Public\\Documents\\ESTsoft\\CreatorTemp\\ipykernel_33588\\3917152087.py:80: UserWarning: FixedFormatter should only be used together with FixedLocator\n",
      "  ax[0,1].set_xticklabels(x, rotation=45, ha='right');\n",
      "C:\\Users\\Public\\Documents\\ESTsoft\\CreatorTemp\\ipykernel_33588\\3917152087.py:90: UserWarning: FixedFormatter should only be used together with FixedLocator\n",
      "  ax[1,1].set_xticklabels(x, rotation=45, ha='right');\n"
     ]
    },
    {
     "name": "stdout",
     "output_type": "stream",
     "text": [
      "0045-600-2-2-Crossmodal-TeV-deep-(-6.96 mm)-TT19.1 ////// 38/878 completed  //////  0 min 0.78 sec\n"
     ]
    },
    {
     "name": "stderr",
     "output_type": "stream",
     "text": [
      "C:\\Users\\Public\\Documents\\ESTsoft\\CreatorTemp\\ipykernel_33588\\3917152087.py:80: UserWarning: FixedFormatter should only be used together with FixedLocator\n",
      "  ax[0,1].set_xticklabels(x, rotation=45, ha='right');\n",
      "C:\\Users\\Public\\Documents\\ESTsoft\\CreatorTemp\\ipykernel_33588\\3917152087.py:88: MatplotlibDeprecationWarning: Support for passing numbers through unit converters is deprecated since 3.5 and support will be removed two minor releases later; use Axis.convert_units instead.\n",
      "  ax[1,1].scatter(np.where(sig)[0],np.tile(0.1,(sum(sig),1)),marker='*',color='black')\n",
      "C:\\Users\\Public\\Documents\\ESTsoft\\CreatorTemp\\ipykernel_33588\\3917152087.py:90: UserWarning: FixedFormatter should only be used together with FixedLocator\n",
      "  ax[1,1].set_xticklabels(x, rotation=45, ha='right');\n"
     ]
    },
    {
     "name": "stdout",
     "output_type": "stream",
     "text": [
      "0046-600-2-2-Crossmodal-POR-deep-(-7.56 mm)-TT24.1 ////// 39/878 completed  //////  0 min 0.86 sec\n"
     ]
    },
    {
     "name": "stderr",
     "output_type": "stream",
     "text": [
      "C:\\Users\\Public\\Documents\\ESTsoft\\CreatorTemp\\ipykernel_33588\\3917152087.py:80: UserWarning: FixedFormatter should only be used together with FixedLocator\n",
      "  ax[0,1].set_xticklabels(x, rotation=45, ha='right');\n",
      "C:\\Users\\Public\\Documents\\ESTsoft\\CreatorTemp\\ipykernel_33588\\3917152087.py:88: MatplotlibDeprecationWarning: Support for passing numbers through unit converters is deprecated since 3.5 and support will be removed two minor releases later; use Axis.convert_units instead.\n",
      "  ax[1,1].scatter(np.where(sig)[0],np.tile(0.1,(sum(sig),1)),marker='*',color='black')\n",
      "C:\\Users\\Public\\Documents\\ESTsoft\\CreatorTemp\\ipykernel_33588\\3917152087.py:90: UserWarning: FixedFormatter should only be used together with FixedLocator\n",
      "  ax[1,1].set_xticklabels(x, rotation=45, ha='right');\n"
     ]
    },
    {
     "name": "stdout",
     "output_type": "stream",
     "text": [
      "0048-600-2-2-Crossmodal-POR-deep-(-7.56 mm)-TT24.3 ////// 41/878 completed  //////  0 min 0.80 sec\n"
     ]
    },
    {
     "name": "stderr",
     "output_type": "stream",
     "text": [
      "C:\\Users\\Public\\Documents\\ESTsoft\\CreatorTemp\\ipykernel_33588\\3917152087.py:80: UserWarning: FixedFormatter should only be used together with FixedLocator\n",
      "  ax[0,1].set_xticklabels(x, rotation=45, ha='right');\n",
      "C:\\Users\\Public\\Documents\\ESTsoft\\CreatorTemp\\ipykernel_33588\\3917152087.py:90: UserWarning: FixedFormatter should only be used together with FixedLocator\n",
      "  ax[1,1].set_xticklabels(x, rotation=45, ha='right');\n"
     ]
    },
    {
     "name": "stdout",
     "output_type": "stream",
     "text": [
      "0049-600-3-3-Crossmodal-PER-superficial-(-7.2 mm)-TT5.1 ////// 42/878 completed  //////  0 min 0.86 sec\n"
     ]
    },
    {
     "name": "stderr",
     "output_type": "stream",
     "text": [
      "C:\\Users\\Public\\Documents\\ESTsoft\\CreatorTemp\\ipykernel_33588\\3917152087.py:80: UserWarning: FixedFormatter should only be used together with FixedLocator\n",
      "  ax[0,1].set_xticklabels(x, rotation=45, ha='right');\n",
      "C:\\Users\\Public\\Documents\\ESTsoft\\CreatorTemp\\ipykernel_33588\\3917152087.py:88: MatplotlibDeprecationWarning: Support for passing numbers through unit converters is deprecated since 3.5 and support will be removed two minor releases later; use Axis.convert_units instead.\n",
      "  ax[1,1].scatter(np.where(sig)[0],np.tile(0.1,(sum(sig),1)),marker='*',color='black')\n",
      "C:\\Users\\Public\\Documents\\ESTsoft\\CreatorTemp\\ipykernel_33588\\3917152087.py:90: UserWarning: FixedFormatter should only be used together with FixedLocator\n",
      "  ax[1,1].set_xticklabels(x, rotation=45, ha='right');\n"
     ]
    },
    {
     "name": "stdout",
     "output_type": "stream",
     "text": [
      "0050-600-3-3-Crossmodal-PER-superficial-(-7.2 mm)-TT5.2 ////// 43/878 completed  //////  0 min 0.84 sec\n"
     ]
    },
    {
     "name": "stderr",
     "output_type": "stream",
     "text": [
      "C:\\Users\\Public\\Documents\\ESTsoft\\CreatorTemp\\ipykernel_33588\\3917152087.py:80: UserWarning: FixedFormatter should only be used together with FixedLocator\n",
      "  ax[0,1].set_xticklabels(x, rotation=45, ha='right');\n",
      "C:\\Users\\Public\\Documents\\ESTsoft\\CreatorTemp\\ipykernel_33588\\3917152087.py:88: MatplotlibDeprecationWarning: Support for passing numbers through unit converters is deprecated since 3.5 and support will be removed two minor releases later; use Axis.convert_units instead.\n",
      "  ax[1,1].scatter(np.where(sig)[0],np.tile(0.1,(sum(sig),1)),marker='*',color='black')\n",
      "C:\\Users\\Public\\Documents\\ESTsoft\\CreatorTemp\\ipykernel_33588\\3917152087.py:90: UserWarning: FixedFormatter should only be used together with FixedLocator\n",
      "  ax[1,1].set_xticklabels(x, rotation=45, ha='right');\n"
     ]
    },
    {
     "name": "stdout",
     "output_type": "stream",
     "text": [
      "0052-600-3-3-Crossmodal-PER-superficial-(-6.48 mm)-TT7.1 ////// 45/878 completed  //////  0 min 1.08 sec\n"
     ]
    },
    {
     "name": "stderr",
     "output_type": "stream",
     "text": [
      "C:\\Users\\Public\\Documents\\ESTsoft\\CreatorTemp\\ipykernel_33588\\3917152087.py:80: UserWarning: FixedFormatter should only be used together with FixedLocator\n",
      "  ax[0,1].set_xticklabels(x, rotation=45, ha='right');\n",
      "C:\\Users\\Public\\Documents\\ESTsoft\\CreatorTemp\\ipykernel_33588\\3917152087.py:90: UserWarning: FixedFormatter should only be used together with FixedLocator\n",
      "  ax[1,1].set_xticklabels(x, rotation=45, ha='right');\n"
     ]
    },
    {
     "name": "stdout",
     "output_type": "stream",
     "text": [
      "0053-600-3-3-Crossmodal-PER-superficial-(-6.48 mm)-TT7.2 ////// 46/878 completed  //////  0 min 1.00 sec\n"
     ]
    },
    {
     "name": "stderr",
     "output_type": "stream",
     "text": [
      "C:\\Users\\Public\\Documents\\ESTsoft\\CreatorTemp\\ipykernel_33588\\3917152087.py:80: UserWarning: FixedFormatter should only be used together with FixedLocator\n",
      "  ax[0,1].set_xticklabels(x, rotation=45, ha='right');\n",
      "C:\\Users\\Public\\Documents\\ESTsoft\\CreatorTemp\\ipykernel_33588\\3917152087.py:90: UserWarning: FixedFormatter should only be used together with FixedLocator\n",
      "  ax[1,1].set_xticklabels(x, rotation=45, ha='right');\n"
     ]
    },
    {
     "name": "stdout",
     "output_type": "stream",
     "text": [
      "0059-600-3-3-Crossmodal-POR-deep-(-7.56 mm)-TT24.1 ////// 50/878 completed  //////  0 min 0.77 sec\n"
     ]
    },
    {
     "name": "stderr",
     "output_type": "stream",
     "text": [
      "C:\\Users\\Public\\Documents\\ESTsoft\\CreatorTemp\\ipykernel_33588\\3917152087.py:80: UserWarning: FixedFormatter should only be used together with FixedLocator\n",
      "  ax[0,1].set_xticklabels(x, rotation=45, ha='right');\n",
      "C:\\Users\\Public\\Documents\\ESTsoft\\CreatorTemp\\ipykernel_33588\\3917152087.py:88: MatplotlibDeprecationWarning: Support for passing numbers through unit converters is deprecated since 3.5 and support will be removed two minor releases later; use Axis.convert_units instead.\n",
      "  ax[1,1].scatter(np.where(sig)[0],np.tile(0.1,(sum(sig),1)),marker='*',color='black')\n",
      "C:\\Users\\Public\\Documents\\ESTsoft\\CreatorTemp\\ipykernel_33588\\3917152087.py:90: UserWarning: FixedFormatter should only be used together with FixedLocator\n",
      "  ax[1,1].set_xticklabels(x, rotation=45, ha='right');\n"
     ]
    },
    {
     "name": "stdout",
     "output_type": "stream",
     "text": [
      "0062-600-4-4-Crossmodal-PER-superficial-(-7.2 mm)-TT5.2 ////// 53/878 completed  //////  0 min 1.24 sec\n"
     ]
    },
    {
     "name": "stderr",
     "output_type": "stream",
     "text": [
      "C:\\Users\\Public\\Documents\\ESTsoft\\CreatorTemp\\ipykernel_33588\\3917152087.py:80: UserWarning: FixedFormatter should only be used together with FixedLocator\n",
      "  ax[0,1].set_xticklabels(x, rotation=45, ha='right');\n",
      "C:\\Users\\Public\\Documents\\ESTsoft\\CreatorTemp\\ipykernel_33588\\3917152087.py:90: UserWarning: FixedFormatter should only be used together with FixedLocator\n",
      "  ax[1,1].set_xticklabels(x, rotation=45, ha='right');\n"
     ]
    },
    {
     "name": "stdout",
     "output_type": "stream",
     "text": [
      "0063-600-4-4-Crossmodal-PER-deep-(-6.96 mm)-TT6.1 ////// 54/878 completed  //////  0 min 0.92 sec\n"
     ]
    },
    {
     "name": "stderr",
     "output_type": "stream",
     "text": [
      "C:\\Users\\Public\\Documents\\ESTsoft\\CreatorTemp\\ipykernel_33588\\3917152087.py:80: UserWarning: FixedFormatter should only be used together with FixedLocator\n",
      "  ax[0,1].set_xticklabels(x, rotation=45, ha='right');\n",
      "C:\\Users\\Public\\Documents\\ESTsoft\\CreatorTemp\\ipykernel_33588\\3917152087.py:90: UserWarning: FixedFormatter should only be used together with FixedLocator\n",
      "  ax[1,1].set_xticklabels(x, rotation=45, ha='right');\n"
     ]
    },
    {
     "name": "stdout",
     "output_type": "stream",
     "text": [
      "0066-600-4-4-Crossmodal-PER-superficial-(-6.48 mm)-TT7.2 ////// 56/878 completed  //////  0 min 1.24 sec\n"
     ]
    },
    {
     "name": "stderr",
     "output_type": "stream",
     "text": [
      "C:\\Users\\Public\\Documents\\ESTsoft\\CreatorTemp\\ipykernel_33588\\3917152087.py:80: UserWarning: FixedFormatter should only be used together with FixedLocator\n",
      "  ax[0,1].set_xticklabels(x, rotation=45, ha='right');\n",
      "C:\\Users\\Public\\Documents\\ESTsoft\\CreatorTemp\\ipykernel_33588\\3917152087.py:88: MatplotlibDeprecationWarning: Support for passing numbers through unit converters is deprecated since 3.5 and support will be removed two minor releases later; use Axis.convert_units instead.\n",
      "  ax[1,1].scatter(np.where(sig)[0],np.tile(0.1,(sum(sig),1)),marker='*',color='black')\n",
      "C:\\Users\\Public\\Documents\\ESTsoft\\CreatorTemp\\ipykernel_33588\\3917152087.py:90: UserWarning: FixedFormatter should only be used together with FixedLocator\n",
      "  ax[1,1].set_xticklabels(x, rotation=45, ha='right');\n"
     ]
    },
    {
     "name": "stdout",
     "output_type": "stream",
     "text": [
      "0070-600-4-4-Crossmodal-PER-deep-(-6.24 mm)-TT10.1 ////// 60/878 completed  //////  0 min 1.19 sec\n"
     ]
    },
    {
     "name": "stderr",
     "output_type": "stream",
     "text": [
      "C:\\Users\\Public\\Documents\\ESTsoft\\CreatorTemp\\ipykernel_33588\\3917152087.py:80: UserWarning: FixedFormatter should only be used together with FixedLocator\n",
      "  ax[0,1].set_xticklabels(x, rotation=45, ha='right');\n",
      "C:\\Users\\Public\\Documents\\ESTsoft\\CreatorTemp\\ipykernel_33588\\3917152087.py:88: MatplotlibDeprecationWarning: Support for passing numbers through unit converters is deprecated since 3.5 and support will be removed two minor releases later; use Axis.convert_units instead.\n",
      "  ax[1,1].scatter(np.where(sig)[0],np.tile(0.1,(sum(sig),1)),marker='*',color='black')\n",
      "C:\\Users\\Public\\Documents\\ESTsoft\\CreatorTemp\\ipykernel_33588\\3917152087.py:90: UserWarning: FixedFormatter should only be used together with FixedLocator\n",
      "  ax[1,1].set_xticklabels(x, rotation=45, ha='right');\n"
     ]
    },
    {
     "name": "stdout",
     "output_type": "stream",
     "text": [
      "0072-600-4-4-Crossmodal-PER-superficial-(-9.24 mm)-TT13.1 ////// 62/878 completed  //////  0 min 1.20 sec\n"
     ]
    },
    {
     "name": "stderr",
     "output_type": "stream",
     "text": [
      "C:\\Users\\Public\\Documents\\ESTsoft\\CreatorTemp\\ipykernel_33588\\3917152087.py:80: UserWarning: FixedFormatter should only be used together with FixedLocator\n",
      "  ax[0,1].set_xticklabels(x, rotation=45, ha='right');\n",
      "C:\\Users\\Public\\Documents\\ESTsoft\\CreatorTemp\\ipykernel_33588\\3917152087.py:90: UserWarning: FixedFormatter should only be used together with FixedLocator\n",
      "  ax[1,1].set_xticklabels(x, rotation=45, ha='right');\n"
     ]
    },
    {
     "name": "stdout",
     "output_type": "stream",
     "text": [
      "0073-600-4-4-Crossmodal-TeV-superficial-(-6.96 mm)-TT17.1 ////// 63/878 completed  //////  0 min 1.27 sec\n"
     ]
    },
    {
     "name": "stderr",
     "output_type": "stream",
     "text": [
      "C:\\Users\\Public\\Documents\\ESTsoft\\CreatorTemp\\ipykernel_33588\\3917152087.py:80: UserWarning: FixedFormatter should only be used together with FixedLocator\n",
      "  ax[0,1].set_xticklabels(x, rotation=45, ha='right');\n",
      "C:\\Users\\Public\\Documents\\ESTsoft\\CreatorTemp\\ipykernel_33588\\3917152087.py:88: MatplotlibDeprecationWarning: Support for passing numbers through unit converters is deprecated since 3.5 and support will be removed two minor releases later; use Axis.convert_units instead.\n",
      "  ax[1,1].scatter(np.where(sig)[0],np.tile(0.1,(sum(sig),1)),marker='*',color='black')\n",
      "C:\\Users\\Public\\Documents\\ESTsoft\\CreatorTemp\\ipykernel_33588\\3917152087.py:90: UserWarning: FixedFormatter should only be used together with FixedLocator\n",
      "  ax[1,1].set_xticklabels(x, rotation=45, ha='right');\n"
     ]
    },
    {
     "name": "stdout",
     "output_type": "stream",
     "text": [
      "0076-600-4-4-Crossmodal-POR-deep-(-7.56 mm)-TT24.2 ////// 66/878 completed  //////  0 min 1.14 sec\n"
     ]
    },
    {
     "name": "stderr",
     "output_type": "stream",
     "text": [
      "C:\\Users\\Public\\Documents\\ESTsoft\\CreatorTemp\\ipykernel_33588\\3917152087.py:80: UserWarning: FixedFormatter should only be used together with FixedLocator\n",
      "  ax[0,1].set_xticklabels(x, rotation=45, ha='right');\n",
      "C:\\Users\\Public\\Documents\\ESTsoft\\CreatorTemp\\ipykernel_33588\\3917152087.py:88: MatplotlibDeprecationWarning: Support for passing numbers through unit converters is deprecated since 3.5 and support will be removed two minor releases later; use Axis.convert_units instead.\n",
      "  ax[1,1].scatter(np.where(sig)[0],np.tile(0.1,(sum(sig),1)),marker='*',color='black')\n",
      "C:\\Users\\Public\\Documents\\ESTsoft\\CreatorTemp\\ipykernel_33588\\3917152087.py:90: UserWarning: FixedFormatter should only be used together with FixedLocator\n",
      "  ax[1,1].set_xticklabels(x, rotation=45, ha='right');\n"
     ]
    },
    {
     "name": "stdout",
     "output_type": "stream",
     "text": [
      "0077-600-4-4-Crossmodal-POR-deep-(-7.56 mm)-TT24.3 ////// 67/878 completed  //////  0 min 1.03 sec\n"
     ]
    },
    {
     "name": "stderr",
     "output_type": "stream",
     "text": [
      "C:\\Users\\Public\\Documents\\ESTsoft\\CreatorTemp\\ipykernel_33588\\3917152087.py:80: UserWarning: FixedFormatter should only be used together with FixedLocator\n",
      "  ax[0,1].set_xticklabels(x, rotation=45, ha='right');\n",
      "C:\\Users\\Public\\Documents\\ESTsoft\\CreatorTemp\\ipykernel_33588\\3917152087.py:88: MatplotlibDeprecationWarning: Support for passing numbers through unit converters is deprecated since 3.5 and support will be removed two minor releases later; use Axis.convert_units instead.\n",
      "  ax[1,1].scatter(np.where(sig)[0],np.tile(0.1,(sum(sig),1)),marker='*',color='black')\n",
      "C:\\Users\\Public\\Documents\\ESTsoft\\CreatorTemp\\ipykernel_33588\\3917152087.py:90: UserWarning: FixedFormatter should only be used together with FixedLocator\n",
      "  ax[1,1].set_xticklabels(x, rotation=45, ha='right');\n"
     ]
    },
    {
     "name": "stdout",
     "output_type": "stream",
     "text": [
      "0079-600-4-4-Crossmodal-POR-deep-(-7.56 mm)-TT24.5 ////// 69/878 completed  //////  0 min 0.94 sec\n"
     ]
    },
    {
     "name": "stderr",
     "output_type": "stream",
     "text": [
      "C:\\Users\\Public\\Documents\\ESTsoft\\CreatorTemp\\ipykernel_33588\\3917152087.py:80: UserWarning: FixedFormatter should only be used together with FixedLocator\n",
      "  ax[0,1].set_xticklabels(x, rotation=45, ha='right');\n",
      "C:\\Users\\Public\\Documents\\ESTsoft\\CreatorTemp\\ipykernel_33588\\3917152087.py:88: MatplotlibDeprecationWarning: Support for passing numbers through unit converters is deprecated since 3.5 and support will be removed two minor releases later; use Axis.convert_units instead.\n",
      "  ax[1,1].scatter(np.where(sig)[0],np.tile(0.1,(sum(sig),1)),marker='*',color='black')\n",
      "C:\\Users\\Public\\Documents\\ESTsoft\\CreatorTemp\\ipykernel_33588\\3917152087.py:90: UserWarning: FixedFormatter should only be used together with FixedLocator\n",
      "  ax[1,1].set_xticklabels(x, rotation=45, ha='right');\n"
     ]
    },
    {
     "name": "stdout",
     "output_type": "stream",
     "text": [
      "0082-600-5-5-Crossmodal-PER-superficial-(-7.2 mm)-TT5.3 ////// 71/878 completed  //////  0 min 0.89 sec\n"
     ]
    },
    {
     "name": "stderr",
     "output_type": "stream",
     "text": [
      "C:\\Users\\Public\\Documents\\ESTsoft\\CreatorTemp\\ipykernel_33588\\3917152087.py:80: UserWarning: FixedFormatter should only be used together with FixedLocator\n",
      "  ax[0,1].set_xticklabels(x, rotation=45, ha='right');\n",
      "C:\\Users\\Public\\Documents\\ESTsoft\\CreatorTemp\\ipykernel_33588\\3917152087.py:88: MatplotlibDeprecationWarning: Support for passing numbers through unit converters is deprecated since 3.5 and support will be removed two minor releases later; use Axis.convert_units instead.\n",
      "  ax[1,1].scatter(np.where(sig)[0],np.tile(0.1,(sum(sig),1)),marker='*',color='black')\n",
      "C:\\Users\\Public\\Documents\\ESTsoft\\CreatorTemp\\ipykernel_33588\\3917152087.py:90: UserWarning: FixedFormatter should only be used together with FixedLocator\n",
      "  ax[1,1].set_xticklabels(x, rotation=45, ha='right');\n"
     ]
    },
    {
     "name": "stdout",
     "output_type": "stream",
     "text": [
      "0084-600-5-5-Crossmodal-PER-superficial-(-6.48 mm)-TT7.1 ////// 73/878 completed  //////  0 min 0.77 sec\n"
     ]
    },
    {
     "name": "stderr",
     "output_type": "stream",
     "text": [
      "C:\\Users\\Public\\Documents\\ESTsoft\\CreatorTemp\\ipykernel_33588\\3917152087.py:80: UserWarning: FixedFormatter should only be used together with FixedLocator\n",
      "  ax[0,1].set_xticklabels(x, rotation=45, ha='right');\n",
      "C:\\Users\\Public\\Documents\\ESTsoft\\CreatorTemp\\ipykernel_33588\\3917152087.py:88: MatplotlibDeprecationWarning: Support for passing numbers through unit converters is deprecated since 3.5 and support will be removed two minor releases later; use Axis.convert_units instead.\n",
      "  ax[1,1].scatter(np.where(sig)[0],np.tile(0.1,(sum(sig),1)),marker='*',color='black')\n",
      "C:\\Users\\Public\\Documents\\ESTsoft\\CreatorTemp\\ipykernel_33588\\3917152087.py:90: UserWarning: FixedFormatter should only be used together with FixedLocator\n",
      "  ax[1,1].set_xticklabels(x, rotation=45, ha='right');\n"
     ]
    },
    {
     "name": "stdout",
     "output_type": "stream",
     "text": [
      "0085-600-5-5-Crossmodal-PER-deep-(-6.36 mm)-TT9.1 ////// 74/878 completed  //////  0 min 1.40 sec\n"
     ]
    },
    {
     "name": "stderr",
     "output_type": "stream",
     "text": [
      "C:\\Users\\Public\\Documents\\ESTsoft\\CreatorTemp\\ipykernel_33588\\3917152087.py:80: UserWarning: FixedFormatter should only be used together with FixedLocator\n",
      "  ax[0,1].set_xticklabels(x, rotation=45, ha='right');\n",
      "C:\\Users\\Public\\Documents\\ESTsoft\\CreatorTemp\\ipykernel_33588\\3917152087.py:90: UserWarning: FixedFormatter should only be used together with FixedLocator\n",
      "  ax[1,1].set_xticklabels(x, rotation=45, ha='right');\n"
     ]
    },
    {
     "name": "stdout",
     "output_type": "stream",
     "text": [
      "0086-600-5-5-Crossmodal-PER-deep-(-6.24 mm)-TT10.1 ////// 75/878 completed  //////  0 min 1.05 sec\n"
     ]
    },
    {
     "name": "stderr",
     "output_type": "stream",
     "text": [
      "C:\\Users\\Public\\Documents\\ESTsoft\\CreatorTemp\\ipykernel_33588\\3917152087.py:80: UserWarning: FixedFormatter should only be used together with FixedLocator\n",
      "  ax[0,1].set_xticklabels(x, rotation=45, ha='right');\n",
      "C:\\Users\\Public\\Documents\\ESTsoft\\CreatorTemp\\ipykernel_33588\\3917152087.py:88: MatplotlibDeprecationWarning: Support for passing numbers through unit converters is deprecated since 3.5 and support will be removed two minor releases later; use Axis.convert_units instead.\n",
      "  ax[1,1].scatter(np.where(sig)[0],np.tile(0.1,(sum(sig),1)),marker='*',color='black')\n",
      "C:\\Users\\Public\\Documents\\ESTsoft\\CreatorTemp\\ipykernel_33588\\3917152087.py:90: UserWarning: FixedFormatter should only be used together with FixedLocator\n",
      "  ax[1,1].set_xticklabels(x, rotation=45, ha='right');\n"
     ]
    },
    {
     "name": "stdout",
     "output_type": "stream",
     "text": [
      "0087-600-5-5-Crossmodal-PER-deep-(-6.24 mm)-TT10.2 ////// 76/878 completed  //////  0 min 1.24 sec\n"
     ]
    },
    {
     "name": "stderr",
     "output_type": "stream",
     "text": [
      "C:\\Users\\Public\\Documents\\ESTsoft\\CreatorTemp\\ipykernel_33588\\3917152087.py:80: UserWarning: FixedFormatter should only be used together with FixedLocator\n",
      "  ax[0,1].set_xticklabels(x, rotation=45, ha='right');\n",
      "C:\\Users\\Public\\Documents\\ESTsoft\\CreatorTemp\\ipykernel_33588\\3917152087.py:90: UserWarning: FixedFormatter should only be used together with FixedLocator\n",
      "  ax[1,1].set_xticklabels(x, rotation=45, ha='right');\n"
     ]
    },
    {
     "name": "stdout",
     "output_type": "stream",
     "text": [
      "0088-600-5-5-Crossmodal-TeV-superficial-(-6.96 mm)-TT17.1 ////// 77/878 completed  //////  0 min 1.13 sec\n"
     ]
    },
    {
     "name": "stderr",
     "output_type": "stream",
     "text": [
      "C:\\Users\\Public\\Documents\\ESTsoft\\CreatorTemp\\ipykernel_33588\\3917152087.py:80: UserWarning: FixedFormatter should only be used together with FixedLocator\n",
      "  ax[0,1].set_xticklabels(x, rotation=45, ha='right');\n",
      "C:\\Users\\Public\\Documents\\ESTsoft\\CreatorTemp\\ipykernel_33588\\3917152087.py:90: UserWarning: FixedFormatter should only be used together with FixedLocator\n",
      "  ax[1,1].set_xticklabels(x, rotation=45, ha='right');\n"
     ]
    },
    {
     "name": "stdout",
     "output_type": "stream",
     "text": [
      "0089-600-5-5-Crossmodal-TeV-superficial-(-6.96 mm)-TT17.2 ////// 78/878 completed  //////  0 min 1.02 sec\n"
     ]
    },
    {
     "name": "stderr",
     "output_type": "stream",
     "text": [
      "C:\\Users\\Public\\Documents\\ESTsoft\\CreatorTemp\\ipykernel_33588\\3917152087.py:80: UserWarning: FixedFormatter should only be used together with FixedLocator\n",
      "  ax[0,1].set_xticklabels(x, rotation=45, ha='right');\n",
      "C:\\Users\\Public\\Documents\\ESTsoft\\CreatorTemp\\ipykernel_33588\\3917152087.py:88: MatplotlibDeprecationWarning: Support for passing numbers through unit converters is deprecated since 3.5 and support will be removed two minor releases later; use Axis.convert_units instead.\n",
      "  ax[1,1].scatter(np.where(sig)[0],np.tile(0.1,(sum(sig),1)),marker='*',color='black')\n",
      "C:\\Users\\Public\\Documents\\ESTsoft\\CreatorTemp\\ipykernel_33588\\3917152087.py:90: UserWarning: FixedFormatter should only be used together with FixedLocator\n",
      "  ax[1,1].set_xticklabels(x, rotation=45, ha='right');\n"
     ]
    },
    {
     "name": "stdout",
     "output_type": "stream",
     "text": [
      "0090-600-5-5-Crossmodal-TeV-deep-(-6.96 mm)-TT19.1 ////// 79/878 completed  //////  0 min 1.01 sec\n"
     ]
    },
    {
     "name": "stderr",
     "output_type": "stream",
     "text": [
      "C:\\Users\\Public\\Documents\\ESTsoft\\CreatorTemp\\ipykernel_33588\\3917152087.py:80: UserWarning: FixedFormatter should only be used together with FixedLocator\n",
      "  ax[0,1].set_xticklabels(x, rotation=45, ha='right');\n",
      "C:\\Users\\Public\\Documents\\ESTsoft\\CreatorTemp\\ipykernel_33588\\3917152087.py:88: MatplotlibDeprecationWarning: Support for passing numbers through unit converters is deprecated since 3.5 and support will be removed two minor releases later; use Axis.convert_units instead.\n",
      "  ax[1,1].scatter(np.where(sig)[0],np.tile(0.1,(sum(sig),1)),marker='*',color='black')\n",
      "C:\\Users\\Public\\Documents\\ESTsoft\\CreatorTemp\\ipykernel_33588\\3917152087.py:90: UserWarning: FixedFormatter should only be used together with FixedLocator\n",
      "  ax[1,1].set_xticklabels(x, rotation=45, ha='right');\n"
     ]
    },
    {
     "name": "stdout",
     "output_type": "stream",
     "text": [
      "0091-600-5-5-Crossmodal-TeV-deep-(-7.44 mm)-TT21.1 ////// 80/878 completed  //////  0 min 0.96 sec\n"
     ]
    },
    {
     "name": "stderr",
     "output_type": "stream",
     "text": [
      "C:\\Users\\Public\\Documents\\ESTsoft\\CreatorTemp\\ipykernel_33588\\3917152087.py:80: UserWarning: FixedFormatter should only be used together with FixedLocator\n",
      "  ax[0,1].set_xticklabels(x, rotation=45, ha='right');\n",
      "C:\\Users\\Public\\Documents\\ESTsoft\\CreatorTemp\\ipykernel_33588\\3917152087.py:88: MatplotlibDeprecationWarning: Support for passing numbers through unit converters is deprecated since 3.5 and support will be removed two minor releases later; use Axis.convert_units instead.\n",
      "  ax[1,1].scatter(np.where(sig)[0],np.tile(0.1,(sum(sig),1)),marker='*',color='black')\n",
      "C:\\Users\\Public\\Documents\\ESTsoft\\CreatorTemp\\ipykernel_33588\\3917152087.py:90: UserWarning: FixedFormatter should only be used together with FixedLocator\n",
      "  ax[1,1].set_xticklabels(x, rotation=45, ha='right');\n"
     ]
    },
    {
     "name": "stdout",
     "output_type": "stream",
     "text": [
      "0096-600-5-5-Crossmodal-POR-deep-(-7.56 mm)-TT24.5 ////// 85/878 completed  //////  0 min 0.91 sec\n"
     ]
    },
    {
     "name": "stderr",
     "output_type": "stream",
     "text": [
      "C:\\Users\\Public\\Documents\\ESTsoft\\CreatorTemp\\ipykernel_33588\\3917152087.py:80: UserWarning: FixedFormatter should only be used together with FixedLocator\n",
      "  ax[0,1].set_xticklabels(x, rotation=45, ha='right');\n",
      "C:\\Users\\Public\\Documents\\ESTsoft\\CreatorTemp\\ipykernel_33588\\3917152087.py:88: MatplotlibDeprecationWarning: Support for passing numbers through unit converters is deprecated since 3.5 and support will be removed two minor releases later; use Axis.convert_units instead.\n",
      "  ax[1,1].scatter(np.where(sig)[0],np.tile(0.1,(sum(sig),1)),marker='*',color='black')\n",
      "C:\\Users\\Public\\Documents\\ESTsoft\\CreatorTemp\\ipykernel_33588\\3917152087.py:90: UserWarning: FixedFormatter should only be used together with FixedLocator\n",
      "  ax[1,1].set_xticklabels(x, rotation=45, ha='right');\n"
     ]
    },
    {
     "name": "stdout",
     "output_type": "stream",
     "text": [
      "0175-602-1-1-Crossmodal-PER-deep-(-5.28 mm)-TT6.10 ////// 87/878 completed  //////  0 min 1.09 sec\n"
     ]
    },
    {
     "name": "stderr",
     "output_type": "stream",
     "text": [
      "C:\\Users\\Public\\Documents\\ESTsoft\\CreatorTemp\\ipykernel_33588\\3917152087.py:80: UserWarning: FixedFormatter should only be used together with FixedLocator\n",
      "  ax[0,1].set_xticklabels(x, rotation=45, ha='right');\n",
      "C:\\Users\\Public\\Documents\\ESTsoft\\CreatorTemp\\ipykernel_33588\\3917152087.py:88: MatplotlibDeprecationWarning: Support for passing numbers through unit converters is deprecated since 3.5 and support will be removed two minor releases later; use Axis.convert_units instead.\n",
      "  ax[1,1].scatter(np.where(sig)[0],np.tile(0.1,(sum(sig),1)),marker='*',color='black')\n",
      "C:\\Users\\Public\\Documents\\ESTsoft\\CreatorTemp\\ipykernel_33588\\3917152087.py:90: UserWarning: FixedFormatter should only be used together with FixedLocator\n",
      "  ax[1,1].set_xticklabels(x, rotation=45, ha='right');\n"
     ]
    },
    {
     "name": "stdout",
     "output_type": "stream",
     "text": [
      "0177-602-1-1-Crossmodal-PER-deep-(-5.28 mm)-TT6.2 ////// 89/878 completed  //////  0 min 1.27 sec\n"
     ]
    },
    {
     "name": "stderr",
     "output_type": "stream",
     "text": [
      "C:\\Users\\Public\\Documents\\ESTsoft\\CreatorTemp\\ipykernel_33588\\3917152087.py:80: UserWarning: FixedFormatter should only be used together with FixedLocator\n",
      "  ax[0,1].set_xticklabels(x, rotation=45, ha='right');\n",
      "C:\\Users\\Public\\Documents\\ESTsoft\\CreatorTemp\\ipykernel_33588\\3917152087.py:90: UserWarning: FixedFormatter should only be used together with FixedLocator\n",
      "  ax[1,1].set_xticklabels(x, rotation=45, ha='right');\n"
     ]
    },
    {
     "name": "stdout",
     "output_type": "stream",
     "text": [
      "0183-602-1-1-Crossmodal-PER-deep-(-5.28 mm)-TT6.8 ////// 94/878 completed  //////  0 min 1.20 sec\n"
     ]
    },
    {
     "name": "stderr",
     "output_type": "stream",
     "text": [
      "C:\\Users\\Public\\Documents\\ESTsoft\\CreatorTemp\\ipykernel_33588\\3917152087.py:80: UserWarning: FixedFormatter should only be used together with FixedLocator\n",
      "  ax[0,1].set_xticklabels(x, rotation=45, ha='right');\n",
      "C:\\Users\\Public\\Documents\\ESTsoft\\CreatorTemp\\ipykernel_33588\\3917152087.py:88: MatplotlibDeprecationWarning: Support for passing numbers through unit converters is deprecated since 3.5 and support will be removed two minor releases later; use Axis.convert_units instead.\n",
      "  ax[1,1].scatter(np.where(sig)[0],np.tile(0.1,(sum(sig),1)),marker='*',color='black')\n",
      "C:\\Users\\Public\\Documents\\ESTsoft\\CreatorTemp\\ipykernel_33588\\3917152087.py:90: UserWarning: FixedFormatter should only be used together with FixedLocator\n",
      "  ax[1,1].set_xticklabels(x, rotation=45, ha='right');\n"
     ]
    },
    {
     "name": "stdout",
     "output_type": "stream",
     "text": [
      "0185-602-1-1-Crossmodal-PER-deep-(-4.8 mm)-TT7.1 ////// 96/878 completed  //////  0 min 0.93 sec\n"
     ]
    },
    {
     "name": "stderr",
     "output_type": "stream",
     "text": [
      "C:\\Users\\Public\\Documents\\ESTsoft\\CreatorTemp\\ipykernel_33588\\3917152087.py:80: UserWarning: FixedFormatter should only be used together with FixedLocator\n",
      "  ax[0,1].set_xticklabels(x, rotation=45, ha='right');\n",
      "C:\\Users\\Public\\Documents\\ESTsoft\\CreatorTemp\\ipykernel_33588\\3917152087.py:90: UserWarning: FixedFormatter should only be used together with FixedLocator\n",
      "  ax[1,1].set_xticklabels(x, rotation=45, ha='right');\n"
     ]
    },
    {
     "name": "stdout",
     "output_type": "stream",
     "text": [
      "0190-602-1-1-Crossmodal-TeV-deep-(-4.44 mm)-TT9.4 ////// 98/878 completed  //////  0 min 1.23 sec\n"
     ]
    },
    {
     "name": "stderr",
     "output_type": "stream",
     "text": [
      "C:\\Users\\Public\\Documents\\ESTsoft\\CreatorTemp\\ipykernel_33588\\3917152087.py:80: UserWarning: FixedFormatter should only be used together with FixedLocator\n",
      "  ax[0,1].set_xticklabels(x, rotation=45, ha='right');\n",
      "C:\\Users\\Public\\Documents\\ESTsoft\\CreatorTemp\\ipykernel_33588\\3917152087.py:90: UserWarning: FixedFormatter should only be used together with FixedLocator\n",
      "  ax[1,1].set_xticklabels(x, rotation=45, ha='right');\n"
     ]
    },
    {
     "name": "stdout",
     "output_type": "stream",
     "text": [
      "0193-602-1-1-Crossmodal-PER-deep-(-4.68 mm)-TT10.1 ////// 101/878 completed  //////  0 min 1.34 sec\n"
     ]
    },
    {
     "name": "stderr",
     "output_type": "stream",
     "text": [
      "C:\\Users\\Public\\Documents\\ESTsoft\\CreatorTemp\\ipykernel_33588\\3917152087.py:80: UserWarning: FixedFormatter should only be used together with FixedLocator\n",
      "  ax[0,1].set_xticklabels(x, rotation=45, ha='right');\n",
      "C:\\Users\\Public\\Documents\\ESTsoft\\CreatorTemp\\ipykernel_33588\\3917152087.py:90: UserWarning: FixedFormatter should only be used together with FixedLocator\n",
      "  ax[1,1].set_xticklabels(x, rotation=45, ha='right');\n"
     ]
    },
    {
     "name": "stdout",
     "output_type": "stream",
     "text": [
      "0194-602-1-1-Crossmodal-PER-deep-(-4.68 mm)-TT10.2 ////// 102/878 completed  //////  0 min 1.69 sec\n"
     ]
    },
    {
     "name": "stderr",
     "output_type": "stream",
     "text": [
      "C:\\Users\\Public\\Documents\\ESTsoft\\CreatorTemp\\ipykernel_33588\\3917152087.py:80: UserWarning: FixedFormatter should only be used together with FixedLocator\n",
      "  ax[0,1].set_xticklabels(x, rotation=45, ha='right');\n",
      "C:\\Users\\Public\\Documents\\ESTsoft\\CreatorTemp\\ipykernel_33588\\3917152087.py:90: UserWarning: FixedFormatter should only be used together with FixedLocator\n",
      "  ax[1,1].set_xticklabels(x, rotation=45, ha='right');\n"
     ]
    },
    {
     "name": "stdout",
     "output_type": "stream",
     "text": [
      "0195-602-1-1-Crossmodal-PER-deep-(-4.68 mm)-TT10.3 ////// 103/878 completed  //////  0 min 0.95 sec\n"
     ]
    },
    {
     "name": "stderr",
     "output_type": "stream",
     "text": [
      "C:\\Users\\Public\\Documents\\ESTsoft\\CreatorTemp\\ipykernel_33588\\3917152087.py:80: UserWarning: FixedFormatter should only be used together with FixedLocator\n",
      "  ax[0,1].set_xticklabels(x, rotation=45, ha='right');\n",
      "C:\\Users\\Public\\Documents\\ESTsoft\\CreatorTemp\\ipykernel_33588\\3917152087.py:88: MatplotlibDeprecationWarning: Support for passing numbers through unit converters is deprecated since 3.5 and support will be removed two minor releases later; use Axis.convert_units instead.\n",
      "  ax[1,1].scatter(np.where(sig)[0],np.tile(0.1,(sum(sig),1)),marker='*',color='black')\n",
      "C:\\Users\\Public\\Documents\\ESTsoft\\CreatorTemp\\ipykernel_33588\\3917152087.py:90: UserWarning: FixedFormatter should only be used together with FixedLocator\n",
      "  ax[1,1].set_xticklabels(x, rotation=45, ha='right');\n"
     ]
    },
    {
     "name": "stdout",
     "output_type": "stream",
     "text": [
      "0197-602-1-1-Crossmodal-PER-deep-(-4.68 mm)-TT10.5 ////// 105/878 completed  //////  0 min 1.16 sec\n"
     ]
    },
    {
     "name": "stderr",
     "output_type": "stream",
     "text": [
      "C:\\Users\\Public\\Documents\\ESTsoft\\CreatorTemp\\ipykernel_33588\\3917152087.py:80: UserWarning: FixedFormatter should only be used together with FixedLocator\n",
      "  ax[0,1].set_xticklabels(x, rotation=45, ha='right');\n",
      "C:\\Users\\Public\\Documents\\ESTsoft\\CreatorTemp\\ipykernel_33588\\3917152087.py:88: MatplotlibDeprecationWarning: Support for passing numbers through unit converters is deprecated since 3.5 and support will be removed two minor releases later; use Axis.convert_units instead.\n",
      "  ax[1,1].scatter(np.where(sig)[0],np.tile(0.1,(sum(sig),1)),marker='*',color='black')\n",
      "C:\\Users\\Public\\Documents\\ESTsoft\\CreatorTemp\\ipykernel_33588\\3917152087.py:90: UserWarning: FixedFormatter should only be used together with FixedLocator\n",
      "  ax[1,1].set_xticklabels(x, rotation=45, ha='right');\n"
     ]
    },
    {
     "name": "stdout",
     "output_type": "stream",
     "text": [
      "0198-602-1-1-Crossmodal-PER-deep-(-4.68 mm)-TT10.6 ////// 106/878 completed  //////  0 min 1.17 sec\n"
     ]
    },
    {
     "name": "stderr",
     "output_type": "stream",
     "text": [
      "C:\\Users\\Public\\Documents\\ESTsoft\\CreatorTemp\\ipykernel_33588\\3917152087.py:80: UserWarning: FixedFormatter should only be used together with FixedLocator\n",
      "  ax[0,1].set_xticklabels(x, rotation=45, ha='right');\n",
      "C:\\Users\\Public\\Documents\\ESTsoft\\CreatorTemp\\ipykernel_33588\\3917152087.py:88: MatplotlibDeprecationWarning: Support for passing numbers through unit converters is deprecated since 3.5 and support will be removed two minor releases later; use Axis.convert_units instead.\n",
      "  ax[1,1].scatter(np.where(sig)[0],np.tile(0.1,(sum(sig),1)),marker='*',color='black')\n",
      "C:\\Users\\Public\\Documents\\ESTsoft\\CreatorTemp\\ipykernel_33588\\3917152087.py:90: UserWarning: FixedFormatter should only be used together with FixedLocator\n",
      "  ax[1,1].set_xticklabels(x, rotation=45, ha='right');\n"
     ]
    },
    {
     "name": "stdout",
     "output_type": "stream",
     "text": [
      "0200-602-1-1-Crossmodal-PER-deep-(-4.56 mm)-TT11.2 ////// 107/878 completed  //////  0 min 1.28 sec\n"
     ]
    },
    {
     "name": "stderr",
     "output_type": "stream",
     "text": [
      "C:\\Users\\Public\\Documents\\ESTsoft\\CreatorTemp\\ipykernel_33588\\3917152087.py:80: UserWarning: FixedFormatter should only be used together with FixedLocator\n",
      "  ax[0,1].set_xticklabels(x, rotation=45, ha='right');\n",
      "C:\\Users\\Public\\Documents\\ESTsoft\\CreatorTemp\\ipykernel_33588\\3917152087.py:88: MatplotlibDeprecationWarning: Support for passing numbers through unit converters is deprecated since 3.5 and support will be removed two minor releases later; use Axis.convert_units instead.\n",
      "  ax[1,1].scatter(np.where(sig)[0],np.tile(0.1,(sum(sig),1)),marker='*',color='black')\n",
      "C:\\Users\\Public\\Documents\\ESTsoft\\CreatorTemp\\ipykernel_33588\\3917152087.py:90: UserWarning: FixedFormatter should only be used together with FixedLocator\n",
      "  ax[1,1].set_xticklabels(x, rotation=45, ha='right');\n"
     ]
    },
    {
     "name": "stdout",
     "output_type": "stream",
     "text": [
      "0201-602-1-1-Crossmodal-PER-deep-(-4.56 mm)-TT11.3 ////// 108/878 completed  //////  0 min 1.39 sec\n"
     ]
    },
    {
     "name": "stderr",
     "output_type": "stream",
     "text": [
      "C:\\Users\\Public\\Documents\\ESTsoft\\CreatorTemp\\ipykernel_33588\\3917152087.py:80: UserWarning: FixedFormatter should only be used together with FixedLocator\n",
      "  ax[0,1].set_xticklabels(x, rotation=45, ha='right');\n",
      "C:\\Users\\Public\\Documents\\ESTsoft\\CreatorTemp\\ipykernel_33588\\3917152087.py:90: UserWarning: FixedFormatter should only be used together with FixedLocator\n",
      "  ax[1,1].set_xticklabels(x, rotation=45, ha='right');\n"
     ]
    },
    {
     "name": "stdout",
     "output_type": "stream",
     "text": [
      "0202-602-1-1-Crossmodal-PER-deep-(-4.56 mm)-TT11.4 ////// 109/878 completed  //////  0 min 1.08 sec\n"
     ]
    },
    {
     "name": "stderr",
     "output_type": "stream",
     "text": [
      "C:\\Users\\Public\\Documents\\ESTsoft\\CreatorTemp\\ipykernel_33588\\3917152087.py:80: UserWarning: FixedFormatter should only be used together with FixedLocator\n",
      "  ax[0,1].set_xticklabels(x, rotation=45, ha='right');\n",
      "C:\\Users\\Public\\Documents\\ESTsoft\\CreatorTemp\\ipykernel_33588\\3917152087.py:88: MatplotlibDeprecationWarning: Support for passing numbers through unit converters is deprecated since 3.5 and support will be removed two minor releases later; use Axis.convert_units instead.\n",
      "  ax[1,1].scatter(np.where(sig)[0],np.tile(0.1,(sum(sig),1)),marker='*',color='black')\n",
      "C:\\Users\\Public\\Documents\\ESTsoft\\CreatorTemp\\ipykernel_33588\\3917152087.py:90: UserWarning: FixedFormatter should only be used together with FixedLocator\n",
      "  ax[1,1].set_xticklabels(x, rotation=45, ha='right');\n"
     ]
    },
    {
     "name": "stdout",
     "output_type": "stream",
     "text": [
      "0203-602-1-1-Crossmodal-PER-deep-(-4.56 mm)-TT11.5 ////// 110/878 completed  //////  0 min 1.08 sec\n"
     ]
    },
    {
     "name": "stderr",
     "output_type": "stream",
     "text": [
      "C:\\Users\\Public\\Documents\\ESTsoft\\CreatorTemp\\ipykernel_33588\\3917152087.py:80: UserWarning: FixedFormatter should only be used together with FixedLocator\n",
      "  ax[0,1].set_xticklabels(x, rotation=45, ha='right');\n",
      "C:\\Users\\Public\\Documents\\ESTsoft\\CreatorTemp\\ipykernel_33588\\3917152087.py:90: UserWarning: FixedFormatter should only be used together with FixedLocator\n",
      "  ax[1,1].set_xticklabels(x, rotation=45, ha='right');\n"
     ]
    },
    {
     "name": "stdout",
     "output_type": "stream",
     "text": [
      "0204-602-1-1-Crossmodal-PER-superficial-(-4.2 mm)-TT12.1 ////// 111/878 completed  //////  0 min 1.78 sec\n"
     ]
    },
    {
     "name": "stderr",
     "output_type": "stream",
     "text": [
      "C:\\Users\\Public\\Documents\\ESTsoft\\CreatorTemp\\ipykernel_33588\\3917152087.py:80: UserWarning: FixedFormatter should only be used together with FixedLocator\n",
      "  ax[0,1].set_xticklabels(x, rotation=45, ha='right');\n",
      "C:\\Users\\Public\\Documents\\ESTsoft\\CreatorTemp\\ipykernel_33588\\3917152087.py:90: UserWarning: FixedFormatter should only be used together with FixedLocator\n",
      "  ax[1,1].set_xticklabels(x, rotation=45, ha='right');\n"
     ]
    },
    {
     "name": "stdout",
     "output_type": "stream",
     "text": [
      "0208-602-1-1-Crossmodal-Auditory-superficial-(-5.52 mm)-TT19.3 ////// 114/878 completed  //////  0 min 1.12 sec\n"
     ]
    },
    {
     "name": "stderr",
     "output_type": "stream",
     "text": [
      "C:\\Users\\Public\\Documents\\ESTsoft\\CreatorTemp\\ipykernel_33588\\3917152087.py:80: UserWarning: FixedFormatter should only be used together with FixedLocator\n",
      "  ax[0,1].set_xticklabels(x, rotation=45, ha='right');\n",
      "C:\\Users\\Public\\Documents\\ESTsoft\\CreatorTemp\\ipykernel_33588\\3917152087.py:90: UserWarning: FixedFormatter should only be used together with FixedLocator\n",
      "  ax[1,1].set_xticklabels(x, rotation=45, ha='right');\n"
     ]
    },
    {
     "name": "stdout",
     "output_type": "stream",
     "text": [
      "0209-602-1-1-Crossmodal-TeV-superficial-(-5.52 mm)-TT20.1 ////// 115/878 completed  //////  0 min 0.98 sec\n"
     ]
    },
    {
     "name": "stderr",
     "output_type": "stream",
     "text": [
      "C:\\Users\\Public\\Documents\\ESTsoft\\CreatorTemp\\ipykernel_33588\\3917152087.py:80: UserWarning: FixedFormatter should only be used together with FixedLocator\n",
      "  ax[0,1].set_xticklabels(x, rotation=45, ha='right');\n",
      "C:\\Users\\Public\\Documents\\ESTsoft\\CreatorTemp\\ipykernel_33588\\3917152087.py:88: MatplotlibDeprecationWarning: Support for passing numbers through unit converters is deprecated since 3.5 and support will be removed two minor releases later; use Axis.convert_units instead.\n",
      "  ax[1,1].scatter(np.where(sig)[0],np.tile(0.1,(sum(sig),1)),marker='*',color='black')\n",
      "C:\\Users\\Public\\Documents\\ESTsoft\\CreatorTemp\\ipykernel_33588\\3917152087.py:90: UserWarning: FixedFormatter should only be used together with FixedLocator\n",
      "  ax[1,1].set_xticklabels(x, rotation=45, ha='right');\n"
     ]
    },
    {
     "name": "stdout",
     "output_type": "stream",
     "text": [
      "0210-602-1-1-Crossmodal-TeV-superficial-(-5.64 mm)-TT21.1 ////// 116/878 completed  //////  0 min 0.93 sec\n"
     ]
    },
    {
     "name": "stderr",
     "output_type": "stream",
     "text": [
      "C:\\Users\\Public\\Documents\\ESTsoft\\CreatorTemp\\ipykernel_33588\\3917152087.py:80: UserWarning: FixedFormatter should only be used together with FixedLocator\n",
      "  ax[0,1].set_xticklabels(x, rotation=45, ha='right');\n",
      "C:\\Users\\Public\\Documents\\ESTsoft\\CreatorTemp\\ipykernel_33588\\3917152087.py:88: MatplotlibDeprecationWarning: Support for passing numbers through unit converters is deprecated since 3.5 and support will be removed two minor releases later; use Axis.convert_units instead.\n",
      "  ax[1,1].scatter(np.where(sig)[0],np.tile(0.1,(sum(sig),1)),marker='*',color='black')\n",
      "C:\\Users\\Public\\Documents\\ESTsoft\\CreatorTemp\\ipykernel_33588\\3917152087.py:90: UserWarning: FixedFormatter should only be used together with FixedLocator\n",
      "  ax[1,1].set_xticklabels(x, rotation=45, ha='right');\n"
     ]
    },
    {
     "name": "stdout",
     "output_type": "stream",
     "text": [
      "0211-602-1-1-Crossmodal-PER-superficial-(-5.4 mm)-TT22.1 ////// 117/878 completed  //////  0 min 0.81 sec\n"
     ]
    },
    {
     "name": "stderr",
     "output_type": "stream",
     "text": [
      "C:\\Users\\Public\\Documents\\ESTsoft\\CreatorTemp\\ipykernel_33588\\3917152087.py:80: UserWarning: FixedFormatter should only be used together with FixedLocator\n",
      "  ax[0,1].set_xticklabels(x, rotation=45, ha='right');\n",
      "C:\\Users\\Public\\Documents\\ESTsoft\\CreatorTemp\\ipykernel_33588\\3917152087.py:88: MatplotlibDeprecationWarning: Support for passing numbers through unit converters is deprecated since 3.5 and support will be removed two minor releases later; use Axis.convert_units instead.\n",
      "  ax[1,1].scatter(np.where(sig)[0],np.tile(0.1,(sum(sig),1)),marker='*',color='black')\n",
      "C:\\Users\\Public\\Documents\\ESTsoft\\CreatorTemp\\ipykernel_33588\\3917152087.py:90: UserWarning: FixedFormatter should only be used together with FixedLocator\n",
      "  ax[1,1].set_xticklabels(x, rotation=45, ha='right');\n"
     ]
    },
    {
     "name": "stdout",
     "output_type": "stream",
     "text": [
      "0216-602-1-1-Crossmodal-TeV-superficial-(-5.52 mm)-TT24.2 ////// 121/878 completed  //////  0 min 0.76 sec\n"
     ]
    },
    {
     "name": "stderr",
     "output_type": "stream",
     "text": [
      "C:\\Users\\Public\\Documents\\ESTsoft\\CreatorTemp\\ipykernel_33588\\3917152087.py:80: UserWarning: FixedFormatter should only be used together with FixedLocator\n",
      "  ax[0,1].set_xticklabels(x, rotation=45, ha='right');\n",
      "C:\\Users\\Public\\Documents\\ESTsoft\\CreatorTemp\\ipykernel_33588\\3917152087.py:90: UserWarning: FixedFormatter should only be used together with FixedLocator\n",
      "  ax[1,1].set_xticklabels(x, rotation=45, ha='right');\n"
     ]
    },
    {
     "name": "stdout",
     "output_type": "stream",
     "text": [
      "0217-602-2-2-Crossmodal-PER-deep-(-5.52 mm)-TT4.1 ////// 122/878 completed  //////  0 min 0.90 sec\n"
     ]
    },
    {
     "name": "stderr",
     "output_type": "stream",
     "text": [
      "C:\\Users\\Public\\Documents\\ESTsoft\\CreatorTemp\\ipykernel_33588\\3917152087.py:80: UserWarning: FixedFormatter should only be used together with FixedLocator\n",
      "  ax[0,1].set_xticklabels(x, rotation=45, ha='right');\n",
      "C:\\Users\\Public\\Documents\\ESTsoft\\CreatorTemp\\ipykernel_33588\\3917152087.py:88: MatplotlibDeprecationWarning: Support for passing numbers through unit converters is deprecated since 3.5 and support will be removed two minor releases later; use Axis.convert_units instead.\n",
      "  ax[1,1].scatter(np.where(sig)[0],np.tile(0.1,(sum(sig),1)),marker='*',color='black')\n",
      "C:\\Users\\Public\\Documents\\ESTsoft\\CreatorTemp\\ipykernel_33588\\3917152087.py:90: UserWarning: FixedFormatter should only be used together with FixedLocator\n",
      "  ax[1,1].set_xticklabels(x, rotation=45, ha='right');\n"
     ]
    },
    {
     "name": "stdout",
     "output_type": "stream",
     "text": [
      "0220-602-2-2-Crossmodal-PER-deep-(-5.28 mm)-TT6.3 ////// 124/878 completed  //////  0 min 1.19 sec\n"
     ]
    },
    {
     "name": "stderr",
     "output_type": "stream",
     "text": [
      "C:\\Users\\Public\\Documents\\ESTsoft\\CreatorTemp\\ipykernel_33588\\3917152087.py:80: UserWarning: FixedFormatter should only be used together with FixedLocator\n",
      "  ax[0,1].set_xticklabels(x, rotation=45, ha='right');\n",
      "C:\\Users\\Public\\Documents\\ESTsoft\\CreatorTemp\\ipykernel_33588\\3917152087.py:90: UserWarning: FixedFormatter should only be used together with FixedLocator\n",
      "  ax[1,1].set_xticklabels(x, rotation=45, ha='right');\n"
     ]
    },
    {
     "name": "stdout",
     "output_type": "stream",
     "text": [
      "0228-602-2-2-Crossmodal-TeV-deep-(-4.44 mm)-TT9.1 ////// 129/878 completed  //////  0 min 1.84 sec\n"
     ]
    },
    {
     "name": "stderr",
     "output_type": "stream",
     "text": [
      "C:\\Users\\Public\\Documents\\ESTsoft\\CreatorTemp\\ipykernel_33588\\3917152087.py:80: UserWarning: FixedFormatter should only be used together with FixedLocator\n",
      "  ax[0,1].set_xticklabels(x, rotation=45, ha='right');\n",
      "C:\\Users\\Public\\Documents\\ESTsoft\\CreatorTemp\\ipykernel_33588\\3917152087.py:90: UserWarning: FixedFormatter should only be used together with FixedLocator\n",
      "  ax[1,1].set_xticklabels(x, rotation=45, ha='right');\n"
     ]
    },
    {
     "name": "stdout",
     "output_type": "stream",
     "text": [
      "0231-602-2-2-Crossmodal-TeV-deep-(-4.44 mm)-TT9.4 ////// 131/878 completed  //////  0 min 1.20 sec\n"
     ]
    },
    {
     "name": "stderr",
     "output_type": "stream",
     "text": [
      "C:\\Users\\Public\\Documents\\ESTsoft\\CreatorTemp\\ipykernel_33588\\3917152087.py:80: UserWarning: FixedFormatter should only be used together with FixedLocator\n",
      "  ax[0,1].set_xticklabels(x, rotation=45, ha='right');\n",
      "C:\\Users\\Public\\Documents\\ESTsoft\\CreatorTemp\\ipykernel_33588\\3917152087.py:90: UserWarning: FixedFormatter should only be used together with FixedLocator\n",
      "  ax[1,1].set_xticklabels(x, rotation=45, ha='right');\n"
     ]
    },
    {
     "name": "stdout",
     "output_type": "stream",
     "text": [
      "0236-602-2-2-Crossmodal-PER-superficial-(-4.68 mm)-TT10.2 ////// 135/878 completed  //////  0 min 0.93 sec\n"
     ]
    },
    {
     "name": "stderr",
     "output_type": "stream",
     "text": [
      "C:\\Users\\Public\\Documents\\ESTsoft\\CreatorTemp\\ipykernel_33588\\3917152087.py:80: UserWarning: FixedFormatter should only be used together with FixedLocator\n",
      "  ax[0,1].set_xticklabels(x, rotation=45, ha='right');\n",
      "C:\\Users\\Public\\Documents\\ESTsoft\\CreatorTemp\\ipykernel_33588\\3917152087.py:88: MatplotlibDeprecationWarning: Support for passing numbers through unit converters is deprecated since 3.5 and support will be removed two minor releases later; use Axis.convert_units instead.\n",
      "  ax[1,1].scatter(np.where(sig)[0],np.tile(0.1,(sum(sig),1)),marker='*',color='black')\n",
      "C:\\Users\\Public\\Documents\\ESTsoft\\CreatorTemp\\ipykernel_33588\\3917152087.py:90: UserWarning: FixedFormatter should only be used together with FixedLocator\n",
      "  ax[1,1].set_xticklabels(x, rotation=45, ha='right');\n"
     ]
    },
    {
     "name": "stdout",
     "output_type": "stream",
     "text": [
      "0237-602-2-2-Crossmodal-PER-superficial-(-4.68 mm)-TT10.3 ////// 136/878 completed  //////  0 min 1.35 sec\n"
     ]
    },
    {
     "name": "stderr",
     "output_type": "stream",
     "text": [
      "C:\\Users\\Public\\Documents\\ESTsoft\\CreatorTemp\\ipykernel_33588\\3917152087.py:80: UserWarning: FixedFormatter should only be used together with FixedLocator\n",
      "  ax[0,1].set_xticklabels(x, rotation=45, ha='right');\n",
      "C:\\Users\\Public\\Documents\\ESTsoft\\CreatorTemp\\ipykernel_33588\\3917152087.py:88: MatplotlibDeprecationWarning: Support for passing numbers through unit converters is deprecated since 3.5 and support will be removed two minor releases later; use Axis.convert_units instead.\n",
      "  ax[1,1].scatter(np.where(sig)[0],np.tile(0.1,(sum(sig),1)),marker='*',color='black')\n",
      "C:\\Users\\Public\\Documents\\ESTsoft\\CreatorTemp\\ipykernel_33588\\3917152087.py:90: UserWarning: FixedFormatter should only be used together with FixedLocator\n",
      "  ax[1,1].set_xticklabels(x, rotation=45, ha='right');\n"
     ]
    },
    {
     "name": "stdout",
     "output_type": "stream",
     "text": [
      "0238-602-2-2-Crossmodal-PER-superficial-(-4.68 mm)-TT10.4 ////// 137/878 completed  //////  0 min 1.25 sec\n"
     ]
    },
    {
     "name": "stderr",
     "output_type": "stream",
     "text": [
      "C:\\Users\\Public\\Documents\\ESTsoft\\CreatorTemp\\ipykernel_33588\\3917152087.py:80: UserWarning: FixedFormatter should only be used together with FixedLocator\n",
      "  ax[0,1].set_xticklabels(x, rotation=45, ha='right');\n",
      "C:\\Users\\Public\\Documents\\ESTsoft\\CreatorTemp\\ipykernel_33588\\3917152087.py:90: UserWarning: FixedFormatter should only be used together with FixedLocator\n",
      "  ax[1,1].set_xticklabels(x, rotation=45, ha='right');\n"
     ]
    },
    {
     "name": "stdout",
     "output_type": "stream",
     "text": [
      "0242-602-2-2-Crossmodal-PER-deep-(-4.56 mm)-TT11.4 ////// 141/878 completed  //////  0 min 1.37 sec\n"
     ]
    },
    {
     "name": "stderr",
     "output_type": "stream",
     "text": [
      "C:\\Users\\Public\\Documents\\ESTsoft\\CreatorTemp\\ipykernel_33588\\3917152087.py:80: UserWarning: FixedFormatter should only be used together with FixedLocator\n",
      "  ax[0,1].set_xticklabels(x, rotation=45, ha='right');\n",
      "C:\\Users\\Public\\Documents\\ESTsoft\\CreatorTemp\\ipykernel_33588\\3917152087.py:90: UserWarning: FixedFormatter should only be used together with FixedLocator\n",
      "  ax[1,1].set_xticklabels(x, rotation=45, ha='right');\n"
     ]
    },
    {
     "name": "stdout",
     "output_type": "stream",
     "text": [
      "0247-602-2-2-Crossmodal-PER-superficial-(-4.2 mm)-TT12.5 ////// 143/878 completed  //////  0 min 1.32 sec\n"
     ]
    },
    {
     "name": "stderr",
     "output_type": "stream",
     "text": [
      "C:\\Users\\Public\\Documents\\ESTsoft\\CreatorTemp\\ipykernel_33588\\3917152087.py:80: UserWarning: FixedFormatter should only be used together with FixedLocator\n",
      "  ax[0,1].set_xticklabels(x, rotation=45, ha='right');\n",
      "C:\\Users\\Public\\Documents\\ESTsoft\\CreatorTemp\\ipykernel_33588\\3917152087.py:90: UserWarning: FixedFormatter should only be used together with FixedLocator\n",
      "  ax[1,1].set_xticklabels(x, rotation=45, ha='right');\n"
     ]
    },
    {
     "name": "stdout",
     "output_type": "stream",
     "text": [
      "0254-602-2-2-Crossmodal-TeV-superficial-(-5.64 mm)-TT21.3 ////// 145/878 completed  //////  0 min 1.06 sec\n"
     ]
    },
    {
     "name": "stderr",
     "output_type": "stream",
     "text": [
      "C:\\Users\\Public\\Documents\\ESTsoft\\CreatorTemp\\ipykernel_33588\\3917152087.py:80: UserWarning: FixedFormatter should only be used together with FixedLocator\n",
      "  ax[0,1].set_xticklabels(x, rotation=45, ha='right');\n",
      "C:\\Users\\Public\\Documents\\ESTsoft\\CreatorTemp\\ipykernel_33588\\3917152087.py:88: MatplotlibDeprecationWarning: Support for passing numbers through unit converters is deprecated since 3.5 and support will be removed two minor releases later; use Axis.convert_units instead.\n",
      "  ax[1,1].scatter(np.where(sig)[0],np.tile(0.1,(sum(sig),1)),marker='*',color='black')\n",
      "C:\\Users\\Public\\Documents\\ESTsoft\\CreatorTemp\\ipykernel_33588\\3917152087.py:90: UserWarning: FixedFormatter should only be used together with FixedLocator\n",
      "  ax[1,1].set_xticklabels(x, rotation=45, ha='right');\n"
     ]
    },
    {
     "name": "stdout",
     "output_type": "stream",
     "text": [
      "0255-602-2-2-Crossmodal-PER-superficial-(-5.4 mm)-TT22.1 ////// 146/878 completed  //////  0 min 1.03 sec\n"
     ]
    },
    {
     "name": "stderr",
     "output_type": "stream",
     "text": [
      "C:\\Users\\Public\\Documents\\ESTsoft\\CreatorTemp\\ipykernel_33588\\3917152087.py:80: UserWarning: FixedFormatter should only be used together with FixedLocator\n",
      "  ax[0,1].set_xticklabels(x, rotation=45, ha='right');\n",
      "C:\\Users\\Public\\Documents\\ESTsoft\\CreatorTemp\\ipykernel_33588\\3917152087.py:88: MatplotlibDeprecationWarning: Support for passing numbers through unit converters is deprecated since 3.5 and support will be removed two minor releases later; use Axis.convert_units instead.\n",
      "  ax[1,1].scatter(np.where(sig)[0],np.tile(0.1,(sum(sig),1)),marker='*',color='black')\n",
      "C:\\Users\\Public\\Documents\\ESTsoft\\CreatorTemp\\ipykernel_33588\\3917152087.py:90: UserWarning: FixedFormatter should only be used together with FixedLocator\n",
      "  ax[1,1].set_xticklabels(x, rotation=45, ha='right');\n"
     ]
    },
    {
     "name": "stdout",
     "output_type": "stream",
     "text": [
      "0258-602-3-3-Crossmodal-PER-deep-(-5.52 mm)-TT4.2 ////// 148/878 completed  //////  0 min 1.13 sec\n"
     ]
    },
    {
     "name": "stderr",
     "output_type": "stream",
     "text": [
      "C:\\Users\\Public\\Documents\\ESTsoft\\CreatorTemp\\ipykernel_33588\\3917152087.py:80: UserWarning: FixedFormatter should only be used together with FixedLocator\n",
      "  ax[0,1].set_xticklabels(x, rotation=45, ha='right');\n",
      "C:\\Users\\Public\\Documents\\ESTsoft\\CreatorTemp\\ipykernel_33588\\3917152087.py:90: UserWarning: FixedFormatter should only be used together with FixedLocator\n",
      "  ax[1,1].set_xticklabels(x, rotation=45, ha='right');\n"
     ]
    },
    {
     "name": "stdout",
     "output_type": "stream",
     "text": [
      "0263-602-3-3-Crossmodal-PER-deep-(-4.8 mm)-TT7.1 ////// 153/878 completed  //////  0 min 1.51 sec\n"
     ]
    },
    {
     "name": "stderr",
     "output_type": "stream",
     "text": [
      "C:\\Users\\Public\\Documents\\ESTsoft\\CreatorTemp\\ipykernel_33588\\3917152087.py:80: UserWarning: FixedFormatter should only be used together with FixedLocator\n",
      "  ax[0,1].set_xticklabels(x, rotation=45, ha='right');\n",
      "C:\\Users\\Public\\Documents\\ESTsoft\\CreatorTemp\\ipykernel_33588\\3917152087.py:90: UserWarning: FixedFormatter should only be used together with FixedLocator\n",
      "  ax[1,1].set_xticklabels(x, rotation=45, ha='right');\n"
     ]
    },
    {
     "name": "stdout",
     "output_type": "stream",
     "text": [
      "0268-602-3-3-Crossmodal-PER-deep-(-4.8 mm)-TT7.6 ////// 156/878 completed  //////  0 min 1.02 sec\n"
     ]
    },
    {
     "name": "stderr",
     "output_type": "stream",
     "text": [
      "C:\\Users\\Public\\Documents\\ESTsoft\\CreatorTemp\\ipykernel_33588\\3917152087.py:80: UserWarning: FixedFormatter should only be used together with FixedLocator\n",
      "  ax[0,1].set_xticklabels(x, rotation=45, ha='right');\n",
      "C:\\Users\\Public\\Documents\\ESTsoft\\CreatorTemp\\ipykernel_33588\\3917152087.py:88: MatplotlibDeprecationWarning: Support for passing numbers through unit converters is deprecated since 3.5 and support will be removed two minor releases later; use Axis.convert_units instead.\n",
      "  ax[1,1].scatter(np.where(sig)[0],np.tile(0.1,(sum(sig),1)),marker='*',color='black')\n",
      "C:\\Users\\Public\\Documents\\ESTsoft\\CreatorTemp\\ipykernel_33588\\3917152087.py:90: UserWarning: FixedFormatter should only be used together with FixedLocator\n",
      "  ax[1,1].set_xticklabels(x, rotation=45, ha='right');\n"
     ]
    },
    {
     "name": "stdout",
     "output_type": "stream",
     "text": [
      "0271-602-3-3-Crossmodal-PER-superficial-(-4.8 mm)-TT8.3 ////// 157/878 completed  //////  0 min 1.22 sec\n"
     ]
    },
    {
     "name": "stderr",
     "output_type": "stream",
     "text": [
      "C:\\Users\\Public\\Documents\\ESTsoft\\CreatorTemp\\ipykernel_33588\\3917152087.py:80: UserWarning: FixedFormatter should only be used together with FixedLocator\n",
      "  ax[0,1].set_xticklabels(x, rotation=45, ha='right');\n",
      "C:\\Users\\Public\\Documents\\ESTsoft\\CreatorTemp\\ipykernel_33588\\3917152087.py:90: UserWarning: FixedFormatter should only be used together with FixedLocator\n",
      "  ax[1,1].set_xticklabels(x, rotation=45, ha='right');\n"
     ]
    },
    {
     "name": "stdout",
     "output_type": "stream",
     "text": [
      "0273-602-3-3-Crossmodal-PER-deep-(-4.44 mm)-TT9.1 ////// 158/878 completed  //////  0 min 0.88 sec\n"
     ]
    },
    {
     "name": "stderr",
     "output_type": "stream",
     "text": [
      "C:\\Users\\Public\\Documents\\ESTsoft\\CreatorTemp\\ipykernel_33588\\3917152087.py:80: UserWarning: FixedFormatter should only be used together with FixedLocator\n",
      "  ax[0,1].set_xticklabels(x, rotation=45, ha='right');\n",
      "C:\\Users\\Public\\Documents\\ESTsoft\\CreatorTemp\\ipykernel_33588\\3917152087.py:90: UserWarning: FixedFormatter should only be used together with FixedLocator\n",
      "  ax[1,1].set_xticklabels(x, rotation=45, ha='right');\n"
     ]
    },
    {
     "name": "stdout",
     "output_type": "stream",
     "text": [
      "0274-602-3-3-Crossmodal-PER-deep-(-4.44 mm)-TT9.2 ////// 159/878 completed  //////  0 min 1.16 sec\n"
     ]
    },
    {
     "name": "stderr",
     "output_type": "stream",
     "text": [
      "C:\\Users\\Public\\Documents\\ESTsoft\\CreatorTemp\\ipykernel_33588\\3917152087.py:80: UserWarning: FixedFormatter should only be used together with FixedLocator\n",
      "  ax[0,1].set_xticklabels(x, rotation=45, ha='right');\n",
      "C:\\Users\\Public\\Documents\\ESTsoft\\CreatorTemp\\ipykernel_33588\\3917152087.py:90: UserWarning: FixedFormatter should only be used together with FixedLocator\n",
      "  ax[1,1].set_xticklabels(x, rotation=45, ha='right');\n"
     ]
    },
    {
     "name": "stdout",
     "output_type": "stream",
     "text": [
      "0276-602-3-3-Crossmodal-PER-deep-(-4.44 mm)-TT9.4 ////// 160/878 completed  //////  0 min 1.03 sec\n"
     ]
    },
    {
     "name": "stderr",
     "output_type": "stream",
     "text": [
      "C:\\Users\\Public\\Documents\\ESTsoft\\CreatorTemp\\ipykernel_33588\\3917152087.py:80: UserWarning: FixedFormatter should only be used together with FixedLocator\n",
      "  ax[0,1].set_xticklabels(x, rotation=45, ha='right');\n",
      "C:\\Users\\Public\\Documents\\ESTsoft\\CreatorTemp\\ipykernel_33588\\3917152087.py:88: MatplotlibDeprecationWarning: Support for passing numbers through unit converters is deprecated since 3.5 and support will be removed two minor releases later; use Axis.convert_units instead.\n",
      "  ax[1,1].scatter(np.where(sig)[0],np.tile(0.1,(sum(sig),1)),marker='*',color='black')\n",
      "C:\\Users\\Public\\Documents\\ESTsoft\\CreatorTemp\\ipykernel_33588\\3917152087.py:90: UserWarning: FixedFormatter should only be used together with FixedLocator\n",
      "  ax[1,1].set_xticklabels(x, rotation=45, ha='right');\n"
     ]
    },
    {
     "name": "stdout",
     "output_type": "stream",
     "text": [
      "0285-602-3-3-Crossmodal-PER-superficial-(-4.56 mm)-TT11.4 ////// 167/878 completed  //////  0 min 1.28 sec\n"
     ]
    },
    {
     "name": "stderr",
     "output_type": "stream",
     "text": [
      "C:\\Users\\Public\\Documents\\ESTsoft\\CreatorTemp\\ipykernel_33588\\3917152087.py:80: UserWarning: FixedFormatter should only be used together with FixedLocator\n",
      "  ax[0,1].set_xticklabels(x, rotation=45, ha='right');\n",
      "C:\\Users\\Public\\Documents\\ESTsoft\\CreatorTemp\\ipykernel_33588\\3917152087.py:90: UserWarning: FixedFormatter should only be used together with FixedLocator\n",
      "  ax[1,1].set_xticklabels(x, rotation=45, ha='right');\n"
     ]
    },
    {
     "name": "stdout",
     "output_type": "stream",
     "text": [
      "0286-602-3-3-Crossmodal-PER-superficial-(-4.2 mm)-TT12.1 ////// 168/878 completed  //////  0 min 1.48 sec\n"
     ]
    },
    {
     "name": "stderr",
     "output_type": "stream",
     "text": [
      "C:\\Users\\Public\\Documents\\ESTsoft\\CreatorTemp\\ipykernel_33588\\3917152087.py:80: UserWarning: FixedFormatter should only be used together with FixedLocator\n",
      "  ax[0,1].set_xticklabels(x, rotation=45, ha='right');\n",
      "C:\\Users\\Public\\Documents\\ESTsoft\\CreatorTemp\\ipykernel_33588\\3917152087.py:88: MatplotlibDeprecationWarning: Support for passing numbers through unit converters is deprecated since 3.5 and support will be removed two minor releases later; use Axis.convert_units instead.\n",
      "  ax[1,1].scatter(np.where(sig)[0],np.tile(0.1,(sum(sig),1)),marker='*',color='black')\n",
      "C:\\Users\\Public\\Documents\\ESTsoft\\CreatorTemp\\ipykernel_33588\\3917152087.py:90: UserWarning: FixedFormatter should only be used together with FixedLocator\n",
      "  ax[1,1].set_xticklabels(x, rotation=45, ha='right');\n"
     ]
    },
    {
     "name": "stdout",
     "output_type": "stream",
     "text": [
      "0287-602-3-3-Crossmodal-PER-superficial-(-4.2 mm)-TT12.2 ////// 169/878 completed  //////  0 min 1.02 sec\n"
     ]
    },
    {
     "name": "stderr",
     "output_type": "stream",
     "text": [
      "C:\\Users\\Public\\Documents\\ESTsoft\\CreatorTemp\\ipykernel_33588\\3917152087.py:80: UserWarning: FixedFormatter should only be used together with FixedLocator\n",
      "  ax[0,1].set_xticklabels(x, rotation=45, ha='right');\n",
      "C:\\Users\\Public\\Documents\\ESTsoft\\CreatorTemp\\ipykernel_33588\\3917152087.py:88: MatplotlibDeprecationWarning: Support for passing numbers through unit converters is deprecated since 3.5 and support will be removed two minor releases later; use Axis.convert_units instead.\n",
      "  ax[1,1].scatter(np.where(sig)[0],np.tile(0.1,(sum(sig),1)),marker='*',color='black')\n",
      "C:\\Users\\Public\\Documents\\ESTsoft\\CreatorTemp\\ipykernel_33588\\3917152087.py:90: UserWarning: FixedFormatter should only be used together with FixedLocator\n",
      "  ax[1,1].set_xticklabels(x, rotation=45, ha='right');\n"
     ]
    },
    {
     "name": "stdout",
     "output_type": "stream",
     "text": [
      "0292-602-3-3-Crossmodal-PER-superficial-(-4.2 mm)-TT12.7 ////// 171/878 completed  //////  0 min 1.24 sec\n"
     ]
    },
    {
     "name": "stderr",
     "output_type": "stream",
     "text": [
      "C:\\Users\\Public\\Documents\\ESTsoft\\CreatorTemp\\ipykernel_33588\\3917152087.py:80: UserWarning: FixedFormatter should only be used together with FixedLocator\n",
      "  ax[0,1].set_xticklabels(x, rotation=45, ha='right');\n",
      "C:\\Users\\Public\\Documents\\ESTsoft\\CreatorTemp\\ipykernel_33588\\3917152087.py:88: MatplotlibDeprecationWarning: Support for passing numbers through unit converters is deprecated since 3.5 and support will be removed two minor releases later; use Axis.convert_units instead.\n",
      "  ax[1,1].scatter(np.where(sig)[0],np.tile(0.1,(sum(sig),1)),marker='*',color='black')\n",
      "C:\\Users\\Public\\Documents\\ESTsoft\\CreatorTemp\\ipykernel_33588\\3917152087.py:90: UserWarning: FixedFormatter should only be used together with FixedLocator\n",
      "  ax[1,1].set_xticklabels(x, rotation=45, ha='right');\n"
     ]
    },
    {
     "name": "stdout",
     "output_type": "stream",
     "text": [
      "0313-602-4-4-Crossmodal-PER-superficial-(-5.28 mm)-TT6.3 ////// 180/878 completed  //////  0 min 1.23 sec\n"
     ]
    },
    {
     "name": "stderr",
     "output_type": "stream",
     "text": [
      "C:\\Users\\Public\\Documents\\ESTsoft\\CreatorTemp\\ipykernel_33588\\3917152087.py:80: UserWarning: FixedFormatter should only be used together with FixedLocator\n",
      "  ax[0,1].set_xticklabels(x, rotation=45, ha='right');\n",
      "C:\\Users\\Public\\Documents\\ESTsoft\\CreatorTemp\\ipykernel_33588\\3917152087.py:88: MatplotlibDeprecationWarning: Support for passing numbers through unit converters is deprecated since 3.5 and support will be removed two minor releases later; use Axis.convert_units instead.\n",
      "  ax[1,1].scatter(np.where(sig)[0],np.tile(0.1,(sum(sig),1)),marker='*',color='black')\n",
      "C:\\Users\\Public\\Documents\\ESTsoft\\CreatorTemp\\ipykernel_33588\\3917152087.py:90: UserWarning: FixedFormatter should only be used together with FixedLocator\n",
      "  ax[1,1].set_xticklabels(x, rotation=45, ha='right');\n"
     ]
    },
    {
     "name": "stdout",
     "output_type": "stream",
     "text": [
      "0314-602-4-4-Crossmodal-PER-deep-(-4.8 mm)-TT7.1 ////// 181/878 completed  //////  0 min 1.84 sec\n"
     ]
    },
    {
     "name": "stderr",
     "output_type": "stream",
     "text": [
      "C:\\Users\\Public\\Documents\\ESTsoft\\CreatorTemp\\ipykernel_33588\\3917152087.py:80: UserWarning: FixedFormatter should only be used together with FixedLocator\n",
      "  ax[0,1].set_xticklabels(x, rotation=45, ha='right');\n",
      "C:\\Users\\Public\\Documents\\ESTsoft\\CreatorTemp\\ipykernel_33588\\3917152087.py:88: MatplotlibDeprecationWarning: Support for passing numbers through unit converters is deprecated since 3.5 and support will be removed two minor releases later; use Axis.convert_units instead.\n",
      "  ax[1,1].scatter(np.where(sig)[0],np.tile(0.1,(sum(sig),1)),marker='*',color='black')\n",
      "C:\\Users\\Public\\Documents\\ESTsoft\\CreatorTemp\\ipykernel_33588\\3917152087.py:90: UserWarning: FixedFormatter should only be used together with FixedLocator\n",
      "  ax[1,1].set_xticklabels(x, rotation=45, ha='right');\n"
     ]
    },
    {
     "name": "stdout",
     "output_type": "stream",
     "text": [
      "0322-602-4-4-Crossmodal-PER-deep-(-4.44 mm)-TT9.3 ////// 188/878 completed  //////  0 min 1.07 sec\n"
     ]
    },
    {
     "name": "stderr",
     "output_type": "stream",
     "text": [
      "C:\\Users\\Public\\Documents\\ESTsoft\\CreatorTemp\\ipykernel_33588\\3917152087.py:80: UserWarning: FixedFormatter should only be used together with FixedLocator\n",
      "  ax[0,1].set_xticklabels(x, rotation=45, ha='right');\n",
      "C:\\Users\\Public\\Documents\\ESTsoft\\CreatorTemp\\ipykernel_33588\\3917152087.py:88: MatplotlibDeprecationWarning: Support for passing numbers through unit converters is deprecated since 3.5 and support will be removed two minor releases later; use Axis.convert_units instead.\n",
      "  ax[1,1].scatter(np.where(sig)[0],np.tile(0.1,(sum(sig),1)),marker='*',color='black')\n",
      "C:\\Users\\Public\\Documents\\ESTsoft\\CreatorTemp\\ipykernel_33588\\3917152087.py:90: UserWarning: FixedFormatter should only be used together with FixedLocator\n",
      "  ax[1,1].set_xticklabels(x, rotation=45, ha='right');\n"
     ]
    },
    {
     "name": "stdout",
     "output_type": "stream",
     "text": [
      "0325-602-4-4-Crossmodal-PER-superficial-(-4.68 mm)-TT10.2 ////// 191/878 completed  //////  0 min 0.98 sec\n"
     ]
    },
    {
     "name": "stderr",
     "output_type": "stream",
     "text": [
      "C:\\Users\\Public\\Documents\\ESTsoft\\CreatorTemp\\ipykernel_33588\\3917152087.py:80: UserWarning: FixedFormatter should only be used together with FixedLocator\n",
      "  ax[0,1].set_xticklabels(x, rotation=45, ha='right');\n",
      "C:\\Users\\Public\\Documents\\ESTsoft\\CreatorTemp\\ipykernel_33588\\3917152087.py:88: MatplotlibDeprecationWarning: Support for passing numbers through unit converters is deprecated since 3.5 and support will be removed two minor releases later; use Axis.convert_units instead.\n",
      "  ax[1,1].scatter(np.where(sig)[0],np.tile(0.1,(sum(sig),1)),marker='*',color='black')\n",
      "C:\\Users\\Public\\Documents\\ESTsoft\\CreatorTemp\\ipykernel_33588\\3917152087.py:90: UserWarning: FixedFormatter should only be used together with FixedLocator\n",
      "  ax[1,1].set_xticklabels(x, rotation=45, ha='right');\n"
     ]
    },
    {
     "name": "stdout",
     "output_type": "stream",
     "text": [
      "0326-602-4-4-Crossmodal-PER-superficial-(-4.68 mm)-TT10.3 ////// 192/878 completed  //////  0 min 0.80 sec\n"
     ]
    },
    {
     "name": "stderr",
     "output_type": "stream",
     "text": [
      "C:\\Users\\Public\\Documents\\ESTsoft\\CreatorTemp\\ipykernel_33588\\3917152087.py:80: UserWarning: FixedFormatter should only be used together with FixedLocator\n",
      "  ax[0,1].set_xticklabels(x, rotation=45, ha='right');\n",
      "C:\\Users\\Public\\Documents\\ESTsoft\\CreatorTemp\\ipykernel_33588\\3917152087.py:88: MatplotlibDeprecationWarning: Support for passing numbers through unit converters is deprecated since 3.5 and support will be removed two minor releases later; use Axis.convert_units instead.\n",
      "  ax[1,1].scatter(np.where(sig)[0],np.tile(0.1,(sum(sig),1)),marker='*',color='black')\n",
      "C:\\Users\\Public\\Documents\\ESTsoft\\CreatorTemp\\ipykernel_33588\\3917152087.py:90: UserWarning: FixedFormatter should only be used together with FixedLocator\n",
      "  ax[1,1].set_xticklabels(x, rotation=45, ha='right');\n"
     ]
    },
    {
     "name": "stdout",
     "output_type": "stream",
     "text": [
      "0333-602-4-4-Crossmodal-TeV-superficial-(-5.64 mm)-TT21.3 ////// 193/878 completed  //////  0 min 0.78 sec\n"
     ]
    },
    {
     "name": "stderr",
     "output_type": "stream",
     "text": [
      "C:\\Users\\Public\\Documents\\ESTsoft\\CreatorTemp\\ipykernel_33588\\3917152087.py:80: UserWarning: FixedFormatter should only be used together with FixedLocator\n",
      "  ax[0,1].set_xticklabels(x, rotation=45, ha='right');\n",
      "C:\\Users\\Public\\Documents\\ESTsoft\\CreatorTemp\\ipykernel_33588\\3917152087.py:88: MatplotlibDeprecationWarning: Support for passing numbers through unit converters is deprecated since 3.5 and support will be removed two minor releases later; use Axis.convert_units instead.\n",
      "  ax[1,1].scatter(np.where(sig)[0],np.tile(0.1,(sum(sig),1)),marker='*',color='black')\n",
      "C:\\Users\\Public\\Documents\\ESTsoft\\CreatorTemp\\ipykernel_33588\\3917152087.py:90: UserWarning: FixedFormatter should only be used together with FixedLocator\n",
      "  ax[1,1].set_xticklabels(x, rotation=45, ha='right');\n"
     ]
    },
    {
     "name": "stdout",
     "output_type": "stream",
     "text": [
      "0334-602-4-4-Crossmodal-TeV-superficial-(-5.64 mm)-TT21.4 ////// 194/878 completed  //////  0 min 0.82 sec\n"
     ]
    },
    {
     "name": "stderr",
     "output_type": "stream",
     "text": [
      "C:\\Users\\Public\\Documents\\ESTsoft\\CreatorTemp\\ipykernel_33588\\3917152087.py:80: UserWarning: FixedFormatter should only be used together with FixedLocator\n",
      "  ax[0,1].set_xticklabels(x, rotation=45, ha='right');\n",
      "C:\\Users\\Public\\Documents\\ESTsoft\\CreatorTemp\\ipykernel_33588\\3917152087.py:90: UserWarning: FixedFormatter should only be used together with FixedLocator\n",
      "  ax[1,1].set_xticklabels(x, rotation=45, ha='right');\n"
     ]
    },
    {
     "name": "stdout",
     "output_type": "stream",
     "text": [
      "0343-602-5-5-Crossmodal-PER-deep-(-4.8 mm)-TT7.2 ////// 200/878 completed  //////  0 min 0.87 sec\n"
     ]
    },
    {
     "name": "stderr",
     "output_type": "stream",
     "text": [
      "C:\\Users\\Public\\Documents\\ESTsoft\\CreatorTemp\\ipykernel_33588\\3917152087.py:80: UserWarning: FixedFormatter should only be used together with FixedLocator\n",
      "  ax[0,1].set_xticklabels(x, rotation=45, ha='right');\n",
      "C:\\Users\\Public\\Documents\\ESTsoft\\CreatorTemp\\ipykernel_33588\\3917152087.py:90: UserWarning: FixedFormatter should only be used together with FixedLocator\n",
      "  ax[1,1].set_xticklabels(x, rotation=45, ha='right');\n"
     ]
    },
    {
     "name": "stdout",
     "output_type": "stream",
     "text": [
      "0344-602-5-5-Crossmodal-PER-deep-(-4.8 mm)-TT7.3 ////// 201/878 completed  //////  0 min 1.17 sec\n"
     ]
    },
    {
     "name": "stderr",
     "output_type": "stream",
     "text": [
      "C:\\Users\\Public\\Documents\\ESTsoft\\CreatorTemp\\ipykernel_33588\\3917152087.py:80: UserWarning: FixedFormatter should only be used together with FixedLocator\n",
      "  ax[0,1].set_xticklabels(x, rotation=45, ha='right');\n",
      "C:\\Users\\Public\\Documents\\ESTsoft\\CreatorTemp\\ipykernel_33588\\3917152087.py:88: MatplotlibDeprecationWarning: Support for passing numbers through unit converters is deprecated since 3.5 and support will be removed two minor releases later; use Axis.convert_units instead.\n",
      "  ax[1,1].scatter(np.where(sig)[0],np.tile(0.1,(sum(sig),1)),marker='*',color='black')\n",
      "C:\\Users\\Public\\Documents\\ESTsoft\\CreatorTemp\\ipykernel_33588\\3917152087.py:90: UserWarning: FixedFormatter should only be used together with FixedLocator\n",
      "  ax[1,1].set_xticklabels(x, rotation=45, ha='right');\n"
     ]
    },
    {
     "name": "stdout",
     "output_type": "stream",
     "text": [
      "0349-602-5-5-Crossmodal-PER-deep-(-4.44 mm)-TT9.1 ////// 203/878 completed  //////  0 min 1.20 sec\n"
     ]
    },
    {
     "name": "stderr",
     "output_type": "stream",
     "text": [
      "C:\\Users\\Public\\Documents\\ESTsoft\\CreatorTemp\\ipykernel_33588\\3917152087.py:80: UserWarning: FixedFormatter should only be used together with FixedLocator\n",
      "  ax[0,1].set_xticklabels(x, rotation=45, ha='right');\n",
      "C:\\Users\\Public\\Documents\\ESTsoft\\CreatorTemp\\ipykernel_33588\\3917152087.py:88: MatplotlibDeprecationWarning: Support for passing numbers through unit converters is deprecated since 3.5 and support will be removed two minor releases later; use Axis.convert_units instead.\n",
      "  ax[1,1].scatter(np.where(sig)[0],np.tile(0.1,(sum(sig),1)),marker='*',color='black')\n",
      "C:\\Users\\Public\\Documents\\ESTsoft\\CreatorTemp\\ipykernel_33588\\3917152087.py:90: UserWarning: FixedFormatter should only be used together with FixedLocator\n",
      "  ax[1,1].set_xticklabels(x, rotation=45, ha='right');\n"
     ]
    },
    {
     "name": "stdout",
     "output_type": "stream",
     "text": [
      "0350-602-5-5-Crossmodal-PER-deep-(-4.44 mm)-TT9.2 ////// 204/878 completed  //////  0 min 1.52 sec\n"
     ]
    },
    {
     "name": "stderr",
     "output_type": "stream",
     "text": [
      "C:\\Users\\Public\\Documents\\ESTsoft\\CreatorTemp\\ipykernel_33588\\3917152087.py:80: UserWarning: FixedFormatter should only be used together with FixedLocator\n",
      "  ax[0,1].set_xticklabels(x, rotation=45, ha='right');\n",
      "C:\\Users\\Public\\Documents\\ESTsoft\\CreatorTemp\\ipykernel_33588\\3917152087.py:90: UserWarning: FixedFormatter should only be used together with FixedLocator\n",
      "  ax[1,1].set_xticklabels(x, rotation=45, ha='right');\n"
     ]
    },
    {
     "name": "stdout",
     "output_type": "stream",
     "text": [
      "0356-602-5-5-Crossmodal-PER-superficial-(-4.68 mm)-TT10.3 ////// 208/878 completed  //////  0 min 1.57 sec\n"
     ]
    },
    {
     "name": "stderr",
     "output_type": "stream",
     "text": [
      "C:\\Users\\Public\\Documents\\ESTsoft\\CreatorTemp\\ipykernel_33588\\3917152087.py:80: UserWarning: FixedFormatter should only be used together with FixedLocator\n",
      "  ax[0,1].set_xticklabels(x, rotation=45, ha='right');\n",
      "C:\\Users\\Public\\Documents\\ESTsoft\\CreatorTemp\\ipykernel_33588\\3917152087.py:88: MatplotlibDeprecationWarning: Support for passing numbers through unit converters is deprecated since 3.5 and support will be removed two minor releases later; use Axis.convert_units instead.\n",
      "  ax[1,1].scatter(np.where(sig)[0],np.tile(0.1,(sum(sig),1)),marker='*',color='black')\n",
      "C:\\Users\\Public\\Documents\\ESTsoft\\CreatorTemp\\ipykernel_33588\\3917152087.py:90: UserWarning: FixedFormatter should only be used together with FixedLocator\n",
      "  ax[1,1].set_xticklabels(x, rotation=45, ha='right');\n"
     ]
    },
    {
     "name": "stdout",
     "output_type": "stream",
     "text": [
      "0357-602-5-5-Crossmodal-PER-superficial-(-4.68 mm)-TT10.4 ////// 209/878 completed  //////  0 min 1.51 sec\n"
     ]
    },
    {
     "name": "stderr",
     "output_type": "stream",
     "text": [
      "C:\\Users\\Public\\Documents\\ESTsoft\\CreatorTemp\\ipykernel_33588\\3917152087.py:80: UserWarning: FixedFormatter should only be used together with FixedLocator\n",
      "  ax[0,1].set_xticklabels(x, rotation=45, ha='right');\n",
      "C:\\Users\\Public\\Documents\\ESTsoft\\CreatorTemp\\ipykernel_33588\\3917152087.py:90: UserWarning: FixedFormatter should only be used together with FixedLocator\n",
      "  ax[1,1].set_xticklabels(x, rotation=45, ha='right');\n"
     ]
    },
    {
     "name": "stdout",
     "output_type": "stream",
     "text": [
      "0359-602-5-5-Crossmodal-PER-superficial-(-4.2 mm)-TT12.1 ////// 210/878 completed  //////  0 min 1.40 sec\n"
     ]
    },
    {
     "name": "stderr",
     "output_type": "stream",
     "text": [
      "C:\\Users\\Public\\Documents\\ESTsoft\\CreatorTemp\\ipykernel_33588\\3917152087.py:80: UserWarning: FixedFormatter should only be used together with FixedLocator\n",
      "  ax[0,1].set_xticklabels(x, rotation=45, ha='right');\n",
      "C:\\Users\\Public\\Documents\\ESTsoft\\CreatorTemp\\ipykernel_33588\\3917152087.py:90: UserWarning: FixedFormatter should only be used together with FixedLocator\n",
      "  ax[1,1].set_xticklabels(x, rotation=45, ha='right');\n"
     ]
    },
    {
     "name": "stdout",
     "output_type": "stream",
     "text": [
      "0366-602-5-5-Crossmodal-Auditory-superficial-(-5.52 mm)-TT19.2 ////// 212/878 completed  //////  0 min 1.40 sec\n"
     ]
    },
    {
     "name": "stderr",
     "output_type": "stream",
     "text": [
      "C:\\Users\\Public\\Documents\\ESTsoft\\CreatorTemp\\ipykernel_33588\\3917152087.py:80: UserWarning: FixedFormatter should only be used together with FixedLocator\n",
      "  ax[0,1].set_xticklabels(x, rotation=45, ha='right');\n",
      "C:\\Users\\Public\\Documents\\ESTsoft\\CreatorTemp\\ipykernel_33588\\3917152087.py:90: UserWarning: FixedFormatter should only be used together with FixedLocator\n",
      "  ax[1,1].set_xticklabels(x, rotation=45, ha='right');\n"
     ]
    },
    {
     "name": "stdout",
     "output_type": "stream",
     "text": [
      "0371-602-5-5-Crossmodal-TeV-superficial-(-5.52 mm)-TT20.4 ////// 214/878 completed  //////  0 min 0.95 sec\n"
     ]
    },
    {
     "name": "stderr",
     "output_type": "stream",
     "text": [
      "C:\\Users\\Public\\Documents\\ESTsoft\\CreatorTemp\\ipykernel_33588\\3917152087.py:80: UserWarning: FixedFormatter should only be used together with FixedLocator\n",
      "  ax[0,1].set_xticklabels(x, rotation=45, ha='right');\n",
      "C:\\Users\\Public\\Documents\\ESTsoft\\CreatorTemp\\ipykernel_33588\\3917152087.py:90: UserWarning: FixedFormatter should only be used together with FixedLocator\n",
      "  ax[1,1].set_xticklabels(x, rotation=45, ha='right');\n"
     ]
    },
    {
     "name": "stdout",
     "output_type": "stream",
     "text": [
      "0376-602-5-5-Crossmodal-TeV-superficial-(-5.64 mm)-TT21.3 ////// 216/878 completed  //////  0 min 0.83 sec\n"
     ]
    },
    {
     "name": "stderr",
     "output_type": "stream",
     "text": [
      "C:\\Users\\Public\\Documents\\ESTsoft\\CreatorTemp\\ipykernel_33588\\3917152087.py:80: UserWarning: FixedFormatter should only be used together with FixedLocator\n",
      "  ax[0,1].set_xticklabels(x, rotation=45, ha='right');\n",
      "C:\\Users\\Public\\Documents\\ESTsoft\\CreatorTemp\\ipykernel_33588\\3917152087.py:90: UserWarning: FixedFormatter should only be used together with FixedLocator\n",
      "  ax[1,1].set_xticklabels(x, rotation=45, ha='right');\n"
     ]
    },
    {
     "name": "stdout",
     "output_type": "stream",
     "text": [
      "0989-640-1-1-Crossmodal-fiber-na-(-6.12 mm)-TT3.1 ////// 218/878 completed  //////  0 min 0.82 sec\n"
     ]
    },
    {
     "name": "stderr",
     "output_type": "stream",
     "text": [
      "C:\\Users\\Public\\Documents\\ESTsoft\\CreatorTemp\\ipykernel_33588\\3917152087.py:80: UserWarning: FixedFormatter should only be used together with FixedLocator\n",
      "  ax[0,1].set_xticklabels(x, rotation=45, ha='right');\n",
      "C:\\Users\\Public\\Documents\\ESTsoft\\CreatorTemp\\ipykernel_33588\\3917152087.py:90: UserWarning: FixedFormatter should only be used together with FixedLocator\n",
      "  ax[1,1].set_xticklabels(x, rotation=45, ha='right');\n"
     ]
    },
    {
     "name": "stdout",
     "output_type": "stream",
     "text": [
      "0990-640-1-1-Crossmodal-PER-deep-(-5.52 mm)-TT5.1 ////// 219/878 completed  //////  0 min 0.82 sec\n"
     ]
    },
    {
     "name": "stderr",
     "output_type": "stream",
     "text": [
      "C:\\Users\\Public\\Documents\\ESTsoft\\CreatorTemp\\ipykernel_33588\\3917152087.py:80: UserWarning: FixedFormatter should only be used together with FixedLocator\n",
      "  ax[0,1].set_xticklabels(x, rotation=45, ha='right');\n",
      "C:\\Users\\Public\\Documents\\ESTsoft\\CreatorTemp\\ipykernel_33588\\3917152087.py:90: UserWarning: FixedFormatter should only be used together with FixedLocator\n",
      "  ax[1,1].set_xticklabels(x, rotation=45, ha='right');\n"
     ]
    },
    {
     "name": "stdout",
     "output_type": "stream",
     "text": [
      "0991-640-1-1-Crossmodal-PER-deep-(-4.56 mm)-TT11.1 ////// 220/878 completed  //////  0 min 0.92 sec\n"
     ]
    },
    {
     "name": "stderr",
     "output_type": "stream",
     "text": [
      "C:\\Users\\Public\\Documents\\ESTsoft\\CreatorTemp\\ipykernel_33588\\3917152087.py:80: UserWarning: FixedFormatter should only be used together with FixedLocator\n",
      "  ax[0,1].set_xticklabels(x, rotation=45, ha='right');\n",
      "C:\\Users\\Public\\Documents\\ESTsoft\\CreatorTemp\\ipykernel_33588\\3917152087.py:90: UserWarning: FixedFormatter should only be used together with FixedLocator\n",
      "  ax[1,1].set_xticklabels(x, rotation=45, ha='right');\n"
     ]
    },
    {
     "name": "stdout",
     "output_type": "stream",
     "text": [
      "0992-640-1-1-Crossmodal-PER-deep-(-4.56 mm)-TT11.2 ////// 221/878 completed  //////  0 min 0.96 sec\n"
     ]
    },
    {
     "name": "stderr",
     "output_type": "stream",
     "text": [
      "C:\\Users\\Public\\Documents\\ESTsoft\\CreatorTemp\\ipykernel_33588\\3917152087.py:80: UserWarning: FixedFormatter should only be used together with FixedLocator\n",
      "  ax[0,1].set_xticklabels(x, rotation=45, ha='right');\n",
      "C:\\Users\\Public\\Documents\\ESTsoft\\CreatorTemp\\ipykernel_33588\\3917152087.py:88: MatplotlibDeprecationWarning: Support for passing numbers through unit converters is deprecated since 3.5 and support will be removed two minor releases later; use Axis.convert_units instead.\n",
      "  ax[1,1].scatter(np.where(sig)[0],np.tile(0.1,(sum(sig),1)),marker='*',color='black')\n",
      "C:\\Users\\Public\\Documents\\ESTsoft\\CreatorTemp\\ipykernel_33588\\3917152087.py:90: UserWarning: FixedFormatter should only be used together with FixedLocator\n",
      "  ax[1,1].set_xticklabels(x, rotation=45, ha='right');\n"
     ]
    },
    {
     "name": "stdout",
     "output_type": "stream",
     "text": [
      "0993-640-1-1-Crossmodal-PER-deep-(-4.56 mm)-TT11.3 ////// 222/878 completed  //////  0 min 0.84 sec\n"
     ]
    },
    {
     "name": "stderr",
     "output_type": "stream",
     "text": [
      "C:\\Users\\Public\\Documents\\ESTsoft\\CreatorTemp\\ipykernel_33588\\3917152087.py:80: UserWarning: FixedFormatter should only be used together with FixedLocator\n",
      "  ax[0,1].set_xticklabels(x, rotation=45, ha='right');\n",
      "C:\\Users\\Public\\Documents\\ESTsoft\\CreatorTemp\\ipykernel_33588\\3917152087.py:88: MatplotlibDeprecationWarning: Support for passing numbers through unit converters is deprecated since 3.5 and support will be removed two minor releases later; use Axis.convert_units instead.\n",
      "  ax[1,1].scatter(np.where(sig)[0],np.tile(0.1,(sum(sig),1)),marker='*',color='black')\n",
      "C:\\Users\\Public\\Documents\\ESTsoft\\CreatorTemp\\ipykernel_33588\\3917152087.py:90: UserWarning: FixedFormatter should only be used together with FixedLocator\n",
      "  ax[1,1].set_xticklabels(x, rotation=45, ha='right');\n"
     ]
    },
    {
     "name": "stdout",
     "output_type": "stream",
     "text": [
      "0995-640-1-1-Crossmodal-PER-deep-(-4.56 mm)-TT13.2 ////// 224/878 completed  //////  0 min 0.80 sec\n"
     ]
    },
    {
     "name": "stderr",
     "output_type": "stream",
     "text": [
      "C:\\Users\\Public\\Documents\\ESTsoft\\CreatorTemp\\ipykernel_33588\\3917152087.py:80: UserWarning: FixedFormatter should only be used together with FixedLocator\n",
      "  ax[0,1].set_xticklabels(x, rotation=45, ha='right');\n",
      "C:\\Users\\Public\\Documents\\ESTsoft\\CreatorTemp\\ipykernel_33588\\3917152087.py:90: UserWarning: FixedFormatter should only be used together with FixedLocator\n",
      "  ax[1,1].set_xticklabels(x, rotation=45, ha='right');\n"
     ]
    },
    {
     "name": "stdout",
     "output_type": "stream",
     "text": [
      "0996-640-1-1-Crossmodal-PER-deep-(-4.56 mm)-TT13.3 ////// 225/878 completed  //////  0 min 0.78 sec\n"
     ]
    },
    {
     "name": "stderr",
     "output_type": "stream",
     "text": [
      "C:\\Users\\Public\\Documents\\ESTsoft\\CreatorTemp\\ipykernel_33588\\3917152087.py:80: UserWarning: FixedFormatter should only be used together with FixedLocator\n",
      "  ax[0,1].set_xticklabels(x, rotation=45, ha='right');\n",
      "C:\\Users\\Public\\Documents\\ESTsoft\\CreatorTemp\\ipykernel_33588\\3917152087.py:90: UserWarning: FixedFormatter should only be used together with FixedLocator\n",
      "  ax[1,1].set_xticklabels(x, rotation=45, ha='right');\n"
     ]
    },
    {
     "name": "stdout",
     "output_type": "stream",
     "text": [
      "0998-640-1-1-Crossmodal-PER-deep-(-4.56 mm)-TT13.5 ////// 226/878 completed  //////  0 min 0.88 sec\n"
     ]
    },
    {
     "name": "stderr",
     "output_type": "stream",
     "text": [
      "C:\\Users\\Public\\Documents\\ESTsoft\\CreatorTemp\\ipykernel_33588\\3917152087.py:80: UserWarning: FixedFormatter should only be used together with FixedLocator\n",
      "  ax[0,1].set_xticklabels(x, rotation=45, ha='right');\n",
      "C:\\Users\\Public\\Documents\\ESTsoft\\CreatorTemp\\ipykernel_33588\\3917152087.py:90: UserWarning: FixedFormatter should only be used together with FixedLocator\n",
      "  ax[1,1].set_xticklabels(x, rotation=45, ha='right');\n"
     ]
    },
    {
     "name": "stdout",
     "output_type": "stream",
     "text": [
      "0999-640-1-1-Crossmodal-PER-deep-(-4.56 mm)-TT13.6 ////// 227/878 completed  //////  0 min 0.84 sec\n"
     ]
    },
    {
     "name": "stderr",
     "output_type": "stream",
     "text": [
      "C:\\Users\\Public\\Documents\\ESTsoft\\CreatorTemp\\ipykernel_33588\\3917152087.py:80: UserWarning: FixedFormatter should only be used together with FixedLocator\n",
      "  ax[0,1].set_xticklabels(x, rotation=45, ha='right');\n",
      "C:\\Users\\Public\\Documents\\ESTsoft\\CreatorTemp\\ipykernel_33588\\3917152087.py:88: MatplotlibDeprecationWarning: Support for passing numbers through unit converters is deprecated since 3.5 and support will be removed two minor releases later; use Axis.convert_units instead.\n",
      "  ax[1,1].scatter(np.where(sig)[0],np.tile(0.1,(sum(sig),1)),marker='*',color='black')\n",
      "C:\\Users\\Public\\Documents\\ESTsoft\\CreatorTemp\\ipykernel_33588\\3917152087.py:90: UserWarning: FixedFormatter should only be used together with FixedLocator\n",
      "  ax[1,1].set_xticklabels(x, rotation=45, ha='right');\n"
     ]
    },
    {
     "name": "stdout",
     "output_type": "stream",
     "text": [
      "1001-640-1-1-Crossmodal-PER-deep-(-4.56 mm)-TT13.8 ////// 228/878 completed  //////  0 min 1.85 sec\n"
     ]
    },
    {
     "name": "stderr",
     "output_type": "stream",
     "text": [
      "C:\\Users\\Public\\Documents\\ESTsoft\\CreatorTemp\\ipykernel_33588\\3917152087.py:80: UserWarning: FixedFormatter should only be used together with FixedLocator\n",
      "  ax[0,1].set_xticklabels(x, rotation=45, ha='right');\n",
      "C:\\Users\\Public\\Documents\\ESTsoft\\CreatorTemp\\ipykernel_33588\\3917152087.py:90: UserWarning: FixedFormatter should only be used together with FixedLocator\n",
      "  ax[1,1].set_xticklabels(x, rotation=45, ha='right');\n"
     ]
    },
    {
     "name": "stdout",
     "output_type": "stream",
     "text": [
      "1009-640-1-1-Crossmodal-TeV-superficial-(-5.88 mm)-TT20.2 ////// 229/878 completed  //////  0 min 0.93 sec\n"
     ]
    },
    {
     "name": "stderr",
     "output_type": "stream",
     "text": [
      "C:\\Users\\Public\\Documents\\ESTsoft\\CreatorTemp\\ipykernel_33588\\3917152087.py:80: UserWarning: FixedFormatter should only be used together with FixedLocator\n",
      "  ax[0,1].set_xticklabels(x, rotation=45, ha='right');\n",
      "C:\\Users\\Public\\Documents\\ESTsoft\\CreatorTemp\\ipykernel_33588\\3917152087.py:90: UserWarning: FixedFormatter should only be used together with FixedLocator\n",
      "  ax[1,1].set_xticklabels(x, rotation=45, ha='right');\n"
     ]
    },
    {
     "name": "stdout",
     "output_type": "stream",
     "text": [
      "1013-640-2-2-Crossmodal-PER-deep-(-5.52 mm)-TT5.1 ////// 233/878 completed  //////  0 min 0.89 sec\n"
     ]
    },
    {
     "name": "stderr",
     "output_type": "stream",
     "text": [
      "C:\\Users\\Public\\Documents\\ESTsoft\\CreatorTemp\\ipykernel_33588\\3917152087.py:80: UserWarning: FixedFormatter should only be used together with FixedLocator\n",
      "  ax[0,1].set_xticklabels(x, rotation=45, ha='right');\n",
      "C:\\Users\\Public\\Documents\\ESTsoft\\CreatorTemp\\ipykernel_33588\\3917152087.py:90: UserWarning: FixedFormatter should only be used together with FixedLocator\n",
      "  ax[1,1].set_xticklabels(x, rotation=45, ha='right');\n"
     ]
    },
    {
     "name": "stdout",
     "output_type": "stream",
     "text": [
      "1015-640-2-2-Crossmodal-PER-deep-(-5.52 mm)-TT5.3 ////// 235/878 completed  //////  0 min 0.98 sec\n"
     ]
    },
    {
     "name": "stderr",
     "output_type": "stream",
     "text": [
      "C:\\Users\\Public\\Documents\\ESTsoft\\CreatorTemp\\ipykernel_33588\\3917152087.py:80: UserWarning: FixedFormatter should only be used together with FixedLocator\n",
      "  ax[0,1].set_xticklabels(x, rotation=45, ha='right');\n",
      "C:\\Users\\Public\\Documents\\ESTsoft\\CreatorTemp\\ipykernel_33588\\3917152087.py:90: UserWarning: FixedFormatter should only be used together with FixedLocator\n",
      "  ax[1,1].set_xticklabels(x, rotation=45, ha='right');\n"
     ]
    },
    {
     "name": "stdout",
     "output_type": "stream",
     "text": [
      "1016-640-2-2-Crossmodal-PER-deep-(-4.8 mm)-TT10.1 ////// 236/878 completed  //////  0 min 0.81 sec\n"
     ]
    },
    {
     "name": "stderr",
     "output_type": "stream",
     "text": [
      "C:\\Users\\Public\\Documents\\ESTsoft\\CreatorTemp\\ipykernel_33588\\3917152087.py:80: UserWarning: FixedFormatter should only be used together with FixedLocator\n",
      "  ax[0,1].set_xticklabels(x, rotation=45, ha='right');\n",
      "C:\\Users\\Public\\Documents\\ESTsoft\\CreatorTemp\\ipykernel_33588\\3917152087.py:90: UserWarning: FixedFormatter should only be used together with FixedLocator\n",
      "  ax[1,1].set_xticklabels(x, rotation=45, ha='right');\n"
     ]
    },
    {
     "name": "stdout",
     "output_type": "stream",
     "text": [
      "1017-640-2-2-Crossmodal-PER-deep-(-4.8 mm)-TT10.2 ////// 237/878 completed  //////  0 min 0.90 sec\n"
     ]
    },
    {
     "name": "stderr",
     "output_type": "stream",
     "text": [
      "C:\\Users\\Public\\Documents\\ESTsoft\\CreatorTemp\\ipykernel_33588\\3917152087.py:80: UserWarning: FixedFormatter should only be used together with FixedLocator\n",
      "  ax[0,1].set_xticklabels(x, rotation=45, ha='right');\n",
      "C:\\Users\\Public\\Documents\\ESTsoft\\CreatorTemp\\ipykernel_33588\\3917152087.py:90: UserWarning: FixedFormatter should only be used together with FixedLocator\n",
      "  ax[1,1].set_xticklabels(x, rotation=45, ha='right');\n"
     ]
    },
    {
     "name": "stdout",
     "output_type": "stream",
     "text": [
      "1018-640-2-2-Crossmodal-PER-deep-(-4.8 mm)-TT10.3 ////// 238/878 completed  //////  0 min 0.93 sec\n"
     ]
    },
    {
     "name": "stderr",
     "output_type": "stream",
     "text": [
      "C:\\Users\\Public\\Documents\\ESTsoft\\CreatorTemp\\ipykernel_33588\\3917152087.py:80: UserWarning: FixedFormatter should only be used together with FixedLocator\n",
      "  ax[0,1].set_xticklabels(x, rotation=45, ha='right');\n",
      "C:\\Users\\Public\\Documents\\ESTsoft\\CreatorTemp\\ipykernel_33588\\3917152087.py:90: UserWarning: FixedFormatter should only be used together with FixedLocator\n",
      "  ax[1,1].set_xticklabels(x, rotation=45, ha='right');\n"
     ]
    },
    {
     "name": "stdout",
     "output_type": "stream",
     "text": [
      "1019-640-2-2-Crossmodal-PER-deep-(-4.56 mm)-TT11.1 ////// 239/878 completed  //////  0 min 0.87 sec\n"
     ]
    },
    {
     "name": "stderr",
     "output_type": "stream",
     "text": [
      "C:\\Users\\Public\\Documents\\ESTsoft\\CreatorTemp\\ipykernel_33588\\3917152087.py:80: UserWarning: FixedFormatter should only be used together with FixedLocator\n",
      "  ax[0,1].set_xticklabels(x, rotation=45, ha='right');\n",
      "C:\\Users\\Public\\Documents\\ESTsoft\\CreatorTemp\\ipykernel_33588\\3917152087.py:88: MatplotlibDeprecationWarning: Support for passing numbers through unit converters is deprecated since 3.5 and support will be removed two minor releases later; use Axis.convert_units instead.\n",
      "  ax[1,1].scatter(np.where(sig)[0],np.tile(0.1,(sum(sig),1)),marker='*',color='black')\n",
      "C:\\Users\\Public\\Documents\\ESTsoft\\CreatorTemp\\ipykernel_33588\\3917152087.py:90: UserWarning: FixedFormatter should only be used together with FixedLocator\n",
      "  ax[1,1].set_xticklabels(x, rotation=45, ha='right');\n"
     ]
    },
    {
     "name": "stdout",
     "output_type": "stream",
     "text": [
      "1020-640-2-2-Crossmodal-PER-deep-(-4.56 mm)-TT11.2 ////// 240/878 completed  //////  0 min 0.97 sec\n"
     ]
    },
    {
     "name": "stderr",
     "output_type": "stream",
     "text": [
      "C:\\Users\\Public\\Documents\\ESTsoft\\CreatorTemp\\ipykernel_33588\\3917152087.py:80: UserWarning: FixedFormatter should only be used together with FixedLocator\n",
      "  ax[0,1].set_xticklabels(x, rotation=45, ha='right');\n",
      "C:\\Users\\Public\\Documents\\ESTsoft\\CreatorTemp\\ipykernel_33588\\3917152087.py:90: UserWarning: FixedFormatter should only be used together with FixedLocator\n",
      "  ax[1,1].set_xticklabels(x, rotation=45, ha='right');\n"
     ]
    },
    {
     "name": "stdout",
     "output_type": "stream",
     "text": [
      "1021-640-2-2-Crossmodal-PER-deep-(-4.56 mm)-TT11.3 ////// 241/878 completed  //////  0 min 0.84 sec\n"
     ]
    },
    {
     "name": "stderr",
     "output_type": "stream",
     "text": [
      "C:\\Users\\Public\\Documents\\ESTsoft\\CreatorTemp\\ipykernel_33588\\3917152087.py:80: UserWarning: FixedFormatter should only be used together with FixedLocator\n",
      "  ax[0,1].set_xticklabels(x, rotation=45, ha='right');\n",
      "C:\\Users\\Public\\Documents\\ESTsoft\\CreatorTemp\\ipykernel_33588\\3917152087.py:90: UserWarning: FixedFormatter should only be used together with FixedLocator\n",
      "  ax[1,1].set_xticklabels(x, rotation=45, ha='right');\n"
     ]
    },
    {
     "name": "stdout",
     "output_type": "stream",
     "text": [
      "1022-640-2-2-Crossmodal-PER-deep-(-4.56 mm)-TT11.4 ////// 242/878 completed  //////  0 min 0.81 sec\n"
     ]
    },
    {
     "name": "stderr",
     "output_type": "stream",
     "text": [
      "C:\\Users\\Public\\Documents\\ESTsoft\\CreatorTemp\\ipykernel_33588\\3917152087.py:80: UserWarning: FixedFormatter should only be used together with FixedLocator\n",
      "  ax[0,1].set_xticklabels(x, rotation=45, ha='right');\n",
      "C:\\Users\\Public\\Documents\\ESTsoft\\CreatorTemp\\ipykernel_33588\\3917152087.py:90: UserWarning: FixedFormatter should only be used together with FixedLocator\n",
      "  ax[1,1].set_xticklabels(x, rotation=45, ha='right');\n"
     ]
    },
    {
     "name": "stdout",
     "output_type": "stream",
     "text": [
      "1023-640-2-2-Crossmodal-PER-deep-(-4.56 mm)-TT11.5 ////// 243/878 completed  //////  0 min 0.93 sec\n"
     ]
    },
    {
     "name": "stderr",
     "output_type": "stream",
     "text": [
      "C:\\Users\\Public\\Documents\\ESTsoft\\CreatorTemp\\ipykernel_33588\\3917152087.py:80: UserWarning: FixedFormatter should only be used together with FixedLocator\n",
      "  ax[0,1].set_xticklabels(x, rotation=45, ha='right');\n",
      "C:\\Users\\Public\\Documents\\ESTsoft\\CreatorTemp\\ipykernel_33588\\3917152087.py:90: UserWarning: FixedFormatter should only be used together with FixedLocator\n",
      "  ax[1,1].set_xticklabels(x, rotation=45, ha='right');\n"
     ]
    },
    {
     "name": "stdout",
     "output_type": "stream",
     "text": [
      "1024-640-2-2-Crossmodal-PER-deep-(-4.56 mm)-TT11.6 ////// 244/878 completed  //////  0 min 0.86 sec\n"
     ]
    },
    {
     "name": "stderr",
     "output_type": "stream",
     "text": [
      "C:\\Users\\Public\\Documents\\ESTsoft\\CreatorTemp\\ipykernel_33588\\3917152087.py:80: UserWarning: FixedFormatter should only be used together with FixedLocator\n",
      "  ax[0,1].set_xticklabels(x, rotation=45, ha='right');\n",
      "C:\\Users\\Public\\Documents\\ESTsoft\\CreatorTemp\\ipykernel_33588\\3917152087.py:90: UserWarning: FixedFormatter should only be used together with FixedLocator\n",
      "  ax[1,1].set_xticklabels(x, rotation=45, ha='right');\n"
     ]
    },
    {
     "name": "stdout",
     "output_type": "stream",
     "text": [
      "1025-640-2-2-Crossmodal-PER-superficial-(-4.56 mm)-TT13.1 ////// 245/878 completed  //////  0 min 0.92 sec\n"
     ]
    },
    {
     "name": "stderr",
     "output_type": "stream",
     "text": [
      "C:\\Users\\Public\\Documents\\ESTsoft\\CreatorTemp\\ipykernel_33588\\3917152087.py:80: UserWarning: FixedFormatter should only be used together with FixedLocator\n",
      "  ax[0,1].set_xticklabels(x, rotation=45, ha='right');\n",
      "C:\\Users\\Public\\Documents\\ESTsoft\\CreatorTemp\\ipykernel_33588\\3917152087.py:90: UserWarning: FixedFormatter should only be used together with FixedLocator\n",
      "  ax[1,1].set_xticklabels(x, rotation=45, ha='right');\n"
     ]
    },
    {
     "name": "stdout",
     "output_type": "stream",
     "text": [
      "1026-640-2-2-Crossmodal-PER-superficial-(-4.56 mm)-TT13.2 ////// 246/878 completed  //////  0 min 0.82 sec\n"
     ]
    },
    {
     "name": "stderr",
     "output_type": "stream",
     "text": [
      "C:\\Users\\Public\\Documents\\ESTsoft\\CreatorTemp\\ipykernel_33588\\3917152087.py:80: UserWarning: FixedFormatter should only be used together with FixedLocator\n",
      "  ax[0,1].set_xticklabels(x, rotation=45, ha='right');\n",
      "C:\\Users\\Public\\Documents\\ESTsoft\\CreatorTemp\\ipykernel_33588\\3917152087.py:88: MatplotlibDeprecationWarning: Support for passing numbers through unit converters is deprecated since 3.5 and support will be removed two minor releases later; use Axis.convert_units instead.\n",
      "  ax[1,1].scatter(np.where(sig)[0],np.tile(0.1,(sum(sig),1)),marker='*',color='black')\n",
      "C:\\Users\\Public\\Documents\\ESTsoft\\CreatorTemp\\ipykernel_33588\\3917152087.py:90: UserWarning: FixedFormatter should only be used together with FixedLocator\n",
      "  ax[1,1].set_xticklabels(x, rotation=45, ha='right');\n"
     ]
    },
    {
     "name": "stdout",
     "output_type": "stream",
     "text": [
      "1027-640-2-2-Crossmodal-PER-superficial-(-4.56 mm)-TT13.3 ////// 247/878 completed  //////  0 min 0.83 sec\n"
     ]
    },
    {
     "name": "stderr",
     "output_type": "stream",
     "text": [
      "C:\\Users\\Public\\Documents\\ESTsoft\\CreatorTemp\\ipykernel_33588\\3917152087.py:80: UserWarning: FixedFormatter should only be used together with FixedLocator\n",
      "  ax[0,1].set_xticklabels(x, rotation=45, ha='right');\n",
      "C:\\Users\\Public\\Documents\\ESTsoft\\CreatorTemp\\ipykernel_33588\\3917152087.py:90: UserWarning: FixedFormatter should only be used together with FixedLocator\n",
      "  ax[1,1].set_xticklabels(x, rotation=45, ha='right');\n"
     ]
    },
    {
     "name": "stdout",
     "output_type": "stream",
     "text": [
      "1028-640-2-2-Crossmodal-PER-superficial-(-4.56 mm)-TT13.4 ////// 248/878 completed  //////  0 min 0.88 sec\n"
     ]
    },
    {
     "name": "stderr",
     "output_type": "stream",
     "text": [
      "C:\\Users\\Public\\Documents\\ESTsoft\\CreatorTemp\\ipykernel_33588\\3917152087.py:80: UserWarning: FixedFormatter should only be used together with FixedLocator\n",
      "  ax[0,1].set_xticklabels(x, rotation=45, ha='right');\n",
      "C:\\Users\\Public\\Documents\\ESTsoft\\CreatorTemp\\ipykernel_33588\\3917152087.py:90: UserWarning: FixedFormatter should only be used together with FixedLocator\n",
      "  ax[1,1].set_xticklabels(x, rotation=45, ha='right');\n"
     ]
    },
    {
     "name": "stdout",
     "output_type": "stream",
     "text": [
      "1029-640-2-2-Crossmodal-PER-superficial-(-4.56 mm)-TT13.5 ////// 249/878 completed  //////  0 min 1.07 sec\n"
     ]
    },
    {
     "name": "stderr",
     "output_type": "stream",
     "text": [
      "C:\\Users\\Public\\Documents\\ESTsoft\\CreatorTemp\\ipykernel_33588\\3917152087.py:80: UserWarning: FixedFormatter should only be used together with FixedLocator\n",
      "  ax[0,1].set_xticklabels(x, rotation=45, ha='right');\n",
      "C:\\Users\\Public\\Documents\\ESTsoft\\CreatorTemp\\ipykernel_33588\\3917152087.py:90: UserWarning: FixedFormatter should only be used together with FixedLocator\n",
      "  ax[1,1].set_xticklabels(x, rotation=45, ha='right');\n"
     ]
    },
    {
     "name": "stdout",
     "output_type": "stream",
     "text": [
      "1030-640-2-2-Crossmodal-PER-superficial-(-4.56 mm)-TT13.6 ////// 250/878 completed  //////  0 min 1.08 sec\n"
     ]
    },
    {
     "name": "stderr",
     "output_type": "stream",
     "text": [
      "C:\\Users\\Public\\Documents\\ESTsoft\\CreatorTemp\\ipykernel_33588\\3917152087.py:80: UserWarning: FixedFormatter should only be used together with FixedLocator\n",
      "  ax[0,1].set_xticklabels(x, rotation=45, ha='right');\n",
      "C:\\Users\\Public\\Documents\\ESTsoft\\CreatorTemp\\ipykernel_33588\\3917152087.py:90: UserWarning: FixedFormatter should only be used together with FixedLocator\n",
      "  ax[1,1].set_xticklabels(x, rotation=45, ha='right');\n"
     ]
    },
    {
     "name": "stdout",
     "output_type": "stream",
     "text": [
      "1033-640-2-2-Crossmodal-PER-superficial-(-4.68 mm)-TT16.1 ////// 251/878 completed  //////  0 min 1.03 sec\n"
     ]
    },
    {
     "name": "stderr",
     "output_type": "stream",
     "text": [
      "C:\\Users\\Public\\Documents\\ESTsoft\\CreatorTemp\\ipykernel_33588\\3917152087.py:80: UserWarning: FixedFormatter should only be used together with FixedLocator\n",
      "  ax[0,1].set_xticklabels(x, rotation=45, ha='right');\n",
      "C:\\Users\\Public\\Documents\\ESTsoft\\CreatorTemp\\ipykernel_33588\\3917152087.py:90: UserWarning: FixedFormatter should only be used together with FixedLocator\n",
      "  ax[1,1].set_xticklabels(x, rotation=45, ha='right');\n"
     ]
    },
    {
     "name": "stdout",
     "output_type": "stream",
     "text": [
      "1034-640-2-2-Crossmodal-TeV-superficial-(-5.64 mm)-TT19.1 ////// 252/878 completed  //////  0 min 1.12 sec\n"
     ]
    },
    {
     "name": "stderr",
     "output_type": "stream",
     "text": [
      "C:\\Users\\Public\\Documents\\ESTsoft\\CreatorTemp\\ipykernel_33588\\3917152087.py:80: UserWarning: FixedFormatter should only be used together with FixedLocator\n",
      "  ax[0,1].set_xticklabels(x, rotation=45, ha='right');\n",
      "C:\\Users\\Public\\Documents\\ESTsoft\\CreatorTemp\\ipykernel_33588\\3917152087.py:88: MatplotlibDeprecationWarning: Support for passing numbers through unit converters is deprecated since 3.5 and support will be removed two minor releases later; use Axis.convert_units instead.\n",
      "  ax[1,1].scatter(np.where(sig)[0],np.tile(0.1,(sum(sig),1)),marker='*',color='black')\n",
      "C:\\Users\\Public\\Documents\\ESTsoft\\CreatorTemp\\ipykernel_33588\\3917152087.py:90: UserWarning: FixedFormatter should only be used together with FixedLocator\n",
      "  ax[1,1].set_xticklabels(x, rotation=45, ha='right');\n"
     ]
    },
    {
     "name": "stdout",
     "output_type": "stream",
     "text": [
      "1037-640-2-2-Crossmodal-TeV-deep-(-5.88 mm)-TT22.2 ////// 254/878 completed  //////  0 min 0.97 sec\n"
     ]
    },
    {
     "name": "stderr",
     "output_type": "stream",
     "text": [
      "C:\\Users\\Public\\Documents\\ESTsoft\\CreatorTemp\\ipykernel_33588\\3917152087.py:80: UserWarning: FixedFormatter should only be used together with FixedLocator\n",
      "  ax[0,1].set_xticklabels(x, rotation=45, ha='right');\n",
      "C:\\Users\\Public\\Documents\\ESTsoft\\CreatorTemp\\ipykernel_33588\\3917152087.py:88: MatplotlibDeprecationWarning: Support for passing numbers through unit converters is deprecated since 3.5 and support will be removed two minor releases later; use Axis.convert_units instead.\n",
      "  ax[1,1].scatter(np.where(sig)[0],np.tile(0.1,(sum(sig),1)),marker='*',color='black')\n",
      "C:\\Users\\Public\\Documents\\ESTsoft\\CreatorTemp\\ipykernel_33588\\3917152087.py:90: UserWarning: FixedFormatter should only be used together with FixedLocator\n",
      "  ax[1,1].set_xticklabels(x, rotation=45, ha='right');\n"
     ]
    },
    {
     "name": "stdout",
     "output_type": "stream",
     "text": [
      "1039-640-2-2-Crossmodal-TeV-deep-(-5.88 mm)-TT22.4 ////// 256/878 completed  //////  0 min 0.78 sec\n"
     ]
    },
    {
     "name": "stderr",
     "output_type": "stream",
     "text": [
      "C:\\Users\\Public\\Documents\\ESTsoft\\CreatorTemp\\ipykernel_33588\\3917152087.py:80: UserWarning: FixedFormatter should only be used together with FixedLocator\n",
      "  ax[0,1].set_xticklabels(x, rotation=45, ha='right');\n",
      "C:\\Users\\Public\\Documents\\ESTsoft\\CreatorTemp\\ipykernel_33588\\3917152087.py:90: UserWarning: FixedFormatter should only be used together with FixedLocator\n",
      "  ax[1,1].set_xticklabels(x, rotation=45, ha='right');\n"
     ]
    },
    {
     "name": "stdout",
     "output_type": "stream",
     "text": [
      "1047-640-3-3-Crossmodal-iHPC-na-(-5.64 mm)-TT4.1 ////// 262/878 completed  //////  0 min 0.90 sec\n"
     ]
    },
    {
     "name": "stderr",
     "output_type": "stream",
     "text": [
      "C:\\Users\\Public\\Documents\\ESTsoft\\CreatorTemp\\ipykernel_33588\\3917152087.py:80: UserWarning: FixedFormatter should only be used together with FixedLocator\n",
      "  ax[0,1].set_xticklabels(x, rotation=45, ha='right');\n",
      "C:\\Users\\Public\\Documents\\ESTsoft\\CreatorTemp\\ipykernel_33588\\3917152087.py:90: UserWarning: FixedFormatter should only be used together with FixedLocator\n",
      "  ax[1,1].set_xticklabels(x, rotation=45, ha='right');\n"
     ]
    },
    {
     "name": "stdout",
     "output_type": "stream",
     "text": [
      "1048-640-3-3-Crossmodal-iHPC-na-(-5.64 mm)-TT4.2 ////// 263/878 completed  //////  0 min 0.83 sec\n"
     ]
    },
    {
     "name": "stderr",
     "output_type": "stream",
     "text": [
      "C:\\Users\\Public\\Documents\\ESTsoft\\CreatorTemp\\ipykernel_33588\\3917152087.py:80: UserWarning: FixedFormatter should only be used together with FixedLocator\n",
      "  ax[0,1].set_xticklabels(x, rotation=45, ha='right');\n",
      "C:\\Users\\Public\\Documents\\ESTsoft\\CreatorTemp\\ipykernel_33588\\3917152087.py:90: UserWarning: FixedFormatter should only be used together with FixedLocator\n",
      "  ax[1,1].set_xticklabels(x, rotation=45, ha='right');\n"
     ]
    },
    {
     "name": "stdout",
     "output_type": "stream",
     "text": [
      "1050-640-3-3-Crossmodal-PER-deep-(-5.52 mm)-TT5.1 ////// 264/878 completed  //////  0 min 0.92 sec\n"
     ]
    },
    {
     "name": "stderr",
     "output_type": "stream",
     "text": [
      "C:\\Users\\Public\\Documents\\ESTsoft\\CreatorTemp\\ipykernel_33588\\3917152087.py:80: UserWarning: FixedFormatter should only be used together with FixedLocator\n",
      "  ax[0,1].set_xticklabels(x, rotation=45, ha='right');\n",
      "C:\\Users\\Public\\Documents\\ESTsoft\\CreatorTemp\\ipykernel_33588\\3917152087.py:90: UserWarning: FixedFormatter should only be used together with FixedLocator\n",
      "  ax[1,1].set_xticklabels(x, rotation=45, ha='right');\n"
     ]
    },
    {
     "name": "stdout",
     "output_type": "stream",
     "text": [
      "1051-640-3-3-Crossmodal-PER-deep-(-4.8 mm)-TT10.1 ////// 265/878 completed  //////  0 min 0.87 sec\n"
     ]
    },
    {
     "name": "stderr",
     "output_type": "stream",
     "text": [
      "C:\\Users\\Public\\Documents\\ESTsoft\\CreatorTemp\\ipykernel_33588\\3917152087.py:80: UserWarning: FixedFormatter should only be used together with FixedLocator\n",
      "  ax[0,1].set_xticklabels(x, rotation=45, ha='right');\n",
      "C:\\Users\\Public\\Documents\\ESTsoft\\CreatorTemp\\ipykernel_33588\\3917152087.py:90: UserWarning: FixedFormatter should only be used together with FixedLocator\n",
      "  ax[1,1].set_xticklabels(x, rotation=45, ha='right');\n"
     ]
    },
    {
     "name": "stdout",
     "output_type": "stream",
     "text": [
      "1052-640-3-3-Crossmodal-PER-deep-(-4.8 mm)-TT10.2 ////// 266/878 completed  //////  0 min 0.90 sec\n"
     ]
    },
    {
     "name": "stderr",
     "output_type": "stream",
     "text": [
      "C:\\Users\\Public\\Documents\\ESTsoft\\CreatorTemp\\ipykernel_33588\\3917152087.py:80: UserWarning: FixedFormatter should only be used together with FixedLocator\n",
      "  ax[0,1].set_xticklabels(x, rotation=45, ha='right');\n",
      "C:\\Users\\Public\\Documents\\ESTsoft\\CreatorTemp\\ipykernel_33588\\3917152087.py:90: UserWarning: FixedFormatter should only be used together with FixedLocator\n",
      "  ax[1,1].set_xticklabels(x, rotation=45, ha='right');\n"
     ]
    },
    {
     "name": "stdout",
     "output_type": "stream",
     "text": [
      "1053-640-3-3-Crossmodal-PER-deep-(-4.8 mm)-TT10.3 ////// 267/878 completed  //////  0 min 0.86 sec\n"
     ]
    },
    {
     "name": "stderr",
     "output_type": "stream",
     "text": [
      "C:\\Users\\Public\\Documents\\ESTsoft\\CreatorTemp\\ipykernel_33588\\3917152087.py:80: UserWarning: FixedFormatter should only be used together with FixedLocator\n",
      "  ax[0,1].set_xticklabels(x, rotation=45, ha='right');\n",
      "C:\\Users\\Public\\Documents\\ESTsoft\\CreatorTemp\\ipykernel_33588\\3917152087.py:90: UserWarning: FixedFormatter should only be used together with FixedLocator\n",
      "  ax[1,1].set_xticklabels(x, rotation=45, ha='right');\n"
     ]
    },
    {
     "name": "stdout",
     "output_type": "stream",
     "text": [
      "1054-640-3-3-Crossmodal-PER-deep-(-4.8 mm)-TT10.4 ////// 268/878 completed  //////  0 min 0.76 sec\n"
     ]
    },
    {
     "name": "stderr",
     "output_type": "stream",
     "text": [
      "C:\\Users\\Public\\Documents\\ESTsoft\\CreatorTemp\\ipykernel_33588\\3917152087.py:80: UserWarning: FixedFormatter should only be used together with FixedLocator\n",
      "  ax[0,1].set_xticklabels(x, rotation=45, ha='right');\n",
      "C:\\Users\\Public\\Documents\\ESTsoft\\CreatorTemp\\ipykernel_33588\\3917152087.py:90: UserWarning: FixedFormatter should only be used together with FixedLocator\n",
      "  ax[1,1].set_xticklabels(x, rotation=45, ha='right');\n"
     ]
    },
    {
     "name": "stdout",
     "output_type": "stream",
     "text": [
      "1055-640-3-3-Crossmodal-PER-deep-(-4.56 mm)-TT11.1 ////// 269/878 completed  //////  0 min 0.84 sec\n"
     ]
    },
    {
     "name": "stderr",
     "output_type": "stream",
     "text": [
      "C:\\Users\\Public\\Documents\\ESTsoft\\CreatorTemp\\ipykernel_33588\\3917152087.py:80: UserWarning: FixedFormatter should only be used together with FixedLocator\n",
      "  ax[0,1].set_xticklabels(x, rotation=45, ha='right');\n",
      "C:\\Users\\Public\\Documents\\ESTsoft\\CreatorTemp\\ipykernel_33588\\3917152087.py:90: UserWarning: FixedFormatter should only be used together with FixedLocator\n",
      "  ax[1,1].set_xticklabels(x, rotation=45, ha='right');\n"
     ]
    },
    {
     "name": "stdout",
     "output_type": "stream",
     "text": [
      "1056-640-3-3-Crossmodal-PER-deep-(-4.56 mm)-TT11.2 ////// 270/878 completed  //////  0 min 0.90 sec\n"
     ]
    },
    {
     "name": "stderr",
     "output_type": "stream",
     "text": [
      "C:\\Users\\Public\\Documents\\ESTsoft\\CreatorTemp\\ipykernel_33588\\3917152087.py:80: UserWarning: FixedFormatter should only be used together with FixedLocator\n",
      "  ax[0,1].set_xticklabels(x, rotation=45, ha='right');\n",
      "C:\\Users\\Public\\Documents\\ESTsoft\\CreatorTemp\\ipykernel_33588\\3917152087.py:90: UserWarning: FixedFormatter should only be used together with FixedLocator\n",
      "  ax[1,1].set_xticklabels(x, rotation=45, ha='right');\n"
     ]
    },
    {
     "name": "stdout",
     "output_type": "stream",
     "text": [
      "1057-640-3-3-Crossmodal-PER-deep-(-4.56 mm)-TT11.3 ////// 271/878 completed  //////  0 min 1.85 sec\n"
     ]
    },
    {
     "name": "stderr",
     "output_type": "stream",
     "text": [
      "C:\\Users\\Public\\Documents\\ESTsoft\\CreatorTemp\\ipykernel_33588\\3917152087.py:80: UserWarning: FixedFormatter should only be used together with FixedLocator\n",
      "  ax[0,1].set_xticklabels(x, rotation=45, ha='right');\n",
      "C:\\Users\\Public\\Documents\\ESTsoft\\CreatorTemp\\ipykernel_33588\\3917152087.py:90: UserWarning: FixedFormatter should only be used together with FixedLocator\n",
      "  ax[1,1].set_xticklabels(x, rotation=45, ha='right');\n"
     ]
    },
    {
     "name": "stdout",
     "output_type": "stream",
     "text": [
      "1059-640-3-3-Crossmodal-PER-superficial-(-4.56 mm)-TT13.2 ////// 273/878 completed  //////  0 min 0.92 sec\n"
     ]
    },
    {
     "name": "stderr",
     "output_type": "stream",
     "text": [
      "C:\\Users\\Public\\Documents\\ESTsoft\\CreatorTemp\\ipykernel_33588\\3917152087.py:80: UserWarning: FixedFormatter should only be used together with FixedLocator\n",
      "  ax[0,1].set_xticklabels(x, rotation=45, ha='right');\n",
      "C:\\Users\\Public\\Documents\\ESTsoft\\CreatorTemp\\ipykernel_33588\\3917152087.py:90: UserWarning: FixedFormatter should only be used together with FixedLocator\n",
      "  ax[1,1].set_xticklabels(x, rotation=45, ha='right');\n"
     ]
    },
    {
     "name": "stdout",
     "output_type": "stream",
     "text": [
      "1060-640-3-3-Crossmodal-PER-superficial-(-4.56 mm)-TT13.3 ////// 274/878 completed  //////  0 min 1.00 sec\n"
     ]
    },
    {
     "name": "stderr",
     "output_type": "stream",
     "text": [
      "C:\\Users\\Public\\Documents\\ESTsoft\\CreatorTemp\\ipykernel_33588\\3917152087.py:80: UserWarning: FixedFormatter should only be used together with FixedLocator\n",
      "  ax[0,1].set_xticklabels(x, rotation=45, ha='right');\n",
      "C:\\Users\\Public\\Documents\\ESTsoft\\CreatorTemp\\ipykernel_33588\\3917152087.py:90: UserWarning: FixedFormatter should only be used together with FixedLocator\n",
      "  ax[1,1].set_xticklabels(x, rotation=45, ha='right');\n"
     ]
    },
    {
     "name": "stdout",
     "output_type": "stream",
     "text": [
      "1069-640-3-3-Crossmodal-TeV-deep-(-5.88 mm)-TT22.3 ////// 279/878 completed  //////  0 min 1.02 sec\n"
     ]
    },
    {
     "name": "stderr",
     "output_type": "stream",
     "text": [
      "C:\\Users\\Public\\Documents\\ESTsoft\\CreatorTemp\\ipykernel_33588\\3917152087.py:80: UserWarning: FixedFormatter should only be used together with FixedLocator\n",
      "  ax[0,1].set_xticklabels(x, rotation=45, ha='right');\n",
      "C:\\Users\\Public\\Documents\\ESTsoft\\CreatorTemp\\ipykernel_33588\\3917152087.py:90: UserWarning: FixedFormatter should only be used together with FixedLocator\n",
      "  ax[1,1].set_xticklabels(x, rotation=45, ha='right');\n"
     ]
    },
    {
     "name": "stdout",
     "output_type": "stream",
     "text": [
      "1070-640-3-3-Crossmodal-TeV-deep-(-5.88 mm)-TT22.4 ////// 280/878 completed  //////  0 min 1.11 sec\n"
     ]
    },
    {
     "name": "stderr",
     "output_type": "stream",
     "text": [
      "C:\\Users\\Public\\Documents\\ESTsoft\\CreatorTemp\\ipykernel_33588\\3917152087.py:80: UserWarning: FixedFormatter should only be used together with FixedLocator\n",
      "  ax[0,1].set_xticklabels(x, rotation=45, ha='right');\n",
      "C:\\Users\\Public\\Documents\\ESTsoft\\CreatorTemp\\ipykernel_33588\\3917152087.py:88: MatplotlibDeprecationWarning: Support for passing numbers through unit converters is deprecated since 3.5 and support will be removed two minor releases later; use Axis.convert_units instead.\n",
      "  ax[1,1].scatter(np.where(sig)[0],np.tile(0.1,(sum(sig),1)),marker='*',color='black')\n",
      "C:\\Users\\Public\\Documents\\ESTsoft\\CreatorTemp\\ipykernel_33588\\3917152087.py:90: UserWarning: FixedFormatter should only be used together with FixedLocator\n",
      "  ax[1,1].set_xticklabels(x, rotation=45, ha='right');\n"
     ]
    },
    {
     "name": "stdout",
     "output_type": "stream",
     "text": [
      "1071-640-3-3-Crossmodal-TeV-deep-(-5.88 mm)-TT22.5 ////// 281/878 completed  //////  0 min 1.20 sec\n"
     ]
    },
    {
     "name": "stderr",
     "output_type": "stream",
     "text": [
      "C:\\Users\\Public\\Documents\\ESTsoft\\CreatorTemp\\ipykernel_33588\\3917152087.py:80: UserWarning: FixedFormatter should only be used together with FixedLocator\n",
      "  ax[0,1].set_xticklabels(x, rotation=45, ha='right');\n",
      "C:\\Users\\Public\\Documents\\ESTsoft\\CreatorTemp\\ipykernel_33588\\3917152087.py:88: MatplotlibDeprecationWarning: Support for passing numbers through unit converters is deprecated since 3.5 and support will be removed two minor releases later; use Axis.convert_units instead.\n",
      "  ax[1,1].scatter(np.where(sig)[0],np.tile(0.1,(sum(sig),1)),marker='*',color='black')\n",
      "C:\\Users\\Public\\Documents\\ESTsoft\\CreatorTemp\\ipykernel_33588\\3917152087.py:90: UserWarning: FixedFormatter should only be used together with FixedLocator\n",
      "  ax[1,1].set_xticklabels(x, rotation=45, ha='right');\n"
     ]
    },
    {
     "name": "stdout",
     "output_type": "stream",
     "text": [
      "1075-640-4-4-Crossmodal-fiber-na-(-6.12 mm)-TT3.1 ////// 285/878 completed  //////  0 min 1.05 sec\n"
     ]
    },
    {
     "name": "stderr",
     "output_type": "stream",
     "text": [
      "C:\\Users\\Public\\Documents\\ESTsoft\\CreatorTemp\\ipykernel_33588\\3917152087.py:80: UserWarning: FixedFormatter should only be used together with FixedLocator\n",
      "  ax[0,1].set_xticklabels(x, rotation=45, ha='right');\n",
      "C:\\Users\\Public\\Documents\\ESTsoft\\CreatorTemp\\ipykernel_33588\\3917152087.py:88: MatplotlibDeprecationWarning: Support for passing numbers through unit converters is deprecated since 3.5 and support will be removed two minor releases later; use Axis.convert_units instead.\n",
      "  ax[1,1].scatter(np.where(sig)[0],np.tile(0.1,(sum(sig),1)),marker='*',color='black')\n",
      "C:\\Users\\Public\\Documents\\ESTsoft\\CreatorTemp\\ipykernel_33588\\3917152087.py:90: UserWarning: FixedFormatter should only be used together with FixedLocator\n",
      "  ax[1,1].set_xticklabels(x, rotation=45, ha='right');\n"
     ]
    },
    {
     "name": "stdout",
     "output_type": "stream",
     "text": [
      "1076-640-4-4-Crossmodal-fiber-na-(-6.12 mm)-TT3.2 ////// 286/878 completed  //////  0 min 0.84 sec\n"
     ]
    },
    {
     "name": "stderr",
     "output_type": "stream",
     "text": [
      "C:\\Users\\Public\\Documents\\ESTsoft\\CreatorTemp\\ipykernel_33588\\3917152087.py:80: UserWarning: FixedFormatter should only be used together with FixedLocator\n",
      "  ax[0,1].set_xticklabels(x, rotation=45, ha='right');\n",
      "C:\\Users\\Public\\Documents\\ESTsoft\\CreatorTemp\\ipykernel_33588\\3917152087.py:90: UserWarning: FixedFormatter should only be used together with FixedLocator\n",
      "  ax[1,1].set_xticklabels(x, rotation=45, ha='right');\n"
     ]
    },
    {
     "name": "stdout",
     "output_type": "stream",
     "text": [
      "1077-640-4-4-Crossmodal-fiber-na-(-6.12 mm)-TT3.3 ////// 287/878 completed  //////  0 min 0.84 sec\n"
     ]
    },
    {
     "name": "stderr",
     "output_type": "stream",
     "text": [
      "C:\\Users\\Public\\Documents\\ESTsoft\\CreatorTemp\\ipykernel_33588\\3917152087.py:80: UserWarning: FixedFormatter should only be used together with FixedLocator\n",
      "  ax[0,1].set_xticklabels(x, rotation=45, ha='right');\n",
      "C:\\Users\\Public\\Documents\\ESTsoft\\CreatorTemp\\ipykernel_33588\\3917152087.py:90: UserWarning: FixedFormatter should only be used together with FixedLocator\n",
      "  ax[1,1].set_xticklabels(x, rotation=45, ha='right');\n"
     ]
    },
    {
     "name": "stdout",
     "output_type": "stream",
     "text": [
      "1078-640-4-4-Crossmodal-iHPC-na-(-5.64 mm)-TT4.1 ////// 288/878 completed  //////  0 min 0.84 sec\n"
     ]
    },
    {
     "name": "stderr",
     "output_type": "stream",
     "text": [
      "C:\\Users\\Public\\Documents\\ESTsoft\\CreatorTemp\\ipykernel_33588\\3917152087.py:80: UserWarning: FixedFormatter should only be used together with FixedLocator\n",
      "  ax[0,1].set_xticklabels(x, rotation=45, ha='right');\n",
      "C:\\Users\\Public\\Documents\\ESTsoft\\CreatorTemp\\ipykernel_33588\\3917152087.py:90: UserWarning: FixedFormatter should only be used together with FixedLocator\n",
      "  ax[1,1].set_xticklabels(x, rotation=45, ha='right');\n"
     ]
    },
    {
     "name": "stdout",
     "output_type": "stream",
     "text": [
      "1079-640-4-4-Crossmodal-PER-superficial-(-5.52 mm)-TT6.1 ////// 289/878 completed  //////  0 min 0.88 sec\n"
     ]
    },
    {
     "name": "stderr",
     "output_type": "stream",
     "text": [
      "C:\\Users\\Public\\Documents\\ESTsoft\\CreatorTemp\\ipykernel_33588\\3917152087.py:80: UserWarning: FixedFormatter should only be used together with FixedLocator\n",
      "  ax[0,1].set_xticklabels(x, rotation=45, ha='right');\n",
      "C:\\Users\\Public\\Documents\\ESTsoft\\CreatorTemp\\ipykernel_33588\\3917152087.py:90: UserWarning: FixedFormatter should only be used together with FixedLocator\n",
      "  ax[1,1].set_xticklabels(x, rotation=45, ha='right');\n"
     ]
    },
    {
     "name": "stdout",
     "output_type": "stream",
     "text": [
      "1080-640-4-4-Crossmodal-PER-deep-(-4.8 mm)-TT10.1 ////// 290/878 completed  //////  0 min 1.01 sec\n"
     ]
    },
    {
     "name": "stderr",
     "output_type": "stream",
     "text": [
      "C:\\Users\\Public\\Documents\\ESTsoft\\CreatorTemp\\ipykernel_33588\\3917152087.py:80: UserWarning: FixedFormatter should only be used together with FixedLocator\n",
      "  ax[0,1].set_xticklabels(x, rotation=45, ha='right');\n",
      "C:\\Users\\Public\\Documents\\ESTsoft\\CreatorTemp\\ipykernel_33588\\3917152087.py:90: UserWarning: FixedFormatter should only be used together with FixedLocator\n",
      "  ax[1,1].set_xticklabels(x, rotation=45, ha='right');\n"
     ]
    },
    {
     "name": "stdout",
     "output_type": "stream",
     "text": [
      "1081-640-4-4-Crossmodal-PER-deep-(-4.8 mm)-TT10.2 ////// 291/878 completed  //////  0 min 0.89 sec\n"
     ]
    },
    {
     "name": "stderr",
     "output_type": "stream",
     "text": [
      "C:\\Users\\Public\\Documents\\ESTsoft\\CreatorTemp\\ipykernel_33588\\3917152087.py:80: UserWarning: FixedFormatter should only be used together with FixedLocator\n",
      "  ax[0,1].set_xticklabels(x, rotation=45, ha='right');\n",
      "C:\\Users\\Public\\Documents\\ESTsoft\\CreatorTemp\\ipykernel_33588\\3917152087.py:90: UserWarning: FixedFormatter should only be used together with FixedLocator\n",
      "  ax[1,1].set_xticklabels(x, rotation=45, ha='right');\n"
     ]
    },
    {
     "name": "stdout",
     "output_type": "stream",
     "text": [
      "1082-640-4-4-Crossmodal-PER-deep-(-4.8 mm)-TT10.3 ////// 292/878 completed  //////  0 min 0.92 sec\n"
     ]
    },
    {
     "name": "stderr",
     "output_type": "stream",
     "text": [
      "C:\\Users\\Public\\Documents\\ESTsoft\\CreatorTemp\\ipykernel_33588\\3917152087.py:80: UserWarning: FixedFormatter should only be used together with FixedLocator\n",
      "  ax[0,1].set_xticklabels(x, rotation=45, ha='right');\n",
      "C:\\Users\\Public\\Documents\\ESTsoft\\CreatorTemp\\ipykernel_33588\\3917152087.py:88: MatplotlibDeprecationWarning: Support for passing numbers through unit converters is deprecated since 3.5 and support will be removed two minor releases later; use Axis.convert_units instead.\n",
      "  ax[1,1].scatter(np.where(sig)[0],np.tile(0.1,(sum(sig),1)),marker='*',color='black')\n",
      "C:\\Users\\Public\\Documents\\ESTsoft\\CreatorTemp\\ipykernel_33588\\3917152087.py:90: UserWarning: FixedFormatter should only be used together with FixedLocator\n",
      "  ax[1,1].set_xticklabels(x, rotation=45, ha='right');\n"
     ]
    },
    {
     "name": "stdout",
     "output_type": "stream",
     "text": [
      "1085-640-4-4-Crossmodal-PER-deep-(-4.56 mm)-TT11.1 ////// 294/878 completed  //////  0 min 0.86 sec\n"
     ]
    },
    {
     "name": "stderr",
     "output_type": "stream",
     "text": [
      "C:\\Users\\Public\\Documents\\ESTsoft\\CreatorTemp\\ipykernel_33588\\3917152087.py:80: UserWarning: FixedFormatter should only be used together with FixedLocator\n",
      "  ax[0,1].set_xticklabels(x, rotation=45, ha='right');\n",
      "C:\\Users\\Public\\Documents\\ESTsoft\\CreatorTemp\\ipykernel_33588\\3917152087.py:90: UserWarning: FixedFormatter should only be used together with FixedLocator\n",
      "  ax[1,1].set_xticklabels(x, rotation=45, ha='right');\n"
     ]
    },
    {
     "name": "stdout",
     "output_type": "stream",
     "text": [
      "1089-640-4-4-Crossmodal-TeV-superficial-(-5.88 mm)-TT20.1 ////// 295/878 completed  //////  0 min 0.93 sec\n"
     ]
    },
    {
     "name": "stderr",
     "output_type": "stream",
     "text": [
      "C:\\Users\\Public\\Documents\\ESTsoft\\CreatorTemp\\ipykernel_33588\\3917152087.py:80: UserWarning: FixedFormatter should only be used together with FixedLocator\n",
      "  ax[0,1].set_xticklabels(x, rotation=45, ha='right');\n",
      "C:\\Users\\Public\\Documents\\ESTsoft\\CreatorTemp\\ipykernel_33588\\3917152087.py:90: UserWarning: FixedFormatter should only be used together with FixedLocator\n",
      "  ax[1,1].set_xticklabels(x, rotation=45, ha='right');\n"
     ]
    },
    {
     "name": "stdout",
     "output_type": "stream",
     "text": [
      "1091-640-4-4-Crossmodal-TeV-deep-(-5.88 mm)-TT22.1 ////// 296/878 completed  //////  0 min 0.89 sec\n"
     ]
    },
    {
     "name": "stderr",
     "output_type": "stream",
     "text": [
      "C:\\Users\\Public\\Documents\\ESTsoft\\CreatorTemp\\ipykernel_33588\\3917152087.py:80: UserWarning: FixedFormatter should only be used together with FixedLocator\n",
      "  ax[0,1].set_xticklabels(x, rotation=45, ha='right');\n",
      "C:\\Users\\Public\\Documents\\ESTsoft\\CreatorTemp\\ipykernel_33588\\3917152087.py:88: MatplotlibDeprecationWarning: Support for passing numbers through unit converters is deprecated since 3.5 and support will be removed two minor releases later; use Axis.convert_units instead.\n",
      "  ax[1,1].scatter(np.where(sig)[0],np.tile(0.1,(sum(sig),1)),marker='*',color='black')\n",
      "C:\\Users\\Public\\Documents\\ESTsoft\\CreatorTemp\\ipykernel_33588\\3917152087.py:90: UserWarning: FixedFormatter should only be used together with FixedLocator\n",
      "  ax[1,1].set_xticklabels(x, rotation=45, ha='right');\n"
     ]
    },
    {
     "name": "stdout",
     "output_type": "stream",
     "text": [
      "1095-640-4-4-Crossmodal-TeV-deep-(-5.88 mm)-TT22.5 ////// 299/878 completed  //////  0 min 0.78 sec\n"
     ]
    },
    {
     "name": "stderr",
     "output_type": "stream",
     "text": [
      "C:\\Users\\Public\\Documents\\ESTsoft\\CreatorTemp\\ipykernel_33588\\3917152087.py:80: UserWarning: FixedFormatter should only be used together with FixedLocator\n",
      "  ax[0,1].set_xticklabels(x, rotation=45, ha='right');\n",
      "C:\\Users\\Public\\Documents\\ESTsoft\\CreatorTemp\\ipykernel_33588\\3917152087.py:90: UserWarning: FixedFormatter should only be used together with FixedLocator\n",
      "  ax[1,1].set_xticklabels(x, rotation=45, ha='right');\n"
     ]
    },
    {
     "name": "stdout",
     "output_type": "stream",
     "text": [
      "1097-640-5-5-Crossmodal-fiber-na-(-6.12 mm)-TT3.1 ////// 301/878 completed  //////  0 min 1.22 sec\n"
     ]
    },
    {
     "name": "stderr",
     "output_type": "stream",
     "text": [
      "C:\\Users\\Public\\Documents\\ESTsoft\\CreatorTemp\\ipykernel_33588\\3917152087.py:80: UserWarning: FixedFormatter should only be used together with FixedLocator\n",
      "  ax[0,1].set_xticklabels(x, rotation=45, ha='right');\n",
      "C:\\Users\\Public\\Documents\\ESTsoft\\CreatorTemp\\ipykernel_33588\\3917152087.py:90: UserWarning: FixedFormatter should only be used together with FixedLocator\n",
      "  ax[1,1].set_xticklabels(x, rotation=45, ha='right');\n"
     ]
    },
    {
     "name": "stdout",
     "output_type": "stream",
     "text": [
      "1103-640-5-5-Crossmodal-PER-deep-(-4.8 mm)-TT10.2 ////// 302/878 completed  //////  0 min 1.24 sec\n"
     ]
    },
    {
     "name": "stderr",
     "output_type": "stream",
     "text": [
      "C:\\Users\\Public\\Documents\\ESTsoft\\CreatorTemp\\ipykernel_33588\\3917152087.py:80: UserWarning: FixedFormatter should only be used together with FixedLocator\n",
      "  ax[0,1].set_xticklabels(x, rotation=45, ha='right');\n",
      "C:\\Users\\Public\\Documents\\ESTsoft\\CreatorTemp\\ipykernel_33588\\3917152087.py:88: MatplotlibDeprecationWarning: Support for passing numbers through unit converters is deprecated since 3.5 and support will be removed two minor releases later; use Axis.convert_units instead.\n",
      "  ax[1,1].scatter(np.where(sig)[0],np.tile(0.1,(sum(sig),1)),marker='*',color='black')\n",
      "C:\\Users\\Public\\Documents\\ESTsoft\\CreatorTemp\\ipykernel_33588\\3917152087.py:90: UserWarning: FixedFormatter should only be used together with FixedLocator\n",
      "  ax[1,1].set_xticklabels(x, rotation=45, ha='right');\n"
     ]
    },
    {
     "name": "stdout",
     "output_type": "stream",
     "text": [
      "1105-640-5-5-Crossmodal-PER-superficial-(-4.56 mm)-TT13.2 ////// 303/878 completed  //////  0 min 0.94 sec\n"
     ]
    },
    {
     "name": "stderr",
     "output_type": "stream",
     "text": [
      "C:\\Users\\Public\\Documents\\ESTsoft\\CreatorTemp\\ipykernel_33588\\3917152087.py:80: UserWarning: FixedFormatter should only be used together with FixedLocator\n",
      "  ax[0,1].set_xticklabels(x, rotation=45, ha='right');\n",
      "C:\\Users\\Public\\Documents\\ESTsoft\\CreatorTemp\\ipykernel_33588\\3917152087.py:90: UserWarning: FixedFormatter should only be used together with FixedLocator\n",
      "  ax[1,1].set_xticklabels(x, rotation=45, ha='right');\n"
     ]
    },
    {
     "name": "stdout",
     "output_type": "stream",
     "text": [
      "1106-640-5-5-Crossmodal-PER-superficial-(-4.56 mm)-TT15.1 ////// 304/878 completed  //////  0 min 0.98 sec\n"
     ]
    },
    {
     "name": "stderr",
     "output_type": "stream",
     "text": [
      "C:\\Users\\Public\\Documents\\ESTsoft\\CreatorTemp\\ipykernel_33588\\3917152087.py:80: UserWarning: FixedFormatter should only be used together with FixedLocator\n",
      "  ax[0,1].set_xticklabels(x, rotation=45, ha='right');\n",
      "C:\\Users\\Public\\Documents\\ESTsoft\\CreatorTemp\\ipykernel_33588\\3917152087.py:90: UserWarning: FixedFormatter should only be used together with FixedLocator\n",
      "  ax[1,1].set_xticklabels(x, rotation=45, ha='right');\n"
     ]
    },
    {
     "name": "stdout",
     "output_type": "stream",
     "text": [
      "1115-640-5-5-Crossmodal-TeV-deep-(-5.88 mm)-TT22.2 ////// 306/878 completed  //////  0 min 1.47 sec\n"
     ]
    },
    {
     "name": "stderr",
     "output_type": "stream",
     "text": [
      "C:\\Users\\Public\\Documents\\ESTsoft\\CreatorTemp\\ipykernel_33588\\3917152087.py:80: UserWarning: FixedFormatter should only be used together with FixedLocator\n",
      "  ax[0,1].set_xticklabels(x, rotation=45, ha='right');\n",
      "C:\\Users\\Public\\Documents\\ESTsoft\\CreatorTemp\\ipykernel_33588\\3917152087.py:88: MatplotlibDeprecationWarning: Support for passing numbers through unit converters is deprecated since 3.5 and support will be removed two minor releases later; use Axis.convert_units instead.\n",
      "  ax[1,1].scatter(np.where(sig)[0],np.tile(0.1,(sum(sig),1)),marker='*',color='black')\n",
      "C:\\Users\\Public\\Documents\\ESTsoft\\CreatorTemp\\ipykernel_33588\\3917152087.py:90: UserWarning: FixedFormatter should only be used together with FixedLocator\n",
      "  ax[1,1].set_xticklabels(x, rotation=45, ha='right');\n"
     ]
    },
    {
     "name": "stdout",
     "output_type": "stream",
     "text": [
      "1117-640-5-5-Crossmodal-TeV-deep-(-5.88 mm)-TT22.4 ////// 308/878 completed  //////  0 min 1.44 sec\n"
     ]
    },
    {
     "name": "stderr",
     "output_type": "stream",
     "text": [
      "C:\\Users\\Public\\Documents\\ESTsoft\\CreatorTemp\\ipykernel_33588\\3917152087.py:80: UserWarning: FixedFormatter should only be used together with FixedLocator\n",
      "  ax[0,1].set_xticklabels(x, rotation=45, ha='right');\n",
      "C:\\Users\\Public\\Documents\\ESTsoft\\CreatorTemp\\ipykernel_33588\\3917152087.py:88: MatplotlibDeprecationWarning: Support for passing numbers through unit converters is deprecated since 3.5 and support will be removed two minor releases later; use Axis.convert_units instead.\n",
      "  ax[1,1].scatter(np.where(sig)[0],np.tile(0.1,(sum(sig),1)),marker='*',color='black')\n",
      "C:\\Users\\Public\\Documents\\ESTsoft\\CreatorTemp\\ipykernel_33588\\3917152087.py:90: UserWarning: FixedFormatter should only be used together with FixedLocator\n",
      "  ax[1,1].set_xticklabels(x, rotation=45, ha='right');\n"
     ]
    },
    {
     "name": "stdout",
     "output_type": "stream",
     "text": [
      "1118-640-5-5-Crossmodal-TeV-deep-(-5.88 mm)-TT22.5 ////// 309/878 completed  //////  0 min 1.42 sec\n"
     ]
    },
    {
     "name": "stderr",
     "output_type": "stream",
     "text": [
      "C:\\Users\\Public\\Documents\\ESTsoft\\CreatorTemp\\ipykernel_33588\\3917152087.py:80: UserWarning: FixedFormatter should only be used together with FixedLocator\n",
      "  ax[0,1].set_xticklabels(x, rotation=45, ha='right');\n",
      "C:\\Users\\Public\\Documents\\ESTsoft\\CreatorTemp\\ipykernel_33588\\3917152087.py:90: UserWarning: FixedFormatter should only be used together with FixedLocator\n",
      "  ax[1,1].set_xticklabels(x, rotation=45, ha='right');\n"
     ]
    },
    {
     "name": "stdout",
     "output_type": "stream",
     "text": [
      "1325-647-4-4-Crossmodal-PER-deep-(-6 mm)-TT5.2 ////// 312/878 completed  //////  0 min 1.02 sec\n"
     ]
    },
    {
     "name": "stderr",
     "output_type": "stream",
     "text": [
      "C:\\Users\\Public\\Documents\\ESTsoft\\CreatorTemp\\ipykernel_33588\\3917152087.py:80: UserWarning: FixedFormatter should only be used together with FixedLocator\n",
      "  ax[0,1].set_xticklabels(x, rotation=45, ha='right');\n",
      "C:\\Users\\Public\\Documents\\ESTsoft\\CreatorTemp\\ipykernel_33588\\3917152087.py:88: MatplotlibDeprecationWarning: Support for passing numbers through unit converters is deprecated since 3.5 and support will be removed two minor releases later; use Axis.convert_units instead.\n",
      "  ax[1,1].scatter(np.where(sig)[0],np.tile(0.1,(sum(sig),1)),marker='*',color='black')\n",
      "C:\\Users\\Public\\Documents\\ESTsoft\\CreatorTemp\\ipykernel_33588\\3917152087.py:90: UserWarning: FixedFormatter should only be used together with FixedLocator\n",
      "  ax[1,1].set_xticklabels(x, rotation=45, ha='right');\n"
     ]
    },
    {
     "name": "stdout",
     "output_type": "stream",
     "text": [
      "1327-647-4-4-Crossmodal-PER-deep-(-5.28 mm)-TT11.1 ////// 313/878 completed  //////  0 min 0.79 sec\n"
     ]
    },
    {
     "name": "stderr",
     "output_type": "stream",
     "text": [
      "C:\\Users\\Public\\Documents\\ESTsoft\\CreatorTemp\\ipykernel_33588\\3917152087.py:80: UserWarning: FixedFormatter should only be used together with FixedLocator\n",
      "  ax[0,1].set_xticklabels(x, rotation=45, ha='right');\n",
      "C:\\Users\\Public\\Documents\\ESTsoft\\CreatorTemp\\ipykernel_33588\\3917152087.py:90: UserWarning: FixedFormatter should only be used together with FixedLocator\n",
      "  ax[1,1].set_xticklabels(x, rotation=45, ha='right');\n"
     ]
    },
    {
     "name": "stdout",
     "output_type": "stream",
     "text": [
      "1330-647-4-4-Crossmodal-PER-deep-(-5.2 mm)-TT15.1 ////// 316/878 completed  //////  0 min 0.86 sec\n"
     ]
    },
    {
     "name": "stderr",
     "output_type": "stream",
     "text": [
      "C:\\Users\\Public\\Documents\\ESTsoft\\CreatorTemp\\ipykernel_33588\\3917152087.py:80: UserWarning: FixedFormatter should only be used together with FixedLocator\n",
      "  ax[0,1].set_xticklabels(x, rotation=45, ha='right');\n",
      "C:\\Users\\Public\\Documents\\ESTsoft\\CreatorTemp\\ipykernel_33588\\3917152087.py:88: MatplotlibDeprecationWarning: Support for passing numbers through unit converters is deprecated since 3.5 and support will be removed two minor releases later; use Axis.convert_units instead.\n",
      "  ax[1,1].scatter(np.where(sig)[0],np.tile(0.1,(sum(sig),1)),marker='*',color='black')\n",
      "C:\\Users\\Public\\Documents\\ESTsoft\\CreatorTemp\\ipykernel_33588\\3917152087.py:90: UserWarning: FixedFormatter should only be used together with FixedLocator\n",
      "  ax[1,1].set_xticklabels(x, rotation=45, ha='right');\n"
     ]
    },
    {
     "name": "stdout",
     "output_type": "stream",
     "text": [
      "1334-647-4-4-Crossmodal-TeV-superficial-(-5.52 mm)-TT16.2 ////// 318/878 completed  //////  0 min 0.80 sec\n"
     ]
    },
    {
     "name": "stderr",
     "output_type": "stream",
     "text": [
      "C:\\Users\\Public\\Documents\\ESTsoft\\CreatorTemp\\ipykernel_33588\\3917152087.py:80: UserWarning: FixedFormatter should only be used together with FixedLocator\n",
      "  ax[0,1].set_xticklabels(x, rotation=45, ha='right');\n",
      "C:\\Users\\Public\\Documents\\ESTsoft\\CreatorTemp\\ipykernel_33588\\3917152087.py:88: MatplotlibDeprecationWarning: Support for passing numbers through unit converters is deprecated since 3.5 and support will be removed two minor releases later; use Axis.convert_units instead.\n",
      "  ax[1,1].scatter(np.where(sig)[0],np.tile(0.1,(sum(sig),1)),marker='*',color='black')\n",
      "C:\\Users\\Public\\Documents\\ESTsoft\\CreatorTemp\\ipykernel_33588\\3917152087.py:90: UserWarning: FixedFormatter should only be used together with FixedLocator\n",
      "  ax[1,1].set_xticklabels(x, rotation=45, ha='right');\n"
     ]
    },
    {
     "name": "stdout",
     "output_type": "stream",
     "text": [
      "1335-647-4-4-Crossmodal-PER-superficial-(-5.64 mm)-TT17.1 ////// 319/878 completed  //////  0 min 0.85 sec\n"
     ]
    },
    {
     "name": "stderr",
     "output_type": "stream",
     "text": [
      "C:\\Users\\Public\\Documents\\ESTsoft\\CreatorTemp\\ipykernel_33588\\3917152087.py:80: UserWarning: FixedFormatter should only be used together with FixedLocator\n",
      "  ax[0,1].set_xticklabels(x, rotation=45, ha='right');\n",
      "C:\\Users\\Public\\Documents\\ESTsoft\\CreatorTemp\\ipykernel_33588\\3917152087.py:90: UserWarning: FixedFormatter should only be used together with FixedLocator\n",
      "  ax[1,1].set_xticklabels(x, rotation=45, ha='right');\n"
     ]
    },
    {
     "name": "stdout",
     "output_type": "stream",
     "text": [
      "1336-647-4-4-Crossmodal-PER-superficial-(-5.64 mm)-TT17.2 ////// 320/878 completed  //////  0 min 0.83 sec\n"
     ]
    },
    {
     "name": "stderr",
     "output_type": "stream",
     "text": [
      "C:\\Users\\Public\\Documents\\ESTsoft\\CreatorTemp\\ipykernel_33588\\3917152087.py:80: UserWarning: FixedFormatter should only be used together with FixedLocator\n",
      "  ax[0,1].set_xticklabels(x, rotation=45, ha='right');\n",
      "C:\\Users\\Public\\Documents\\ESTsoft\\CreatorTemp\\ipykernel_33588\\3917152087.py:88: MatplotlibDeprecationWarning: Support for passing numbers through unit converters is deprecated since 3.5 and support will be removed two minor releases later; use Axis.convert_units instead.\n",
      "  ax[1,1].scatter(np.where(sig)[0],np.tile(0.1,(sum(sig),1)),marker='*',color='black')\n",
      "C:\\Users\\Public\\Documents\\ESTsoft\\CreatorTemp\\ipykernel_33588\\3917152087.py:90: UserWarning: FixedFormatter should only be used together with FixedLocator\n",
      "  ax[1,1].set_xticklabels(x, rotation=45, ha='right');\n"
     ]
    },
    {
     "name": "stdout",
     "output_type": "stream",
     "text": [
      "1339-647-4-4-Crossmodal-PER-superficial-(-5.64 mm)-TT17.5 ////// 323/878 completed  //////  0 min 0.85 sec\n"
     ]
    },
    {
     "name": "stderr",
     "output_type": "stream",
     "text": [
      "C:\\Users\\Public\\Documents\\ESTsoft\\CreatorTemp\\ipykernel_33588\\3917152087.py:80: UserWarning: FixedFormatter should only be used together with FixedLocator\n",
      "  ax[0,1].set_xticklabels(x, rotation=45, ha='right');\n",
      "C:\\Users\\Public\\Documents\\ESTsoft\\CreatorTemp\\ipykernel_33588\\3917152087.py:90: UserWarning: FixedFormatter should only be used together with FixedLocator\n",
      "  ax[1,1].set_xticklabels(x, rotation=45, ha='right');\n"
     ]
    },
    {
     "name": "stdout",
     "output_type": "stream",
     "text": [
      "1340-647-4-4-Crossmodal-PER-superficial-(-5.64 mm)-TT17.6 ////// 324/878 completed  //////  0 min 0.91 sec\n"
     ]
    },
    {
     "name": "stderr",
     "output_type": "stream",
     "text": [
      "C:\\Users\\Public\\Documents\\ESTsoft\\CreatorTemp\\ipykernel_33588\\3917152087.py:80: UserWarning: FixedFormatter should only be used together with FixedLocator\n",
      "  ax[0,1].set_xticklabels(x, rotation=45, ha='right');\n",
      "C:\\Users\\Public\\Documents\\ESTsoft\\CreatorTemp\\ipykernel_33588\\3917152087.py:90: UserWarning: FixedFormatter should only be used together with FixedLocator\n",
      "  ax[1,1].set_xticklabels(x, rotation=45, ha='right');\n"
     ]
    },
    {
     "name": "stdout",
     "output_type": "stream",
     "text": [
      "1341-647-4-4-Crossmodal-PER-superficial-(-5.88 mm)-TT19.1 ////// 325/878 completed  //////  0 min 0.83 sec\n"
     ]
    },
    {
     "name": "stderr",
     "output_type": "stream",
     "text": [
      "C:\\Users\\Public\\Documents\\ESTsoft\\CreatorTemp\\ipykernel_33588\\3917152087.py:80: UserWarning: FixedFormatter should only be used together with FixedLocator\n",
      "  ax[0,1].set_xticklabels(x, rotation=45, ha='right');\n",
      "C:\\Users\\Public\\Documents\\ESTsoft\\CreatorTemp\\ipykernel_33588\\3917152087.py:90: UserWarning: FixedFormatter should only be used together with FixedLocator\n",
      "  ax[1,1].set_xticklabels(x, rotation=45, ha='right');\n"
     ]
    },
    {
     "name": "stdout",
     "output_type": "stream",
     "text": [
      "1343-647-4-4-Crossmodal-PER-superficial-(-5.88 mm)-TT19.3 ////// 326/878 completed  //////  0 min 0.97 sec\n"
     ]
    },
    {
     "name": "stderr",
     "output_type": "stream",
     "text": [
      "C:\\Users\\Public\\Documents\\ESTsoft\\CreatorTemp\\ipykernel_33588\\3917152087.py:80: UserWarning: FixedFormatter should only be used together with FixedLocator\n",
      "  ax[0,1].set_xticklabels(x, rotation=45, ha='right');\n",
      "C:\\Users\\Public\\Documents\\ESTsoft\\CreatorTemp\\ipykernel_33588\\3917152087.py:90: UserWarning: FixedFormatter should only be used together with FixedLocator\n",
      "  ax[1,1].set_xticklabels(x, rotation=45, ha='right');\n"
     ]
    },
    {
     "name": "stdout",
     "output_type": "stream",
     "text": [
      "1345-647-4-4-Crossmodal-PER-superficial-(-5.88 mm)-TT19.5 ////// 327/878 completed  //////  0 min 0.85 sec\n"
     ]
    },
    {
     "name": "stderr",
     "output_type": "stream",
     "text": [
      "C:\\Users\\Public\\Documents\\ESTsoft\\CreatorTemp\\ipykernel_33588\\3917152087.py:80: UserWarning: FixedFormatter should only be used together with FixedLocator\n",
      "  ax[0,1].set_xticklabels(x, rotation=45, ha='right');\n",
      "C:\\Users\\Public\\Documents\\ESTsoft\\CreatorTemp\\ipykernel_33588\\3917152087.py:90: UserWarning: FixedFormatter should only be used together with FixedLocator\n",
      "  ax[1,1].set_xticklabels(x, rotation=45, ha='right');\n"
     ]
    },
    {
     "name": "stdout",
     "output_type": "stream",
     "text": [
      "1346-647-4-4-Crossmodal-TeV-deep-(-6.12 mm)-TT21.1 ////// 328/878 completed  //////  0 min 1.03 sec\n"
     ]
    },
    {
     "name": "stderr",
     "output_type": "stream",
     "text": [
      "C:\\Users\\Public\\Documents\\ESTsoft\\CreatorTemp\\ipykernel_33588\\3917152087.py:80: UserWarning: FixedFormatter should only be used together with FixedLocator\n",
      "  ax[0,1].set_xticklabels(x, rotation=45, ha='right');\n",
      "C:\\Users\\Public\\Documents\\ESTsoft\\CreatorTemp\\ipykernel_33588\\3917152087.py:90: UserWarning: FixedFormatter should only be used together with FixedLocator\n",
      "  ax[1,1].set_xticklabels(x, rotation=45, ha='right');\n"
     ]
    },
    {
     "name": "stdout",
     "output_type": "stream",
     "text": [
      "1347-647-4-4-Crossmodal-TeV-deep-(-6.12 mm)-TT21.2 ////// 329/878 completed  //////  0 min 1.00 sec\n"
     ]
    },
    {
     "name": "stderr",
     "output_type": "stream",
     "text": [
      "C:\\Users\\Public\\Documents\\ESTsoft\\CreatorTemp\\ipykernel_33588\\3917152087.py:80: UserWarning: FixedFormatter should only be used together with FixedLocator\n",
      "  ax[0,1].set_xticklabels(x, rotation=45, ha='right');\n",
      "C:\\Users\\Public\\Documents\\ESTsoft\\CreatorTemp\\ipykernel_33588\\3917152087.py:90: UserWarning: FixedFormatter should only be used together with FixedLocator\n",
      "  ax[1,1].set_xticklabels(x, rotation=45, ha='right');\n"
     ]
    },
    {
     "name": "stdout",
     "output_type": "stream",
     "text": [
      "1350-647-4-4-Crossmodal-TeV-deep-(-6.12 mm)-TT21.5 ////// 332/878 completed  //////  0 min 2.00 sec\n"
     ]
    },
    {
     "name": "stderr",
     "output_type": "stream",
     "text": [
      "C:\\Users\\Public\\Documents\\ESTsoft\\CreatorTemp\\ipykernel_33588\\3917152087.py:80: UserWarning: FixedFormatter should only be used together with FixedLocator\n",
      "  ax[0,1].set_xticklabels(x, rotation=45, ha='right');\n",
      "C:\\Users\\Public\\Documents\\ESTsoft\\CreatorTemp\\ipykernel_33588\\3917152087.py:88: MatplotlibDeprecationWarning: Support for passing numbers through unit converters is deprecated since 3.5 and support will be removed two minor releases later; use Axis.convert_units instead.\n",
      "  ax[1,1].scatter(np.where(sig)[0],np.tile(0.1,(sum(sig),1)),marker='*',color='black')\n",
      "C:\\Users\\Public\\Documents\\ESTsoft\\CreatorTemp\\ipykernel_33588\\3917152087.py:90: UserWarning: FixedFormatter should only be used together with FixedLocator\n",
      "  ax[1,1].set_xticklabels(x, rotation=45, ha='right');\n"
     ]
    },
    {
     "name": "stdout",
     "output_type": "stream",
     "text": [
      "1352-647-4-4-Crossmodal-TeV-deep-(-6.12 mm)-TT21.7 ////// 334/878 completed  //////  0 min 0.79 sec\n"
     ]
    },
    {
     "name": "stderr",
     "output_type": "stream",
     "text": [
      "C:\\Users\\Public\\Documents\\ESTsoft\\CreatorTemp\\ipykernel_33588\\3917152087.py:80: UserWarning: FixedFormatter should only be used together with FixedLocator\n",
      "  ax[0,1].set_xticklabels(x, rotation=45, ha='right');\n",
      "C:\\Users\\Public\\Documents\\ESTsoft\\CreatorTemp\\ipykernel_33588\\3917152087.py:90: UserWarning: FixedFormatter should only be used together with FixedLocator\n",
      "  ax[1,1].set_xticklabels(x, rotation=45, ha='right');\n"
     ]
    },
    {
     "name": "stdout",
     "output_type": "stream",
     "text": [
      "1353-647-5-5-Crossmodal-PER-deep-(-6 mm)-TT5.1 ////// 335/878 completed  //////  0 min 0.84 sec\n"
     ]
    },
    {
     "name": "stderr",
     "output_type": "stream",
     "text": [
      "C:\\Users\\Public\\Documents\\ESTsoft\\CreatorTemp\\ipykernel_33588\\3917152087.py:80: UserWarning: FixedFormatter should only be used together with FixedLocator\n",
      "  ax[0,1].set_xticklabels(x, rotation=45, ha='right');\n",
      "C:\\Users\\Public\\Documents\\ESTsoft\\CreatorTemp\\ipykernel_33588\\3917152087.py:90: UserWarning: FixedFormatter should only be used together with FixedLocator\n",
      "  ax[1,1].set_xticklabels(x, rotation=45, ha='right');\n"
     ]
    },
    {
     "name": "stdout",
     "output_type": "stream",
     "text": [
      "1354-647-5-5-Crossmodal-PER-deep-(-6 mm)-TT5.2 ////// 336/878 completed  //////  0 min 1.07 sec\n"
     ]
    },
    {
     "name": "stderr",
     "output_type": "stream",
     "text": [
      "C:\\Users\\Public\\Documents\\ESTsoft\\CreatorTemp\\ipykernel_33588\\3917152087.py:80: UserWarning: FixedFormatter should only be used together with FixedLocator\n",
      "  ax[0,1].set_xticklabels(x, rotation=45, ha='right');\n",
      "C:\\Users\\Public\\Documents\\ESTsoft\\CreatorTemp\\ipykernel_33588\\3917152087.py:90: UserWarning: FixedFormatter should only be used together with FixedLocator\n",
      "  ax[1,1].set_xticklabels(x, rotation=45, ha='right');\n"
     ]
    },
    {
     "name": "stdout",
     "output_type": "stream",
     "text": [
      "1358-647-5-5-Crossmodal-PER-deep-(-5.4 mm)-TT9.1 ////// 339/878 completed  //////  0 min 0.90 sec\n"
     ]
    },
    {
     "name": "stderr",
     "output_type": "stream",
     "text": [
      "C:\\Users\\Public\\Documents\\ESTsoft\\CreatorTemp\\ipykernel_33588\\3917152087.py:80: UserWarning: FixedFormatter should only be used together with FixedLocator\n",
      "  ax[0,1].set_xticklabels(x, rotation=45, ha='right');\n",
      "C:\\Users\\Public\\Documents\\ESTsoft\\CreatorTemp\\ipykernel_33588\\3917152087.py:90: UserWarning: FixedFormatter should only be used together with FixedLocator\n",
      "  ax[1,1].set_xticklabels(x, rotation=45, ha='right');\n"
     ]
    },
    {
     "name": "stdout",
     "output_type": "stream",
     "text": [
      "1361-647-5-5-Crossmodal-PER-superficial-(-5.28 mm)-TT11.2 ////// 341/878 completed  //////  0 min 0.88 sec\n"
     ]
    },
    {
     "name": "stderr",
     "output_type": "stream",
     "text": [
      "C:\\Users\\Public\\Documents\\ESTsoft\\CreatorTemp\\ipykernel_33588\\3917152087.py:80: UserWarning: FixedFormatter should only be used together with FixedLocator\n",
      "  ax[0,1].set_xticklabels(x, rotation=45, ha='right');\n",
      "C:\\Users\\Public\\Documents\\ESTsoft\\CreatorTemp\\ipykernel_33588\\3917152087.py:88: MatplotlibDeprecationWarning: Support for passing numbers through unit converters is deprecated since 3.5 and support will be removed two minor releases later; use Axis.convert_units instead.\n",
      "  ax[1,1].scatter(np.where(sig)[0],np.tile(0.1,(sum(sig),1)),marker='*',color='black')\n",
      "C:\\Users\\Public\\Documents\\ESTsoft\\CreatorTemp\\ipykernel_33588\\3917152087.py:90: UserWarning: FixedFormatter should only be used together with FixedLocator\n",
      "  ax[1,1].set_xticklabels(x, rotation=45, ha='right');\n"
     ]
    },
    {
     "name": "stdout",
     "output_type": "stream",
     "text": [
      "1362-647-5-5-Crossmodal-PER-superficial-(-5.4 mm)-TT13.1 ////// 342/878 completed  //////  0 min 0.87 sec\n"
     ]
    },
    {
     "name": "stderr",
     "output_type": "stream",
     "text": [
      "C:\\Users\\Public\\Documents\\ESTsoft\\CreatorTemp\\ipykernel_33588\\3917152087.py:80: UserWarning: FixedFormatter should only be used together with FixedLocator\n",
      "  ax[0,1].set_xticklabels(x, rotation=45, ha='right');\n",
      "C:\\Users\\Public\\Documents\\ESTsoft\\CreatorTemp\\ipykernel_33588\\3917152087.py:90: UserWarning: FixedFormatter should only be used together with FixedLocator\n",
      "  ax[1,1].set_xticklabels(x, rotation=45, ha='right');\n"
     ]
    },
    {
     "name": "stdout",
     "output_type": "stream",
     "text": [
      "1363-647-5-5-Crossmodal-PER-deep-(-5.2 mm)-TT15.1 ////// 343/878 completed  //////  0 min 0.80 sec\n"
     ]
    },
    {
     "name": "stderr",
     "output_type": "stream",
     "text": [
      "C:\\Users\\Public\\Documents\\ESTsoft\\CreatorTemp\\ipykernel_33588\\3917152087.py:80: UserWarning: FixedFormatter should only be used together with FixedLocator\n",
      "  ax[0,1].set_xticklabels(x, rotation=45, ha='right');\n",
      "C:\\Users\\Public\\Documents\\ESTsoft\\CreatorTemp\\ipykernel_33588\\3917152087.py:88: MatplotlibDeprecationWarning: Support for passing numbers through unit converters is deprecated since 3.5 and support will be removed two minor releases later; use Axis.convert_units instead.\n",
      "  ax[1,1].scatter(np.where(sig)[0],np.tile(0.1,(sum(sig),1)),marker='*',color='black')\n",
      "C:\\Users\\Public\\Documents\\ESTsoft\\CreatorTemp\\ipykernel_33588\\3917152087.py:90: UserWarning: FixedFormatter should only be used together with FixedLocator\n",
      "  ax[1,1].set_xticklabels(x, rotation=45, ha='right');\n"
     ]
    },
    {
     "name": "stdout",
     "output_type": "stream",
     "text": [
      "1366-647-5-5-Crossmodal-TeV-superficial-(-5.52 mm)-TT16.1 ////// 344/878 completed  //////  0 min 0.81 sec\n"
     ]
    },
    {
     "name": "stderr",
     "output_type": "stream",
     "text": [
      "C:\\Users\\Public\\Documents\\ESTsoft\\CreatorTemp\\ipykernel_33588\\3917152087.py:80: UserWarning: FixedFormatter should only be used together with FixedLocator\n",
      "  ax[0,1].set_xticklabels(x, rotation=45, ha='right');\n",
      "C:\\Users\\Public\\Documents\\ESTsoft\\CreatorTemp\\ipykernel_33588\\3917152087.py:90: UserWarning: FixedFormatter should only be used together with FixedLocator\n",
      "  ax[1,1].set_xticklabels(x, rotation=45, ha='right');\n"
     ]
    },
    {
     "name": "stdout",
     "output_type": "stream",
     "text": [
      "1367-647-5-5-Crossmodal-TeV-superficial-(-5.52 mm)-TT16.2 ////// 345/878 completed  //////  0 min 0.80 sec\n"
     ]
    },
    {
     "name": "stderr",
     "output_type": "stream",
     "text": [
      "C:\\Users\\Public\\Documents\\ESTsoft\\CreatorTemp\\ipykernel_33588\\3917152087.py:80: UserWarning: FixedFormatter should only be used together with FixedLocator\n",
      "  ax[0,1].set_xticklabels(x, rotation=45, ha='right');\n",
      "C:\\Users\\Public\\Documents\\ESTsoft\\CreatorTemp\\ipykernel_33588\\3917152087.py:90: UserWarning: FixedFormatter should only be used together with FixedLocator\n",
      "  ax[1,1].set_xticklabels(x, rotation=45, ha='right');\n"
     ]
    },
    {
     "name": "stdout",
     "output_type": "stream",
     "text": [
      "1374-647-5-5-Crossmodal-PER-superficial-(-5.88 mm)-TT19.3 ////// 349/878 completed  //////  0 min 0.92 sec\n"
     ]
    },
    {
     "name": "stderr",
     "output_type": "stream",
     "text": [
      "C:\\Users\\Public\\Documents\\ESTsoft\\CreatorTemp\\ipykernel_33588\\3917152087.py:80: UserWarning: FixedFormatter should only be used together with FixedLocator\n",
      "  ax[0,1].set_xticklabels(x, rotation=45, ha='right');\n",
      "C:\\Users\\Public\\Documents\\ESTsoft\\CreatorTemp\\ipykernel_33588\\3917152087.py:90: UserWarning: FixedFormatter should only be used together with FixedLocator\n",
      "  ax[1,1].set_xticklabels(x, rotation=45, ha='right');\n"
     ]
    },
    {
     "name": "stdout",
     "output_type": "stream",
     "text": [
      "1377-647-5-5-Crossmodal-TeV-deep-(-6.12 mm)-TT21.1 ////// 350/878 completed  //////  0 min 0.99 sec\n"
     ]
    },
    {
     "name": "stderr",
     "output_type": "stream",
     "text": [
      "C:\\Users\\Public\\Documents\\ESTsoft\\CreatorTemp\\ipykernel_33588\\3917152087.py:80: UserWarning: FixedFormatter should only be used together with FixedLocator\n",
      "  ax[0,1].set_xticklabels(x, rotation=45, ha='right');\n",
      "C:\\Users\\Public\\Documents\\ESTsoft\\CreatorTemp\\ipykernel_33588\\3917152087.py:90: UserWarning: FixedFormatter should only be used together with FixedLocator\n",
      "  ax[1,1].set_xticklabels(x, rotation=45, ha='right');\n"
     ]
    },
    {
     "name": "stdout",
     "output_type": "stream",
     "text": [
      "1378-647-5-5-Crossmodal-TeV-deep-(-6.12 mm)-TT21.2 ////// 351/878 completed  //////  0 min 0.90 sec\n"
     ]
    },
    {
     "name": "stderr",
     "output_type": "stream",
     "text": [
      "C:\\Users\\Public\\Documents\\ESTsoft\\CreatorTemp\\ipykernel_33588\\3917152087.py:80: UserWarning: FixedFormatter should only be used together with FixedLocator\n",
      "  ax[0,1].set_xticklabels(x, rotation=45, ha='right');\n",
      "C:\\Users\\Public\\Documents\\ESTsoft\\CreatorTemp\\ipykernel_33588\\3917152087.py:90: UserWarning: FixedFormatter should only be used together with FixedLocator\n",
      "  ax[1,1].set_xticklabels(x, rotation=45, ha='right');\n"
     ]
    },
    {
     "name": "stdout",
     "output_type": "stream",
     "text": [
      "1380-647-5-5-Crossmodal-TeV-deep-(-6.12 mm)-TT21.4 ////// 353/878 completed  //////  0 min 0.94 sec\n"
     ]
    },
    {
     "name": "stderr",
     "output_type": "stream",
     "text": [
      "C:\\Users\\Public\\Documents\\ESTsoft\\CreatorTemp\\ipykernel_33588\\3917152087.py:80: UserWarning: FixedFormatter should only be used together with FixedLocator\n",
      "  ax[0,1].set_xticklabels(x, rotation=45, ha='right');\n",
      "C:\\Users\\Public\\Documents\\ESTsoft\\CreatorTemp\\ipykernel_33588\\3917152087.py:90: UserWarning: FixedFormatter should only be used together with FixedLocator\n",
      "  ax[1,1].set_xticklabels(x, rotation=45, ha='right');\n"
     ]
    },
    {
     "name": "stdout",
     "output_type": "stream",
     "text": [
      "1383-647-6-6-Crossmodal-PER-deep-(-5.4 mm)-TT9.1 ////// 355/878 completed  //////  0 min 0.83 sec\n"
     ]
    },
    {
     "name": "stderr",
     "output_type": "stream",
     "text": [
      "C:\\Users\\Public\\Documents\\ESTsoft\\CreatorTemp\\ipykernel_33588\\3917152087.py:80: UserWarning: FixedFormatter should only be used together with FixedLocator\n",
      "  ax[0,1].set_xticklabels(x, rotation=45, ha='right');\n",
      "C:\\Users\\Public\\Documents\\ESTsoft\\CreatorTemp\\ipykernel_33588\\3917152087.py:90: UserWarning: FixedFormatter should only be used together with FixedLocator\n",
      "  ax[1,1].set_xticklabels(x, rotation=45, ha='right');\n"
     ]
    },
    {
     "name": "stdout",
     "output_type": "stream",
     "text": [
      "1391-647-6-6-Crossmodal-PER-deep-(-5.2 mm)-TT15.4 ////// 357/878 completed  //////  0 min 0.97 sec\n"
     ]
    },
    {
     "name": "stderr",
     "output_type": "stream",
     "text": [
      "C:\\Users\\Public\\Documents\\ESTsoft\\CreatorTemp\\ipykernel_33588\\3917152087.py:80: UserWarning: FixedFormatter should only be used together with FixedLocator\n",
      "  ax[0,1].set_xticklabels(x, rotation=45, ha='right');\n",
      "C:\\Users\\Public\\Documents\\ESTsoft\\CreatorTemp\\ipykernel_33588\\3917152087.py:90: UserWarning: FixedFormatter should only be used together with FixedLocator\n",
      "  ax[1,1].set_xticklabels(x, rotation=45, ha='right');\n"
     ]
    },
    {
     "name": "stdout",
     "output_type": "stream",
     "text": [
      "1392-647-6-6-Crossmodal-PER-deep-(-5.2 mm)-TT15.5 ////// 358/878 completed  //////  0 min 1.04 sec\n"
     ]
    },
    {
     "name": "stderr",
     "output_type": "stream",
     "text": [
      "C:\\Users\\Public\\Documents\\ESTsoft\\CreatorTemp\\ipykernel_33588\\3917152087.py:80: UserWarning: FixedFormatter should only be used together with FixedLocator\n",
      "  ax[0,1].set_xticklabels(x, rotation=45, ha='right');\n",
      "C:\\Users\\Public\\Documents\\ESTsoft\\CreatorTemp\\ipykernel_33588\\3917152087.py:90: UserWarning: FixedFormatter should only be used together with FixedLocator\n",
      "  ax[1,1].set_xticklabels(x, rotation=45, ha='right');\n"
     ]
    },
    {
     "name": "stdout",
     "output_type": "stream",
     "text": [
      "1393-647-6-6-Crossmodal-TeV-superficial-(-5.52 mm)-TT16.1 ////// 359/878 completed  //////  0 min 0.91 sec\n"
     ]
    },
    {
     "name": "stderr",
     "output_type": "stream",
     "text": [
      "C:\\Users\\Public\\Documents\\ESTsoft\\CreatorTemp\\ipykernel_33588\\3917152087.py:80: UserWarning: FixedFormatter should only be used together with FixedLocator\n",
      "  ax[0,1].set_xticklabels(x, rotation=45, ha='right');\n",
      "C:\\Users\\Public\\Documents\\ESTsoft\\CreatorTemp\\ipykernel_33588\\3917152087.py:90: UserWarning: FixedFormatter should only be used together with FixedLocator\n",
      "  ax[1,1].set_xticklabels(x, rotation=45, ha='right');\n"
     ]
    },
    {
     "name": "stdout",
     "output_type": "stream",
     "text": [
      "1394-647-6-6-Crossmodal-TeV-superficial-(-5.52 mm)-TT16.2 ////// 360/878 completed  //////  0 min 0.83 sec\n"
     ]
    },
    {
     "name": "stderr",
     "output_type": "stream",
     "text": [
      "C:\\Users\\Public\\Documents\\ESTsoft\\CreatorTemp\\ipykernel_33588\\3917152087.py:80: UserWarning: FixedFormatter should only be used together with FixedLocator\n",
      "  ax[0,1].set_xticklabels(x, rotation=45, ha='right');\n",
      "C:\\Users\\Public\\Documents\\ESTsoft\\CreatorTemp\\ipykernel_33588\\3917152087.py:90: UserWarning: FixedFormatter should only be used together with FixedLocator\n",
      "  ax[1,1].set_xticklabels(x, rotation=45, ha='right');\n"
     ]
    },
    {
     "name": "stdout",
     "output_type": "stream",
     "text": [
      "1395-647-6-6-Crossmodal-TeV-superficial-(-5.52 mm)-TT16.3 ////// 361/878 completed  //////  0 min 0.82 sec\n"
     ]
    },
    {
     "name": "stderr",
     "output_type": "stream",
     "text": [
      "C:\\Users\\Public\\Documents\\ESTsoft\\CreatorTemp\\ipykernel_33588\\3917152087.py:80: UserWarning: FixedFormatter should only be used together with FixedLocator\n",
      "  ax[0,1].set_xticklabels(x, rotation=45, ha='right');\n",
      "C:\\Users\\Public\\Documents\\ESTsoft\\CreatorTemp\\ipykernel_33588\\3917152087.py:90: UserWarning: FixedFormatter should only be used together with FixedLocator\n",
      "  ax[1,1].set_xticklabels(x, rotation=45, ha='right');\n"
     ]
    },
    {
     "name": "stdout",
     "output_type": "stream",
     "text": [
      "1401-647-6-6-Crossmodal-PER-superficial-(-5.88 mm)-TT19.3 ////// 364/878 completed  //////  0 min 0.84 sec\n"
     ]
    },
    {
     "name": "stderr",
     "output_type": "stream",
     "text": [
      "C:\\Users\\Public\\Documents\\ESTsoft\\CreatorTemp\\ipykernel_33588\\3917152087.py:80: UserWarning: FixedFormatter should only be used together with FixedLocator\n",
      "  ax[0,1].set_xticklabels(x, rotation=45, ha='right');\n",
      "C:\\Users\\Public\\Documents\\ESTsoft\\CreatorTemp\\ipykernel_33588\\3917152087.py:90: UserWarning: FixedFormatter should only be used together with FixedLocator\n",
      "  ax[1,1].set_xticklabels(x, rotation=45, ha='right');\n"
     ]
    },
    {
     "name": "stdout",
     "output_type": "stream",
     "text": [
      "1406-647-6-6-Crossmodal-TeV-deep-(-6.12 mm)-TT21.2 ////// 366/878 completed  //////  0 min 0.85 sec\n"
     ]
    },
    {
     "name": "stderr",
     "output_type": "stream",
     "text": [
      "C:\\Users\\Public\\Documents\\ESTsoft\\CreatorTemp\\ipykernel_33588\\3917152087.py:80: UserWarning: FixedFormatter should only be used together with FixedLocator\n",
      "  ax[0,1].set_xticklabels(x, rotation=45, ha='right');\n",
      "C:\\Users\\Public\\Documents\\ESTsoft\\CreatorTemp\\ipykernel_33588\\3917152087.py:88: MatplotlibDeprecationWarning: Support for passing numbers through unit converters is deprecated since 3.5 and support will be removed two minor releases later; use Axis.convert_units instead.\n",
      "  ax[1,1].scatter(np.where(sig)[0],np.tile(0.1,(sum(sig),1)),marker='*',color='black')\n",
      "C:\\Users\\Public\\Documents\\ESTsoft\\CreatorTemp\\ipykernel_33588\\3917152087.py:90: UserWarning: FixedFormatter should only be used together with FixedLocator\n",
      "  ax[1,1].set_xticklabels(x, rotation=45, ha='right');\n"
     ]
    },
    {
     "name": "stdout",
     "output_type": "stream",
     "text": [
      "1407-647-6-6-Crossmodal-TeV-deep-(-6.12 mm)-TT21.3 ////// 367/878 completed  //////  0 min 0.86 sec\n"
     ]
    },
    {
     "name": "stderr",
     "output_type": "stream",
     "text": [
      "C:\\Users\\Public\\Documents\\ESTsoft\\CreatorTemp\\ipykernel_33588\\3917152087.py:80: UserWarning: FixedFormatter should only be used together with FixedLocator\n",
      "  ax[0,1].set_xticklabels(x, rotation=45, ha='right');\n",
      "C:\\Users\\Public\\Documents\\ESTsoft\\CreatorTemp\\ipykernel_33588\\3917152087.py:90: UserWarning: FixedFormatter should only be used together with FixedLocator\n",
      "  ax[1,1].set_xticklabels(x, rotation=45, ha='right');\n"
     ]
    },
    {
     "name": "stdout",
     "output_type": "stream",
     "text": [
      "1408-647-6-6-Crossmodal-TeV-deep-(-6.12 mm)-TT21.4 ////// 368/878 completed  //////  0 min 0.93 sec\n"
     ]
    },
    {
     "name": "stderr",
     "output_type": "stream",
     "text": [
      "C:\\Users\\Public\\Documents\\ESTsoft\\CreatorTemp\\ipykernel_33588\\3917152087.py:80: UserWarning: FixedFormatter should only be used together with FixedLocator\n",
      "  ax[0,1].set_xticklabels(x, rotation=45, ha='right');\n",
      "C:\\Users\\Public\\Documents\\ESTsoft\\CreatorTemp\\ipykernel_33588\\3917152087.py:88: MatplotlibDeprecationWarning: Support for passing numbers through unit converters is deprecated since 3.5 and support will be removed two minor releases later; use Axis.convert_units instead.\n",
      "  ax[1,1].scatter(np.where(sig)[0],np.tile(0.1,(sum(sig),1)),marker='*',color='black')\n",
      "C:\\Users\\Public\\Documents\\ESTsoft\\CreatorTemp\\ipykernel_33588\\3917152087.py:90: UserWarning: FixedFormatter should only be used together with FixedLocator\n",
      "  ax[1,1].set_xticklabels(x, rotation=45, ha='right');\n"
     ]
    },
    {
     "name": "stdout",
     "output_type": "stream",
     "text": [
      "1409-647-6-6-Crossmodal-TeV-deep-(-6.12 mm)-TT21.5 ////// 369/878 completed  //////  0 min 0.99 sec\n"
     ]
    },
    {
     "name": "stderr",
     "output_type": "stream",
     "text": [
      "C:\\Users\\Public\\Documents\\ESTsoft\\CreatorTemp\\ipykernel_33588\\3917152087.py:80: UserWarning: FixedFormatter should only be used together with FixedLocator\n",
      "  ax[0,1].set_xticklabels(x, rotation=45, ha='right');\n",
      "C:\\Users\\Public\\Documents\\ESTsoft\\CreatorTemp\\ipykernel_33588\\3917152087.py:88: MatplotlibDeprecationWarning: Support for passing numbers through unit converters is deprecated since 3.5 and support will be removed two minor releases later; use Axis.convert_units instead.\n",
      "  ax[1,1].scatter(np.where(sig)[0],np.tile(0.1,(sum(sig),1)),marker='*',color='black')\n",
      "C:\\Users\\Public\\Documents\\ESTsoft\\CreatorTemp\\ipykernel_33588\\3917152087.py:90: UserWarning: FixedFormatter should only be used together with FixedLocator\n",
      "  ax[1,1].set_xticklabels(x, rotation=45, ha='right');\n"
     ]
    },
    {
     "name": "stdout",
     "output_type": "stream",
     "text": [
      "1411-647-7-7-Crossmodal-PER-superficial-(-5.28 mm)-TT11.1 ////// 371/878 completed  //////  0 min 1.00 sec\n"
     ]
    },
    {
     "name": "stderr",
     "output_type": "stream",
     "text": [
      "C:\\Users\\Public\\Documents\\ESTsoft\\CreatorTemp\\ipykernel_33588\\3917152087.py:80: UserWarning: FixedFormatter should only be used together with FixedLocator\n",
      "  ax[0,1].set_xticklabels(x, rotation=45, ha='right');\n",
      "C:\\Users\\Public\\Documents\\ESTsoft\\CreatorTemp\\ipykernel_33588\\3917152087.py:90: UserWarning: FixedFormatter should only be used together with FixedLocator\n",
      "  ax[1,1].set_xticklabels(x, rotation=45, ha='right');\n"
     ]
    },
    {
     "name": "stdout",
     "output_type": "stream",
     "text": [
      "1413-647-7-7-Crossmodal-PER-deep-(-5.2 mm)-TT15.2 ////// 372/878 completed  //////  0 min 0.81 sec\n"
     ]
    },
    {
     "name": "stderr",
     "output_type": "stream",
     "text": [
      "C:\\Users\\Public\\Documents\\ESTsoft\\CreatorTemp\\ipykernel_33588\\3917152087.py:80: UserWarning: FixedFormatter should only be used together with FixedLocator\n",
      "  ax[0,1].set_xticklabels(x, rotation=45, ha='right');\n",
      "C:\\Users\\Public\\Documents\\ESTsoft\\CreatorTemp\\ipykernel_33588\\3917152087.py:90: UserWarning: FixedFormatter should only be used together with FixedLocator\n",
      "  ax[1,1].set_xticklabels(x, rotation=45, ha='right');\n"
     ]
    },
    {
     "name": "stdout",
     "output_type": "stream",
     "text": [
      "1414-647-7-7-Crossmodal-PER-deep-(-5.2 mm)-TT15.3 ////// 373/878 completed  //////  0 min 1.05 sec\n"
     ]
    },
    {
     "name": "stderr",
     "output_type": "stream",
     "text": [
      "C:\\Users\\Public\\Documents\\ESTsoft\\CreatorTemp\\ipykernel_33588\\3917152087.py:80: UserWarning: FixedFormatter should only be used together with FixedLocator\n",
      "  ax[0,1].set_xticklabels(x, rotation=45, ha='right');\n",
      "C:\\Users\\Public\\Documents\\ESTsoft\\CreatorTemp\\ipykernel_33588\\3917152087.py:90: UserWarning: FixedFormatter should only be used together with FixedLocator\n",
      "  ax[1,1].set_xticklabels(x, rotation=45, ha='right');\n"
     ]
    },
    {
     "name": "stdout",
     "output_type": "stream",
     "text": [
      "1421-647-7-7-Crossmodal-PER-superficial-(-5.88 mm)-TT19.2 ////// 375/878 completed  //////  0 min 0.89 sec\n"
     ]
    },
    {
     "name": "stderr",
     "output_type": "stream",
     "text": [
      "C:\\Users\\Public\\Documents\\ESTsoft\\CreatorTemp\\ipykernel_33588\\3917152087.py:80: UserWarning: FixedFormatter should only be used together with FixedLocator\n",
      "  ax[0,1].set_xticklabels(x, rotation=45, ha='right');\n",
      "C:\\Users\\Public\\Documents\\ESTsoft\\CreatorTemp\\ipykernel_33588\\3917152087.py:90: UserWarning: FixedFormatter should only be used together with FixedLocator\n",
      "  ax[1,1].set_xticklabels(x, rotation=45, ha='right');\n"
     ]
    },
    {
     "name": "stdout",
     "output_type": "stream",
     "text": [
      "1423-647-7-7-Crossmodal-TeV-deep-(-6.12 mm)-TT21.1 ////// 376/878 completed  //////  0 min 0.85 sec\n"
     ]
    },
    {
     "name": "stderr",
     "output_type": "stream",
     "text": [
      "C:\\Users\\Public\\Documents\\ESTsoft\\CreatorTemp\\ipykernel_33588\\3917152087.py:80: UserWarning: FixedFormatter should only be used together with FixedLocator\n",
      "  ax[0,1].set_xticklabels(x, rotation=45, ha='right');\n",
      "C:\\Users\\Public\\Documents\\ESTsoft\\CreatorTemp\\ipykernel_33588\\3917152087.py:88: MatplotlibDeprecationWarning: Support for passing numbers through unit converters is deprecated since 3.5 and support will be removed two minor releases later; use Axis.convert_units instead.\n",
      "  ax[1,1].scatter(np.where(sig)[0],np.tile(0.1,(sum(sig),1)),marker='*',color='black')\n",
      "C:\\Users\\Public\\Documents\\ESTsoft\\CreatorTemp\\ipykernel_33588\\3917152087.py:90: UserWarning: FixedFormatter should only be used together with FixedLocator\n",
      "  ax[1,1].set_xticklabels(x, rotation=45, ha='right');\n"
     ]
    },
    {
     "name": "stdout",
     "output_type": "stream",
     "text": [
      "1425-647-7-7-Crossmodal-TeV-deep-(-6.12 mm)-TT21.3 ////// 377/878 completed  //////  0 min 0.95 sec\n"
     ]
    },
    {
     "name": "stderr",
     "output_type": "stream",
     "text": [
      "C:\\Users\\Public\\Documents\\ESTsoft\\CreatorTemp\\ipykernel_33588\\3917152087.py:80: UserWarning: FixedFormatter should only be used together with FixedLocator\n",
      "  ax[0,1].set_xticklabels(x, rotation=45, ha='right');\n",
      "C:\\Users\\Public\\Documents\\ESTsoft\\CreatorTemp\\ipykernel_33588\\3917152087.py:88: MatplotlibDeprecationWarning: Support for passing numbers through unit converters is deprecated since 3.5 and support will be removed two minor releases later; use Axis.convert_units instead.\n",
      "  ax[1,1].scatter(np.where(sig)[0],np.tile(0.1,(sum(sig),1)),marker='*',color='black')\n",
      "C:\\Users\\Public\\Documents\\ESTsoft\\CreatorTemp\\ipykernel_33588\\3917152087.py:90: UserWarning: FixedFormatter should only be used together with FixedLocator\n",
      "  ax[1,1].set_xticklabels(x, rotation=45, ha='right');\n"
     ]
    },
    {
     "name": "stdout",
     "output_type": "stream",
     "text": [
      "1526-654-1-1-Crossmodal-Visual-superficial-(-6.6 mm)-TT1.3 ////// 378/878 completed  //////  0 min 0.86 sec\n"
     ]
    },
    {
     "name": "stderr",
     "output_type": "stream",
     "text": [
      "C:\\Users\\Public\\Documents\\ESTsoft\\CreatorTemp\\ipykernel_33588\\3917152087.py:80: UserWarning: FixedFormatter should only be used together with FixedLocator\n",
      "  ax[0,1].set_xticklabels(x, rotation=45, ha='right');\n",
      "C:\\Users\\Public\\Documents\\ESTsoft\\CreatorTemp\\ipykernel_33588\\3917152087.py:90: UserWarning: FixedFormatter should only be used together with FixedLocator\n",
      "  ax[1,1].set_xticklabels(x, rotation=45, ha='right');\n"
     ]
    },
    {
     "name": "stdout",
     "output_type": "stream",
     "text": [
      "1527-654-1-1-Crossmodal-Visual-superficial-(-6.6 mm)-TT1.4 ////// 379/878 completed  //////  0 min 0.92 sec\n"
     ]
    },
    {
     "name": "stderr",
     "output_type": "stream",
     "text": [
      "C:\\Users\\Public\\Documents\\ESTsoft\\CreatorTemp\\ipykernel_33588\\3917152087.py:80: UserWarning: FixedFormatter should only be used together with FixedLocator\n",
      "  ax[0,1].set_xticklabels(x, rotation=45, ha='right');\n",
      "C:\\Users\\Public\\Documents\\ESTsoft\\CreatorTemp\\ipykernel_33588\\3917152087.py:90: UserWarning: FixedFormatter should only be used together with FixedLocator\n",
      "  ax[1,1].set_xticklabels(x, rotation=45, ha='right');\n"
     ]
    },
    {
     "name": "stdout",
     "output_type": "stream",
     "text": [
      "1529-654-1-1-Crossmodal-Visual-superficial-(-6.48 mm)-TT3.1 ////// 380/878 completed  //////  0 min 0.87 sec\n"
     ]
    },
    {
     "name": "stderr",
     "output_type": "stream",
     "text": [
      "C:\\Users\\Public\\Documents\\ESTsoft\\CreatorTemp\\ipykernel_33588\\3917152087.py:80: UserWarning: FixedFormatter should only be used together with FixedLocator\n",
      "  ax[0,1].set_xticklabels(x, rotation=45, ha='right');\n",
      "C:\\Users\\Public\\Documents\\ESTsoft\\CreatorTemp\\ipykernel_33588\\3917152087.py:90: UserWarning: FixedFormatter should only be used together with FixedLocator\n",
      "  ax[1,1].set_xticklabels(x, rotation=45, ha='right');\n"
     ]
    },
    {
     "name": "stdout",
     "output_type": "stream",
     "text": [
      "1530-654-1-1-Crossmodal-Visual-deep-(-5.64 mm)-TT6.1 ////// 381/878 completed  //////  0 min 1.07 sec\n"
     ]
    },
    {
     "name": "stderr",
     "output_type": "stream",
     "text": [
      "C:\\Users\\Public\\Documents\\ESTsoft\\CreatorTemp\\ipykernel_33588\\3917152087.py:80: UserWarning: FixedFormatter should only be used together with FixedLocator\n",
      "  ax[0,1].set_xticklabels(x, rotation=45, ha='right');\n",
      "C:\\Users\\Public\\Documents\\ESTsoft\\CreatorTemp\\ipykernel_33588\\3917152087.py:90: UserWarning: FixedFormatter should only be used together with FixedLocator\n",
      "  ax[1,1].set_xticklabels(x, rotation=45, ha='right');\n"
     ]
    },
    {
     "name": "stdout",
     "output_type": "stream",
     "text": [
      "1531-654-1-1-Crossmodal-Visual-deep-(-5.64 mm)-TT6.2 ////// 382/878 completed  //////  0 min 0.99 sec\n"
     ]
    },
    {
     "name": "stderr",
     "output_type": "stream",
     "text": [
      "C:\\Users\\Public\\Documents\\ESTsoft\\CreatorTemp\\ipykernel_33588\\3917152087.py:80: UserWarning: FixedFormatter should only be used together with FixedLocator\n",
      "  ax[0,1].set_xticklabels(x, rotation=45, ha='right');\n",
      "C:\\Users\\Public\\Documents\\ESTsoft\\CreatorTemp\\ipykernel_33588\\3917152087.py:90: UserWarning: FixedFormatter should only be used together with FixedLocator\n",
      "  ax[1,1].set_xticklabels(x, rotation=45, ha='right');\n"
     ]
    },
    {
     "name": "stdout",
     "output_type": "stream",
     "text": [
      "1532-654-1-1-Crossmodal-Visual-superficial-(-5.28 mm)-TT8.1 ////// 383/878 completed  //////  0 min 0.83 sec\n"
     ]
    },
    {
     "name": "stderr",
     "output_type": "stream",
     "text": [
      "C:\\Users\\Public\\Documents\\ESTsoft\\CreatorTemp\\ipykernel_33588\\3917152087.py:80: UserWarning: FixedFormatter should only be used together with FixedLocator\n",
      "  ax[0,1].set_xticklabels(x, rotation=45, ha='right');\n",
      "C:\\Users\\Public\\Documents\\ESTsoft\\CreatorTemp\\ipykernel_33588\\3917152087.py:90: UserWarning: FixedFormatter should only be used together with FixedLocator\n",
      "  ax[1,1].set_xticklabels(x, rotation=45, ha='right');\n"
     ]
    },
    {
     "name": "stdout",
     "output_type": "stream",
     "text": [
      "1533-654-1-1-Crossmodal-PER-deep-(-5.4 mm)-TT10.1 ////// 384/878 completed  //////  0 min 0.80 sec\n"
     ]
    },
    {
     "name": "stderr",
     "output_type": "stream",
     "text": [
      "C:\\Users\\Public\\Documents\\ESTsoft\\CreatorTemp\\ipykernel_33588\\3917152087.py:80: UserWarning: FixedFormatter should only be used together with FixedLocator\n",
      "  ax[0,1].set_xticklabels(x, rotation=45, ha='right');\n",
      "C:\\Users\\Public\\Documents\\ESTsoft\\CreatorTemp\\ipykernel_33588\\3917152087.py:88: MatplotlibDeprecationWarning: Support for passing numbers through unit converters is deprecated since 3.5 and support will be removed two minor releases later; use Axis.convert_units instead.\n",
      "  ax[1,1].scatter(np.where(sig)[0],np.tile(0.1,(sum(sig),1)),marker='*',color='black')\n",
      "C:\\Users\\Public\\Documents\\ESTsoft\\CreatorTemp\\ipykernel_33588\\3917152087.py:90: UserWarning: FixedFormatter should only be used together with FixedLocator\n",
      "  ax[1,1].set_xticklabels(x, rotation=45, ha='right');\n"
     ]
    },
    {
     "name": "stdout",
     "output_type": "stream",
     "text": [
      "1534-654-1-1-Crossmodal-PER-deep-(-5.4 mm)-TT10.2 ////// 385/878 completed  //////  0 min 0.76 sec\n"
     ]
    },
    {
     "name": "stderr",
     "output_type": "stream",
     "text": [
      "C:\\Users\\Public\\Documents\\ESTsoft\\CreatorTemp\\ipykernel_33588\\3917152087.py:80: UserWarning: FixedFormatter should only be used together with FixedLocator\n",
      "  ax[0,1].set_xticklabels(x, rotation=45, ha='right');\n",
      "C:\\Users\\Public\\Documents\\ESTsoft\\CreatorTemp\\ipykernel_33588\\3917152087.py:88: MatplotlibDeprecationWarning: Support for passing numbers through unit converters is deprecated since 3.5 and support will be removed two minor releases later; use Axis.convert_units instead.\n",
      "  ax[1,1].scatter(np.where(sig)[0],np.tile(0.1,(sum(sig),1)),marker='*',color='black')\n",
      "C:\\Users\\Public\\Documents\\ESTsoft\\CreatorTemp\\ipykernel_33588\\3917152087.py:90: UserWarning: FixedFormatter should only be used together with FixedLocator\n",
      "  ax[1,1].set_xticklabels(x, rotation=45, ha='right');\n"
     ]
    },
    {
     "name": "stdout",
     "output_type": "stream",
     "text": [
      "1536-654-1-1-Crossmodal-PER-deep-(-5.4 mm)-TT10.4 ////// 387/878 completed  //////  0 min 0.78 sec\n"
     ]
    },
    {
     "name": "stderr",
     "output_type": "stream",
     "text": [
      "C:\\Users\\Public\\Documents\\ESTsoft\\CreatorTemp\\ipykernel_33588\\3917152087.py:80: UserWarning: FixedFormatter should only be used together with FixedLocator\n",
      "  ax[0,1].set_xticklabels(x, rotation=45, ha='right');\n",
      "C:\\Users\\Public\\Documents\\ESTsoft\\CreatorTemp\\ipykernel_33588\\3917152087.py:88: MatplotlibDeprecationWarning: Support for passing numbers through unit converters is deprecated since 3.5 and support will be removed two minor releases later; use Axis.convert_units instead.\n",
      "  ax[1,1].scatter(np.where(sig)[0],np.tile(0.1,(sum(sig),1)),marker='*',color='black')\n",
      "C:\\Users\\Public\\Documents\\ESTsoft\\CreatorTemp\\ipykernel_33588\\3917152087.py:90: UserWarning: FixedFormatter should only be used together with FixedLocator\n",
      "  ax[1,1].set_xticklabels(x, rotation=45, ha='right');\n"
     ]
    },
    {
     "name": "stdout",
     "output_type": "stream",
     "text": [
      "1543-654-1-1-Crossmodal-Auditory-deep-(-4.8 mm)-TT12.1 ////// 391/878 completed  //////  0 min 0.82 sec\n"
     ]
    },
    {
     "name": "stderr",
     "output_type": "stream",
     "text": [
      "C:\\Users\\Public\\Documents\\ESTsoft\\CreatorTemp\\ipykernel_33588\\3917152087.py:80: UserWarning: FixedFormatter should only be used together with FixedLocator\n",
      "  ax[0,1].set_xticklabels(x, rotation=45, ha='right');\n",
      "C:\\Users\\Public\\Documents\\ESTsoft\\CreatorTemp\\ipykernel_33588\\3917152087.py:90: UserWarning: FixedFormatter should only be used together with FixedLocator\n",
      "  ax[1,1].set_xticklabels(x, rotation=45, ha='right');\n"
     ]
    },
    {
     "name": "stdout",
     "output_type": "stream",
     "text": [
      "1548-654-1-1-Crossmodal-Auditory-deep-(-4.8 mm)-TT14.1 ////// 393/878 completed  //////  0 min 0.95 sec\n"
     ]
    },
    {
     "name": "stderr",
     "output_type": "stream",
     "text": [
      "C:\\Users\\Public\\Documents\\ESTsoft\\CreatorTemp\\ipykernel_33588\\3917152087.py:80: UserWarning: FixedFormatter should only be used together with FixedLocator\n",
      "  ax[0,1].set_xticklabels(x, rotation=45, ha='right');\n",
      "C:\\Users\\Public\\Documents\\ESTsoft\\CreatorTemp\\ipykernel_33588\\3917152087.py:88: MatplotlibDeprecationWarning: Support for passing numbers through unit converters is deprecated since 3.5 and support will be removed two minor releases later; use Axis.convert_units instead.\n",
      "  ax[1,1].scatter(np.where(sig)[0],np.tile(0.1,(sum(sig),1)),marker='*',color='black')\n",
      "C:\\Users\\Public\\Documents\\ESTsoft\\CreatorTemp\\ipykernel_33588\\3917152087.py:90: UserWarning: FixedFormatter should only be used together with FixedLocator\n",
      "  ax[1,1].set_xticklabels(x, rotation=45, ha='right');\n"
     ]
    },
    {
     "name": "stdout",
     "output_type": "stream",
     "text": [
      "1549-654-1-1-Crossmodal-Auditory-deep-(-5.2 mm)-TT16.1 ////// 394/878 completed  //////  0 min 0.86 sec\n"
     ]
    },
    {
     "name": "stderr",
     "output_type": "stream",
     "text": [
      "C:\\Users\\Public\\Documents\\ESTsoft\\CreatorTemp\\ipykernel_33588\\3917152087.py:80: UserWarning: FixedFormatter should only be used together with FixedLocator\n",
      "  ax[0,1].set_xticklabels(x, rotation=45, ha='right');\n",
      "C:\\Users\\Public\\Documents\\ESTsoft\\CreatorTemp\\ipykernel_33588\\3917152087.py:90: UserWarning: FixedFormatter should only be used together with FixedLocator\n",
      "  ax[1,1].set_xticklabels(x, rotation=45, ha='right');\n"
     ]
    },
    {
     "name": "stdout",
     "output_type": "stream",
     "text": [
      "1551-654-1-1-Crossmodal-Auditory-deep-(-5.28 mm)-TT17.2 ////// 396/878 completed  //////  0 min 0.84 sec\n"
     ]
    },
    {
     "name": "stderr",
     "output_type": "stream",
     "text": [
      "C:\\Users\\Public\\Documents\\ESTsoft\\CreatorTemp\\ipykernel_33588\\3917152087.py:80: UserWarning: FixedFormatter should only be used together with FixedLocator\n",
      "  ax[0,1].set_xticklabels(x, rotation=45, ha='right');\n",
      "C:\\Users\\Public\\Documents\\ESTsoft\\CreatorTemp\\ipykernel_33588\\3917152087.py:90: UserWarning: FixedFormatter should only be used together with FixedLocator\n",
      "  ax[1,1].set_xticklabels(x, rotation=45, ha='right');\n"
     ]
    },
    {
     "name": "stdout",
     "output_type": "stream",
     "text": [
      "1553-654-1-1-Crossmodal-Auditory-superficial-(-6.12 mm)-TT20.2 ////// 398/878 completed  //////  0 min 0.87 sec\n"
     ]
    },
    {
     "name": "stderr",
     "output_type": "stream",
     "text": [
      "C:\\Users\\Public\\Documents\\ESTsoft\\CreatorTemp\\ipykernel_33588\\3917152087.py:80: UserWarning: FixedFormatter should only be used together with FixedLocator\n",
      "  ax[0,1].set_xticklabels(x, rotation=45, ha='right');\n",
      "C:\\Users\\Public\\Documents\\ESTsoft\\CreatorTemp\\ipykernel_33588\\3917152087.py:90: UserWarning: FixedFormatter should only be used together with FixedLocator\n",
      "  ax[1,1].set_xticklabels(x, rotation=45, ha='right');\n"
     ]
    },
    {
     "name": "stdout",
     "output_type": "stream",
     "text": [
      "1554-654-1-1-Crossmodal-TeV-deep-(-6.12 mm)-TT21.1 ////// 399/878 completed  //////  0 min 0.76 sec\n"
     ]
    },
    {
     "name": "stderr",
     "output_type": "stream",
     "text": [
      "C:\\Users\\Public\\Documents\\ESTsoft\\CreatorTemp\\ipykernel_33588\\3917152087.py:80: UserWarning: FixedFormatter should only be used together with FixedLocator\n",
      "  ax[0,1].set_xticklabels(x, rotation=45, ha='right');\n",
      "C:\\Users\\Public\\Documents\\ESTsoft\\CreatorTemp\\ipykernel_33588\\3917152087.py:90: UserWarning: FixedFormatter should only be used together with FixedLocator\n",
      "  ax[1,1].set_xticklabels(x, rotation=45, ha='right');\n"
     ]
    },
    {
     "name": "stdout",
     "output_type": "stream",
     "text": [
      "1555-654-1-1-Crossmodal-TeV-deep-(-6.12 mm)-TT21.2 ////// 400/878 completed  //////  0 min 0.81 sec\n"
     ]
    },
    {
     "name": "stderr",
     "output_type": "stream",
     "text": [
      "C:\\Users\\Public\\Documents\\ESTsoft\\CreatorTemp\\ipykernel_33588\\3917152087.py:80: UserWarning: FixedFormatter should only be used together with FixedLocator\n",
      "  ax[0,1].set_xticklabels(x, rotation=45, ha='right');\n",
      "C:\\Users\\Public\\Documents\\ESTsoft\\CreatorTemp\\ipykernel_33588\\3917152087.py:90: UserWarning: FixedFormatter should only be used together with FixedLocator\n",
      "  ax[1,1].set_xticklabels(x, rotation=45, ha='right');\n"
     ]
    },
    {
     "name": "stdout",
     "output_type": "stream",
     "text": [
      "1556-654-1-1-Crossmodal-TeV-deep-(-6.12 mm)-TT21.3 ////// 401/878 completed  //////  0 min 2.35 sec\n"
     ]
    },
    {
     "name": "stderr",
     "output_type": "stream",
     "text": [
      "C:\\Users\\Public\\Documents\\ESTsoft\\CreatorTemp\\ipykernel_33588\\3917152087.py:80: UserWarning: FixedFormatter should only be used together with FixedLocator\n",
      "  ax[0,1].set_xticklabels(x, rotation=45, ha='right');\n",
      "C:\\Users\\Public\\Documents\\ESTsoft\\CreatorTemp\\ipykernel_33588\\3917152087.py:90: UserWarning: FixedFormatter should only be used together with FixedLocator\n",
      "  ax[1,1].set_xticklabels(x, rotation=45, ha='right');\n"
     ]
    },
    {
     "name": "stdout",
     "output_type": "stream",
     "text": [
      "1557-654-1-1-Crossmodal-Auditory-superficial-(-6.6 mm)-TT23.1 ////// 402/878 completed  //////  0 min 0.93 sec\n"
     ]
    },
    {
     "name": "stderr",
     "output_type": "stream",
     "text": [
      "C:\\Users\\Public\\Documents\\ESTsoft\\CreatorTemp\\ipykernel_33588\\3917152087.py:80: UserWarning: FixedFormatter should only be used together with FixedLocator\n",
      "  ax[0,1].set_xticklabels(x, rotation=45, ha='right');\n",
      "C:\\Users\\Public\\Documents\\ESTsoft\\CreatorTemp\\ipykernel_33588\\3917152087.py:90: UserWarning: FixedFormatter should only be used together with FixedLocator\n",
      "  ax[1,1].set_xticklabels(x, rotation=45, ha='right');\n"
     ]
    },
    {
     "name": "stdout",
     "output_type": "stream",
     "text": [
      "1558-654-1-1-Crossmodal-Auditory-deep-(-6.24 mm)-TT24.1 ////// 403/878 completed  //////  0 min 0.87 sec\n"
     ]
    },
    {
     "name": "stderr",
     "output_type": "stream",
     "text": [
      "C:\\Users\\Public\\Documents\\ESTsoft\\CreatorTemp\\ipykernel_33588\\3917152087.py:80: UserWarning: FixedFormatter should only be used together with FixedLocator\n",
      "  ax[0,1].set_xticklabels(x, rotation=45, ha='right');\n",
      "C:\\Users\\Public\\Documents\\ESTsoft\\CreatorTemp\\ipykernel_33588\\3917152087.py:88: MatplotlibDeprecationWarning: Support for passing numbers through unit converters is deprecated since 3.5 and support will be removed two minor releases later; use Axis.convert_units instead.\n",
      "  ax[1,1].scatter(np.where(sig)[0],np.tile(0.1,(sum(sig),1)),marker='*',color='black')\n",
      "C:\\Users\\Public\\Documents\\ESTsoft\\CreatorTemp\\ipykernel_33588\\3917152087.py:90: UserWarning: FixedFormatter should only be used together with FixedLocator\n",
      "  ax[1,1].set_xticklabels(x, rotation=45, ha='right');\n"
     ]
    },
    {
     "name": "stdout",
     "output_type": "stream",
     "text": [
      "1560-654-1-1-Crossmodal-Auditory-deep-(-6.24 mm)-TT24.3 ////// 404/878 completed  //////  0 min 1.02 sec\n"
     ]
    },
    {
     "name": "stderr",
     "output_type": "stream",
     "text": [
      "C:\\Users\\Public\\Documents\\ESTsoft\\CreatorTemp\\ipykernel_33588\\3917152087.py:80: UserWarning: FixedFormatter should only be used together with FixedLocator\n",
      "  ax[0,1].set_xticklabels(x, rotation=45, ha='right');\n",
      "C:\\Users\\Public\\Documents\\ESTsoft\\CreatorTemp\\ipykernel_33588\\3917152087.py:90: UserWarning: FixedFormatter should only be used together with FixedLocator\n",
      "  ax[1,1].set_xticklabels(x, rotation=45, ha='right');\n"
     ]
    },
    {
     "name": "stdout",
     "output_type": "stream",
     "text": [
      "1561-654-1-1-Crossmodal-Auditory-deep-(-6.24 mm)-TT24.4 ////// 405/878 completed  //////  0 min 0.91 sec\n"
     ]
    },
    {
     "name": "stderr",
     "output_type": "stream",
     "text": [
      "C:\\Users\\Public\\Documents\\ESTsoft\\CreatorTemp\\ipykernel_33588\\3917152087.py:80: UserWarning: FixedFormatter should only be used together with FixedLocator\n",
      "  ax[0,1].set_xticklabels(x, rotation=45, ha='right');\n",
      "C:\\Users\\Public\\Documents\\ESTsoft\\CreatorTemp\\ipykernel_33588\\3917152087.py:88: MatplotlibDeprecationWarning: Support for passing numbers through unit converters is deprecated since 3.5 and support will be removed two minor releases later; use Axis.convert_units instead.\n",
      "  ax[1,1].scatter(np.where(sig)[0],np.tile(0.1,(sum(sig),1)),marker='*',color='black')\n",
      "C:\\Users\\Public\\Documents\\ESTsoft\\CreatorTemp\\ipykernel_33588\\3917152087.py:90: UserWarning: FixedFormatter should only be used together with FixedLocator\n",
      "  ax[1,1].set_xticklabels(x, rotation=45, ha='right');\n"
     ]
    },
    {
     "name": "stdout",
     "output_type": "stream",
     "text": [
      "1567-654-2-2-Crossmodal-Visual-superficial-(-6.48 mm)-TT3.1 ////// 406/878 completed  //////  0 min 0.87 sec\n"
     ]
    },
    {
     "name": "stderr",
     "output_type": "stream",
     "text": [
      "C:\\Users\\Public\\Documents\\ESTsoft\\CreatorTemp\\ipykernel_33588\\3917152087.py:80: UserWarning: FixedFormatter should only be used together with FixedLocator\n",
      "  ax[0,1].set_xticklabels(x, rotation=45, ha='right');\n",
      "C:\\Users\\Public\\Documents\\ESTsoft\\CreatorTemp\\ipykernel_33588\\3917152087.py:90: UserWarning: FixedFormatter should only be used together with FixedLocator\n",
      "  ax[1,1].set_xticklabels(x, rotation=45, ha='right');\n"
     ]
    },
    {
     "name": "stdout",
     "output_type": "stream",
     "text": [
      "1568-654-2-2-Crossmodal-Visual-deep-(-6.24 mm)-TT4.1 ////// 407/878 completed  //////  0 min 0.96 sec\n"
     ]
    },
    {
     "name": "stderr",
     "output_type": "stream",
     "text": [
      "C:\\Users\\Public\\Documents\\ESTsoft\\CreatorTemp\\ipykernel_33588\\3917152087.py:80: UserWarning: FixedFormatter should only be used together with FixedLocator\n",
      "  ax[0,1].set_xticklabels(x, rotation=45, ha='right');\n",
      "C:\\Users\\Public\\Documents\\ESTsoft\\CreatorTemp\\ipykernel_33588\\3917152087.py:90: UserWarning: FixedFormatter should only be used together with FixedLocator\n",
      "  ax[1,1].set_xticklabels(x, rotation=45, ha='right');\n"
     ]
    },
    {
     "name": "stdout",
     "output_type": "stream",
     "text": [
      "1569-654-2-2-Crossmodal-Visual-deep-(-6.24 mm)-TT4.2 ////// 408/878 completed  //////  0 min 0.89 sec\n"
     ]
    },
    {
     "name": "stderr",
     "output_type": "stream",
     "text": [
      "C:\\Users\\Public\\Documents\\ESTsoft\\CreatorTemp\\ipykernel_33588\\3917152087.py:80: UserWarning: FixedFormatter should only be used together with FixedLocator\n",
      "  ax[0,1].set_xticklabels(x, rotation=45, ha='right');\n",
      "C:\\Users\\Public\\Documents\\ESTsoft\\CreatorTemp\\ipykernel_33588\\3917152087.py:90: UserWarning: FixedFormatter should only be used together with FixedLocator\n",
      "  ax[1,1].set_xticklabels(x, rotation=45, ha='right');\n"
     ]
    },
    {
     "name": "stdout",
     "output_type": "stream",
     "text": [
      "1570-654-2-2-Crossmodal-Visual-deep-(-5.64 mm)-TT6.1 ////// 409/878 completed  //////  0 min 0.81 sec\n"
     ]
    },
    {
     "name": "stderr",
     "output_type": "stream",
     "text": [
      "C:\\Users\\Public\\Documents\\ESTsoft\\CreatorTemp\\ipykernel_33588\\3917152087.py:80: UserWarning: FixedFormatter should only be used together with FixedLocator\n",
      "  ax[0,1].set_xticklabels(x, rotation=45, ha='right');\n",
      "C:\\Users\\Public\\Documents\\ESTsoft\\CreatorTemp\\ipykernel_33588\\3917152087.py:90: UserWarning: FixedFormatter should only be used together with FixedLocator\n",
      "  ax[1,1].set_xticklabels(x, rotation=45, ha='right');\n"
     ]
    },
    {
     "name": "stdout",
     "output_type": "stream",
     "text": [
      "1571-654-2-2-Crossmodal-Visual-superficial-(-5.28 mm)-TT8.1 ////// 410/878 completed  //////  0 min 0.83 sec\n"
     ]
    },
    {
     "name": "stderr",
     "output_type": "stream",
     "text": [
      "C:\\Users\\Public\\Documents\\ESTsoft\\CreatorTemp\\ipykernel_33588\\3917152087.py:80: UserWarning: FixedFormatter should only be used together with FixedLocator\n",
      "  ax[0,1].set_xticklabels(x, rotation=45, ha='right');\n",
      "C:\\Users\\Public\\Documents\\ESTsoft\\CreatorTemp\\ipykernel_33588\\3917152087.py:88: MatplotlibDeprecationWarning: Support for passing numbers through unit converters is deprecated since 3.5 and support will be removed two minor releases later; use Axis.convert_units instead.\n",
      "  ax[1,1].scatter(np.where(sig)[0],np.tile(0.1,(sum(sig),1)),marker='*',color='black')\n",
      "C:\\Users\\Public\\Documents\\ESTsoft\\CreatorTemp\\ipykernel_33588\\3917152087.py:90: UserWarning: FixedFormatter should only be used together with FixedLocator\n",
      "  ax[1,1].set_xticklabels(x, rotation=45, ha='right');\n"
     ]
    },
    {
     "name": "stdout",
     "output_type": "stream",
     "text": [
      "1576-654-2-2-Crossmodal-PER-deep-(-5.4 mm)-TT10.5 ////// 413/878 completed  //////  0 min 0.77 sec\n"
     ]
    },
    {
     "name": "stderr",
     "output_type": "stream",
     "text": [
      "C:\\Users\\Public\\Documents\\ESTsoft\\CreatorTemp\\ipykernel_33588\\3917152087.py:80: UserWarning: FixedFormatter should only be used together with FixedLocator\n",
      "  ax[0,1].set_xticklabels(x, rotation=45, ha='right');\n",
      "C:\\Users\\Public\\Documents\\ESTsoft\\CreatorTemp\\ipykernel_33588\\3917152087.py:88: MatplotlibDeprecationWarning: Support for passing numbers through unit converters is deprecated since 3.5 and support will be removed two minor releases later; use Axis.convert_units instead.\n",
      "  ax[1,1].scatter(np.where(sig)[0],np.tile(0.1,(sum(sig),1)),marker='*',color='black')\n",
      "C:\\Users\\Public\\Documents\\ESTsoft\\CreatorTemp\\ipykernel_33588\\3917152087.py:90: UserWarning: FixedFormatter should only be used together with FixedLocator\n",
      "  ax[1,1].set_xticklabels(x, rotation=45, ha='right');\n"
     ]
    },
    {
     "name": "stdout",
     "output_type": "stream",
     "text": [
      "1579-654-2-2-Crossmodal-PER-superficial-(-4.68 mm)-TT13.2 ////// 414/878 completed  //////  0 min 0.84 sec\n"
     ]
    },
    {
     "name": "stderr",
     "output_type": "stream",
     "text": [
      "C:\\Users\\Public\\Documents\\ESTsoft\\CreatorTemp\\ipykernel_33588\\3917152087.py:80: UserWarning: FixedFormatter should only be used together with FixedLocator\n",
      "  ax[0,1].set_xticklabels(x, rotation=45, ha='right');\n",
      "C:\\Users\\Public\\Documents\\ESTsoft\\CreatorTemp\\ipykernel_33588\\3917152087.py:90: UserWarning: FixedFormatter should only be used together with FixedLocator\n",
      "  ax[1,1].set_xticklabels(x, rotation=45, ha='right');\n"
     ]
    },
    {
     "name": "stdout",
     "output_type": "stream",
     "text": [
      "1582-654-2-2-Crossmodal-Auditory-deep-(-4.8 mm)-TT14.1 ////// 415/878 completed  //////  0 min 0.87 sec\n"
     ]
    },
    {
     "name": "stderr",
     "output_type": "stream",
     "text": [
      "C:\\Users\\Public\\Documents\\ESTsoft\\CreatorTemp\\ipykernel_33588\\3917152087.py:80: UserWarning: FixedFormatter should only be used together with FixedLocator\n",
      "  ax[0,1].set_xticklabels(x, rotation=45, ha='right');\n",
      "C:\\Users\\Public\\Documents\\ESTsoft\\CreatorTemp\\ipykernel_33588\\3917152087.py:90: UserWarning: FixedFormatter should only be used together with FixedLocator\n",
      "  ax[1,1].set_xticklabels(x, rotation=45, ha='right');\n"
     ]
    },
    {
     "name": "stdout",
     "output_type": "stream",
     "text": [
      "1583-654-2-2-Crossmodal-Auditory-deep-(-4.8 mm)-TT14.2 ////// 416/878 completed  //////  0 min 0.94 sec\n"
     ]
    },
    {
     "name": "stderr",
     "output_type": "stream",
     "text": [
      "C:\\Users\\Public\\Documents\\ESTsoft\\CreatorTemp\\ipykernel_33588\\3917152087.py:80: UserWarning: FixedFormatter should only be used together with FixedLocator\n",
      "  ax[0,1].set_xticklabels(x, rotation=45, ha='right');\n",
      "C:\\Users\\Public\\Documents\\ESTsoft\\CreatorTemp\\ipykernel_33588\\3917152087.py:90: UserWarning: FixedFormatter should only be used together with FixedLocator\n",
      "  ax[1,1].set_xticklabels(x, rotation=45, ha='right');\n"
     ]
    },
    {
     "name": "stdout",
     "output_type": "stream",
     "text": [
      "1584-654-2-2-Crossmodal-Auditory-deep-(-4.8 mm)-TT14.3 ////// 417/878 completed  //////  0 min 1.18 sec\n"
     ]
    },
    {
     "name": "stderr",
     "output_type": "stream",
     "text": [
      "C:\\Users\\Public\\Documents\\ESTsoft\\CreatorTemp\\ipykernel_33588\\3917152087.py:80: UserWarning: FixedFormatter should only be used together with FixedLocator\n",
      "  ax[0,1].set_xticklabels(x, rotation=45, ha='right');\n",
      "C:\\Users\\Public\\Documents\\ESTsoft\\CreatorTemp\\ipykernel_33588\\3917152087.py:88: MatplotlibDeprecationWarning: Support for passing numbers through unit converters is deprecated since 3.5 and support will be removed two minor releases later; use Axis.convert_units instead.\n",
      "  ax[1,1].scatter(np.where(sig)[0],np.tile(0.1,(sum(sig),1)),marker='*',color='black')\n",
      "C:\\Users\\Public\\Documents\\ESTsoft\\CreatorTemp\\ipykernel_33588\\3917152087.py:90: UserWarning: FixedFormatter should only be used together with FixedLocator\n",
      "  ax[1,1].set_xticklabels(x, rotation=45, ha='right');\n"
     ]
    },
    {
     "name": "stdout",
     "output_type": "stream",
     "text": [
      "1585-654-2-2-Crossmodal-Auditory-deep-(-5.88 mm)-TT18.1 ////// 418/878 completed  //////  0 min 0.85 sec\n"
     ]
    },
    {
     "name": "stderr",
     "output_type": "stream",
     "text": [
      "C:\\Users\\Public\\Documents\\ESTsoft\\CreatorTemp\\ipykernel_33588\\3917152087.py:80: UserWarning: FixedFormatter should only be used together with FixedLocator\n",
      "  ax[0,1].set_xticklabels(x, rotation=45, ha='right');\n",
      "C:\\Users\\Public\\Documents\\ESTsoft\\CreatorTemp\\ipykernel_33588\\3917152087.py:90: UserWarning: FixedFormatter should only be used together with FixedLocator\n",
      "  ax[1,1].set_xticklabels(x, rotation=45, ha='right');\n"
     ]
    },
    {
     "name": "stdout",
     "output_type": "stream",
     "text": [
      "1587-654-2-2-Crossmodal-Auditory-superficial-(-6.12 mm)-TT20.2 ////// 419/878 completed  //////  0 min 0.85 sec\n"
     ]
    },
    {
     "name": "stderr",
     "output_type": "stream",
     "text": [
      "C:\\Users\\Public\\Documents\\ESTsoft\\CreatorTemp\\ipykernel_33588\\3917152087.py:80: UserWarning: FixedFormatter should only be used together with FixedLocator\n",
      "  ax[0,1].set_xticklabels(x, rotation=45, ha='right');\n",
      "C:\\Users\\Public\\Documents\\ESTsoft\\CreatorTemp\\ipykernel_33588\\3917152087.py:90: UserWarning: FixedFormatter should only be used together with FixedLocator\n",
      "  ax[1,1].set_xticklabels(x, rotation=45, ha='right');\n"
     ]
    },
    {
     "name": "stdout",
     "output_type": "stream",
     "text": [
      "1589-654-2-2-Crossmodal-TeV-deep-(-6.12 mm)-TT21.1 ////// 421/878 completed  //////  0 min 0.88 sec\n"
     ]
    },
    {
     "name": "stderr",
     "output_type": "stream",
     "text": [
      "C:\\Users\\Public\\Documents\\ESTsoft\\CreatorTemp\\ipykernel_33588\\3917152087.py:80: UserWarning: FixedFormatter should only be used together with FixedLocator\n",
      "  ax[0,1].set_xticklabels(x, rotation=45, ha='right');\n",
      "C:\\Users\\Public\\Documents\\ESTsoft\\CreatorTemp\\ipykernel_33588\\3917152087.py:90: UserWarning: FixedFormatter should only be used together with FixedLocator\n",
      "  ax[1,1].set_xticklabels(x, rotation=45, ha='right');\n"
     ]
    },
    {
     "name": "stdout",
     "output_type": "stream",
     "text": [
      "1591-654-2-2-Crossmodal-TeV-deep-(-6.12 mm)-TT21.3 ////// 423/878 completed  //////  0 min 1.05 sec\n"
     ]
    },
    {
     "name": "stderr",
     "output_type": "stream",
     "text": [
      "C:\\Users\\Public\\Documents\\ESTsoft\\CreatorTemp\\ipykernel_33588\\3917152087.py:80: UserWarning: FixedFormatter should only be used together with FixedLocator\n",
      "  ax[0,1].set_xticklabels(x, rotation=45, ha='right');\n",
      "C:\\Users\\Public\\Documents\\ESTsoft\\CreatorTemp\\ipykernel_33588\\3917152087.py:88: MatplotlibDeprecationWarning: Support for passing numbers through unit converters is deprecated since 3.5 and support will be removed two minor releases later; use Axis.convert_units instead.\n",
      "  ax[1,1].scatter(np.where(sig)[0],np.tile(0.1,(sum(sig),1)),marker='*',color='black')\n",
      "C:\\Users\\Public\\Documents\\ESTsoft\\CreatorTemp\\ipykernel_33588\\3917152087.py:90: UserWarning: FixedFormatter should only be used together with FixedLocator\n",
      "  ax[1,1].set_xticklabels(x, rotation=45, ha='right');\n"
     ]
    },
    {
     "name": "stdout",
     "output_type": "stream",
     "text": [
      "1593-654-2-2-Crossmodal-Auditory-deep-(-6.24 mm)-TT24.1 ////// 425/878 completed  //////  0 min 1.00 sec\n"
     ]
    },
    {
     "name": "stderr",
     "output_type": "stream",
     "text": [
      "C:\\Users\\Public\\Documents\\ESTsoft\\CreatorTemp\\ipykernel_33588\\3917152087.py:80: UserWarning: FixedFormatter should only be used together with FixedLocator\n",
      "  ax[0,1].set_xticklabels(x, rotation=45, ha='right');\n",
      "C:\\Users\\Public\\Documents\\ESTsoft\\CreatorTemp\\ipykernel_33588\\3917152087.py:90: UserWarning: FixedFormatter should only be used together with FixedLocator\n",
      "  ax[1,1].set_xticklabels(x, rotation=45, ha='right');\n"
     ]
    },
    {
     "name": "stdout",
     "output_type": "stream",
     "text": [
      "1595-654-2-2-Crossmodal-Auditory-deep-(-6.24 mm)-TT24.3 ////// 426/878 completed  //////  0 min 0.92 sec\n"
     ]
    },
    {
     "name": "stderr",
     "output_type": "stream",
     "text": [
      "C:\\Users\\Public\\Documents\\ESTsoft\\CreatorTemp\\ipykernel_33588\\3917152087.py:80: UserWarning: FixedFormatter should only be used together with FixedLocator\n",
      "  ax[0,1].set_xticklabels(x, rotation=45, ha='right');\n",
      "C:\\Users\\Public\\Documents\\ESTsoft\\CreatorTemp\\ipykernel_33588\\3917152087.py:90: UserWarning: FixedFormatter should only be used together with FixedLocator\n",
      "  ax[1,1].set_xticklabels(x, rotation=45, ha='right');\n"
     ]
    },
    {
     "name": "stdout",
     "output_type": "stream",
     "text": [
      "1598-654-3-3-Crossmodal-Visual-superficial-(-6.6 mm)-TT1.3 ////// 428/878 completed  //////  0 min 0.91 sec\n"
     ]
    },
    {
     "name": "stderr",
     "output_type": "stream",
     "text": [
      "C:\\Users\\Public\\Documents\\ESTsoft\\CreatorTemp\\ipykernel_33588\\3917152087.py:80: UserWarning: FixedFormatter should only be used together with FixedLocator\n",
      "  ax[0,1].set_xticklabels(x, rotation=45, ha='right');\n",
      "C:\\Users\\Public\\Documents\\ESTsoft\\CreatorTemp\\ipykernel_33588\\3917152087.py:90: UserWarning: FixedFormatter should only be used together with FixedLocator\n",
      "  ax[1,1].set_xticklabels(x, rotation=45, ha='right');\n"
     ]
    },
    {
     "name": "stdout",
     "output_type": "stream",
     "text": [
      "1599-654-3-3-Crossmodal-Visual-superficial-(-6.6 mm)-TT1.4 ////// 429/878 completed  //////  0 min 0.89 sec\n"
     ]
    },
    {
     "name": "stderr",
     "output_type": "stream",
     "text": [
      "C:\\Users\\Public\\Documents\\ESTsoft\\CreatorTemp\\ipykernel_33588\\3917152087.py:80: UserWarning: FixedFormatter should only be used together with FixedLocator\n",
      "  ax[0,1].set_xticklabels(x, rotation=45, ha='right');\n",
      "C:\\Users\\Public\\Documents\\ESTsoft\\CreatorTemp\\ipykernel_33588\\3917152087.py:90: UserWarning: FixedFormatter should only be used together with FixedLocator\n",
      "  ax[1,1].set_xticklabels(x, rotation=45, ha='right');\n"
     ]
    },
    {
     "name": "stdout",
     "output_type": "stream",
     "text": [
      "1601-654-3-3-Crossmodal-Visual-deep-(-6.36 mm)-TT2.1 ////// 431/878 completed  //////  0 min 0.87 sec\n"
     ]
    },
    {
     "name": "stderr",
     "output_type": "stream",
     "text": [
      "C:\\Users\\Public\\Documents\\ESTsoft\\CreatorTemp\\ipykernel_33588\\3917152087.py:80: UserWarning: FixedFormatter should only be used together with FixedLocator\n",
      "  ax[0,1].set_xticklabels(x, rotation=45, ha='right');\n",
      "C:\\Users\\Public\\Documents\\ESTsoft\\CreatorTemp\\ipykernel_33588\\3917152087.py:90: UserWarning: FixedFormatter should only be used together with FixedLocator\n",
      "  ax[1,1].set_xticklabels(x, rotation=45, ha='right');\n"
     ]
    },
    {
     "name": "stdout",
     "output_type": "stream",
     "text": [
      "1603-654-3-3-Crossmodal-Visual-deep-(-6.24 mm)-TT4.1 ////// 433/878 completed  //////  0 min 1.09 sec\n"
     ]
    },
    {
     "name": "stderr",
     "output_type": "stream",
     "text": [
      "C:\\Users\\Public\\Documents\\ESTsoft\\CreatorTemp\\ipykernel_33588\\3917152087.py:80: UserWarning: FixedFormatter should only be used together with FixedLocator\n",
      "  ax[0,1].set_xticklabels(x, rotation=45, ha='right');\n",
      "C:\\Users\\Public\\Documents\\ESTsoft\\CreatorTemp\\ipykernel_33588\\3917152087.py:90: UserWarning: FixedFormatter should only be used together with FixedLocator\n",
      "  ax[1,1].set_xticklabels(x, rotation=45, ha='right');\n"
     ]
    },
    {
     "name": "stdout",
     "output_type": "stream",
     "text": [
      "1604-654-3-3-Crossmodal-Visual-deep-(-5.64 mm)-TT6.1 ////// 434/878 completed  //////  0 min 1.00 sec\n"
     ]
    },
    {
     "name": "stderr",
     "output_type": "stream",
     "text": [
      "C:\\Users\\Public\\Documents\\ESTsoft\\CreatorTemp\\ipykernel_33588\\3917152087.py:80: UserWarning: FixedFormatter should only be used together with FixedLocator\n",
      "  ax[0,1].set_xticklabels(x, rotation=45, ha='right');\n",
      "C:\\Users\\Public\\Documents\\ESTsoft\\CreatorTemp\\ipykernel_33588\\3917152087.py:90: UserWarning: FixedFormatter should only be used together with FixedLocator\n",
      "  ax[1,1].set_xticklabels(x, rotation=45, ha='right');\n"
     ]
    },
    {
     "name": "stdout",
     "output_type": "stream",
     "text": [
      "1607-654-3-3-Crossmodal-Auditory-deep-(-4.8 mm)-TT12.1 ////// 437/878 completed  //////  0 min 0.97 sec\n"
     ]
    },
    {
     "name": "stderr",
     "output_type": "stream",
     "text": [
      "C:\\Users\\Public\\Documents\\ESTsoft\\CreatorTemp\\ipykernel_33588\\3917152087.py:80: UserWarning: FixedFormatter should only be used together with FixedLocator\n",
      "  ax[0,1].set_xticklabels(x, rotation=45, ha='right');\n",
      "C:\\Users\\Public\\Documents\\ESTsoft\\CreatorTemp\\ipykernel_33588\\3917152087.py:90: UserWarning: FixedFormatter should only be used together with FixedLocator\n",
      "  ax[1,1].set_xticklabels(x, rotation=45, ha='right');\n"
     ]
    },
    {
     "name": "stdout",
     "output_type": "stream",
     "text": [
      "1609-654-3-3-Crossmodal-Auditory-deep-(-4.8 mm)-TT14.1 ////// 438/878 completed  //////  0 min 1.00 sec\n"
     ]
    },
    {
     "name": "stderr",
     "output_type": "stream",
     "text": [
      "C:\\Users\\Public\\Documents\\ESTsoft\\CreatorTemp\\ipykernel_33588\\3917152087.py:80: UserWarning: FixedFormatter should only be used together with FixedLocator\n",
      "  ax[0,1].set_xticklabels(x, rotation=45, ha='right');\n",
      "C:\\Users\\Public\\Documents\\ESTsoft\\CreatorTemp\\ipykernel_33588\\3917152087.py:90: UserWarning: FixedFormatter should only be used together with FixedLocator\n",
      "  ax[1,1].set_xticklabels(x, rotation=45, ha='right');\n"
     ]
    },
    {
     "name": "stdout",
     "output_type": "stream",
     "text": [
      "1610-654-3-3-Crossmodal-Auditory-deep-(-4.8 mm)-TT14.2 ////// 439/878 completed  //////  0 min 0.87 sec\n"
     ]
    },
    {
     "name": "stderr",
     "output_type": "stream",
     "text": [
      "C:\\Users\\Public\\Documents\\ESTsoft\\CreatorTemp\\ipykernel_33588\\3917152087.py:80: UserWarning: FixedFormatter should only be used together with FixedLocator\n",
      "  ax[0,1].set_xticklabels(x, rotation=45, ha='right');\n",
      "C:\\Users\\Public\\Documents\\ESTsoft\\CreatorTemp\\ipykernel_33588\\3917152087.py:88: MatplotlibDeprecationWarning: Support for passing numbers through unit converters is deprecated since 3.5 and support will be removed two minor releases later; use Axis.convert_units instead.\n",
      "  ax[1,1].scatter(np.where(sig)[0],np.tile(0.1,(sum(sig),1)),marker='*',color='black')\n",
      "C:\\Users\\Public\\Documents\\ESTsoft\\CreatorTemp\\ipykernel_33588\\3917152087.py:90: UserWarning: FixedFormatter should only be used together with FixedLocator\n",
      "  ax[1,1].set_xticklabels(x, rotation=45, ha='right');\n"
     ]
    },
    {
     "name": "stdout",
     "output_type": "stream",
     "text": [
      "1611-654-3-3-Crossmodal-Tev-deep-(-5.88 mm)-TT18.1 ////// 440/878 completed  //////  0 min 0.86 sec\n"
     ]
    },
    {
     "name": "stderr",
     "output_type": "stream",
     "text": [
      "C:\\Users\\Public\\Documents\\ESTsoft\\CreatorTemp\\ipykernel_33588\\3917152087.py:80: UserWarning: FixedFormatter should only be used together with FixedLocator\n",
      "  ax[0,1].set_xticklabels(x, rotation=45, ha='right');\n",
      "C:\\Users\\Public\\Documents\\ESTsoft\\CreatorTemp\\ipykernel_33588\\3917152087.py:90: UserWarning: FixedFormatter should only be used together with FixedLocator\n",
      "  ax[1,1].set_xticklabels(x, rotation=45, ha='right');\n"
     ]
    },
    {
     "name": "stdout",
     "output_type": "stream",
     "text": [
      "1612-654-3-3-Crossmodal-Tev-deep-(-5.88 mm)-TT18.2 ////// 441/878 completed  //////  0 min 0.91 sec\n"
     ]
    },
    {
     "name": "stderr",
     "output_type": "stream",
     "text": [
      "C:\\Users\\Public\\Documents\\ESTsoft\\CreatorTemp\\ipykernel_33588\\3917152087.py:80: UserWarning: FixedFormatter should only be used together with FixedLocator\n",
      "  ax[0,1].set_xticklabels(x, rotation=45, ha='right');\n",
      "C:\\Users\\Public\\Documents\\ESTsoft\\CreatorTemp\\ipykernel_33588\\3917152087.py:90: UserWarning: FixedFormatter should only be used together with FixedLocator\n",
      "  ax[1,1].set_xticklabels(x, rotation=45, ha='right');\n"
     ]
    },
    {
     "name": "stdout",
     "output_type": "stream",
     "text": [
      "1614-654-3-3-Crossmodal-TeV-superficial-(-6.12 mm)-TT20.2 ////// 443/878 completed  //////  0 min 0.91 sec\n"
     ]
    },
    {
     "name": "stderr",
     "output_type": "stream",
     "text": [
      "C:\\Users\\Public\\Documents\\ESTsoft\\CreatorTemp\\ipykernel_33588\\3917152087.py:80: UserWarning: FixedFormatter should only be used together with FixedLocator\n",
      "  ax[0,1].set_xticklabels(x, rotation=45, ha='right');\n",
      "C:\\Users\\Public\\Documents\\ESTsoft\\CreatorTemp\\ipykernel_33588\\3917152087.py:88: MatplotlibDeprecationWarning: Support for passing numbers through unit converters is deprecated since 3.5 and support will be removed two minor releases later; use Axis.convert_units instead.\n",
      "  ax[1,1].scatter(np.where(sig)[0],np.tile(0.1,(sum(sig),1)),marker='*',color='black')\n",
      "C:\\Users\\Public\\Documents\\ESTsoft\\CreatorTemp\\ipykernel_33588\\3917152087.py:90: UserWarning: FixedFormatter should only be used together with FixedLocator\n",
      "  ax[1,1].set_xticklabels(x, rotation=45, ha='right');\n"
     ]
    },
    {
     "name": "stdout",
     "output_type": "stream",
     "text": [
      "1615-654-3-3-Crossmodal-TeV-superficial-(-6.12 mm)-TT20.3 ////// 444/878 completed  //////  0 min 0.92 sec\n"
     ]
    },
    {
     "name": "stderr",
     "output_type": "stream",
     "text": [
      "C:\\Users\\Public\\Documents\\ESTsoft\\CreatorTemp\\ipykernel_33588\\3917152087.py:80: UserWarning: FixedFormatter should only be used together with FixedLocator\n",
      "  ax[0,1].set_xticklabels(x, rotation=45, ha='right');\n",
      "C:\\Users\\Public\\Documents\\ESTsoft\\CreatorTemp\\ipykernel_33588\\3917152087.py:88: MatplotlibDeprecationWarning: Support for passing numbers through unit converters is deprecated since 3.5 and support will be removed two minor releases later; use Axis.convert_units instead.\n",
      "  ax[1,1].scatter(np.where(sig)[0],np.tile(0.1,(sum(sig),1)),marker='*',color='black')\n",
      "C:\\Users\\Public\\Documents\\ESTsoft\\CreatorTemp\\ipykernel_33588\\3917152087.py:90: UserWarning: FixedFormatter should only be used together with FixedLocator\n",
      "  ax[1,1].set_xticklabels(x, rotation=45, ha='right');\n"
     ]
    },
    {
     "name": "stdout",
     "output_type": "stream",
     "text": [
      "1617-654-3-3-Crossmodal-TeV-deep-(-6.12 mm)-TT21.2 ////// 446/878 completed  //////  0 min 0.84 sec\n"
     ]
    },
    {
     "name": "stderr",
     "output_type": "stream",
     "text": [
      "C:\\Users\\Public\\Documents\\ESTsoft\\CreatorTemp\\ipykernel_33588\\3917152087.py:80: UserWarning: FixedFormatter should only be used together with FixedLocator\n",
      "  ax[0,1].set_xticklabels(x, rotation=45, ha='right');\n",
      "C:\\Users\\Public\\Documents\\ESTsoft\\CreatorTemp\\ipykernel_33588\\3917152087.py:90: UserWarning: FixedFormatter should only be used together with FixedLocator\n",
      "  ax[1,1].set_xticklabels(x, rotation=45, ha='right');\n"
     ]
    },
    {
     "name": "stdout",
     "output_type": "stream",
     "text": [
      "1622-654-3-3-Crossmodal-Tev-superficial-(-6.6 mm)-TT23.3 ////// 449/878 completed  //////  0 min 0.78 sec\n"
     ]
    },
    {
     "name": "stderr",
     "output_type": "stream",
     "text": [
      "C:\\Users\\Public\\Documents\\ESTsoft\\CreatorTemp\\ipykernel_33588\\3917152087.py:80: UserWarning: FixedFormatter should only be used together with FixedLocator\n",
      "  ax[0,1].set_xticklabels(x, rotation=45, ha='right');\n",
      "C:\\Users\\Public\\Documents\\ESTsoft\\CreatorTemp\\ipykernel_33588\\3917152087.py:90: UserWarning: FixedFormatter should only be used together with FixedLocator\n",
      "  ax[1,1].set_xticklabels(x, rotation=45, ha='right');\n"
     ]
    },
    {
     "name": "stdout",
     "output_type": "stream",
     "text": [
      "1623-654-3-3-Crossmodal-Auditory-deep-(-6.24 mm)-TT24.1 ////// 450/878 completed  //////  0 min 0.92 sec\n"
     ]
    },
    {
     "name": "stderr",
     "output_type": "stream",
     "text": [
      "C:\\Users\\Public\\Documents\\ESTsoft\\CreatorTemp\\ipykernel_33588\\3917152087.py:80: UserWarning: FixedFormatter should only be used together with FixedLocator\n",
      "  ax[0,1].set_xticklabels(x, rotation=45, ha='right');\n",
      "C:\\Users\\Public\\Documents\\ESTsoft\\CreatorTemp\\ipykernel_33588\\3917152087.py:90: UserWarning: FixedFormatter should only be used together with FixedLocator\n",
      "  ax[1,1].set_xticklabels(x, rotation=45, ha='right');\n"
     ]
    },
    {
     "name": "stdout",
     "output_type": "stream",
     "text": [
      "1624-654-3-3-Crossmodal-Auditory-deep-(-6.24 mm)-TT24.2 ////// 451/878 completed  //////  0 min 0.94 sec\n"
     ]
    },
    {
     "name": "stderr",
     "output_type": "stream",
     "text": [
      "C:\\Users\\Public\\Documents\\ESTsoft\\CreatorTemp\\ipykernel_33588\\3917152087.py:80: UserWarning: FixedFormatter should only be used together with FixedLocator\n",
      "  ax[0,1].set_xticklabels(x, rotation=45, ha='right');\n",
      "C:\\Users\\Public\\Documents\\ESTsoft\\CreatorTemp\\ipykernel_33588\\3917152087.py:90: UserWarning: FixedFormatter should only be used together with FixedLocator\n",
      "  ax[1,1].set_xticklabels(x, rotation=45, ha='right');\n"
     ]
    },
    {
     "name": "stdout",
     "output_type": "stream",
     "text": [
      "1625-654-3-3-Crossmodal-Auditory-deep-(-6.24 mm)-TT24.3 ////// 452/878 completed  //////  0 min 0.94 sec\n"
     ]
    },
    {
     "name": "stderr",
     "output_type": "stream",
     "text": [
      "C:\\Users\\Public\\Documents\\ESTsoft\\CreatorTemp\\ipykernel_33588\\3917152087.py:80: UserWarning: FixedFormatter should only be used together with FixedLocator\n",
      "  ax[0,1].set_xticklabels(x, rotation=45, ha='right');\n",
      "C:\\Users\\Public\\Documents\\ESTsoft\\CreatorTemp\\ipykernel_33588\\3917152087.py:90: UserWarning: FixedFormatter should only be used together with FixedLocator\n",
      "  ax[1,1].set_xticklabels(x, rotation=45, ha='right');\n"
     ]
    },
    {
     "name": "stdout",
     "output_type": "stream",
     "text": [
      "1644-654-5-5-Crossmodal-Visual-superficial-(-5.28 mm)-TT8.1 ////// 454/878 completed  //////  0 min 0.99 sec\n"
     ]
    },
    {
     "name": "stderr",
     "output_type": "stream",
     "text": [
      "C:\\Users\\Public\\Documents\\ESTsoft\\CreatorTemp\\ipykernel_33588\\3917152087.py:80: UserWarning: FixedFormatter should only be used together with FixedLocator\n",
      "  ax[0,1].set_xticklabels(x, rotation=45, ha='right');\n",
      "C:\\Users\\Public\\Documents\\ESTsoft\\CreatorTemp\\ipykernel_33588\\3917152087.py:90: UserWarning: FixedFormatter should only be used together with FixedLocator\n",
      "  ax[1,1].set_xticklabels(x, rotation=45, ha='right');\n"
     ]
    },
    {
     "name": "stdout",
     "output_type": "stream",
     "text": [
      "1645-654-5-5-Crossmodal-Visual-superficial-(-5.28 mm)-TT8.2 ////// 455/878 completed  //////  0 min 0.91 sec\n"
     ]
    },
    {
     "name": "stderr",
     "output_type": "stream",
     "text": [
      "C:\\Users\\Public\\Documents\\ESTsoft\\CreatorTemp\\ipykernel_33588\\3917152087.py:80: UserWarning: FixedFormatter should only be used together with FixedLocator\n",
      "  ax[0,1].set_xticklabels(x, rotation=45, ha='right');\n",
      "C:\\Users\\Public\\Documents\\ESTsoft\\CreatorTemp\\ipykernel_33588\\3917152087.py:88: MatplotlibDeprecationWarning: Support for passing numbers through unit converters is deprecated since 3.5 and support will be removed two minor releases later; use Axis.convert_units instead.\n",
      "  ax[1,1].scatter(np.where(sig)[0],np.tile(0.1,(sum(sig),1)),marker='*',color='black')\n",
      "C:\\Users\\Public\\Documents\\ESTsoft\\CreatorTemp\\ipykernel_33588\\3917152087.py:90: UserWarning: FixedFormatter should only be used together with FixedLocator\n",
      "  ax[1,1].set_xticklabels(x, rotation=45, ha='right');\n"
     ]
    },
    {
     "name": "stdout",
     "output_type": "stream",
     "text": [
      "1646-654-5-5-Crossmodal-PER-superficial-(-5.52 mm)-TT11.1 ////// 456/878 completed  //////  0 min 0.78 sec\n"
     ]
    },
    {
     "name": "stderr",
     "output_type": "stream",
     "text": [
      "C:\\Users\\Public\\Documents\\ESTsoft\\CreatorTemp\\ipykernel_33588\\3917152087.py:80: UserWarning: FixedFormatter should only be used together with FixedLocator\n",
      "  ax[0,1].set_xticklabels(x, rotation=45, ha='right');\n",
      "C:\\Users\\Public\\Documents\\ESTsoft\\CreatorTemp\\ipykernel_33588\\3917152087.py:90: UserWarning: FixedFormatter should only be used together with FixedLocator\n",
      "  ax[1,1].set_xticklabels(x, rotation=45, ha='right');\n"
     ]
    },
    {
     "name": "stdout",
     "output_type": "stream",
     "text": [
      "1647-654-5-5-Crossmodal-Auditory-deep-(-4.8 mm)-TT12.1 ////// 457/878 completed  //////  0 min 0.80 sec\n"
     ]
    },
    {
     "name": "stderr",
     "output_type": "stream",
     "text": [
      "C:\\Users\\Public\\Documents\\ESTsoft\\CreatorTemp\\ipykernel_33588\\3917152087.py:80: UserWarning: FixedFormatter should only be used together with FixedLocator\n",
      "  ax[0,1].set_xticklabels(x, rotation=45, ha='right');\n",
      "C:\\Users\\Public\\Documents\\ESTsoft\\CreatorTemp\\ipykernel_33588\\3917152087.py:90: UserWarning: FixedFormatter should only be used together with FixedLocator\n",
      "  ax[1,1].set_xticklabels(x, rotation=45, ha='right');\n"
     ]
    },
    {
     "name": "stdout",
     "output_type": "stream",
     "text": [
      "1651-654-5-5-Crossmodal-Auditory-deep-(-4.8 mm)-TT14.1 ////// 458/878 completed  //////  0 min 0.89 sec\n"
     ]
    },
    {
     "name": "stderr",
     "output_type": "stream",
     "text": [
      "C:\\Users\\Public\\Documents\\ESTsoft\\CreatorTemp\\ipykernel_33588\\3917152087.py:80: UserWarning: FixedFormatter should only be used together with FixedLocator\n",
      "  ax[0,1].set_xticklabels(x, rotation=45, ha='right');\n",
      "C:\\Users\\Public\\Documents\\ESTsoft\\CreatorTemp\\ipykernel_33588\\3917152087.py:88: MatplotlibDeprecationWarning: Support for passing numbers through unit converters is deprecated since 3.5 and support will be removed two minor releases later; use Axis.convert_units instead.\n",
      "  ax[1,1].scatter(np.where(sig)[0],np.tile(0.1,(sum(sig),1)),marker='*',color='black')\n",
      "C:\\Users\\Public\\Documents\\ESTsoft\\CreatorTemp\\ipykernel_33588\\3917152087.py:90: UserWarning: FixedFormatter should only be used together with FixedLocator\n",
      "  ax[1,1].set_xticklabels(x, rotation=45, ha='right');\n"
     ]
    },
    {
     "name": "stdout",
     "output_type": "stream",
     "text": [
      "1655-654-5-5-Crossmodal-Tev-deep-(-5.88 mm)-TT18.1 ////// 462/878 completed  //////  0 min 0.79 sec\n"
     ]
    },
    {
     "name": "stderr",
     "output_type": "stream",
     "text": [
      "C:\\Users\\Public\\Documents\\ESTsoft\\CreatorTemp\\ipykernel_33588\\3917152087.py:80: UserWarning: FixedFormatter should only be used together with FixedLocator\n",
      "  ax[0,1].set_xticklabels(x, rotation=45, ha='right');\n",
      "C:\\Users\\Public\\Documents\\ESTsoft\\CreatorTemp\\ipykernel_33588\\3917152087.py:88: MatplotlibDeprecationWarning: Support for passing numbers through unit converters is deprecated since 3.5 and support will be removed two minor releases later; use Axis.convert_units instead.\n",
      "  ax[1,1].scatter(np.where(sig)[0],np.tile(0.1,(sum(sig),1)),marker='*',color='black')\n",
      "C:\\Users\\Public\\Documents\\ESTsoft\\CreatorTemp\\ipykernel_33588\\3917152087.py:90: UserWarning: FixedFormatter should only be used together with FixedLocator\n",
      "  ax[1,1].set_xticklabels(x, rotation=45, ha='right');\n"
     ]
    },
    {
     "name": "stdout",
     "output_type": "stream",
     "text": [
      "1656-654-5-5-Crossmodal-Tev-deep-(-5.88 mm)-TT18.2 ////// 463/878 completed  //////  0 min 0.83 sec\n"
     ]
    },
    {
     "name": "stderr",
     "output_type": "stream",
     "text": [
      "C:\\Users\\Public\\Documents\\ESTsoft\\CreatorTemp\\ipykernel_33588\\3917152087.py:80: UserWarning: FixedFormatter should only be used together with FixedLocator\n",
      "  ax[0,1].set_xticklabels(x, rotation=45, ha='right');\n",
      "C:\\Users\\Public\\Documents\\ESTsoft\\CreatorTemp\\ipykernel_33588\\3917152087.py:88: MatplotlibDeprecationWarning: Support for passing numbers through unit converters is deprecated since 3.5 and support will be removed two minor releases later; use Axis.convert_units instead.\n",
      "  ax[1,1].scatter(np.where(sig)[0],np.tile(0.1,(sum(sig),1)),marker='*',color='black')\n",
      "C:\\Users\\Public\\Documents\\ESTsoft\\CreatorTemp\\ipykernel_33588\\3917152087.py:90: UserWarning: FixedFormatter should only be used together with FixedLocator\n",
      "  ax[1,1].set_xticklabels(x, rotation=45, ha='right');\n"
     ]
    },
    {
     "name": "stdout",
     "output_type": "stream",
     "text": [
      "1657-654-5-5-Crossmodal-TeV-deep-(-6.12 mm)-TT21.1 ////// 464/878 completed  //////  0 min 0.81 sec\n"
     ]
    },
    {
     "name": "stderr",
     "output_type": "stream",
     "text": [
      "C:\\Users\\Public\\Documents\\ESTsoft\\CreatorTemp\\ipykernel_33588\\3917152087.py:80: UserWarning: FixedFormatter should only be used together with FixedLocator\n",
      "  ax[0,1].set_xticklabels(x, rotation=45, ha='right');\n",
      "C:\\Users\\Public\\Documents\\ESTsoft\\CreatorTemp\\ipykernel_33588\\3917152087.py:88: MatplotlibDeprecationWarning: Support for passing numbers through unit converters is deprecated since 3.5 and support will be removed two minor releases later; use Axis.convert_units instead.\n",
      "  ax[1,1].scatter(np.where(sig)[0],np.tile(0.1,(sum(sig),1)),marker='*',color='black')\n",
      "C:\\Users\\Public\\Documents\\ESTsoft\\CreatorTemp\\ipykernel_33588\\3917152087.py:90: UserWarning: FixedFormatter should only be used together with FixedLocator\n",
      "  ax[1,1].set_xticklabels(x, rotation=45, ha='right');\n"
     ]
    },
    {
     "name": "stdout",
     "output_type": "stream",
     "text": [
      "1659-654-5-5-Crossmodal-TeV-deep-(-6.12 mm)-TT21.3 ////// 465/878 completed  //////  0 min 0.81 sec\n"
     ]
    },
    {
     "name": "stderr",
     "output_type": "stream",
     "text": [
      "C:\\Users\\Public\\Documents\\ESTsoft\\CreatorTemp\\ipykernel_33588\\3917152087.py:80: UserWarning: FixedFormatter should only be used together with FixedLocator\n",
      "  ax[0,1].set_xticklabels(x, rotation=45, ha='right');\n",
      "C:\\Users\\Public\\Documents\\ESTsoft\\CreatorTemp\\ipykernel_33588\\3917152087.py:88: MatplotlibDeprecationWarning: Support for passing numbers through unit converters is deprecated since 3.5 and support will be removed two minor releases later; use Axis.convert_units instead.\n",
      "  ax[1,1].scatter(np.where(sig)[0],np.tile(0.1,(sum(sig),1)),marker='*',color='black')\n",
      "C:\\Users\\Public\\Documents\\ESTsoft\\CreatorTemp\\ipykernel_33588\\3917152087.py:90: UserWarning: FixedFormatter should only be used together with FixedLocator\n",
      "  ax[1,1].set_xticklabels(x, rotation=45, ha='right');\n"
     ]
    },
    {
     "name": "stdout",
     "output_type": "stream",
     "text": [
      "1662-654-5-5-Crossmodal-Tev-superficial-(-6.6 mm)-TT23.1 ////// 468/878 completed  //////  0 min 0.81 sec\n"
     ]
    },
    {
     "name": "stderr",
     "output_type": "stream",
     "text": [
      "C:\\Users\\Public\\Documents\\ESTsoft\\CreatorTemp\\ipykernel_33588\\3917152087.py:80: UserWarning: FixedFormatter should only be used together with FixedLocator\n",
      "  ax[0,1].set_xticklabels(x, rotation=45, ha='right');\n",
      "C:\\Users\\Public\\Documents\\ESTsoft\\CreatorTemp\\ipykernel_33588\\3917152087.py:90: UserWarning: FixedFormatter should only be used together with FixedLocator\n",
      "  ax[1,1].set_xticklabels(x, rotation=45, ha='right');\n"
     ]
    },
    {
     "name": "stdout",
     "output_type": "stream",
     "text": [
      "1667-654-5-5-Crossmodal-Auditory-deep-(-6.24 mm)-TT24.5 ////// 471/878 completed  //////  0 min 0.80 sec\n"
     ]
    },
    {
     "name": "stderr",
     "output_type": "stream",
     "text": [
      "C:\\Users\\Public\\Documents\\ESTsoft\\CreatorTemp\\ipykernel_33588\\3917152087.py:80: UserWarning: FixedFormatter should only be used together with FixedLocator\n",
      "  ax[0,1].set_xticklabels(x, rotation=45, ha='right');\n",
      "C:\\Users\\Public\\Documents\\ESTsoft\\CreatorTemp\\ipykernel_33588\\3917152087.py:90: UserWarning: FixedFormatter should only be used together with FixedLocator\n",
      "  ax[1,1].set_xticklabels(x, rotation=45, ha='right');\n"
     ]
    },
    {
     "name": "stdout",
     "output_type": "stream",
     "text": [
      "1668-654-5-5-Crossmodal-Auditory-deep-(-6.24 mm)-TT24.6 ////// 472/878 completed  //////  0 min 0.77 sec\n"
     ]
    },
    {
     "name": "stderr",
     "output_type": "stream",
     "text": [
      "C:\\Users\\Public\\Documents\\ESTsoft\\CreatorTemp\\ipykernel_33588\\3917152087.py:80: UserWarning: FixedFormatter should only be used together with FixedLocator\n",
      "  ax[0,1].set_xticklabels(x, rotation=45, ha='right');\n",
      "C:\\Users\\Public\\Documents\\ESTsoft\\CreatorTemp\\ipykernel_33588\\3917152087.py:90: UserWarning: FixedFormatter should only be used together with FixedLocator\n",
      "  ax[1,1].set_xticklabels(x, rotation=45, ha='right');\n"
     ]
    },
    {
     "name": "stdout",
     "output_type": "stream",
     "text": [
      "1670-654-6-6-Crossmodal-Auditory-deep-(-4.8 mm)-TT12.1 ////// 473/878 completed  //////  0 min 0.84 sec\n"
     ]
    },
    {
     "name": "stderr",
     "output_type": "stream",
     "text": [
      "C:\\Users\\Public\\Documents\\ESTsoft\\CreatorTemp\\ipykernel_33588\\3917152087.py:80: UserWarning: FixedFormatter should only be used together with FixedLocator\n",
      "  ax[0,1].set_xticklabels(x, rotation=45, ha='right');\n",
      "C:\\Users\\Public\\Documents\\ESTsoft\\CreatorTemp\\ipykernel_33588\\3917152087.py:90: UserWarning: FixedFormatter should only be used together with FixedLocator\n",
      "  ax[1,1].set_xticklabels(x, rotation=45, ha='right');\n"
     ]
    },
    {
     "name": "stdout",
     "output_type": "stream",
     "text": [
      "1674-654-6-6-Crossmodal-TeV-superficial-(-6.12 mm)-TT20.1 ////// 475/878 completed  //////  0 min 0.82 sec\n"
     ]
    },
    {
     "name": "stderr",
     "output_type": "stream",
     "text": [
      "C:\\Users\\Public\\Documents\\ESTsoft\\CreatorTemp\\ipykernel_33588\\3917152087.py:80: UserWarning: FixedFormatter should only be used together with FixedLocator\n",
      "  ax[0,1].set_xticklabels(x, rotation=45, ha='right');\n",
      "C:\\Users\\Public\\Documents\\ESTsoft\\CreatorTemp\\ipykernel_33588\\3917152087.py:88: MatplotlibDeprecationWarning: Support for passing numbers through unit converters is deprecated since 3.5 and support will be removed two minor releases later; use Axis.convert_units instead.\n",
      "  ax[1,1].scatter(np.where(sig)[0],np.tile(0.1,(sum(sig),1)),marker='*',color='black')\n",
      "C:\\Users\\Public\\Documents\\ESTsoft\\CreatorTemp\\ipykernel_33588\\3917152087.py:90: UserWarning: FixedFormatter should only be used together with FixedLocator\n",
      "  ax[1,1].set_xticklabels(x, rotation=45, ha='right');\n"
     ]
    },
    {
     "name": "stdout",
     "output_type": "stream",
     "text": [
      "1675-654-6-6-Crossmodal-TeV-superficial-(-6.12 mm)-TT20.2 ////// 476/878 completed  //////  0 min 0.85 sec\n"
     ]
    },
    {
     "name": "stderr",
     "output_type": "stream",
     "text": [
      "C:\\Users\\Public\\Documents\\ESTsoft\\CreatorTemp\\ipykernel_33588\\3917152087.py:80: UserWarning: FixedFormatter should only be used together with FixedLocator\n",
      "  ax[0,1].set_xticklabels(x, rotation=45, ha='right');\n",
      "C:\\Users\\Public\\Documents\\ESTsoft\\CreatorTemp\\ipykernel_33588\\3917152087.py:90: UserWarning: FixedFormatter should only be used together with FixedLocator\n",
      "  ax[1,1].set_xticklabels(x, rotation=45, ha='right');\n"
     ]
    },
    {
     "name": "stdout",
     "output_type": "stream",
     "text": [
      "1676-654-6-6-Crossmodal-TeV-superficial-(-6.12 mm)-TT20.3 ////// 477/878 completed  //////  0 min 0.94 sec\n"
     ]
    },
    {
     "name": "stderr",
     "output_type": "stream",
     "text": [
      "C:\\Users\\Public\\Documents\\ESTsoft\\CreatorTemp\\ipykernel_33588\\3917152087.py:80: UserWarning: FixedFormatter should only be used together with FixedLocator\n",
      "  ax[0,1].set_xticklabels(x, rotation=45, ha='right');\n",
      "C:\\Users\\Public\\Documents\\ESTsoft\\CreatorTemp\\ipykernel_33588\\3917152087.py:90: UserWarning: FixedFormatter should only be used together with FixedLocator\n",
      "  ax[1,1].set_xticklabels(x, rotation=45, ha='right');\n"
     ]
    },
    {
     "name": "stdout",
     "output_type": "stream",
     "text": [
      "1677-654-6-6-Crossmodal-TeV-superficial-(-6.12 mm)-TT21.1 ////// 478/878 completed  //////  0 min 0.91 sec\n"
     ]
    },
    {
     "name": "stderr",
     "output_type": "stream",
     "text": [
      "C:\\Users\\Public\\Documents\\ESTsoft\\CreatorTemp\\ipykernel_33588\\3917152087.py:80: UserWarning: FixedFormatter should only be used together with FixedLocator\n",
      "  ax[0,1].set_xticklabels(x, rotation=45, ha='right');\n",
      "C:\\Users\\Public\\Documents\\ESTsoft\\CreatorTemp\\ipykernel_33588\\3917152087.py:88: MatplotlibDeprecationWarning: Support for passing numbers through unit converters is deprecated since 3.5 and support will be removed two minor releases later; use Axis.convert_units instead.\n",
      "  ax[1,1].scatter(np.where(sig)[0],np.tile(0.1,(sum(sig),1)),marker='*',color='black')\n",
      "C:\\Users\\Public\\Documents\\ESTsoft\\CreatorTemp\\ipykernel_33588\\3917152087.py:90: UserWarning: FixedFormatter should only be used together with FixedLocator\n",
      "  ax[1,1].set_xticklabels(x, rotation=45, ha='right');\n"
     ]
    },
    {
     "name": "stdout",
     "output_type": "stream",
     "text": [
      "1679-654-6-6-Crossmodal-TeV-superficial-(-6.12 mm)-TT21.3 ////// 479/878 completed  //////  0 min 0.82 sec\n"
     ]
    },
    {
     "name": "stderr",
     "output_type": "stream",
     "text": [
      "C:\\Users\\Public\\Documents\\ESTsoft\\CreatorTemp\\ipykernel_33588\\3917152087.py:80: UserWarning: FixedFormatter should only be used together with FixedLocator\n",
      "  ax[0,1].set_xticklabels(x, rotation=45, ha='right');\n",
      "C:\\Users\\Public\\Documents\\ESTsoft\\CreatorTemp\\ipykernel_33588\\3917152087.py:88: MatplotlibDeprecationWarning: Support for passing numbers through unit converters is deprecated since 3.5 and support will be removed two minor releases later; use Axis.convert_units instead.\n",
      "  ax[1,1].scatter(np.where(sig)[0],np.tile(0.1,(sum(sig),1)),marker='*',color='black')\n",
      "C:\\Users\\Public\\Documents\\ESTsoft\\CreatorTemp\\ipykernel_33588\\3917152087.py:90: UserWarning: FixedFormatter should only be used together with FixedLocator\n",
      "  ax[1,1].set_xticklabels(x, rotation=45, ha='right');\n"
     ]
    },
    {
     "name": "stdout",
     "output_type": "stream",
     "text": [
      "1684-654-6-6-Crossmodal-Auditory-deep-(-6.24 mm)-TT24.1 ////// 481/878 completed  //////  0 min 0.88 sec\n"
     ]
    },
    {
     "name": "stderr",
     "output_type": "stream",
     "text": [
      "C:\\Users\\Public\\Documents\\ESTsoft\\CreatorTemp\\ipykernel_33588\\3917152087.py:80: UserWarning: FixedFormatter should only be used together with FixedLocator\n",
      "  ax[0,1].set_xticklabels(x, rotation=45, ha='right');\n",
      "C:\\Users\\Public\\Documents\\ESTsoft\\CreatorTemp\\ipykernel_33588\\3917152087.py:90: UserWarning: FixedFormatter should only be used together with FixedLocator\n",
      "  ax[1,1].set_xticklabels(x, rotation=45, ha='right');\n"
     ]
    },
    {
     "name": "stdout",
     "output_type": "stream",
     "text": [
      "1685-654-6-6-Crossmodal-Auditory-deep-(-6.24 mm)-TT24.2 ////// 482/878 completed  //////  0 min 1.07 sec\n"
     ]
    },
    {
     "name": "stderr",
     "output_type": "stream",
     "text": [
      "C:\\Users\\Public\\Documents\\ESTsoft\\CreatorTemp\\ipykernel_33588\\3917152087.py:80: UserWarning: FixedFormatter should only be used together with FixedLocator\n",
      "  ax[0,1].set_xticklabels(x, rotation=45, ha='right');\n",
      "C:\\Users\\Public\\Documents\\ESTsoft\\CreatorTemp\\ipykernel_33588\\3917152087.py:90: UserWarning: FixedFormatter should only be used together with FixedLocator\n",
      "  ax[1,1].set_xticklabels(x, rotation=45, ha='right');\n"
     ]
    },
    {
     "name": "stdout",
     "output_type": "stream",
     "text": [
      "1686-654-6-6-Crossmodal-Auditory-deep-(-6.24 mm)-TT24.3 ////// 483/878 completed  //////  0 min 0.97 sec\n"
     ]
    },
    {
     "name": "stderr",
     "output_type": "stream",
     "text": [
      "C:\\Users\\Public\\Documents\\ESTsoft\\CreatorTemp\\ipykernel_33588\\3917152087.py:80: UserWarning: FixedFormatter should only be used together with FixedLocator\n",
      "  ax[0,1].set_xticklabels(x, rotation=45, ha='right');\n",
      "C:\\Users\\Public\\Documents\\ESTsoft\\CreatorTemp\\ipykernel_33588\\3917152087.py:88: MatplotlibDeprecationWarning: Support for passing numbers through unit converters is deprecated since 3.5 and support will be removed two minor releases later; use Axis.convert_units instead.\n",
      "  ax[1,1].scatter(np.where(sig)[0],np.tile(0.1,(sum(sig),1)),marker='*',color='black')\n",
      "C:\\Users\\Public\\Documents\\ESTsoft\\CreatorTemp\\ipykernel_33588\\3917152087.py:90: UserWarning: FixedFormatter should only be used together with FixedLocator\n",
      "  ax[1,1].set_xticklabels(x, rotation=45, ha='right');\n"
     ]
    },
    {
     "name": "stdout",
     "output_type": "stream",
     "text": [
      "1771-679-1-1-Crossmodal-Visual-deep-(-6.24 mm)-TT2.1 ////// 486/878 completed  //////  0 min 2.42 sec\n"
     ]
    },
    {
     "name": "stderr",
     "output_type": "stream",
     "text": [
      "C:\\Users\\Public\\Documents\\ESTsoft\\CreatorTemp\\ipykernel_33588\\3917152087.py:80: UserWarning: FixedFormatter should only be used together with FixedLocator\n",
      "  ax[0,1].set_xticklabels(x, rotation=45, ha='right');\n",
      "C:\\Users\\Public\\Documents\\ESTsoft\\CreatorTemp\\ipykernel_33588\\3917152087.py:88: MatplotlibDeprecationWarning: Support for passing numbers through unit converters is deprecated since 3.5 and support will be removed two minor releases later; use Axis.convert_units instead.\n",
      "  ax[1,1].scatter(np.where(sig)[0],np.tile(0.1,(sum(sig),1)),marker='*',color='black')\n",
      "C:\\Users\\Public\\Documents\\ESTsoft\\CreatorTemp\\ipykernel_33588\\3917152087.py:90: UserWarning: FixedFormatter should only be used together with FixedLocator\n",
      "  ax[1,1].set_xticklabels(x, rotation=45, ha='right');\n"
     ]
    },
    {
     "name": "stdout",
     "output_type": "stream",
     "text": [
      "1772-679-1-1-Crossmodal-Visual-deep-(-6.24 mm)-TT2.2 ////// 487/878 completed  //////  0 min 0.87 sec\n"
     ]
    },
    {
     "name": "stderr",
     "output_type": "stream",
     "text": [
      "C:\\Users\\Public\\Documents\\ESTsoft\\CreatorTemp\\ipykernel_33588\\3917152087.py:80: UserWarning: FixedFormatter should only be used together with FixedLocator\n",
      "  ax[0,1].set_xticklabels(x, rotation=45, ha='right');\n",
      "C:\\Users\\Public\\Documents\\ESTsoft\\CreatorTemp\\ipykernel_33588\\3917152087.py:90: UserWarning: FixedFormatter should only be used together with FixedLocator\n",
      "  ax[1,1].set_xticklabels(x, rotation=45, ha='right');\n"
     ]
    },
    {
     "name": "stdout",
     "output_type": "stream",
     "text": [
      "1773-679-1-1-Crossmodal-Visual-deep-(-6.24 mm)-TT2.3 ////// 488/878 completed  //////  0 min 0.87 sec\n"
     ]
    },
    {
     "name": "stderr",
     "output_type": "stream",
     "text": [
      "C:\\Users\\Public\\Documents\\ESTsoft\\CreatorTemp\\ipykernel_33588\\3917152087.py:80: UserWarning: FixedFormatter should only be used together with FixedLocator\n",
      "  ax[0,1].set_xticklabels(x, rotation=45, ha='right');\n",
      "C:\\Users\\Public\\Documents\\ESTsoft\\CreatorTemp\\ipykernel_33588\\3917152087.py:90: UserWarning: FixedFormatter should only be used together with FixedLocator\n",
      "  ax[1,1].set_xticklabels(x, rotation=45, ha='right');\n"
     ]
    },
    {
     "name": "stdout",
     "output_type": "stream",
     "text": [
      "1774-679-1-1-Crossmodal-Visual-deep-(-6.24 mm)-TT2.4 ////// 489/878 completed  //////  0 min 0.85 sec\n"
     ]
    },
    {
     "name": "stderr",
     "output_type": "stream",
     "text": [
      "C:\\Users\\Public\\Documents\\ESTsoft\\CreatorTemp\\ipykernel_33588\\3917152087.py:80: UserWarning: FixedFormatter should only be used together with FixedLocator\n",
      "  ax[0,1].set_xticklabels(x, rotation=45, ha='right');\n",
      "C:\\Users\\Public\\Documents\\ESTsoft\\CreatorTemp\\ipykernel_33588\\3917152087.py:90: UserWarning: FixedFormatter should only be used together with FixedLocator\n",
      "  ax[1,1].set_xticklabels(x, rotation=45, ha='right');\n"
     ]
    },
    {
     "name": "stdout",
     "output_type": "stream",
     "text": [
      "1776-679-1-1-Crossmodal-Tev-deep-(-4.68 mm)-TT10.1 ////// 490/878 completed  //////  0 min 0.87 sec\n"
     ]
    },
    {
     "name": "stderr",
     "output_type": "stream",
     "text": [
      "C:\\Users\\Public\\Documents\\ESTsoft\\CreatorTemp\\ipykernel_33588\\3917152087.py:80: UserWarning: FixedFormatter should only be used together with FixedLocator\n",
      "  ax[0,1].set_xticklabels(x, rotation=45, ha='right');\n",
      "C:\\Users\\Public\\Documents\\ESTsoft\\CreatorTemp\\ipykernel_33588\\3917152087.py:88: MatplotlibDeprecationWarning: Support for passing numbers through unit converters is deprecated since 3.5 and support will be removed two minor releases later; use Axis.convert_units instead.\n",
      "  ax[1,1].scatter(np.where(sig)[0],np.tile(0.1,(sum(sig),1)),marker='*',color='black')\n",
      "C:\\Users\\Public\\Documents\\ESTsoft\\CreatorTemp\\ipykernel_33588\\3917152087.py:90: UserWarning: FixedFormatter should only be used together with FixedLocator\n",
      "  ax[1,1].set_xticklabels(x, rotation=45, ha='right');\n"
     ]
    },
    {
     "name": "stdout",
     "output_type": "stream",
     "text": [
      "1777-679-1-1-Crossmodal-Tev-deep-(-4.68 mm)-TT10.2 ////// 491/878 completed  //////  0 min 0.81 sec\n"
     ]
    },
    {
     "name": "stderr",
     "output_type": "stream",
     "text": [
      "C:\\Users\\Public\\Documents\\ESTsoft\\CreatorTemp\\ipykernel_33588\\3917152087.py:80: UserWarning: FixedFormatter should only be used together with FixedLocator\n",
      "  ax[0,1].set_xticklabels(x, rotation=45, ha='right');\n",
      "C:\\Users\\Public\\Documents\\ESTsoft\\CreatorTemp\\ipykernel_33588\\3917152087.py:90: UserWarning: FixedFormatter should only be used together with FixedLocator\n",
      "  ax[1,1].set_xticklabels(x, rotation=45, ha='right');\n"
     ]
    },
    {
     "name": "stdout",
     "output_type": "stream",
     "text": [
      "1779-679-1-1-Crossmodal-Visual-deep-(-4.56 mm)-TT11.1 ////// 493/878 completed  //////  0 min 0.78 sec\n"
     ]
    },
    {
     "name": "stderr",
     "output_type": "stream",
     "text": [
      "C:\\Users\\Public\\Documents\\ESTsoft\\CreatorTemp\\ipykernel_33588\\3917152087.py:80: UserWarning: FixedFormatter should only be used together with FixedLocator\n",
      "  ax[0,1].set_xticklabels(x, rotation=45, ha='right');\n",
      "C:\\Users\\Public\\Documents\\ESTsoft\\CreatorTemp\\ipykernel_33588\\3917152087.py:88: MatplotlibDeprecationWarning: Support for passing numbers through unit converters is deprecated since 3.5 and support will be removed two minor releases later; use Axis.convert_units instead.\n",
      "  ax[1,1].scatter(np.where(sig)[0],np.tile(0.1,(sum(sig),1)),marker='*',color='black')\n",
      "C:\\Users\\Public\\Documents\\ESTsoft\\CreatorTemp\\ipykernel_33588\\3917152087.py:90: UserWarning: FixedFormatter should only be used together with FixedLocator\n",
      "  ax[1,1].set_xticklabels(x, rotation=45, ha='right');\n"
     ]
    },
    {
     "name": "stdout",
     "output_type": "stream",
     "text": [
      "1781-679-1-1-Crossmodal-Visual-deep-(-4.56 mm)-TT13.2 ////// 494/878 completed  //////  0 min 0.80 sec\n"
     ]
    },
    {
     "name": "stderr",
     "output_type": "stream",
     "text": [
      "C:\\Users\\Public\\Documents\\ESTsoft\\CreatorTemp\\ipykernel_33588\\3917152087.py:80: UserWarning: FixedFormatter should only be used together with FixedLocator\n",
      "  ax[0,1].set_xticklabels(x, rotation=45, ha='right');\n",
      "C:\\Users\\Public\\Documents\\ESTsoft\\CreatorTemp\\ipykernel_33588\\3917152087.py:90: UserWarning: FixedFormatter should only be used together with FixedLocator\n",
      "  ax[1,1].set_xticklabels(x, rotation=45, ha='right');\n"
     ]
    },
    {
     "name": "stdout",
     "output_type": "stream",
     "text": [
      "1782-679-1-1-Crossmodal-Visual-deep-(-4.56 mm)-TT13.3 ////// 495/878 completed  //////  0 min 0.75 sec\n"
     ]
    },
    {
     "name": "stderr",
     "output_type": "stream",
     "text": [
      "C:\\Users\\Public\\Documents\\ESTsoft\\CreatorTemp\\ipykernel_33588\\3917152087.py:80: UserWarning: FixedFormatter should only be used together with FixedLocator\n",
      "  ax[0,1].set_xticklabels(x, rotation=45, ha='right');\n",
      "C:\\Users\\Public\\Documents\\ESTsoft\\CreatorTemp\\ipykernel_33588\\3917152087.py:90: UserWarning: FixedFormatter should only be used together with FixedLocator\n",
      "  ax[1,1].set_xticklabels(x, rotation=45, ha='right');\n"
     ]
    },
    {
     "name": "stdout",
     "output_type": "stream",
     "text": [
      "1784-679-1-1-Crossmodal-Visual-deep-(-4.44 mm)-TT14.2 ////// 497/878 completed  //////  0 min 0.81 sec\n"
     ]
    },
    {
     "name": "stderr",
     "output_type": "stream",
     "text": [
      "C:\\Users\\Public\\Documents\\ESTsoft\\CreatorTemp\\ipykernel_33588\\3917152087.py:80: UserWarning: FixedFormatter should only be used together with FixedLocator\n",
      "  ax[0,1].set_xticklabels(x, rotation=45, ha='right');\n",
      "C:\\Users\\Public\\Documents\\ESTsoft\\CreatorTemp\\ipykernel_33588\\3917152087.py:88: MatplotlibDeprecationWarning: Support for passing numbers through unit converters is deprecated since 3.5 and support will be removed two minor releases later; use Axis.convert_units instead.\n",
      "  ax[1,1].scatter(np.where(sig)[0],np.tile(0.1,(sum(sig),1)),marker='*',color='black')\n",
      "C:\\Users\\Public\\Documents\\ESTsoft\\CreatorTemp\\ipykernel_33588\\3917152087.py:90: UserWarning: FixedFormatter should only be used together with FixedLocator\n",
      "  ax[1,1].set_xticklabels(x, rotation=45, ha='right');\n"
     ]
    },
    {
     "name": "stdout",
     "output_type": "stream",
     "text": [
      "1785-679-1-1-Crossmodal-Visual-deep-(-4.44 mm)-TT14.3 ////// 498/878 completed  //////  0 min 0.84 sec\n"
     ]
    },
    {
     "name": "stderr",
     "output_type": "stream",
     "text": [
      "C:\\Users\\Public\\Documents\\ESTsoft\\CreatorTemp\\ipykernel_33588\\3917152087.py:80: UserWarning: FixedFormatter should only be used together with FixedLocator\n",
      "  ax[0,1].set_xticklabels(x, rotation=45, ha='right');\n",
      "C:\\Users\\Public\\Documents\\ESTsoft\\CreatorTemp\\ipykernel_33588\\3917152087.py:90: UserWarning: FixedFormatter should only be used together with FixedLocator\n",
      "  ax[1,1].set_xticklabels(x, rotation=45, ha='right');\n"
     ]
    },
    {
     "name": "stdout",
     "output_type": "stream",
     "text": [
      "1786-679-1-1-Crossmodal-Visual-deep-(-4.44 mm)-TT14.4 ////// 499/878 completed  //////  0 min 0.95 sec\n"
     ]
    },
    {
     "name": "stderr",
     "output_type": "stream",
     "text": [
      "C:\\Users\\Public\\Documents\\ESTsoft\\CreatorTemp\\ipykernel_33588\\3917152087.py:80: UserWarning: FixedFormatter should only be used together with FixedLocator\n",
      "  ax[0,1].set_xticklabels(x, rotation=45, ha='right');\n",
      "C:\\Users\\Public\\Documents\\ESTsoft\\CreatorTemp\\ipykernel_33588\\3917152087.py:90: UserWarning: FixedFormatter should only be used together with FixedLocator\n",
      "  ax[1,1].set_xticklabels(x, rotation=45, ha='right');\n"
     ]
    },
    {
     "name": "stdout",
     "output_type": "stream",
     "text": [
      "1787-679-1-1-Crossmodal-Visual-deep-(-4.44 mm)-TT14.5 ////// 500/878 completed  //////  0 min 0.93 sec\n"
     ]
    },
    {
     "name": "stderr",
     "output_type": "stream",
     "text": [
      "C:\\Users\\Public\\Documents\\ESTsoft\\CreatorTemp\\ipykernel_33588\\3917152087.py:80: UserWarning: FixedFormatter should only be used together with FixedLocator\n",
      "  ax[0,1].set_xticklabels(x, rotation=45, ha='right');\n",
      "C:\\Users\\Public\\Documents\\ESTsoft\\CreatorTemp\\ipykernel_33588\\3917152087.py:90: UserWarning: FixedFormatter should only be used together with FixedLocator\n",
      "  ax[1,1].set_xticklabels(x, rotation=45, ha='right');\n"
     ]
    },
    {
     "name": "stdout",
     "output_type": "stream",
     "text": [
      "1788-679-1-1-Crossmodal-Visual-deep-(-4.44 mm)-TT14.6 ////// 501/878 completed  //////  0 min 0.87 sec\n"
     ]
    },
    {
     "name": "stderr",
     "output_type": "stream",
     "text": [
      "C:\\Users\\Public\\Documents\\ESTsoft\\CreatorTemp\\ipykernel_33588\\3917152087.py:80: UserWarning: FixedFormatter should only be used together with FixedLocator\n",
      "  ax[0,1].set_xticklabels(x, rotation=45, ha='right');\n",
      "C:\\Users\\Public\\Documents\\ESTsoft\\CreatorTemp\\ipykernel_33588\\3917152087.py:88: MatplotlibDeprecationWarning: Support for passing numbers through unit converters is deprecated since 3.5 and support will be removed two minor releases later; use Axis.convert_units instead.\n",
      "  ax[1,1].scatter(np.where(sig)[0],np.tile(0.1,(sum(sig),1)),marker='*',color='black')\n",
      "C:\\Users\\Public\\Documents\\ESTsoft\\CreatorTemp\\ipykernel_33588\\3917152087.py:90: UserWarning: FixedFormatter should only be used together with FixedLocator\n",
      "  ax[1,1].set_xticklabels(x, rotation=45, ha='right');\n"
     ]
    },
    {
     "name": "stdout",
     "output_type": "stream",
     "text": [
      "1789-679-1-1-Crossmodal-Visual-deep-(-4.44 mm)-TT14.7 ////// 502/878 completed  //////  0 min 0.91 sec\n"
     ]
    },
    {
     "name": "stderr",
     "output_type": "stream",
     "text": [
      "C:\\Users\\Public\\Documents\\ESTsoft\\CreatorTemp\\ipykernel_33588\\3917152087.py:80: UserWarning: FixedFormatter should only be used together with FixedLocator\n",
      "  ax[0,1].set_xticklabels(x, rotation=45, ha='right');\n",
      "C:\\Users\\Public\\Documents\\ESTsoft\\CreatorTemp\\ipykernel_33588\\3917152087.py:90: UserWarning: FixedFormatter should only be used together with FixedLocator\n",
      "  ax[1,1].set_xticklabels(x, rotation=45, ha='right');\n"
     ]
    },
    {
     "name": "stdout",
     "output_type": "stream",
     "text": [
      "1790-679-1-1-Crossmodal-Visual-deep-(-4.44 mm)-TT14.8 ////// 503/878 completed  //////  0 min 0.90 sec\n"
     ]
    },
    {
     "name": "stderr",
     "output_type": "stream",
     "text": [
      "C:\\Users\\Public\\Documents\\ESTsoft\\CreatorTemp\\ipykernel_33588\\3917152087.py:80: UserWarning: FixedFormatter should only be used together with FixedLocator\n",
      "  ax[0,1].set_xticklabels(x, rotation=45, ha='right');\n",
      "C:\\Users\\Public\\Documents\\ESTsoft\\CreatorTemp\\ipykernel_33588\\3917152087.py:90: UserWarning: FixedFormatter should only be used together with FixedLocator\n",
      "  ax[1,1].set_xticklabels(x, rotation=45, ha='right');\n"
     ]
    },
    {
     "name": "stdout",
     "output_type": "stream",
     "text": [
      "1791-679-1-1-Crossmodal-Visual-deep-(-4.68 mm)-TT15.1 ////// 504/878 completed  //////  0 min 0.91 sec\n"
     ]
    },
    {
     "name": "stderr",
     "output_type": "stream",
     "text": [
      "C:\\Users\\Public\\Documents\\ESTsoft\\CreatorTemp\\ipykernel_33588\\3917152087.py:80: UserWarning: FixedFormatter should only be used together with FixedLocator\n",
      "  ax[0,1].set_xticklabels(x, rotation=45, ha='right');\n",
      "C:\\Users\\Public\\Documents\\ESTsoft\\CreatorTemp\\ipykernel_33588\\3917152087.py:90: UserWarning: FixedFormatter should only be used together with FixedLocator\n",
      "  ax[1,1].set_xticklabels(x, rotation=45, ha='right');\n"
     ]
    },
    {
     "name": "stdout",
     "output_type": "stream",
     "text": [
      "1793-679-1-1-Crossmodal-Visual-deep-(-4.68 mm)-TT15.3 ////// 505/878 completed  //////  0 min 0.81 sec\n"
     ]
    },
    {
     "name": "stderr",
     "output_type": "stream",
     "text": [
      "C:\\Users\\Public\\Documents\\ESTsoft\\CreatorTemp\\ipykernel_33588\\3917152087.py:80: UserWarning: FixedFormatter should only be used together with FixedLocator\n",
      "  ax[0,1].set_xticklabels(x, rotation=45, ha='right');\n",
      "C:\\Users\\Public\\Documents\\ESTsoft\\CreatorTemp\\ipykernel_33588\\3917152087.py:90: UserWarning: FixedFormatter should only be used together with FixedLocator\n",
      "  ax[1,1].set_xticklabels(x, rotation=45, ha='right');\n"
     ]
    },
    {
     "name": "stdout",
     "output_type": "stream",
     "text": [
      "1794-679-1-1-Crossmodal-Auditory-deep-(-5.28 mm)-TT17.1 ////// 506/878 completed  //////  0 min 0.92 sec\n"
     ]
    },
    {
     "name": "stderr",
     "output_type": "stream",
     "text": [
      "C:\\Users\\Public\\Documents\\ESTsoft\\CreatorTemp\\ipykernel_33588\\3917152087.py:80: UserWarning: FixedFormatter should only be used together with FixedLocator\n",
      "  ax[0,1].set_xticklabels(x, rotation=45, ha='right');\n",
      "C:\\Users\\Public\\Documents\\ESTsoft\\CreatorTemp\\ipykernel_33588\\3917152087.py:90: UserWarning: FixedFormatter should only be used together with FixedLocator\n",
      "  ax[1,1].set_xticklabels(x, rotation=45, ha='right');\n"
     ]
    },
    {
     "name": "stdout",
     "output_type": "stream",
     "text": [
      "1795-679-1-1-Crossmodal-Auditory-deep-(-5.28 mm)-TT17.2 ////// 507/878 completed  //////  0 min 0.78 sec\n"
     ]
    },
    {
     "name": "stderr",
     "output_type": "stream",
     "text": [
      "C:\\Users\\Public\\Documents\\ESTsoft\\CreatorTemp\\ipykernel_33588\\3917152087.py:80: UserWarning: FixedFormatter should only be used together with FixedLocator\n",
      "  ax[0,1].set_xticklabels(x, rotation=45, ha='right');\n",
      "C:\\Users\\Public\\Documents\\ESTsoft\\CreatorTemp\\ipykernel_33588\\3917152087.py:90: UserWarning: FixedFormatter should only be used together with FixedLocator\n",
      "  ax[1,1].set_xticklabels(x, rotation=45, ha='right');\n"
     ]
    },
    {
     "name": "stdout",
     "output_type": "stream",
     "text": [
      "1796-679-1-1-Crossmodal-Auditory-deep-(-5.4 mm)-TT18.1 ////// 508/878 completed  //////  0 min 0.78 sec\n"
     ]
    },
    {
     "name": "stderr",
     "output_type": "stream",
     "text": [
      "C:\\Users\\Public\\Documents\\ESTsoft\\CreatorTemp\\ipykernel_33588\\3917152087.py:80: UserWarning: FixedFormatter should only be used together with FixedLocator\n",
      "  ax[0,1].set_xticklabels(x, rotation=45, ha='right');\n",
      "C:\\Users\\Public\\Documents\\ESTsoft\\CreatorTemp\\ipykernel_33588\\3917152087.py:90: UserWarning: FixedFormatter should only be used together with FixedLocator\n",
      "  ax[1,1].set_xticklabels(x, rotation=45, ha='right');\n"
     ]
    },
    {
     "name": "stdout",
     "output_type": "stream",
     "text": [
      "1797-679-1-1-Crossmodal-Auditory-deep-(-5.4 mm)-TT18.2 ////// 509/878 completed  //////  0 min 0.82 sec\n"
     ]
    },
    {
     "name": "stderr",
     "output_type": "stream",
     "text": [
      "C:\\Users\\Public\\Documents\\ESTsoft\\CreatorTemp\\ipykernel_33588\\3917152087.py:80: UserWarning: FixedFormatter should only be used together with FixedLocator\n",
      "  ax[0,1].set_xticklabels(x, rotation=45, ha='right');\n",
      "C:\\Users\\Public\\Documents\\ESTsoft\\CreatorTemp\\ipykernel_33588\\3917152087.py:90: UserWarning: FixedFormatter should only be used together with FixedLocator\n",
      "  ax[1,1].set_xticklabels(x, rotation=45, ha='right');\n"
     ]
    },
    {
     "name": "stdout",
     "output_type": "stream",
     "text": [
      "1798-679-1-1-Crossmodal-Auditory-deep-(-5.4 mm)-TT18.3 ////// 510/878 completed  //////  0 min 0.82 sec\n"
     ]
    },
    {
     "name": "stderr",
     "output_type": "stream",
     "text": [
      "C:\\Users\\Public\\Documents\\ESTsoft\\CreatorTemp\\ipykernel_33588\\3917152087.py:80: UserWarning: FixedFormatter should only be used together with FixedLocator\n",
      "  ax[0,1].set_xticklabels(x, rotation=45, ha='right');\n",
      "C:\\Users\\Public\\Documents\\ESTsoft\\CreatorTemp\\ipykernel_33588\\3917152087.py:90: UserWarning: FixedFormatter should only be used together with FixedLocator\n",
      "  ax[1,1].set_xticklabels(x, rotation=45, ha='right');\n"
     ]
    },
    {
     "name": "stdout",
     "output_type": "stream",
     "text": [
      "1799-679-1-1-Crossmodal-Auditory-deep-(-5.4 mm)-TT18.4 ////// 511/878 completed  //////  0 min 0.93 sec\n"
     ]
    },
    {
     "name": "stderr",
     "output_type": "stream",
     "text": [
      "C:\\Users\\Public\\Documents\\ESTsoft\\CreatorTemp\\ipykernel_33588\\3917152087.py:80: UserWarning: FixedFormatter should only be used together with FixedLocator\n",
      "  ax[0,1].set_xticklabels(x, rotation=45, ha='right');\n",
      "C:\\Users\\Public\\Documents\\ESTsoft\\CreatorTemp\\ipykernel_33588\\3917152087.py:90: UserWarning: FixedFormatter should only be used together with FixedLocator\n",
      "  ax[1,1].set_xticklabels(x, rotation=45, ha='right');\n"
     ]
    },
    {
     "name": "stdout",
     "output_type": "stream",
     "text": [
      "1800-679-1-1-Crossmodal-Auditory-deep-(-5.4 mm)-TT18.5 ////// 512/878 completed  //////  0 min 0.81 sec\n"
     ]
    },
    {
     "name": "stderr",
     "output_type": "stream",
     "text": [
      "C:\\Users\\Public\\Documents\\ESTsoft\\CreatorTemp\\ipykernel_33588\\3917152087.py:80: UserWarning: FixedFormatter should only be used together with FixedLocator\n",
      "  ax[0,1].set_xticklabels(x, rotation=45, ha='right');\n",
      "C:\\Users\\Public\\Documents\\ESTsoft\\CreatorTemp\\ipykernel_33588\\3917152087.py:90: UserWarning: FixedFormatter should only be used together with FixedLocator\n",
      "  ax[1,1].set_xticklabels(x, rotation=45, ha='right');\n"
     ]
    },
    {
     "name": "stdout",
     "output_type": "stream",
     "text": [
      "1802-679-1-1-Crossmodal-Auditory-deep-(-5.52 mm)-TT20.1 ////// 513/878 completed  //////  0 min 0.84 sec\n"
     ]
    },
    {
     "name": "stderr",
     "output_type": "stream",
     "text": [
      "C:\\Users\\Public\\Documents\\ESTsoft\\CreatorTemp\\ipykernel_33588\\3917152087.py:80: UserWarning: FixedFormatter should only be used together with FixedLocator\n",
      "  ax[0,1].set_xticklabels(x, rotation=45, ha='right');\n",
      "C:\\Users\\Public\\Documents\\ESTsoft\\CreatorTemp\\ipykernel_33588\\3917152087.py:90: UserWarning: FixedFormatter should only be used together with FixedLocator\n",
      "  ax[1,1].set_xticklabels(x, rotation=45, ha='right');\n"
     ]
    },
    {
     "name": "stdout",
     "output_type": "stream",
     "text": [
      "1805-679-1-1-Crossmodal-Auditory-deep-(-6.64 mm)-TT22.1 ////// 515/878 completed  //////  0 min 0.79 sec\n"
     ]
    },
    {
     "name": "stderr",
     "output_type": "stream",
     "text": [
      "C:\\Users\\Public\\Documents\\ESTsoft\\CreatorTemp\\ipykernel_33588\\3917152087.py:80: UserWarning: FixedFormatter should only be used together with FixedLocator\n",
      "  ax[0,1].set_xticklabels(x, rotation=45, ha='right');\n",
      "C:\\Users\\Public\\Documents\\ESTsoft\\CreatorTemp\\ipykernel_33588\\3917152087.py:90: UserWarning: FixedFormatter should only be used together with FixedLocator\n",
      "  ax[1,1].set_xticklabels(x, rotation=45, ha='right');\n"
     ]
    },
    {
     "name": "stdout",
     "output_type": "stream",
     "text": [
      "1806-679-1-1-Crossmodal-Auditory-deep-(-6.64 mm)-TT22.2 ////// 516/878 completed  //////  0 min 0.85 sec\n"
     ]
    },
    {
     "name": "stderr",
     "output_type": "stream",
     "text": [
      "C:\\Users\\Public\\Documents\\ESTsoft\\CreatorTemp\\ipykernel_33588\\3917152087.py:80: UserWarning: FixedFormatter should only be used together with FixedLocator\n",
      "  ax[0,1].set_xticklabels(x, rotation=45, ha='right');\n",
      "C:\\Users\\Public\\Documents\\ESTsoft\\CreatorTemp\\ipykernel_33588\\3917152087.py:90: UserWarning: FixedFormatter should only be used together with FixedLocator\n",
      "  ax[1,1].set_xticklabels(x, rotation=45, ha='right');\n"
     ]
    },
    {
     "name": "stdout",
     "output_type": "stream",
     "text": [
      "1807-679-1-1-Crossmodal-Auditory-deep-(-6.64 mm)-TT22.3 ////// 517/878 completed  //////  0 min 0.79 sec\n"
     ]
    },
    {
     "name": "stderr",
     "output_type": "stream",
     "text": [
      "C:\\Users\\Public\\Documents\\ESTsoft\\CreatorTemp\\ipykernel_33588\\3917152087.py:80: UserWarning: FixedFormatter should only be used together with FixedLocator\n",
      "  ax[0,1].set_xticklabels(x, rotation=45, ha='right');\n",
      "C:\\Users\\Public\\Documents\\ESTsoft\\CreatorTemp\\ipykernel_33588\\3917152087.py:88: MatplotlibDeprecationWarning: Support for passing numbers through unit converters is deprecated since 3.5 and support will be removed two minor releases later; use Axis.convert_units instead.\n",
      "  ax[1,1].scatter(np.where(sig)[0],np.tile(0.1,(sum(sig),1)),marker='*',color='black')\n",
      "C:\\Users\\Public\\Documents\\ESTsoft\\CreatorTemp\\ipykernel_33588\\3917152087.py:90: UserWarning: FixedFormatter should only be used together with FixedLocator\n",
      "  ax[1,1].set_xticklabels(x, rotation=45, ha='right');\n"
     ]
    },
    {
     "name": "stdout",
     "output_type": "stream",
     "text": [
      "1808-679-1-1-Crossmodal-Auditory-deep-(-6.64 mm)-TT22.4 ////// 518/878 completed  //////  0 min 0.79 sec\n"
     ]
    },
    {
     "name": "stderr",
     "output_type": "stream",
     "text": [
      "C:\\Users\\Public\\Documents\\ESTsoft\\CreatorTemp\\ipykernel_33588\\3917152087.py:80: UserWarning: FixedFormatter should only be used together with FixedLocator\n",
      "  ax[0,1].set_xticklabels(x, rotation=45, ha='right');\n",
      "C:\\Users\\Public\\Documents\\ESTsoft\\CreatorTemp\\ipykernel_33588\\3917152087.py:90: UserWarning: FixedFormatter should only be used together with FixedLocator\n",
      "  ax[1,1].set_xticklabels(x, rotation=45, ha='right');\n"
     ]
    },
    {
     "name": "stdout",
     "output_type": "stream",
     "text": [
      "1812-679-2-2-Crossmodal-Visual-deep-(-6.36 mm)-TT1.1 ////// 521/878 completed  //////  0 min 0.94 sec\n"
     ]
    },
    {
     "name": "stderr",
     "output_type": "stream",
     "text": [
      "C:\\Users\\Public\\Documents\\ESTsoft\\CreatorTemp\\ipykernel_33588\\3917152087.py:80: UserWarning: FixedFormatter should only be used together with FixedLocator\n",
      "  ax[0,1].set_xticklabels(x, rotation=45, ha='right');\n",
      "C:\\Users\\Public\\Documents\\ESTsoft\\CreatorTemp\\ipykernel_33588\\3917152087.py:88: MatplotlibDeprecationWarning: Support for passing numbers through unit converters is deprecated since 3.5 and support will be removed two minor releases later; use Axis.convert_units instead.\n",
      "  ax[1,1].scatter(np.where(sig)[0],np.tile(0.1,(sum(sig),1)),marker='*',color='black')\n",
      "C:\\Users\\Public\\Documents\\ESTsoft\\CreatorTemp\\ipykernel_33588\\3917152087.py:90: UserWarning: FixedFormatter should only be used together with FixedLocator\n",
      "  ax[1,1].set_xticklabels(x, rotation=45, ha='right');\n"
     ]
    },
    {
     "name": "stdout",
     "output_type": "stream",
     "text": [
      "1813-679-2-2-Crossmodal-Visual-deep-(-6.36 mm)-TT1.2 ////// 522/878 completed  //////  0 min 0.93 sec\n"
     ]
    },
    {
     "name": "stderr",
     "output_type": "stream",
     "text": [
      "C:\\Users\\Public\\Documents\\ESTsoft\\CreatorTemp\\ipykernel_33588\\3917152087.py:80: UserWarning: FixedFormatter should only be used together with FixedLocator\n",
      "  ax[0,1].set_xticklabels(x, rotation=45, ha='right');\n",
      "C:\\Users\\Public\\Documents\\ESTsoft\\CreatorTemp\\ipykernel_33588\\3917152087.py:90: UserWarning: FixedFormatter should only be used together with FixedLocator\n",
      "  ax[1,1].set_xticklabels(x, rotation=45, ha='right');\n"
     ]
    },
    {
     "name": "stdout",
     "output_type": "stream",
     "text": [
      "1814-679-2-2-Crossmodal-Visual-deep-(-6.36 mm)-TT1.3 ////// 523/878 completed  //////  0 min 0.95 sec\n"
     ]
    },
    {
     "name": "stderr",
     "output_type": "stream",
     "text": [
      "C:\\Users\\Public\\Documents\\ESTsoft\\CreatorTemp\\ipykernel_33588\\3917152087.py:80: UserWarning: FixedFormatter should only be used together with FixedLocator\n",
      "  ax[0,1].set_xticklabels(x, rotation=45, ha='right');\n",
      "C:\\Users\\Public\\Documents\\ESTsoft\\CreatorTemp\\ipykernel_33588\\3917152087.py:90: UserWarning: FixedFormatter should only be used together with FixedLocator\n",
      "  ax[1,1].set_xticklabels(x, rotation=45, ha='right');\n"
     ]
    },
    {
     "name": "stdout",
     "output_type": "stream",
     "text": [
      "1815-679-2-2-Crossmodal-Visual-deep-(-6.24 mm)-TT2.1 ////// 524/878 completed  //////  0 min 0.93 sec\n"
     ]
    },
    {
     "name": "stderr",
     "output_type": "stream",
     "text": [
      "C:\\Users\\Public\\Documents\\ESTsoft\\CreatorTemp\\ipykernel_33588\\3917152087.py:80: UserWarning: FixedFormatter should only be used together with FixedLocator\n",
      "  ax[0,1].set_xticklabels(x, rotation=45, ha='right');\n",
      "C:\\Users\\Public\\Documents\\ESTsoft\\CreatorTemp\\ipykernel_33588\\3917152087.py:90: UserWarning: FixedFormatter should only be used together with FixedLocator\n",
      "  ax[1,1].set_xticklabels(x, rotation=45, ha='right');\n"
     ]
    },
    {
     "name": "stdout",
     "output_type": "stream",
     "text": [
      "1816-679-2-2-Crossmodal-Visual-deep-(-6.24 mm)-TT2.2 ////// 525/878 completed  //////  0 min 0.95 sec\n"
     ]
    },
    {
     "name": "stderr",
     "output_type": "stream",
     "text": [
      "C:\\Users\\Public\\Documents\\ESTsoft\\CreatorTemp\\ipykernel_33588\\3917152087.py:80: UserWarning: FixedFormatter should only be used together with FixedLocator\n",
      "  ax[0,1].set_xticklabels(x, rotation=45, ha='right');\n",
      "C:\\Users\\Public\\Documents\\ESTsoft\\CreatorTemp\\ipykernel_33588\\3917152087.py:88: MatplotlibDeprecationWarning: Support for passing numbers through unit converters is deprecated since 3.5 and support will be removed two minor releases later; use Axis.convert_units instead.\n",
      "  ax[1,1].scatter(np.where(sig)[0],np.tile(0.1,(sum(sig),1)),marker='*',color='black')\n",
      "C:\\Users\\Public\\Documents\\ESTsoft\\CreatorTemp\\ipykernel_33588\\3917152087.py:90: UserWarning: FixedFormatter should only be used together with FixedLocator\n",
      "  ax[1,1].set_xticklabels(x, rotation=45, ha='right');\n"
     ]
    },
    {
     "name": "stdout",
     "output_type": "stream",
     "text": [
      "1817-679-2-2-Crossmodal-Visual-deep-(-6.24 mm)-TT2.3 ////// 526/878 completed  //////  0 min 0.80 sec\n"
     ]
    },
    {
     "name": "stderr",
     "output_type": "stream",
     "text": [
      "C:\\Users\\Public\\Documents\\ESTsoft\\CreatorTemp\\ipykernel_33588\\3917152087.py:80: UserWarning: FixedFormatter should only be used together with FixedLocator\n",
      "  ax[0,1].set_xticklabels(x, rotation=45, ha='right');\n",
      "C:\\Users\\Public\\Documents\\ESTsoft\\CreatorTemp\\ipykernel_33588\\3917152087.py:90: UserWarning: FixedFormatter should only be used together with FixedLocator\n",
      "  ax[1,1].set_xticklabels(x, rotation=45, ha='right');\n"
     ]
    },
    {
     "name": "stdout",
     "output_type": "stream",
     "text": [
      "1818-679-2-2-Crossmodal-Visual-deep-(-6.24 mm)-TT3.1 ////// 527/878 completed  //////  0 min 0.96 sec\n"
     ]
    },
    {
     "name": "stderr",
     "output_type": "stream",
     "text": [
      "C:\\Users\\Public\\Documents\\ESTsoft\\CreatorTemp\\ipykernel_33588\\3917152087.py:80: UserWarning: FixedFormatter should only be used together with FixedLocator\n",
      "  ax[0,1].set_xticklabels(x, rotation=45, ha='right');\n",
      "C:\\Users\\Public\\Documents\\ESTsoft\\CreatorTemp\\ipykernel_33588\\3917152087.py:90: UserWarning: FixedFormatter should only be used together with FixedLocator\n",
      "  ax[1,1].set_xticklabels(x, rotation=45, ha='right');\n"
     ]
    },
    {
     "name": "stdout",
     "output_type": "stream",
     "text": [
      "1819-679-2-2-Crossmodal-Visual-deep-(-4.56 mm)-TT11.1 ////// 528/878 completed  //////  0 min 0.93 sec\n"
     ]
    },
    {
     "name": "stderr",
     "output_type": "stream",
     "text": [
      "C:\\Users\\Public\\Documents\\ESTsoft\\CreatorTemp\\ipykernel_33588\\3917152087.py:80: UserWarning: FixedFormatter should only be used together with FixedLocator\n",
      "  ax[0,1].set_xticklabels(x, rotation=45, ha='right');\n",
      "C:\\Users\\Public\\Documents\\ESTsoft\\CreatorTemp\\ipykernel_33588\\3917152087.py:90: UserWarning: FixedFormatter should only be used together with FixedLocator\n",
      "  ax[1,1].set_xticklabels(x, rotation=45, ha='right');\n"
     ]
    },
    {
     "name": "stdout",
     "output_type": "stream",
     "text": [
      "1820-679-2-2-Crossmodal-Visual-deep-(-4.56 mm)-TT11.2 ////// 529/878 completed  //////  0 min 1.03 sec\n"
     ]
    },
    {
     "name": "stderr",
     "output_type": "stream",
     "text": [
      "C:\\Users\\Public\\Documents\\ESTsoft\\CreatorTemp\\ipykernel_33588\\3917152087.py:80: UserWarning: FixedFormatter should only be used together with FixedLocator\n",
      "  ax[0,1].set_xticklabels(x, rotation=45, ha='right');\n",
      "C:\\Users\\Public\\Documents\\ESTsoft\\CreatorTemp\\ipykernel_33588\\3917152087.py:88: MatplotlibDeprecationWarning: Support for passing numbers through unit converters is deprecated since 3.5 and support will be removed two minor releases later; use Axis.convert_units instead.\n",
      "  ax[1,1].scatter(np.where(sig)[0],np.tile(0.1,(sum(sig),1)),marker='*',color='black')\n",
      "C:\\Users\\Public\\Documents\\ESTsoft\\CreatorTemp\\ipykernel_33588\\3917152087.py:90: UserWarning: FixedFormatter should only be used together with FixedLocator\n",
      "  ax[1,1].set_xticklabels(x, rotation=45, ha='right');\n"
     ]
    },
    {
     "name": "stdout",
     "output_type": "stream",
     "text": [
      "1822-679-2-2-Crossmodal-PER-deep-(-4.8 mm)-TT12.2 ////// 530/878 completed  //////  0 min 1.02 sec\n"
     ]
    },
    {
     "name": "stderr",
     "output_type": "stream",
     "text": [
      "C:\\Users\\Public\\Documents\\ESTsoft\\CreatorTemp\\ipykernel_33588\\3917152087.py:80: UserWarning: FixedFormatter should only be used together with FixedLocator\n",
      "  ax[0,1].set_xticklabels(x, rotation=45, ha='right');\n",
      "C:\\Users\\Public\\Documents\\ESTsoft\\CreatorTemp\\ipykernel_33588\\3917152087.py:90: UserWarning: FixedFormatter should only be used together with FixedLocator\n",
      "  ax[1,1].set_xticklabels(x, rotation=45, ha='right');\n"
     ]
    },
    {
     "name": "stdout",
     "output_type": "stream",
     "text": [
      "1825-679-2-2-Crossmodal-Visual-deep-(-4.56 mm)-TT13.2 ////// 533/878 completed  //////  0 min 0.83 sec\n"
     ]
    },
    {
     "name": "stderr",
     "output_type": "stream",
     "text": [
      "C:\\Users\\Public\\Documents\\ESTsoft\\CreatorTemp\\ipykernel_33588\\3917152087.py:80: UserWarning: FixedFormatter should only be used together with FixedLocator\n",
      "  ax[0,1].set_xticklabels(x, rotation=45, ha='right');\n",
      "C:\\Users\\Public\\Documents\\ESTsoft\\CreatorTemp\\ipykernel_33588\\3917152087.py:90: UserWarning: FixedFormatter should only be used together with FixedLocator\n",
      "  ax[1,1].set_xticklabels(x, rotation=45, ha='right');\n"
     ]
    },
    {
     "name": "stdout",
     "output_type": "stream",
     "text": [
      "1826-679-2-2-Crossmodal-Visual-deep-(-4.56 mm)-TT13.3 ////// 534/878 completed  //////  0 min 1.23 sec\n"
     ]
    },
    {
     "name": "stderr",
     "output_type": "stream",
     "text": [
      "C:\\Users\\Public\\Documents\\ESTsoft\\CreatorTemp\\ipykernel_33588\\3917152087.py:80: UserWarning: FixedFormatter should only be used together with FixedLocator\n",
      "  ax[0,1].set_xticklabels(x, rotation=45, ha='right');\n",
      "C:\\Users\\Public\\Documents\\ESTsoft\\CreatorTemp\\ipykernel_33588\\3917152087.py:90: UserWarning: FixedFormatter should only be used together with FixedLocator\n",
      "  ax[1,1].set_xticklabels(x, rotation=45, ha='right');\n"
     ]
    },
    {
     "name": "stdout",
     "output_type": "stream",
     "text": [
      "1827-679-2-2-Crossmodal-Visual-deep-(-4.44 mm)-TT14.1 ////// 535/878 completed  //////  0 min 1.19 sec\n"
     ]
    },
    {
     "name": "stderr",
     "output_type": "stream",
     "text": [
      "C:\\Users\\Public\\Documents\\ESTsoft\\CreatorTemp\\ipykernel_33588\\3917152087.py:80: UserWarning: FixedFormatter should only be used together with FixedLocator\n",
      "  ax[0,1].set_xticklabels(x, rotation=45, ha='right');\n",
      "C:\\Users\\Public\\Documents\\ESTsoft\\CreatorTemp\\ipykernel_33588\\3917152087.py:90: UserWarning: FixedFormatter should only be used together with FixedLocator\n",
      "  ax[1,1].set_xticklabels(x, rotation=45, ha='right');\n"
     ]
    },
    {
     "name": "stdout",
     "output_type": "stream",
     "text": [
      "1829-679-2-2-Crossmodal-Visual-deep-(-4.44 mm)-TT14.3 ////// 537/878 completed  //////  0 min 1.01 sec\n"
     ]
    },
    {
     "name": "stderr",
     "output_type": "stream",
     "text": [
      "C:\\Users\\Public\\Documents\\ESTsoft\\CreatorTemp\\ipykernel_33588\\3917152087.py:80: UserWarning: FixedFormatter should only be used together with FixedLocator\n",
      "  ax[0,1].set_xticklabels(x, rotation=45, ha='right');\n",
      "C:\\Users\\Public\\Documents\\ESTsoft\\CreatorTemp\\ipykernel_33588\\3917152087.py:88: MatplotlibDeprecationWarning: Support for passing numbers through unit converters is deprecated since 3.5 and support will be removed two minor releases later; use Axis.convert_units instead.\n",
      "  ax[1,1].scatter(np.where(sig)[0],np.tile(0.1,(sum(sig),1)),marker='*',color='black')\n",
      "C:\\Users\\Public\\Documents\\ESTsoft\\CreatorTemp\\ipykernel_33588\\3917152087.py:90: UserWarning: FixedFormatter should only be used together with FixedLocator\n",
      "  ax[1,1].set_xticklabels(x, rotation=45, ha='right');\n"
     ]
    },
    {
     "name": "stdout",
     "output_type": "stream",
     "text": [
      "1830-679-2-2-Crossmodal-Visual-deep-(-4.44 mm)-TT14.4 ////// 538/878 completed  //////  0 min 0.88 sec\n"
     ]
    },
    {
     "name": "stderr",
     "output_type": "stream",
     "text": [
      "C:\\Users\\Public\\Documents\\ESTsoft\\CreatorTemp\\ipykernel_33588\\3917152087.py:80: UserWarning: FixedFormatter should only be used together with FixedLocator\n",
      "  ax[0,1].set_xticklabels(x, rotation=45, ha='right');\n",
      "C:\\Users\\Public\\Documents\\ESTsoft\\CreatorTemp\\ipykernel_33588\\3917152087.py:90: UserWarning: FixedFormatter should only be used together with FixedLocator\n",
      "  ax[1,1].set_xticklabels(x, rotation=45, ha='right');\n"
     ]
    },
    {
     "name": "stdout",
     "output_type": "stream",
     "text": [
      "1831-679-2-2-Crossmodal-Visual-deep-(-4.44 mm)-TT14.5 ////// 539/878 completed  //////  0 min 0.80 sec\n"
     ]
    },
    {
     "name": "stderr",
     "output_type": "stream",
     "text": [
      "C:\\Users\\Public\\Documents\\ESTsoft\\CreatorTemp\\ipykernel_33588\\3917152087.py:80: UserWarning: FixedFormatter should only be used together with FixedLocator\n",
      "  ax[0,1].set_xticklabels(x, rotation=45, ha='right');\n",
      "C:\\Users\\Public\\Documents\\ESTsoft\\CreatorTemp\\ipykernel_33588\\3917152087.py:90: UserWarning: FixedFormatter should only be used together with FixedLocator\n",
      "  ax[1,1].set_xticklabels(x, rotation=45, ha='right');\n"
     ]
    },
    {
     "name": "stdout",
     "output_type": "stream",
     "text": [
      "1832-679-2-2-Crossmodal-Visual-deep-(-4.44 mm)-TT14.6 ////// 540/878 completed  //////  0 min 0.75 sec\n"
     ]
    },
    {
     "name": "stderr",
     "output_type": "stream",
     "text": [
      "C:\\Users\\Public\\Documents\\ESTsoft\\CreatorTemp\\ipykernel_33588\\3917152087.py:80: UserWarning: FixedFormatter should only be used together with FixedLocator\n",
      "  ax[0,1].set_xticklabels(x, rotation=45, ha='right');\n",
      "C:\\Users\\Public\\Documents\\ESTsoft\\CreatorTemp\\ipykernel_33588\\3917152087.py:90: UserWarning: FixedFormatter should only be used together with FixedLocator\n",
      "  ax[1,1].set_xticklabels(x, rotation=45, ha='right');\n"
     ]
    },
    {
     "name": "stdout",
     "output_type": "stream",
     "text": [
      "1833-679-2-2-Crossmodal-Visual-deep-(-4.44 mm)-TT14.7 ////// 541/878 completed  //////  0 min 0.85 sec\n"
     ]
    },
    {
     "name": "stderr",
     "output_type": "stream",
     "text": [
      "C:\\Users\\Public\\Documents\\ESTsoft\\CreatorTemp\\ipykernel_33588\\3917152087.py:80: UserWarning: FixedFormatter should only be used together with FixedLocator\n",
      "  ax[0,1].set_xticklabels(x, rotation=45, ha='right');\n",
      "C:\\Users\\Public\\Documents\\ESTsoft\\CreatorTemp\\ipykernel_33588\\3917152087.py:90: UserWarning: FixedFormatter should only be used together with FixedLocator\n",
      "  ax[1,1].set_xticklabels(x, rotation=45, ha='right');\n"
     ]
    },
    {
     "name": "stdout",
     "output_type": "stream",
     "text": [
      "1834-679-2-2-Crossmodal-Visual-deep-(-4.68 mm)-TT15.1 ////// 542/878 completed  //////  0 min 0.90 sec\n"
     ]
    },
    {
     "name": "stderr",
     "output_type": "stream",
     "text": [
      "C:\\Users\\Public\\Documents\\ESTsoft\\CreatorTemp\\ipykernel_33588\\3917152087.py:80: UserWarning: FixedFormatter should only be used together with FixedLocator\n",
      "  ax[0,1].set_xticklabels(x, rotation=45, ha='right');\n",
      "C:\\Users\\Public\\Documents\\ESTsoft\\CreatorTemp\\ipykernel_33588\\3917152087.py:90: UserWarning: FixedFormatter should only be used together with FixedLocator\n",
      "  ax[1,1].set_xticklabels(x, rotation=45, ha='right');\n"
     ]
    },
    {
     "name": "stdout",
     "output_type": "stream",
     "text": [
      "1835-679-2-2-Crossmodal-Auditory-deep-(-5.28 mm)-TT17.1 ////// 543/878 completed  //////  0 min 0.97 sec\n"
     ]
    },
    {
     "name": "stderr",
     "output_type": "stream",
     "text": [
      "C:\\Users\\Public\\Documents\\ESTsoft\\CreatorTemp\\ipykernel_33588\\3917152087.py:80: UserWarning: FixedFormatter should only be used together with FixedLocator\n",
      "  ax[0,1].set_xticklabels(x, rotation=45, ha='right');\n",
      "C:\\Users\\Public\\Documents\\ESTsoft\\CreatorTemp\\ipykernel_33588\\3917152087.py:90: UserWarning: FixedFormatter should only be used together with FixedLocator\n",
      "  ax[1,1].set_xticklabels(x, rotation=45, ha='right');\n"
     ]
    },
    {
     "name": "stdout",
     "output_type": "stream",
     "text": [
      "1836-679-2-2-Crossmodal-Auditory-deep-(-5.4 mm)-TT18.1 ////// 544/878 completed  //////  0 min 1.00 sec\n"
     ]
    },
    {
     "name": "stderr",
     "output_type": "stream",
     "text": [
      "C:\\Users\\Public\\Documents\\ESTsoft\\CreatorTemp\\ipykernel_33588\\3917152087.py:80: UserWarning: FixedFormatter should only be used together with FixedLocator\n",
      "  ax[0,1].set_xticklabels(x, rotation=45, ha='right');\n",
      "C:\\Users\\Public\\Documents\\ESTsoft\\CreatorTemp\\ipykernel_33588\\3917152087.py:90: UserWarning: FixedFormatter should only be used together with FixedLocator\n",
      "  ax[1,1].set_xticklabels(x, rotation=45, ha='right');\n"
     ]
    },
    {
     "name": "stdout",
     "output_type": "stream",
     "text": [
      "1837-679-2-2-Crossmodal-Auditory-deep-(-5.4 mm)-TT18.2 ////// 545/878 completed  //////  0 min 0.98 sec\n"
     ]
    },
    {
     "name": "stderr",
     "output_type": "stream",
     "text": [
      "C:\\Users\\Public\\Documents\\ESTsoft\\CreatorTemp\\ipykernel_33588\\3917152087.py:80: UserWarning: FixedFormatter should only be used together with FixedLocator\n",
      "  ax[0,1].set_xticklabels(x, rotation=45, ha='right');\n",
      "C:\\Users\\Public\\Documents\\ESTsoft\\CreatorTemp\\ipykernel_33588\\3917152087.py:90: UserWarning: FixedFormatter should only be used together with FixedLocator\n",
      "  ax[1,1].set_xticklabels(x, rotation=45, ha='right');\n"
     ]
    },
    {
     "name": "stdout",
     "output_type": "stream",
     "text": [
      "1838-679-2-2-Crossmodal-Auditory-deep-(-5.4 mm)-TT18.3 ////// 546/878 completed  //////  0 min 0.84 sec\n"
     ]
    },
    {
     "name": "stderr",
     "output_type": "stream",
     "text": [
      "C:\\Users\\Public\\Documents\\ESTsoft\\CreatorTemp\\ipykernel_33588\\3917152087.py:80: UserWarning: FixedFormatter should only be used together with FixedLocator\n",
      "  ax[0,1].set_xticklabels(x, rotation=45, ha='right');\n",
      "C:\\Users\\Public\\Documents\\ESTsoft\\CreatorTemp\\ipykernel_33588\\3917152087.py:90: UserWarning: FixedFormatter should only be used together with FixedLocator\n",
      "  ax[1,1].set_xticklabels(x, rotation=45, ha='right');\n"
     ]
    },
    {
     "name": "stdout",
     "output_type": "stream",
     "text": [
      "1839-679-2-2-Crossmodal-Auditory-deep-(-5.4 mm)-TT18.4 ////// 547/878 completed  //////  0 min 0.79 sec\n"
     ]
    },
    {
     "name": "stderr",
     "output_type": "stream",
     "text": [
      "C:\\Users\\Public\\Documents\\ESTsoft\\CreatorTemp\\ipykernel_33588\\3917152087.py:80: UserWarning: FixedFormatter should only be used together with FixedLocator\n",
      "  ax[0,1].set_xticklabels(x, rotation=45, ha='right');\n",
      "C:\\Users\\Public\\Documents\\ESTsoft\\CreatorTemp\\ipykernel_33588\\3917152087.py:90: UserWarning: FixedFormatter should only be used together with FixedLocator\n",
      "  ax[1,1].set_xticklabels(x, rotation=45, ha='right');\n"
     ]
    },
    {
     "name": "stdout",
     "output_type": "stream",
     "text": [
      "1840-679-2-2-Crossmodal-Auditory-deep-(-5.4 mm)-TT18.5 ////// 548/878 completed  //////  0 min 0.80 sec\n"
     ]
    },
    {
     "name": "stderr",
     "output_type": "stream",
     "text": [
      "C:\\Users\\Public\\Documents\\ESTsoft\\CreatorTemp\\ipykernel_33588\\3917152087.py:80: UserWarning: FixedFormatter should only be used together with FixedLocator\n",
      "  ax[0,1].set_xticklabels(x, rotation=45, ha='right');\n",
      "C:\\Users\\Public\\Documents\\ESTsoft\\CreatorTemp\\ipykernel_33588\\3917152087.py:90: UserWarning: FixedFormatter should only be used together with FixedLocator\n",
      "  ax[1,1].set_xticklabels(x, rotation=45, ha='right');\n"
     ]
    },
    {
     "name": "stdout",
     "output_type": "stream",
     "text": [
      "1842-679-2-2-Crossmodal-Auditory-deep-(-5.4 mm)-TT19.2 ////// 549/878 completed  //////  0 min 0.80 sec\n"
     ]
    },
    {
     "name": "stderr",
     "output_type": "stream",
     "text": [
      "C:\\Users\\Public\\Documents\\ESTsoft\\CreatorTemp\\ipykernel_33588\\3917152087.py:80: UserWarning: FixedFormatter should only be used together with FixedLocator\n",
      "  ax[0,1].set_xticklabels(x, rotation=45, ha='right');\n",
      "C:\\Users\\Public\\Documents\\ESTsoft\\CreatorTemp\\ipykernel_33588\\3917152087.py:90: UserWarning: FixedFormatter should only be used together with FixedLocator\n",
      "  ax[1,1].set_xticklabels(x, rotation=45, ha='right');\n"
     ]
    },
    {
     "name": "stdout",
     "output_type": "stream",
     "text": [
      "1843-679-2-2-Crossmodal-Auditory-deep-(-5.4 mm)-TT19.3 ////// 550/878 completed  //////  0 min 0.83 sec\n"
     ]
    },
    {
     "name": "stderr",
     "output_type": "stream",
     "text": [
      "C:\\Users\\Public\\Documents\\ESTsoft\\CreatorTemp\\ipykernel_33588\\3917152087.py:80: UserWarning: FixedFormatter should only be used together with FixedLocator\n",
      "  ax[0,1].set_xticklabels(x, rotation=45, ha='right');\n",
      "C:\\Users\\Public\\Documents\\ESTsoft\\CreatorTemp\\ipykernel_33588\\3917152087.py:90: UserWarning: FixedFormatter should only be used together with FixedLocator\n",
      "  ax[1,1].set_xticklabels(x, rotation=45, ha='right');\n"
     ]
    },
    {
     "name": "stdout",
     "output_type": "stream",
     "text": [
      "1844-679-2-2-Crossmodal-Auditory-deep-(-5.4 mm)-TT19.4 ////// 551/878 completed  //////  0 min 0.83 sec\n"
     ]
    },
    {
     "name": "stderr",
     "output_type": "stream",
     "text": [
      "C:\\Users\\Public\\Documents\\ESTsoft\\CreatorTemp\\ipykernel_33588\\3917152087.py:80: UserWarning: FixedFormatter should only be used together with FixedLocator\n",
      "  ax[0,1].set_xticklabels(x, rotation=45, ha='right');\n",
      "C:\\Users\\Public\\Documents\\ESTsoft\\CreatorTemp\\ipykernel_33588\\3917152087.py:90: UserWarning: FixedFormatter should only be used together with FixedLocator\n",
      "  ax[1,1].set_xticklabels(x, rotation=45, ha='right');\n"
     ]
    },
    {
     "name": "stdout",
     "output_type": "stream",
     "text": [
      "1845-679-2-2-Crossmodal-Auditory-deep-(-5.4 mm)-TT19.5 ////// 552/878 completed  //////  0 min 0.88 sec\n"
     ]
    },
    {
     "name": "stderr",
     "output_type": "stream",
     "text": [
      "C:\\Users\\Public\\Documents\\ESTsoft\\CreatorTemp\\ipykernel_33588\\3917152087.py:80: UserWarning: FixedFormatter should only be used together with FixedLocator\n",
      "  ax[0,1].set_xticklabels(x, rotation=45, ha='right');\n",
      "C:\\Users\\Public\\Documents\\ESTsoft\\CreatorTemp\\ipykernel_33588\\3917152087.py:90: UserWarning: FixedFormatter should only be used together with FixedLocator\n",
      "  ax[1,1].set_xticklabels(x, rotation=45, ha='right');\n"
     ]
    },
    {
     "name": "stdout",
     "output_type": "stream",
     "text": [
      "1846-679-2-2-Crossmodal-Auditory-deep-(-5.4 mm)-TT19.6 ////// 553/878 completed  //////  0 min 0.88 sec\n"
     ]
    },
    {
     "name": "stderr",
     "output_type": "stream",
     "text": [
      "C:\\Users\\Public\\Documents\\ESTsoft\\CreatorTemp\\ipykernel_33588\\3917152087.py:80: UserWarning: FixedFormatter should only be used together with FixedLocator\n",
      "  ax[0,1].set_xticklabels(x, rotation=45, ha='right');\n",
      "C:\\Users\\Public\\Documents\\ESTsoft\\CreatorTemp\\ipykernel_33588\\3917152087.py:88: MatplotlibDeprecationWarning: Support for passing numbers through unit converters is deprecated since 3.5 and support will be removed two minor releases later; use Axis.convert_units instead.\n",
      "  ax[1,1].scatter(np.where(sig)[0],np.tile(0.1,(sum(sig),1)),marker='*',color='black')\n",
      "C:\\Users\\Public\\Documents\\ESTsoft\\CreatorTemp\\ipykernel_33588\\3917152087.py:90: UserWarning: FixedFormatter should only be used together with FixedLocator\n",
      "  ax[1,1].set_xticklabels(x, rotation=45, ha='right');\n"
     ]
    },
    {
     "name": "stdout",
     "output_type": "stream",
     "text": [
      "1848-679-2-2-Crossmodal-Auditory-deep-(-5.52 mm)-TT20.1 ////// 554/878 completed  //////  0 min 0.78 sec\n"
     ]
    },
    {
     "name": "stderr",
     "output_type": "stream",
     "text": [
      "C:\\Users\\Public\\Documents\\ESTsoft\\CreatorTemp\\ipykernel_33588\\3917152087.py:80: UserWarning: FixedFormatter should only be used together with FixedLocator\n",
      "  ax[0,1].set_xticklabels(x, rotation=45, ha='right');\n",
      "C:\\Users\\Public\\Documents\\ESTsoft\\CreatorTemp\\ipykernel_33588\\3917152087.py:90: UserWarning: FixedFormatter should only be used together with FixedLocator\n",
      "  ax[1,1].set_xticklabels(x, rotation=45, ha='right');\n"
     ]
    },
    {
     "name": "stdout",
     "output_type": "stream",
     "text": [
      "1851-679-2-2-Crossmodal-Auditory-deep-(-5.64 mm)-TT21.3 ////// 556/878 completed  //////  0 min 0.80 sec\n"
     ]
    },
    {
     "name": "stderr",
     "output_type": "stream",
     "text": [
      "C:\\Users\\Public\\Documents\\ESTsoft\\CreatorTemp\\ipykernel_33588\\3917152087.py:80: UserWarning: FixedFormatter should only be used together with FixedLocator\n",
      "  ax[0,1].set_xticklabels(x, rotation=45, ha='right');\n",
      "C:\\Users\\Public\\Documents\\ESTsoft\\CreatorTemp\\ipykernel_33588\\3917152087.py:90: UserWarning: FixedFormatter should only be used together with FixedLocator\n",
      "  ax[1,1].set_xticklabels(x, rotation=45, ha='right');\n"
     ]
    },
    {
     "name": "stdout",
     "output_type": "stream",
     "text": [
      "1855-679-2-2-Crossmodal-Auditory-deep-(-6.64 mm)-TT22.1 ////// 558/878 completed  //////  0 min 0.81 sec\n"
     ]
    },
    {
     "name": "stderr",
     "output_type": "stream",
     "text": [
      "C:\\Users\\Public\\Documents\\ESTsoft\\CreatorTemp\\ipykernel_33588\\3917152087.py:80: UserWarning: FixedFormatter should only be used together with FixedLocator\n",
      "  ax[0,1].set_xticklabels(x, rotation=45, ha='right');\n",
      "C:\\Users\\Public\\Documents\\ESTsoft\\CreatorTemp\\ipykernel_33588\\3917152087.py:90: UserWarning: FixedFormatter should only be used together with FixedLocator\n",
      "  ax[1,1].set_xticklabels(x, rotation=45, ha='right');\n"
     ]
    },
    {
     "name": "stdout",
     "output_type": "stream",
     "text": [
      "1857-679-3-3-Crossmodal-Visual-deep-(-6.36 mm)-TT1.1 ////// 559/878 completed  //////  0 min 0.84 sec\n"
     ]
    },
    {
     "name": "stderr",
     "output_type": "stream",
     "text": [
      "C:\\Users\\Public\\Documents\\ESTsoft\\CreatorTemp\\ipykernel_33588\\3917152087.py:80: UserWarning: FixedFormatter should only be used together with FixedLocator\n",
      "  ax[0,1].set_xticklabels(x, rotation=45, ha='right');\n",
      "C:\\Users\\Public\\Documents\\ESTsoft\\CreatorTemp\\ipykernel_33588\\3917152087.py:90: UserWarning: FixedFormatter should only be used together with FixedLocator\n",
      "  ax[1,1].set_xticklabels(x, rotation=45, ha='right');\n"
     ]
    },
    {
     "name": "stdout",
     "output_type": "stream",
     "text": [
      "1858-679-3-3-Crossmodal-Visual-deep-(-6.24 mm)-TT2.1 ////// 560/878 completed  //////  0 min 0.92 sec\n"
     ]
    },
    {
     "name": "stderr",
     "output_type": "stream",
     "text": [
      "C:\\Users\\Public\\Documents\\ESTsoft\\CreatorTemp\\ipykernel_33588\\3917152087.py:80: UserWarning: FixedFormatter should only be used together with FixedLocator\n",
      "  ax[0,1].set_xticklabels(x, rotation=45, ha='right');\n",
      "C:\\Users\\Public\\Documents\\ESTsoft\\CreatorTemp\\ipykernel_33588\\3917152087.py:90: UserWarning: FixedFormatter should only be used together with FixedLocator\n",
      "  ax[1,1].set_xticklabels(x, rotation=45, ha='right');\n"
     ]
    },
    {
     "name": "stdout",
     "output_type": "stream",
     "text": [
      "1859-679-3-3-Crossmodal-Visual-deep-(-6.24 mm)-TT2.2 ////// 561/878 completed  //////  0 min 0.88 sec\n"
     ]
    },
    {
     "name": "stderr",
     "output_type": "stream",
     "text": [
      "C:\\Users\\Public\\Documents\\ESTsoft\\CreatorTemp\\ipykernel_33588\\3917152087.py:80: UserWarning: FixedFormatter should only be used together with FixedLocator\n",
      "  ax[0,1].set_xticklabels(x, rotation=45, ha='right');\n",
      "C:\\Users\\Public\\Documents\\ESTsoft\\CreatorTemp\\ipykernel_33588\\3917152087.py:90: UserWarning: FixedFormatter should only be used together with FixedLocator\n",
      "  ax[1,1].set_xticklabels(x, rotation=45, ha='right');\n"
     ]
    },
    {
     "name": "stdout",
     "output_type": "stream",
     "text": [
      "1860-679-3-3-Crossmodal-Visual-deep-(-6.24 mm)-TT3.1 ////// 562/878 completed  //////  0 min 0.90 sec\n"
     ]
    },
    {
     "name": "stderr",
     "output_type": "stream",
     "text": [
      "C:\\Users\\Public\\Documents\\ESTsoft\\CreatorTemp\\ipykernel_33588\\3917152087.py:80: UserWarning: FixedFormatter should only be used together with FixedLocator\n",
      "  ax[0,1].set_xticklabels(x, rotation=45, ha='right');\n",
      "C:\\Users\\Public\\Documents\\ESTsoft\\CreatorTemp\\ipykernel_33588\\3917152087.py:90: UserWarning: FixedFormatter should only be used together with FixedLocator\n",
      "  ax[1,1].set_xticklabels(x, rotation=45, ha='right');\n"
     ]
    },
    {
     "name": "stdout",
     "output_type": "stream",
     "text": [
      "1861-679-3-3-Crossmodal-Visual-deep-(-4.56 mm)-TT11.1 ////// 563/878 completed  //////  0 min 0.86 sec\n"
     ]
    },
    {
     "name": "stderr",
     "output_type": "stream",
     "text": [
      "C:\\Users\\Public\\Documents\\ESTsoft\\CreatorTemp\\ipykernel_33588\\3917152087.py:80: UserWarning: FixedFormatter should only be used together with FixedLocator\n",
      "  ax[0,1].set_xticklabels(x, rotation=45, ha='right');\n",
      "C:\\Users\\Public\\Documents\\ESTsoft\\CreatorTemp\\ipykernel_33588\\3917152087.py:90: UserWarning: FixedFormatter should only be used together with FixedLocator\n",
      "  ax[1,1].set_xticklabels(x, rotation=45, ha='right');\n"
     ]
    },
    {
     "name": "stdout",
     "output_type": "stream",
     "text": [
      "1864-679-3-3-Crossmodal-Visual-deep-(-4.56 mm)-TT13.1 ////// 566/878 completed  //////  0 min 0.86 sec\n"
     ]
    },
    {
     "name": "stderr",
     "output_type": "stream",
     "text": [
      "C:\\Users\\Public\\Documents\\ESTsoft\\CreatorTemp\\ipykernel_33588\\3917152087.py:80: UserWarning: FixedFormatter should only be used together with FixedLocator\n",
      "  ax[0,1].set_xticklabels(x, rotation=45, ha='right');\n",
      "C:\\Users\\Public\\Documents\\ESTsoft\\CreatorTemp\\ipykernel_33588\\3917152087.py:90: UserWarning: FixedFormatter should only be used together with FixedLocator\n",
      "  ax[1,1].set_xticklabels(x, rotation=45, ha='right');\n"
     ]
    },
    {
     "name": "stdout",
     "output_type": "stream",
     "text": [
      "1865-679-3-3-Crossmodal-Visual-deep-(-4.56 mm)-TT13.2 ////// 567/878 completed  //////  0 min 1.06 sec\n"
     ]
    },
    {
     "name": "stderr",
     "output_type": "stream",
     "text": [
      "C:\\Users\\Public\\Documents\\ESTsoft\\CreatorTemp\\ipykernel_33588\\3917152087.py:80: UserWarning: FixedFormatter should only be used together with FixedLocator\n",
      "  ax[0,1].set_xticklabels(x, rotation=45, ha='right');\n",
      "C:\\Users\\Public\\Documents\\ESTsoft\\CreatorTemp\\ipykernel_33588\\3917152087.py:90: UserWarning: FixedFormatter should only be used together with FixedLocator\n",
      "  ax[1,1].set_xticklabels(x, rotation=45, ha='right');\n"
     ]
    },
    {
     "name": "stdout",
     "output_type": "stream",
     "text": [
      "1868-679-3-3-Crossmodal-Visual-deep-(-4.56 mm)-TT13.5 ////// 569/878 completed  //////  0 min 0.92 sec\n"
     ]
    },
    {
     "name": "stderr",
     "output_type": "stream",
     "text": [
      "C:\\Users\\Public\\Documents\\ESTsoft\\CreatorTemp\\ipykernel_33588\\3917152087.py:80: UserWarning: FixedFormatter should only be used together with FixedLocator\n",
      "  ax[0,1].set_xticklabels(x, rotation=45, ha='right');\n",
      "C:\\Users\\Public\\Documents\\ESTsoft\\CreatorTemp\\ipykernel_33588\\3917152087.py:88: MatplotlibDeprecationWarning: Support for passing numbers through unit converters is deprecated since 3.5 and support will be removed two minor releases later; use Axis.convert_units instead.\n",
      "  ax[1,1].scatter(np.where(sig)[0],np.tile(0.1,(sum(sig),1)),marker='*',color='black')\n",
      "C:\\Users\\Public\\Documents\\ESTsoft\\CreatorTemp\\ipykernel_33588\\3917152087.py:90: UserWarning: FixedFormatter should only be used together with FixedLocator\n",
      "  ax[1,1].set_xticklabels(x, rotation=45, ha='right');\n"
     ]
    },
    {
     "name": "stdout",
     "output_type": "stream",
     "text": [
      "1869-679-3-3-Crossmodal-Visual-deep-(-4.56 mm)-TT13.6 ////// 570/878 completed  //////  0 min 0.86 sec\n"
     ]
    },
    {
     "name": "stderr",
     "output_type": "stream",
     "text": [
      "C:\\Users\\Public\\Documents\\ESTsoft\\CreatorTemp\\ipykernel_33588\\3917152087.py:80: UserWarning: FixedFormatter should only be used together with FixedLocator\n",
      "  ax[0,1].set_xticklabels(x, rotation=45, ha='right');\n",
      "C:\\Users\\Public\\Documents\\ESTsoft\\CreatorTemp\\ipykernel_33588\\3917152087.py:90: UserWarning: FixedFormatter should only be used together with FixedLocator\n",
      "  ax[1,1].set_xticklabels(x, rotation=45, ha='right');\n"
     ]
    },
    {
     "name": "stdout",
     "output_type": "stream",
     "text": [
      "1871-679-3-3-Crossmodal-Visual-deep-(-4.44 mm)-TT14.1 ////// 572/878 completed  //////  0 min 0.84 sec\n"
     ]
    },
    {
     "name": "stderr",
     "output_type": "stream",
     "text": [
      "C:\\Users\\Public\\Documents\\ESTsoft\\CreatorTemp\\ipykernel_33588\\3917152087.py:80: UserWarning: FixedFormatter should only be used together with FixedLocator\n",
      "  ax[0,1].set_xticklabels(x, rotation=45, ha='right');\n",
      "C:\\Users\\Public\\Documents\\ESTsoft\\CreatorTemp\\ipykernel_33588\\3917152087.py:90: UserWarning: FixedFormatter should only be used together with FixedLocator\n",
      "  ax[1,1].set_xticklabels(x, rotation=45, ha='right');\n"
     ]
    },
    {
     "name": "stdout",
     "output_type": "stream",
     "text": [
      "1872-679-3-3-Crossmodal-Visual-deep-(-4.44 mm)-TT14.2 ////// 573/878 completed  //////  0 min 2.74 sec\n"
     ]
    },
    {
     "name": "stderr",
     "output_type": "stream",
     "text": [
      "C:\\Users\\Public\\Documents\\ESTsoft\\CreatorTemp\\ipykernel_33588\\3917152087.py:80: UserWarning: FixedFormatter should only be used together with FixedLocator\n",
      "  ax[0,1].set_xticklabels(x, rotation=45, ha='right');\n",
      "C:\\Users\\Public\\Documents\\ESTsoft\\CreatorTemp\\ipykernel_33588\\3917152087.py:90: UserWarning: FixedFormatter should only be used together with FixedLocator\n",
      "  ax[1,1].set_xticklabels(x, rotation=45, ha='right');\n"
     ]
    },
    {
     "name": "stdout",
     "output_type": "stream",
     "text": [
      "1873-679-3-3-Crossmodal-Visual-deep-(-4.44 mm)-TT14.3 ////// 574/878 completed  //////  0 min 0.96 sec\n"
     ]
    },
    {
     "name": "stderr",
     "output_type": "stream",
     "text": [
      "C:\\Users\\Public\\Documents\\ESTsoft\\CreatorTemp\\ipykernel_33588\\3917152087.py:80: UserWarning: FixedFormatter should only be used together with FixedLocator\n",
      "  ax[0,1].set_xticklabels(x, rotation=45, ha='right');\n",
      "C:\\Users\\Public\\Documents\\ESTsoft\\CreatorTemp\\ipykernel_33588\\3917152087.py:90: UserWarning: FixedFormatter should only be used together with FixedLocator\n",
      "  ax[1,1].set_xticklabels(x, rotation=45, ha='right');\n"
     ]
    },
    {
     "name": "stdout",
     "output_type": "stream",
     "text": [
      "1875-679-3-3-Crossmodal-Visual-deep-(-4.44 mm)-TT14.5 ////// 575/878 completed  //////  0 min 0.87 sec\n"
     ]
    },
    {
     "name": "stderr",
     "output_type": "stream",
     "text": [
      "C:\\Users\\Public\\Documents\\ESTsoft\\CreatorTemp\\ipykernel_33588\\3917152087.py:80: UserWarning: FixedFormatter should only be used together with FixedLocator\n",
      "  ax[0,1].set_xticklabels(x, rotation=45, ha='right');\n",
      "C:\\Users\\Public\\Documents\\ESTsoft\\CreatorTemp\\ipykernel_33588\\3917152087.py:90: UserWarning: FixedFormatter should only be used together with FixedLocator\n",
      "  ax[1,1].set_xticklabels(x, rotation=45, ha='right');\n"
     ]
    },
    {
     "name": "stdout",
     "output_type": "stream",
     "text": [
      "1876-679-3-3-Crossmodal-Visual-deep-(-4.44 mm)-TT14.6 ////// 576/878 completed  //////  0 min 0.85 sec\n"
     ]
    },
    {
     "name": "stderr",
     "output_type": "stream",
     "text": [
      "C:\\Users\\Public\\Documents\\ESTsoft\\CreatorTemp\\ipykernel_33588\\3917152087.py:80: UserWarning: FixedFormatter should only be used together with FixedLocator\n",
      "  ax[0,1].set_xticklabels(x, rotation=45, ha='right');\n",
      "C:\\Users\\Public\\Documents\\ESTsoft\\CreatorTemp\\ipykernel_33588\\3917152087.py:90: UserWarning: FixedFormatter should only be used together with FixedLocator\n",
      "  ax[1,1].set_xticklabels(x, rotation=45, ha='right');\n"
     ]
    },
    {
     "name": "stdout",
     "output_type": "stream",
     "text": [
      "1877-679-3-3-Crossmodal-Visual-deep-(-4.68 mm)-TT15.1 ////// 577/878 completed  //////  0 min 0.83 sec\n"
     ]
    },
    {
     "name": "stderr",
     "output_type": "stream",
     "text": [
      "C:\\Users\\Public\\Documents\\ESTsoft\\CreatorTemp\\ipykernel_33588\\3917152087.py:80: UserWarning: FixedFormatter should only be used together with FixedLocator\n",
      "  ax[0,1].set_xticklabels(x, rotation=45, ha='right');\n",
      "C:\\Users\\Public\\Documents\\ESTsoft\\CreatorTemp\\ipykernel_33588\\3917152087.py:90: UserWarning: FixedFormatter should only be used together with FixedLocator\n",
      "  ax[1,1].set_xticklabels(x, rotation=45, ha='right');\n"
     ]
    },
    {
     "name": "stdout",
     "output_type": "stream",
     "text": [
      "1878-679-3-3-Crossmodal-Visual-deep-(-4.68 mm)-TT15.2 ////// 578/878 completed  //////  0 min 0.75 sec\n"
     ]
    },
    {
     "name": "stderr",
     "output_type": "stream",
     "text": [
      "C:\\Users\\Public\\Documents\\ESTsoft\\CreatorTemp\\ipykernel_33588\\3917152087.py:80: UserWarning: FixedFormatter should only be used together with FixedLocator\n",
      "  ax[0,1].set_xticklabels(x, rotation=45, ha='right');\n",
      "C:\\Users\\Public\\Documents\\ESTsoft\\CreatorTemp\\ipykernel_33588\\3917152087.py:90: UserWarning: FixedFormatter should only be used together with FixedLocator\n",
      "  ax[1,1].set_xticklabels(x, rotation=45, ha='right');\n"
     ]
    },
    {
     "name": "stdout",
     "output_type": "stream",
     "text": [
      "1880-679-3-3-Crossmodal-Visual-deep-(-4.68 mm)-TT15.4 ////// 579/878 completed  //////  0 min 0.81 sec\n"
     ]
    },
    {
     "name": "stderr",
     "output_type": "stream",
     "text": [
      "C:\\Users\\Public\\Documents\\ESTsoft\\CreatorTemp\\ipykernel_33588\\3917152087.py:80: UserWarning: FixedFormatter should only be used together with FixedLocator\n",
      "  ax[0,1].set_xticklabels(x, rotation=45, ha='right');\n",
      "C:\\Users\\Public\\Documents\\ESTsoft\\CreatorTemp\\ipykernel_33588\\3917152087.py:90: UserWarning: FixedFormatter should only be used together with FixedLocator\n",
      "  ax[1,1].set_xticklabels(x, rotation=45, ha='right');\n"
     ]
    },
    {
     "name": "stdout",
     "output_type": "stream",
     "text": [
      "1881-679-3-3-Crossmodal-Visual-deep-(-4.68 mm)-TT15.5 ////// 580/878 completed  //////  0 min 0.85 sec\n"
     ]
    },
    {
     "name": "stderr",
     "output_type": "stream",
     "text": [
      "C:\\Users\\Public\\Documents\\ESTsoft\\CreatorTemp\\ipykernel_33588\\3917152087.py:80: UserWarning: FixedFormatter should only be used together with FixedLocator\n",
      "  ax[0,1].set_xticklabels(x, rotation=45, ha='right');\n",
      "C:\\Users\\Public\\Documents\\ESTsoft\\CreatorTemp\\ipykernel_33588\\3917152087.py:88: MatplotlibDeprecationWarning: Support for passing numbers through unit converters is deprecated since 3.5 and support will be removed two minor releases later; use Axis.convert_units instead.\n",
      "  ax[1,1].scatter(np.where(sig)[0],np.tile(0.1,(sum(sig),1)),marker='*',color='black')\n",
      "C:\\Users\\Public\\Documents\\ESTsoft\\CreatorTemp\\ipykernel_33588\\3917152087.py:90: UserWarning: FixedFormatter should only be used together with FixedLocator\n",
      "  ax[1,1].set_xticklabels(x, rotation=45, ha='right');\n"
     ]
    },
    {
     "name": "stdout",
     "output_type": "stream",
     "text": [
      "1883-679-3-3-Crossmodal-Auditory-deep-(-5.28 mm)-TT17.2 ////// 581/878 completed  //////  0 min 0.81 sec\n"
     ]
    },
    {
     "name": "stderr",
     "output_type": "stream",
     "text": [
      "C:\\Users\\Public\\Documents\\ESTsoft\\CreatorTemp\\ipykernel_33588\\3917152087.py:80: UserWarning: FixedFormatter should only be used together with FixedLocator\n",
      "  ax[0,1].set_xticklabels(x, rotation=45, ha='right');\n",
      "C:\\Users\\Public\\Documents\\ESTsoft\\CreatorTemp\\ipykernel_33588\\3917152087.py:90: UserWarning: FixedFormatter should only be used together with FixedLocator\n",
      "  ax[1,1].set_xticklabels(x, rotation=45, ha='right');\n"
     ]
    },
    {
     "name": "stdout",
     "output_type": "stream",
     "text": [
      "1884-679-3-3-Crossmodal-Auditory-deep-(-5.4 mm)-TT18.1 ////// 582/878 completed  //////  0 min 0.99 sec\n"
     ]
    },
    {
     "name": "stderr",
     "output_type": "stream",
     "text": [
      "C:\\Users\\Public\\Documents\\ESTsoft\\CreatorTemp\\ipykernel_33588\\3917152087.py:80: UserWarning: FixedFormatter should only be used together with FixedLocator\n",
      "  ax[0,1].set_xticklabels(x, rotation=45, ha='right');\n",
      "C:\\Users\\Public\\Documents\\ESTsoft\\CreatorTemp\\ipykernel_33588\\3917152087.py:90: UserWarning: FixedFormatter should only be used together with FixedLocator\n",
      "  ax[1,1].set_xticklabels(x, rotation=45, ha='right');\n"
     ]
    },
    {
     "name": "stdout",
     "output_type": "stream",
     "text": [
      "1885-679-3-3-Crossmodal-Auditory-deep-(-5.4 mm)-TT18.2 ////// 583/878 completed  //////  0 min 0.92 sec\n"
     ]
    },
    {
     "name": "stderr",
     "output_type": "stream",
     "text": [
      "C:\\Users\\Public\\Documents\\ESTsoft\\CreatorTemp\\ipykernel_33588\\3917152087.py:80: UserWarning: FixedFormatter should only be used together with FixedLocator\n",
      "  ax[0,1].set_xticklabels(x, rotation=45, ha='right');\n",
      "C:\\Users\\Public\\Documents\\ESTsoft\\CreatorTemp\\ipykernel_33588\\3917152087.py:90: UserWarning: FixedFormatter should only be used together with FixedLocator\n",
      "  ax[1,1].set_xticklabels(x, rotation=45, ha='right');\n"
     ]
    },
    {
     "name": "stdout",
     "output_type": "stream",
     "text": [
      "1886-679-3-3-Crossmodal-Auditory-deep-(-5.4 mm)-TT18.3 ////// 584/878 completed  //////  0 min 0.91 sec\n"
     ]
    },
    {
     "name": "stderr",
     "output_type": "stream",
     "text": [
      "C:\\Users\\Public\\Documents\\ESTsoft\\CreatorTemp\\ipykernel_33588\\3917152087.py:80: UserWarning: FixedFormatter should only be used together with FixedLocator\n",
      "  ax[0,1].set_xticklabels(x, rotation=45, ha='right');\n",
      "C:\\Users\\Public\\Documents\\ESTsoft\\CreatorTemp\\ipykernel_33588\\3917152087.py:90: UserWarning: FixedFormatter should only be used together with FixedLocator\n",
      "  ax[1,1].set_xticklabels(x, rotation=45, ha='right');\n"
     ]
    },
    {
     "name": "stdout",
     "output_type": "stream",
     "text": [
      "1887-679-3-3-Crossmodal-Auditory-deep-(-5.4 mm)-TT18.4 ////// 585/878 completed  //////  0 min 0.94 sec\n"
     ]
    },
    {
     "name": "stderr",
     "output_type": "stream",
     "text": [
      "C:\\Users\\Public\\Documents\\ESTsoft\\CreatorTemp\\ipykernel_33588\\3917152087.py:80: UserWarning: FixedFormatter should only be used together with FixedLocator\n",
      "  ax[0,1].set_xticklabels(x, rotation=45, ha='right');\n",
      "C:\\Users\\Public\\Documents\\ESTsoft\\CreatorTemp\\ipykernel_33588\\3917152087.py:90: UserWarning: FixedFormatter should only be used together with FixedLocator\n",
      "  ax[1,1].set_xticklabels(x, rotation=45, ha='right');\n"
     ]
    },
    {
     "name": "stdout",
     "output_type": "stream",
     "text": [
      "1888-679-3-3-Crossmodal-Auditory-deep-(-5.4 mm)-TT19.1 ////// 586/878 completed  //////  0 min 0.92 sec\n"
     ]
    },
    {
     "name": "stderr",
     "output_type": "stream",
     "text": [
      "C:\\Users\\Public\\Documents\\ESTsoft\\CreatorTemp\\ipykernel_33588\\3917152087.py:80: UserWarning: FixedFormatter should only be used together with FixedLocator\n",
      "  ax[0,1].set_xticklabels(x, rotation=45, ha='right');\n",
      "C:\\Users\\Public\\Documents\\ESTsoft\\CreatorTemp\\ipykernel_33588\\3917152087.py:90: UserWarning: FixedFormatter should only be used together with FixedLocator\n",
      "  ax[1,1].set_xticklabels(x, rotation=45, ha='right');\n"
     ]
    },
    {
     "name": "stdout",
     "output_type": "stream",
     "text": [
      "1889-679-3-3-Crossmodal-Auditory-deep-(-5.4 mm)-TT19.2 ////// 587/878 completed  //////  0 min 0.87 sec\n"
     ]
    },
    {
     "name": "stderr",
     "output_type": "stream",
     "text": [
      "C:\\Users\\Public\\Documents\\ESTsoft\\CreatorTemp\\ipykernel_33588\\3917152087.py:80: UserWarning: FixedFormatter should only be used together with FixedLocator\n",
      "  ax[0,1].set_xticklabels(x, rotation=45, ha='right');\n",
      "C:\\Users\\Public\\Documents\\ESTsoft\\CreatorTemp\\ipykernel_33588\\3917152087.py:90: UserWarning: FixedFormatter should only be used together with FixedLocator\n",
      "  ax[1,1].set_xticklabels(x, rotation=45, ha='right');\n"
     ]
    },
    {
     "name": "stdout",
     "output_type": "stream",
     "text": [
      "1892-679-3-3-Crossmodal-Visual-superficial-(-6.24 mm)-TT23.1 ////// 589/878 completed  //////  0 min 0.84 sec\n"
     ]
    },
    {
     "name": "stderr",
     "output_type": "stream",
     "text": [
      "C:\\Users\\Public\\Documents\\ESTsoft\\CreatorTemp\\ipykernel_33588\\3917152087.py:80: UserWarning: FixedFormatter should only be used together with FixedLocator\n",
      "  ax[0,1].set_xticklabels(x, rotation=45, ha='right');\n",
      "C:\\Users\\Public\\Documents\\ESTsoft\\CreatorTemp\\ipykernel_33588\\3917152087.py:90: UserWarning: FixedFormatter should only be used together with FixedLocator\n",
      "  ax[1,1].set_xticklabels(x, rotation=45, ha='right');\n"
     ]
    },
    {
     "name": "stdout",
     "output_type": "stream",
     "text": [
      "1898-679-3-3-Crossmodal-Visual-superficial-(-6.24 mm)-TT23.7 ////// 591/878 completed  //////  0 min 0.86 sec\n"
     ]
    },
    {
     "name": "stderr",
     "output_type": "stream",
     "text": [
      "C:\\Users\\Public\\Documents\\ESTsoft\\CreatorTemp\\ipykernel_33588\\3917152087.py:80: UserWarning: FixedFormatter should only be used together with FixedLocator\n",
      "  ax[0,1].set_xticklabels(x, rotation=45, ha='right');\n",
      "C:\\Users\\Public\\Documents\\ESTsoft\\CreatorTemp\\ipykernel_33588\\3917152087.py:90: UserWarning: FixedFormatter should only be used together with FixedLocator\n",
      "  ax[1,1].set_xticklabels(x, rotation=45, ha='right');\n"
     ]
    },
    {
     "name": "stdout",
     "output_type": "stream",
     "text": [
      "1899-679-3-3-Crossmodal-Visual-superficial-(-6.24 mm)-TT23.8 ////// 592/878 completed  //////  0 min 0.79 sec\n"
     ]
    },
    {
     "name": "stderr",
     "output_type": "stream",
     "text": [
      "C:\\Users\\Public\\Documents\\ESTsoft\\CreatorTemp\\ipykernel_33588\\3917152087.py:80: UserWarning: FixedFormatter should only be used together with FixedLocator\n",
      "  ax[0,1].set_xticklabels(x, rotation=45, ha='right');\n",
      "C:\\Users\\Public\\Documents\\ESTsoft\\CreatorTemp\\ipykernel_33588\\3917152087.py:90: UserWarning: FixedFormatter should only be used together with FixedLocator\n",
      "  ax[1,1].set_xticklabels(x, rotation=45, ha='right');\n"
     ]
    },
    {
     "name": "stdout",
     "output_type": "stream",
     "text": [
      "1901-679-4-4-Crossmodal-Visual-deep-(-6.36 mm)-TT1.2 ////// 594/878 completed  //////  0 min 0.83 sec\n"
     ]
    },
    {
     "name": "stderr",
     "output_type": "stream",
     "text": [
      "C:\\Users\\Public\\Documents\\ESTsoft\\CreatorTemp\\ipykernel_33588\\3917152087.py:80: UserWarning: FixedFormatter should only be used together with FixedLocator\n",
      "  ax[0,1].set_xticklabels(x, rotation=45, ha='right');\n",
      "C:\\Users\\Public\\Documents\\ESTsoft\\CreatorTemp\\ipykernel_33588\\3917152087.py:90: UserWarning: FixedFormatter should only be used together with FixedLocator\n",
      "  ax[1,1].set_xticklabels(x, rotation=45, ha='right');\n"
     ]
    },
    {
     "name": "stdout",
     "output_type": "stream",
     "text": [
      "1902-679-4-4-Crossmodal-Visual-deep-(-6.24 mm)-TT3.1 ////// 595/878 completed  //////  0 min 0.76 sec\n"
     ]
    },
    {
     "name": "stderr",
     "output_type": "stream",
     "text": [
      "C:\\Users\\Public\\Documents\\ESTsoft\\CreatorTemp\\ipykernel_33588\\3917152087.py:80: UserWarning: FixedFormatter should only be used together with FixedLocator\n",
      "  ax[0,1].set_xticklabels(x, rotation=45, ha='right');\n",
      "C:\\Users\\Public\\Documents\\ESTsoft\\CreatorTemp\\ipykernel_33588\\3917152087.py:90: UserWarning: FixedFormatter should only be used together with FixedLocator\n",
      "  ax[1,1].set_xticklabels(x, rotation=45, ha='right');\n"
     ]
    },
    {
     "name": "stdout",
     "output_type": "stream",
     "text": [
      "1903-679-4-4-Crossmodal-Visual-deep-(-6.24 mm)-TT3.2 ////// 596/878 completed  //////  0 min 0.83 sec\n"
     ]
    },
    {
     "name": "stderr",
     "output_type": "stream",
     "text": [
      "C:\\Users\\Public\\Documents\\ESTsoft\\CreatorTemp\\ipykernel_33588\\3917152087.py:80: UserWarning: FixedFormatter should only be used together with FixedLocator\n",
      "  ax[0,1].set_xticklabels(x, rotation=45, ha='right');\n",
      "C:\\Users\\Public\\Documents\\ESTsoft\\CreatorTemp\\ipykernel_33588\\3917152087.py:88: MatplotlibDeprecationWarning: Support for passing numbers through unit converters is deprecated since 3.5 and support will be removed two minor releases later; use Axis.convert_units instead.\n",
      "  ax[1,1].scatter(np.where(sig)[0],np.tile(0.1,(sum(sig),1)),marker='*',color='black')\n",
      "C:\\Users\\Public\\Documents\\ESTsoft\\CreatorTemp\\ipykernel_33588\\3917152087.py:90: UserWarning: FixedFormatter should only be used together with FixedLocator\n",
      "  ax[1,1].set_xticklabels(x, rotation=45, ha='right');\n"
     ]
    },
    {
     "name": "stdout",
     "output_type": "stream",
     "text": [
      "1904-679-4-4-Crossmodal-Visual-deep-(-4.56 mm)-TT11.1 ////// 597/878 completed  //////  0 min 0.86 sec\n"
     ]
    },
    {
     "name": "stderr",
     "output_type": "stream",
     "text": [
      "C:\\Users\\Public\\Documents\\ESTsoft\\CreatorTemp\\ipykernel_33588\\3917152087.py:80: UserWarning: FixedFormatter should only be used together with FixedLocator\n",
      "  ax[0,1].set_xticklabels(x, rotation=45, ha='right');\n",
      "C:\\Users\\Public\\Documents\\ESTsoft\\CreatorTemp\\ipykernel_33588\\3917152087.py:90: UserWarning: FixedFormatter should only be used together with FixedLocator\n",
      "  ax[1,1].set_xticklabels(x, rotation=45, ha='right');\n"
     ]
    },
    {
     "name": "stdout",
     "output_type": "stream",
     "text": [
      "1908-679-4-4-Crossmodal-PER-deep-(-4.8 mm)-TT12.3 ////// 600/878 completed  //////  0 min 0.88 sec\n"
     ]
    },
    {
     "name": "stderr",
     "output_type": "stream",
     "text": [
      "C:\\Users\\Public\\Documents\\ESTsoft\\CreatorTemp\\ipykernel_33588\\3917152087.py:80: UserWarning: FixedFormatter should only be used together with FixedLocator\n",
      "  ax[0,1].set_xticklabels(x, rotation=45, ha='right');\n",
      "C:\\Users\\Public\\Documents\\ESTsoft\\CreatorTemp\\ipykernel_33588\\3917152087.py:90: UserWarning: FixedFormatter should only be used together with FixedLocator\n",
      "  ax[1,1].set_xticklabels(x, rotation=45, ha='right');\n"
     ]
    },
    {
     "name": "stdout",
     "output_type": "stream",
     "text": [
      "1910-679-4-4-Crossmodal-Visual-deep-(-4.44 mm)-TT14.1 ////// 602/878 completed  //////  0 min 0.85 sec\n"
     ]
    },
    {
     "name": "stderr",
     "output_type": "stream",
     "text": [
      "C:\\Users\\Public\\Documents\\ESTsoft\\CreatorTemp\\ipykernel_33588\\3917152087.py:80: UserWarning: FixedFormatter should only be used together with FixedLocator\n",
      "  ax[0,1].set_xticklabels(x, rotation=45, ha='right');\n",
      "C:\\Users\\Public\\Documents\\ESTsoft\\CreatorTemp\\ipykernel_33588\\3917152087.py:90: UserWarning: FixedFormatter should only be used together with FixedLocator\n",
      "  ax[1,1].set_xticklabels(x, rotation=45, ha='right');\n"
     ]
    },
    {
     "name": "stdout",
     "output_type": "stream",
     "text": [
      "1911-679-4-4-Crossmodal-Visual-deep-(-4.44 mm)-TT14.2 ////// 603/878 completed  //////  0 min 0.85 sec\n"
     ]
    },
    {
     "name": "stderr",
     "output_type": "stream",
     "text": [
      "C:\\Users\\Public\\Documents\\ESTsoft\\CreatorTemp\\ipykernel_33588\\3917152087.py:80: UserWarning: FixedFormatter should only be used together with FixedLocator\n",
      "  ax[0,1].set_xticklabels(x, rotation=45, ha='right');\n",
      "C:\\Users\\Public\\Documents\\ESTsoft\\CreatorTemp\\ipykernel_33588\\3917152087.py:90: UserWarning: FixedFormatter should only be used together with FixedLocator\n",
      "  ax[1,1].set_xticklabels(x, rotation=45, ha='right');\n"
     ]
    },
    {
     "name": "stdout",
     "output_type": "stream",
     "text": [
      "1912-679-4-4-Crossmodal-Visual-deep-(-4.44 mm)-TT14.3 ////// 604/878 completed  //////  0 min 0.78 sec\n"
     ]
    },
    {
     "name": "stderr",
     "output_type": "stream",
     "text": [
      "C:\\Users\\Public\\Documents\\ESTsoft\\CreatorTemp\\ipykernel_33588\\3917152087.py:80: UserWarning: FixedFormatter should only be used together with FixedLocator\n",
      "  ax[0,1].set_xticklabels(x, rotation=45, ha='right');\n",
      "C:\\Users\\Public\\Documents\\ESTsoft\\CreatorTemp\\ipykernel_33588\\3917152087.py:90: UserWarning: FixedFormatter should only be used together with FixedLocator\n",
      "  ax[1,1].set_xticklabels(x, rotation=45, ha='right');\n"
     ]
    },
    {
     "name": "stdout",
     "output_type": "stream",
     "text": [
      "1913-679-4-4-Crossmodal-Visual-deep-(-4.44 mm)-TT14.4 ////// 605/878 completed  //////  0 min 0.80 sec\n"
     ]
    },
    {
     "name": "stderr",
     "output_type": "stream",
     "text": [
      "C:\\Users\\Public\\Documents\\ESTsoft\\CreatorTemp\\ipykernel_33588\\3917152087.py:80: UserWarning: FixedFormatter should only be used together with FixedLocator\n",
      "  ax[0,1].set_xticklabels(x, rotation=45, ha='right');\n",
      "C:\\Users\\Public\\Documents\\ESTsoft\\CreatorTemp\\ipykernel_33588\\3917152087.py:90: UserWarning: FixedFormatter should only be used together with FixedLocator\n",
      "  ax[1,1].set_xticklabels(x, rotation=45, ha='right');\n"
     ]
    },
    {
     "name": "stdout",
     "output_type": "stream",
     "text": [
      "1914-679-4-4-Crossmodal-Visual-deep-(-4.44 mm)-TT14.5 ////// 606/878 completed  //////  0 min 0.91 sec\n"
     ]
    },
    {
     "name": "stderr",
     "output_type": "stream",
     "text": [
      "C:\\Users\\Public\\Documents\\ESTsoft\\CreatorTemp\\ipykernel_33588\\3917152087.py:80: UserWarning: FixedFormatter should only be used together with FixedLocator\n",
      "  ax[0,1].set_xticklabels(x, rotation=45, ha='right');\n",
      "C:\\Users\\Public\\Documents\\ESTsoft\\CreatorTemp\\ipykernel_33588\\3917152087.py:88: MatplotlibDeprecationWarning: Support for passing numbers through unit converters is deprecated since 3.5 and support will be removed two minor releases later; use Axis.convert_units instead.\n",
      "  ax[1,1].scatter(np.where(sig)[0],np.tile(0.1,(sum(sig),1)),marker='*',color='black')\n",
      "C:\\Users\\Public\\Documents\\ESTsoft\\CreatorTemp\\ipykernel_33588\\3917152087.py:90: UserWarning: FixedFormatter should only be used together with FixedLocator\n",
      "  ax[1,1].set_xticklabels(x, rotation=45, ha='right');\n"
     ]
    },
    {
     "name": "stdout",
     "output_type": "stream",
     "text": [
      "1915-679-4-4-Crossmodal-Visual-deep-(-4.44 mm)-TT14.6 ////// 607/878 completed  //////  0 min 0.93 sec\n"
     ]
    },
    {
     "name": "stderr",
     "output_type": "stream",
     "text": [
      "C:\\Users\\Public\\Documents\\ESTsoft\\CreatorTemp\\ipykernel_33588\\3917152087.py:80: UserWarning: FixedFormatter should only be used together with FixedLocator\n",
      "  ax[0,1].set_xticklabels(x, rotation=45, ha='right');\n",
      "C:\\Users\\Public\\Documents\\ESTsoft\\CreatorTemp\\ipykernel_33588\\3917152087.py:90: UserWarning: FixedFormatter should only be used together with FixedLocator\n",
      "  ax[1,1].set_xticklabels(x, rotation=45, ha='right');\n"
     ]
    },
    {
     "name": "stdout",
     "output_type": "stream",
     "text": [
      "1916-679-4-4-Crossmodal-Visual-deep-(-4.44 mm)-TT14.7 ////// 608/878 completed  //////  0 min 0.93 sec\n"
     ]
    },
    {
     "name": "stderr",
     "output_type": "stream",
     "text": [
      "C:\\Users\\Public\\Documents\\ESTsoft\\CreatorTemp\\ipykernel_33588\\3917152087.py:80: UserWarning: FixedFormatter should only be used together with FixedLocator\n",
      "  ax[0,1].set_xticklabels(x, rotation=45, ha='right');\n",
      "C:\\Users\\Public\\Documents\\ESTsoft\\CreatorTemp\\ipykernel_33588\\3917152087.py:90: UserWarning: FixedFormatter should only be used together with FixedLocator\n",
      "  ax[1,1].set_xticklabels(x, rotation=45, ha='right');\n"
     ]
    },
    {
     "name": "stdout",
     "output_type": "stream",
     "text": [
      "1917-679-4-4-Crossmodal-Visual-deep-(-4.44 mm)-TT14.8 ////// 609/878 completed  //////  0 min 0.98 sec\n"
     ]
    },
    {
     "name": "stderr",
     "output_type": "stream",
     "text": [
      "C:\\Users\\Public\\Documents\\ESTsoft\\CreatorTemp\\ipykernel_33588\\3917152087.py:80: UserWarning: FixedFormatter should only be used together with FixedLocator\n",
      "  ax[0,1].set_xticklabels(x, rotation=45, ha='right');\n",
      "C:\\Users\\Public\\Documents\\ESTsoft\\CreatorTemp\\ipykernel_33588\\3917152087.py:90: UserWarning: FixedFormatter should only be used together with FixedLocator\n",
      "  ax[1,1].set_xticklabels(x, rotation=45, ha='right');\n"
     ]
    },
    {
     "name": "stdout",
     "output_type": "stream",
     "text": [
      "1918-679-4-4-Crossmodal-Visual-deep-(-4.44 mm)-TT14.9 ////// 610/878 completed  //////  0 min 0.92 sec\n"
     ]
    },
    {
     "name": "stderr",
     "output_type": "stream",
     "text": [
      "C:\\Users\\Public\\Documents\\ESTsoft\\CreatorTemp\\ipykernel_33588\\3917152087.py:80: UserWarning: FixedFormatter should only be used together with FixedLocator\n",
      "  ax[0,1].set_xticklabels(x, rotation=45, ha='right');\n",
      "C:\\Users\\Public\\Documents\\ESTsoft\\CreatorTemp\\ipykernel_33588\\3917152087.py:90: UserWarning: FixedFormatter should only be used together with FixedLocator\n",
      "  ax[1,1].set_xticklabels(x, rotation=45, ha='right');\n"
     ]
    },
    {
     "name": "stdout",
     "output_type": "stream",
     "text": [
      "1919-679-4-4-Crossmodal-Visual-deep-(-4.68 mm)-TT15.1 ////// 611/878 completed  //////  0 min 0.83 sec\n"
     ]
    },
    {
     "name": "stderr",
     "output_type": "stream",
     "text": [
      "C:\\Users\\Public\\Documents\\ESTsoft\\CreatorTemp\\ipykernel_33588\\3917152087.py:80: UserWarning: FixedFormatter should only be used together with FixedLocator\n",
      "  ax[0,1].set_xticklabels(x, rotation=45, ha='right');\n",
      "C:\\Users\\Public\\Documents\\ESTsoft\\CreatorTemp\\ipykernel_33588\\3917152087.py:90: UserWarning: FixedFormatter should only be used together with FixedLocator\n",
      "  ax[1,1].set_xticklabels(x, rotation=45, ha='right');\n"
     ]
    },
    {
     "name": "stdout",
     "output_type": "stream",
     "text": [
      "1920-679-4-4-Crossmodal-Auditory-deep-(-5.28 mm)-TT17.1 ////// 612/878 completed  //////  0 min 0.83 sec\n"
     ]
    },
    {
     "name": "stderr",
     "output_type": "stream",
     "text": [
      "C:\\Users\\Public\\Documents\\ESTsoft\\CreatorTemp\\ipykernel_33588\\3917152087.py:80: UserWarning: FixedFormatter should only be used together with FixedLocator\n",
      "  ax[0,1].set_xticklabels(x, rotation=45, ha='right');\n",
      "C:\\Users\\Public\\Documents\\ESTsoft\\CreatorTemp\\ipykernel_33588\\3917152087.py:90: UserWarning: FixedFormatter should only be used together with FixedLocator\n",
      "  ax[1,1].set_xticklabels(x, rotation=45, ha='right');\n"
     ]
    },
    {
     "name": "stdout",
     "output_type": "stream",
     "text": [
      "1921-679-4-4-Crossmodal-Auditory-deep-(-5.28 mm)-TT17.2 ////// 613/878 completed  //////  0 min 0.85 sec\n"
     ]
    },
    {
     "name": "stderr",
     "output_type": "stream",
     "text": [
      "C:\\Users\\Public\\Documents\\ESTsoft\\CreatorTemp\\ipykernel_33588\\3917152087.py:80: UserWarning: FixedFormatter should only be used together with FixedLocator\n",
      "  ax[0,1].set_xticklabels(x, rotation=45, ha='right');\n",
      "C:\\Users\\Public\\Documents\\ESTsoft\\CreatorTemp\\ipykernel_33588\\3917152087.py:90: UserWarning: FixedFormatter should only be used together with FixedLocator\n",
      "  ax[1,1].set_xticklabels(x, rotation=45, ha='right');\n"
     ]
    },
    {
     "name": "stdout",
     "output_type": "stream",
     "text": [
      "1922-679-4-4-Crossmodal-Auditory-deep-(-5.4 mm)-TT18.1 ////// 614/878 completed  //////  0 min 0.83 sec\n"
     ]
    },
    {
     "name": "stderr",
     "output_type": "stream",
     "text": [
      "C:\\Users\\Public\\Documents\\ESTsoft\\CreatorTemp\\ipykernel_33588\\3917152087.py:80: UserWarning: FixedFormatter should only be used together with FixedLocator\n",
      "  ax[0,1].set_xticklabels(x, rotation=45, ha='right');\n",
      "C:\\Users\\Public\\Documents\\ESTsoft\\CreatorTemp\\ipykernel_33588\\3917152087.py:90: UserWarning: FixedFormatter should only be used together with FixedLocator\n",
      "  ax[1,1].set_xticklabels(x, rotation=45, ha='right');\n"
     ]
    },
    {
     "name": "stdout",
     "output_type": "stream",
     "text": [
      "1923-679-4-4-Crossmodal-Auditory-deep-(-5.4 mm)-TT18.2 ////// 615/878 completed  //////  0 min 0.90 sec\n"
     ]
    },
    {
     "name": "stderr",
     "output_type": "stream",
     "text": [
      "C:\\Users\\Public\\Documents\\ESTsoft\\CreatorTemp\\ipykernel_33588\\3917152087.py:80: UserWarning: FixedFormatter should only be used together with FixedLocator\n",
      "  ax[0,1].set_xticklabels(x, rotation=45, ha='right');\n",
      "C:\\Users\\Public\\Documents\\ESTsoft\\CreatorTemp\\ipykernel_33588\\3917152087.py:90: UserWarning: FixedFormatter should only be used together with FixedLocator\n",
      "  ax[1,1].set_xticklabels(x, rotation=45, ha='right');\n"
     ]
    },
    {
     "name": "stdout",
     "output_type": "stream",
     "text": [
      "1924-679-4-4-Crossmodal-Auditory-deep-(-5.4 mm)-TT18.3 ////// 616/878 completed  //////  0 min 0.86 sec\n"
     ]
    },
    {
     "name": "stderr",
     "output_type": "stream",
     "text": [
      "C:\\Users\\Public\\Documents\\ESTsoft\\CreatorTemp\\ipykernel_33588\\3917152087.py:80: UserWarning: FixedFormatter should only be used together with FixedLocator\n",
      "  ax[0,1].set_xticklabels(x, rotation=45, ha='right');\n",
      "C:\\Users\\Public\\Documents\\ESTsoft\\CreatorTemp\\ipykernel_33588\\3917152087.py:90: UserWarning: FixedFormatter should only be used together with FixedLocator\n",
      "  ax[1,1].set_xticklabels(x, rotation=45, ha='right');\n"
     ]
    },
    {
     "name": "stdout",
     "output_type": "stream",
     "text": [
      "1925-679-4-4-Crossmodal-Auditory-deep-(-5.4 mm)-TT18.4 ////// 617/878 completed  //////  0 min 0.81 sec\n"
     ]
    },
    {
     "name": "stderr",
     "output_type": "stream",
     "text": [
      "C:\\Users\\Public\\Documents\\ESTsoft\\CreatorTemp\\ipykernel_33588\\3917152087.py:80: UserWarning: FixedFormatter should only be used together with FixedLocator\n",
      "  ax[0,1].set_xticklabels(x, rotation=45, ha='right');\n",
      "C:\\Users\\Public\\Documents\\ESTsoft\\CreatorTemp\\ipykernel_33588\\3917152087.py:90: UserWarning: FixedFormatter should only be used together with FixedLocator\n",
      "  ax[1,1].set_xticklabels(x, rotation=45, ha='right');\n"
     ]
    },
    {
     "name": "stdout",
     "output_type": "stream",
     "text": [
      "1926-679-4-4-Crossmodal-Auditory-deep-(-5.4 mm)-TT18.5 ////// 618/878 completed  //////  0 min 0.79 sec\n"
     ]
    },
    {
     "name": "stderr",
     "output_type": "stream",
     "text": [
      "C:\\Users\\Public\\Documents\\ESTsoft\\CreatorTemp\\ipykernel_33588\\3917152087.py:80: UserWarning: FixedFormatter should only be used together with FixedLocator\n",
      "  ax[0,1].set_xticklabels(x, rotation=45, ha='right');\n",
      "C:\\Users\\Public\\Documents\\ESTsoft\\CreatorTemp\\ipykernel_33588\\3917152087.py:88: MatplotlibDeprecationWarning: Support for passing numbers through unit converters is deprecated since 3.5 and support will be removed two minor releases later; use Axis.convert_units instead.\n",
      "  ax[1,1].scatter(np.where(sig)[0],np.tile(0.1,(sum(sig),1)),marker='*',color='black')\n",
      "C:\\Users\\Public\\Documents\\ESTsoft\\CreatorTemp\\ipykernel_33588\\3917152087.py:90: UserWarning: FixedFormatter should only be used together with FixedLocator\n",
      "  ax[1,1].set_xticklabels(x, rotation=45, ha='right');\n"
     ]
    },
    {
     "name": "stdout",
     "output_type": "stream",
     "text": [
      "1927-679-4-4-Crossmodal-Auditory-deep-(-5.52 mm)-TT20.1 ////// 619/878 completed  //////  0 min 0.75 sec\n"
     ]
    },
    {
     "name": "stderr",
     "output_type": "stream",
     "text": [
      "C:\\Users\\Public\\Documents\\ESTsoft\\CreatorTemp\\ipykernel_33588\\3917152087.py:80: UserWarning: FixedFormatter should only be used together with FixedLocator\n",
      "  ax[0,1].set_xticklabels(x, rotation=45, ha='right');\n",
      "C:\\Users\\Public\\Documents\\ESTsoft\\CreatorTemp\\ipykernel_33588\\3917152087.py:90: UserWarning: FixedFormatter should only be used together with FixedLocator\n",
      "  ax[1,1].set_xticklabels(x, rotation=45, ha='right');\n"
     ]
    },
    {
     "name": "stdout",
     "output_type": "stream",
     "text": [
      "1933-679-5-5-Crossmodal-Visual-deep-(-6.36 mm)-TT1.1 ////// 621/878 completed  //////  0 min 0.85 sec\n"
     ]
    },
    {
     "name": "stderr",
     "output_type": "stream",
     "text": [
      "C:\\Users\\Public\\Documents\\ESTsoft\\CreatorTemp\\ipykernel_33588\\3917152087.py:80: UserWarning: FixedFormatter should only be used together with FixedLocator\n",
      "  ax[0,1].set_xticklabels(x, rotation=45, ha='right');\n",
      "C:\\Users\\Public\\Documents\\ESTsoft\\CreatorTemp\\ipykernel_33588\\3917152087.py:90: UserWarning: FixedFormatter should only be used together with FixedLocator\n",
      "  ax[1,1].set_xticklabels(x, rotation=45, ha='right');\n"
     ]
    },
    {
     "name": "stdout",
     "output_type": "stream",
     "text": [
      "1934-679-5-5-Crossmodal-Visual-deep-(-6.36 mm)-TT1.2 ////// 622/878 completed  //////  0 min 0.83 sec\n"
     ]
    },
    {
     "name": "stderr",
     "output_type": "stream",
     "text": [
      "C:\\Users\\Public\\Documents\\ESTsoft\\CreatorTemp\\ipykernel_33588\\3917152087.py:80: UserWarning: FixedFormatter should only be used together with FixedLocator\n",
      "  ax[0,1].set_xticklabels(x, rotation=45, ha='right');\n",
      "C:\\Users\\Public\\Documents\\ESTsoft\\CreatorTemp\\ipykernel_33588\\3917152087.py:90: UserWarning: FixedFormatter should only be used together with FixedLocator\n",
      "  ax[1,1].set_xticklabels(x, rotation=45, ha='right');\n"
     ]
    },
    {
     "name": "stdout",
     "output_type": "stream",
     "text": [
      "1935-679-5-5-Crossmodal-Visual-deep-(-6.36 mm)-TT1.3 ////// 623/878 completed  //////  0 min 0.85 sec\n"
     ]
    },
    {
     "name": "stderr",
     "output_type": "stream",
     "text": [
      "C:\\Users\\Public\\Documents\\ESTsoft\\CreatorTemp\\ipykernel_33588\\3917152087.py:80: UserWarning: FixedFormatter should only be used together with FixedLocator\n",
      "  ax[0,1].set_xticklabels(x, rotation=45, ha='right');\n",
      "C:\\Users\\Public\\Documents\\ESTsoft\\CreatorTemp\\ipykernel_33588\\3917152087.py:90: UserWarning: FixedFormatter should only be used together with FixedLocator\n",
      "  ax[1,1].set_xticklabels(x, rotation=45, ha='right');\n"
     ]
    },
    {
     "name": "stdout",
     "output_type": "stream",
     "text": [
      "1937-679-5-5-Crossmodal-Visual-deep-(-6.24 mm)-TT3.1 ////// 625/878 completed  //////  0 min 0.86 sec\n"
     ]
    },
    {
     "name": "stderr",
     "output_type": "stream",
     "text": [
      "C:\\Users\\Public\\Documents\\ESTsoft\\CreatorTemp\\ipykernel_33588\\3917152087.py:80: UserWarning: FixedFormatter should only be used together with FixedLocator\n",
      "  ax[0,1].set_xticklabels(x, rotation=45, ha='right');\n",
      "C:\\Users\\Public\\Documents\\ESTsoft\\CreatorTemp\\ipykernel_33588\\3917152087.py:90: UserWarning: FixedFormatter should only be used together with FixedLocator\n",
      "  ax[1,1].set_xticklabels(x, rotation=45, ha='right');\n"
     ]
    },
    {
     "name": "stdout",
     "output_type": "stream",
     "text": [
      "1939-679-5-5-Crossmodal-Visual-deep-(-4.56 mm)-TT13.1 ////// 626/878 completed  //////  0 min 0.77 sec\n"
     ]
    },
    {
     "name": "stderr",
     "output_type": "stream",
     "text": [
      "C:\\Users\\Public\\Documents\\ESTsoft\\CreatorTemp\\ipykernel_33588\\3917152087.py:80: UserWarning: FixedFormatter should only be used together with FixedLocator\n",
      "  ax[0,1].set_xticklabels(x, rotation=45, ha='right');\n",
      "C:\\Users\\Public\\Documents\\ESTsoft\\CreatorTemp\\ipykernel_33588\\3917152087.py:90: UserWarning: FixedFormatter should only be used together with FixedLocator\n",
      "  ax[1,1].set_xticklabels(x, rotation=45, ha='right');\n"
     ]
    },
    {
     "name": "stdout",
     "output_type": "stream",
     "text": [
      "1941-679-5-5-Crossmodal-Visual-deep-(-4.44 mm)-TT14.2 ////// 627/878 completed  //////  0 min 0.91 sec\n"
     ]
    },
    {
     "name": "stderr",
     "output_type": "stream",
     "text": [
      "C:\\Users\\Public\\Documents\\ESTsoft\\CreatorTemp\\ipykernel_33588\\3917152087.py:80: UserWarning: FixedFormatter should only be used together with FixedLocator\n",
      "  ax[0,1].set_xticklabels(x, rotation=45, ha='right');\n",
      "C:\\Users\\Public\\Documents\\ESTsoft\\CreatorTemp\\ipykernel_33588\\3917152087.py:90: UserWarning: FixedFormatter should only be used together with FixedLocator\n",
      "  ax[1,1].set_xticklabels(x, rotation=45, ha='right');\n"
     ]
    },
    {
     "name": "stdout",
     "output_type": "stream",
     "text": [
      "1942-679-5-5-Crossmodal-Visual-deep-(-4.44 mm)-TT14.3 ////// 628/878 completed  //////  0 min 0.86 sec\n"
     ]
    },
    {
     "name": "stderr",
     "output_type": "stream",
     "text": [
      "C:\\Users\\Public\\Documents\\ESTsoft\\CreatorTemp\\ipykernel_33588\\3917152087.py:80: UserWarning: FixedFormatter should only be used together with FixedLocator\n",
      "  ax[0,1].set_xticklabels(x, rotation=45, ha='right');\n",
      "C:\\Users\\Public\\Documents\\ESTsoft\\CreatorTemp\\ipykernel_33588\\3917152087.py:90: UserWarning: FixedFormatter should only be used together with FixedLocator\n",
      "  ax[1,1].set_xticklabels(x, rotation=45, ha='right');\n"
     ]
    },
    {
     "name": "stdout",
     "output_type": "stream",
     "text": [
      "1943-679-5-5-Crossmodal-Visual-deep-(-4.44 mm)-TT14.4 ////// 629/878 completed  //////  0 min 0.94 sec\n"
     ]
    },
    {
     "name": "stderr",
     "output_type": "stream",
     "text": [
      "C:\\Users\\Public\\Documents\\ESTsoft\\CreatorTemp\\ipykernel_33588\\3917152087.py:80: UserWarning: FixedFormatter should only be used together with FixedLocator\n",
      "  ax[0,1].set_xticklabels(x, rotation=45, ha='right');\n",
      "C:\\Users\\Public\\Documents\\ESTsoft\\CreatorTemp\\ipykernel_33588\\3917152087.py:90: UserWarning: FixedFormatter should only be used together with FixedLocator\n",
      "  ax[1,1].set_xticklabels(x, rotation=45, ha='right');\n"
     ]
    },
    {
     "name": "stdout",
     "output_type": "stream",
     "text": [
      "1944-679-5-5-Crossmodal-Visual-deep-(-4.44 mm)-TT14.5 ////// 630/878 completed  //////  0 min 0.97 sec\n"
     ]
    },
    {
     "name": "stderr",
     "output_type": "stream",
     "text": [
      "C:\\Users\\Public\\Documents\\ESTsoft\\CreatorTemp\\ipykernel_33588\\3917152087.py:80: UserWarning: FixedFormatter should only be used together with FixedLocator\n",
      "  ax[0,1].set_xticklabels(x, rotation=45, ha='right');\n",
      "C:\\Users\\Public\\Documents\\ESTsoft\\CreatorTemp\\ipykernel_33588\\3917152087.py:90: UserWarning: FixedFormatter should only be used together with FixedLocator\n",
      "  ax[1,1].set_xticklabels(x, rotation=45, ha='right');\n"
     ]
    },
    {
     "name": "stdout",
     "output_type": "stream",
     "text": [
      "1945-679-5-5-Crossmodal-Visual-deep-(-4.44 mm)-TT14.6 ////// 631/878 completed  //////  0 min 0.97 sec\n"
     ]
    },
    {
     "name": "stderr",
     "output_type": "stream",
     "text": [
      "C:\\Users\\Public\\Documents\\ESTsoft\\CreatorTemp\\ipykernel_33588\\3917152087.py:80: UserWarning: FixedFormatter should only be used together with FixedLocator\n",
      "  ax[0,1].set_xticklabels(x, rotation=45, ha='right');\n",
      "C:\\Users\\Public\\Documents\\ESTsoft\\CreatorTemp\\ipykernel_33588\\3917152087.py:90: UserWarning: FixedFormatter should only be used together with FixedLocator\n",
      "  ax[1,1].set_xticklabels(x, rotation=45, ha='right');\n"
     ]
    },
    {
     "name": "stdout",
     "output_type": "stream",
     "text": [
      "1946-679-5-5-Crossmodal-Visual-deep-(-4.44 mm)-TT14.7 ////// 632/878 completed  //////  0 min 0.81 sec\n"
     ]
    },
    {
     "name": "stderr",
     "output_type": "stream",
     "text": [
      "C:\\Users\\Public\\Documents\\ESTsoft\\CreatorTemp\\ipykernel_33588\\3917152087.py:80: UserWarning: FixedFormatter should only be used together with FixedLocator\n",
      "  ax[0,1].set_xticklabels(x, rotation=45, ha='right');\n",
      "C:\\Users\\Public\\Documents\\ESTsoft\\CreatorTemp\\ipykernel_33588\\3917152087.py:90: UserWarning: FixedFormatter should only be used together with FixedLocator\n",
      "  ax[1,1].set_xticklabels(x, rotation=45, ha='right');\n"
     ]
    },
    {
     "name": "stdout",
     "output_type": "stream",
     "text": [
      "1947-679-5-5-Crossmodal-Visual-deep-(-4.44 mm)-TT14.8 ////// 633/878 completed  //////  0 min 0.82 sec\n"
     ]
    },
    {
     "name": "stderr",
     "output_type": "stream",
     "text": [
      "C:\\Users\\Public\\Documents\\ESTsoft\\CreatorTemp\\ipykernel_33588\\3917152087.py:80: UserWarning: FixedFormatter should only be used together with FixedLocator\n",
      "  ax[0,1].set_xticklabels(x, rotation=45, ha='right');\n",
      "C:\\Users\\Public\\Documents\\ESTsoft\\CreatorTemp\\ipykernel_33588\\3917152087.py:90: UserWarning: FixedFormatter should only be used together with FixedLocator\n",
      "  ax[1,1].set_xticklabels(x, rotation=45, ha='right');\n"
     ]
    },
    {
     "name": "stdout",
     "output_type": "stream",
     "text": [
      "1948-679-5-5-Crossmodal-Visual-deep-(-4.44 mm)-TT14.9 ////// 634/878 completed  //////  0 min 0.81 sec\n"
     ]
    },
    {
     "name": "stderr",
     "output_type": "stream",
     "text": [
      "C:\\Users\\Public\\Documents\\ESTsoft\\CreatorTemp\\ipykernel_33588\\3917152087.py:80: UserWarning: FixedFormatter should only be used together with FixedLocator\n",
      "  ax[0,1].set_xticklabels(x, rotation=45, ha='right');\n",
      "C:\\Users\\Public\\Documents\\ESTsoft\\CreatorTemp\\ipykernel_33588\\3917152087.py:90: UserWarning: FixedFormatter should only be used together with FixedLocator\n",
      "  ax[1,1].set_xticklabels(x, rotation=45, ha='right');\n"
     ]
    },
    {
     "name": "stdout",
     "output_type": "stream",
     "text": [
      "1949-679-5-5-Crossmodal-Visual-deep-(-4.68 mm)-TT15.1 ////// 635/878 completed  //////  0 min 0.80 sec\n"
     ]
    },
    {
     "name": "stderr",
     "output_type": "stream",
     "text": [
      "C:\\Users\\Public\\Documents\\ESTsoft\\CreatorTemp\\ipykernel_33588\\3917152087.py:80: UserWarning: FixedFormatter should only be used together with FixedLocator\n",
      "  ax[0,1].set_xticklabels(x, rotation=45, ha='right');\n",
      "C:\\Users\\Public\\Documents\\ESTsoft\\CreatorTemp\\ipykernel_33588\\3917152087.py:90: UserWarning: FixedFormatter should only be used together with FixedLocator\n",
      "  ax[1,1].set_xticklabels(x, rotation=45, ha='right');\n"
     ]
    },
    {
     "name": "stdout",
     "output_type": "stream",
     "text": [
      "1950-679-5-5-Crossmodal-Visual-deep-(-4.68 mm)-TT15.2 ////// 636/878 completed  //////  0 min 0.92 sec\n"
     ]
    },
    {
     "name": "stderr",
     "output_type": "stream",
     "text": [
      "C:\\Users\\Public\\Documents\\ESTsoft\\CreatorTemp\\ipykernel_33588\\3917152087.py:80: UserWarning: FixedFormatter should only be used together with FixedLocator\n",
      "  ax[0,1].set_xticklabels(x, rotation=45, ha='right');\n",
      "C:\\Users\\Public\\Documents\\ESTsoft\\CreatorTemp\\ipykernel_33588\\3917152087.py:90: UserWarning: FixedFormatter should only be used together with FixedLocator\n",
      "  ax[1,1].set_xticklabels(x, rotation=45, ha='right');\n"
     ]
    },
    {
     "name": "stdout",
     "output_type": "stream",
     "text": [
      "1951-679-5-5-Crossmodal-Visual-deep-(-4.56 mm)-TT16.1 ////// 637/878 completed  //////  0 min 0.95 sec\n"
     ]
    },
    {
     "name": "stderr",
     "output_type": "stream",
     "text": [
      "C:\\Users\\Public\\Documents\\ESTsoft\\CreatorTemp\\ipykernel_33588\\3917152087.py:80: UserWarning: FixedFormatter should only be used together with FixedLocator\n",
      "  ax[0,1].set_xticklabels(x, rotation=45, ha='right');\n",
      "C:\\Users\\Public\\Documents\\ESTsoft\\CreatorTemp\\ipykernel_33588\\3917152087.py:90: UserWarning: FixedFormatter should only be used together with FixedLocator\n",
      "  ax[1,1].set_xticklabels(x, rotation=45, ha='right');\n"
     ]
    },
    {
     "name": "stdout",
     "output_type": "stream",
     "text": [
      "1952-679-5-5-Crossmodal-Auditory-deep-(-5.28 mm)-TT17.1 ////// 638/878 completed  //////  0 min 0.89 sec\n"
     ]
    },
    {
     "name": "stderr",
     "output_type": "stream",
     "text": [
      "C:\\Users\\Public\\Documents\\ESTsoft\\CreatorTemp\\ipykernel_33588\\3917152087.py:80: UserWarning: FixedFormatter should only be used together with FixedLocator\n",
      "  ax[0,1].set_xticklabels(x, rotation=45, ha='right');\n",
      "C:\\Users\\Public\\Documents\\ESTsoft\\CreatorTemp\\ipykernel_33588\\3917152087.py:90: UserWarning: FixedFormatter should only be used together with FixedLocator\n",
      "  ax[1,1].set_xticklabels(x, rotation=45, ha='right');\n"
     ]
    },
    {
     "name": "stdout",
     "output_type": "stream",
     "text": [
      "1953-679-5-5-Crossmodal-Auditory-deep-(-5.4 mm)-TT18.1 ////// 639/878 completed  //////  0 min 0.80 sec\n"
     ]
    },
    {
     "name": "stderr",
     "output_type": "stream",
     "text": [
      "C:\\Users\\Public\\Documents\\ESTsoft\\CreatorTemp\\ipykernel_33588\\3917152087.py:80: UserWarning: FixedFormatter should only be used together with FixedLocator\n",
      "  ax[0,1].set_xticklabels(x, rotation=45, ha='right');\n",
      "C:\\Users\\Public\\Documents\\ESTsoft\\CreatorTemp\\ipykernel_33588\\3917152087.py:90: UserWarning: FixedFormatter should only be used together with FixedLocator\n",
      "  ax[1,1].set_xticklabels(x, rotation=45, ha='right');\n"
     ]
    },
    {
     "name": "stdout",
     "output_type": "stream",
     "text": [
      "1954-679-5-5-Crossmodal-Auditory-deep-(-5.4 mm)-TT18.2 ////// 640/878 completed  //////  0 min 0.82 sec\n"
     ]
    },
    {
     "name": "stderr",
     "output_type": "stream",
     "text": [
      "C:\\Users\\Public\\Documents\\ESTsoft\\CreatorTemp\\ipykernel_33588\\3917152087.py:80: UserWarning: FixedFormatter should only be used together with FixedLocator\n",
      "  ax[0,1].set_xticklabels(x, rotation=45, ha='right');\n",
      "C:\\Users\\Public\\Documents\\ESTsoft\\CreatorTemp\\ipykernel_33588\\3917152087.py:90: UserWarning: FixedFormatter should only be used together with FixedLocator\n",
      "  ax[1,1].set_xticklabels(x, rotation=45, ha='right');\n"
     ]
    },
    {
     "name": "stdout",
     "output_type": "stream",
     "text": [
      "1955-679-5-5-Crossmodal-Auditory-deep-(-5.4 mm)-TT18.3 ////// 641/878 completed  //////  0 min 0.81 sec\n"
     ]
    },
    {
     "name": "stderr",
     "output_type": "stream",
     "text": [
      "C:\\Users\\Public\\Documents\\ESTsoft\\CreatorTemp\\ipykernel_33588\\3917152087.py:80: UserWarning: FixedFormatter should only be used together with FixedLocator\n",
      "  ax[0,1].set_xticklabels(x, rotation=45, ha='right');\n",
      "C:\\Users\\Public\\Documents\\ESTsoft\\CreatorTemp\\ipykernel_33588\\3917152087.py:90: UserWarning: FixedFormatter should only be used together with FixedLocator\n",
      "  ax[1,1].set_xticklabels(x, rotation=45, ha='right');\n"
     ]
    },
    {
     "name": "stdout",
     "output_type": "stream",
     "text": [
      "1956-679-5-5-Crossmodal-Auditory-deep-(-5.4 mm)-TT18.4 ////// 642/878 completed  //////  0 min 0.87 sec\n"
     ]
    },
    {
     "name": "stderr",
     "output_type": "stream",
     "text": [
      "C:\\Users\\Public\\Documents\\ESTsoft\\CreatorTemp\\ipykernel_33588\\3917152087.py:80: UserWarning: FixedFormatter should only be used together with FixedLocator\n",
      "  ax[0,1].set_xticklabels(x, rotation=45, ha='right');\n",
      "C:\\Users\\Public\\Documents\\ESTsoft\\CreatorTemp\\ipykernel_33588\\3917152087.py:90: UserWarning: FixedFormatter should only be used together with FixedLocator\n",
      "  ax[1,1].set_xticklabels(x, rotation=45, ha='right');\n"
     ]
    },
    {
     "name": "stdout",
     "output_type": "stream",
     "text": [
      "1957-679-5-5-Crossmodal-Auditory-deep-(-5.4 mm)-TT19.1 ////// 643/878 completed  //////  0 min 0.90 sec\n"
     ]
    },
    {
     "name": "stderr",
     "output_type": "stream",
     "text": [
      "C:\\Users\\Public\\Documents\\ESTsoft\\CreatorTemp\\ipykernel_33588\\3917152087.py:80: UserWarning: FixedFormatter should only be used together with FixedLocator\n",
      "  ax[0,1].set_xticklabels(x, rotation=45, ha='right');\n",
      "C:\\Users\\Public\\Documents\\ESTsoft\\CreatorTemp\\ipykernel_33588\\3917152087.py:88: MatplotlibDeprecationWarning: Support for passing numbers through unit converters is deprecated since 3.5 and support will be removed two minor releases later; use Axis.convert_units instead.\n",
      "  ax[1,1].scatter(np.where(sig)[0],np.tile(0.1,(sum(sig),1)),marker='*',color='black')\n",
      "C:\\Users\\Public\\Documents\\ESTsoft\\CreatorTemp\\ipykernel_33588\\3917152087.py:90: UserWarning: FixedFormatter should only be used together with FixedLocator\n",
      "  ax[1,1].set_xticklabels(x, rotation=45, ha='right');\n"
     ]
    },
    {
     "name": "stdout",
     "output_type": "stream",
     "text": [
      "1958-679-5-5-Crossmodal-Auditory-deep-(-5.52 mm)-TT20.1 ////// 644/878 completed  //////  0 min 0.80 sec\n"
     ]
    },
    {
     "name": "stderr",
     "output_type": "stream",
     "text": [
      "C:\\Users\\Public\\Documents\\ESTsoft\\CreatorTemp\\ipykernel_33588\\3917152087.py:80: UserWarning: FixedFormatter should only be used together with FixedLocator\n",
      "  ax[0,1].set_xticklabels(x, rotation=45, ha='right');\n",
      "C:\\Users\\Public\\Documents\\ESTsoft\\CreatorTemp\\ipykernel_33588\\3917152087.py:90: UserWarning: FixedFormatter should only be used together with FixedLocator\n",
      "  ax[1,1].set_xticklabels(x, rotation=45, ha='right');\n"
     ]
    },
    {
     "name": "stdout",
     "output_type": "stream",
     "text": [
      "1960-679-5-5-Crossmodal-Auditory-deep-(-5.64 mm)-TT21.2 ////// 646/878 completed  //////  0 min 0.96 sec\n"
     ]
    },
    {
     "name": "stderr",
     "output_type": "stream",
     "text": [
      "C:\\Users\\Public\\Documents\\ESTsoft\\CreatorTemp\\ipykernel_33588\\3917152087.py:80: UserWarning: FixedFormatter should only be used together with FixedLocator\n",
      "  ax[0,1].set_xticklabels(x, rotation=45, ha='right');\n",
      "C:\\Users\\Public\\Documents\\ESTsoft\\CreatorTemp\\ipykernel_33588\\3917152087.py:88: MatplotlibDeprecationWarning: Support for passing numbers through unit converters is deprecated since 3.5 and support will be removed two minor releases later; use Axis.convert_units instead.\n",
      "  ax[1,1].scatter(np.where(sig)[0],np.tile(0.1,(sum(sig),1)),marker='*',color='black')\n",
      "C:\\Users\\Public\\Documents\\ESTsoft\\CreatorTemp\\ipykernel_33588\\3917152087.py:90: UserWarning: FixedFormatter should only be used together with FixedLocator\n",
      "  ax[1,1].set_xticklabels(x, rotation=45, ha='right');\n"
     ]
    },
    {
     "name": "stdout",
     "output_type": "stream",
     "text": [
      "1963-679-5-5-Crossmodal-Auditory-deep-(-5.64 mm)-TT21.5 ////// 648/878 completed  //////  0 min 0.86 sec\n"
     ]
    },
    {
     "name": "stderr",
     "output_type": "stream",
     "text": [
      "C:\\Users\\Public\\Documents\\ESTsoft\\CreatorTemp\\ipykernel_33588\\3917152087.py:80: UserWarning: FixedFormatter should only be used together with FixedLocator\n",
      "  ax[0,1].set_xticklabels(x, rotation=45, ha='right');\n",
      "C:\\Users\\Public\\Documents\\ESTsoft\\CreatorTemp\\ipykernel_33588\\3917152087.py:90: UserWarning: FixedFormatter should only be used together with FixedLocator\n",
      "  ax[1,1].set_xticklabels(x, rotation=45, ha='right');\n"
     ]
    },
    {
     "name": "stdout",
     "output_type": "stream",
     "text": [
      "1965-679-5-5-Crossmodal-Auditory-deep-(-6.64 mm)-TT22.1 ////// 649/878 completed  //////  0 min 0.88 sec\n"
     ]
    },
    {
     "name": "stderr",
     "output_type": "stream",
     "text": [
      "C:\\Users\\Public\\Documents\\ESTsoft\\CreatorTemp\\ipykernel_33588\\3917152087.py:80: UserWarning: FixedFormatter should only be used together with FixedLocator\n",
      "  ax[0,1].set_xticklabels(x, rotation=45, ha='right');\n",
      "C:\\Users\\Public\\Documents\\ESTsoft\\CreatorTemp\\ipykernel_33588\\3917152087.py:90: UserWarning: FixedFormatter should only be used together with FixedLocator\n",
      "  ax[1,1].set_xticklabels(x, rotation=45, ha='right');\n"
     ]
    },
    {
     "name": "stdout",
     "output_type": "stream",
     "text": [
      "1967-679-6-6-Crossmodal-Visual-deep-(-6.36 mm)-TT1.1 ////// 650/878 completed  //////  0 min 1.05 sec\n"
     ]
    },
    {
     "name": "stderr",
     "output_type": "stream",
     "text": [
      "C:\\Users\\Public\\Documents\\ESTsoft\\CreatorTemp\\ipykernel_33588\\3917152087.py:80: UserWarning: FixedFormatter should only be used together with FixedLocator\n",
      "  ax[0,1].set_xticklabels(x, rotation=45, ha='right');\n",
      "C:\\Users\\Public\\Documents\\ESTsoft\\CreatorTemp\\ipykernel_33588\\3917152087.py:90: UserWarning: FixedFormatter should only be used together with FixedLocator\n",
      "  ax[1,1].set_xticklabels(x, rotation=45, ha='right');\n"
     ]
    },
    {
     "name": "stdout",
     "output_type": "stream",
     "text": [
      "1968-679-6-6-Crossmodal-Visual-deep-(-6.36 mm)-TT1.2 ////// 651/878 completed  //////  0 min 1.16 sec\n"
     ]
    },
    {
     "name": "stderr",
     "output_type": "stream",
     "text": [
      "C:\\Users\\Public\\Documents\\ESTsoft\\CreatorTemp\\ipykernel_33588\\3917152087.py:80: UserWarning: FixedFormatter should only be used together with FixedLocator\n",
      "  ax[0,1].set_xticklabels(x, rotation=45, ha='right');\n",
      "C:\\Users\\Public\\Documents\\ESTsoft\\CreatorTemp\\ipykernel_33588\\3917152087.py:90: UserWarning: FixedFormatter should only be used together with FixedLocator\n",
      "  ax[1,1].set_xticklabels(x, rotation=45, ha='right');\n"
     ]
    },
    {
     "name": "stdout",
     "output_type": "stream",
     "text": [
      "1969-679-6-6-Crossmodal-Visual-deep-(-6.36 mm)-TT1.3 ////// 652/878 completed  //////  0 min 1.01 sec\n"
     ]
    },
    {
     "name": "stderr",
     "output_type": "stream",
     "text": [
      "C:\\Users\\Public\\Documents\\ESTsoft\\CreatorTemp\\ipykernel_33588\\3917152087.py:80: UserWarning: FixedFormatter should only be used together with FixedLocator\n",
      "  ax[0,1].set_xticklabels(x, rotation=45, ha='right');\n",
      "C:\\Users\\Public\\Documents\\ESTsoft\\CreatorTemp\\ipykernel_33588\\3917152087.py:90: UserWarning: FixedFormatter should only be used together with FixedLocator\n",
      "  ax[1,1].set_xticklabels(x, rotation=45, ha='right');\n"
     ]
    },
    {
     "name": "stdout",
     "output_type": "stream",
     "text": [
      "1971-679-6-6-Crossmodal-Visual-deep-(-6.24 mm)-TT2.1 ////// 654/878 completed  //////  0 min 1.00 sec\n"
     ]
    },
    {
     "name": "stderr",
     "output_type": "stream",
     "text": [
      "C:\\Users\\Public\\Documents\\ESTsoft\\CreatorTemp\\ipykernel_33588\\3917152087.py:80: UserWarning: FixedFormatter should only be used together with FixedLocator\n",
      "  ax[0,1].set_xticklabels(x, rotation=45, ha='right');\n",
      "C:\\Users\\Public\\Documents\\ESTsoft\\CreatorTemp\\ipykernel_33588\\3917152087.py:90: UserWarning: FixedFormatter should only be used together with FixedLocator\n",
      "  ax[1,1].set_xticklabels(x, rotation=45, ha='right');\n"
     ]
    },
    {
     "name": "stdout",
     "output_type": "stream",
     "text": [
      "1972-679-6-6-Crossmodal-Visual-deep-(-6.24 mm)-TT2.2 ////// 655/878 completed  //////  0 min 1.01 sec\n"
     ]
    },
    {
     "name": "stderr",
     "output_type": "stream",
     "text": [
      "C:\\Users\\Public\\Documents\\ESTsoft\\CreatorTemp\\ipykernel_33588\\3917152087.py:80: UserWarning: FixedFormatter should only be used together with FixedLocator\n",
      "  ax[0,1].set_xticklabels(x, rotation=45, ha='right');\n",
      "C:\\Users\\Public\\Documents\\ESTsoft\\CreatorTemp\\ipykernel_33588\\3917152087.py:90: UserWarning: FixedFormatter should only be used together with FixedLocator\n",
      "  ax[1,1].set_xticklabels(x, rotation=45, ha='right');\n"
     ]
    },
    {
     "name": "stdout",
     "output_type": "stream",
     "text": [
      "1973-679-6-6-Crossmodal-Visual-deep-(-6.24 mm)-TT2.3 ////// 656/878 completed  //////  0 min 0.85 sec\n"
     ]
    },
    {
     "name": "stderr",
     "output_type": "stream",
     "text": [
      "C:\\Users\\Public\\Documents\\ESTsoft\\CreatorTemp\\ipykernel_33588\\3917152087.py:80: UserWarning: FixedFormatter should only be used together with FixedLocator\n",
      "  ax[0,1].set_xticklabels(x, rotation=45, ha='right');\n",
      "C:\\Users\\Public\\Documents\\ESTsoft\\CreatorTemp\\ipykernel_33588\\3917152087.py:90: UserWarning: FixedFormatter should only be used together with FixedLocator\n",
      "  ax[1,1].set_xticklabels(x, rotation=45, ha='right');\n"
     ]
    },
    {
     "name": "stdout",
     "output_type": "stream",
     "text": [
      "1974-679-6-6-Crossmodal-Visual-deep-(-6.24 mm)-TT2.4 ////// 657/878 completed  //////  0 min 0.86 sec\n"
     ]
    },
    {
     "name": "stderr",
     "output_type": "stream",
     "text": [
      "C:\\Users\\Public\\Documents\\ESTsoft\\CreatorTemp\\ipykernel_33588\\3917152087.py:80: UserWarning: FixedFormatter should only be used together with FixedLocator\n",
      "  ax[0,1].set_xticklabels(x, rotation=45, ha='right');\n",
      "C:\\Users\\Public\\Documents\\ESTsoft\\CreatorTemp\\ipykernel_33588\\3917152087.py:90: UserWarning: FixedFormatter should only be used together with FixedLocator\n",
      "  ax[1,1].set_xticklabels(x, rotation=45, ha='right');\n"
     ]
    },
    {
     "name": "stdout",
     "output_type": "stream",
     "text": [
      "1975-679-6-6-Crossmodal-Visual-deep-(-6.24 mm)-TT2.5 ////// 658/878 completed  //////  0 min 0.95 sec\n"
     ]
    },
    {
     "name": "stderr",
     "output_type": "stream",
     "text": [
      "C:\\Users\\Public\\Documents\\ESTsoft\\CreatorTemp\\ipykernel_33588\\3917152087.py:80: UserWarning: FixedFormatter should only be used together with FixedLocator\n",
      "  ax[0,1].set_xticklabels(x, rotation=45, ha='right');\n",
      "C:\\Users\\Public\\Documents\\ESTsoft\\CreatorTemp\\ipykernel_33588\\3917152087.py:90: UserWarning: FixedFormatter should only be used together with FixedLocator\n",
      "  ax[1,1].set_xticklabels(x, rotation=45, ha='right');\n"
     ]
    },
    {
     "name": "stdout",
     "output_type": "stream",
     "text": [
      "1976-679-6-6-Crossmodal-Visual-deep-(-6.24 mm)-TT2.6 ////// 659/878 completed  //////  0 min 1.02 sec\n"
     ]
    },
    {
     "name": "stderr",
     "output_type": "stream",
     "text": [
      "C:\\Users\\Public\\Documents\\ESTsoft\\CreatorTemp\\ipykernel_33588\\3917152087.py:80: UserWarning: FixedFormatter should only be used together with FixedLocator\n",
      "  ax[0,1].set_xticklabels(x, rotation=45, ha='right');\n",
      "C:\\Users\\Public\\Documents\\ESTsoft\\CreatorTemp\\ipykernel_33588\\3917152087.py:90: UserWarning: FixedFormatter should only be used together with FixedLocator\n",
      "  ax[1,1].set_xticklabels(x, rotation=45, ha='right');\n"
     ]
    },
    {
     "name": "stdout",
     "output_type": "stream",
     "text": [
      "1977-679-6-6-Crossmodal-Visual-deep-(-6.24 mm)-TT3.1 ////// 660/878 completed  //////  0 min 0.85 sec\n"
     ]
    },
    {
     "name": "stderr",
     "output_type": "stream",
     "text": [
      "C:\\Users\\Public\\Documents\\ESTsoft\\CreatorTemp\\ipykernel_33588\\3917152087.py:80: UserWarning: FixedFormatter should only be used together with FixedLocator\n",
      "  ax[0,1].set_xticklabels(x, rotation=45, ha='right');\n",
      "C:\\Users\\Public\\Documents\\ESTsoft\\CreatorTemp\\ipykernel_33588\\3917152087.py:88: MatplotlibDeprecationWarning: Support for passing numbers through unit converters is deprecated since 3.5 and support will be removed two minor releases later; use Axis.convert_units instead.\n",
      "  ax[1,1].scatter(np.where(sig)[0],np.tile(0.1,(sum(sig),1)),marker='*',color='black')\n",
      "C:\\Users\\Public\\Documents\\ESTsoft\\CreatorTemp\\ipykernel_33588\\3917152087.py:90: UserWarning: FixedFormatter should only be used together with FixedLocator\n",
      "  ax[1,1].set_xticklabels(x, rotation=45, ha='right');\n"
     ]
    },
    {
     "name": "stdout",
     "output_type": "stream",
     "text": [
      "1978-679-6-6-Crossmodal-PER-deep-(-4.68 mm)-TT10.1 ////// 661/878 completed  //////  0 min 0.81 sec\n"
     ]
    },
    {
     "name": "stderr",
     "output_type": "stream",
     "text": [
      "C:\\Users\\Public\\Documents\\ESTsoft\\CreatorTemp\\ipykernel_33588\\3917152087.py:80: UserWarning: FixedFormatter should only be used together with FixedLocator\n",
      "  ax[0,1].set_xticklabels(x, rotation=45, ha='right');\n",
      "C:\\Users\\Public\\Documents\\ESTsoft\\CreatorTemp\\ipykernel_33588\\3917152087.py:90: UserWarning: FixedFormatter should only be used together with FixedLocator\n",
      "  ax[1,1].set_xticklabels(x, rotation=45, ha='right');\n"
     ]
    },
    {
     "name": "stdout",
     "output_type": "stream",
     "text": [
      "1979-679-6-6-Crossmodal-Visual-deep-(-4.56 mm)-TT13.1 ////// 662/878 completed  //////  0 min 0.86 sec\n"
     ]
    },
    {
     "name": "stderr",
     "output_type": "stream",
     "text": [
      "C:\\Users\\Public\\Documents\\ESTsoft\\CreatorTemp\\ipykernel_33588\\3917152087.py:80: UserWarning: FixedFormatter should only be used together with FixedLocator\n",
      "  ax[0,1].set_xticklabels(x, rotation=45, ha='right');\n",
      "C:\\Users\\Public\\Documents\\ESTsoft\\CreatorTemp\\ipykernel_33588\\3917152087.py:90: UserWarning: FixedFormatter should only be used together with FixedLocator\n",
      "  ax[1,1].set_xticklabels(x, rotation=45, ha='right');\n"
     ]
    },
    {
     "name": "stdout",
     "output_type": "stream",
     "text": [
      "1981-679-6-6-Crossmodal-Visual-deep-(-4.44 mm)-TT14.1 ////// 664/878 completed  //////  0 min 0.86 sec\n"
     ]
    },
    {
     "name": "stderr",
     "output_type": "stream",
     "text": [
      "C:\\Users\\Public\\Documents\\ESTsoft\\CreatorTemp\\ipykernel_33588\\3917152087.py:80: UserWarning: FixedFormatter should only be used together with FixedLocator\n",
      "  ax[0,1].set_xticklabels(x, rotation=45, ha='right');\n",
      "C:\\Users\\Public\\Documents\\ESTsoft\\CreatorTemp\\ipykernel_33588\\3917152087.py:90: UserWarning: FixedFormatter should only be used together with FixedLocator\n",
      "  ax[1,1].set_xticklabels(x, rotation=45, ha='right');\n"
     ]
    },
    {
     "name": "stdout",
     "output_type": "stream",
     "text": [
      "1983-679-6-6-Crossmodal-Visual-deep-(-4.44 mm)-TT14.3 ////// 665/878 completed  //////  0 min 0.99 sec\n"
     ]
    },
    {
     "name": "stderr",
     "output_type": "stream",
     "text": [
      "C:\\Users\\Public\\Documents\\ESTsoft\\CreatorTemp\\ipykernel_33588\\3917152087.py:80: UserWarning: FixedFormatter should only be used together with FixedLocator\n",
      "  ax[0,1].set_xticklabels(x, rotation=45, ha='right');\n",
      "C:\\Users\\Public\\Documents\\ESTsoft\\CreatorTemp\\ipykernel_33588\\3917152087.py:90: UserWarning: FixedFormatter should only be used together with FixedLocator\n",
      "  ax[1,1].set_xticklabels(x, rotation=45, ha='right');\n"
     ]
    },
    {
     "name": "stdout",
     "output_type": "stream",
     "text": [
      "1984-679-6-6-Crossmodal-Visual-deep-(-4.44 mm)-TT14.4 ////// 666/878 completed  //////  0 min 1.00 sec\n"
     ]
    },
    {
     "name": "stderr",
     "output_type": "stream",
     "text": [
      "C:\\Users\\Public\\Documents\\ESTsoft\\CreatorTemp\\ipykernel_33588\\3917152087.py:80: UserWarning: FixedFormatter should only be used together with FixedLocator\n",
      "  ax[0,1].set_xticklabels(x, rotation=45, ha='right');\n",
      "C:\\Users\\Public\\Documents\\ESTsoft\\CreatorTemp\\ipykernel_33588\\3917152087.py:90: UserWarning: FixedFormatter should only be used together with FixedLocator\n",
      "  ax[1,1].set_xticklabels(x, rotation=45, ha='right');\n"
     ]
    },
    {
     "name": "stdout",
     "output_type": "stream",
     "text": [
      "1985-679-6-6-Crossmodal-Visual-deep-(-4.44 mm)-TT14.5 ////// 667/878 completed  //////  0 min 1.14 sec\n"
     ]
    },
    {
     "name": "stderr",
     "output_type": "stream",
     "text": [
      "C:\\Users\\Public\\Documents\\ESTsoft\\CreatorTemp\\ipykernel_33588\\3917152087.py:80: UserWarning: FixedFormatter should only be used together with FixedLocator\n",
      "  ax[0,1].set_xticklabels(x, rotation=45, ha='right');\n",
      "C:\\Users\\Public\\Documents\\ESTsoft\\CreatorTemp\\ipykernel_33588\\3917152087.py:90: UserWarning: FixedFormatter should only be used together with FixedLocator\n",
      "  ax[1,1].set_xticklabels(x, rotation=45, ha='right');\n"
     ]
    },
    {
     "name": "stdout",
     "output_type": "stream",
     "text": [
      "1986-679-6-6-Crossmodal-Visual-deep-(-4.44 mm)-TT14.6 ////// 668/878 completed  //////  0 min 1.00 sec\n"
     ]
    },
    {
     "name": "stderr",
     "output_type": "stream",
     "text": [
      "C:\\Users\\Public\\Documents\\ESTsoft\\CreatorTemp\\ipykernel_33588\\3917152087.py:80: UserWarning: FixedFormatter should only be used together with FixedLocator\n",
      "  ax[0,1].set_xticklabels(x, rotation=45, ha='right');\n",
      "C:\\Users\\Public\\Documents\\ESTsoft\\CreatorTemp\\ipykernel_33588\\3917152087.py:90: UserWarning: FixedFormatter should only be used together with FixedLocator\n",
      "  ax[1,1].set_xticklabels(x, rotation=45, ha='right');\n"
     ]
    },
    {
     "name": "stdout",
     "output_type": "stream",
     "text": [
      "1987-679-6-6-Crossmodal-Visual-deep-(-4.44 mm)-TT14.7 ////// 669/878 completed  //////  0 min 1.21 sec\n"
     ]
    },
    {
     "name": "stderr",
     "output_type": "stream",
     "text": [
      "C:\\Users\\Public\\Documents\\ESTsoft\\CreatorTemp\\ipykernel_33588\\3917152087.py:80: UserWarning: FixedFormatter should only be used together with FixedLocator\n",
      "  ax[0,1].set_xticklabels(x, rotation=45, ha='right');\n",
      "C:\\Users\\Public\\Documents\\ESTsoft\\CreatorTemp\\ipykernel_33588\\3917152087.py:90: UserWarning: FixedFormatter should only be used together with FixedLocator\n",
      "  ax[1,1].set_xticklabels(x, rotation=45, ha='right');\n"
     ]
    },
    {
     "name": "stdout",
     "output_type": "stream",
     "text": [
      "1989-679-6-6-Crossmodal-Visual-deep-(-4.68 mm)-TT15.1 ////// 670/878 completed  //////  0 min 0.97 sec\n"
     ]
    },
    {
     "name": "stderr",
     "output_type": "stream",
     "text": [
      "C:\\Users\\Public\\Documents\\ESTsoft\\CreatorTemp\\ipykernel_33588\\3917152087.py:80: UserWarning: FixedFormatter should only be used together with FixedLocator\n",
      "  ax[0,1].set_xticklabels(x, rotation=45, ha='right');\n",
      "C:\\Users\\Public\\Documents\\ESTsoft\\CreatorTemp\\ipykernel_33588\\3917152087.py:90: UserWarning: FixedFormatter should only be used together with FixedLocator\n",
      "  ax[1,1].set_xticklabels(x, rotation=45, ha='right');\n"
     ]
    },
    {
     "name": "stdout",
     "output_type": "stream",
     "text": [
      "1992-679-6-6-Crossmodal-Visual-deep-(-4.68 mm)-TT15.4 ////// 671/878 completed  //////  0 min 0.94 sec\n"
     ]
    },
    {
     "name": "stderr",
     "output_type": "stream",
     "text": [
      "C:\\Users\\Public\\Documents\\ESTsoft\\CreatorTemp\\ipykernel_33588\\3917152087.py:80: UserWarning: FixedFormatter should only be used together with FixedLocator\n",
      "  ax[0,1].set_xticklabels(x, rotation=45, ha='right');\n",
      "C:\\Users\\Public\\Documents\\ESTsoft\\CreatorTemp\\ipykernel_33588\\3917152087.py:88: MatplotlibDeprecationWarning: Support for passing numbers through unit converters is deprecated since 3.5 and support will be removed two minor releases later; use Axis.convert_units instead.\n",
      "  ax[1,1].scatter(np.where(sig)[0],np.tile(0.1,(sum(sig),1)),marker='*',color='black')\n",
      "C:\\Users\\Public\\Documents\\ESTsoft\\CreatorTemp\\ipykernel_33588\\3917152087.py:90: UserWarning: FixedFormatter should only be used together with FixedLocator\n",
      "  ax[1,1].set_xticklabels(x, rotation=45, ha='right');\n"
     ]
    },
    {
     "name": "stdout",
     "output_type": "stream",
     "text": [
      "1993-679-6-6-Crossmodal-Visual-deep-(-4.68 mm)-TT15.5 ////// 672/878 completed  //////  0 min 0.91 sec\n"
     ]
    },
    {
     "name": "stderr",
     "output_type": "stream",
     "text": [
      "C:\\Users\\Public\\Documents\\ESTsoft\\CreatorTemp\\ipykernel_33588\\3917152087.py:80: UserWarning: FixedFormatter should only be used together with FixedLocator\n",
      "  ax[0,1].set_xticklabels(x, rotation=45, ha='right');\n",
      "C:\\Users\\Public\\Documents\\ESTsoft\\CreatorTemp\\ipykernel_33588\\3917152087.py:90: UserWarning: FixedFormatter should only be used together with FixedLocator\n",
      "  ax[1,1].set_xticklabels(x, rotation=45, ha='right');\n"
     ]
    },
    {
     "name": "stdout",
     "output_type": "stream",
     "text": [
      "1994-679-6-6-Crossmodal-Visual-deep-(-4.56 mm)-TT16.1 ////// 673/878 completed  //////  0 min 0.94 sec\n"
     ]
    },
    {
     "name": "stderr",
     "output_type": "stream",
     "text": [
      "C:\\Users\\Public\\Documents\\ESTsoft\\CreatorTemp\\ipykernel_33588\\3917152087.py:80: UserWarning: FixedFormatter should only be used together with FixedLocator\n",
      "  ax[0,1].set_xticklabels(x, rotation=45, ha='right');\n",
      "C:\\Users\\Public\\Documents\\ESTsoft\\CreatorTemp\\ipykernel_33588\\3917152087.py:90: UserWarning: FixedFormatter should only be used together with FixedLocator\n",
      "  ax[1,1].set_xticklabels(x, rotation=45, ha='right');\n"
     ]
    },
    {
     "name": "stdout",
     "output_type": "stream",
     "text": [
      "1995-679-6-6-Crossmodal-Auditory-deep-(-5.28 mm)-TT17.1 ////// 674/878 completed  //////  0 min 0.97 sec\n"
     ]
    },
    {
     "name": "stderr",
     "output_type": "stream",
     "text": [
      "C:\\Users\\Public\\Documents\\ESTsoft\\CreatorTemp\\ipykernel_33588\\3917152087.py:80: UserWarning: FixedFormatter should only be used together with FixedLocator\n",
      "  ax[0,1].set_xticklabels(x, rotation=45, ha='right');\n",
      "C:\\Users\\Public\\Documents\\ESTsoft\\CreatorTemp\\ipykernel_33588\\3917152087.py:90: UserWarning: FixedFormatter should only be used together with FixedLocator\n",
      "  ax[1,1].set_xticklabels(x, rotation=45, ha='right');\n"
     ]
    },
    {
     "name": "stdout",
     "output_type": "stream",
     "text": [
      "1997-679-6-6-Crossmodal-Auditory-deep-(-5.28 mm)-TT17.3 ////// 675/878 completed  //////  0 min 4.41 sec\n"
     ]
    },
    {
     "name": "stderr",
     "output_type": "stream",
     "text": [
      "C:\\Users\\Public\\Documents\\ESTsoft\\CreatorTemp\\ipykernel_33588\\3917152087.py:80: UserWarning: FixedFormatter should only be used together with FixedLocator\n",
      "  ax[0,1].set_xticklabels(x, rotation=45, ha='right');\n",
      "C:\\Users\\Public\\Documents\\ESTsoft\\CreatorTemp\\ipykernel_33588\\3917152087.py:90: UserWarning: FixedFormatter should only be used together with FixedLocator\n",
      "  ax[1,1].set_xticklabels(x, rotation=45, ha='right');\n"
     ]
    },
    {
     "name": "stdout",
     "output_type": "stream",
     "text": [
      "1999-679-6-6-Crossmodal-Auditory-deep-(-5.4 mm)-TT18.1 ////// 676/878 completed  //////  0 min 1.01 sec\n"
     ]
    },
    {
     "name": "stderr",
     "output_type": "stream",
     "text": [
      "C:\\Users\\Public\\Documents\\ESTsoft\\CreatorTemp\\ipykernel_33588\\3917152087.py:80: UserWarning: FixedFormatter should only be used together with FixedLocator\n",
      "  ax[0,1].set_xticklabels(x, rotation=45, ha='right');\n",
      "C:\\Users\\Public\\Documents\\ESTsoft\\CreatorTemp\\ipykernel_33588\\3917152087.py:90: UserWarning: FixedFormatter should only be used together with FixedLocator\n",
      "  ax[1,1].set_xticklabels(x, rotation=45, ha='right');\n"
     ]
    },
    {
     "name": "stdout",
     "output_type": "stream",
     "text": [
      "2000-679-6-6-Crossmodal-Auditory-deep-(-5.4 mm)-TT18.2 ////// 677/878 completed  //////  0 min 0.90 sec\n"
     ]
    },
    {
     "name": "stderr",
     "output_type": "stream",
     "text": [
      "C:\\Users\\Public\\Documents\\ESTsoft\\CreatorTemp\\ipykernel_33588\\3917152087.py:80: UserWarning: FixedFormatter should only be used together with FixedLocator\n",
      "  ax[0,1].set_xticklabels(x, rotation=45, ha='right');\n",
      "C:\\Users\\Public\\Documents\\ESTsoft\\CreatorTemp\\ipykernel_33588\\3917152087.py:90: UserWarning: FixedFormatter should only be used together with FixedLocator\n",
      "  ax[1,1].set_xticklabels(x, rotation=45, ha='right');\n"
     ]
    },
    {
     "name": "stdout",
     "output_type": "stream",
     "text": [
      "2001-679-6-6-Crossmodal-Auditory-deep-(-5.4 mm)-TT18.3 ////// 678/878 completed  //////  0 min 0.92 sec\n"
     ]
    },
    {
     "name": "stderr",
     "output_type": "stream",
     "text": [
      "C:\\Users\\Public\\Documents\\ESTsoft\\CreatorTemp\\ipykernel_33588\\3917152087.py:80: UserWarning: FixedFormatter should only be used together with FixedLocator\n",
      "  ax[0,1].set_xticklabels(x, rotation=45, ha='right');\n",
      "C:\\Users\\Public\\Documents\\ESTsoft\\CreatorTemp\\ipykernel_33588\\3917152087.py:88: MatplotlibDeprecationWarning: Support for passing numbers through unit converters is deprecated since 3.5 and support will be removed two minor releases later; use Axis.convert_units instead.\n",
      "  ax[1,1].scatter(np.where(sig)[0],np.tile(0.1,(sum(sig),1)),marker='*',color='black')\n",
      "C:\\Users\\Public\\Documents\\ESTsoft\\CreatorTemp\\ipykernel_33588\\3917152087.py:90: UserWarning: FixedFormatter should only be used together with FixedLocator\n",
      "  ax[1,1].set_xticklabels(x, rotation=45, ha='right');\n"
     ]
    },
    {
     "name": "stdout",
     "output_type": "stream",
     "text": [
      "2002-679-6-6-Crossmodal-Auditory-deep-(-5.52 mm)-TT20.1 ////// 679/878 completed  //////  0 min 1.39 sec\n"
     ]
    },
    {
     "name": "stderr",
     "output_type": "stream",
     "text": [
      "C:\\Users\\Public\\Documents\\ESTsoft\\CreatorTemp\\ipykernel_33588\\3917152087.py:80: UserWarning: FixedFormatter should only be used together with FixedLocator\n",
      "  ax[0,1].set_xticklabels(x, rotation=45, ha='right');\n",
      "C:\\Users\\Public\\Documents\\ESTsoft\\CreatorTemp\\ipykernel_33588\\3917152087.py:90: UserWarning: FixedFormatter should only be used together with FixedLocator\n",
      "  ax[1,1].set_xticklabels(x, rotation=45, ha='right');\n"
     ]
    },
    {
     "name": "stdout",
     "output_type": "stream",
     "text": [
      "2003-679-6-6-Crossmodal-Auditory-deep-(-5.64 mm)-TT21.1 ////// 680/878 completed  //////  0 min 1.25 sec\n"
     ]
    },
    {
     "name": "stderr",
     "output_type": "stream",
     "text": [
      "C:\\Users\\Public\\Documents\\ESTsoft\\CreatorTemp\\ipykernel_33588\\3917152087.py:80: UserWarning: FixedFormatter should only be used together with FixedLocator\n",
      "  ax[0,1].set_xticklabels(x, rotation=45, ha='right');\n",
      "C:\\Users\\Public\\Documents\\ESTsoft\\CreatorTemp\\ipykernel_33588\\3917152087.py:90: UserWarning: FixedFormatter should only be used together with FixedLocator\n",
      "  ax[1,1].set_xticklabels(x, rotation=45, ha='right');\n"
     ]
    },
    {
     "name": "stdout",
     "output_type": "stream",
     "text": [
      "2004-679-6-6-Crossmodal-Auditory-deep-(-5.64 mm)-TT21.2 ////// 681/878 completed  //////  0 min 1.03 sec\n"
     ]
    },
    {
     "name": "stderr",
     "output_type": "stream",
     "text": [
      "C:\\Users\\Public\\Documents\\ESTsoft\\CreatorTemp\\ipykernel_33588\\3917152087.py:80: UserWarning: FixedFormatter should only be used together with FixedLocator\n",
      "  ax[0,1].set_xticklabels(x, rotation=45, ha='right');\n",
      "C:\\Users\\Public\\Documents\\ESTsoft\\CreatorTemp\\ipykernel_33588\\3917152087.py:90: UserWarning: FixedFormatter should only be used together with FixedLocator\n",
      "  ax[1,1].set_xticklabels(x, rotation=45, ha='right');\n"
     ]
    },
    {
     "name": "stdout",
     "output_type": "stream",
     "text": [
      "2005-679-6-6-Crossmodal-Auditory-deep-(-6.64 mm)-TT22.1 ////// 682/878 completed  //////  0 min 1.35 sec\n"
     ]
    },
    {
     "name": "stderr",
     "output_type": "stream",
     "text": [
      "C:\\Users\\Public\\Documents\\ESTsoft\\CreatorTemp\\ipykernel_33588\\3917152087.py:80: UserWarning: FixedFormatter should only be used together with FixedLocator\n",
      "  ax[0,1].set_xticklabels(x, rotation=45, ha='right');\n",
      "C:\\Users\\Public\\Documents\\ESTsoft\\CreatorTemp\\ipykernel_33588\\3917152087.py:90: UserWarning: FixedFormatter should only be used together with FixedLocator\n",
      "  ax[1,1].set_xticklabels(x, rotation=45, ha='right');\n"
     ]
    },
    {
     "name": "stdout",
     "output_type": "stream",
     "text": [
      "2181-699-1-1-Crossmodal-Visual-deep-(-6.96 mm)-TT1.1 ////// 683/878 completed  //////  0 min 1.01 sec\n"
     ]
    },
    {
     "name": "stderr",
     "output_type": "stream",
     "text": [
      "C:\\Users\\Public\\Documents\\ESTsoft\\CreatorTemp\\ipykernel_33588\\3917152087.py:80: UserWarning: FixedFormatter should only be used together with FixedLocator\n",
      "  ax[0,1].set_xticklabels(x, rotation=45, ha='right');\n",
      "C:\\Users\\Public\\Documents\\ESTsoft\\CreatorTemp\\ipykernel_33588\\3917152087.py:90: UserWarning: FixedFormatter should only be used together with FixedLocator\n",
      "  ax[1,1].set_xticklabels(x, rotation=45, ha='right');\n"
     ]
    },
    {
     "name": "stdout",
     "output_type": "stream",
     "text": [
      "2184-699-1-1-Crossmodal-Visual-deep-(-6.72 mm)-TT2.1 ////// 685/878 completed  //////  0 min 0.88 sec\n"
     ]
    },
    {
     "name": "stderr",
     "output_type": "stream",
     "text": [
      "C:\\Users\\Public\\Documents\\ESTsoft\\CreatorTemp\\ipykernel_33588\\3917152087.py:80: UserWarning: FixedFormatter should only be used together with FixedLocator\n",
      "  ax[0,1].set_xticklabels(x, rotation=45, ha='right');\n",
      "C:\\Users\\Public\\Documents\\ESTsoft\\CreatorTemp\\ipykernel_33588\\3917152087.py:88: MatplotlibDeprecationWarning: Support for passing numbers through unit converters is deprecated since 3.5 and support will be removed two minor releases later; use Axis.convert_units instead.\n",
      "  ax[1,1].scatter(np.where(sig)[0],np.tile(0.1,(sum(sig),1)),marker='*',color='black')\n",
      "C:\\Users\\Public\\Documents\\ESTsoft\\CreatorTemp\\ipykernel_33588\\3917152087.py:90: UserWarning: FixedFormatter should only be used together with FixedLocator\n",
      "  ax[1,1].set_xticklabels(x, rotation=45, ha='right');\n"
     ]
    },
    {
     "name": "stdout",
     "output_type": "stream",
     "text": [
      "2185-699-1-1-Crossmodal-Visual-deep-(-6.36 mm)-TT3.1 ////// 686/878 completed  //////  0 min 0.83 sec\n"
     ]
    },
    {
     "name": "stderr",
     "output_type": "stream",
     "text": [
      "C:\\Users\\Public\\Documents\\ESTsoft\\CreatorTemp\\ipykernel_33588\\3917152087.py:80: UserWarning: FixedFormatter should only be used together with FixedLocator\n",
      "  ax[0,1].set_xticklabels(x, rotation=45, ha='right');\n",
      "C:\\Users\\Public\\Documents\\ESTsoft\\CreatorTemp\\ipykernel_33588\\3917152087.py:90: UserWarning: FixedFormatter should only be used together with FixedLocator\n",
      "  ax[1,1].set_xticklabels(x, rotation=45, ha='right');\n"
     ]
    },
    {
     "name": "stdout",
     "output_type": "stream",
     "text": [
      "2188-699-1-1-Crossmodal-PER-deep-(-5.76 mm)-TT5.3 ////// 688/878 completed  //////  0 min 0.81 sec\n"
     ]
    },
    {
     "name": "stderr",
     "output_type": "stream",
     "text": [
      "C:\\Users\\Public\\Documents\\ESTsoft\\CreatorTemp\\ipykernel_33588\\3917152087.py:80: UserWarning: FixedFormatter should only be used together with FixedLocator\n",
      "  ax[0,1].set_xticklabels(x, rotation=45, ha='right');\n",
      "C:\\Users\\Public\\Documents\\ESTsoft\\CreatorTemp\\ipykernel_33588\\3917152087.py:88: MatplotlibDeprecationWarning: Support for passing numbers through unit converters is deprecated since 3.5 and support will be removed two minor releases later; use Axis.convert_units instead.\n",
      "  ax[1,1].scatter(np.where(sig)[0],np.tile(0.1,(sum(sig),1)),marker='*',color='black')\n",
      "C:\\Users\\Public\\Documents\\ESTsoft\\CreatorTemp\\ipykernel_33588\\3917152087.py:90: UserWarning: FixedFormatter should only be used together with FixedLocator\n",
      "  ax[1,1].set_xticklabels(x, rotation=45, ha='right');\n"
     ]
    },
    {
     "name": "stdout",
     "output_type": "stream",
     "text": [
      "2190-699-1-1-Crossmodal-PER-deep-(-5.52 mm)-TT7.1 ////// 690/878 completed  //////  0 min 0.78 sec\n"
     ]
    },
    {
     "name": "stderr",
     "output_type": "stream",
     "text": [
      "C:\\Users\\Public\\Documents\\ESTsoft\\CreatorTemp\\ipykernel_33588\\3917152087.py:80: UserWarning: FixedFormatter should only be used together with FixedLocator\n",
      "  ax[0,1].set_xticklabels(x, rotation=45, ha='right');\n",
      "C:\\Users\\Public\\Documents\\ESTsoft\\CreatorTemp\\ipykernel_33588\\3917152087.py:88: MatplotlibDeprecationWarning: Support for passing numbers through unit converters is deprecated since 3.5 and support will be removed two minor releases later; use Axis.convert_units instead.\n",
      "  ax[1,1].scatter(np.where(sig)[0],np.tile(0.1,(sum(sig),1)),marker='*',color='black')\n",
      "C:\\Users\\Public\\Documents\\ESTsoft\\CreatorTemp\\ipykernel_33588\\3917152087.py:90: UserWarning: FixedFormatter should only be used together with FixedLocator\n",
      "  ax[1,1].set_xticklabels(x, rotation=45, ha='right');\n"
     ]
    },
    {
     "name": "stdout",
     "output_type": "stream",
     "text": [
      "2192-699-1-1-Crossmodal-PER-deep-(-5.52 mm)-TT7.3 ////// 691/878 completed  //////  0 min 0.86 sec\n"
     ]
    },
    {
     "name": "stderr",
     "output_type": "stream",
     "text": [
      "C:\\Users\\Public\\Documents\\ESTsoft\\CreatorTemp\\ipykernel_33588\\3917152087.py:80: UserWarning: FixedFormatter should only be used together with FixedLocator\n",
      "  ax[0,1].set_xticklabels(x, rotation=45, ha='right');\n",
      "C:\\Users\\Public\\Documents\\ESTsoft\\CreatorTemp\\ipykernel_33588\\3917152087.py:90: UserWarning: FixedFormatter should only be used together with FixedLocator\n",
      "  ax[1,1].set_xticklabels(x, rotation=45, ha='right');\n"
     ]
    },
    {
     "name": "stdout",
     "output_type": "stream",
     "text": [
      "2195-699-1-1-Crossmodal-Tev-deep-(-4.8 mm)-TT10.1 ////// 692/878 completed  //////  0 min 0.88 sec\n"
     ]
    },
    {
     "name": "stderr",
     "output_type": "stream",
     "text": [
      "C:\\Users\\Public\\Documents\\ESTsoft\\CreatorTemp\\ipykernel_33588\\3917152087.py:80: UserWarning: FixedFormatter should only be used together with FixedLocator\n",
      "  ax[0,1].set_xticklabels(x, rotation=45, ha='right');\n",
      "C:\\Users\\Public\\Documents\\ESTsoft\\CreatorTemp\\ipykernel_33588\\3917152087.py:90: UserWarning: FixedFormatter should only be used together with FixedLocator\n",
      "  ax[1,1].set_xticklabels(x, rotation=45, ha='right');\n"
     ]
    },
    {
     "name": "stdout",
     "output_type": "stream",
     "text": [
      "2197-699-1-1-Crossmodal-Tev-deep-(-4.8 mm)-TT10.3 ////// 693/878 completed  //////  0 min 1.11 sec\n"
     ]
    },
    {
     "name": "stderr",
     "output_type": "stream",
     "text": [
      "C:\\Users\\Public\\Documents\\ESTsoft\\CreatorTemp\\ipykernel_33588\\3917152087.py:80: UserWarning: FixedFormatter should only be used together with FixedLocator\n",
      "  ax[0,1].set_xticklabels(x, rotation=45, ha='right');\n",
      "C:\\Users\\Public\\Documents\\ESTsoft\\CreatorTemp\\ipykernel_33588\\3917152087.py:88: MatplotlibDeprecationWarning: Support for passing numbers through unit converters is deprecated since 3.5 and support will be removed two minor releases later; use Axis.convert_units instead.\n",
      "  ax[1,1].scatter(np.where(sig)[0],np.tile(0.1,(sum(sig),1)),marker='*',color='black')\n",
      "C:\\Users\\Public\\Documents\\ESTsoft\\CreatorTemp\\ipykernel_33588\\3917152087.py:90: UserWarning: FixedFormatter should only be used together with FixedLocator\n",
      "  ax[1,1].set_xticklabels(x, rotation=45, ha='right');\n"
     ]
    },
    {
     "name": "stdout",
     "output_type": "stream",
     "text": [
      "2199-699-1-1-Crossmodal-PER-deep-(-4.68 mm)-TT11.2 ////// 695/878 completed  //////  0 min 1.06 sec\n"
     ]
    },
    {
     "name": "stderr",
     "output_type": "stream",
     "text": [
      "C:\\Users\\Public\\Documents\\ESTsoft\\CreatorTemp\\ipykernel_33588\\3917152087.py:80: UserWarning: FixedFormatter should only be used together with FixedLocator\n",
      "  ax[0,1].set_xticklabels(x, rotation=45, ha='right');\n",
      "C:\\Users\\Public\\Documents\\ESTsoft\\CreatorTemp\\ipykernel_33588\\3917152087.py:90: UserWarning: FixedFormatter should only be used together with FixedLocator\n",
      "  ax[1,1].set_xticklabels(x, rotation=45, ha='right');\n"
     ]
    },
    {
     "name": "stdout",
     "output_type": "stream",
     "text": [
      "2201-699-1-1-Crossmodal-Auditory-deep-(-4.56 mm)-TT12.1 ////// 697/878 completed  //////  0 min 1.08 sec\n"
     ]
    },
    {
     "name": "stderr",
     "output_type": "stream",
     "text": [
      "C:\\Users\\Public\\Documents\\ESTsoft\\CreatorTemp\\ipykernel_33588\\3917152087.py:80: UserWarning: FixedFormatter should only be used together with FixedLocator\n",
      "  ax[0,1].set_xticklabels(x, rotation=45, ha='right');\n",
      "C:\\Users\\Public\\Documents\\ESTsoft\\CreatorTemp\\ipykernel_33588\\3917152087.py:90: UserWarning: FixedFormatter should only be used together with FixedLocator\n",
      "  ax[1,1].set_xticklabels(x, rotation=45, ha='right');\n"
     ]
    },
    {
     "name": "stdout",
     "output_type": "stream",
     "text": [
      "2203-699-1-1-Crossmodal-Auditory-deep-(-4.56 mm)-TT12.3 ////// 698/878 completed  //////  0 min 1.51 sec\n"
     ]
    },
    {
     "name": "stderr",
     "output_type": "stream",
     "text": [
      "C:\\Users\\Public\\Documents\\ESTsoft\\CreatorTemp\\ipykernel_33588\\3917152087.py:80: UserWarning: FixedFormatter should only be used together with FixedLocator\n",
      "  ax[0,1].set_xticklabels(x, rotation=45, ha='right');\n",
      "C:\\Users\\Public\\Documents\\ESTsoft\\CreatorTemp\\ipykernel_33588\\3917152087.py:90: UserWarning: FixedFormatter should only be used together with FixedLocator\n",
      "  ax[1,1].set_xticklabels(x, rotation=45, ha='right');\n"
     ]
    },
    {
     "name": "stdout",
     "output_type": "stream",
     "text": [
      "2204-699-1-1-Crossmodal-Auditory-deep-(-4.56 mm)-TT12.4 ////// 699/878 completed  //////  0 min 0.95 sec\n"
     ]
    },
    {
     "name": "stderr",
     "output_type": "stream",
     "text": [
      "C:\\Users\\Public\\Documents\\ESTsoft\\CreatorTemp\\ipykernel_33588\\3917152087.py:80: UserWarning: FixedFormatter should only be used together with FixedLocator\n",
      "  ax[0,1].set_xticklabels(x, rotation=45, ha='right');\n",
      "C:\\Users\\Public\\Documents\\ESTsoft\\CreatorTemp\\ipykernel_33588\\3917152087.py:90: UserWarning: FixedFormatter should only be used together with FixedLocator\n",
      "  ax[1,1].set_xticklabels(x, rotation=45, ha='right');\n"
     ]
    },
    {
     "name": "stdout",
     "output_type": "stream",
     "text": [
      "2206-699-1-1-Crossmodal-Auditory-deep-(-4.56 mm)-TT14.2 ////// 701/878 completed  //////  0 min 1.08 sec\n"
     ]
    },
    {
     "name": "stderr",
     "output_type": "stream",
     "text": [
      "C:\\Users\\Public\\Documents\\ESTsoft\\CreatorTemp\\ipykernel_33588\\3917152087.py:80: UserWarning: FixedFormatter should only be used together with FixedLocator\n",
      "  ax[0,1].set_xticklabels(x, rotation=45, ha='right');\n",
      "C:\\Users\\Public\\Documents\\ESTsoft\\CreatorTemp\\ipykernel_33588\\3917152087.py:90: UserWarning: FixedFormatter should only be used together with FixedLocator\n",
      "  ax[1,1].set_xticklabels(x, rotation=45, ha='right');\n"
     ]
    },
    {
     "name": "stdout",
     "output_type": "stream",
     "text": [
      "2207-699-1-1-Crossmodal-Auditory-deep-(-4.56 mm)-TT14.3 ////// 702/878 completed  //////  0 min 1.35 sec\n"
     ]
    },
    {
     "name": "stderr",
     "output_type": "stream",
     "text": [
      "C:\\Users\\Public\\Documents\\ESTsoft\\CreatorTemp\\ipykernel_33588\\3917152087.py:80: UserWarning: FixedFormatter should only be used together with FixedLocator\n",
      "  ax[0,1].set_xticklabels(x, rotation=45, ha='right');\n",
      "C:\\Users\\Public\\Documents\\ESTsoft\\CreatorTemp\\ipykernel_33588\\3917152087.py:90: UserWarning: FixedFormatter should only be used together with FixedLocator\n",
      "  ax[1,1].set_xticklabels(x, rotation=45, ha='right');\n"
     ]
    },
    {
     "name": "stdout",
     "output_type": "stream",
     "text": [
      "2208-699-1-1-Crossmodal-Auditory-deep-(-4.56 mm)-TT14.4 ////// 703/878 completed  //////  0 min 1.37 sec\n"
     ]
    },
    {
     "name": "stderr",
     "output_type": "stream",
     "text": [
      "C:\\Users\\Public\\Documents\\ESTsoft\\CreatorTemp\\ipykernel_33588\\3917152087.py:80: UserWarning: FixedFormatter should only be used together with FixedLocator\n",
      "  ax[0,1].set_xticklabels(x, rotation=45, ha='right');\n",
      "C:\\Users\\Public\\Documents\\ESTsoft\\CreatorTemp\\ipykernel_33588\\3917152087.py:90: UserWarning: FixedFormatter should only be used together with FixedLocator\n",
      "  ax[1,1].set_xticklabels(x, rotation=45, ha='right');\n"
     ]
    },
    {
     "name": "stdout",
     "output_type": "stream",
     "text": [
      "2209-699-1-1-Crossmodal-Auditory-deep-(-4.68 mm)-TT15.1 ////// 704/878 completed  //////  0 min 1.36 sec\n"
     ]
    },
    {
     "name": "stderr",
     "output_type": "stream",
     "text": [
      "C:\\Users\\Public\\Documents\\ESTsoft\\CreatorTemp\\ipykernel_33588\\3917152087.py:80: UserWarning: FixedFormatter should only be used together with FixedLocator\n",
      "  ax[0,1].set_xticklabels(x, rotation=45, ha='right');\n",
      "C:\\Users\\Public\\Documents\\ESTsoft\\CreatorTemp\\ipykernel_33588\\3917152087.py:90: UserWarning: FixedFormatter should only be used together with FixedLocator\n",
      "  ax[1,1].set_xticklabels(x, rotation=45, ha='right');\n"
     ]
    },
    {
     "name": "stdout",
     "output_type": "stream",
     "text": [
      "2210-699-1-1-Crossmodal-Tev-deep-(-4.92 mm)-TT16.1 ////// 705/878 completed  //////  0 min 1.05 sec\n"
     ]
    },
    {
     "name": "stderr",
     "output_type": "stream",
     "text": [
      "C:\\Users\\Public\\Documents\\ESTsoft\\CreatorTemp\\ipykernel_33588\\3917152087.py:80: UserWarning: FixedFormatter should only be used together with FixedLocator\n",
      "  ax[0,1].set_xticklabels(x, rotation=45, ha='right');\n",
      "C:\\Users\\Public\\Documents\\ESTsoft\\CreatorTemp\\ipykernel_33588\\3917152087.py:90: UserWarning: FixedFormatter should only be used together with FixedLocator\n",
      "  ax[1,1].set_xticklabels(x, rotation=45, ha='right');\n"
     ]
    },
    {
     "name": "stdout",
     "output_type": "stream",
     "text": [
      "2214-699-1-1-Crossmodal-Tev-deep-(-5.64 mm)-TT18.2 ////// 709/878 completed  //////  0 min 0.96 sec\n"
     ]
    },
    {
     "name": "stderr",
     "output_type": "stream",
     "text": [
      "C:\\Users\\Public\\Documents\\ESTsoft\\CreatorTemp\\ipykernel_33588\\3917152087.py:80: UserWarning: FixedFormatter should only be used together with FixedLocator\n",
      "  ax[0,1].set_xticklabels(x, rotation=45, ha='right');\n",
      "C:\\Users\\Public\\Documents\\ESTsoft\\CreatorTemp\\ipykernel_33588\\3917152087.py:88: MatplotlibDeprecationWarning: Support for passing numbers through unit converters is deprecated since 3.5 and support will be removed two minor releases later; use Axis.convert_units instead.\n",
      "  ax[1,1].scatter(np.where(sig)[0],np.tile(0.1,(sum(sig),1)),marker='*',color='black')\n",
      "C:\\Users\\Public\\Documents\\ESTsoft\\CreatorTemp\\ipykernel_33588\\3917152087.py:90: UserWarning: FixedFormatter should only be used together with FixedLocator\n",
      "  ax[1,1].set_xticklabels(x, rotation=45, ha='right');\n"
     ]
    },
    {
     "name": "stdout",
     "output_type": "stream",
     "text": [
      "2215-699-1-1-Crossmodal-Tev-deep-(-5.64 mm)-TT18.3 ////// 710/878 completed  //////  0 min 0.92 sec\n"
     ]
    },
    {
     "name": "stderr",
     "output_type": "stream",
     "text": [
      "C:\\Users\\Public\\Documents\\ESTsoft\\CreatorTemp\\ipykernel_33588\\3917152087.py:80: UserWarning: FixedFormatter should only be used together with FixedLocator\n",
      "  ax[0,1].set_xticklabels(x, rotation=45, ha='right');\n",
      "C:\\Users\\Public\\Documents\\ESTsoft\\CreatorTemp\\ipykernel_33588\\3917152087.py:90: UserWarning: FixedFormatter should only be used together with FixedLocator\n",
      "  ax[1,1].set_xticklabels(x, rotation=45, ha='right');\n"
     ]
    },
    {
     "name": "stdout",
     "output_type": "stream",
     "text": [
      "2219-699-1-1-Crossmodal-Visual-deep-(-6.48 mm)-TT24.1 ////// 714/878 completed  //////  0 min 0.97 sec\n"
     ]
    },
    {
     "name": "stderr",
     "output_type": "stream",
     "text": [
      "C:\\Users\\Public\\Documents\\ESTsoft\\CreatorTemp\\ipykernel_33588\\3917152087.py:80: UserWarning: FixedFormatter should only be used together with FixedLocator\n",
      "  ax[0,1].set_xticklabels(x, rotation=45, ha='right');\n",
      "C:\\Users\\Public\\Documents\\ESTsoft\\CreatorTemp\\ipykernel_33588\\3917152087.py:90: UserWarning: FixedFormatter should only be used together with FixedLocator\n",
      "  ax[1,1].set_xticklabels(x, rotation=45, ha='right');\n"
     ]
    },
    {
     "name": "stdout",
     "output_type": "stream",
     "text": [
      "2220-699-2-2-Crossmodal-Visual-deep-(-6.72 mm)-TT2.1 ////// 715/878 completed  //////  0 min 1.01 sec\n"
     ]
    },
    {
     "name": "stderr",
     "output_type": "stream",
     "text": [
      "C:\\Users\\Public\\Documents\\ESTsoft\\CreatorTemp\\ipykernel_33588\\3917152087.py:80: UserWarning: FixedFormatter should only be used together with FixedLocator\n",
      "  ax[0,1].set_xticklabels(x, rotation=45, ha='right');\n",
      "C:\\Users\\Public\\Documents\\ESTsoft\\CreatorTemp\\ipykernel_33588\\3917152087.py:88: MatplotlibDeprecationWarning: Support for passing numbers through unit converters is deprecated since 3.5 and support will be removed two minor releases later; use Axis.convert_units instead.\n",
      "  ax[1,1].scatter(np.where(sig)[0],np.tile(0.1,(sum(sig),1)),marker='*',color='black')\n",
      "C:\\Users\\Public\\Documents\\ESTsoft\\CreatorTemp\\ipykernel_33588\\3917152087.py:90: UserWarning: FixedFormatter should only be used together with FixedLocator\n",
      "  ax[1,1].set_xticklabels(x, rotation=45, ha='right');\n"
     ]
    },
    {
     "name": "stdout",
     "output_type": "stream",
     "text": [
      "2221-699-2-2-Crossmodal-PER-deep-(-5.76 mm)-TT5.1 ////// 716/878 completed  //////  0 min 1.15 sec\n"
     ]
    },
    {
     "name": "stderr",
     "output_type": "stream",
     "text": [
      "C:\\Users\\Public\\Documents\\ESTsoft\\CreatorTemp\\ipykernel_33588\\3917152087.py:80: UserWarning: FixedFormatter should only be used together with FixedLocator\n",
      "  ax[0,1].set_xticklabels(x, rotation=45, ha='right');\n",
      "C:\\Users\\Public\\Documents\\ESTsoft\\CreatorTemp\\ipykernel_33588\\3917152087.py:88: MatplotlibDeprecationWarning: Support for passing numbers through unit converters is deprecated since 3.5 and support will be removed two minor releases later; use Axis.convert_units instead.\n",
      "  ax[1,1].scatter(np.where(sig)[0],np.tile(0.1,(sum(sig),1)),marker='*',color='black')\n",
      "C:\\Users\\Public\\Documents\\ESTsoft\\CreatorTemp\\ipykernel_33588\\3917152087.py:90: UserWarning: FixedFormatter should only be used together with FixedLocator\n",
      "  ax[1,1].set_xticklabels(x, rotation=45, ha='right');\n"
     ]
    },
    {
     "name": "stdout",
     "output_type": "stream",
     "text": [
      "2222-699-2-2-Crossmodal-PER-deep-(-5.52 mm)-TT7.1 ////// 717/878 completed  //////  0 min 1.18 sec\n"
     ]
    },
    {
     "name": "stderr",
     "output_type": "stream",
     "text": [
      "C:\\Users\\Public\\Documents\\ESTsoft\\CreatorTemp\\ipykernel_33588\\3917152087.py:80: UserWarning: FixedFormatter should only be used together with FixedLocator\n",
      "  ax[0,1].set_xticklabels(x, rotation=45, ha='right');\n",
      "C:\\Users\\Public\\Documents\\ESTsoft\\CreatorTemp\\ipykernel_33588\\3917152087.py:90: UserWarning: FixedFormatter should only be used together with FixedLocator\n",
      "  ax[1,1].set_xticklabels(x, rotation=45, ha='right');\n"
     ]
    },
    {
     "name": "stdout",
     "output_type": "stream",
     "text": [
      "2225-699-2-2-Crossmodal-PER-deep-(-5.52 mm)-TT8.1 ////// 719/878 completed  //////  0 min 1.10 sec\n"
     ]
    },
    {
     "name": "stderr",
     "output_type": "stream",
     "text": [
      "C:\\Users\\Public\\Documents\\ESTsoft\\CreatorTemp\\ipykernel_33588\\3917152087.py:80: UserWarning: FixedFormatter should only be used together with FixedLocator\n",
      "  ax[0,1].set_xticklabels(x, rotation=45, ha='right');\n",
      "C:\\Users\\Public\\Documents\\ESTsoft\\CreatorTemp\\ipykernel_33588\\3917152087.py:90: UserWarning: FixedFormatter should only be used together with FixedLocator\n",
      "  ax[1,1].set_xticklabels(x, rotation=45, ha='right');\n"
     ]
    },
    {
     "name": "stdout",
     "output_type": "stream",
     "text": [
      "2227-699-2-2-Crossmodal-PER-deep-(-4.68 mm)-TT11.1 ////// 721/878 completed  //////  0 min 1.16 sec\n"
     ]
    },
    {
     "name": "stderr",
     "output_type": "stream",
     "text": [
      "C:\\Users\\Public\\Documents\\ESTsoft\\CreatorTemp\\ipykernel_33588\\3917152087.py:80: UserWarning: FixedFormatter should only be used together with FixedLocator\n",
      "  ax[0,1].set_xticklabels(x, rotation=45, ha='right');\n",
      "C:\\Users\\Public\\Documents\\ESTsoft\\CreatorTemp\\ipykernel_33588\\3917152087.py:90: UserWarning: FixedFormatter should only be used together with FixedLocator\n",
      "  ax[1,1].set_xticklabels(x, rotation=45, ha='right');\n"
     ]
    },
    {
     "name": "stdout",
     "output_type": "stream",
     "text": [
      "2229-699-2-2-Crossmodal-Auditory-deep-(-4.56 mm)-TT12.2 ////// 723/878 completed  //////  0 min 1.23 sec\n"
     ]
    },
    {
     "name": "stderr",
     "output_type": "stream",
     "text": [
      "C:\\Users\\Public\\Documents\\ESTsoft\\CreatorTemp\\ipykernel_33588\\3917152087.py:80: UserWarning: FixedFormatter should only be used together with FixedLocator\n",
      "  ax[0,1].set_xticklabels(x, rotation=45, ha='right');\n",
      "C:\\Users\\Public\\Documents\\ESTsoft\\CreatorTemp\\ipykernel_33588\\3917152087.py:90: UserWarning: FixedFormatter should only be used together with FixedLocator\n",
      "  ax[1,1].set_xticklabels(x, rotation=45, ha='right');\n"
     ]
    },
    {
     "name": "stdout",
     "output_type": "stream",
     "text": [
      "2230-699-2-2-Crossmodal-Auditory-deep-(-4.56 mm)-TT12.3 ////// 724/878 completed  //////  0 min 1.28 sec\n"
     ]
    },
    {
     "name": "stderr",
     "output_type": "stream",
     "text": [
      "C:\\Users\\Public\\Documents\\ESTsoft\\CreatorTemp\\ipykernel_33588\\3917152087.py:80: UserWarning: FixedFormatter should only be used together with FixedLocator\n",
      "  ax[0,1].set_xticklabels(x, rotation=45, ha='right');\n",
      "C:\\Users\\Public\\Documents\\ESTsoft\\CreatorTemp\\ipykernel_33588\\3917152087.py:90: UserWarning: FixedFormatter should only be used together with FixedLocator\n",
      "  ax[1,1].set_xticklabels(x, rotation=45, ha='right');\n"
     ]
    },
    {
     "name": "stdout",
     "output_type": "stream",
     "text": [
      "2232-699-2-2-Crossmodal-Auditory-deep-(-4.68 mm)-TT13.2 ////// 725/878 completed  //////  0 min 1.15 sec\n"
     ]
    },
    {
     "name": "stderr",
     "output_type": "stream",
     "text": [
      "C:\\Users\\Public\\Documents\\ESTsoft\\CreatorTemp\\ipykernel_33588\\3917152087.py:80: UserWarning: FixedFormatter should only be used together with FixedLocator\n",
      "  ax[0,1].set_xticklabels(x, rotation=45, ha='right');\n",
      "C:\\Users\\Public\\Documents\\ESTsoft\\CreatorTemp\\ipykernel_33588\\3917152087.py:90: UserWarning: FixedFormatter should only be used together with FixedLocator\n",
      "  ax[1,1].set_xticklabels(x, rotation=45, ha='right');\n"
     ]
    },
    {
     "name": "stdout",
     "output_type": "stream",
     "text": [
      "2233-699-2-2-Crossmodal-Auditory-deep-(-4.68 mm)-TT13.3 ////// 726/878 completed  //////  0 min 1.27 sec\n"
     ]
    },
    {
     "name": "stderr",
     "output_type": "stream",
     "text": [
      "C:\\Users\\Public\\Documents\\ESTsoft\\CreatorTemp\\ipykernel_33588\\3917152087.py:80: UserWarning: FixedFormatter should only be used together with FixedLocator\n",
      "  ax[0,1].set_xticklabels(x, rotation=45, ha='right');\n",
      "C:\\Users\\Public\\Documents\\ESTsoft\\CreatorTemp\\ipykernel_33588\\3917152087.py:90: UserWarning: FixedFormatter should only be used together with FixedLocator\n",
      "  ax[1,1].set_xticklabels(x, rotation=45, ha='right');\n"
     ]
    },
    {
     "name": "stdout",
     "output_type": "stream",
     "text": [
      "2234-699-2-2-Crossmodal-Auditory-deep-(-4.68 mm)-TT13.4 ////// 727/878 completed  //////  0 min 1.19 sec\n"
     ]
    },
    {
     "name": "stderr",
     "output_type": "stream",
     "text": [
      "C:\\Users\\Public\\Documents\\ESTsoft\\CreatorTemp\\ipykernel_33588\\3917152087.py:80: UserWarning: FixedFormatter should only be used together with FixedLocator\n",
      "  ax[0,1].set_xticklabels(x, rotation=45, ha='right');\n",
      "C:\\Users\\Public\\Documents\\ESTsoft\\CreatorTemp\\ipykernel_33588\\3917152087.py:90: UserWarning: FixedFormatter should only be used together with FixedLocator\n",
      "  ax[1,1].set_xticklabels(x, rotation=45, ha='right');\n"
     ]
    },
    {
     "name": "stdout",
     "output_type": "stream",
     "text": [
      "2236-699-2-2-Crossmodal-Auditory-deep-(-4.56 mm)-TT14.2 ////// 729/878 completed  //////  0 min 1.20 sec\n"
     ]
    },
    {
     "name": "stderr",
     "output_type": "stream",
     "text": [
      "C:\\Users\\Public\\Documents\\ESTsoft\\CreatorTemp\\ipykernel_33588\\3917152087.py:80: UserWarning: FixedFormatter should only be used together with FixedLocator\n",
      "  ax[0,1].set_xticklabels(x, rotation=45, ha='right');\n",
      "C:\\Users\\Public\\Documents\\ESTsoft\\CreatorTemp\\ipykernel_33588\\3917152087.py:88: MatplotlibDeprecationWarning: Support for passing numbers through unit converters is deprecated since 3.5 and support will be removed two minor releases later; use Axis.convert_units instead.\n",
      "  ax[1,1].scatter(np.where(sig)[0],np.tile(0.1,(sum(sig),1)),marker='*',color='black')\n",
      "C:\\Users\\Public\\Documents\\ESTsoft\\CreatorTemp\\ipykernel_33588\\3917152087.py:90: UserWarning: FixedFormatter should only be used together with FixedLocator\n",
      "  ax[1,1].set_xticklabels(x, rotation=45, ha='right');\n"
     ]
    },
    {
     "name": "stdout",
     "output_type": "stream",
     "text": [
      "2237-699-2-2-Crossmodal-Auditory-deep-(-4.56 mm)-TT14.3 ////// 730/878 completed  //////  0 min 1.58 sec\n"
     ]
    },
    {
     "name": "stderr",
     "output_type": "stream",
     "text": [
      "C:\\Users\\Public\\Documents\\ESTsoft\\CreatorTemp\\ipykernel_33588\\3917152087.py:80: UserWarning: FixedFormatter should only be used together with FixedLocator\n",
      "  ax[0,1].set_xticklabels(x, rotation=45, ha='right');\n",
      "C:\\Users\\Public\\Documents\\ESTsoft\\CreatorTemp\\ipykernel_33588\\3917152087.py:90: UserWarning: FixedFormatter should only be used together with FixedLocator\n",
      "  ax[1,1].set_xticklabels(x, rotation=45, ha='right');\n"
     ]
    },
    {
     "name": "stdout",
     "output_type": "stream",
     "text": [
      "2238-699-2-2-Crossmodal-Auditory-deep-(-4.68 mm)-TT15.1 ////// 731/878 completed  //////  0 min 1.39 sec\n"
     ]
    },
    {
     "name": "stderr",
     "output_type": "stream",
     "text": [
      "C:\\Users\\Public\\Documents\\ESTsoft\\CreatorTemp\\ipykernel_33588\\3917152087.py:80: UserWarning: FixedFormatter should only be used together with FixedLocator\n",
      "  ax[0,1].set_xticklabels(x, rotation=45, ha='right');\n",
      "C:\\Users\\Public\\Documents\\ESTsoft\\CreatorTemp\\ipykernel_33588\\3917152087.py:90: UserWarning: FixedFormatter should only be used together with FixedLocator\n",
      "  ax[1,1].set_xticklabels(x, rotation=45, ha='right');\n"
     ]
    },
    {
     "name": "stdout",
     "output_type": "stream",
     "text": [
      "2239-699-2-2-Crossmodal-Auditory-deep-(-4.68 mm)-TT15.2 ////// 732/878 completed  //////  0 min 0.93 sec\n"
     ]
    },
    {
     "name": "stderr",
     "output_type": "stream",
     "text": [
      "C:\\Users\\Public\\Documents\\ESTsoft\\CreatorTemp\\ipykernel_33588\\3917152087.py:80: UserWarning: FixedFormatter should only be used together with FixedLocator\n",
      "  ax[0,1].set_xticklabels(x, rotation=45, ha='right');\n",
      "C:\\Users\\Public\\Documents\\ESTsoft\\CreatorTemp\\ipykernel_33588\\3917152087.py:88: MatplotlibDeprecationWarning: Support for passing numbers through unit converters is deprecated since 3.5 and support will be removed two minor releases later; use Axis.convert_units instead.\n",
      "  ax[1,1].scatter(np.where(sig)[0],np.tile(0.1,(sum(sig),1)),marker='*',color='black')\n",
      "C:\\Users\\Public\\Documents\\ESTsoft\\CreatorTemp\\ipykernel_33588\\3917152087.py:90: UserWarning: FixedFormatter should only be used together with FixedLocator\n",
      "  ax[1,1].set_xticklabels(x, rotation=45, ha='right');\n"
     ]
    },
    {
     "name": "stdout",
     "output_type": "stream",
     "text": [
      "2240-699-2-2-Crossmodal-Auditory-deep-(-4.68 mm)-TT15.3 ////// 733/878 completed  //////  0 min 0.87 sec\n"
     ]
    },
    {
     "name": "stderr",
     "output_type": "stream",
     "text": [
      "C:\\Users\\Public\\Documents\\ESTsoft\\CreatorTemp\\ipykernel_33588\\3917152087.py:80: UserWarning: FixedFormatter should only be used together with FixedLocator\n",
      "  ax[0,1].set_xticklabels(x, rotation=45, ha='right');\n",
      "C:\\Users\\Public\\Documents\\ESTsoft\\CreatorTemp\\ipykernel_33588\\3917152087.py:90: UserWarning: FixedFormatter should only be used together with FixedLocator\n",
      "  ax[1,1].set_xticklabels(x, rotation=45, ha='right');\n"
     ]
    },
    {
     "name": "stdout",
     "output_type": "stream",
     "text": [
      "2241-699-2-2-Crossmodal-Auditory-deep-(-4.68 mm)-TT15.4 ////// 734/878 completed  //////  0 min 0.83 sec\n"
     ]
    },
    {
     "name": "stderr",
     "output_type": "stream",
     "text": [
      "C:\\Users\\Public\\Documents\\ESTsoft\\CreatorTemp\\ipykernel_33588\\3917152087.py:80: UserWarning: FixedFormatter should only be used together with FixedLocator\n",
      "  ax[0,1].set_xticklabels(x, rotation=45, ha='right');\n",
      "C:\\Users\\Public\\Documents\\ESTsoft\\CreatorTemp\\ipykernel_33588\\3917152087.py:90: UserWarning: FixedFormatter should only be used together with FixedLocator\n",
      "  ax[1,1].set_xticklabels(x, rotation=45, ha='right');\n"
     ]
    },
    {
     "name": "stdout",
     "output_type": "stream",
     "text": [
      "2242-699-2-2-Crossmodal-Tev-deep-(-4.92 mm)-TT16.1 ////// 735/878 completed  //////  0 min 1.08 sec\n"
     ]
    },
    {
     "name": "stderr",
     "output_type": "stream",
     "text": [
      "C:\\Users\\Public\\Documents\\ESTsoft\\CreatorTemp\\ipykernel_33588\\3917152087.py:80: UserWarning: FixedFormatter should only be used together with FixedLocator\n",
      "  ax[0,1].set_xticklabels(x, rotation=45, ha='right');\n",
      "C:\\Users\\Public\\Documents\\ESTsoft\\CreatorTemp\\ipykernel_33588\\3917152087.py:88: MatplotlibDeprecationWarning: Support for passing numbers through unit converters is deprecated since 3.5 and support will be removed two minor releases later; use Axis.convert_units instead.\n",
      "  ax[1,1].scatter(np.where(sig)[0],np.tile(0.1,(sum(sig),1)),marker='*',color='black')\n",
      "C:\\Users\\Public\\Documents\\ESTsoft\\CreatorTemp\\ipykernel_33588\\3917152087.py:90: UserWarning: FixedFormatter should only be used together with FixedLocator\n",
      "  ax[1,1].set_xticklabels(x, rotation=45, ha='right');\n"
     ]
    },
    {
     "name": "stdout",
     "output_type": "stream",
     "text": [
      "2246-699-2-2-Crossmodal-PER-deep-(-5.28 mm)-TT17.4 ////// 739/878 completed  //////  0 min 0.99 sec\n"
     ]
    },
    {
     "name": "stderr",
     "output_type": "stream",
     "text": [
      "C:\\Users\\Public\\Documents\\ESTsoft\\CreatorTemp\\ipykernel_33588\\3917152087.py:80: UserWarning: FixedFormatter should only be used together with FixedLocator\n",
      "  ax[0,1].set_xticklabels(x, rotation=45, ha='right');\n",
      "C:\\Users\\Public\\Documents\\ESTsoft\\CreatorTemp\\ipykernel_33588\\3917152087.py:90: UserWarning: FixedFormatter should only be used together with FixedLocator\n",
      "  ax[1,1].set_xticklabels(x, rotation=45, ha='right');\n"
     ]
    },
    {
     "name": "stdout",
     "output_type": "stream",
     "text": [
      "2247-699-2-2-Crossmodal-PER-deep-(-5.28 mm)-TT17.5 ////// 740/878 completed  //////  0 min 1.27 sec\n"
     ]
    },
    {
     "name": "stderr",
     "output_type": "stream",
     "text": [
      "C:\\Users\\Public\\Documents\\ESTsoft\\CreatorTemp\\ipykernel_33588\\3917152087.py:80: UserWarning: FixedFormatter should only be used together with FixedLocator\n",
      "  ax[0,1].set_xticklabels(x, rotation=45, ha='right');\n",
      "C:\\Users\\Public\\Documents\\ESTsoft\\CreatorTemp\\ipykernel_33588\\3917152087.py:90: UserWarning: FixedFormatter should only be used together with FixedLocator\n",
      "  ax[1,1].set_xticklabels(x, rotation=45, ha='right');\n"
     ]
    },
    {
     "name": "stdout",
     "output_type": "stream",
     "text": [
      "2254-699-2-2-Crossmodal-Tev-deep-(-6.24 mm)-TT22.2 ////// 745/878 completed  //////  0 min 1.09 sec\n"
     ]
    },
    {
     "name": "stderr",
     "output_type": "stream",
     "text": [
      "C:\\Users\\Public\\Documents\\ESTsoft\\CreatorTemp\\ipykernel_33588\\3917152087.py:80: UserWarning: FixedFormatter should only be used together with FixedLocator\n",
      "  ax[0,1].set_xticklabels(x, rotation=45, ha='right');\n",
      "C:\\Users\\Public\\Documents\\ESTsoft\\CreatorTemp\\ipykernel_33588\\3917152087.py:90: UserWarning: FixedFormatter should only be used together with FixedLocator\n",
      "  ax[1,1].set_xticklabels(x, rotation=45, ha='right');\n"
     ]
    },
    {
     "name": "stdout",
     "output_type": "stream",
     "text": [
      "2255-699-2-2-Crossmodal-Tev-deep-(-6.24 mm)-TT22.3 ////// 746/878 completed  //////  0 min 1.02 sec\n"
     ]
    },
    {
     "name": "stderr",
     "output_type": "stream",
     "text": [
      "C:\\Users\\Public\\Documents\\ESTsoft\\CreatorTemp\\ipykernel_33588\\3917152087.py:80: UserWarning: FixedFormatter should only be used together with FixedLocator\n",
      "  ax[0,1].set_xticklabels(x, rotation=45, ha='right');\n",
      "C:\\Users\\Public\\Documents\\ESTsoft\\CreatorTemp\\ipykernel_33588\\3917152087.py:90: UserWarning: FixedFormatter should only be used together with FixedLocator\n",
      "  ax[1,1].set_xticklabels(x, rotation=45, ha='right');\n"
     ]
    },
    {
     "name": "stdout",
     "output_type": "stream",
     "text": [
      "2256-699-2-2-Crossmodal-Tev-deep-(-6.24 mm)-TT22.4 ////// 747/878 completed  //////  0 min 1.00 sec\n"
     ]
    },
    {
     "name": "stderr",
     "output_type": "stream",
     "text": [
      "C:\\Users\\Public\\Documents\\ESTsoft\\CreatorTemp\\ipykernel_33588\\3917152087.py:80: UserWarning: FixedFormatter should only be used together with FixedLocator\n",
      "  ax[0,1].set_xticklabels(x, rotation=45, ha='right');\n",
      "C:\\Users\\Public\\Documents\\ESTsoft\\CreatorTemp\\ipykernel_33588\\3917152087.py:90: UserWarning: FixedFormatter should only be used together with FixedLocator\n",
      "  ax[1,1].set_xticklabels(x, rotation=45, ha='right');\n"
     ]
    },
    {
     "name": "stdout",
     "output_type": "stream",
     "text": [
      "2258-699-2-2-Crossmodal-Tev-deep-(-6.24 mm)-TT22.6 ////// 749/878 completed  //////  0 min 0.99 sec\n"
     ]
    },
    {
     "name": "stderr",
     "output_type": "stream",
     "text": [
      "C:\\Users\\Public\\Documents\\ESTsoft\\CreatorTemp\\ipykernel_33588\\3917152087.py:80: UserWarning: FixedFormatter should only be used together with FixedLocator\n",
      "  ax[0,1].set_xticklabels(x, rotation=45, ha='right');\n",
      "C:\\Users\\Public\\Documents\\ESTsoft\\CreatorTemp\\ipykernel_33588\\3917152087.py:88: MatplotlibDeprecationWarning: Support for passing numbers through unit converters is deprecated since 3.5 and support will be removed two minor releases later; use Axis.convert_units instead.\n",
      "  ax[1,1].scatter(np.where(sig)[0],np.tile(0.1,(sum(sig),1)),marker='*',color='black')\n",
      "C:\\Users\\Public\\Documents\\ESTsoft\\CreatorTemp\\ipykernel_33588\\3917152087.py:90: UserWarning: FixedFormatter should only be used together with FixedLocator\n",
      "  ax[1,1].set_xticklabels(x, rotation=45, ha='right');\n"
     ]
    },
    {
     "name": "stdout",
     "output_type": "stream",
     "text": [
      "2259-699-3-3-Crossmodal-Visual-deep-(-6.96 mm)-TT1.1 ////// 750/878 completed  //////  0 min 0.97 sec\n"
     ]
    },
    {
     "name": "stderr",
     "output_type": "stream",
     "text": [
      "C:\\Users\\Public\\Documents\\ESTsoft\\CreatorTemp\\ipykernel_33588\\3917152087.py:80: UserWarning: FixedFormatter should only be used together with FixedLocator\n",
      "  ax[0,1].set_xticklabels(x, rotation=45, ha='right');\n",
      "C:\\Users\\Public\\Documents\\ESTsoft\\CreatorTemp\\ipykernel_33588\\3917152087.py:88: MatplotlibDeprecationWarning: Support for passing numbers through unit converters is deprecated since 3.5 and support will be removed two minor releases later; use Axis.convert_units instead.\n",
      "  ax[1,1].scatter(np.where(sig)[0],np.tile(0.1,(sum(sig),1)),marker='*',color='black')\n",
      "C:\\Users\\Public\\Documents\\ESTsoft\\CreatorTemp\\ipykernel_33588\\3917152087.py:90: UserWarning: FixedFormatter should only be used together with FixedLocator\n",
      "  ax[1,1].set_xticklabels(x, rotation=45, ha='right');\n"
     ]
    },
    {
     "name": "stdout",
     "output_type": "stream",
     "text": [
      "2260-699-3-3-Crossmodal-PER-deep-(-5.76 mm)-TT5.1 ////// 751/878 completed  //////  0 min 0.79 sec\n"
     ]
    },
    {
     "name": "stderr",
     "output_type": "stream",
     "text": [
      "C:\\Users\\Public\\Documents\\ESTsoft\\CreatorTemp\\ipykernel_33588\\3917152087.py:80: UserWarning: FixedFormatter should only be used together with FixedLocator\n",
      "  ax[0,1].set_xticklabels(x, rotation=45, ha='right');\n",
      "C:\\Users\\Public\\Documents\\ESTsoft\\CreatorTemp\\ipykernel_33588\\3917152087.py:90: UserWarning: FixedFormatter should only be used together with FixedLocator\n",
      "  ax[1,1].set_xticklabels(x, rotation=45, ha='right');\n"
     ]
    },
    {
     "name": "stdout",
     "output_type": "stream",
     "text": [
      "2261-699-3-3-Crossmodal-PER-deep-(-5.76 mm)-TT5.2 ////// 752/878 completed  //////  0 min 0.82 sec\n"
     ]
    },
    {
     "name": "stderr",
     "output_type": "stream",
     "text": [
      "C:\\Users\\Public\\Documents\\ESTsoft\\CreatorTemp\\ipykernel_33588\\3917152087.py:80: UserWarning: FixedFormatter should only be used together with FixedLocator\n",
      "  ax[0,1].set_xticklabels(x, rotation=45, ha='right');\n",
      "C:\\Users\\Public\\Documents\\ESTsoft\\CreatorTemp\\ipykernel_33588\\3917152087.py:88: MatplotlibDeprecationWarning: Support for passing numbers through unit converters is deprecated since 3.5 and support will be removed two minor releases later; use Axis.convert_units instead.\n",
      "  ax[1,1].scatter(np.where(sig)[0],np.tile(0.1,(sum(sig),1)),marker='*',color='black')\n",
      "C:\\Users\\Public\\Documents\\ESTsoft\\CreatorTemp\\ipykernel_33588\\3917152087.py:90: UserWarning: FixedFormatter should only be used together with FixedLocator\n",
      "  ax[1,1].set_xticklabels(x, rotation=45, ha='right');\n"
     ]
    },
    {
     "name": "stdout",
     "output_type": "stream",
     "text": [
      "2263-699-3-3-Crossmodal-PER-deep-(-5.52 mm)-TT7.2 ////// 754/878 completed  //////  0 min 1.11 sec\n"
     ]
    },
    {
     "name": "stderr",
     "output_type": "stream",
     "text": [
      "C:\\Users\\Public\\Documents\\ESTsoft\\CreatorTemp\\ipykernel_33588\\3917152087.py:80: UserWarning: FixedFormatter should only be used together with FixedLocator\n",
      "  ax[0,1].set_xticklabels(x, rotation=45, ha='right');\n",
      "C:\\Users\\Public\\Documents\\ESTsoft\\CreatorTemp\\ipykernel_33588\\3917152087.py:90: UserWarning: FixedFormatter should only be used together with FixedLocator\n",
      "  ax[1,1].set_xticklabels(x, rotation=45, ha='right');\n"
     ]
    },
    {
     "name": "stdout",
     "output_type": "stream",
     "text": [
      "2265-699-3-3-Crossmodal-PER-deep-(-5.52 mm)-TT7.4 ////// 755/878 completed  //////  0 min 1.34 sec\n"
     ]
    },
    {
     "name": "stderr",
     "output_type": "stream",
     "text": [
      "C:\\Users\\Public\\Documents\\ESTsoft\\CreatorTemp\\ipykernel_33588\\3917152087.py:80: UserWarning: FixedFormatter should only be used together with FixedLocator\n",
      "  ax[0,1].set_xticklabels(x, rotation=45, ha='right');\n",
      "C:\\Users\\Public\\Documents\\ESTsoft\\CreatorTemp\\ipykernel_33588\\3917152087.py:90: UserWarning: FixedFormatter should only be used together with FixedLocator\n",
      "  ax[1,1].set_xticklabels(x, rotation=45, ha='right');\n"
     ]
    },
    {
     "name": "stdout",
     "output_type": "stream",
     "text": [
      "2266-699-3-3-Crossmodal-PER-deep-(-5.52 mm)-TT8.1 ////// 756/878 completed  //////  0 min 1.26 sec\n"
     ]
    },
    {
     "name": "stderr",
     "output_type": "stream",
     "text": [
      "C:\\Users\\Public\\Documents\\ESTsoft\\CreatorTemp\\ipykernel_33588\\3917152087.py:80: UserWarning: FixedFormatter should only be used together with FixedLocator\n",
      "  ax[0,1].set_xticklabels(x, rotation=45, ha='right');\n",
      "C:\\Users\\Public\\Documents\\ESTsoft\\CreatorTemp\\ipykernel_33588\\3917152087.py:90: UserWarning: FixedFormatter should only be used together with FixedLocator\n",
      "  ax[1,1].set_xticklabels(x, rotation=45, ha='right');\n"
     ]
    },
    {
     "name": "stdout",
     "output_type": "stream",
     "text": [
      "2267-699-3-3-Crossmodal-PER-deep-(-5.52 mm)-TT8.2 ////// 757/878 completed  //////  0 min 1.03 sec\n"
     ]
    },
    {
     "name": "stderr",
     "output_type": "stream",
     "text": [
      "C:\\Users\\Public\\Documents\\ESTsoft\\CreatorTemp\\ipykernel_33588\\3917152087.py:80: UserWarning: FixedFormatter should only be used together with FixedLocator\n",
      "  ax[0,1].set_xticklabels(x, rotation=45, ha='right');\n",
      "C:\\Users\\Public\\Documents\\ESTsoft\\CreatorTemp\\ipykernel_33588\\3917152087.py:90: UserWarning: FixedFormatter should only be used together with FixedLocator\n",
      "  ax[1,1].set_xticklabels(x, rotation=45, ha='right');\n"
     ]
    },
    {
     "name": "stdout",
     "output_type": "stream",
     "text": [
      "2269-699-3-3-Crossmodal-PER-deep-(-5.2 mm)-TT9.2 ////// 759/878 completed  //////  0 min 0.86 sec\n"
     ]
    },
    {
     "name": "stderr",
     "output_type": "stream",
     "text": [
      "C:\\Users\\Public\\Documents\\ESTsoft\\CreatorTemp\\ipykernel_33588\\3917152087.py:80: UserWarning: FixedFormatter should only be used together with FixedLocator\n",
      "  ax[0,1].set_xticklabels(x, rotation=45, ha='right');\n",
      "C:\\Users\\Public\\Documents\\ESTsoft\\CreatorTemp\\ipykernel_33588\\3917152087.py:88: MatplotlibDeprecationWarning: Support for passing numbers through unit converters is deprecated since 3.5 and support will be removed two minor releases later; use Axis.convert_units instead.\n",
      "  ax[1,1].scatter(np.where(sig)[0],np.tile(0.1,(sum(sig),1)),marker='*',color='black')\n",
      "C:\\Users\\Public\\Documents\\ESTsoft\\CreatorTemp\\ipykernel_33588\\3917152087.py:90: UserWarning: FixedFormatter should only be used together with FixedLocator\n",
      "  ax[1,1].set_xticklabels(x, rotation=45, ha='right');\n"
     ]
    },
    {
     "name": "stdout",
     "output_type": "stream",
     "text": [
      "2273-699-3-3-Crossmodal-PER-deep-(-4.68 mm)-TT11.2 ////// 763/878 completed  //////  0 min 1.02 sec\n"
     ]
    },
    {
     "name": "stderr",
     "output_type": "stream",
     "text": [
      "C:\\Users\\Public\\Documents\\ESTsoft\\CreatorTemp\\ipykernel_33588\\3917152087.py:80: UserWarning: FixedFormatter should only be used together with FixedLocator\n",
      "  ax[0,1].set_xticklabels(x, rotation=45, ha='right');\n",
      "C:\\Users\\Public\\Documents\\ESTsoft\\CreatorTemp\\ipykernel_33588\\3917152087.py:90: UserWarning: FixedFormatter should only be used together with FixedLocator\n",
      "  ax[1,1].set_xticklabels(x, rotation=45, ha='right');\n"
     ]
    },
    {
     "name": "stdout",
     "output_type": "stream",
     "text": [
      "2275-699-3-3-Crossmodal-Auditory-deep-(-4.56 mm)-TT12.2 ////// 764/878 completed  //////  0 min 0.82 sec\n"
     ]
    },
    {
     "name": "stderr",
     "output_type": "stream",
     "text": [
      "C:\\Users\\Public\\Documents\\ESTsoft\\CreatorTemp\\ipykernel_33588\\3917152087.py:80: UserWarning: FixedFormatter should only be used together with FixedLocator\n",
      "  ax[0,1].set_xticklabels(x, rotation=45, ha='right');\n",
      "C:\\Users\\Public\\Documents\\ESTsoft\\CreatorTemp\\ipykernel_33588\\3917152087.py:90: UserWarning: FixedFormatter should only be used together with FixedLocator\n",
      "  ax[1,1].set_xticklabels(x, rotation=45, ha='right');\n"
     ]
    },
    {
     "name": "stdout",
     "output_type": "stream",
     "text": [
      "2276-699-3-3-Crossmodal-Auditory-deep-(-4.56 mm)-TT12.3 ////// 765/878 completed  //////  0 min 1.11 sec\n"
     ]
    },
    {
     "name": "stderr",
     "output_type": "stream",
     "text": [
      "C:\\Users\\Public\\Documents\\ESTsoft\\CreatorTemp\\ipykernel_33588\\3917152087.py:80: UserWarning: FixedFormatter should only be used together with FixedLocator\n",
      "  ax[0,1].set_xticklabels(x, rotation=45, ha='right');\n",
      "C:\\Users\\Public\\Documents\\ESTsoft\\CreatorTemp\\ipykernel_33588\\3917152087.py:88: MatplotlibDeprecationWarning: Support for passing numbers through unit converters is deprecated since 3.5 and support will be removed two minor releases later; use Axis.convert_units instead.\n",
      "  ax[1,1].scatter(np.where(sig)[0],np.tile(0.1,(sum(sig),1)),marker='*',color='black')\n",
      "C:\\Users\\Public\\Documents\\ESTsoft\\CreatorTemp\\ipykernel_33588\\3917152087.py:90: UserWarning: FixedFormatter should only be used together with FixedLocator\n",
      "  ax[1,1].set_xticklabels(x, rotation=45, ha='right');\n"
     ]
    },
    {
     "name": "stdout",
     "output_type": "stream",
     "text": [
      "2277-699-3-3-Crossmodal-Auditory-deep-(-4.56 mm)-TT12.4 ////// 766/878 completed  //////  0 min 0.94 sec\n"
     ]
    },
    {
     "name": "stderr",
     "output_type": "stream",
     "text": [
      "C:\\Users\\Public\\Documents\\ESTsoft\\CreatorTemp\\ipykernel_33588\\3917152087.py:80: UserWarning: FixedFormatter should only be used together with FixedLocator\n",
      "  ax[0,1].set_xticklabels(x, rotation=45, ha='right');\n",
      "C:\\Users\\Public\\Documents\\ESTsoft\\CreatorTemp\\ipykernel_33588\\3917152087.py:90: UserWarning: FixedFormatter should only be used together with FixedLocator\n",
      "  ax[1,1].set_xticklabels(x, rotation=45, ha='right');\n"
     ]
    },
    {
     "name": "stdout",
     "output_type": "stream",
     "text": [
      "2279-699-3-3-Crossmodal-Auditory-deep-(-4.68 mm)-TT13.1 ////// 767/878 completed  //////  0 min 0.96 sec\n"
     ]
    },
    {
     "name": "stderr",
     "output_type": "stream",
     "text": [
      "C:\\Users\\Public\\Documents\\ESTsoft\\CreatorTemp\\ipykernel_33588\\3917152087.py:80: UserWarning: FixedFormatter should only be used together with FixedLocator\n",
      "  ax[0,1].set_xticklabels(x, rotation=45, ha='right');\n",
      "C:\\Users\\Public\\Documents\\ESTsoft\\CreatorTemp\\ipykernel_33588\\3917152087.py:88: MatplotlibDeprecationWarning: Support for passing numbers through unit converters is deprecated since 3.5 and support will be removed two minor releases later; use Axis.convert_units instead.\n",
      "  ax[1,1].scatter(np.where(sig)[0],np.tile(0.1,(sum(sig),1)),marker='*',color='black')\n",
      "C:\\Users\\Public\\Documents\\ESTsoft\\CreatorTemp\\ipykernel_33588\\3917152087.py:90: UserWarning: FixedFormatter should only be used together with FixedLocator\n",
      "  ax[1,1].set_xticklabels(x, rotation=45, ha='right');\n"
     ]
    },
    {
     "name": "stdout",
     "output_type": "stream",
     "text": [
      "2280-699-3-3-Crossmodal-Auditory-deep-(-4.68 mm)-TT13.2 ////// 768/878 completed  //////  0 min 1.06 sec\n"
     ]
    },
    {
     "name": "stderr",
     "output_type": "stream",
     "text": [
      "C:\\Users\\Public\\Documents\\ESTsoft\\CreatorTemp\\ipykernel_33588\\3917152087.py:80: UserWarning: FixedFormatter should only be used together with FixedLocator\n",
      "  ax[0,1].set_xticklabels(x, rotation=45, ha='right');\n",
      "C:\\Users\\Public\\Documents\\ESTsoft\\CreatorTemp\\ipykernel_33588\\3917152087.py:90: UserWarning: FixedFormatter should only be used together with FixedLocator\n",
      "  ax[1,1].set_xticklabels(x, rotation=45, ha='right');\n"
     ]
    },
    {
     "name": "stdout",
     "output_type": "stream",
     "text": [
      "2281-699-3-3-Crossmodal-Auditory-deep-(-4.56 mm)-TT14.1 ////// 769/878 completed  //////  0 min 1.01 sec\n"
     ]
    },
    {
     "name": "stderr",
     "output_type": "stream",
     "text": [
      "C:\\Users\\Public\\Documents\\ESTsoft\\CreatorTemp\\ipykernel_33588\\3917152087.py:80: UserWarning: FixedFormatter should only be used together with FixedLocator\n",
      "  ax[0,1].set_xticklabels(x, rotation=45, ha='right');\n",
      "C:\\Users\\Public\\Documents\\ESTsoft\\CreatorTemp\\ipykernel_33588\\3917152087.py:90: UserWarning: FixedFormatter should only be used together with FixedLocator\n",
      "  ax[1,1].set_xticklabels(x, rotation=45, ha='right');\n"
     ]
    },
    {
     "name": "stdout",
     "output_type": "stream",
     "text": [
      "2282-699-3-3-Crossmodal-Auditory-deep-(-4.56 mm)-TT14.2 ////// 770/878 completed  //////  0 min 0.84 sec\n"
     ]
    },
    {
     "name": "stderr",
     "output_type": "stream",
     "text": [
      "C:\\Users\\Public\\Documents\\ESTsoft\\CreatorTemp\\ipykernel_33588\\3917152087.py:80: UserWarning: FixedFormatter should only be used together with FixedLocator\n",
      "  ax[0,1].set_xticklabels(x, rotation=45, ha='right');\n",
      "C:\\Users\\Public\\Documents\\ESTsoft\\CreatorTemp\\ipykernel_33588\\3917152087.py:88: MatplotlibDeprecationWarning: Support for passing numbers through unit converters is deprecated since 3.5 and support will be removed two minor releases later; use Axis.convert_units instead.\n",
      "  ax[1,1].scatter(np.where(sig)[0],np.tile(0.1,(sum(sig),1)),marker='*',color='black')\n",
      "C:\\Users\\Public\\Documents\\ESTsoft\\CreatorTemp\\ipykernel_33588\\3917152087.py:90: UserWarning: FixedFormatter should only be used together with FixedLocator\n",
      "  ax[1,1].set_xticklabels(x, rotation=45, ha='right');\n"
     ]
    },
    {
     "name": "stdout",
     "output_type": "stream",
     "text": [
      "2283-699-3-3-Crossmodal-Auditory-deep-(-4.56 mm)-TT14.3 ////// 771/878 completed  //////  0 min 0.95 sec\n"
     ]
    },
    {
     "name": "stderr",
     "output_type": "stream",
     "text": [
      "C:\\Users\\Public\\Documents\\ESTsoft\\CreatorTemp\\ipykernel_33588\\3917152087.py:80: UserWarning: FixedFormatter should only be used together with FixedLocator\n",
      "  ax[0,1].set_xticklabels(x, rotation=45, ha='right');\n",
      "C:\\Users\\Public\\Documents\\ESTsoft\\CreatorTemp\\ipykernel_33588\\3917152087.py:90: UserWarning: FixedFormatter should only be used together with FixedLocator\n",
      "  ax[1,1].set_xticklabels(x, rotation=45, ha='right');\n"
     ]
    },
    {
     "name": "stdout",
     "output_type": "stream",
     "text": [
      "2285-699-3-3-Crossmodal-Auditory-deep-(-4.68 mm)-TT15.2 ////// 773/878 completed  //////  0 min 1.12 sec\n"
     ]
    },
    {
     "name": "stderr",
     "output_type": "stream",
     "text": [
      "C:\\Users\\Public\\Documents\\ESTsoft\\CreatorTemp\\ipykernel_33588\\3917152087.py:80: UserWarning: FixedFormatter should only be used together with FixedLocator\n",
      "  ax[0,1].set_xticklabels(x, rotation=45, ha='right');\n",
      "C:\\Users\\Public\\Documents\\ESTsoft\\CreatorTemp\\ipykernel_33588\\3917152087.py:90: UserWarning: FixedFormatter should only be used together with FixedLocator\n",
      "  ax[1,1].set_xticklabels(x, rotation=45, ha='right');\n"
     ]
    },
    {
     "name": "stdout",
     "output_type": "stream",
     "text": [
      "2287-699-3-3-Crossmodal-Auditory-deep-(-4.68 mm)-TT15.4 ////// 775/878 completed  //////  0 min 0.85 sec\n"
     ]
    },
    {
     "name": "stderr",
     "output_type": "stream",
     "text": [
      "C:\\Users\\Public\\Documents\\ESTsoft\\CreatorTemp\\ipykernel_33588\\3917152087.py:80: UserWarning: FixedFormatter should only be used together with FixedLocator\n",
      "  ax[0,1].set_xticklabels(x, rotation=45, ha='right');\n",
      "C:\\Users\\Public\\Documents\\ESTsoft\\CreatorTemp\\ipykernel_33588\\3917152087.py:88: MatplotlibDeprecationWarning: Support for passing numbers through unit converters is deprecated since 3.5 and support will be removed two minor releases later; use Axis.convert_units instead.\n",
      "  ax[1,1].scatter(np.where(sig)[0],np.tile(0.1,(sum(sig),1)),marker='*',color='black')\n",
      "C:\\Users\\Public\\Documents\\ESTsoft\\CreatorTemp\\ipykernel_33588\\3917152087.py:90: UserWarning: FixedFormatter should only be used together with FixedLocator\n",
      "  ax[1,1].set_xticklabels(x, rotation=45, ha='right');\n"
     ]
    },
    {
     "name": "stdout",
     "output_type": "stream",
     "text": [
      "2288-699-3-3-Crossmodal-PER-deep-(-4.92 mm)-TT16.1 ////// 776/878 completed  //////  0 min 0.81 sec\n"
     ]
    },
    {
     "name": "stderr",
     "output_type": "stream",
     "text": [
      "C:\\Users\\Public\\Documents\\ESTsoft\\CreatorTemp\\ipykernel_33588\\3917152087.py:80: UserWarning: FixedFormatter should only be used together with FixedLocator\n",
      "  ax[0,1].set_xticklabels(x, rotation=45, ha='right');\n",
      "C:\\Users\\Public\\Documents\\ESTsoft\\CreatorTemp\\ipykernel_33588\\3917152087.py:90: UserWarning: FixedFormatter should only be used together with FixedLocator\n",
      "  ax[1,1].set_xticklabels(x, rotation=45, ha='right');\n"
     ]
    },
    {
     "name": "stdout",
     "output_type": "stream",
     "text": [
      "2289-699-3-3-Crossmodal-PER-deep-(-4.92 mm)-TT16.2 ////// 777/878 completed  //////  0 min 0.79 sec\n"
     ]
    },
    {
     "name": "stderr",
     "output_type": "stream",
     "text": [
      "C:\\Users\\Public\\Documents\\ESTsoft\\CreatorTemp\\ipykernel_33588\\3917152087.py:80: UserWarning: FixedFormatter should only be used together with FixedLocator\n",
      "  ax[0,1].set_xticklabels(x, rotation=45, ha='right');\n",
      "C:\\Users\\Public\\Documents\\ESTsoft\\CreatorTemp\\ipykernel_33588\\3917152087.py:88: MatplotlibDeprecationWarning: Support for passing numbers through unit converters is deprecated since 3.5 and support will be removed two minor releases later; use Axis.convert_units instead.\n",
      "  ax[1,1].scatter(np.where(sig)[0],np.tile(0.1,(sum(sig),1)),marker='*',color='black')\n",
      "C:\\Users\\Public\\Documents\\ESTsoft\\CreatorTemp\\ipykernel_33588\\3917152087.py:90: UserWarning: FixedFormatter should only be used together with FixedLocator\n",
      "  ax[1,1].set_xticklabels(x, rotation=45, ha='right');\n"
     ]
    },
    {
     "name": "stdout",
     "output_type": "stream",
     "text": [
      "2294-699-3-3-Crossmodal-Tev-deep-(-5.64 mm)-TT18.1 ////// 782/878 completed  //////  0 min 0.77 sec\n"
     ]
    },
    {
     "name": "stderr",
     "output_type": "stream",
     "text": [
      "C:\\Users\\Public\\Documents\\ESTsoft\\CreatorTemp\\ipykernel_33588\\3917152087.py:80: UserWarning: FixedFormatter should only be used together with FixedLocator\n",
      "  ax[0,1].set_xticklabels(x, rotation=45, ha='right');\n",
      "C:\\Users\\Public\\Documents\\ESTsoft\\CreatorTemp\\ipykernel_33588\\3917152087.py:90: UserWarning: FixedFormatter should only be used together with FixedLocator\n",
      "  ax[1,1].set_xticklabels(x, rotation=45, ha='right');\n"
     ]
    },
    {
     "name": "stdout",
     "output_type": "stream",
     "text": [
      "2295-699-3-3-Crossmodal-Tev-deep-(-5.64 mm)-TT18.2 ////// 783/878 completed  //////  0 min 0.89 sec\n"
     ]
    },
    {
     "name": "stderr",
     "output_type": "stream",
     "text": [
      "C:\\Users\\Public\\Documents\\ESTsoft\\CreatorTemp\\ipykernel_33588\\3917152087.py:80: UserWarning: FixedFormatter should only be used together with FixedLocator\n",
      "  ax[0,1].set_xticklabels(x, rotation=45, ha='right');\n",
      "C:\\Users\\Public\\Documents\\ESTsoft\\CreatorTemp\\ipykernel_33588\\3917152087.py:90: UserWarning: FixedFormatter should only be used together with FixedLocator\n",
      "  ax[1,1].set_xticklabels(x, rotation=45, ha='right');\n"
     ]
    },
    {
     "name": "stdout",
     "output_type": "stream",
     "text": [
      "2300-699-3-3-Crossmodal-Visual-superficial-(-6.36 mm)-TT23.1 ////// 788/878 completed  //////  0 min 1.20 sec\n"
     ]
    },
    {
     "name": "stderr",
     "output_type": "stream",
     "text": [
      "C:\\Users\\Public\\Documents\\ESTsoft\\CreatorTemp\\ipykernel_33588\\3917152087.py:80: UserWarning: FixedFormatter should only be used together with FixedLocator\n",
      "  ax[0,1].set_xticklabels(x, rotation=45, ha='right');\n",
      "C:\\Users\\Public\\Documents\\ESTsoft\\CreatorTemp\\ipykernel_33588\\3917152087.py:90: UserWarning: FixedFormatter should only be used together with FixedLocator\n",
      "  ax[1,1].set_xticklabels(x, rotation=45, ha='right');\n"
     ]
    },
    {
     "name": "stdout",
     "output_type": "stream",
     "text": [
      "2301-699-4-4-Crossmodal-Visual-deep-(-6.72 mm)-TT2.1 ////// 789/878 completed  //////  0 min 1.28 sec\n"
     ]
    },
    {
     "name": "stderr",
     "output_type": "stream",
     "text": [
      "C:\\Users\\Public\\Documents\\ESTsoft\\CreatorTemp\\ipykernel_33588\\3917152087.py:80: UserWarning: FixedFormatter should only be used together with FixedLocator\n",
      "  ax[0,1].set_xticklabels(x, rotation=45, ha='right');\n",
      "C:\\Users\\Public\\Documents\\ESTsoft\\CreatorTemp\\ipykernel_33588\\3917152087.py:90: UserWarning: FixedFormatter should only be used together with FixedLocator\n",
      "  ax[1,1].set_xticklabels(x, rotation=45, ha='right');\n"
     ]
    },
    {
     "name": "stdout",
     "output_type": "stream",
     "text": [
      "2302-699-4-4-Crossmodal-Visual-deep-(-6.72 mm)-TT2.2 ////// 790/878 completed  //////  0 min 1.08 sec\n"
     ]
    },
    {
     "name": "stderr",
     "output_type": "stream",
     "text": [
      "C:\\Users\\Public\\Documents\\ESTsoft\\CreatorTemp\\ipykernel_33588\\3917152087.py:80: UserWarning: FixedFormatter should only be used together with FixedLocator\n",
      "  ax[0,1].set_xticklabels(x, rotation=45, ha='right');\n",
      "C:\\Users\\Public\\Documents\\ESTsoft\\CreatorTemp\\ipykernel_33588\\3917152087.py:88: MatplotlibDeprecationWarning: Support for passing numbers through unit converters is deprecated since 3.5 and support will be removed two minor releases later; use Axis.convert_units instead.\n",
      "  ax[1,1].scatter(np.where(sig)[0],np.tile(0.1,(sum(sig),1)),marker='*',color='black')\n",
      "C:\\Users\\Public\\Documents\\ESTsoft\\CreatorTemp\\ipykernel_33588\\3917152087.py:90: UserWarning: FixedFormatter should only be used together with FixedLocator\n",
      "  ax[1,1].set_xticklabels(x, rotation=45, ha='right');\n"
     ]
    },
    {
     "name": "stdout",
     "output_type": "stream",
     "text": [
      "2306-699-4-4-Crossmodal-PER-deep-(-5.52 mm)-TT8.2 ////// 792/878 completed  //////  0 min 0.98 sec\n"
     ]
    },
    {
     "name": "stderr",
     "output_type": "stream",
     "text": [
      "C:\\Users\\Public\\Documents\\ESTsoft\\CreatorTemp\\ipykernel_33588\\3917152087.py:80: UserWarning: FixedFormatter should only be used together with FixedLocator\n",
      "  ax[0,1].set_xticklabels(x, rotation=45, ha='right');\n",
      "C:\\Users\\Public\\Documents\\ESTsoft\\CreatorTemp\\ipykernel_33588\\3917152087.py:88: MatplotlibDeprecationWarning: Support for passing numbers through unit converters is deprecated since 3.5 and support will be removed two minor releases later; use Axis.convert_units instead.\n",
      "  ax[1,1].scatter(np.where(sig)[0],np.tile(0.1,(sum(sig),1)),marker='*',color='black')\n",
      "C:\\Users\\Public\\Documents\\ESTsoft\\CreatorTemp\\ipykernel_33588\\3917152087.py:90: UserWarning: FixedFormatter should only be used together with FixedLocator\n",
      "  ax[1,1].set_xticklabels(x, rotation=45, ha='right');\n"
     ]
    },
    {
     "name": "stdout",
     "output_type": "stream",
     "text": [
      "2309-699-4-4-Crossmodal-PER-deep-(-5.2 mm)-TT9.1 ////// 794/878 completed  //////  0 min 0.98 sec\n"
     ]
    },
    {
     "name": "stderr",
     "output_type": "stream",
     "text": [
      "C:\\Users\\Public\\Documents\\ESTsoft\\CreatorTemp\\ipykernel_33588\\3917152087.py:80: UserWarning: FixedFormatter should only be used together with FixedLocator\n",
      "  ax[0,1].set_xticklabels(x, rotation=45, ha='right');\n",
      "C:\\Users\\Public\\Documents\\ESTsoft\\CreatorTemp\\ipykernel_33588\\3917152087.py:90: UserWarning: FixedFormatter should only be used together with FixedLocator\n",
      "  ax[1,1].set_xticklabels(x, rotation=45, ha='right');\n"
     ]
    },
    {
     "name": "stdout",
     "output_type": "stream",
     "text": [
      "2311-699-4-4-Crossmodal-PER-deep-(-5.2 mm)-TT9.3 ////// 796/878 completed  //////  0 min 1.83 sec\n"
     ]
    },
    {
     "name": "stderr",
     "output_type": "stream",
     "text": [
      "C:\\Users\\Public\\Documents\\ESTsoft\\CreatorTemp\\ipykernel_33588\\3917152087.py:80: UserWarning: FixedFormatter should only be used together with FixedLocator\n",
      "  ax[0,1].set_xticklabels(x, rotation=45, ha='right');\n",
      "C:\\Users\\Public\\Documents\\ESTsoft\\CreatorTemp\\ipykernel_33588\\3917152087.py:90: UserWarning: FixedFormatter should only be used together with FixedLocator\n",
      "  ax[1,1].set_xticklabels(x, rotation=45, ha='right');\n"
     ]
    },
    {
     "name": "stdout",
     "output_type": "stream",
     "text": [
      "2313-699-4-4-Crossmodal-Auditory-deep-(-4.56 mm)-TT12.1 ////// 798/878 completed  //////  0 min 1.55 sec\n"
     ]
    },
    {
     "name": "stderr",
     "output_type": "stream",
     "text": [
      "C:\\Users\\Public\\Documents\\ESTsoft\\CreatorTemp\\ipykernel_33588\\3917152087.py:80: UserWarning: FixedFormatter should only be used together with FixedLocator\n",
      "  ax[0,1].set_xticklabels(x, rotation=45, ha='right');\n",
      "C:\\Users\\Public\\Documents\\ESTsoft\\CreatorTemp\\ipykernel_33588\\3917152087.py:90: UserWarning: FixedFormatter should only be used together with FixedLocator\n",
      "  ax[1,1].set_xticklabels(x, rotation=45, ha='right');\n"
     ]
    },
    {
     "name": "stdout",
     "output_type": "stream",
     "text": [
      "2316-699-4-4-Crossmodal-Auditory-deep-(-4.68 mm)-TT13.1 ////// 799/878 completed  //////  0 min 1.54 sec\n"
     ]
    },
    {
     "name": "stderr",
     "output_type": "stream",
     "text": [
      "C:\\Users\\Public\\Documents\\ESTsoft\\CreatorTemp\\ipykernel_33588\\3917152087.py:80: UserWarning: FixedFormatter should only be used together with FixedLocator\n",
      "  ax[0,1].set_xticklabels(x, rotation=45, ha='right');\n",
      "C:\\Users\\Public\\Documents\\ESTsoft\\CreatorTemp\\ipykernel_33588\\3917152087.py:90: UserWarning: FixedFormatter should only be used together with FixedLocator\n",
      "  ax[1,1].set_xticklabels(x, rotation=45, ha='right');\n"
     ]
    },
    {
     "name": "stdout",
     "output_type": "stream",
     "text": [
      "2317-699-4-4-Crossmodal-Auditory-deep-(-4.68 mm)-TT13.2 ////// 800/878 completed  //////  0 min 1.31 sec\n"
     ]
    },
    {
     "name": "stderr",
     "output_type": "stream",
     "text": [
      "C:\\Users\\Public\\Documents\\ESTsoft\\CreatorTemp\\ipykernel_33588\\3917152087.py:80: UserWarning: FixedFormatter should only be used together with FixedLocator\n",
      "  ax[0,1].set_xticklabels(x, rotation=45, ha='right');\n",
      "C:\\Users\\Public\\Documents\\ESTsoft\\CreatorTemp\\ipykernel_33588\\3917152087.py:90: UserWarning: FixedFormatter should only be used together with FixedLocator\n",
      "  ax[1,1].set_xticklabels(x, rotation=45, ha='right');\n"
     ]
    },
    {
     "name": "stdout",
     "output_type": "stream",
     "text": [
      "2318-699-4-4-Crossmodal-Auditory-deep-(-4.68 mm)-TT13.3 ////// 801/878 completed  //////  0 min 1.22 sec\n"
     ]
    },
    {
     "name": "stderr",
     "output_type": "stream",
     "text": [
      "C:\\Users\\Public\\Documents\\ESTsoft\\CreatorTemp\\ipykernel_33588\\3917152087.py:80: UserWarning: FixedFormatter should only be used together with FixedLocator\n",
      "  ax[0,1].set_xticklabels(x, rotation=45, ha='right');\n",
      "C:\\Users\\Public\\Documents\\ESTsoft\\CreatorTemp\\ipykernel_33588\\3917152087.py:90: UserWarning: FixedFormatter should only be used together with FixedLocator\n",
      "  ax[1,1].set_xticklabels(x, rotation=45, ha='right');\n"
     ]
    },
    {
     "name": "stdout",
     "output_type": "stream",
     "text": [
      "2319-699-4-4-Crossmodal-Auditory-deep-(-4.68 mm)-TT13.4 ////// 802/878 completed  //////  0 min 1.09 sec\n"
     ]
    },
    {
     "name": "stderr",
     "output_type": "stream",
     "text": [
      "C:\\Users\\Public\\Documents\\ESTsoft\\CreatorTemp\\ipykernel_33588\\3917152087.py:80: UserWarning: FixedFormatter should only be used together with FixedLocator\n",
      "  ax[0,1].set_xticklabels(x, rotation=45, ha='right');\n",
      "C:\\Users\\Public\\Documents\\ESTsoft\\CreatorTemp\\ipykernel_33588\\3917152087.py:90: UserWarning: FixedFormatter should only be used together with FixedLocator\n",
      "  ax[1,1].set_xticklabels(x, rotation=45, ha='right');\n"
     ]
    },
    {
     "name": "stdout",
     "output_type": "stream",
     "text": [
      "2322-699-4-4-Crossmodal-Auditory-deep-(-4.56 mm)-TT14.2 ////// 805/878 completed  //////  0 min 1.38 sec\n"
     ]
    },
    {
     "name": "stderr",
     "output_type": "stream",
     "text": [
      "C:\\Users\\Public\\Documents\\ESTsoft\\CreatorTemp\\ipykernel_33588\\3917152087.py:80: UserWarning: FixedFormatter should only be used together with FixedLocator\n",
      "  ax[0,1].set_xticklabels(x, rotation=45, ha='right');\n",
      "C:\\Users\\Public\\Documents\\ESTsoft\\CreatorTemp\\ipykernel_33588\\3917152087.py:90: UserWarning: FixedFormatter should only be used together with FixedLocator\n",
      "  ax[1,1].set_xticklabels(x, rotation=45, ha='right');\n"
     ]
    },
    {
     "name": "stdout",
     "output_type": "stream",
     "text": [
      "2323-699-4-4-Crossmodal-Auditory-deep-(-4.56 mm)-TT14.3 ////// 806/878 completed  //////  0 min 0.89 sec\n"
     ]
    },
    {
     "name": "stderr",
     "output_type": "stream",
     "text": [
      "C:\\Users\\Public\\Documents\\ESTsoft\\CreatorTemp\\ipykernel_33588\\3917152087.py:80: UserWarning: FixedFormatter should only be used together with FixedLocator\n",
      "  ax[0,1].set_xticklabels(x, rotation=45, ha='right');\n",
      "C:\\Users\\Public\\Documents\\ESTsoft\\CreatorTemp\\ipykernel_33588\\3917152087.py:90: UserWarning: FixedFormatter should only be used together with FixedLocator\n",
      "  ax[1,1].set_xticklabels(x, rotation=45, ha='right');\n"
     ]
    },
    {
     "name": "stdout",
     "output_type": "stream",
     "text": [
      "2324-699-4-4-Crossmodal-Auditory-deep-(-4.56 mm)-TT14.4 ////// 807/878 completed  //////  0 min 0.99 sec\n"
     ]
    },
    {
     "name": "stderr",
     "output_type": "stream",
     "text": [
      "C:\\Users\\Public\\Documents\\ESTsoft\\CreatorTemp\\ipykernel_33588\\3917152087.py:80: UserWarning: FixedFormatter should only be used together with FixedLocator\n",
      "  ax[0,1].set_xticklabels(x, rotation=45, ha='right');\n",
      "C:\\Users\\Public\\Documents\\ESTsoft\\CreatorTemp\\ipykernel_33588\\3917152087.py:90: UserWarning: FixedFormatter should only be used together with FixedLocator\n",
      "  ax[1,1].set_xticklabels(x, rotation=45, ha='right');\n"
     ]
    },
    {
     "name": "stdout",
     "output_type": "stream",
     "text": [
      "2325-699-4-4-Crossmodal-Auditory-deep-(-4.68 mm)-TT15.1 ////// 808/878 completed  //////  0 min 0.94 sec\n"
     ]
    },
    {
     "name": "stderr",
     "output_type": "stream",
     "text": [
      "C:\\Users\\Public\\Documents\\ESTsoft\\CreatorTemp\\ipykernel_33588\\3917152087.py:80: UserWarning: FixedFormatter should only be used together with FixedLocator\n",
      "  ax[0,1].set_xticklabels(x, rotation=45, ha='right');\n",
      "C:\\Users\\Public\\Documents\\ESTsoft\\CreatorTemp\\ipykernel_33588\\3917152087.py:90: UserWarning: FixedFormatter should only be used together with FixedLocator\n",
      "  ax[1,1].set_xticklabels(x, rotation=45, ha='right');\n"
     ]
    },
    {
     "name": "stdout",
     "output_type": "stream",
     "text": [
      "2326-699-4-4-Crossmodal-Auditory-deep-(-4.68 mm)-TT15.2 ////// 809/878 completed  //////  0 min 0.97 sec\n"
     ]
    },
    {
     "name": "stderr",
     "output_type": "stream",
     "text": [
      "C:\\Users\\Public\\Documents\\ESTsoft\\CreatorTemp\\ipykernel_33588\\3917152087.py:80: UserWarning: FixedFormatter should only be used together with FixedLocator\n",
      "  ax[0,1].set_xticklabels(x, rotation=45, ha='right');\n",
      "C:\\Users\\Public\\Documents\\ESTsoft\\CreatorTemp\\ipykernel_33588\\3917152087.py:90: UserWarning: FixedFormatter should only be used together with FixedLocator\n",
      "  ax[1,1].set_xticklabels(x, rotation=45, ha='right');\n"
     ]
    },
    {
     "name": "stdout",
     "output_type": "stream",
     "text": [
      "2328-699-4-4-Crossmodal-Auditory-deep-(-4.68 mm)-TT15.4 ////// 811/878 completed  //////  0 min 1.18 sec\n"
     ]
    },
    {
     "name": "stderr",
     "output_type": "stream",
     "text": [
      "C:\\Users\\Public\\Documents\\ESTsoft\\CreatorTemp\\ipykernel_33588\\3917152087.py:80: UserWarning: FixedFormatter should only be used together with FixedLocator\n",
      "  ax[0,1].set_xticklabels(x, rotation=45, ha='right');\n",
      "C:\\Users\\Public\\Documents\\ESTsoft\\CreatorTemp\\ipykernel_33588\\3917152087.py:88: MatplotlibDeprecationWarning: Support for passing numbers through unit converters is deprecated since 3.5 and support will be removed two minor releases later; use Axis.convert_units instead.\n",
      "  ax[1,1].scatter(np.where(sig)[0],np.tile(0.1,(sum(sig),1)),marker='*',color='black')\n",
      "C:\\Users\\Public\\Documents\\ESTsoft\\CreatorTemp\\ipykernel_33588\\3917152087.py:90: UserWarning: FixedFormatter should only be used together with FixedLocator\n",
      "  ax[1,1].set_xticklabels(x, rotation=45, ha='right');\n"
     ]
    },
    {
     "name": "stdout",
     "output_type": "stream",
     "text": [
      "2329-699-4-4-Crossmodal-Auditory-deep-(-4.68 mm)-TT15.5 ////// 812/878 completed  //////  0 min 0.99 sec\n"
     ]
    },
    {
     "name": "stderr",
     "output_type": "stream",
     "text": [
      "C:\\Users\\Public\\Documents\\ESTsoft\\CreatorTemp\\ipykernel_33588\\3917152087.py:80: UserWarning: FixedFormatter should only be used together with FixedLocator\n",
      "  ax[0,1].set_xticklabels(x, rotation=45, ha='right');\n",
      "C:\\Users\\Public\\Documents\\ESTsoft\\CreatorTemp\\ipykernel_33588\\3917152087.py:90: UserWarning: FixedFormatter should only be used together with FixedLocator\n",
      "  ax[1,1].set_xticklabels(x, rotation=45, ha='right');\n"
     ]
    },
    {
     "name": "stdout",
     "output_type": "stream",
     "text": [
      "2331-699-4-4-Crossmodal-Auditory-deep-(-4.68 mm)-TT15.7 ////// 814/878 completed  //////  0 min 0.97 sec\n"
     ]
    },
    {
     "name": "stderr",
     "output_type": "stream",
     "text": [
      "C:\\Users\\Public\\Documents\\ESTsoft\\CreatorTemp\\ipykernel_33588\\3917152087.py:80: UserWarning: FixedFormatter should only be used together with FixedLocator\n",
      "  ax[0,1].set_xticklabels(x, rotation=45, ha='right');\n",
      "C:\\Users\\Public\\Documents\\ESTsoft\\CreatorTemp\\ipykernel_33588\\3917152087.py:90: UserWarning: FixedFormatter should only be used together with FixedLocator\n",
      "  ax[1,1].set_xticklabels(x, rotation=45, ha='right');\n"
     ]
    },
    {
     "name": "stdout",
     "output_type": "stream",
     "text": [
      "2332-699-4-4-Crossmodal-Auditory-deep-(-4.68 mm)-TT15.8 ////// 815/878 completed  //////  0 min 1.02 sec\n"
     ]
    },
    {
     "name": "stderr",
     "output_type": "stream",
     "text": [
      "C:\\Users\\Public\\Documents\\ESTsoft\\CreatorTemp\\ipykernel_33588\\3917152087.py:80: UserWarning: FixedFormatter should only be used together with FixedLocator\n",
      "  ax[0,1].set_xticklabels(x, rotation=45, ha='right');\n",
      "C:\\Users\\Public\\Documents\\ESTsoft\\CreatorTemp\\ipykernel_33588\\3917152087.py:90: UserWarning: FixedFormatter should only be used together with FixedLocator\n",
      "  ax[1,1].set_xticklabels(x, rotation=45, ha='right');\n"
     ]
    },
    {
     "name": "stdout",
     "output_type": "stream",
     "text": [
      "2333-699-4-4-Crossmodal-PER-deep-(-4.92 mm)-TT16.1 ////// 816/878 completed  //////  0 min 0.83 sec\n"
     ]
    },
    {
     "name": "stderr",
     "output_type": "stream",
     "text": [
      "C:\\Users\\Public\\Documents\\ESTsoft\\CreatorTemp\\ipykernel_33588\\3917152087.py:80: UserWarning: FixedFormatter should only be used together with FixedLocator\n",
      "  ax[0,1].set_xticklabels(x, rotation=45, ha='right');\n",
      "C:\\Users\\Public\\Documents\\ESTsoft\\CreatorTemp\\ipykernel_33588\\3917152087.py:90: UserWarning: FixedFormatter should only be used together with FixedLocator\n",
      "  ax[1,1].set_xticklabels(x, rotation=45, ha='right');\n"
     ]
    },
    {
     "name": "stdout",
     "output_type": "stream",
     "text": [
      "2335-699-4-4-Crossmodal-PER-deep-(-5.28 mm)-TT17.1 ////// 818/878 completed  //////  0 min 1.15 sec\n"
     ]
    },
    {
     "name": "stderr",
     "output_type": "stream",
     "text": [
      "C:\\Users\\Public\\Documents\\ESTsoft\\CreatorTemp\\ipykernel_33588\\3917152087.py:80: UserWarning: FixedFormatter should only be used together with FixedLocator\n",
      "  ax[0,1].set_xticklabels(x, rotation=45, ha='right');\n",
      "C:\\Users\\Public\\Documents\\ESTsoft\\CreatorTemp\\ipykernel_33588\\3917152087.py:90: UserWarning: FixedFormatter should only be used together with FixedLocator\n",
      "  ax[1,1].set_xticklabels(x, rotation=45, ha='right');\n"
     ]
    },
    {
     "name": "stdout",
     "output_type": "stream",
     "text": [
      "2336-699-4-4-Crossmodal-PER-deep-(-5.28 mm)-TT17.2 ////// 819/878 completed  //////  0 min 1.50 sec\n"
     ]
    },
    {
     "name": "stderr",
     "output_type": "stream",
     "text": [
      "C:\\Users\\Public\\Documents\\ESTsoft\\CreatorTemp\\ipykernel_33588\\3917152087.py:80: UserWarning: FixedFormatter should only be used together with FixedLocator\n",
      "  ax[0,1].set_xticklabels(x, rotation=45, ha='right');\n",
      "C:\\Users\\Public\\Documents\\ESTsoft\\CreatorTemp\\ipykernel_33588\\3917152087.py:88: MatplotlibDeprecationWarning: Support for passing numbers through unit converters is deprecated since 3.5 and support will be removed two minor releases later; use Axis.convert_units instead.\n",
      "  ax[1,1].scatter(np.where(sig)[0],np.tile(0.1,(sum(sig),1)),marker='*',color='black')\n",
      "C:\\Users\\Public\\Documents\\ESTsoft\\CreatorTemp\\ipykernel_33588\\3917152087.py:90: UserWarning: FixedFormatter should only be used together with FixedLocator\n",
      "  ax[1,1].set_xticklabels(x, rotation=45, ha='right');\n"
     ]
    },
    {
     "name": "stdout",
     "output_type": "stream",
     "text": [
      "2343-699-4-4-Crossmodal-PER-deep-(-5.64 mm)-TT18.1 ////// 823/878 completed  //////  0 min 1.17 sec\n"
     ]
    },
    {
     "name": "stderr",
     "output_type": "stream",
     "text": [
      "C:\\Users\\Public\\Documents\\ESTsoft\\CreatorTemp\\ipykernel_33588\\3917152087.py:80: UserWarning: FixedFormatter should only be used together with FixedLocator\n",
      "  ax[0,1].set_xticklabels(x, rotation=45, ha='right');\n",
      "C:\\Users\\Public\\Documents\\ESTsoft\\CreatorTemp\\ipykernel_33588\\3917152087.py:90: UserWarning: FixedFormatter should only be used together with FixedLocator\n",
      "  ax[1,1].set_xticklabels(x, rotation=45, ha='right');\n"
     ]
    },
    {
     "name": "stdout",
     "output_type": "stream",
     "text": [
      "2344-699-4-4-Crossmodal-Visual-deep-(-6.48 mm)-TT24.1 ////// 824/878 completed  //////  0 min 1.13 sec\n"
     ]
    },
    {
     "name": "stderr",
     "output_type": "stream",
     "text": [
      "C:\\Users\\Public\\Documents\\ESTsoft\\CreatorTemp\\ipykernel_33588\\3917152087.py:80: UserWarning: FixedFormatter should only be used together with FixedLocator\n",
      "  ax[0,1].set_xticklabels(x, rotation=45, ha='right');\n",
      "C:\\Users\\Public\\Documents\\ESTsoft\\CreatorTemp\\ipykernel_33588\\3917152087.py:90: UserWarning: FixedFormatter should only be used together with FixedLocator\n",
      "  ax[1,1].set_xticklabels(x, rotation=45, ha='right');\n"
     ]
    },
    {
     "name": "stdout",
     "output_type": "stream",
     "text": [
      "2345-699-4-4-Crossmodal-Visual-deep-(-6.48 mm)-TT24.2 ////// 825/878 completed  //////  0 min 0.89 sec\n"
     ]
    },
    {
     "name": "stderr",
     "output_type": "stream",
     "text": [
      "C:\\Users\\Public\\Documents\\ESTsoft\\CreatorTemp\\ipykernel_33588\\3917152087.py:80: UserWarning: FixedFormatter should only be used together with FixedLocator\n",
      "  ax[0,1].set_xticklabels(x, rotation=45, ha='right');\n",
      "C:\\Users\\Public\\Documents\\ESTsoft\\CreatorTemp\\ipykernel_33588\\3917152087.py:88: MatplotlibDeprecationWarning: Support for passing numbers through unit converters is deprecated since 3.5 and support will be removed two minor releases later; use Axis.convert_units instead.\n",
      "  ax[1,1].scatter(np.where(sig)[0],np.tile(0.1,(sum(sig),1)),marker='*',color='black')\n",
      "C:\\Users\\Public\\Documents\\ESTsoft\\CreatorTemp\\ipykernel_33588\\3917152087.py:90: UserWarning: FixedFormatter should only be used together with FixedLocator\n",
      "  ax[1,1].set_xticklabels(x, rotation=45, ha='right');\n"
     ]
    },
    {
     "name": "stdout",
     "output_type": "stream",
     "text": [
      "2346-699-4-4-Crossmodal-Visual-deep-(-6.48 mm)-TT24.3 ////// 826/878 completed  //////  0 min 0.79 sec\n"
     ]
    },
    {
     "name": "stderr",
     "output_type": "stream",
     "text": [
      "C:\\Users\\Public\\Documents\\ESTsoft\\CreatorTemp\\ipykernel_33588\\3917152087.py:80: UserWarning: FixedFormatter should only be used together with FixedLocator\n",
      "  ax[0,1].set_xticklabels(x, rotation=45, ha='right');\n",
      "C:\\Users\\Public\\Documents\\ESTsoft\\CreatorTemp\\ipykernel_33588\\3917152087.py:90: UserWarning: FixedFormatter should only be used together with FixedLocator\n",
      "  ax[1,1].set_xticklabels(x, rotation=45, ha='right');\n"
     ]
    },
    {
     "name": "stdout",
     "output_type": "stream",
     "text": [
      "2348-699-5-5-Crossmodal-Visual-deep-(-6.72 mm)-TT2.1 ////// 828/878 completed  //////  0 min 0.95 sec\n"
     ]
    },
    {
     "name": "stderr",
     "output_type": "stream",
     "text": [
      "C:\\Users\\Public\\Documents\\ESTsoft\\CreatorTemp\\ipykernel_33588\\3917152087.py:80: UserWarning: FixedFormatter should only be used together with FixedLocator\n",
      "  ax[0,1].set_xticklabels(x, rotation=45, ha='right');\n",
      "C:\\Users\\Public\\Documents\\ESTsoft\\CreatorTemp\\ipykernel_33588\\3917152087.py:88: MatplotlibDeprecationWarning: Support for passing numbers through unit converters is deprecated since 3.5 and support will be removed two minor releases later; use Axis.convert_units instead.\n",
      "  ax[1,1].scatter(np.where(sig)[0],np.tile(0.1,(sum(sig),1)),marker='*',color='black')\n",
      "C:\\Users\\Public\\Documents\\ESTsoft\\CreatorTemp\\ipykernel_33588\\3917152087.py:90: UserWarning: FixedFormatter should only be used together with FixedLocator\n",
      "  ax[1,1].set_xticklabels(x, rotation=45, ha='right');\n"
     ]
    },
    {
     "name": "stdout",
     "output_type": "stream",
     "text": [
      "2349-699-5-5-Crossmodal-PER-deep-(-5.52 mm)-TT8.1 ////// 829/878 completed  //////  0 min 1.25 sec\n"
     ]
    },
    {
     "name": "stderr",
     "output_type": "stream",
     "text": [
      "C:\\Users\\Public\\Documents\\ESTsoft\\CreatorTemp\\ipykernel_33588\\3917152087.py:80: UserWarning: FixedFormatter should only be used together with FixedLocator\n",
      "  ax[0,1].set_xticklabels(x, rotation=45, ha='right');\n",
      "C:\\Users\\Public\\Documents\\ESTsoft\\CreatorTemp\\ipykernel_33588\\3917152087.py:88: MatplotlibDeprecationWarning: Support for passing numbers through unit converters is deprecated since 3.5 and support will be removed two minor releases later; use Axis.convert_units instead.\n",
      "  ax[1,1].scatter(np.where(sig)[0],np.tile(0.1,(sum(sig),1)),marker='*',color='black')\n",
      "C:\\Users\\Public\\Documents\\ESTsoft\\CreatorTemp\\ipykernel_33588\\3917152087.py:90: UserWarning: FixedFormatter should only be used together with FixedLocator\n",
      "  ax[1,1].set_xticklabels(x, rotation=45, ha='right');\n"
     ]
    },
    {
     "name": "stdout",
     "output_type": "stream",
     "text": [
      "2352-699-5-5-Crossmodal-PER-deep-(-5.2 mm)-TT9.3 ////// 832/878 completed  //////  0 min 1.22 sec\n"
     ]
    },
    {
     "name": "stderr",
     "output_type": "stream",
     "text": [
      "C:\\Users\\Public\\Documents\\ESTsoft\\CreatorTemp\\ipykernel_33588\\3917152087.py:80: UserWarning: FixedFormatter should only be used together with FixedLocator\n",
      "  ax[0,1].set_xticklabels(x, rotation=45, ha='right');\n",
      "C:\\Users\\Public\\Documents\\ESTsoft\\CreatorTemp\\ipykernel_33588\\3917152087.py:90: UserWarning: FixedFormatter should only be used together with FixedLocator\n",
      "  ax[1,1].set_xticklabels(x, rotation=45, ha='right');\n"
     ]
    },
    {
     "name": "stdout",
     "output_type": "stream",
     "text": [
      "2353-699-5-5-Crossmodal-PER-deep-(-4.8 mm)-TT10.1 ////// 833/878 completed  //////  0 min 0.98 sec\n"
     ]
    },
    {
     "name": "stderr",
     "output_type": "stream",
     "text": [
      "C:\\Users\\Public\\Documents\\ESTsoft\\CreatorTemp\\ipykernel_33588\\3917152087.py:80: UserWarning: FixedFormatter should only be used together with FixedLocator\n",
      "  ax[0,1].set_xticklabels(x, rotation=45, ha='right');\n",
      "C:\\Users\\Public\\Documents\\ESTsoft\\CreatorTemp\\ipykernel_33588\\3917152087.py:90: UserWarning: FixedFormatter should only be used together with FixedLocator\n",
      "  ax[1,1].set_xticklabels(x, rotation=45, ha='right');\n"
     ]
    },
    {
     "name": "stdout",
     "output_type": "stream",
     "text": [
      "2354-699-5-5-Crossmodal-PER-deep-(-4.8 mm)-TT10.2 ////// 834/878 completed  //////  0 min 1.05 sec\n"
     ]
    },
    {
     "name": "stderr",
     "output_type": "stream",
     "text": [
      "C:\\Users\\Public\\Documents\\ESTsoft\\CreatorTemp\\ipykernel_33588\\3917152087.py:80: UserWarning: FixedFormatter should only be used together with FixedLocator\n",
      "  ax[0,1].set_xticklabels(x, rotation=45, ha='right');\n",
      "C:\\Users\\Public\\Documents\\ESTsoft\\CreatorTemp\\ipykernel_33588\\3917152087.py:90: UserWarning: FixedFormatter should only be used together with FixedLocator\n",
      "  ax[1,1].set_xticklabels(x, rotation=45, ha='right');\n"
     ]
    },
    {
     "name": "stdout",
     "output_type": "stream",
     "text": [
      "2356-699-5-5-Crossmodal-PER-deep-(-4.8 mm)-TT10.4 ////// 835/878 completed  //////  0 min 1.03 sec\n"
     ]
    },
    {
     "name": "stderr",
     "output_type": "stream",
     "text": [
      "C:\\Users\\Public\\Documents\\ESTsoft\\CreatorTemp\\ipykernel_33588\\3917152087.py:80: UserWarning: FixedFormatter should only be used together with FixedLocator\n",
      "  ax[0,1].set_xticklabels(x, rotation=45, ha='right');\n",
      "C:\\Users\\Public\\Documents\\ESTsoft\\CreatorTemp\\ipykernel_33588\\3917152087.py:90: UserWarning: FixedFormatter should only be used together with FixedLocator\n",
      "  ax[1,1].set_xticklabels(x, rotation=45, ha='right');\n"
     ]
    },
    {
     "name": "stdout",
     "output_type": "stream",
     "text": [
      "2359-699-5-5-Crossmodal-Auditory-deep-(-4.56 mm)-TT12.1 ////// 837/878 completed  //////  0 min 1.01 sec\n"
     ]
    },
    {
     "name": "stderr",
     "output_type": "stream",
     "text": [
      "C:\\Users\\Public\\Documents\\ESTsoft\\CreatorTemp\\ipykernel_33588\\3917152087.py:80: UserWarning: FixedFormatter should only be used together with FixedLocator\n",
      "  ax[0,1].set_xticklabels(x, rotation=45, ha='right');\n",
      "C:\\Users\\Public\\Documents\\ESTsoft\\CreatorTemp\\ipykernel_33588\\3917152087.py:90: UserWarning: FixedFormatter should only be used together with FixedLocator\n",
      "  ax[1,1].set_xticklabels(x, rotation=45, ha='right');\n"
     ]
    },
    {
     "name": "stdout",
     "output_type": "stream",
     "text": [
      "2360-699-5-5-Crossmodal-Auditory-deep-(-4.68 mm)-TT13.1 ////// 838/878 completed  //////  0 min 1.13 sec\n"
     ]
    },
    {
     "name": "stderr",
     "output_type": "stream",
     "text": [
      "C:\\Users\\Public\\Documents\\ESTsoft\\CreatorTemp\\ipykernel_33588\\3917152087.py:80: UserWarning: FixedFormatter should only be used together with FixedLocator\n",
      "  ax[0,1].set_xticklabels(x, rotation=45, ha='right');\n",
      "C:\\Users\\Public\\Documents\\ESTsoft\\CreatorTemp\\ipykernel_33588\\3917152087.py:90: UserWarning: FixedFormatter should only be used together with FixedLocator\n",
      "  ax[1,1].set_xticklabels(x, rotation=45, ha='right');\n"
     ]
    },
    {
     "name": "stdout",
     "output_type": "stream",
     "text": [
      "2361-699-5-5-Crossmodal-Auditory-deep-(-4.68 mm)-TT13.2 ////// 839/878 completed  //////  0 min 1.08 sec\n"
     ]
    },
    {
     "name": "stderr",
     "output_type": "stream",
     "text": [
      "C:\\Users\\Public\\Documents\\ESTsoft\\CreatorTemp\\ipykernel_33588\\3917152087.py:80: UserWarning: FixedFormatter should only be used together with FixedLocator\n",
      "  ax[0,1].set_xticklabels(x, rotation=45, ha='right');\n",
      "C:\\Users\\Public\\Documents\\ESTsoft\\CreatorTemp\\ipykernel_33588\\3917152087.py:90: UserWarning: FixedFormatter should only be used together with FixedLocator\n",
      "  ax[1,1].set_xticklabels(x, rotation=45, ha='right');\n"
     ]
    },
    {
     "name": "stdout",
     "output_type": "stream",
     "text": [
      "2362-699-5-5-Crossmodal-Auditory-deep-(-4.68 mm)-TT13.3 ////// 840/878 completed  //////  0 min 1.11 sec\n"
     ]
    },
    {
     "name": "stderr",
     "output_type": "stream",
     "text": [
      "C:\\Users\\Public\\Documents\\ESTsoft\\CreatorTemp\\ipykernel_33588\\3917152087.py:80: UserWarning: FixedFormatter should only be used together with FixedLocator\n",
      "  ax[0,1].set_xticklabels(x, rotation=45, ha='right');\n",
      "C:\\Users\\Public\\Documents\\ESTsoft\\CreatorTemp\\ipykernel_33588\\3917152087.py:90: UserWarning: FixedFormatter should only be used together with FixedLocator\n",
      "  ax[1,1].set_xticklabels(x, rotation=45, ha='right');\n"
     ]
    },
    {
     "name": "stdout",
     "output_type": "stream",
     "text": [
      "2363-699-5-5-Crossmodal-Auditory-deep-(-4.68 mm)-TT13.4 ////// 841/878 completed  //////  0 min 0.96 sec\n"
     ]
    },
    {
     "name": "stderr",
     "output_type": "stream",
     "text": [
      "C:\\Users\\Public\\Documents\\ESTsoft\\CreatorTemp\\ipykernel_33588\\3917152087.py:80: UserWarning: FixedFormatter should only be used together with FixedLocator\n",
      "  ax[0,1].set_xticklabels(x, rotation=45, ha='right');\n",
      "C:\\Users\\Public\\Documents\\ESTsoft\\CreatorTemp\\ipykernel_33588\\3917152087.py:88: MatplotlibDeprecationWarning: Support for passing numbers through unit converters is deprecated since 3.5 and support will be removed two minor releases later; use Axis.convert_units instead.\n",
      "  ax[1,1].scatter(np.where(sig)[0],np.tile(0.1,(sum(sig),1)),marker='*',color='black')\n",
      "C:\\Users\\Public\\Documents\\ESTsoft\\CreatorTemp\\ipykernel_33588\\3917152087.py:90: UserWarning: FixedFormatter should only be used together with FixedLocator\n",
      "  ax[1,1].set_xticklabels(x, rotation=45, ha='right');\n"
     ]
    },
    {
     "name": "stdout",
     "output_type": "stream",
     "text": [
      "2364-699-5-5-Crossmodal-Auditory-deep-(-4.56 mm)-TT14.1 ////// 842/878 completed  //////  0 min 0.91 sec\n"
     ]
    },
    {
     "name": "stderr",
     "output_type": "stream",
     "text": [
      "C:\\Users\\Public\\Documents\\ESTsoft\\CreatorTemp\\ipykernel_33588\\3917152087.py:80: UserWarning: FixedFormatter should only be used together with FixedLocator\n",
      "  ax[0,1].set_xticklabels(x, rotation=45, ha='right');\n",
      "C:\\Users\\Public\\Documents\\ESTsoft\\CreatorTemp\\ipykernel_33588\\3917152087.py:90: UserWarning: FixedFormatter should only be used together with FixedLocator\n",
      "  ax[1,1].set_xticklabels(x, rotation=45, ha='right');\n"
     ]
    },
    {
     "name": "stdout",
     "output_type": "stream",
     "text": [
      "2365-699-5-5-Crossmodal-Auditory-deep-(-4.56 mm)-TT14.2 ////// 843/878 completed  //////  0 min 4.38 sec\n"
     ]
    },
    {
     "name": "stderr",
     "output_type": "stream",
     "text": [
      "C:\\Users\\Public\\Documents\\ESTsoft\\CreatorTemp\\ipykernel_33588\\3917152087.py:80: UserWarning: FixedFormatter should only be used together with FixedLocator\n",
      "  ax[0,1].set_xticklabels(x, rotation=45, ha='right');\n",
      "C:\\Users\\Public\\Documents\\ESTsoft\\CreatorTemp\\ipykernel_33588\\3917152087.py:88: MatplotlibDeprecationWarning: Support for passing numbers through unit converters is deprecated since 3.5 and support will be removed two minor releases later; use Axis.convert_units instead.\n",
      "  ax[1,1].scatter(np.where(sig)[0],np.tile(0.1,(sum(sig),1)),marker='*',color='black')\n",
      "C:\\Users\\Public\\Documents\\ESTsoft\\CreatorTemp\\ipykernel_33588\\3917152087.py:90: UserWarning: FixedFormatter should only be used together with FixedLocator\n",
      "  ax[1,1].set_xticklabels(x, rotation=45, ha='right');\n"
     ]
    },
    {
     "name": "stdout",
     "output_type": "stream",
     "text": [
      "2366-699-5-5-Crossmodal-Auditory-deep-(-4.56 mm)-TT14.3 ////// 844/878 completed  //////  0 min 0.90 sec\n"
     ]
    },
    {
     "name": "stderr",
     "output_type": "stream",
     "text": [
      "C:\\Users\\Public\\Documents\\ESTsoft\\CreatorTemp\\ipykernel_33588\\3917152087.py:80: UserWarning: FixedFormatter should only be used together with FixedLocator\n",
      "  ax[0,1].set_xticklabels(x, rotation=45, ha='right');\n",
      "C:\\Users\\Public\\Documents\\ESTsoft\\CreatorTemp\\ipykernel_33588\\3917152087.py:90: UserWarning: FixedFormatter should only be used together with FixedLocator\n",
      "  ax[1,1].set_xticklabels(x, rotation=45, ha='right');\n"
     ]
    },
    {
     "name": "stdout",
     "output_type": "stream",
     "text": [
      "2367-699-5-5-Crossmodal-Auditory-deep-(-4.68 mm)-TT15.1 ////// 845/878 completed  //////  0 min 0.88 sec\n"
     ]
    },
    {
     "name": "stderr",
     "output_type": "stream",
     "text": [
      "C:\\Users\\Public\\Documents\\ESTsoft\\CreatorTemp\\ipykernel_33588\\3917152087.py:80: UserWarning: FixedFormatter should only be used together with FixedLocator\n",
      "  ax[0,1].set_xticklabels(x, rotation=45, ha='right');\n",
      "C:\\Users\\Public\\Documents\\ESTsoft\\CreatorTemp\\ipykernel_33588\\3917152087.py:90: UserWarning: FixedFormatter should only be used together with FixedLocator\n",
      "  ax[1,1].set_xticklabels(x, rotation=45, ha='right');\n"
     ]
    },
    {
     "name": "stdout",
     "output_type": "stream",
     "text": [
      "2368-699-5-5-Crossmodal-Auditory-deep-(-4.68 mm)-TT15.2 ////// 846/878 completed  //////  0 min 0.95 sec\n"
     ]
    },
    {
     "name": "stderr",
     "output_type": "stream",
     "text": [
      "C:\\Users\\Public\\Documents\\ESTsoft\\CreatorTemp\\ipykernel_33588\\3917152087.py:80: UserWarning: FixedFormatter should only be used together with FixedLocator\n",
      "  ax[0,1].set_xticklabels(x, rotation=45, ha='right');\n",
      "C:\\Users\\Public\\Documents\\ESTsoft\\CreatorTemp\\ipykernel_33588\\3917152087.py:90: UserWarning: FixedFormatter should only be used together with FixedLocator\n",
      "  ax[1,1].set_xticklabels(x, rotation=45, ha='right');\n"
     ]
    },
    {
     "name": "stdout",
     "output_type": "stream",
     "text": [
      "2369-699-5-5-Crossmodal-Auditory-deep-(-4.68 mm)-TT15.3 ////// 847/878 completed  //////  0 min 0.93 sec\n"
     ]
    },
    {
     "name": "stderr",
     "output_type": "stream",
     "text": [
      "C:\\Users\\Public\\Documents\\ESTsoft\\CreatorTemp\\ipykernel_33588\\3917152087.py:80: UserWarning: FixedFormatter should only be used together with FixedLocator\n",
      "  ax[0,1].set_xticklabels(x, rotation=45, ha='right');\n",
      "C:\\Users\\Public\\Documents\\ESTsoft\\CreatorTemp\\ipykernel_33588\\3917152087.py:90: UserWarning: FixedFormatter should only be used together with FixedLocator\n",
      "  ax[1,1].set_xticklabels(x, rotation=45, ha='right');\n"
     ]
    },
    {
     "name": "stdout",
     "output_type": "stream",
     "text": [
      "2371-699-5-5-Crossmodal-PER-deep-(-4.92 mm)-TT16.1 ////// 849/878 completed  //////  0 min 0.86 sec\n"
     ]
    },
    {
     "name": "stderr",
     "output_type": "stream",
     "text": [
      "C:\\Users\\Public\\Documents\\ESTsoft\\CreatorTemp\\ipykernel_33588\\3917152087.py:80: UserWarning: FixedFormatter should only be used together with FixedLocator\n",
      "  ax[0,1].set_xticklabels(x, rotation=45, ha='right');\n",
      "C:\\Users\\Public\\Documents\\ESTsoft\\CreatorTemp\\ipykernel_33588\\3917152087.py:90: UserWarning: FixedFormatter should only be used together with FixedLocator\n",
      "  ax[1,1].set_xticklabels(x, rotation=45, ha='right');\n"
     ]
    },
    {
     "name": "stdout",
     "output_type": "stream",
     "text": [
      "2373-699-5-5-Crossmodal-PER-deep-(-4.92 mm)-TT16.3 ////// 851/878 completed  //////  0 min 1.23 sec\n"
     ]
    },
    {
     "name": "stderr",
     "output_type": "stream",
     "text": [
      "C:\\Users\\Public\\Documents\\ESTsoft\\CreatorTemp\\ipykernel_33588\\3917152087.py:80: UserWarning: FixedFormatter should only be used together with FixedLocator\n",
      "  ax[0,1].set_xticklabels(x, rotation=45, ha='right');\n",
      "C:\\Users\\Public\\Documents\\ESTsoft\\CreatorTemp\\ipykernel_33588\\3917152087.py:88: MatplotlibDeprecationWarning: Support for passing numbers through unit converters is deprecated since 3.5 and support will be removed two minor releases later; use Axis.convert_units instead.\n",
      "  ax[1,1].scatter(np.where(sig)[0],np.tile(0.1,(sum(sig),1)),marker='*',color='black')\n",
      "C:\\Users\\Public\\Documents\\ESTsoft\\CreatorTemp\\ipykernel_33588\\3917152087.py:90: UserWarning: FixedFormatter should only be used together with FixedLocator\n",
      "  ax[1,1].set_xticklabels(x, rotation=45, ha='right');\n"
     ]
    },
    {
     "name": "stdout",
     "output_type": "stream",
     "text": [
      "2376-699-5-5-Crossmodal-PER-deep-(-5.28 mm)-TT17.3 ////// 854/878 completed  //////  0 min 1.07 sec\n"
     ]
    },
    {
     "name": "stderr",
     "output_type": "stream",
     "text": [
      "C:\\Users\\Public\\Documents\\ESTsoft\\CreatorTemp\\ipykernel_33588\\3917152087.py:80: UserWarning: FixedFormatter should only be used together with FixedLocator\n",
      "  ax[0,1].set_xticklabels(x, rotation=45, ha='right');\n",
      "C:\\Users\\Public\\Documents\\ESTsoft\\CreatorTemp\\ipykernel_33588\\3917152087.py:90: UserWarning: FixedFormatter should only be used together with FixedLocator\n",
      "  ax[1,1].set_xticklabels(x, rotation=45, ha='right');\n"
     ]
    },
    {
     "name": "stdout",
     "output_type": "stream",
     "text": [
      "2380-699-5-5-Crossmodal-PER-deep-(-5.28 mm)-TT17.7 ////// 855/878 completed  //////  0 min 1.35 sec\n"
     ]
    },
    {
     "name": "stderr",
     "output_type": "stream",
     "text": [
      "C:\\Users\\Public\\Documents\\ESTsoft\\CreatorTemp\\ipykernel_33588\\3917152087.py:80: UserWarning: FixedFormatter should only be used together with FixedLocator\n",
      "  ax[0,1].set_xticklabels(x, rotation=45, ha='right');\n",
      "C:\\Users\\Public\\Documents\\ESTsoft\\CreatorTemp\\ipykernel_33588\\3917152087.py:90: UserWarning: FixedFormatter should only be used together with FixedLocator\n",
      "  ax[1,1].set_xticklabels(x, rotation=45, ha='right');\n"
     ]
    },
    {
     "name": "stdout",
     "output_type": "stream",
     "text": [
      "2383-699-5-5-Crossmodal-Visual-superficial-(-6.36 mm)-TT23.1 ////// 858/878 completed  //////  0 min 1.40 sec\n"
     ]
    },
    {
     "name": "stderr",
     "output_type": "stream",
     "text": [
      "C:\\Users\\Public\\Documents\\ESTsoft\\CreatorTemp\\ipykernel_33588\\3917152087.py:80: UserWarning: FixedFormatter should only be used together with FixedLocator\n",
      "  ax[0,1].set_xticklabels(x, rotation=45, ha='right');\n",
      "C:\\Users\\Public\\Documents\\ESTsoft\\CreatorTemp\\ipykernel_33588\\3917152087.py:90: UserWarning: FixedFormatter should only be used together with FixedLocator\n",
      "  ax[1,1].set_xticklabels(x, rotation=45, ha='right');\n"
     ]
    },
    {
     "name": "stdout",
     "output_type": "stream",
     "text": [
      "2385-699-6-6-Crossmodal-PER-superficial-(-5.52 mm)-TT7.1 ////// 859/878 completed  //////  0 min 1.24 sec\n"
     ]
    },
    {
     "name": "stderr",
     "output_type": "stream",
     "text": [
      "C:\\Users\\Public\\Documents\\ESTsoft\\CreatorTemp\\ipykernel_33588\\3917152087.py:80: UserWarning: FixedFormatter should only be used together with FixedLocator\n",
      "  ax[0,1].set_xticklabels(x, rotation=45, ha='right');\n",
      "C:\\Users\\Public\\Documents\\ESTsoft\\CreatorTemp\\ipykernel_33588\\3917152087.py:90: UserWarning: FixedFormatter should only be used together with FixedLocator\n",
      "  ax[1,1].set_xticklabels(x, rotation=45, ha='right');\n"
     ]
    },
    {
     "name": "stdout",
     "output_type": "stream",
     "text": [
      "2389-699-6-6-Crossmodal-Auditory-deep-(-4.56 mm)-TT12.2 ////// 863/878 completed  //////  0 min 1.24 sec\n"
     ]
    },
    {
     "name": "stderr",
     "output_type": "stream",
     "text": [
      "C:\\Users\\Public\\Documents\\ESTsoft\\CreatorTemp\\ipykernel_33588\\3917152087.py:80: UserWarning: FixedFormatter should only be used together with FixedLocator\n",
      "  ax[0,1].set_xticklabels(x, rotation=45, ha='right');\n",
      "C:\\Users\\Public\\Documents\\ESTsoft\\CreatorTemp\\ipykernel_33588\\3917152087.py:90: UserWarning: FixedFormatter should only be used together with FixedLocator\n",
      "  ax[1,1].set_xticklabels(x, rotation=45, ha='right');\n"
     ]
    },
    {
     "name": "stdout",
     "output_type": "stream",
     "text": [
      "2391-699-6-6-Crossmodal-Auditory-deep-(-4.68 mm)-TT13.1 ////// 864/878 completed  //////  0 min 1.11 sec\n"
     ]
    },
    {
     "name": "stderr",
     "output_type": "stream",
     "text": [
      "C:\\Users\\Public\\Documents\\ESTsoft\\CreatorTemp\\ipykernel_33588\\3917152087.py:80: UserWarning: FixedFormatter should only be used together with FixedLocator\n",
      "  ax[0,1].set_xticklabels(x, rotation=45, ha='right');\n",
      "C:\\Users\\Public\\Documents\\ESTsoft\\CreatorTemp\\ipykernel_33588\\3917152087.py:90: UserWarning: FixedFormatter should only be used together with FixedLocator\n",
      "  ax[1,1].set_xticklabels(x, rotation=45, ha='right');\n"
     ]
    },
    {
     "name": "stdout",
     "output_type": "stream",
     "text": [
      "2394-699-6-6-Crossmodal-Auditory-deep-(-4.68 mm)-TT13.4 ////// 867/878 completed  //////  0 min 1.09 sec\n"
     ]
    },
    {
     "name": "stderr",
     "output_type": "stream",
     "text": [
      "C:\\Users\\Public\\Documents\\ESTsoft\\CreatorTemp\\ipykernel_33588\\3917152087.py:80: UserWarning: FixedFormatter should only be used together with FixedLocator\n",
      "  ax[0,1].set_xticklabels(x, rotation=45, ha='right');\n",
      "C:\\Users\\Public\\Documents\\ESTsoft\\CreatorTemp\\ipykernel_33588\\3917152087.py:90: UserWarning: FixedFormatter should only be used together with FixedLocator\n",
      "  ax[1,1].set_xticklabels(x, rotation=45, ha='right');\n"
     ]
    },
    {
     "name": "stdout",
     "output_type": "stream",
     "text": [
      "2395-699-6-6-Crossmodal-Auditory-deep-(-4.68 mm)-TT13.5 ////// 868/878 completed  //////  0 min 1.11 sec\n"
     ]
    },
    {
     "name": "stderr",
     "output_type": "stream",
     "text": [
      "C:\\Users\\Public\\Documents\\ESTsoft\\CreatorTemp\\ipykernel_33588\\3917152087.py:80: UserWarning: FixedFormatter should only be used together with FixedLocator\n",
      "  ax[0,1].set_xticklabels(x, rotation=45, ha='right');\n",
      "C:\\Users\\Public\\Documents\\ESTsoft\\CreatorTemp\\ipykernel_33588\\3917152087.py:90: UserWarning: FixedFormatter should only be used together with FixedLocator\n",
      "  ax[1,1].set_xticklabels(x, rotation=45, ha='right');\n"
     ]
    },
    {
     "name": "stdout",
     "output_type": "stream",
     "text": [
      "2396-699-6-6-Crossmodal-Auditory-deep-(-4.56 mm)-TT14.1 ////// 869/878 completed  //////  0 min 0.94 sec\n"
     ]
    },
    {
     "name": "stderr",
     "output_type": "stream",
     "text": [
      "C:\\Users\\Public\\Documents\\ESTsoft\\CreatorTemp\\ipykernel_33588\\3917152087.py:80: UserWarning: FixedFormatter should only be used together with FixedLocator\n",
      "  ax[0,1].set_xticklabels(x, rotation=45, ha='right');\n",
      "C:\\Users\\Public\\Documents\\ESTsoft\\CreatorTemp\\ipykernel_33588\\3917152087.py:88: MatplotlibDeprecationWarning: Support for passing numbers through unit converters is deprecated since 3.5 and support will be removed two minor releases later; use Axis.convert_units instead.\n",
      "  ax[1,1].scatter(np.where(sig)[0],np.tile(0.1,(sum(sig),1)),marker='*',color='black')\n",
      "C:\\Users\\Public\\Documents\\ESTsoft\\CreatorTemp\\ipykernel_33588\\3917152087.py:90: UserWarning: FixedFormatter should only be used together with FixedLocator\n",
      "  ax[1,1].set_xticklabels(x, rotation=45, ha='right');\n"
     ]
    },
    {
     "name": "stdout",
     "output_type": "stream",
     "text": [
      "2397-699-6-6-Crossmodal-Auditory-deep-(-4.56 mm)-TT14.2 ////// 870/878 completed  //////  0 min 0.93 sec\n"
     ]
    },
    {
     "name": "stderr",
     "output_type": "stream",
     "text": [
      "C:\\Users\\Public\\Documents\\ESTsoft\\CreatorTemp\\ipykernel_33588\\3917152087.py:80: UserWarning: FixedFormatter should only be used together with FixedLocator\n",
      "  ax[0,1].set_xticklabels(x, rotation=45, ha='right');\n",
      "C:\\Users\\Public\\Documents\\ESTsoft\\CreatorTemp\\ipykernel_33588\\3917152087.py:90: UserWarning: FixedFormatter should only be used together with FixedLocator\n",
      "  ax[1,1].set_xticklabels(x, rotation=45, ha='right');\n"
     ]
    },
    {
     "name": "stdout",
     "output_type": "stream",
     "text": [
      "2402-699-6-6-Crossmodal-PER-deep-(-5.28 mm)-TT17.5 ////// 872/878 completed  //////  0 min 0.89 sec\n"
     ]
    },
    {
     "name": "stderr",
     "output_type": "stream",
     "text": [
      "C:\\Users\\Public\\Documents\\ESTsoft\\CreatorTemp\\ipykernel_33588\\3917152087.py:80: UserWarning: FixedFormatter should only be used together with FixedLocator\n",
      "  ax[0,1].set_xticklabels(x, rotation=45, ha='right');\n",
      "C:\\Users\\Public\\Documents\\ESTsoft\\CreatorTemp\\ipykernel_33588\\3917152087.py:90: UserWarning: FixedFormatter should only be used together with FixedLocator\n",
      "  ax[1,1].set_xticklabels(x, rotation=45, ha='right');\n"
     ]
    },
    {
     "name": "stdout",
     "output_type": "stream",
     "text": [
      "2403-699-6-6-Crossmodal-PER-deep-(-5.28 mm)-TT17.6 ////// 873/878 completed  //////  0 min 0.99 sec\n"
     ]
    },
    {
     "name": "stderr",
     "output_type": "stream",
     "text": [
      "C:\\Users\\Public\\Documents\\ESTsoft\\CreatorTemp\\ipykernel_33588\\3917152087.py:80: UserWarning: FixedFormatter should only be used together with FixedLocator\n",
      "  ax[0,1].set_xticklabels(x, rotation=45, ha='right');\n",
      "C:\\Users\\Public\\Documents\\ESTsoft\\CreatorTemp\\ipykernel_33588\\3917152087.py:90: UserWarning: FixedFormatter should only be used together with FixedLocator\n",
      "  ax[1,1].set_xticklabels(x, rotation=45, ha='right');\n"
     ]
    },
    {
     "name": "stdout",
     "output_type": "stream",
     "text": [
      "2405-699-6-6-Crossmodal-Visual-deep-(-6.12 mm)-TT21.1 ////// 875/878 completed  //////  0 min 1.61 sec\n"
     ]
    },
    {
     "name": "stderr",
     "output_type": "stream",
     "text": [
      "C:\\Users\\Public\\Documents\\ESTsoft\\CreatorTemp\\ipykernel_33588\\3917152087.py:80: UserWarning: FixedFormatter should only be used together with FixedLocator\n",
      "  ax[0,1].set_xticklabels(x, rotation=45, ha='right');\n",
      "C:\\Users\\Public\\Documents\\ESTsoft\\CreatorTemp\\ipykernel_33588\\3917152087.py:90: UserWarning: FixedFormatter should only be used together with FixedLocator\n",
      "  ax[1,1].set_xticklabels(x, rotation=45, ha='right');\n"
     ]
    },
    {
     "name": "stdout",
     "output_type": "stream",
     "text": [
      "2406-699-6-6-Crossmodal-Visual-deep-(-6.12 mm)-TT21.2 ////// 876/878 completed  //////  0 min 1.10 sec\n"
     ]
    },
    {
     "name": "stderr",
     "output_type": "stream",
     "text": [
      "C:\\Users\\Public\\Documents\\ESTsoft\\CreatorTemp\\ipykernel_33588\\3917152087.py:80: UserWarning: FixedFormatter should only be used together with FixedLocator\n",
      "  ax[0,1].set_xticklabels(x, rotation=45, ha='right');\n",
      "C:\\Users\\Public\\Documents\\ESTsoft\\CreatorTemp\\ipykernel_33588\\3917152087.py:90: UserWarning: FixedFormatter should only be used together with FixedLocator\n",
      "  ax[1,1].set_xticklabels(x, rotation=45, ha='right');\n"
     ]
    },
    {
     "name": "stdout",
     "output_type": "stream",
     "text": [
      "2407-699-6-6-Crossmodal-Visual-deep-(-6.12 mm)-TT21.3 ////// 877/878 completed  //////  0 min 1.30 sec\n"
     ]
    },
    {
     "name": "stderr",
     "output_type": "stream",
     "text": [
      "C:\\Users\\Public\\Documents\\ESTsoft\\CreatorTemp\\ipykernel_33588\\3917152087.py:80: UserWarning: FixedFormatter should only be used together with FixedLocator\n",
      "  ax[0,1].set_xticklabels(x, rotation=45, ha='right');\n",
      "C:\\Users\\Public\\Documents\\ESTsoft\\CreatorTemp\\ipykernel_33588\\3917152087.py:90: UserWarning: FixedFormatter should only be used together with FixedLocator\n",
      "  ax[1,1].set_xticklabels(x, rotation=45, ha='right');\n"
     ]
    },
    {
     "name": "stdout",
     "output_type": "stream",
     "text": [
      "2409-699-6-6-Crossmodal-Visual-superficial-(-6.36 mm)-TT23.1 ////// 878/878 completed  //////  0 min 1.07 sec\n",
      "CPU times: total: 6min 53s\n",
      "Wall time: 10min\n"
     ]
    }
   ],
   "source": [
    "%%time\n",
    "for cell_run,cell_name in enumerate(cell_list):\n",
    "    loop_start = time.time()\n",
    "    # get information about the cell\n",
    "    cell_info = cell_name.split('-')\n",
    "    cell_id, rat_id, session_id, region = int(cell_info[0]), cell_info[1], cell_info[2], cell_info[5]\n",
    "        \n",
    "    # skip non object-selective cells\n",
    "    if f[str(cell_id)].attrs['Object cell'] == 0:\n",
    "        continue\n",
    "        \n",
    "    # load cell data\n",
    "    df = pd.read_csv(cell_path/cell_name)\n",
    "    df.drop(df[df.Correctness==0].index,inplace=True)\n",
    "    df.reset_index(inplace=True,drop=True)\n",
    "    df[['Visual','Auditory']] = df[['Visual','Auditory']].fillna('no')\n",
    "    \n",
    "    boy_goal = df.loc[df['Visual']=='Boy','RWD_Loc'].values[0]\n",
    "    boy_aud = df.loc[df['RWD_Loc']==boy_goal,'Auditory'].values[0]\n",
    "    \n",
    "    egg_goal = df.loc[df['Visual']=='Egg','RWD_Loc'].values[0]\n",
    "    egg_aud = df.loc[df['RWD_Loc']==egg_goal,'Auditory'].values[0]  \n",
    "    \n",
    "    df['Boy-V'] = (df['Visual'] == 'Boy').astype(int)\n",
    "    df['Boy-A'] = (df['Auditory'] == boy_aud).astype(int)\n",
    "    df['Egg-V'] = (df['Visual'] == 'Egg').astype(int)\n",
    "    df['Egg-A'] = (df['Auditory'] == egg_aud).astype(int)\n",
    "    \n",
    "    df['Boy-int'] = df['Boy-V']*df['Boy-A']\n",
    "    df['Egg-int'] = df['Egg-V']*df['Egg-A']\n",
    "    \n",
    "    df['Choice'] = (df['RWD_Loc']==boy_goal).astype(int) \n",
    "    \n",
    "    fr_id = df.columns.get_loc('Var10')  # get the index of the first firing rate column\n",
    "    fr = df.iloc[:,fr_id:fr_id+95].to_numpy()    # get firing rate data into array\n",
    "       \n",
    "    # set independent variables for multiple linear regression\n",
    "    x1 = df[['Boy-V','Boy-A','Boy-int','Egg-V','Egg-A','Egg-int']].to_numpy()\n",
    "    x2 = df[['Boy-V','Boy-A','Boy-int','Egg-V','Egg-A','Egg-int','Choice']].to_numpy()\n",
    "    \n",
    "    # load object-selective epoch (time bins)\n",
    "    object_bin = np.array(f[f'{cell_id}/object_bin'])\n",
    "\n",
    "    # get mean firing rates of object-selective epoch in each trial\n",
    "    df['Object_mFR'] = df.iloc[:,fr_id+min(object_bin):fr_id+max(object_bin)+1].mean(axis=1)\n",
    "    fr_id = df.columns.get_loc('Var10')  # get the index of the first firing rate column    \n",
    "    fr = df['Object_mFR'].to_numpy()\n",
    "\n",
    "    cond_mFR = [df.groupby(['Type','RWD_Loc']).mean()['Object_mFR']['Multimodal',boy_goal],\n",
    "                df.groupby(['Type','RWD_Loc']).mean()['Object_mFR']['Visual',boy_goal],\n",
    "                df.groupby(['Type','RWD_Loc']).mean()['Object_mFR']['Auditory',boy_goal],\n",
    "                df.groupby(['Type','RWD_Loc']).mean()['Object_mFR']['Multimodal',egg_goal],\n",
    "                df.groupby(['Type','RWD_Loc']).mean()['Object_mFR']['Visual',egg_goal],\n",
    "                df.groupby(['Type','RWD_Loc']).mean()['Object_mFR']['Auditory',egg_goal]]  \n",
    "\n",
    "    cond_sem = [df.groupby(['Type','RWD_Loc']).sem()['Object_mFR']['Multimodal',boy_goal],\n",
    "                df.groupby(['Type','RWD_Loc']).sem()['Object_mFR']['Visual',boy_goal],\n",
    "                df.groupby(['Type','RWD_Loc']).sem()['Object_mFR']['Auditory',boy_goal],\n",
    "                df.groupby(['Type','RWD_Loc']).sem()['Object_mFR']['Multimodal',egg_goal],\n",
    "                df.groupby(['Type','RWD_Loc']).sem()['Object_mFR']['Visual',egg_goal],\n",
    "                df.groupby(['Type','RWD_Loc']).sem()['Object_mFR']['Auditory',egg_goal]]                        \n",
    "    \n",
    "    # multiple linear regression\n",
    "    result = MLR(fr,x1,x2,0)\n",
    "\n",
    "    beta_coef, beta_coef_choice = result[0], result[1]\n",
    "    pval, pval_choice = result[2], result[3]\n",
    "    AIC, AIC_choice = result[4], result[5]\n",
    "    BIC, BIC_choice = result[6], result[7]\n",
    "    \n",
    "    # multiple linear regression (shuffling)\n",
    "    shuffle_result = Parallel(n_jobs=-1)(delayed(MLR)(fr,x1,x2,1) for i in range(1000))   \n",
    "    \n",
    "    beta_coef_shuffle = np.array([r[0] for r in shuffle_result])\n",
    "    beta_coef_choice_shuffle = np.array([r[1] for r in shuffle_result])    \n",
    "    AIC_shuffle = np.array([r[4] for r in shuffle_result])\n",
    "    AIC_choice_shuffle = np.array([r[5] for r in shuffle_result])      \n",
    "    BIC_shuffle = np.array([r[6] for r in shuffle_result])\n",
    "    BIC_choice_shuffle = np.array([r[7] for r in shuffle_result])\n",
    "\n",
    "    # define response-selective neurons by model improvement after adding response term\n",
    "    model_improv = AIC-AIC_choice\n",
    "    if model_improv > np.percentile(AIC_shuffle-AIC_choice_shuffle,99):\n",
    "        response = 1\n",
    "    else:\n",
    "        response = 0    \n",
    "        \n",
    "    plot_SDF_beta(df,2,1,1,'png')\n",
    "    \n",
    "    # save results into HDF5 format\n",
    "    save_result(s)\n",
    "            \n",
    "    loop_end = time.time()\n",
    "    loop_time = divmod(loop_end-loop_start,60)\n",
    "    print(cell_name.strip('.csv'), f'////// {cell_run+1}/{len(cell_list)} completed  //////  {int(loop_time[0])} min {loop_time[1]:.2f} sec')"
   ]
  },
  {
   "cell_type": "code",
   "execution_count": 10,
   "id": "3f17ccda",
   "metadata": {},
   "outputs": [
    {
     "name": "stdout",
     "output_type": "stream",
     "text": [
      "END\n"
     ]
    }
   ],
   "source": [
    "f.close()\n",
    "s.close()\n",
    "print('END')"
   ]
  }
 ],
 "metadata": {
  "kernelspec": {
   "display_name": "Python 3 (ipykernel)",
   "language": "python",
   "name": "python3"
  },
  "language_info": {
   "codemirror_mode": {
    "name": "ipython",
    "version": 3
   },
   "file_extension": ".py",
   "mimetype": "text/x-python",
   "name": "python",
   "nbconvert_exporter": "python",
   "pygments_lexer": "ipython3",
   "version": "3.9.12"
  }
 },
 "nbformat": 4,
 "nbformat_minor": 5
}
