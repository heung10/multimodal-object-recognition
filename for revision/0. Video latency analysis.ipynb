{
 "cells": [
  {
   "cell_type": "markdown",
   "id": "c2d4f156",
   "metadata": {},
   "source": [
    "## Video latency analysis\n",
    "LE640 day4 and LE679 day2 sessions (from Figure S2A) are used"
   ]
  },
  {
   "cell_type": "code",
   "execution_count": 2,
   "id": "6ef091ff",
   "metadata": {},
   "outputs": [],
   "source": [
    "import os\n",
    "from pathlib import Path\n",
    "import numpy as np\n",
    "import pandas as pd\n",
    "\n",
    "from scipy import stats\n",
    "\n",
    "import pingouin as pg\n",
    "\n",
    "import matplotlib as mpl\n",
    "import matplotlib.pyplot as plt  \n",
    "\n",
    "import seaborn as sns\n",
    "\n",
    "from datetime import date\n",
    "import time\n",
    "\n",
    "from joblib import Parallel, delayed\n",
    "\n",
    "import cv2"
   ]
  },
  {
   "cell_type": "code",
   "execution_count": 4,
   "id": "f0e2817f-1815-49b0-afc5-29a037fddd2d",
   "metadata": {},
   "outputs": [],
   "source": [
    "mother_path = Path('D:/Multi-modal project/')\n",
    "video_path = mother_path / 'videos' / 'DVR backup' / 'ephys'"
   ]
  },
  {
   "cell_type": "code",
   "execution_count": 18,
   "id": "54568d09-ff9a-4186-883f-96112222e555",
   "metadata": {},
   "outputs": [],
   "source": [
    "video1 = 'C:/Users/HP/Desktop/video/u40200.avi'\n",
    "video2 = 'C:/Users/HP/Desktop/video/u40100.avi'"
   ]
  },
  {
   "cell_type": "code",
   "execution_count": 30,
   "id": "e3c4b665",
   "metadata": {},
   "outputs": [],
   "source": [
    "def extract_frames(video_path):\n",
    "    frames = []\n",
    "    cap = cv2.VideoCapture(video_path)\n",
    "    if not cap.isOpened():\n",
    "        print(\"Error: Couldn't open the video file\")\n",
    "        return None\n",
    "\n",
    "    frame_count = 0\n",
    "    \n",
    "    while True:\n",
    "        ret, frame = cap.read()\n",
    "        if not ret:\n",
    "            break\n",
    "            \n",
    "        resize_frame = cv2.resize(frame, (352,240))\n",
    "        frames.append(resize_frame)\n",
    "        \n",
    "        frame_count += 1\n",
    "\n",
    "    cap.release()\n",
    "    print(f\"{video_path} completed\")\n",
    "    print(f\"Frames extracted: {frame_count}\")\n",
    "    \n",
    "    return frames"
   ]
  },
  {
   "cell_type": "code",
   "execution_count": 31,
   "id": "e178b0d1",
   "metadata": {},
   "outputs": [
    {
     "name": "stdout",
     "output_type": "stream",
     "text": [
      "C:/Users/HP/Desktop/video/u40200.avi completed\n",
      "Frames extracted: 37157\n",
      "C:/Users/HP/Desktop/video/u40100.avi completed\n",
      "Frames extracted: 37158\n"
     ]
    }
   ],
   "source": [
    "# frame extraction\n",
    "frames1 = extract_frames(str(video1))\n",
    "frames2 = extract_frames(str(video2))"
   ]
  },
  {
   "cell_type": "code",
   "execution_count": 56,
   "id": "d9da23a5",
   "metadata": {},
   "outputs": [],
   "source": [
    "def combine_frames_with_timestamp(frame1, frame2, output_path, sample_rate):\n",
    "\n",
    "    # Create result file\n",
    "    result = []\n",
    "    \n",
    "    # Initialize variables\n",
    "    timestamp = 0\n",
    "    frame_count = 0\n",
    "    \n",
    "    for f1, f2 in zip(frame1, frame2):\n",
    "        combined_frame = np.hstack((f1, f2))\n",
    "\n",
    "        # Add timestamps as text to the combined frame\n",
    "        text1 = f'Frame: {frame_count}, Timestamp: {timestamp:.1f} ms'\n",
    "        cv2.putText(combined_frame, text1, (10, 30), cv2.FONT_HERSHEY_SIMPLEX, 0.6, (0, 255, 0), 2)\n",
    "        \n",
    "        output_filename = f\"{output_path}/frame_{frame_count:05d}.jpg\"\n",
    "        cv2.imwrite(output_filename, combined_frame)\n",
    "\n",
    "        # make result\n",
    "        result.append({'frame': frame_count, 'timestamp': timestamp, 'event':0})\n",
    "        \n",
    "        timestamp += sample_rate\n",
    "        frame_count += 1\n",
    "        \n",
    "    print(f\"{frame_count+1} frames are combined\")\n",
    "    return pd.DataFrame(result)"
   ]
  },
  {
   "cell_type": "code",
   "execution_count": 58,
   "id": "1cab1e4f",
   "metadata": {},
   "outputs": [
    {
     "name": "stdout",
     "output_type": "stream",
     "text": [
      "37158 frames are combined\n"
     ]
    }
   ],
   "source": [
    "# combining two videos\n",
    "result = combine_frames_with_timestamp(frames1, frames2, \n",
    "                              'C:/Users/HP/Desktop/video/frames',\n",
    "                             1000/30)"
   ]
  },
  {
   "cell_type": "code",
   "execution_count": 59,
   "id": "fdbbee57",
   "metadata": {},
   "outputs": [],
   "source": [
    "result.to_csv('C:/Users/HP/Desktop/video/timestamp_data.csv')"
   ]
  }
 ],
 "metadata": {
  "kernelspec": {
   "display_name": "Python 3 (ipykernel)",
   "language": "python",
   "name": "python3"
  },
  "language_info": {
   "codemirror_mode": {
    "name": "ipython",
    "version": 3
   },
   "file_extension": ".py",
   "mimetype": "text/x-python",
   "name": "python",
   "nbconvert_exporter": "python",
   "pygments_lexer": "ipython3",
   "version": "3.9.13"
  }
 },
 "nbformat": 4,
 "nbformat_minor": 5
}
