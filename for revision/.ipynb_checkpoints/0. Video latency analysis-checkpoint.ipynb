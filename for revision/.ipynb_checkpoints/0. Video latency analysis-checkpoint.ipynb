{
 "cells": [
  {
   "cell_type": "markdown",
   "id": "c2d4f156",
   "metadata": {},
   "source": [
    "## Video latency analysis\n",
    "LE640 day4 and LE679 day2 sessions (from Figure S2A) are used"
   ]
  },
  {
   "cell_type": "code",
   "execution_count": 2,
   "id": "6ef091ff",
   "metadata": {},
   "outputs": [],
   "source": [
    "import os\n",
    "from pathlib import Path\n",
    "import numpy as np\n",
    "import pandas as pd\n",
    "\n",
    "from scipy import stats\n",
    "\n",
    "import pingouin as pg\n",
    "\n",
    "import matplotlib as mpl\n",
    "import matplotlib.pyplot as plt  \n",
    "\n",
    "import seaborn as sns\n",
    "\n",
    "from datetime import date\n",
    "import time\n",
    "\n",
    "from joblib import Parallel, delayed\n",
    "\n",
    "import cv2"
   ]
  },
  {
   "cell_type": "code",
   "execution_count": 2,
   "id": "f0e2817f-1815-49b0-afc5-29a037fddd2d",
   "metadata": {},
   "outputs": [],
   "source": [
    "mother_path = Path('D:/Multi-modal project/')\n",
    "video_path = mother_path / 'videos' / 'DVR backup' / 'ephys'"
   ]
  },
  {
   "cell_type": "code",
   "execution_count": 3,
   "id": "54568d09-ff9a-4186-883f-96112222e555",
   "metadata": {},
   "outputs": [],
   "source": [
    "video1 = video_path / 'LE640' / '4. unimodal d4' / 'u40200.avi'\n",
    "video2 = video_path / 'LE679' / '2. unimodal d2' / 'u20200.avi'"
   ]
  },
  {
   "cell_type": "code",
   "execution_count": 5,
   "id": "951f7ee3-3b2f-4394-b4dc-9542fe04233d",
   "metadata": {},
   "outputs": [],
   "source": [
    "cap = cv2.VideoCapture(str(video1))\n",
    "frame_count = 0\n",
    "prev_timestamp = 0"
   ]
  },
  {
   "cell_type": "code",
   "execution_count": 10,
   "id": "2ac4a5c3-e373-4533-bf48-56586add910d",
   "metadata": {},
   "outputs": [
    {
     "data": {
      "text/plain": [
       "(240, 704, 3)"
      ]
     },
     "execution_count": 10,
     "metadata": {},
     "output_type": "execute_result"
    }
   ],
   "source": [
    "ret, frame = cap.read()\n",
    "np.shape(frame)"
   ]
  },
  {
   "cell_type": "code",
   "execution_count": null,
   "id": "5e2a4d69-ee9c-4517-a09a-3d5ed65d9acd",
   "metadata": {},
   "outputs": [],
   "source": [
    "def extract_frames_with_timestamp(video_path, output_folder, sample_rate=33):\n",
    "    # Open the video file\n",
    "    cap = cv2.VideoCapture(video_path)\n",
    "    if not cap.isOpened():\n",
    "        print(\"Error: Couldn't open the video file\")\n",
    "        return\n",
    "\n",
    "    # Initialize variables\n",
    "    frame_count = 0\n",
    "    prev_timestamp = 0\n",
    "\n",
    "    # Create result file\n",
    "    result = []\n",
    "    \n",
    "    # Loop through each frame\n",
    "    while True:\n",
    "        ret, frame = cap.read()\n",
    "        if not ret:\n",
    "            break\n",
    "\n",
    "        # Calculate timestamp\n",
    "        timestamp = prev_timestamp + sample_rate\n",
    "        prev_timestamp = timestamp\n",
    "\n",
    "        # Save frame with timestamp\n",
    "        output_filename = f\"{output_folder}/frame_{frame_count:04d}.jpg\"  # Adjust file format if needed\n",
    "        cv2.imwrite(output_filename, frame)\n",
    "\n",
    "        result.append({'frame': frame, 'timestamp': timestamp\n",
    "\n",
    "        # Increment frame count\n",
    "        frame_count += 1\n",
    "\n",
    "    # Release the video capture object\n",
    "    cap.release()\n",
    "\n",
    "    print(f\"Frames extracted: {frame_count}\")\n",
    "\n",
    "# Example usage\n",
    "video_path = \"input_video.avi\"\n",
    "output_folder = \"output_frames\"\n",
    "sample_rate = 33  # milliseconds\n",
    "extract_frames_with_timestamp(video_path, output_folder, sample_rate)\n"
   ]
  },
  {
   "cell_type": "code",
   "execution_count": 3,
   "id": "a2efd57f",
   "metadata": {},
   "outputs": [],
   "source": [
    "# no top and right spines in all plots\n",
    "mpl.rcParams['axes.spines.right'] = False\n",
    "mpl.rcParams['axes.spines.top'] = False"
   ]
  },
  {
   "cell_type": "code",
   "execution_count": 4,
   "id": "75d558bd",
   "metadata": {},
   "outputs": [],
   "source": [
    "mother_path = Path('D:/Multi-modal project/')"
   ]
  },
  {
   "cell_type": "markdown",
   "id": "c9d779bc",
   "metadata": {},
   "source": [
    "### Parameter setting"
   ]
  },
  {
   "cell_type": "code",
   "execution_count": 5,
   "id": "80036cec",
   "metadata": {},
   "outputs": [],
   "source": [
    "num_iter = 1000\n",
    "\n",
    "gauss_sigma = 2\n",
    "\n",
    "# colors for multimodal, visual, auditory, control conditions\n",
    "color = ['tab:purple','tab:blue','tab:red','tab:green']\n",
    "color2 = ['cyan','magenta','brown']\n",
    "linestyle = ['-',':']\n",
    "\n",
    "today = str(date.today())"
   ]
  },
  {
   "cell_type": "markdown",
   "id": "74ff06dc",
   "metadata": {},
   "source": [
    "### Data preparation"
   ]
  },
  {
   "cell_type": "code",
   "execution_count": 188,
   "id": "ee283c52",
   "metadata": {},
   "outputs": [],
   "source": [
    "# selectivity data (standard)\n",
    "data_path = mother_path /'analysis'/'result'/'3. ANOVA'/'2023-07-10'\n",
    "f = h5py.File(data_path/'2023-07-10_ANOVA_result.hdf5','r')\n",
    "\n",
    "# regression data (standard)\n",
    "data1_path = mother_path /'analysis'/'result'/'3.1 Multiple linear regression'/'2023-07-10'\n",
    "f1 = h5py.File(data1_path/'2023-07-10_multiple_regression_result.hdf5','r')\n",
    "\n",
    "# regression data (aligned to response end)\n",
    "data2_path = mother_path /'analysis'/'result'/'3.1 Multiple linear regression'/'2024-02-29'\n",
    "f2 = h5py.File(data2_path/'2024-02-29_multiple_regression_result.hdf5','r')\n",
    "\n",
    "# load performance (correctness) data\n",
    "perf_data = pd.read_csv(mother_path / 'analysis' / 'result' / 'correctness.csv')"
   ]
  },
  {
   "cell_type": "markdown",
   "id": "e0fbe3cd",
   "metadata": {},
   "source": [
    "### Data analysis"
   ]
  },
  {
   "cell_type": "code",
   "execution_count": 144,
   "id": "db3e8f0e",
   "metadata": {},
   "outputs": [],
   "source": [
    "def h5_to_df(f):\n",
    "    keys = list(f.keys())\n",
    "    attributes = {}\n",
    "    \n",
    "    for key in keys:\n",
    "        attributes[key] = dict(f[key].attrs.items())\n",
    "    \n",
    "    df = pd.DataFrame.from_dict(attributes, orient='index')\n",
    "    df.index.name = 'key'\n",
    "    df = df.reset_index()\n",
    "    \n",
    "    return df"
   ]
  },
  {
   "cell_type": "code",
   "execution_count": 145,
   "id": "76cd8f86-1693-4620-97cf-51f803da8d61",
   "metadata": {},
   "outputs": [],
   "source": [
    "df1 = h5_to_df(f1)\n",
    "df2 = h5_to_df(f2)\n",
    "\n",
    "df1 = df1[(df1['region']=='PER')]\n",
    "df2 = df2[(df2['region']=='PER')]\n",
    "\n",
    "df1.reset_index(inplace=True,drop=True)\n",
    "df2.reset_index(inplace=True,drop=True)"
   ]
  },
  {
   "cell_type": "code",
   "execution_count": 189,
   "id": "1bb411d3-cc8e-43a6-b19e-f66d896e3de5",
   "metadata": {},
   "outputs": [],
   "source": [
    "for key in df1['key']:    \n",
    "    df1.loc[df1['key']==key,'pref_obj'] = f[key].attrs['preferred object']\n",
    "    df1.loc[df1['key']==key,'peak_selectivity'] = np.max(f[f'{key}/anova_eta'])  \n",
    "    df1.loc[df1['key']==key,'peak_selectivity_time'] = f[key].attrs['peak selectivity time']\n",
    "    df1.loc[df1['key']==key,'selectivity_duration'] = len(f[f'{key}/object_bin'])*10\n",
    "    df1.loc[df1['key']==key,'selectivity_onset'] = np.min(f[f'{key}/object_bin'])*10\n",
    "    df1.loc[df1['key']==key,'selectivity_index'] = np.abs(f[key].attrs['selectivity index'])\n",
    "            \n",
    "df1['peak_selectivity_time_range'] = (df1['peak_selectivity_time'] // 100) + 1\n",
    "df1['selectivity_onset_range'] = (df1['peak_selectivity_time'] // 100) + 1\n",
    "\n",
    "for i in range(len(df1)):\n",
    "    if df1.loc[i,'peak_selectivity_time'] < 200:\n",
    "        df1.loc[i,'peak_selectivity_time_range2'] = 0\n",
    "    elif 200 <= df1.loc[i,'peak_selectivity_time'] < 400:\n",
    "        df1.loc[i,'peak_selectivity_time_range2'] = 1\n",
    "    elif 400 <= df1.loc[i,'peak_selectivity_time'] < 650:\n",
    "        df1.loc[i,'peak_selectivity_time_range2'] = 2\n",
    "    elif 650 <= df1.loc[i,'peak_selectivity_time'] < 900:\n",
    "        df1.loc[i,'peak_selectivity_time_range2'] = 3"
   ]
  },
  {
   "cell_type": "markdown",
   "id": "f38b1ba5-b99f-4400-b123-3273c20269b1",
   "metadata": {},
   "source": [
    "### Difference in dissociating response cells"
   ]
  },
  {
   "cell_type": "code",
   "execution_count": 110,
   "id": "5d6a8572-ff68-4883-be7d-12810a8d1515",
   "metadata": {},
   "outputs": [],
   "source": [
    "from ipysankeywidget import SankeyWidget\n",
    "from ipywidgets import Layout"
   ]
  },
  {
   "cell_type": "code",
   "execution_count": 146,
   "id": "06fa87c9-2c88-48d8-841a-95e765634380",
   "metadata": {},
   "outputs": [],
   "source": [
    "# Find overlapping keys between df2 and df4\n",
    "overlap_keys = df1[df1['key'].isin(df2['key'])]['key'].values\n",
    "\n",
    "# Create Sankey data directly from the overlapping keys\n",
    "sankey_data = [{'category': df1.loc[df1['key'] == key, 'response cell'].iloc[0],\n",
    "                'new category': df2.loc[df2['key'] == key, 'response cell'].iloc[0]}\n",
    "               for key in overlap_keys]\n",
    "sankey_data = pd.DataFrame(sankey_data)"
   ]
  },
  {
   "cell_type": "code",
   "execution_count": 148,
   "id": "52297fb6-7c63-467f-bc7a-f34a844727a7",
   "metadata": {},
   "outputs": [
    {
     "name": "stdout",
     "output_type": "stream",
     "text": [
      "0.7955801104972375\n",
      "   category  new category  count\n",
      "0         0             0    101\n",
      "1         0             1     11\n",
      "2         1             0      5\n",
      "3         1             1     27\n"
     ]
    }
   ],
   "source": [
    "print(len(sankey_data)/len(df1))\n",
    "\n",
    "cat_counts = sankey_data.groupby(['category', 'new category']).size().reset_index(name='count')\n",
    "print(cat_counts)"
   ]
  },
  {
   "cell_type": "code",
   "execution_count": 150,
   "id": "64df9417-a079-4fd2-99b1-86d200913299",
   "metadata": {},
   "outputs": [
    {
     "data": {
      "application/vnd.jupyter.widget-view+json": {
       "model_id": "a752ffd76b34475aa94778e131aa7938",
       "version_major": 2,
       "version_minor": 0
      },
      "text/plain": [
       "SankeyWidget(links=[{'source': 'object', 'target': 'object_', 'value': 101}, {'source': 'object', 'target': 'r…"
      ]
     },
     "execution_count": 150,
     "metadata": {},
     "output_type": "execute_result"
    }
   ],
   "source": [
    "# Create labels for categories\n",
    "labels = {0: 'Object cell', 1: 'Response cell'}\n",
    "\n",
    "# Create links for Sankey plot\n",
    "links = [\n",
    "    {'source': 'object', 'target': 'object_', 'value': 101},\n",
    "    {'source': 'object', 'target': 'response_', 'value': 11},\n",
    "    {'source': 'response', 'target': 'object_', 'value': 5},\n",
    "    {'source': 'response', 'target': 'response_', 'value': 27},\n",
    "]\n",
    "\n",
    "sankey = SankeyWidget(links=links)\n",
    "sankey"
   ]
  },
  {
   "cell_type": "code",
   "execution_count": 151,
   "id": "71aa137f-5d53-472a-85f7-65ecad6cf536",
   "metadata": {},
   "outputs": [
    {
     "name": "stdout",
     "output_type": "stream",
     "text": [
      "Object cells that are categorized to response cells after aligned to respone end time\n",
      "['1081', '1106', '1343', '1391', '1533', '16', '18', '204', '2261', '314', '987']\n"
     ]
    }
   ],
   "source": [
    "obj_to_resp = []\n",
    "resp_to_obj = []\n",
    "\n",
    "for key in overlap_keys:\n",
    "    response_cell_df1 = df1.loc[df1['key'] == key, 'response cell'].iloc[0]\n",
    "    response_cell_df2 = df2.loc[df2['key'] == key, 'response cell'].iloc[0]\n",
    "    \n",
    "    if response_cell_df1 == 0 and response_cell_df2 == 1:\n",
    "        obj_to_resp.append(key)\n",
    "    elif response_cell_df1 == 1 and response_cell_df2 == 0:\n",
    "        resp_to_obj.append(key)\n",
    "\n",
    "print('Object cells that are categorized to response cells after aligned to respone end time')\n",
    "print(obj_to_resp)"
   ]
  },
  {
   "cell_type": "code",
   "execution_count": 252,
   "id": "62009bb0-728d-4a76-94a2-ccd349433c52",
   "metadata": {},
   "outputs": [
    {
     "data": {
      "text/html": [
       "<div>\n",
       "<style scoped>\n",
       "    .dataframe tbody tr th:only-of-type {\n",
       "        vertical-align: middle;\n",
       "    }\n",
       "\n",
       "    .dataframe tbody tr th {\n",
       "        vertical-align: top;\n",
       "    }\n",
       "\n",
       "    .dataframe thead th {\n",
       "        text-align: right;\n",
       "    }\n",
       "</style>\n",
       "<table border=\"1\" class=\"dataframe\">\n",
       "  <thead>\n",
       "    <tr style=\"text-align: right;\">\n",
       "      <th></th>\n",
       "      <th>W-val</th>\n",
       "      <th>alternative</th>\n",
       "      <th>p-val</th>\n",
       "      <th>RBC</th>\n",
       "      <th>CLES</th>\n",
       "    </tr>\n",
       "  </thead>\n",
       "  <tbody>\n",
       "    <tr>\n",
       "      <th>Wilcoxon</th>\n",
       "      <td>3873.0</td>\n",
       "      <td>two-sided</td>\n",
       "      <td>0.007246</td>\n",
       "      <td>-0.258046</td>\n",
       "      <td>0.468461</td>\n",
       "    </tr>\n",
       "  </tbody>\n",
       "</table>\n",
       "</div>"
      ],
      "text/plain": [
       "           W-val alternative     p-val       RBC      CLES\n",
       "Wilcoxon  3873.0   two-sided  0.007246 -0.258046  0.468461"
      ]
     },
     "execution_count": 252,
     "metadata": {},
     "output_type": "execute_result"
    },
    {
     "data": {
      "image/png": "[encoded data removed]",
      "text/plain": [
       "<Figure size 640x480 with 1 Axes>"
      ]
     },
     "metadata": {},
     "output_type": "display_data"
    }
   ],
   "source": [
    "model_improv = np.zeros((len(overlap),2))\n",
    "\n",
    "for i, key in enumerate(overlap):\n",
    "    model_improv[i,0] = np.subtract(f1[f'{key}/basic/AIC'], f1[f'{key}/extended/AIC'])\n",
    "    model_improv[i,1] = np.subtract(f2[f'{key}/basic/AIC'], f2[f'{key}/extended/AIC'])\n",
    "\n",
    "plt.hist(model_improv[:,0], alpha=0.5)\n",
    "plt.hist(model_improv[:,1], alpha=0.5)\n",
    "\n",
    "pg.wilcoxon(model_improv[:,0], model_improv[:,1])"
   ]
  },
  {
   "cell_type": "code",
   "execution_count": 267,
   "id": "4c1bf8e6-64ba-4b93-8e2e-d33c576f6222",
   "metadata": {},
   "outputs": [
    {
     "data": {
      "text/plain": [
       "array([0.29190972, 0.26618056])"
      ]
     },
     "execution_count": 267,
     "metadata": {},
     "output_type": "execute_result"
    }
   ],
   "source": [
    "np.mean(model_pval, axis=0)"
   ]
  },
  {
   "cell_type": "code",
   "execution_count": 270,
   "id": "c4a775a6-1a3c-4864-9e3d-41082023fb98",
   "metadata": {},
   "outputs": [
    {
     "data": {
      "text/plain": [
       "array([0.02596198, 0.02579249])"
      ]
     },
     "execution_count": 270,
     "metadata": {},
     "output_type": "execute_result"
    }
   ],
   "source": [
    "stats.sem(model_pval, axis=0)"
   ]
  },
  {
   "cell_type": "code",
   "execution_count": 276,
   "id": "51abb3fa-1c2a-4a62-b020-82a08c987d43",
   "metadata": {},
   "outputs": [
    {
     "data": {
      "image/png": "[encoded data removed]",
      "text/plain": [
       "<Figure size 800x400 with 2 Axes>"
      ]
     },
     "metadata": {},
     "output_type": "display_data"
    },
    {
     "data": {
      "text/html": [
       "<div>\n",
       "<style scoped>\n",
       "    .dataframe tbody tr th:only-of-type {\n",
       "        vertical-align: middle;\n",
       "    }\n",
       "\n",
       "    .dataframe tbody tr th {\n",
       "        vertical-align: top;\n",
       "    }\n",
       "\n",
       "    .dataframe thead th {\n",
       "        text-align: right;\n",
       "    }\n",
       "</style>\n",
       "<table border=\"1\" class=\"dataframe\">\n",
       "  <thead>\n",
       "    <tr style=\"text-align: right;\">\n",
       "      <th></th>\n",
       "      <th>T</th>\n",
       "      <th>dof</th>\n",
       "      <th>alternative</th>\n",
       "      <th>p-val</th>\n",
       "      <th>CI95%</th>\n",
       "      <th>cohen-d</th>\n",
       "      <th>BF10</th>\n",
       "      <th>power</th>\n",
       "    </tr>\n",
       "  </thead>\n",
       "  <tbody>\n",
       "    <tr>\n",
       "      <th>T-test</th>\n",
       "      <td>1.244047</td>\n",
       "      <td>143</td>\n",
       "      <td>two-sided</td>\n",
       "      <td>0.215517</td>\n",
       "      <td>[-0.02, 0.07]</td>\n",
       "      <td>0.082856</td>\n",
       "      <td>0.197</td>\n",
       "      <td>0.167038</td>\n",
       "    </tr>\n",
       "  </tbody>\n",
       "</table>\n",
       "</div>"
      ],
      "text/plain": [
       "               T  dof alternative     p-val          CI95%   cohen-d   BF10  \\\n",
       "T-test  1.244047  143   two-sided  0.215517  [-0.02, 0.07]  0.082856  0.197   \n",
       "\n",
       "           power  \n",
       "T-test  0.167038  "
      ]
     },
     "execution_count": 276,
     "metadata": {},
     "output_type": "execute_result"
    }
   ],
   "source": [
    "model_pval = np.zeros((len(overlap),2))\n",
    "\n",
    "for i, key in enumerate(overlap):\n",
    "    a = np.subtract(f1[f'{key}/basic_shuffle/AIC'], f1[f'{key}/extended_shuffle/AIC'])\n",
    "    b = np.subtract(f1[f'{key}/basic/AIC'], f1[f'{key}/extended/AIC'])\n",
    "    model_pval[i,0] = (100-stats.percentileofscore(a, b))/100\n",
    "\n",
    "    c = np.subtract(f2[f'{key}/basic_shuffle/AIC'], f2[f'{key}/extended_shuffle/AIC'])\n",
    "    d = np.subtract(f2[f'{key}/basic/AIC'], f2[f'{key}/extended/AIC'])\n",
    "    model_pval[i,1] = (100-stats.percentileofscore(c, d))/100\n",
    "\n",
    "fig,ax = plt.subplots(1,2,figsize=(8,4))\n",
    "\n",
    "ax[0].hist(model_pval[:,0], alpha=0.5)\n",
    "ax[0].hist(model_pval[:,1], alpha=0.5)\n",
    "\n",
    "y = np.mean(model_pval, axis=0)\n",
    "yerr = stats.sem(model_pval, axis=0)\n",
    "\n",
    "ax[1].bar(['object onset', 'response end'], y)\n",
    "ax[1].errorbar(x=[0,1], y=y, yerr=yerr, fmt='none', color='black')\n",
    "ax[1].set_ylabel('p-value')\n",
    "\n",
    "plt.show()\n",
    "\n",
    "#pg.wilcoxon(model_pval[:,0], model_pval[:,1])\n",
    "pg.ttest(model_pval[:,0], model_pval[:,1], paired=True)"
   ]
  },
  {
   "cell_type": "markdown",
   "id": "b2f8bfcb-9f53-46ef-a0bb-421a84525d60",
   "metadata": {},
   "source": [
    "### Distribution of p-values for response cell categorization across time"
   ]
  },
  {
   "cell_type": "code",
   "execution_count": 221,
   "id": "e79ed42e-7449-47df-9b10-363c192f5c0a",
   "metadata": {},
   "outputs": [],
   "source": [
    "df1['response_pval'] = 0.0\n",
    "df1['model_improv'] = 0.0\n",
    "\n",
    "r = 0\n",
    "for i in range(len(df1)):\n",
    "    key = df1.loc[i, 'key']\n",
    "    a = np.subtract(f1[f'{key}/basic_shuffle/AIC'], f1[f'{key}/extended_shuffle/AIC'])\n",
    "    b = np.subtract(f1[f'{key}/basic/AIC'], f1[f'{key}/extended/AIC'])\n",
    "    \n",
    "    df1.loc[i, 'response_pval'] = (100-stats.percentileofscore(a, b))/100\n",
    "    df1.loc[i, 'model_improv'] = b"
   ]
  },
  {
   "cell_type": "code",
   "execution_count": 241,
   "id": "4f97c840-898b-4977-a0cb-fb6663ccd939",
   "metadata": {},
   "outputs": [
    {
     "data": {
      "image/png": "[encoded data removed]",
      "text/plain": [
       "<Figure size 600x400 with 1 Axes>"
      ]
     },
     "metadata": {},
     "output_type": "display_data"
    }
   ],
   "source": [
    "fig,ax = plt.subplots(figsize=(6,4))\n",
    "\n",
    "ax.scatter(df1.loc[df1['response cell']==0, 'peak_selectivity_time'], \n",
    "           df1.loc[df1['response cell']==0, 'response_pval'])\n",
    "ax.set_xticks([0, 400, 900])\n",
    "ax.set_xlim([0,900])\n",
    "\n",
    "ax.set_yticks(np.arange(0,1.1, 0.05))\n",
    "ax.set_ylim([0, 1])\n",
    "\n",
    "plt.show()"
   ]
  },
  {
   "cell_type": "code",
   "execution_count": 220,
   "id": "dcab1ae9-d1d6-4537-b7e1-58c7a927dddd",
   "metadata": {},
   "outputs": [
    {
     "data": {
      "text/plain": [
       "<Axes: xlabel='peak_selectivity_time', ylabel='response_pval'>"
      ]
     },
     "execution_count": 220,
     "metadata": {},
     "output_type": "execute_result"
    },
    {
     "data": {
      "image/png": "[encoded data removed]",
      "text/plain": [
       "<Figure size 640x480 with 1 Axes>"
      ]
     },
     "metadata": {},
     "output_type": "display_data"
    }
   ],
   "source": [
    "sns.regplot(x='peak_selectivity_time', y = 'response_pval', data=df1[df1['response cell']==0])"
   ]
  },
  {
   "cell_type": "code",
   "execution_count": 222,
   "id": "1ba25def-5d42-4ae4-93cb-b9357f743460",
   "metadata": {},
   "outputs": [
    {
     "data": {
      "text/plain": [
       "<Axes: xlabel='peak_selectivity_time', ylabel='model_improv'>"
      ]
     },
     "execution_count": 222,
     "metadata": {},
     "output_type": "execute_result"
    },
    {
     "data": {
      "image/png": "[encoded data removed]",
      "text/plain": [
       "<Figure size 640x480 with 1 Axes>"
      ]
     },
     "metadata": {},
     "output_type": "display_data"
    }
   ],
   "source": [
    "sns.regplot(x='peak_selectivity_time', y = 'model_improv', data=df1[df1['response cell']==0])"
   ]
  },
  {
   "cell_type": "code",
   "execution_count": 217,
   "id": "af50059b-52de-4754-8de1-7f0fd85c9b55",
   "metadata": {},
   "outputs": [
    {
     "data": {
      "text/html": [
       "<table class=\"simpletable\">\n",
       "<tr>\n",
       "          <td>Model:</td>                   <td>OLS</td>          <td>Adj. R-squared (uncentered):</td>    <td>0.358</td>  \n",
       "</tr>\n",
       "<tr>\n",
       "    <td>Dependent Variable:</td>   <td>peak_selectivity_time</td>             <td>AIC:</td>              <td>2252.5428</td>\n",
       "</tr>\n",
       "<tr>\n",
       "           <td>Date:</td>            <td>2024-03-01 11:15</td>                <td>BIC:</td>              <td>2255.5468</td>\n",
       "</tr>\n",
       "<tr>\n",
       "     <td>No. Observations:</td>             <td>149</td>                 <td>Log-Likelihood:</td>         <td>-1125.3</td> \n",
       "</tr>\n",
       "<tr>\n",
       "         <td>Df Model:</td>                  <td>1</td>                   <td>F-statistic:</td>            <td>83.93</td>  \n",
       "</tr>\n",
       "<tr>\n",
       "       <td>Df Residuals:</td>               <td>148</td>               <td>Prob (F-statistic):</td>      <td>3.94e-16</td> \n",
       "</tr>\n",
       "<tr>\n",
       "  <td>R-squared (uncentered):</td>         <td>0.362</td>                    <td>Scale:</td>            <td>2.1388e+05</td>\n",
       "</tr>\n",
       "</table>\n",
       "<table class=\"simpletable\">\n",
       "<tr>\n",
       "        <td></td>          <th>Coef.</th>  <th>Std.Err.</th>    <th>t</th>    <th>P>|t|</th>  <th>[0.025</th>   <th>0.975]</th> \n",
       "</tr>\n",
       "<tr>\n",
       "  <th>response_pval</th> <td>704.5767</td>  <td>76.9086</td> <td>9.1612</td> <td>0.0000</td> <td>552.5959</td> <td>856.5575</td>\n",
       "</tr>\n",
       "</table>\n",
       "<table class=\"simpletable\">\n",
       "<tr>\n",
       "     <td>Omnibus:</td>    <td>24.723</td>  <td>Durbin-Watson:</td>   <td>1.499</td>\n",
       "</tr>\n",
       "<tr>\n",
       "  <td>Prob(Omnibus):</td>  <td>0.000</td> <td>Jarque-Bera (JB):</td> <td>7.379</td>\n",
       "</tr>\n",
       "<tr>\n",
       "       <td>Skew:</td>     <td>-0.218</td>     <td>Prob(JB):</td>     <td>0.025</td>\n",
       "</tr>\n",
       "<tr>\n",
       "     <td>Kurtosis:</td>    <td>2.000</td>  <td>Condition No.:</td>     <td>1</td>  \n",
       "</tr>\n",
       "</table><br/>\n",
       "Notes:<br/>\n",
       "[1] R² is computed without centering (uncentered) since the                 model does not contain a constant.<br/>\n",
       "[2] Standard Errors assume that the covariance matrix of the errors is correctly specified."
      ],
      "text/latex": [
       "\\begin{table}\n",
       "\\caption{Results: Ordinary least squares}\n",
       "\\label{}\n",
       "\\begin{center}\n",
       "\\begin{tabular}{llll}\n",
       "\\hline\n",
       "Model:                  & OLS                     & Adj. R-squared (uncentered): & 0.358       \\\\\n",
       "Dependent Variable:     & peak\\_selectivity\\_time & AIC:                         & 2252.5428   \\\\\n",
       "Date:                   & 2024-03-01 11:15        & BIC:                         & 2255.5468   \\\\\n",
       "No. Observations:       & 149                     & Log-Likelihood:              & -1125.3     \\\\\n",
       "Df Model:               & 1                       & F-statistic:                 & 83.93       \\\\\n",
       "Df Residuals:           & 148                     & Prob (F-statistic):          & 3.94e-16    \\\\\n",
       "R-squared (uncentered): & 0.362                   & Scale:                       & 2.1388e+05  \\\\\n",
       "\\hline\n",
       "\\end{tabular}\n",
       "\\end{center}\n",
       "\n",
       "\\begin{center}\n",
       "\\begin{tabular}{lrrrrrr}\n",
       "\\hline\n",
       "               &    Coef. & Std.Err. &      t & P$> |$t$|$ &   [0.025 &   0.975]  \\\\\n",
       "\\hline\n",
       "response\\_pval & 704.5767 &  76.9086 & 9.1612 &      0.0000 & 552.5959 & 856.5575  \\\\\n",
       "\\hline\n",
       "\\end{tabular}\n",
       "\\end{center}\n",
       "\n",
       "\\begin{center}\n",
       "\\begin{tabular}{llll}\n",
       "\\hline\n",
       "Omnibus:       & 24.723 & Durbin-Watson:    & 1.499  \\\\\n",
       "Prob(Omnibus): & 0.000  & Jarque-Bera (JB): & 7.379  \\\\\n",
       "Skew:          & -0.218 & Prob(JB):         & 0.025  \\\\\n",
       "Kurtosis:      & 2.000  & Condition No.:    & 1      \\\\\n",
       "\\hline\n",
       "\\end{tabular}\n",
       "\\end{center}\n",
       "\\end{table}\n",
       "\\bigskip\n",
       "Notes: \\newline \n",
       "[1] R² is computed without centering (uncentered) since the                 model does not contain a constant. \\newline \n",
       "[2] Standard Errors assume that the covariance matrix of the errors is correctly specified."
      ],
      "text/plain": [
       "<class 'statsmodels.iolib.summary2.Summary'>\n",
       "\"\"\"\n",
       "                           Results: Ordinary least squares\n",
       "=====================================================================================\n",
       "Model:                  OLS                   Adj. R-squared (uncentered): 0.358     \n",
       "Dependent Variable:     peak_selectivity_time AIC:                         2252.5428 \n",
       "Date:                   2024-03-01 11:15      BIC:                         2255.5468 \n",
       "No. Observations:       149                   Log-Likelihood:              -1125.3   \n",
       "Df Model:               1                     F-statistic:                 83.93     \n",
       "Df Residuals:           148                   Prob (F-statistic):          3.94e-16  \n",
       "R-squared (uncentered): 0.362                 Scale:                       2.1388e+05\n",
       "-----------------------------------------------------------------------------------------\n",
       "                     Coef.       Std.Err.       t        P>|t|       [0.025       0.975] \n",
       "-----------------------------------------------------------------------------------------\n",
       "response_pval       704.5767      76.9086     9.1612     0.0000     552.5959     856.5575\n",
       "-------------------------------------------------------------------------------------\n",
       "Omnibus:                     24.723              Durbin-Watson:                 1.499\n",
       "Prob(Omnibus):               0.000               Jarque-Bera (JB):              7.379\n",
       "Skew:                        -0.218              Prob(JB):                      0.025\n",
       "Kurtosis:                    2.000               Condition No.:                 1    \n",
       "=====================================================================================\n",
       "Notes:\n",
       "[1] R² is computed without centering (uncentered) since the                 model\n",
       "does not contain a constant.\n",
       "[2] Standard Errors assume that the covariance matrix of the errors is correctly\n",
       "specified.\n",
       "\"\"\""
      ]
     },
     "execution_count": 217,
     "metadata": {},
     "output_type": "execute_result"
    }
   ],
   "source": [
    "import statsmodels.api as sm\n",
    "mod = sm.OLS(df1.loc[df1['response cell']==0, 'peak_selectivity_time'],\n",
    "             df1.loc[df1['response cell']==0, 'response_pval'])\n",
    "f = mod.fit()\n",
    "f.summary2()"
   ]
  },
  {
   "cell_type": "code",
   "execution_count": 232,
   "id": "285dd0af-83a7-4c84-9787-074b92728254",
   "metadata": {},
   "outputs": [
    {
     "data": {
      "text/html": [
       "<div>\n",
       "<style scoped>\n",
       "    .dataframe tbody tr th:only-of-type {\n",
       "        vertical-align: middle;\n",
       "    }\n",
       "\n",
       "    .dataframe tbody tr th {\n",
       "        vertical-align: top;\n",
       "    }\n",
       "\n",
       "    .dataframe thead th {\n",
       "        text-align: right;\n",
       "    }\n",
       "</style>\n",
       "<table border=\"1\" class=\"dataframe\">\n",
       "  <thead>\n",
       "    <tr style=\"text-align: right;\">\n",
       "      <th></th>\n",
       "      <th>T</th>\n",
       "      <th>dof</th>\n",
       "      <th>alternative</th>\n",
       "      <th>p-val</th>\n",
       "      <th>CI95%</th>\n",
       "      <th>cohen-d</th>\n",
       "      <th>BF10</th>\n",
       "      <th>power</th>\n",
       "    </tr>\n",
       "  </thead>\n",
       "  <tbody>\n",
       "    <tr>\n",
       "      <th>T-test</th>\n",
       "      <td>3.70348</td>\n",
       "      <td>97.964741</td>\n",
       "      <td>two-sided</td>\n",
       "      <td>0.000352</td>\n",
       "      <td>[0.09, 0.29]</td>\n",
       "      <td>0.634766</td>\n",
       "      <td>80.814</td>\n",
       "      <td>0.949191</td>\n",
       "    </tr>\n",
       "  </tbody>\n",
       "</table>\n",
       "</div>"
      ],
      "text/plain": [
       "              T        dof alternative     p-val         CI95%   cohen-d  \\\n",
       "T-test  3.70348  97.964741   two-sided  0.000352  [0.09, 0.29]  0.634766   \n",
       "\n",
       "          BF10     power  \n",
       "T-test  80.814  0.949191  "
      ]
     },
     "execution_count": 232,
     "metadata": {},
     "output_type": "execute_result"
    }
   ],
   "source": [
    "x = df1.loc[(df1['response cell']==0) & (df1['peak_selectivity_time'] <= 400), 'response_pval']\n",
    "y = df1.loc[(df1['response cell']==0) & (df1['peak_selectivity_time'] > 400), 'response_pval']\n",
    "\n",
    "pg.ttest(x, y, correction='auto')"
   ]
  },
  {
   "cell_type": "code",
   "execution_count": 238,
   "id": "9fde67ae-584f-40c3-8131-e002332e9efb",
   "metadata": {},
   "outputs": [
    {
     "data": {
      "image/png": "[encoded data removed]",
      "text/plain": [
       "<Figure size 600x400 with 1 Axes>"
      ]
     },
     "metadata": {},
     "output_type": "display_data"
    }
   ],
   "source": [
    "fig,ax = plt.subplots(figsize=(6,4))\n",
    "\n",
    "ax.hist(df1.loc[(df1['response cell']==0) & (df1['peak_selectivity_time'] <= 400), 'response_pval'], alpha=0.5)\n",
    "ax.hist(df1.loc[(df1['response cell']==0) & (df1['peak_selectivity_time'] > 400), 'response_pval'], alpha=0.5)\n",
    "#ax.set_xticks([0, 400, 900])\n",
    "#ax.set_xlim([0,900])\n",
    "\n",
    "#ax.set_yticks(np.arange(0,1.1, 0.05))\n",
    "#ax.set_ylim([0, 1])\n",
    "\n",
    "plt.show()"
   ]
  },
  {
   "cell_type": "code",
   "execution_count": 261,
   "id": "e3d2e189-6490-4087-91b4-7c06797b3b67",
   "metadata": {},
   "outputs": [
    {
     "data": {
      "text/plain": [
       "(0.0, 1.0)"
      ]
     },
     "execution_count": 261,
     "metadata": {},
     "output_type": "execute_result"
    },
    {
     "data": {
      "image/png": "[encoded data removed]",
      "text/plain": [
       "<Figure size 400x400 with 1 Axes>"
      ]
     },
     "metadata": {},
     "output_type": "display_data"
    }
   ],
   "source": [
    "y = [df1.loc[(df1['response cell']==0) & (df1['peak_selectivity_time'] <= 400), 'response_pval'].mean(),\n",
    "     df1.loc[(df1['response cell']==0) & (df1['peak_selectivity_time'] > 400), 'response_pval'].mean()]\n",
    "yerr = [df1.loc[(df1['response cell']==0) & (df1['peak_selectivity_time'] <= 400), 'response_pval'].sem(),\n",
    "     df1.loc[(df1['response cell']==0) & (df1['peak_selectivity_time'] > 400), 'response_pval'].sem()]\n",
    "\n",
    "fig,ax = plt.subplots(figsize=(4,4))\n",
    "ax.errorbar(x=[0,1], y=y, yerr=yerr)\n",
    "ax.set_ylim([0,1])"
   ]
  }
 ],
 "metadata": {
  "kernelspec": {
   "display_name": "Python 3 (ipykernel)",
   "language": "python",
   "name": "python3"
  },
  "language_info": {
   "codemirror_mode": {
    "name": "ipython",
    "version": 3
   },
   "file_extension": ".py",
   "mimetype": "text/x-python",
   "name": "python",
   "nbconvert_exporter": "python",
   "pygments_lexer": "ipython3",
   "version": "3.11.5"
  }
 },
 "nbformat": 4,
 "nbformat_minor": 5
}
