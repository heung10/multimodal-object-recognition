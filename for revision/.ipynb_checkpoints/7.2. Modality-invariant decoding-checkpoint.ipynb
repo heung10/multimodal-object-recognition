{
 "cells": [
  {
   "cell_type": "markdown",
   "id": "c2d4f156",
   "metadata": {},
   "source": [
    "## Modality-invariant decoding\n",
    "Population decoding of the object identity by training with unimodal trials (visual or auditory) and testing with multimodal trials."
   ]
  },
  {
   "cell_type": "code",
   "execution_count": 1,
   "id": "6ef091ff",
   "metadata": {},
   "outputs": [],
   "source": [
    "import os\n",
    "from pathlib import Path\n",
    "import numpy as np\n",
    "import pandas as pd\n",
    "import random\n",
    "\n",
    "from scipy import stats\n",
    "import statsmodels.api as sm\n",
    "\n",
    "import pingouin as pg\n",
    "\n",
    "import matplotlib as mpl\n",
    "import matplotlib.pyplot as plt  \n",
    "import seaborn as sns\n",
    "\n",
    "from datetime import date\n",
    "import time\n",
    "\n",
    "from joblib import Parallel, delayed\n",
    "\n",
    "import h5py"
   ]
  },
  {
   "cell_type": "code",
   "execution_count": 2,
   "id": "a2efd57f",
   "metadata": {},
   "outputs": [],
   "source": [
    "# no top and right spines in all plots\n",
    "mpl.rcParams['axes.spines.right'] = False\n",
    "mpl.rcParams['axes.spines.top'] = False"
   ]
  },
  {
   "cell_type": "code",
   "execution_count": 3,
   "id": "75d558bd",
   "metadata": {},
   "outputs": [],
   "source": [
    "mother_path = Path('D:/Multi-modal project/')\n",
    "\n",
    "save_path = mother_path / 'analysis' / 'result' / '7. Population decoding'\n",
    "os.makedirs(save_path,exist_ok=True)\n",
    "\n",
    "fig_path = mother_path / 'analysis' / 'result' / 'figures'\n",
    "os.makedirs(fig_path,exist_ok=True)"
   ]
  },
  {
   "cell_type": "markdown",
   "id": "c9d779bc",
   "metadata": {},
   "source": [
    "### Parameter setting"
   ]
  },
  {
   "cell_type": "code",
   "execution_count": 4,
   "id": "80036cec",
   "metadata": {},
   "outputs": [],
   "source": [
    "# colors for multimodal, vis-only, aud-only conditions\n",
    "color = ['tab:purple','tab:blue','tab:red','tab:green']\n",
    "color2 = ['cyan','magenta','gray']\n",
    "linestyle = ['-',':']\n",
    "\n",
    "today = str(date.today())"
   ]
  },
  {
   "cell_type": "markdown",
   "id": "74ff06dc",
   "metadata": {},
   "source": [
    "### Data preparation"
   ]
  },
  {
   "cell_type": "code",
   "execution_count": 5,
   "id": "e42dba14",
   "metadata": {},
   "outputs": [],
   "source": [
    "cell_path = mother_path/'analysis'/'result'/'zFR export'/'13-Jun-2023'\n",
    "cell_list = os.listdir(cell_path)\n",
    "\n",
    "# load hdf5 files containing shuffled results\n",
    "data_path = mother_path /'analysis'/'result'/'3. ANOVA'/'2023-07-10'\n",
    "data2_path = mother_path /'analysis'/'result'/'3.1 Multiple linear regression'/'2023-07-10'\n",
    "\n",
    "f = h5py.File(data_path/'2023-07-10_ANOVA_result.hdf5','r')\n",
    "f2 = h5py.File(data2_path/'2023-07-10_multiple_regression_result.hdf5','r')"
   ]
  },
  {
   "cell_type": "code",
   "execution_count": 6,
   "id": "f0d3e2ba",
   "metadata": {},
   "outputs": [],
   "source": [
    "def h5_to_df(f):\n",
    "    keys = list(f.keys())\n",
    "    attributes = {}\n",
    "    \n",
    "    for key in keys:\n",
    "        attributes[key] = dict(f[key].attrs.items())\n",
    "    \n",
    "    df = pd.DataFrame.from_dict(attributes, orient='index')\n",
    "    df.index.name = 'key'\n",
    "    df = df.reset_index()\n",
    "    \n",
    "    return df"
   ]
  },
  {
   "cell_type": "code",
   "execution_count": 7,
   "id": "906bba68",
   "metadata": {},
   "outputs": [],
   "source": [
    "df = h5_to_df(f)\n",
    "df = df[df['region']=='PER']\n",
    "df.reset_index(inplace=True, drop=True)\n",
    "\n",
    "for key in df['key']:\n",
    "    if df.loc[df['key']==key, 'object cell'].item() == 0:\n",
    "        df.loc[df['key']==key, 'category'] = 'none'\n",
    "    else:\n",
    "        if f2[key].attrs['response cell'] == 0:\n",
    "            df.loc[df['key']==key, 'category'] = 'object'\n",
    "        else:\n",
    "            df.loc[df['key']==key, 'category'] = 'response'"
   ]
  },
  {
   "cell_type": "markdown",
   "id": "e201440f",
   "metadata": {},
   "source": [
    "## Modality-invariant decoding"
   ]
  },
  {
   "cell_type": "code",
   "execution_count": 8,
   "id": "48433d57",
   "metadata": {},
   "outputs": [],
   "source": [
    "from sklearn import svm\n",
    "from sklearn import metrics\n",
    "from sklearn.model_selection import StratifiedKFold\n",
    "from sklearn.model_selection import cross_val_score, cross_validate\n",
    "from sklearn.preprocessing import MinMaxScaler\n",
    "from sklearn.preprocessing import StandardScaler\n",
    "from sklearn.pipeline import Pipeline\n",
    "from sklearn.model_selection import GridSearchCV"
   ]
  },
  {
   "cell_type": "code",
   "execution_count": 9,
   "id": "1360d5d8",
   "metadata": {},
   "outputs": [],
   "source": [
    "def subsample_cross(df, rat, num_trial, bin_size, time_bin, shuffle):\n",
    "    scaler = StandardScaler()\n",
    "    \n",
    "    num_bin = int(90/bin_size)\n",
    "    object_cell_list = df.loc[(df['rat']==rat)&(df['category']=='object'),'key'].to_numpy()\n",
    "    \n",
    "    # M by N array of subsampled firing rates\n",
    "    # M = stimulus condition * number of subsampled trials\n",
    "    # N = number of cells * number of time bins\n",
    "    X = np.zeros((6*num_trial, len(object_cell_list)*time_bin))\n",
    "    \n",
    "    for i,cell_key in enumerate(object_cell_list):\n",
    "    \n",
    "        # load trial-by-trial firing rate data of a cell\n",
    "        key = cell_key.zfill(4)\n",
    "        cell_filename = list(cell_path.glob(f'{key}*.csv'))\n",
    "        df_cell = pd.read_csv(cell_filename[0])\n",
    "        df_cell.drop(df_cell[df_cell.Correctness==0].index,inplace=True)\n",
    "        df_cell.reset_index(inplace=True,drop=True)\n",
    "        \n",
    "        # goal location (left or right) of each object condition\n",
    "        boy_goal = df_cell.loc[df_cell['Visual']=='Boy','RWD_Loc'].values[0]\n",
    "        egg_goal = df_cell.loc[df_cell['Visual']=='Egg','RWD_Loc'].values[0]\n",
    "        \n",
    "        # shuffling stimulus condition for permutation test\n",
    "        if shuffle:\n",
    "            cond_array = df_cell[['Type','RWD_Loc']].to_numpy()\n",
    "            shuffled_cond_array = np.random.permutation(cond_array)\n",
    "            df_cell[['Type','RWD_Loc']] = shuffled_cond_array\n",
    "\n",
    "        # stimulus condition (identity x modality)\n",
    "        cond = [(df_cell['Type']=='Multimodal')&(df_cell['RWD_Loc']==boy_goal),\n",
    "                (df_cell['Type']=='Multimodal')&(df_cell['RWD_Loc']==egg_goal),\n",
    "                (df_cell['Type']=='Visual')&(df_cell['RWD_Loc']==boy_goal),\n",
    "                (df_cell['Type']=='Visual')&(df_cell['RWD_Loc']==egg_goal),                \n",
    "                (df_cell['Type']=='Auditory')&(df_cell['RWD_Loc']==boy_goal),\n",
    "                (df_cell['Type']=='Auditory')&(df_cell['RWD_Loc']==egg_goal)]\n",
    "\n",
    "        fr_id = df_cell.columns.get_loc('Var10')  # get the index of the first firing rate column\n",
    "        FR = df_cell.iloc[:,fr_id:].to_numpy()    # convert firing rate data to numpy array\n",
    "    \n",
    "        # recalculate mean firing rates of each time bin\n",
    "        FR_bin = np.zeros((len(df_cell),time_bin))\n",
    "        for b in range(time_bin):\n",
    "            FR_bin[:,b] = FR[:,b*time_bin:(b+1)*time_bin].mean(axis=1)\n",
    "\n",
    "        for c in range(len(cond)):\n",
    "            # subsample n trials from each stimulus condition\n",
    "            subsampled_trial = df_cell[cond[c]].sample(num_trial).index\n",
    "            # firing rates of subsampled trials\n",
    "            FR_sub = FR_bin[subsampled_trial,:]\n",
    "            # add subsampled firing rate data to the result array\n",
    "            X[num_trial*c:num_trial*(c+1), time_bin*i:time_bin*(i+1)] = FR_sub\n",
    "\n",
    "        X_norm = scaler.fit_transform(X)\n",
    "    \n",
    "    return X_norm"
   ]
  },
  {
   "cell_type": "markdown",
   "id": "4bb7face",
   "metadata": {},
   "source": [
    "### SVM parameter"
   ]
  },
  {
   "cell_type": "code",
   "execution_count": 10,
   "id": "3878a411",
   "metadata": {},
   "outputs": [],
   "source": [
    "final_model = svm.SVC(kernel='linear', C=0.01)\n",
    "kfold = 5\n",
    "num_trial = 5\n",
    "bin_size = 10\n",
    "num_iter = 100\n",
    "rat_list = ['600', '602', '640', '647', '699']"
   ]
  },
  {
   "cell_type": "markdown",
   "id": "760e0497",
   "metadata": {},
   "source": [
    "### Support vector analysis"
   ]
  },
  {
   "cell_type": "code",
   "execution_count": 11,
   "id": "2cb7e0ea",
   "metadata": {},
   "outputs": [],
   "source": [
    "def subsample_crossmodal_sv(df, model, rat, num_trial, bin_size, time_bin, shuffle):\n",
    "\n",
    "    result = np.zeros((2,2))\n",
    "\n",
    "    X = subsample_cross(df, rat, num_trial, bin_size, time_bin, shuffle)\n",
    "\n",
    "    X_multi = X[:10,:]\n",
    "    Y_multi = np.repeat(np.arange(2), 5)\n",
    "    \n",
    "    X_uni = X[10:,:]\n",
    "    Y_uni = np.concatenate((np.zeros(5), np.ones(5), np.zeros(5), np.ones(5)))\n",
    "\n",
    "    # train with visual and test with auditory\n",
    "    model.fit(X_uni,Y_uni)\n",
    "    support_vector = model.support_\n",
    "    \n",
    "    return support_vector"
   ]
  },
  {
   "cell_type": "code",
   "execution_count": 12,
   "id": "053d8b97",
   "metadata": {},
   "outputs": [],
   "source": [
    "support_vector_visual = np.zeros((num_iter, len(rat_list)))\n",
    "support_vector_auditory = np.zeros((num_iter, len(rat_list)))"
   ]
  },
  {
   "cell_type": "code",
   "execution_count": 22,
   "id": "2644c78e",
   "metadata": {},
   "outputs": [
    {
     "name": "stdout",
     "output_type": "stream",
     "text": [
      "LE600 completed /// Elapsed time: 0 min 10.03 sec\n",
      "LE602 completed /// Elapsed time: 0 min 19.58 sec\n",
      "LE640 completed /// Elapsed time: 0 min 12.67 sec\n",
      "LE647 completed /// Elapsed time: 0 min 11.05 sec\n",
      "LE699 completed /// Elapsed time: 0 min 12.13 sec\n",
      "---------------------------------------------------\n",
      "9 timebin completed / Elapsed time: 1 min 5.45 sec\n",
      "===================================================\n",
      "\n",
      "CPU times: total: 2.73 s\n",
      "Wall time: 1min 5s\n"
     ]
    }
   ],
   "source": [
    "%%time\n",
    "\n",
    "np_save_path = save_path / 'generalization'\n",
    "os.makedirs(np_save_path, exist_ok=True)\n",
    "\n",
    "for t in [8]:\n",
    "    bin_loop_start = time.time()\n",
    "\n",
    "    svm_real = np.zeros((len(rat_list),2,2))\n",
    "    for i,rat in enumerate(rat_list):\n",
    "        loop_start = time.time()\n",
    "\n",
    "        rat_result = Parallel(n_jobs=-1)(delayed(subsample_crossmodal_sv)(df, final_model, rat, num_trial, bin_size, t+1, 0) for j in range(num_iter))   \n",
    "\n",
    "        for k in range(num_iter):\n",
    "            support_vector_visual[k,i] = len([i for i in np.arange(0,10,1) if i in rat_result[k]])/10\n",
    "            support_vector_auditory[k,i] = len([i for i in np.arange(10,20,1) if i in rat_result[k]])/10\n",
    "\n",
    "        loop_end = time.time()\n",
    "        loop_time = divmod(loop_end-loop_start,60)\n",
    "        print(f'LE{rat} completed /// Elapsed time: {int(loop_time[0])} min {loop_time[1]:.2f} sec')\n",
    "\n",
    "    #np.save(np_save_path / f'{today}_{bin_size*10}ms_{t+1}bins_{num_iter}iter_generalization_real.npy',svm_real)\n",
    "\n",
    "    bin_loop_end = time.time()\n",
    "    bin_loop_time = divmod(bin_loop_end-bin_loop_start,60)\n",
    "    print('---------------------------------------------------')\n",
    "    print(f'{t+1} timebin completed / Elapsed time: {int(bin_loop_time[0])} min {bin_loop_time[1]:.2f} sec')\n",
    "    print('===================================================')\n",
    "    print('')    "
   ]
  },
  {
   "cell_type": "code",
   "execution_count": 23,
   "id": "1c1b5a09",
   "metadata": {},
   "outputs": [],
   "source": [
    "sv_visual = np.mean(support_vector_visual, axis=0)\n",
    "sv_auditory = np.mean(support_vector_auditory, axis=0)"
   ]
  },
  {
   "cell_type": "code",
   "execution_count": 31,
   "id": "6dd277af",
   "metadata": {},
   "outputs": [
    {
     "data": {
      "image/png": "[encoded data removed]",
      "text/plain": [
       "<Figure size 300x300 with 1 Axes>"
      ]
     },
     "metadata": {},
     "output_type": "display_data"
    },
    {
     "data": {
      "text/html": [
       "<div>\n",
       "<style scoped>\n",
       "    .dataframe tbody tr th:only-of-type {\n",
       "        vertical-align: middle;\n",
       "    }\n",
       "\n",
       "    .dataframe tbody tr th {\n",
       "        vertical-align: top;\n",
       "    }\n",
       "\n",
       "    .dataframe thead th {\n",
       "        text-align: right;\n",
       "    }\n",
       "</style>\n",
       "<table border=\"1\" class=\"dataframe\">\n",
       "  <thead>\n",
       "    <tr style=\"text-align: right;\">\n",
       "      <th></th>\n",
       "      <th>T</th>\n",
       "      <th>dof</th>\n",
       "      <th>alternative</th>\n",
       "      <th>p-val</th>\n",
       "      <th>CI95%</th>\n",
       "      <th>cohen-d</th>\n",
       "      <th>BF10</th>\n",
       "      <th>power</th>\n",
       "    </tr>\n",
       "  </thead>\n",
       "  <tbody>\n",
       "    <tr>\n",
       "      <th>T-test</th>\n",
       "      <td>0.934363</td>\n",
       "      <td>4</td>\n",
       "      <td>two-sided</td>\n",
       "      <td>0.403013</td>\n",
       "      <td>[-0.01, 0.02]</td>\n",
       "      <td>0.577484</td>\n",
       "      <td>0.552</td>\n",
       "      <td>0.171017</td>\n",
       "    </tr>\n",
       "  </tbody>\n",
       "</table>\n",
       "</div>"
      ],
      "text/plain": [
       "               T  dof alternative     p-val          CI95%   cohen-d   BF10  \\\n",
       "T-test  0.934363    4   two-sided  0.403013  [-0.01, 0.02]  0.577484  0.552   \n",
       "\n",
       "           power  \n",
       "T-test  0.171017  "
      ]
     },
     "execution_count": 31,
     "metadata": {},
     "output_type": "execute_result"
    }
   ],
   "source": [
    "fig, ax = plt.subplots(figsize=(3,3))\n",
    "\n",
    "#ax.scatter([1,1,1,1,1,2,2,2,2,2], [sv_visual, sv_auditory])\n",
    "for i in range(len(sv_visual)):\n",
    "    ax.plot([1,2], [sv_visual[i], sv_auditory[i]], color='darkgray')\n",
    "ax.set_yticks([0.9, 0.95, 1]);\n",
    "ax.set_ylim([0.9, 1.005])\n",
    "ax.set_ylabel('proportion of support vectors')\n",
    "ax.set_xticks([1,2])\n",
    "ax.set_xticklabels(['visual', 'auditory'])\n",
    "ax.set_xlim([0,3])\n",
    "\n",
    "plt.show()\n",
    "pg.ttest(sv_visual, sv_auditory, paired=True)"
   ]
  },
  {
   "cell_type": "markdown",
   "id": "5721a656",
   "metadata": {},
   "source": [
    "### Multimodal training -> Unimodal testing"
   ]
  },
  {
   "cell_type": "code",
   "execution_count": 80,
   "id": "e5a8e77f",
   "metadata": {},
   "outputs": [],
   "source": [
    "def subsample_crossmodal_predict(df, model, rat, num_trial, bin_size, time_bin, shuffle):\n",
    "\n",
    "    result_v = np.zeros((2,2))\n",
    "    result_a = np.zeros((2,2))\n",
    "\n",
    "    X = subsample_cross(df, rat, num_trial, bin_size, time_bin, shuffle)\n",
    "    Y = np.repeat(np.arange(2), 5)\n",
    "\n",
    "    X_multi = X[:10,:]\n",
    "    X_visual = X[10:20,:]\n",
    "    X_auditory = X[20:,:]\n",
    "    \n",
    "    # train with multimodal and test with visual / auditory\n",
    "    model.fit(X_multi, Y_multi)\n",
    "    pred_v = model.predict(X_visual)\n",
    "    pred_a = model.predict(X_auditory)\n",
    "    \n",
    "    for j in range(10):\n",
    "        result_v[Y[j], int(pred_v[j])] += 1\n",
    "        result_a[Y[j], int(pred_a[j])] += 1\n",
    "    \n",
    "    return result_v, result_a"
   ]
  },
  {
   "cell_type": "markdown",
   "id": "79b675eb",
   "metadata": {},
   "source": [
    "#### real data"
   ]
  },
  {
   "cell_type": "code",
   "execution_count": 86,
   "id": "e6e2104e",
   "metadata": {},
   "outputs": [
    {
     "name": "stdout",
     "output_type": "stream",
     "text": [
      "LE600 completed /// Elapsed time: 0 min 1.93 sec\n",
      "LE602 completed /// Elapsed time: 0 min 4.04 sec\n",
      "LE640 completed /// Elapsed time: 0 min 2.65 sec\n",
      "LE647 completed /// Elapsed time: 0 min 2.22 sec\n",
      "LE699 completed /// Elapsed time: 0 min 2.48 sec\n",
      "---------------------------------------------------\n",
      "9 timebin completed / Elapsed time: 0 min 13.33 sec\n",
      "===================================================\n",
      "\n",
      "Wall time: 13.3 s\n"
     ]
    }
   ],
   "source": [
    "%%time\n",
    "\n",
    "np_save_path = save_path / 'multi_to_uni'\n",
    "os.makedirs(np_save_path, exist_ok=True)\n",
    "\n",
    "for t in [8]:\n",
    "    bin_loop_start = time.time()\n",
    "\n",
    "    result_visual = np.zeros((len(rat_list),2,2))\n",
    "    result_auditory = np.zeros((len(rat_list),2,2))\n",
    "    for i,rat in enumerate(rat_list):\n",
    "        loop_start = time.time()\n",
    "\n",
    "        rat_result = Parallel(n_jobs=-1)(delayed(subsample_crossmodal_predict)(df, final_model, rat, num_trial, bin_size, t+1, 0) for j in range(num_iter))   \n",
    "        rat_result_mean = np.sum(rat_result,axis=0)/(num_iter*10)\n",
    "        result_visual[i,:,:] = rat_result_mean[0]\n",
    "        result_auditory[i,:,:] = rat_result_mean[1]\n",
    "\n",
    "        loop_end = time.time()\n",
    "        loop_time = divmod(loop_end-loop_start,60)\n",
    "        print(f'LE{rat} completed /// Elapsed time: {int(loop_time[0])} min {loop_time[1]:.2f} sec')\n",
    "\n",
    "    np.save(np_save_path / f'{today}_{bin_size*10}ms_{t+1}bins_{num_iter}iter_visual_real.npy',result_visual)\n",
    "    np.save(np_save_path / f'{today}_{bin_size*10}ms_{t+1}bins_{num_iter}iter_auditory_real.npy',result_auditory)\n",
    "\n",
    "    bin_loop_end = time.time()\n",
    "    bin_loop_time = divmod(bin_loop_end-bin_loop_start,60)\n",
    "    print('---------------------------------------------------')\n",
    "    print(f'{t+1} timebin completed / Elapsed time: {int(bin_loop_time[0])} min {bin_loop_time[1]:.2f} sec')\n",
    "    print('===================================================')\n",
    "    print('')"
   ]
  },
  {
   "cell_type": "markdown",
   "id": "d1066c4d",
   "metadata": {},
   "source": [
    "#### shuffled data"
   ]
  },
  {
   "cell_type": "code",
   "execution_count": 89,
   "id": "2a94c736",
   "metadata": {},
   "outputs": [
    {
     "name": "stdout",
     "output_type": "stream",
     "text": [
      "Shuffle run 100 completed /// Elapsed time: 23 min 42.09 sec\n",
      "Shuffle run 200 completed /// Elapsed time: 23 min 25.61 sec\n",
      "Shuffle run 300 completed /// Elapsed time: 23 min 19.45 sec\n",
      "Shuffle run 400 completed /// Elapsed time: 23 min 18.42 sec\n",
      "Shuffle run 500 completed /// Elapsed time: 23 min 19.99 sec\n",
      "Shuffle run 600 completed /// Elapsed time: 23 min 18.65 sec\n",
      "Shuffle run 700 completed /// Elapsed time: 23 min 17.07 sec\n",
      "Shuffle run 800 completed /// Elapsed time: 23 min 15.63 sec\n",
      "Shuffle run 900 completed /// Elapsed time: 23 min 15.69 sec\n",
      "Shuffle run 1000 completed /// Elapsed time: 23 min 15.31 sec\n",
      "---------------------------------------------------\n",
      "9 timebin completed / Elapsed time: 233 min 31.95 sec\n",
      "===================================================\n",
      "\n",
      "Wall time: 3h 53min 31s\n"
     ]
    }
   ],
   "source": [
    "%%time\n",
    "num_shuffle = 1000\n",
    "np_save_path = save_path / 'multi_to_uni' / 'shuffled'\n",
    "os.makedirs(np_save_path, exist_ok=True)\n",
    "\n",
    "for t in [8]:\n",
    "    bin_loop_start = time.time()\n",
    "\n",
    "    result_visual = np.zeros((num_shuffle,len(rat_list),2,2))\n",
    "    result_auditory = np.zeros((num_shuffle,len(rat_list),2,2))    \n",
    "    for shuffle_run in range(num_shuffle):\n",
    "        \n",
    "        # measure elapsed time for every 100 loops\n",
    "        if divmod(shuffle_run+1,100)[1] == 1:\n",
    "            loop_start = time.time()\n",
    "            \n",
    "        for r,rat in enumerate(rat_list):\n",
    "            rat_result = Parallel(n_jobs=-1)(delayed(subsample_crossmodal_predict)(df, final_model, rat, num_trial, bin_size, t+1, 1) for j in range(num_iter))\n",
    "            rat_result_mean = np.sum(rat_result,axis=0)/(num_iter*10)\n",
    "            result_visual[shuffle_run,r,:,:] = rat_result_mean[0]\n",
    "            result_auditory[shuffle_run,r,:,:] = rat_result_mean[1]\n",
    "            \n",
    "        # measure elapsed time for every 100 loops\n",
    "        if divmod(shuffle_run+1,100)[1] == 0:\n",
    "            loop_end = time.time()\n",
    "            loop_time = divmod(loop_end-loop_start,60)\n",
    "            print(f'Shuffle run {shuffle_run+1} completed /// Elapsed time: {int(loop_time[0])} min {loop_time[1]:.2f} sec')\n",
    "\n",
    "    np.save(np_save_path / f'{today}_{bin_size*10}ms_{t+1}bins_{num_iter}iter_visual_shuffle.npy',result_visual)\n",
    "    np.save(np_save_path / f'{today}_{bin_size*10}ms_{t+1}bins_{num_iter}iter_auditory_shuffle.npy',result_auditory)\n",
    "\n",
    "    bin_loop_end = time.time()\n",
    "    bin_loop_time = divmod(bin_loop_end-bin_loop_start,60)\n",
    "    print('---------------------------------------------------')\n",
    "    print(f'{t+1} timebin completed / Elapsed time: {int(bin_loop_time[0])} min {bin_loop_time[1]:.2f} sec')\n",
    "    print('===================================================')\n",
    "    print('')    "
   ]
  },
  {
   "cell_type": "markdown",
   "id": "50c276cf",
   "metadata": {},
   "source": [
    "#### Evaluating decoding results"
   ]
  },
  {
   "cell_type": "code",
   "execution_count": 96,
   "id": "43223841",
   "metadata": {},
   "outputs": [],
   "source": [
    "load_date = '2024-03-05'\n",
    "\n",
    "real_v = np.load(save_path / 'multi_to_uni' / f'{load_date}_{bin_size*10}ms_{9}bins_{num_iter}iter_visual_real.npy')\n",
    "real_v_mean = np.mean(real_v, axis=0)\n",
    "shuffle_v = np.load(save_path / 'multi_to_uni' / 'shuffled' / f'{load_date}_{bin_size*10}ms_{9}bins_{num_iter}iter_visual_shuffle.npy')\n",
    "shuffle_v_mean = np.mean(shuffle_v, axis=1)\n",
    "\n",
    "real_a = np.load(save_path / 'multi_to_uni' / f'{load_date}_{bin_size*10}ms_{9}bins_{num_iter}iter_auditory_real.npy')\n",
    "real_a_mean = np.mean(real_a, axis=0)\n",
    "shuffle_a = np.load(save_path / 'multi_to_uni' / 'shuffled' / f'{load_date}_{bin_size*10}ms_{9}bins_{num_iter}iter_auditory_shuffle.npy')\n",
    "shuffle_a_mean = np.mean(shuffle_a, axis=1)"
   ]
  },
  {
   "cell_type": "code",
   "execution_count": 105,
   "id": "7c09439a",
   "metadata": {},
   "outputs": [
    {
     "data": {
      "image/png": "[encoded data removed]",
      "text/plain": [
       "<Figure size 400x400 with 1 Axes>"
      ]
     },
     "metadata": {},
     "output_type": "display_data"
    }
   ],
   "source": [
    "# contingency matrix for multi_to_visual\n",
    "fig,ax = plt.subplots(figsize=(4,4))\n",
    "\n",
    "ax.imshow(real_v_mean[:,:], cmap=plt.cm.get_cmap('Blues'));\n",
    "\n",
    "for m in range(2):\n",
    "    for l in range(2):\n",
    "        ax.text(m,l,'{:.2f}'.format(real_v_mean[l,m]),ha='center')\n",
    "        pval_crit = [np.percentile(shuffle_v_mean[:,l,m],95), np.percentile(shuffle_v_mean[:,l,m],99),\n",
    "                     np.percentile(shuffle_v_mean[:,l,m],99.9), np.percentile(shuffle_v_mean[:,l,m],99.99)]\n",
    "        if real_v_mean[l,m] > pval_crit[3]:\n",
    "            ax.text(m,l+0.2,'***', ha='center', color='white')        \n",
    "        elif real_v_mean[l,m] > pval_crit[2]:\n",
    "            ax.text(m,l+0.2,'***', ha='center', color='white')\n",
    "        elif real_v_mean[l,m] > pval_crit[1]:\n",
    "            ax.text(m,l+0.2,'**', ha='center', color='white')\n",
    "        elif real_v_mean[l,m] > pval_crit[0]:\n",
    "            ax.text(m,l+0.2,'*', ha='center', color='white')\n",
    "\n",
    "ax.set_title('multimodal training & visual testing')\n",
    "ax.set_xlabel('Predicted object', fontsize=13)\n",
    "ax.set_ylabel('Actual object', fontsize=13)\n",
    "ax.set_xticks(np.arange(0,2))\n",
    "ax.set_xticklabels(['Boy', 'Egg']);\n",
    "ax.set_yticks(np.arange(0,2))\n",
    "ax.set_yticklabels(['Boy', 'Egg']);\n",
    "\n",
    "#plt.savefig(fig_path / 'svg' / 'confusion_generalization.svg')"
   ]
  },
  {
   "cell_type": "code",
   "execution_count": 104,
   "id": "1ed0503f",
   "metadata": {},
   "outputs": [
    {
     "data": {
      "image/png": "[encoded data removed]",
      "text/plain": [
       "<Figure size 400x400 with 1 Axes>"
      ]
     },
     "metadata": {},
     "output_type": "display_data"
    }
   ],
   "source": [
    "# contingency matrix for multi_to_auditory\n",
    "fig,ax = plt.subplots(figsize=(4,4))\n",
    "\n",
    "ax.imshow(real_a_mean[:,:], cmap=plt.cm.get_cmap('Blues'));\n",
    "\n",
    "for m in range(2):\n",
    "    for l in range(2):\n",
    "        ax.text(m,l,'{:.2f}'.format(real_a_mean[l,m]),ha='center')\n",
    "        pval_crit = [np.percentile(shuffle_a_mean[:,l,m],95), np.percentile(shuffle_a_mean[:,l,m],99),\n",
    "                     np.percentile(shuffle_a_mean[:,l,m],99.9), np.percentile(shuffle_a_mean[:,l,m],99.99)]\n",
    "        if real_a_mean[l,m] > pval_crit[3]:\n",
    "            ax.text(m,l+0.2,'****', ha='center', color='white')        \n",
    "        elif real_a_mean[l,m] > pval_crit[2]:\n",
    "            ax.text(m,l+0.2,'***', ha='center', color='white')\n",
    "        elif real_a_mean[l,m] > pval_crit[1]:\n",
    "            ax.text(m,l+0.2,'**', ha='center', color='white')\n",
    "        elif real_a_mean[l,m] > pval_crit[0]:\n",
    "            ax.text(m,l+0.2,'*', ha='center', color='white')\n",
    "\n",
    "ax.set_title('multimodal training & auditory testing')\n",
    "ax.set_xlabel('Predicted object', fontsize=13)\n",
    "ax.set_ylabel('Actual object', fontsize=13)\n",
    "ax.set_xticks(np.arange(0,2))\n",
    "ax.set_xticklabels(['Boy', 'Egg']);\n",
    "ax.set_yticks(np.arange(0,2))\n",
    "ax.set_yticklabels(['Boy', 'Egg']);\n",
    "\n",
    "#plt.savefig(fig_path / 'svg' / 'confusion_generalization.svg')"
   ]
  }
 ],
 "metadata": {
  "kernelspec": {
   "display_name": "Python 3 (ipykernel)",
   "language": "python",
   "name": "python3"
  },
  "language_info": {
   "codemirror_mode": {
    "name": "ipython",
    "version": 3
   },
   "file_extension": ".py",
   "mimetype": "text/x-python",
   "name": "python",
   "nbconvert_exporter": "python",
   "pygments_lexer": "ipython3",
   "version": "3.11.5"
  }
 },
 "nbformat": 4,
 "nbformat_minor": 5
}
