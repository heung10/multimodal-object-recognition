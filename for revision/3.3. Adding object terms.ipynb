{
 "cells": [
  {
   "cell_type": "markdown",
   "id": "c2d4f156",
   "metadata": {},
   "source": [
    "## The effect of adding object terms in the multiple linear regression model\n",
    "This code will compare model performance and multicollinearity after adding object terms (e.g., 1 for boy and 0 for others)"
   ]
  },
  {
   "cell_type": "code",
   "execution_count": 3,
   "id": "6ef091ff",
   "metadata": {},
   "outputs": [],
   "source": [
    "import os\n",
    "from pathlib import Path\n",
    "import numpy as np\n",
    "import pandas as pd\n",
    "\n",
    "from scipy import stats\n",
    "from scipy.stats.mstats import zscore\n",
    "\n",
    "from scipy.ndimage import gaussian_filter\n",
    "from statsmodels.regression.linear_model import OLS\n",
    "from statsmodels.tools import add_constant\n",
    "\n",
    "import pingouin as pg\n",
    "\n",
    "import matplotlib as mpl\n",
    "import matplotlib.pyplot as plt  \n",
    "\n",
    "import seaborn as sns\n",
    "\n",
    "from datetime import date\n",
    "import time\n",
    "\n",
    "import random\n",
    "\n",
    "from joblib import Parallel, delayed\n",
    "\n",
    "import h5py"
   ]
  },
  {
   "cell_type": "code",
   "execution_count": 4,
   "id": "a2efd57f",
   "metadata": {},
   "outputs": [],
   "source": [
    "# no top and right spines in all plots\n",
    "mpl.rcParams['axes.spines.right'] = False\n",
    "mpl.rcParams['axes.spines.top'] = False"
   ]
  },
  {
   "cell_type": "code",
   "execution_count": 5,
   "id": "75d558bd",
   "metadata": {},
   "outputs": [],
   "source": [
    "mother_path = Path('D:/Multi-modal project/')"
   ]
  },
  {
   "cell_type": "markdown",
   "id": "c9d779bc",
   "metadata": {},
   "source": [
    "### Parameter setting"
   ]
  },
  {
   "cell_type": "code",
   "execution_count": 6,
   "id": "80036cec",
   "metadata": {},
   "outputs": [],
   "source": [
    "num_iter = 1000\n",
    "\n",
    "gauss_sigma = 2\n",
    "\n",
    "# colors for multimodal, visual, auditory, control conditions\n",
    "color = ['tab:purple','tab:blue','tab:red','tab:green']\n",
    "color2 = ['cyan','magenta','brown']\n",
    "linestyle = ['-',':']\n",
    "\n",
    "today = str(date.today())"
   ]
  },
  {
   "cell_type": "markdown",
   "id": "74ff06dc",
   "metadata": {},
   "source": [
    "### Data preparation"
   ]
  },
  {
   "cell_type": "code",
   "execution_count": 9,
   "id": "ee283c52",
   "metadata": {},
   "outputs": [],
   "source": [
    "# selectivity data\n",
    "data_path = mother_path /'analysis'/'result'/'3. ANOVA'/'2023-07-10'\n",
    "f = h5py.File(data_path/'2023-07-10_ANOVA_result.hdf5','r')\n",
    "\n",
    "# regression data (standard)\n",
    "data1_path = mother_path /'analysis'/'result'/'3.1 Multiple linear regression'/'2023-07-10'\n",
    "f1 = h5py.File(data1_path/'2023-07-10_multiple_regression_result.hdf5','r')\n",
    "\n",
    "# regression data (aligned to response end)\n",
    "data2_path = mother_path /'analysis'/'result'/'3.1 Multiple linear regression'/'2024-03-01'\n",
    "f2 = h5py.File(data2_path/'2024-03-01_multiple_regression_result.hdf5','r')"
   ]
  },
  {
   "cell_type": "markdown",
   "id": "e0fbe3cd",
   "metadata": {},
   "source": [
    "### Data analysis"
   ]
  },
  {
   "cell_type": "code",
   "execution_count": 13,
   "id": "db3e8f0e",
   "metadata": {},
   "outputs": [],
   "source": [
    "def h5_to_df(f):\n",
    "    keys = list(f.keys())\n",
    "    attributes = {}\n",
    "    \n",
    "    for key in keys:\n",
    "        attributes[key] = dict(f[key].attrs.items())\n",
    "    \n",
    "    df = pd.DataFrame.from_dict(attributes, orient='index')\n",
    "    df.index.name = 'key'\n",
    "    df = df.reset_index()\n",
    "    \n",
    "    return df"
   ]
  },
  {
   "cell_type": "code",
   "execution_count": null,
   "id": "91d18c6e-85ea-41a4-acea-712b35749f64",
   "metadata": {},
   "outputs": [],
   "source": [
    "df = h5_to_df(f1)\n",
    "df = df1[(df1['region']=='PER')]\n",
    "df.reset_index(inplace=True,drop=True)\n",
    "\n",
    "for key in df['key']:    \n",
    "    df.loc[df1['key']==key,'pref_obj'] = f[key].attrs['preferred object']\n",
    "    df.loc[df1['key']==key,'peak_selectivity'] = np.max(f[f'{key}/anova_eta'])  \n",
    "    df.loc[df1['key']==key,'peak_selectivity_time'] = f[key].attrs['peak selectivity time']\n",
    "    df.loc[df1['key']==key,'selectivity_duration'] = len(f[f'{key}/object_bin'])*10\n",
    "    df.loc[df1['key']==key,'selectivity_onset'] = np.min(f[f'{key}/object_bin'])*10\n",
    "    df.loc[df1['key']==key,'selectivity_index'] = np.abs(f[key].attrs['selectivity index'])\n",
    "            \n",
    "df['peak_selectivity_time_range'] = (df['peak_selectivity_time'] // 100) + 1\n",
    "df['selectivity_onset_range'] = (df['peak_selectivity_time'] // 100) + 1\n",
    "\n",
    "for i in range(len(df1)):\n",
    "    if df.loc[i,'peak_selectivity_time'] < 200:\n",
    "        df.loc[i,'peak_selectivity_time_range2'] = 0\n",
    "    elif 200 <= df.loc[i,'peak_selectivity_time'] < 400:\n",
    "        df.loc[i,'peak_selectivity_time_range2'] = 1\n",
    "    elif 400 <= df.loc[i,'peak_selectivity_time'] < 650:\n",
    "        df.loc[i,'peak_selectivity_time_range2'] = 2\n",
    "    elif 650 <= df.loc[i,'peak_selectivity_time'] < 900:\n",
    "        df.loc[i,'peak_selectivity_time_range2'] = 3"
   ]
  },
  {
   "cell_type": "markdown",
   "id": "f38b1ba5-b99f-4400-b123-3273c20269b1",
   "metadata": {},
   "source": [
    "### Comparing the model comparison metrics after adding object terms\n",
    "AIC, BIC, r-squared, adjusted r-suqared will be compared between two models"
   ]
  },
  {
   "cell_type": "code",
   "execution_count": 37,
   "id": "05e1e4b9-2a88-4486-8f83-9882a3a1e21c",
   "metadata": {},
   "outputs": [],
   "source": [
    "for i in range(len(df)):\n",
    "    key = df.loc[i, 'key']\n",
    "    df.loc[i, 'AIC'] = f2[f'{key}/basic/AIC'][()]\n",
    "    df.loc[i, 'BIC'] = f2[f'{key}/basic/BIC'][()]\n",
    "    df.loc[i, 'rsquared'] = f2[f'{key}/basic/rsquared'][()]\n",
    "    df.loc[i, 'rsquared_adj'] = f2[f'{key}/basic/rsquared_adj'][()]\n",
    "\n",
    "    df.loc[i, 'AIC_obj'] = f2[f'{key}/object/AIC'][()]\n",
    "    df.loc[i, 'BIC_obj'] = f2[f'{key}/object/BIC'][()]\n",
    "    df.loc[i, 'rsquared_obj'] = f2[f'{key}/object/rsquared'][()]\n",
    "    df.loc[i, 'rsquared_adj_obj'] = f2[f'{key}/object/rsquared_adj'][()]"
   ]
  },
  {
   "cell_type": "code",
   "execution_count": 62,
   "id": "950abdc5-fc2c-4b59-bdc8-1c061dbc92f9",
   "metadata": {},
   "outputs": [
    {
     "data": {
      "text/html": [
       "<div>\n",
       "<style scoped>\n",
       "    .dataframe tbody tr th:only-of-type {\n",
       "        vertical-align: middle;\n",
       "    }\n",
       "\n",
       "    .dataframe tbody tr th {\n",
       "        vertical-align: top;\n",
       "    }\n",
       "\n",
       "    .dataframe thead th {\n",
       "        text-align: right;\n",
       "    }\n",
       "</style>\n",
       "<table border=\"1\" class=\"dataframe\">\n",
       "  <thead>\n",
       "    <tr style=\"text-align: right;\">\n",
       "      <th></th>\n",
       "      <th>T</th>\n",
       "      <th>dof</th>\n",
       "      <th>alternative</th>\n",
       "      <th>p-val</th>\n",
       "      <th>CI95%</th>\n",
       "      <th>cohen-d</th>\n",
       "      <th>BF10</th>\n",
       "      <th>power</th>\n",
       "    </tr>\n",
       "  </thead>\n",
       "  <tbody>\n",
       "    <tr>\n",
       "      <th>T-test</th>\n",
       "      <td>-6.131894</td>\n",
       "      <td>148</td>\n",
       "      <td>two-sided</td>\n",
       "      <td>7.526725e-09</td>\n",
       "      <td>[-1.72, -0.88]</td>\n",
       "      <td>0.024976</td>\n",
       "      <td>1.3e+06</td>\n",
       "      <td>0.060575</td>\n",
       "    </tr>\n",
       "  </tbody>\n",
       "</table>\n",
       "</div>"
      ],
      "text/plain": [
       "               T  dof alternative         p-val           CI95%   cohen-d  \\\n",
       "T-test -6.131894  148   two-sided  7.526725e-09  [-1.72, -0.88]  0.024976   \n",
       "\n",
       "           BF10     power  \n",
       "T-test  1.3e+06  0.060575  "
      ]
     },
     "execution_count": 62,
     "metadata": {},
     "output_type": "execute_result"
    },
    {
     "data": {
      "image/png": "[encoded data removed]",
      "text/plain": [
       "<Figure size 300x300 with 1 Axes>"
      ]
     },
     "metadata": {},
     "output_type": "display_data"
    }
   ],
   "source": [
    "fig, ax = plt.subplots(figsize=(3,3))\n",
    "\n",
    "x = ['before', 'after']\n",
    "y = df.loc[df['response cell']==0,['AIC', 'AIC_obj']].mean()\n",
    "yerr = df.loc[df['response cell']==0,['AIC', 'AIC_obj']].sem()\n",
    "ax.bar(x=x, height=y)\n",
    "ax.errorbar(x=x, y=y, yerr=yerr, fmt='none', color='black')\n",
    "ax.set_ylabel('AIC')\n",
    "\n",
    "pg.ttest(df.loc[df['response cell']==0, 'AIC'], df.loc[df['response cell']==0, 'AIC_obj'], paired=True)"
   ]
  },
  {
   "cell_type": "code",
   "execution_count": 50,
   "id": "3fdc2591-73e7-442f-bb4e-c0f05e3ea22b",
   "metadata": {},
   "outputs": [
    {
     "data": {
      "image/png": "[encoded data removed]",
      "text/plain": [
       "<Figure size 300x300 with 1 Axes>"
      ]
     },
     "metadata": {},
     "output_type": "display_data"
    },
    {
     "data": {
      "text/html": [
       "<div>\n",
       "<style scoped>\n",
       "    .dataframe tbody tr th:only-of-type {\n",
       "        vertical-align: middle;\n",
       "    }\n",
       "\n",
       "    .dataframe tbody tr th {\n",
       "        vertical-align: top;\n",
       "    }\n",
       "\n",
       "    .dataframe thead th {\n",
       "        text-align: right;\n",
       "    }\n",
       "</style>\n",
       "<table border=\"1\" class=\"dataframe\">\n",
       "  <thead>\n",
       "    <tr style=\"text-align: right;\">\n",
       "      <th></th>\n",
       "      <th>T</th>\n",
       "      <th>dof</th>\n",
       "      <th>alternative</th>\n",
       "      <th>p-val</th>\n",
       "      <th>CI95%</th>\n",
       "      <th>cohen-d</th>\n",
       "      <th>BF10</th>\n",
       "      <th>power</th>\n",
       "    </tr>\n",
       "  </thead>\n",
       "  <tbody>\n",
       "    <tr>\n",
       "      <th>T-test</th>\n",
       "      <td>-36.046504</td>\n",
       "      <td>148</td>\n",
       "      <td>two-sided</td>\n",
       "      <td>3.598187e-75</td>\n",
       "      <td>[-7.91, -7.09]</td>\n",
       "      <td>0.142263</td>\n",
       "      <td>3.031e+71</td>\n",
       "      <td>0.407338</td>\n",
       "    </tr>\n",
       "  </tbody>\n",
       "</table>\n",
       "</div>"
      ],
      "text/plain": [
       "                T  dof alternative         p-val           CI95%   cohen-d  \\\n",
       "T-test -36.046504  148   two-sided  3.598187e-75  [-7.91, -7.09]  0.142263   \n",
       "\n",
       "             BF10     power  \n",
       "T-test  3.031e+71  0.407338  "
      ]
     },
     "execution_count": 50,
     "metadata": {},
     "output_type": "execute_result"
    }
   ],
   "source": [
    "fig, ax = plt.subplots(figsize=(3,3))\n",
    "\n",
    "x = ['before', 'after']\n",
    "y = df.loc[df['response cell']==0,['BIC', 'BIC_obj']].mean()\n",
    "yerr = df.loc[df['response cell']==0,['BIC', 'BIC_obj']].sem()\n",
    "ax.bar(x=x, height=y)\n",
    "ax.errorbar(x=x, y=y, yerr=yerr, fmt='none', color='black')\n",
    "ax.set_ylabel('BIC')\n",
    "\n",
    "plt.show()\n",
    "\n",
    "pg.ttest(df.loc[df['response cell']==0, 'BIC'], df.loc[df['response cell']==0, 'BIC_obj'], paired=True)"
   ]
  },
  {
   "cell_type": "code",
   "execution_count": 51,
   "id": "1e20fa1f-ca6b-49af-9ea7-863fae2f83e9",
   "metadata": {},
   "outputs": [
    {
     "data": {
      "image/png": "[encoded data removed]",
      "text/plain": [
       "<Figure size 300x300 with 1 Axes>"
      ]
     },
     "metadata": {},
     "output_type": "display_data"
    },
    {
     "data": {
      "text/html": [
       "<div>\n",
       "<style scoped>\n",
       "    .dataframe tbody tr th:only-of-type {\n",
       "        vertical-align: middle;\n",
       "    }\n",
       "\n",
       "    .dataframe tbody tr th {\n",
       "        vertical-align: top;\n",
       "    }\n",
       "\n",
       "    .dataframe thead th {\n",
       "        text-align: right;\n",
       "    }\n",
       "</style>\n",
       "<table border=\"1\" class=\"dataframe\">\n",
       "  <thead>\n",
       "    <tr style=\"text-align: right;\">\n",
       "      <th></th>\n",
       "      <th>T</th>\n",
       "      <th>dof</th>\n",
       "      <th>alternative</th>\n",
       "      <th>p-val</th>\n",
       "      <th>CI95%</th>\n",
       "      <th>cohen-d</th>\n",
       "      <th>BF10</th>\n",
       "      <th>power</th>\n",
       "    </tr>\n",
       "  </thead>\n",
       "  <tbody>\n",
       "    <tr>\n",
       "      <th>T-test</th>\n",
       "      <td>-13.543695</td>\n",
       "      <td>148</td>\n",
       "      <td>two-sided</td>\n",
       "      <td>1.077555e-27</td>\n",
       "      <td>[-0.02, -0.01]</td>\n",
       "      <td>0.163153</td>\n",
       "      <td>3.276e+24</td>\n",
       "      <td>0.507477</td>\n",
       "    </tr>\n",
       "  </tbody>\n",
       "</table>\n",
       "</div>"
      ],
      "text/plain": [
       "                T  dof alternative         p-val           CI95%   cohen-d  \\\n",
       "T-test -13.543695  148   two-sided  1.077555e-27  [-0.02, -0.01]  0.163153   \n",
       "\n",
       "             BF10     power  \n",
       "T-test  3.276e+24  0.507477  "
      ]
     },
     "execution_count": 51,
     "metadata": {},
     "output_type": "execute_result"
    }
   ],
   "source": [
    "fig, ax = plt.subplots(figsize=(3,3))\n",
    "\n",
    "x = ['before', 'after']\n",
    "y = df.loc[df['response cell']==0,['rsquared', 'rsquared_obj']].mean()\n",
    "yerr = df.loc[df['response cell']==0,['rsquared', 'rsquared_obj']].sem()\n",
    "ax.bar(x=x, height=y)\n",
    "ax.errorbar(x=x, y=y, yerr=yerr, fmt='none', color='black')\n",
    "ax.set_ylabel('R-squared')\n",
    "\n",
    "plt.show()\n",
    "\n",
    "pg.ttest(df.loc[df['response cell']==0, 'rsquared'], df.loc[df['response cell']==0, 'rsquared_obj'], paired=True)"
   ]
  },
  {
   "cell_type": "code",
   "execution_count": 63,
   "id": "2f888c0f-0622-48e3-a8bb-acfb6c87d4ac",
   "metadata": {},
   "outputs": [
    {
     "data": {
      "image/png": "[encoded data removed]",
      "text/plain": [
       "<Figure size 300x300 with 1 Axes>"
      ]
     },
     "metadata": {},
     "output_type": "display_data"
    },
    {
     "data": {
      "text/html": [
       "<div>\n",
       "<style scoped>\n",
       "    .dataframe tbody tr th:only-of-type {\n",
       "        vertical-align: middle;\n",
       "    }\n",
       "\n",
       "    .dataframe tbody tr th {\n",
       "        vertical-align: top;\n",
       "    }\n",
       "\n",
       "    .dataframe thead th {\n",
       "        text-align: right;\n",
       "    }\n",
       "</style>\n",
       "<table border=\"1\" class=\"dataframe\">\n",
       "  <thead>\n",
       "    <tr style=\"text-align: right;\">\n",
       "      <th></th>\n",
       "      <th>T</th>\n",
       "      <th>dof</th>\n",
       "      <th>alternative</th>\n",
       "      <th>p-val</th>\n",
       "      <th>CI95%</th>\n",
       "      <th>cohen-d</th>\n",
       "      <th>BF10</th>\n",
       "      <th>power</th>\n",
       "    </tr>\n",
       "  </thead>\n",
       "  <tbody>\n",
       "    <tr>\n",
       "      <th>T-test</th>\n",
       "      <td>-2.608949</td>\n",
       "      <td>148</td>\n",
       "      <td>two-sided</td>\n",
       "      <td>0.010014</td>\n",
       "      <td>[-0.01, -0.0]</td>\n",
       "      <td>0.032128</td>\n",
       "      <td>2.393</td>\n",
       "      <td>0.067566</td>\n",
       "    </tr>\n",
       "  </tbody>\n",
       "</table>\n",
       "</div>"
      ],
      "text/plain": [
       "               T  dof alternative     p-val          CI95%   cohen-d   BF10  \\\n",
       "T-test -2.608949  148   two-sided  0.010014  [-0.01, -0.0]  0.032128  2.393   \n",
       "\n",
       "           power  \n",
       "T-test  0.067566  "
      ]
     },
     "execution_count": 63,
     "metadata": {},
     "output_type": "execute_result"
    }
   ],
   "source": [
    "fig, ax = plt.subplots(figsize=(3,3))\n",
    "\n",
    "x = ['before', 'after']\n",
    "y = df.loc[df['response cell']==0,['rsquared_adj', 'rsquared_adj_obj']].mean()\n",
    "yerr = df.loc[df['response cell']==0,['rsquared_adj', 'rsquared_adj_obj']].sem()\n",
    "ax.bar(x=x, height=y)\n",
    "ax.errorbar(x=x, y=y, yerr=yerr, fmt='none', color='black')\n",
    "ax.set_ylabel('Adjusted R-squared')\n",
    "\n",
    "plt.show()\n",
    "\n",
    "pg.ttest(df.loc[df['response cell']==0, 'rsquared_adj'], df.loc[df['response cell']==0, 'rsquared_adj_obj'], paired=True)"
   ]
  },
  {
   "cell_type": "code",
   "execution_count": 68,
   "id": "d2e47148-9b28-4bab-a2af-106b1aeffa2f",
   "metadata": {},
   "outputs": [
    {
     "data": {
      "image/png": "[encoded data removed]",
      "text/plain": [
       "<Figure size 300x300 with 1 Axes>"
      ]
     },
     "metadata": {},
     "output_type": "display_data"
    },
    {
     "data": {
      "text/html": [
       "<div>\n",
       "<style scoped>\n",
       "    .dataframe tbody tr th:only-of-type {\n",
       "        vertical-align: middle;\n",
       "    }\n",
       "\n",
       "    .dataframe tbody tr th {\n",
       "        vertical-align: top;\n",
       "    }\n",
       "\n",
       "    .dataframe thead th {\n",
       "        text-align: right;\n",
       "    }\n",
       "</style>\n",
       "<table border=\"1\" class=\"dataframe\">\n",
       "  <thead>\n",
       "    <tr style=\"text-align: right;\">\n",
       "      <th></th>\n",
       "      <th>W-val</th>\n",
       "      <th>alternative</th>\n",
       "      <th>p-val</th>\n",
       "      <th>RBC</th>\n",
       "      <th>CLES</th>\n",
       "    </tr>\n",
       "  </thead>\n",
       "  <tbody>\n",
       "    <tr>\n",
       "      <th>Wilcoxon</th>\n",
       "      <td>4937.0</td>\n",
       "      <td>two-sided</td>\n",
       "      <td>0.218019</td>\n",
       "      <td>-0.116421</td>\n",
       "      <td>0.488086</td>\n",
       "    </tr>\n",
       "  </tbody>\n",
       "</table>\n",
       "</div>"
      ],
      "text/plain": [
       "           W-val alternative     p-val       RBC      CLES\n",
       "Wilcoxon  4937.0   two-sided  0.218019 -0.116421  0.488086"
      ]
     },
     "execution_count": 68,
     "metadata": {},
     "output_type": "execute_result"
    }
   ],
   "source": [
    "fig, ax = plt.subplots(figsize=(3,3))\n",
    "\n",
    "sns.boxplot(data=df.loc[df['response cell'] == 0, ['rsquared_adj', 'rsquared_adj_obj']], ax=ax)\n",
    "#ax.set_ylabel('Adjusted R-squared')\n",
    "\n",
    "plt.show()\n",
    "\n",
    "pg.wilcoxon(df.loc[df['response cell']==0, 'rsquared_adj'], df.loc[df['response cell']==0, 'rsquared_adj_obj'])"
   ]
  },
  {
   "cell_type": "markdown",
   "id": "af8ec60e-5bf5-41bd-9c57-045c7bdfc141",
   "metadata": {},
   "source": [
    "### Comparing the multicollinearity after adding the object terms\n",
    "Using variance inflation factors (VIFs)"
   ]
  },
  {
   "cell_type": "code",
   "execution_count": 80,
   "id": "86ed0e1e-6728-464f-9bad-e2eead85d804",
   "metadata": {},
   "outputs": [],
   "source": [
    "# VIF data preparation\n",
    "for i in range(len(df)):\n",
    "    key = df.loc[i, 'key']\n",
    "    if df.loc[i, 'pref_obj'] == 'Boy':\n",
    "        \n",
    "        df.loc[i, 'VIF_beta1'] = f2[f'{key}/basic/VIF'][1]\n",
    "        df.loc[i, 'VIF_beta1_obj'] = f2[f'{key}/object/VIF'][2]\n",
    "        \n",
    "        df.loc[i, 'VIF_beta2'] = f2[f'{key}/basic/VIF'][2]\n",
    "        df.loc[i, 'VIF_beta2_obj'] = f2[f'{key}/object/VIF'][3]\n",
    "        \n",
    "        df.loc[i, 'VIF_max'] = np.max(f2[f'{key}/basic/VIF'])\n",
    "        df.loc[i, 'VIF_obj'] = f2[f'{key}/object/VIF'][1]\n",
    "        \n",
    "    elif df.loc[i, 'pref_obj'] == 'Egg':\n",
    "        \n",
    "        df.loc[i, 'VIF_beta1'] = f2[f'{key}/basic/VIF'][3]\n",
    "        df.loc[i, 'VIF_beta1_obj'] = f2[f'{key}/object/VIF'][5]\n",
    "        \n",
    "        df.loc[i, 'VIF_beta2'] = f2[f'{key}/basic/VIF'][4]\n",
    "        df.loc[i, 'VIF_beta2_obj'] = f2[f'{key}/object/VIF'][6]\n",
    "        \n",
    "        df.loc[i, 'VIF_max'] = np.max(f2[f'{key}/basic/VIF'])\n",
    "        df.loc[i, 'VIF_obj'] = f2[f'{key}/object/VIF'][4]"
   ]
  },
  {
   "cell_type": "code",
   "execution_count": 90,
   "id": "ebef962f-1355-4f39-8adb-525ed25dfc66",
   "metadata": {},
   "outputs": [
    {
     "data": {
      "image/png": "[encoded data removed]",
      "text/plain": [
       "<Figure size 400x300 with 2 Axes>"
      ]
     },
     "metadata": {},
     "output_type": "display_data"
    },
    {
     "name": "stdout",
     "output_type": "stream",
     "text": [
      "==================== beta1 ====================\n",
      "          W-val alternative         p-val  RBC  CLES\n",
      "Wilcoxon    0.0   two-sided  3.347423e-26 -1.0   0.0\n",
      "\n",
      "==================== beta2 ====================\n",
      "          W-val alternative         p-val  RBC  CLES\n",
      "Wilcoxon    0.0   two-sided  3.347423e-26 -1.0   0.0\n"
     ]
    }
   ],
   "source": [
    "# comparing VIFs of beta1 and beta2\n",
    "fig, ax = plt.subplots(1,2,figsize=(4,3))\n",
    "\n",
    "sns.boxplot(data=df.loc[df['response cell'] == 0, ['VIF_beta1', 'VIF_beta1_obj']], ax=ax[0])\n",
    "ax[0].set_ylabel('VIF')\n",
    "ax[0].set_title('beta1')\n",
    "ax[0].set_xticks([0, 1])\n",
    "ax[0].set_xticklabels(['before', 'after'])\n",
    "\n",
    "sns.boxplot(data=df.loc[df['response cell'] == 0, ['VIF_beta2', 'VIF_beta2_obj']], ax=ax[1])\n",
    "ax[1].set_ylabel('VIF')\n",
    "ax[1].set_title('beta2')\n",
    "ax[1].set_xticks([0, 1])\n",
    "ax[1].set_xticklabels(['before', 'after'])\n",
    "\n",
    "plt.tight_layout()\n",
    "plt.show()\n",
    "\n",
    "vif_beta1 = pg.wilcoxon(df.loc[df['response cell']==0, 'VIF_beta1'], df.loc[df['response cell']==0, 'VIF_beta1_obj'])\n",
    "vif_beta2 = pg.wilcoxon(df.loc[df['response cell']==0, 'VIF_beta2'], df.loc[df['response cell']==0, 'VIF_beta2_obj'])\n",
    "\n",
    "print('==================== beta1 ====================')\n",
    "print(vif_beta1)\n",
    "print('')\n",
    "print('==================== beta2 ====================')\n",
    "print(vif_beta2)"
   ]
  },
  {
   "cell_type": "code",
   "execution_count": 70,
   "id": "1eff888f-d550-45e9-abe8-ae4020fddb1f",
   "metadata": {},
   "outputs": [],
   "source": [
    "# comparing the maximum VIFs in the previous model and the VIF of newly added object terms\n",
    "# comparing VIFs of beta1 and beta2\n",
    "fig, ax = plt.subplots(1,2,figsize=(4,3))\n",
    "\n",
    "sns.boxplot(data=df.loc[df['response cell'] == 0, ['VIF_max', 'VIF_object']], ax=ax[0])\n",
    "ax[0].set_ylabel('VIF')\n",
    "ax[0].set_title('beta1')\n",
    "ax[0].set_xticks([0, 1])\n",
    "ax[0].set_xticklabels(['before', 'after'])\n",
    "\n",
    "sns.boxplot(data=df.loc[df['response cell'] == 0, ['VIF_max', 'VIF_object']], ax=ax[1])\n",
    "ax[1].set_ylabel('VIF')\n",
    "ax[1].set_title('beta2')\n",
    "ax[1].set_xticks([0, 1])\n",
    "ax[1].set_xticklabels(['before', 'after'])\n",
    "\n",
    "plt.tight_layout()\n",
    "plt.show()\n",
    "\n",
    "vif_beta1 = pg.wilcoxon(df.loc[df['response cell']==0, 'VIF_beta1'], df.loc[df['response cell']==0, 'VIF_beta1_obj'])\n",
    "vif_beta2 = pg.wilcoxon(df.loc[df['response cell']==0, 'VIF_beta2'], df.loc[df['response cell']==0, 'VIF_beta2_obj'])\n",
    "\n",
    "print('==================== beta1 ====================')\n",
    "print(vif_beta1)\n",
    "print('')\n",
    "print('==================== beta2 ====================')\n",
    "print(vif_beta2)"
   ]
  }
 ],
 "metadata": {
  "kernelspec": {
   "display_name": "Python 3 (ipykernel)",
   "language": "python",
   "name": "python3"
  },
  "language_info": {
   "codemirror_mode": {
    "name": "ipython",
    "version": 3
   },
   "file_extension": ".py",
   "mimetype": "text/x-python",
   "name": "python",
   "nbconvert_exporter": "python",
   "pygments_lexer": "ipython3",
   "version": "3.11.5"
  }
 },
 "nbformat": 4,
 "nbformat_minor": 5
}
