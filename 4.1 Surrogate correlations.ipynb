{
 "cells": [
  {
   "cell_type": "code",
   "execution_count": 1,
   "id": "6ef091ff",
   "metadata": {},
   "outputs": [],
   "source": [
    "import os\n",
    "import numpy as np\n",
    "import pandas as pd\n",
    "\n",
    "from scipy import stats\n",
    "from scipy.ndimage import gaussian_filter\n",
    "from scipy.signal import find_peaks\n",
    "\n",
    "import pingouin\n",
    "\n",
    "import matplotlib as mpl\n",
    "import matplotlib.pyplot as plt  \n",
    "import seaborn as sns\n",
    "\n",
    "from datetime import date\n",
    "import random"
   ]
  },
  {
   "cell_type": "code",
   "execution_count": 2,
   "id": "a2efd57f",
   "metadata": {},
   "outputs": [],
   "source": [
    "# no top and right spines in all plots\n",
    "mpl.rcParams['axes.spines.right'] = False\n",
    "mpl.rcParams['axes.spines.top'] = False"
   ]
  },
  {
   "cell_type": "code",
   "execution_count": 3,
   "id": "75d558bd",
   "metadata": {},
   "outputs": [],
   "source": [
    "mother_path = 'D:/Multi-modal project/'\n",
    "save_path = mother_path+'analysis/result/4.1. Surrogate correlations/'"
   ]
  },
  {
   "cell_type": "markdown",
   "id": "c9d779bc",
   "metadata": {},
   "source": [
    "### Parameter setting"
   ]
  },
  {
   "cell_type": "code",
   "execution_count": 4,
   "id": "80036cec",
   "metadata": {},
   "outputs": [],
   "source": [
    "sig_alpha = 0.01\n",
    "sig_cohend = 0.4\n",
    "cons_bin_crit = 5\n",
    "\n",
    "gauss_sigma = 2\n",
    "gauss_on = True\n",
    "\n",
    "only_PER = False   # analyze only PER neurons?\n",
    "\n",
    "condition = ['Multimodal','Visual','Auditory','Control']\n",
    " # colors for multimodal, vis-only, aud-only conditions\n",
    "colorpalette = ['mediumorchid','cornflowerblue','lightcoral','gray']\n",
    "\n",
    "cat = ['M','V','A','MV','MA','VA','MVA','None']\n",
    "\n",
    "today = str(date.today())"
   ]
  },
  {
   "cell_type": "markdown",
   "id": "74ff06dc",
   "metadata": {},
   "source": [
    "### Data preparation"
   ]
  },
  {
   "cell_type": "code",
   "execution_count": 5,
   "id": "e42dba14",
   "metadata": {},
   "outputs": [],
   "source": [
    "cell_path = mother_path+'analysis/result/zFR export/13-Apr-2022 (5 trials)/'\n",
    "\n",
    "data_path = mother_path+'analysis/result/3. Item-selectivity/2023-01-09/'\n",
    "df = pd.read_csv(data_path+'2023-01-09_item-selectivity.csv')\n",
    "os.chdir(data_path)\n",
    "\n",
    "# analyze only PER neurons\n",
    "if only_PER == True:\n",
    "    df = df[df['Region']=='PER']\n",
    "    df.reset_index(inplace=True,drop=True)\n",
    "df.insert(4,'Cat','')\n",
    "\n",
    "for i in range(len(df)):\n",
    "    cat_info = ''\n",
    "    if df.loc[i,'M_sig'] == 1:\n",
    "        cat_info += 'M'\n",
    "    if df.loc[i,'V_sig'] == 1:\n",
    "        cat_info += 'V'\n",
    "    if df.loc[i,'A_sig'] == 1:\n",
    "        cat_info += 'A'\n",
    "    if cat_info=='':\n",
    "        df.loc[i,'Cat'] = 'None'\n",
    "    else:\n",
    "        df.loc[i,'Cat'] = cat_info"
   ]
  },
  {
   "cell_type": "code",
   "execution_count": 6,
   "id": "e7206f61",
   "metadata": {},
   "outputs": [],
   "source": [
    "os.chdir(data_path)\n",
    "Binary_M = pd.read_csv('Binary_M.csv')\n",
    "Binary_V = pd.read_csv('Binary_V.csv')\n",
    "Binary_A = pd.read_csv('Binary_A.csv')\n",
    "Binary_C = pd.read_csv('Binary_C.csv')\n",
    "\n",
    "Cohend_M = pd.read_csv('Cohend_M.csv')\n",
    "Cohend_V = pd.read_csv('Cohend_V.csv')\n",
    "Cohend_A = pd.read_csv('Cohend_A.csv')\n",
    "Cohend_C = pd.read_csv('Cohend_C.csv')"
   ]
  },
  {
   "cell_type": "code",
   "execution_count": 7,
   "id": "522e8ee6",
   "metadata": {},
   "outputs": [],
   "source": [
    "# empty list for result csv file\n",
    "result=[]"
   ]
  },
  {
   "cell_type": "markdown",
   "id": "e0fbe3cd",
   "metadata": {},
   "source": [
    "### Surrogate correlations\n",
    "to get surrogate distribution of object-selective correlations by randomly selecting M or V or A cells and calculating correlations between them."
   ]
  },
  {
   "cell_type": "code",
   "execution_count": 126,
   "id": "99863ba1",
   "metadata": {},
   "outputs": [],
   "source": [
    "def shuffle_and_corr(cond):\n",
    "    if cond=='MV':\n",
    "        r1 = random.choice(df[df.Cat=='M'].Key.values)\n",
    "        r2 = random.choice(df[df.Cat=='V'].Key.values)\n",
    "        \n",
    "        b1 = Binary_M.loc[Binary_M.iloc[:,0]==r1].iloc[:,1:].values[0]\n",
    "        b2 = Binary_V.loc[Binary_V.iloc[:,0]==r2].iloc[:,1:].values[0]\n",
    "        \n",
    "        c1 = Cohend_M.loc[Cohend_M.iloc[:,0]==r1].iloc[:,2:].values[0]\n",
    "        c2 = Cohend_V.loc[Cohend_V.iloc[:,0]==r2].iloc[:,2:].values[0]\n",
    "    elif cond=='MA':\n",
    "        r1 = random.choice(df[df.Cat=='M'].Key.values)\n",
    "        r2 = random.choice(df[df.Cat=='A'].Key.values)\n",
    "        \n",
    "        b1 = Binary_M.loc[Binary_M.iloc[:,0]==r1].iloc[:,1:].values[0]\n",
    "        b2 = Binary_A.loc[Binary_A.iloc[:,0]==r2].iloc[:,1:].values[0]\n",
    "        \n",
    "        c1 = Cohend_M.loc[Cohend_M.iloc[:,0]==r1].iloc[:,2:].values[0]\n",
    "        c2 = Cohend_A.loc[Cohend_A.iloc[:,0]==r2].iloc[:,2:].values[0]\n",
    "    elif cond=='VA':\n",
    "        r1 = random.choice(df[df.Cat=='V'].Key.values)\n",
    "        r2 = random.choice(df[df.Cat=='A'].Key.values)\n",
    "        \n",
    "        b1 = Binary_V.loc[Binary_V.iloc[:,0]==r1].iloc[:,1:].values[0]\n",
    "        b2 = Binary_A.loc[Binary_A.iloc[:,0]==r2].iloc[:,1:].values[0]\n",
    "        \n",
    "        c1 = Cohend_V.loc[Cohend_V.iloc[:,0]==r1].iloc[:,2:].values[0]\n",
    "        c2 = Cohend_A.loc[Cohend_A.iloc[:,0]==r2].iloc[:,2:].values[0]\n",
    "        \n",
    "    c1[b1==0] = 0\n",
    "    c2[b2==0] = 0\n",
    "    \n",
    "    result = stats.kendalltau(c1,c2)[0]\n",
    "    #result = stats.pearsonr(c1,c2)[0]\n",
    "    \n",
    "    return result"
   ]
  },
  {
   "cell_type": "code",
   "execution_count": 127,
   "id": "490a2235",
   "metadata": {},
   "outputs": [
    {
     "name": "stdout",
     "output_type": "stream",
     "text": [
      "shuffle run = 1 / M-V = 0.50 / M-A = 0.51 / V-A = 0.50\n",
      "shuffle run = 2 / M-V = 0.47 / M-A = 0.53 / V-A = 0.54\n",
      "shuffle run = 3 / M-V = 0.51 / M-A = 0.48 / V-A = 0.50\n",
      "shuffle run = 4 / M-V = 0.55 / M-A = 0.51 / V-A = 0.52\n",
      "shuffle run = 5 / M-V = 0.51 / M-A = 0.53 / V-A = 0.48\n",
      "shuffle run = 6 / M-V = 0.54 / M-A = 0.51 / V-A = 0.48\n",
      "shuffle run = 7 / M-V = 0.50 / M-A = 0.47 / V-A = 0.48\n",
      "shuffle run = 8 / M-V = 0.55 / M-A = 0.50 / V-A = 0.48\n",
      "shuffle run = 9 / M-V = 0.49 / M-A = 0.48 / V-A = 0.51\n",
      "shuffle run = 10 / M-V = 0.51 / M-A = 0.49 / V-A = 0.46\n",
      "shuffle run = 11 / M-V = 0.48 / M-A = 0.52 / V-A = 0.44\n",
      "shuffle run = 12 / M-V = 0.44 / M-A = 0.48 / V-A = 0.50\n",
      "shuffle run = 13 / M-V = 0.51 / M-A = 0.53 / V-A = 0.48\n",
      "shuffle run = 14 / M-V = 0.51 / M-A = 0.46 / V-A = 0.45\n",
      "shuffle run = 15 / M-V = 0.49 / M-A = 0.52 / V-A = 0.51\n",
      "shuffle run = 16 / M-V = 0.45 / M-A = 0.54 / V-A = 0.52\n",
      "shuffle run = 17 / M-V = 0.49 / M-A = 0.52 / V-A = 0.47\n",
      "shuffle run = 18 / M-V = 0.44 / M-A = 0.58 / V-A = 0.50\n",
      "shuffle run = 19 / M-V = 0.47 / M-A = 0.44 / V-A = 0.54\n",
      "shuffle run = 20 / M-V = 0.51 / M-A = 0.48 / V-A = 0.48\n",
      "shuffle run = 21 / M-V = 0.49 / M-A = 0.53 / V-A = 0.50\n",
      "shuffle run = 22 / M-V = 0.51 / M-A = 0.49 / V-A = 0.49\n",
      "shuffle run = 23 / M-V = 0.51 / M-A = 0.47 / V-A = 0.46\n",
      "shuffle run = 24 / M-V = 0.48 / M-A = 0.52 / V-A = 0.50\n",
      "shuffle run = 25 / M-V = 0.50 / M-A = 0.52 / V-A = 0.50\n",
      "shuffle run = 26 / M-V = 0.50 / M-A = 0.49 / V-A = 0.48\n",
      "shuffle run = 27 / M-V = 0.52 / M-A = 0.46 / V-A = 0.53\n",
      "shuffle run = 28 / M-V = 0.49 / M-A = 0.51 / V-A = 0.51\n",
      "shuffle run = 29 / M-V = 0.48 / M-A = 0.49 / V-A = 0.48\n",
      "shuffle run = 30 / M-V = 0.50 / M-A = 0.47 / V-A = 0.46\n",
      "shuffle run = 31 / M-V = 0.45 / M-A = 0.53 / V-A = 0.48\n",
      "shuffle run = 32 / M-V = 0.51 / M-A = 0.50 / V-A = 0.50\n",
      "shuffle run = 33 / M-V = 0.43 / M-A = 0.51 / V-A = 0.50\n",
      "shuffle run = 34 / M-V = 0.47 / M-A = 0.50 / V-A = 0.49\n",
      "shuffle run = 35 / M-V = 0.51 / M-A = 0.52 / V-A = 0.47\n",
      "shuffle run = 36 / M-V = 0.49 / M-A = 0.49 / V-A = 0.52\n",
      "shuffle run = 37 / M-V = 0.55 / M-A = 0.50 / V-A = 0.55\n",
      "shuffle run = 38 / M-V = 0.48 / M-A = 0.52 / V-A = 0.52\n",
      "shuffle run = 39 / M-V = 0.45 / M-A = 0.50 / V-A = 0.49\n",
      "shuffle run = 40 / M-V = 0.51 / M-A = 0.55 / V-A = 0.51\n",
      "shuffle run = 41 / M-V = 0.47 / M-A = 0.51 / V-A = 0.46\n",
      "shuffle run = 42 / M-V = 0.44 / M-A = 0.47 / V-A = 0.52\n",
      "shuffle run = 43 / M-V = 0.49 / M-A = 0.49 / V-A = 0.48\n",
      "shuffle run = 44 / M-V = 0.53 / M-A = 0.47 / V-A = 0.48\n",
      "shuffle run = 45 / M-V = 0.51 / M-A = 0.51 / V-A = 0.46\n",
      "shuffle run = 46 / M-V = 0.47 / M-A = 0.47 / V-A = 0.48\n",
      "CPU times: total: 6min 23s\n",
      "Wall time: 6min 39s\n"
     ]
    }
   ],
   "source": [
    "%%time\n",
    "flag = 1\n",
    "count = 0\n",
    "while flag == 1:\n",
    "    num_shuffle = 1000\n",
    "    surr_corr = np.zeros((num_shuffle,3))\n",
    "\n",
    "    for i in range(num_shuffle):\n",
    "        surr_corr[i,0] = shuffle_and_corr('MV')\n",
    "        surr_corr[i,1] = shuffle_and_corr('MA')\n",
    "        surr_corr[i,2] = shuffle_and_corr('VA')\n",
    "        \n",
    "    corr_crit = [np.percentile(surr_corr[:,0],95),\n",
    "                 np.percentile(surr_corr[:,1],95),\n",
    "                 np.percentile(surr_corr[:,2],95)]\n",
    "    \n",
    "    if max(corr_crit)<0.48:\n",
    "        flag = 0\n",
    "        \n",
    "    count +=1\n",
    "    print(f'shuffle run = {count} / M-V = {corr_crit[0]:.2f} / M-A = {corr_crit[1]:.2f} / V-A = {corr_crit[2]:.2f}')"
   ]
  },
  {
   "cell_type": "code",
   "execution_count": 128,
   "id": "0e0ae2de",
   "metadata": {},
   "outputs": [
    {
     "name": "stdout",
     "output_type": "stream",
     "text": [
      "M-V correlation (>95%) = 0.4732391598646934\n",
      "M-A correlation (>95%) = 0.4746449088336034\n",
      "V-A correlation (>95%) = 0.4776058356554091\n"
     ]
    }
   ],
   "source": [
    "# display the significant level of correlation\n",
    "print('M-V correlation (>95%) = ' +str(np.percentile(surr_corr[:,0],95)))\n",
    "print('M-A correlation (>95%) = ' +str(np.percentile(surr_corr[:,1],95)))\n",
    "print('V-A correlation (>95%) = ' +str(np.percentile(surr_corr[:,2],95)))"
   ]
  },
  {
   "cell_type": "code",
   "execution_count": 95,
   "id": "3ad48471",
   "metadata": {},
   "outputs": [
    {
     "data": {
      "text/html": [
       "<div>\n",
       "<style scoped>\n",
       "    .dataframe tbody tr th:only-of-type {\n",
       "        vertical-align: middle;\n",
       "    }\n",
       "\n",
       "    .dataframe tbody tr th {\n",
       "        vertical-align: top;\n",
       "    }\n",
       "\n",
       "    .dataframe thead th {\n",
       "        text-align: right;\n",
       "    }\n",
       "</style>\n",
       "<table border=\"1\" class=\"dataframe\">\n",
       "  <thead>\n",
       "    <tr style=\"text-align: right;\">\n",
       "      <th></th>\n",
       "      <th>M-V corr</th>\n",
       "      <th>M-A corr</th>\n",
       "      <th>V-A corr</th>\n",
       "    </tr>\n",
       "  </thead>\n",
       "  <tbody>\n",
       "    <tr>\n",
       "      <th>0</th>\n",
       "      <td>-0.506775</td>\n",
       "      <td>0.001919</td>\n",
       "      <td>0.373951</td>\n",
       "    </tr>\n",
       "    <tr>\n",
       "      <th>1</th>\n",
       "      <td>-0.132492</td>\n",
       "      <td>0.142833</td>\n",
       "      <td>-0.206475</td>\n",
       "    </tr>\n",
       "    <tr>\n",
       "      <th>2</th>\n",
       "      <td>0.131790</td>\n",
       "      <td>-0.083933</td>\n",
       "      <td>0.130423</td>\n",
       "    </tr>\n",
       "    <tr>\n",
       "      <th>3</th>\n",
       "      <td>0.145863</td>\n",
       "      <td>-0.069475</td>\n",
       "      <td>0.242224</td>\n",
       "    </tr>\n",
       "    <tr>\n",
       "      <th>4</th>\n",
       "      <td>-0.191463</td>\n",
       "      <td>0.079659</td>\n",
       "      <td>-0.097300</td>\n",
       "    </tr>\n",
       "  </tbody>\n",
       "</table>\n",
       "</div>"
      ],
      "text/plain": [
       "   M-V corr  M-A corr  V-A corr\n",
       "0 -0.506775  0.001919  0.373951\n",
       "1 -0.132492  0.142833 -0.206475\n",
       "2  0.131790 -0.083933  0.130423\n",
       "3  0.145863 -0.069475  0.242224\n",
       "4 -0.191463  0.079659 -0.097300"
      ]
     },
     "execution_count": 95,
     "metadata": {},
     "output_type": "execute_result"
    }
   ],
   "source": [
    "surr_corr = pd.DataFrame(surr_corr)\n",
    "surr_corr.rename(columns={0:'M-V corr',1:'M-A corr',2:'V-A corr'},inplace=True)\n",
    "surr_corr.head(5)"
   ]
  },
  {
   "cell_type": "code",
   "execution_count": 11,
   "id": "a9f1f41a",
   "metadata": {},
   "outputs": [],
   "source": [
    "# export surrogate correlations to CSV\n",
    "if os.path.exists(save_path+str(date.today())) is False:\n",
    "    os.makedirs(save_path+str(date.today()))    \n",
    "\n",
    "surr_corr.to_csv(save_path+str(date.today())+'/abc.csv',index=False)"
   ]
  }
 ],
 "metadata": {
  "kernelspec": {
   "display_name": "Python 3 (ipykernel)",
   "language": "python",
   "name": "python3"
  },
  "language_info": {
   "codemirror_mode": {
    "name": "ipython",
    "version": 3
   },
   "file_extension": ".py",
   "mimetype": "text/x-python",
   "name": "python",
   "nbconvert_exporter": "python",
   "pygments_lexer": "ipython3",
   "version": "3.9.12"
  }
 },
 "nbformat": 4,
 "nbformat_minor": 5
}
